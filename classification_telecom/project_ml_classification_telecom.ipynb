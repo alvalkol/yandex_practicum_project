{
 "cells": [
  {
   "cell_type": "markdown",
   "metadata": {},
   "source": [
    "# Рекомендация тарифов"
   ]
  },
  {
   "cell_type": "markdown",
   "metadata": {},
   "source": [
    "В вашем распоряжении данные о поведении клиентов, которые уже перешли на эти тарифы (из проекта курса «Статистический анализ данных»). Нужно построить модель для задачи классификации, которая выберет подходящий тариф.\n",
    "\n",
    "Постройте модель с максимально большим значением *accuracy*."
   ]
  },
  {
   "cell_type": "markdown",
   "metadata": {},
   "source": [
    "## Откройте и изучите файл"
   ]
  },
  {
   "cell_type": "code",
   "execution_count": 1,
   "metadata": {},
   "outputs": [],
   "source": [
    "import pandas as pd\n",
    "import math as mt\n",
    "import numpy as np\n",
    "from sklearn.model_selection import train_test_split\n",
    "from sklearn.tree import DecisionTreeClassifier\n",
    "from sklearn.ensemble import RandomForestClassifier\n",
    "from sklearn.linear_model import LogisticRegression\n",
    "from sklearn.metrics import accuracy_score\n",
    "from sklearn.dummy import DummyClassifier\n",
    "\n",
    "import warnings\n",
    "warnings.filterwarnings('ignore')"
   ]
  },
  {
   "cell_type": "code",
   "execution_count": 2,
   "metadata": {},
   "outputs": [
    {
     "name": "stdout",
     "output_type": "stream",
     "text": [
      "<class 'pandas.core.frame.DataFrame'>\n",
      "RangeIndex: 3214 entries, 0 to 3213\n",
      "Data columns (total 5 columns):\n",
      "calls       3214 non-null float64\n",
      "minutes     3214 non-null float64\n",
      "messages    3214 non-null float64\n",
      "mb_used     3214 non-null float64\n",
      "is_ultra    3214 non-null int64\n",
      "dtypes: float64(4), int64(1)\n",
      "memory usage: 125.7 KB\n"
     ]
    },
    {
     "data": {
      "text/html": [
       "<div>\n",
       "<style scoped>\n",
       "    .dataframe tbody tr th:only-of-type {\n",
       "        vertical-align: middle;\n",
       "    }\n",
       "\n",
       "    .dataframe tbody tr th {\n",
       "        vertical-align: top;\n",
       "    }\n",
       "\n",
       "    .dataframe thead th {\n",
       "        text-align: right;\n",
       "    }\n",
       "</style>\n",
       "<table border=\"1\" class=\"dataframe\">\n",
       "  <thead>\n",
       "    <tr style=\"text-align: right;\">\n",
       "      <th></th>\n",
       "      <th>calls</th>\n",
       "      <th>minutes</th>\n",
       "      <th>messages</th>\n",
       "      <th>mb_used</th>\n",
       "      <th>is_ultra</th>\n",
       "    </tr>\n",
       "  </thead>\n",
       "  <tbody>\n",
       "    <tr>\n",
       "      <td>0</td>\n",
       "      <td>40.0</td>\n",
       "      <td>311.90</td>\n",
       "      <td>83.0</td>\n",
       "      <td>19915.42</td>\n",
       "      <td>0</td>\n",
       "    </tr>\n",
       "    <tr>\n",
       "      <td>1</td>\n",
       "      <td>85.0</td>\n",
       "      <td>516.75</td>\n",
       "      <td>56.0</td>\n",
       "      <td>22696.96</td>\n",
       "      <td>0</td>\n",
       "    </tr>\n",
       "    <tr>\n",
       "      <td>2</td>\n",
       "      <td>77.0</td>\n",
       "      <td>467.66</td>\n",
       "      <td>86.0</td>\n",
       "      <td>21060.45</td>\n",
       "      <td>0</td>\n",
       "    </tr>\n",
       "    <tr>\n",
       "      <td>3</td>\n",
       "      <td>106.0</td>\n",
       "      <td>745.53</td>\n",
       "      <td>81.0</td>\n",
       "      <td>8437.39</td>\n",
       "      <td>1</td>\n",
       "    </tr>\n",
       "    <tr>\n",
       "      <td>4</td>\n",
       "      <td>66.0</td>\n",
       "      <td>418.74</td>\n",
       "      <td>1.0</td>\n",
       "      <td>14502.75</td>\n",
       "      <td>0</td>\n",
       "    </tr>\n",
       "  </tbody>\n",
       "</table>\n",
       "</div>"
      ],
      "text/plain": [
       "   calls  minutes  messages   mb_used  is_ultra\n",
       "0   40.0   311.90      83.0  19915.42         0\n",
       "1   85.0   516.75      56.0  22696.96         0\n",
       "2   77.0   467.66      86.0  21060.45         0\n",
       "3  106.0   745.53      81.0   8437.39         1\n",
       "4   66.0   418.74       1.0  14502.75         0"
      ]
     },
     "metadata": {},
     "output_type": "display_data"
    },
    {
     "data": {
      "text/plain": [
       "None"
      ]
     },
     "metadata": {},
     "output_type": "display_data"
    },
    {
     "data": {
      "text/html": [
       "<div>\n",
       "<style scoped>\n",
       "    .dataframe tbody tr th:only-of-type {\n",
       "        vertical-align: middle;\n",
       "    }\n",
       "\n",
       "    .dataframe tbody tr th {\n",
       "        vertical-align: top;\n",
       "    }\n",
       "\n",
       "    .dataframe thead th {\n",
       "        text-align: right;\n",
       "    }\n",
       "</style>\n",
       "<table border=\"1\" class=\"dataframe\">\n",
       "  <thead>\n",
       "    <tr style=\"text-align: right;\">\n",
       "      <th></th>\n",
       "      <th>calls</th>\n",
       "      <th>minutes</th>\n",
       "      <th>messages</th>\n",
       "      <th>mb_used</th>\n",
       "      <th>is_ultra</th>\n",
       "    </tr>\n",
       "  </thead>\n",
       "  <tbody>\n",
       "    <tr>\n",
       "      <td>count</td>\n",
       "      <td>3214.000000</td>\n",
       "      <td>3214.000000</td>\n",
       "      <td>3214.000000</td>\n",
       "      <td>3214.000000</td>\n",
       "      <td>3214.000000</td>\n",
       "    </tr>\n",
       "    <tr>\n",
       "      <td>mean</td>\n",
       "      <td>63.038892</td>\n",
       "      <td>438.208787</td>\n",
       "      <td>38.281269</td>\n",
       "      <td>17207.673836</td>\n",
       "      <td>0.306472</td>\n",
       "    </tr>\n",
       "    <tr>\n",
       "      <td>std</td>\n",
       "      <td>33.236368</td>\n",
       "      <td>234.569872</td>\n",
       "      <td>36.148326</td>\n",
       "      <td>7570.968246</td>\n",
       "      <td>0.461100</td>\n",
       "    </tr>\n",
       "    <tr>\n",
       "      <td>min</td>\n",
       "      <td>0.000000</td>\n",
       "      <td>0.000000</td>\n",
       "      <td>0.000000</td>\n",
       "      <td>0.000000</td>\n",
       "      <td>0.000000</td>\n",
       "    </tr>\n",
       "    <tr>\n",
       "      <td>25%</td>\n",
       "      <td>40.000000</td>\n",
       "      <td>274.575000</td>\n",
       "      <td>9.000000</td>\n",
       "      <td>12491.902500</td>\n",
       "      <td>0.000000</td>\n",
       "    </tr>\n",
       "    <tr>\n",
       "      <td>50%</td>\n",
       "      <td>62.000000</td>\n",
       "      <td>430.600000</td>\n",
       "      <td>30.000000</td>\n",
       "      <td>16943.235000</td>\n",
       "      <td>0.000000</td>\n",
       "    </tr>\n",
       "    <tr>\n",
       "      <td>75%</td>\n",
       "      <td>82.000000</td>\n",
       "      <td>571.927500</td>\n",
       "      <td>57.000000</td>\n",
       "      <td>21424.700000</td>\n",
       "      <td>1.000000</td>\n",
       "    </tr>\n",
       "    <tr>\n",
       "      <td>max</td>\n",
       "      <td>244.000000</td>\n",
       "      <td>1632.060000</td>\n",
       "      <td>224.000000</td>\n",
       "      <td>49745.730000</td>\n",
       "      <td>1.000000</td>\n",
       "    </tr>\n",
       "  </tbody>\n",
       "</table>\n",
       "</div>"
      ],
      "text/plain": [
       "             calls      minutes     messages       mb_used     is_ultra\n",
       "count  3214.000000  3214.000000  3214.000000   3214.000000  3214.000000\n",
       "mean     63.038892   438.208787    38.281269  17207.673836     0.306472\n",
       "std      33.236368   234.569872    36.148326   7570.968246     0.461100\n",
       "min       0.000000     0.000000     0.000000      0.000000     0.000000\n",
       "25%      40.000000   274.575000     9.000000  12491.902500     0.000000\n",
       "50%      62.000000   430.600000    30.000000  16943.235000     0.000000\n",
       "75%      82.000000   571.927500    57.000000  21424.700000     1.000000\n",
       "max     244.000000  1632.060000   224.000000  49745.730000     1.000000"
      ]
     },
     "metadata": {},
     "output_type": "display_data"
    },
    {
     "data": {
      "text/plain": [
       "calls       0\n",
       "minutes     0\n",
       "messages    0\n",
       "mb_used     0\n",
       "is_ultra    0\n",
       "dtype: int64"
      ]
     },
     "metadata": {},
     "output_type": "display_data"
    }
   ],
   "source": [
    "df = pd.read_csv('/datasets/users_behavior.csv')\n",
    "\n",
    "display(df.head(), df.info(), df.describe(), df.isna().sum())"
   ]
  },
  {
   "cell_type": "markdown",
   "metadata": {},
   "source": [
    "### Вывод"
   ]
  },
  {
   "cell_type": "markdown",
   "metadata": {},
   "source": [
    "- В данных нет пропусков.\n",
    "- Значения в столбце 'minutes' округлены в большую сторону, по правилам оператора\n",
    "- Замены типы данных в столбцах 'calls', 'messages', 'minutes'"
   ]
  },
  {
   "cell_type": "markdown",
   "metadata": {},
   "source": [
    "## Разбейте данные на выборки"
   ]
  },
  {
   "cell_type": "code",
   "execution_count": 3,
   "metadata": {},
   "outputs": [],
   "source": [
    "features = df.drop(['is_ultra'], axis=1)\n",
    "target = df['is_ultra']\n",
    "\n",
    "# Выделяем тестовую выбоку - 20% от всех данных\n",
    "features_train, features_test, target_train, target_test = train_test_split(\n",
    "    features, target, test_size=0.2, random_state=12345)\n",
    "\n",
    "# выделяем валидационную выборку из обучающей выборки - 20% от всех данных, но уже из 80% данных\n",
    "features_train, features_valid, target_train, target_valid = train_test_split(\n",
    "    features_train, target_train, test_size=0.25, random_state=12345)"
   ]
  },
  {
   "cell_type": "markdown",
   "metadata": {},
   "source": [
    "- Исходные данные были поделены на обучающие - 60%, валидационные - 20% и тестовые - 20%"
   ]
  },
  {
   "cell_type": "code",
   "execution_count": 4,
   "metadata": {},
   "outputs": [
    {
     "data": {
      "text/plain": [
       "((1928, 4), (643, 4), (643, 4))"
      ]
     },
     "execution_count": 4,
     "metadata": {},
     "output_type": "execute_result"
    }
   ],
   "source": [
    "features_train.shape, features_valid.shape, features_test.shape"
   ]
  },
  {
   "cell_type": "markdown",
   "metadata": {},
   "source": [
    "## Исследуйте модели"
   ]
  },
  {
   "cell_type": "markdown",
   "metadata": {},
   "source": [
    "### Дерево решений"
   ]
  },
  {
   "cell_type": "code",
   "execution_count": 5,
   "metadata": {},
   "outputs": [
    {
     "name": "stdout",
     "output_type": "stream",
     "text": [
      "Accuracy лучшей модели: 0.7744945567651633\n",
      "Max_depth: 7\n"
     ]
    }
   ],
   "source": [
    "# обучение модели и проверка качества на валидационной выборке\n",
    "best_model_tree = None\n",
    "best_result = 0\n",
    "best_depth = 0\n",
    "for depth in range(1, 20):\n",
    "    model = DecisionTreeClassifier(random_state=12345, max_depth=depth) \n",
    "    model.fit(features_train, target_train)\n",
    "    predictions = model.predict(features_valid)\n",
    "    result = accuracy_score(target_valid, predictions)\n",
    "    if result > best_result:\n",
    "        best_model_tree = model\n",
    "        best_result = result\n",
    "        best_depth = depth\n",
    "print(\"Accuracy лучшей модели:\", best_result)\n",
    "print(\"Max_depth:\", best_depth)"
   ]
  },
  {
   "cell_type": "markdown",
   "metadata": {},
   "source": [
    "### Случайный лес"
   ]
  },
  {
   "cell_type": "code",
   "execution_count": 6,
   "metadata": {},
   "outputs": [
    {
     "name": "stdout",
     "output_type": "stream",
     "text": [
      "Accuracy наилучшей модели на валидационной выборке: 0.7884914463452566\n",
      "n_estimators: 10\n"
     ]
    }
   ],
   "source": [
    "best_model_forest = None\n",
    "best_result = 0\n",
    "best_est = 0\n",
    "for est in range(1, 11):\n",
    "    model = RandomForestClassifier(random_state=12345, n_estimators=est)\n",
    "    model.fit(features_train, target_train)\n",
    "    result = model.score(features_valid, target_valid)\n",
    "    if result > best_result:\n",
    "        best_model_forest = model\n",
    "        best_result = result\n",
    "        best_est = est\n",
    "\n",
    "print(\"Accuracy наилучшей модели на валидационной выборке:\", best_result)\n",
    "print(\"n_estimators:\", best_est)"
   ]
  },
  {
   "cell_type": "markdown",
   "metadata": {},
   "source": [
    "### Логистическая регрессия"
   ]
  },
  {
   "cell_type": "code",
   "execution_count": 7,
   "metadata": {},
   "outputs": [
    {
     "name": "stdout",
     "output_type": "stream",
     "text": [
      "Accuracy модели логистической регрессии на валидационной выборке: 0.6967340590979783\n"
     ]
    }
   ],
   "source": [
    "model_log_regres = LogisticRegression(random_state=12345)\n",
    "model_log_regres.fit(features_train, target_train)\n",
    "result = model_log_regres.score(features_valid, target_valid)\n",
    "\n",
    "print(\"Accuracy модели логистической регрессии на валидационной выборке:\", result)"
   ]
  },
  {
   "cell_type": "markdown",
   "metadata": {},
   "source": [
    "### Вывод"
   ]
  },
  {
   "cell_type": "markdown",
   "metadata": {},
   "source": [
    "- Была проведена проверка качества моделей на валидационной выборке.\n",
    "- Для дерева решений оптимальные значения: max_depth = 5, accuracy = 0.774.\n",
    "- Для случайного леса оптимальные значения: n_estimators = 10, accuracy = 0.788.\n",
    "- Для логистической регрессии оптимальное значение: accuracy = 0.697.\n",
    "\n",
    "<b> - Модель случайного леса показала лучшей результат качества и выше минимально необходимого: 0.75"
   ]
  },
  {
   "cell_type": "markdown",
   "metadata": {},
   "source": [
    "## Проверьте модель на тестовой выборке"
   ]
  },
  {
   "cell_type": "code",
   "execution_count": 8,
   "metadata": {},
   "outputs": [],
   "source": [
    "def test_model(model_name, test_data, target_data):\n",
    "    \n",
    "    \"\"\"Функция выводит значение качества модели при проверке на тестовой выборке\"\"\"\n",
    "    \n",
    "    predictions = model_name.predict(test_data)\n",
    "    result_test = accuracy_score(target_data, predictions)\n",
    "    print(\"Accuracy модели:\", result_test)"
   ]
  },
  {
   "cell_type": "code",
   "execution_count": 9,
   "metadata": {},
   "outputs": [
    {
     "name": "stdout",
     "output_type": "stream",
     "text": [
      "Accuracy модели: 0.7884914463452566\n"
     ]
    }
   ],
   "source": [
    "test_model(best_model_tree, features_test, target_test)"
   ]
  },
  {
   "cell_type": "code",
   "execution_count": 10,
   "metadata": {},
   "outputs": [
    {
     "name": "stdout",
     "output_type": "stream",
     "text": [
      "Accuracy модели: 0.7869362363919129\n"
     ]
    }
   ],
   "source": [
    "test_model(best_model_forest, features_test, target_test)"
   ]
  },
  {
   "cell_type": "code",
   "execution_count": 11,
   "metadata": {},
   "outputs": [
    {
     "name": "stdout",
     "output_type": "stream",
     "text": [
      "Accuracy модели: 0.702954898911353\n"
     ]
    }
   ],
   "source": [
    "test_model(model_log_regres, features_test, target_test)"
   ]
  },
  {
   "cell_type": "markdown",
   "metadata": {},
   "source": [
    "- Качество модолеей дерева решений и случайного леса практически одинаковы на тестовой выборке и больше 0.75. Модель логистичекой регресси значительно отстаёт, почти на 9%."
   ]
  },
  {
   "cell_type": "markdown",
   "metadata": {},
   "source": [
    "## (бонус) Проверьте модели на адекватность"
   ]
  },
  {
   "cell_type": "code",
   "execution_count": 12,
   "metadata": {},
   "outputs": [],
   "source": [
    "from sklearn.metrics import confusion_matrix"
   ]
  },
  {
   "cell_type": "code",
   "execution_count": 13,
   "metadata": {},
   "outputs": [
    {
     "data": {
      "text/html": [
       "<div>\n",
       "<style scoped>\n",
       "    .dataframe tbody tr th:only-of-type {\n",
       "        vertical-align: middle;\n",
       "    }\n",
       "\n",
       "    .dataframe tbody tr th {\n",
       "        vertical-align: top;\n",
       "    }\n",
       "\n",
       "    .dataframe thead th {\n",
       "        text-align: right;\n",
       "    }\n",
       "</style>\n",
       "<table border=\"1\" class=\"dataframe\">\n",
       "  <thead>\n",
       "    <tr style=\"text-align: right;\">\n",
       "      <th></th>\n",
       "      <th>tn</th>\n",
       "      <th>fp</th>\n",
       "      <th>fn</th>\n",
       "      <th>tp</th>\n",
       "    </tr>\n",
       "  </thead>\n",
       "  <tbody>\n",
       "    <tr>\n",
       "      <td>best_model_tree</td>\n",
       "      <td>421</td>\n",
       "      <td>26</td>\n",
       "      <td>110</td>\n",
       "      <td>86</td>\n",
       "    </tr>\n",
       "    <tr>\n",
       "      <td>best_model_forest</td>\n",
       "      <td>406</td>\n",
       "      <td>41</td>\n",
       "      <td>96</td>\n",
       "      <td>100</td>\n",
       "    </tr>\n",
       "    <tr>\n",
       "      <td>model_log_regres</td>\n",
       "      <td>443</td>\n",
       "      <td>4</td>\n",
       "      <td>187</td>\n",
       "      <td>9</td>\n",
       "    </tr>\n",
       "  </tbody>\n",
       "</table>\n",
       "</div>"
      ],
      "text/plain": [
       "                    tn  fp   fn   tp\n",
       "best_model_tree    421  26  110   86\n",
       "best_model_forest  406  41   96  100\n",
       "model_log_regres   443   4  187    9"
      ]
     },
     "execution_count": 13,
     "metadata": {},
     "output_type": "execute_result"
    }
   ],
   "source": [
    "t_n = []\n",
    "f_p = []\n",
    "f_n = []\n",
    "t_p = []\n",
    "\n",
    "for model in [best_model_tree, best_model_forest, model_log_regres]:\n",
    "    predictions = model.predict(features_test)\n",
    "    tn, fp, fn, tp = confusion_matrix(target_test, predictions).ravel()\n",
    "    t_n.append(tn), f_p.append(fp), f_n.append(fn), t_p.append(tp)\n",
    "    \n",
    "matrix_data = {'tn': t_n, 'fp': f_p, 'fn': f_n, 'tp': t_p}\n",
    "pd.DataFrame(data=matrix_data, index=['best_model_tree', 'best_model_forest', 'model_log_regres'])"
   ]
  },
  {
   "cell_type": "markdown",
   "metadata": {},
   "source": [
    "- TP: True Positive: прогнозируемые значения, правильно прогнозируемые как фактические положительные\n",
    "- FP: Предсказанные значения неправильно предсказывают фактический положительный результат. т.е. отрицательные значения прогнозируются как положительные\n",
    "- FN: False Negative: положительные значения прогнозируются как отрицательные\n",
    "- TN: True Negative: прогнозируемые значения, правильно прогнозируемые как фактические негативные"
   ]
  },
  {
   "cell_type": "markdown",
   "metadata": {},
   "source": [
    "### Вывод"
   ]
  },
  {
   "cell_type": "markdown",
   "metadata": {},
   "source": [
    "- Общее качество моделей дерева решений и случайного леса почти одинаковое: 0.788.\n",
    "- Если же анализировать матрицу путаницы, то для модели случайного леса ошибки в предсказании тарифа \"Ультра\" в 2 раза выше чем у дерева решения. Т.е. дать неправильную рекомендацию по тарифу Ультра модель случайного леса может дать для 6 человек из 100, а дерево решений только для 3. Тариф Ультра дороже и значит может принести больше выручки."
   ]
  },
  {
   "cell_type": "code",
   "execution_count": 14,
   "metadata": {},
   "outputs": [
    {
     "name": "stdout",
     "output_type": "stream",
     "text": [
      "(array([0]), array([643])) 0.6951788491446346\n",
      "(array([1]), array([643])) 0.3048211508553655\n"
     ]
    }
   ],
   "source": [
    "X = best_model_tree.predict(features_test) # предсказания нашей модели\n",
    "y = target_test # фактическое значение целевого параметра\n",
    "\n",
    "for i in range(0, 2):\n",
    "    dummy_clf = DummyClassifier(strategy=\"constant\", constant=i)\n",
    "    dummy_clf.fit(X, y)\n",
    "    print(np.unique(dummy_clf.predict(X), return_counts=True), dummy_clf.score(X, y))"
   ]
  }
 ],
 "metadata": {
  "ExecuteTimeLog": [
   {
    "duration": 205,
    "start_time": "2022-03-02T05:21:32.746Z"
   },
   {
    "duration": 572,
    "start_time": "2022-03-02T05:21:54.720Z"
   },
   {
    "duration": 196,
    "start_time": "2022-03-02T05:21:57.728Z"
   },
   {
    "duration": 47,
    "start_time": "2022-03-02T05:22:09.424Z"
   },
   {
    "duration": 47,
    "start_time": "2022-03-02T05:22:18.616Z"
   },
   {
    "duration": 12,
    "start_time": "2022-03-02T05:37:34.925Z"
   },
   {
    "duration": 11,
    "start_time": "2022-03-02T05:38:26.088Z"
   },
   {
    "duration": 6,
    "start_time": "2022-03-02T05:39:03.352Z"
   },
   {
    "duration": 8,
    "start_time": "2022-03-02T05:39:17.680Z"
   },
   {
    "duration": 8,
    "start_time": "2022-03-02T05:47:07.335Z"
   },
   {
    "duration": 15,
    "start_time": "2022-03-02T05:47:37.516Z"
   },
   {
    "duration": 4071,
    "start_time": "2022-03-02T05:48:00.332Z"
   },
   {
    "duration": 4101,
    "start_time": "2022-03-02T05:48:08.749Z"
   },
   {
    "duration": 3945,
    "start_time": "2022-03-02T05:48:25.662Z"
   },
   {
    "duration": 11,
    "start_time": "2022-03-02T05:50:44.563Z"
   },
   {
    "duration": 4206,
    "start_time": "2022-03-02T05:51:55.291Z"
   },
   {
    "duration": 4,
    "start_time": "2022-03-02T05:52:06.634Z"
   },
   {
    "duration": 59,
    "start_time": "2022-03-02T05:52:06.640Z"
   },
   {
    "duration": 186,
    "start_time": "2022-03-02T05:52:08.467Z"
   },
   {
    "duration": 16,
    "start_time": "2022-03-02T05:53:00.418Z"
   },
   {
    "duration": 11,
    "start_time": "2022-03-02T05:55:23.017Z"
   },
   {
    "duration": 6,
    "start_time": "2022-03-02T05:55:44.137Z"
   },
   {
    "duration": 531,
    "start_time": "2022-03-02T06:33:08.105Z"
   },
   {
    "duration": 8,
    "start_time": "2022-03-02T06:33:09.648Z"
   },
   {
    "duration": 16,
    "start_time": "2022-03-02T06:33:18.048Z"
   },
   {
    "duration": 217,
    "start_time": "2022-03-02T06:35:04.519Z"
   },
   {
    "duration": 13,
    "start_time": "2022-03-02T06:35:09.087Z"
   },
   {
    "duration": 8,
    "start_time": "2022-03-02T06:35:54.630Z"
   },
   {
    "duration": 8,
    "start_time": "2022-03-02T06:37:39.543Z"
   },
   {
    "duration": 8,
    "start_time": "2022-03-02T06:37:55.301Z"
   },
   {
    "duration": 10,
    "start_time": "2022-03-02T06:41:52.604Z"
   },
   {
    "duration": 10,
    "start_time": "2022-03-02T06:41:57.531Z"
   },
   {
    "duration": 18,
    "start_time": "2022-03-02T06:42:19.940Z"
   },
   {
    "duration": 19,
    "start_time": "2022-03-02T06:52:04.039Z"
   },
   {
    "duration": 19,
    "start_time": "2022-03-02T06:54:13.214Z"
   },
   {
    "duration": 10,
    "start_time": "2022-03-02T07:01:27.612Z"
   },
   {
    "duration": 30,
    "start_time": "2022-03-02T07:24:03.736Z"
   },
   {
    "duration": 10,
    "start_time": "2022-03-02T07:24:05.742Z"
   },
   {
    "duration": 33,
    "start_time": "2022-03-02T07:25:10.816Z"
   },
   {
    "duration": 52,
    "start_time": "2022-03-02T07:25:44.486Z"
   },
   {
    "duration": 69,
    "start_time": "2022-03-02T07:25:58.902Z"
   },
   {
    "duration": 54,
    "start_time": "2022-03-02T07:28:48.438Z"
   },
   {
    "duration": 91,
    "start_time": "2022-03-02T07:29:18.356Z"
   },
   {
    "duration": 23,
    "start_time": "2022-03-02T07:38:27.753Z"
   },
   {
    "duration": 28,
    "start_time": "2022-03-02T07:38:54.640Z"
   },
   {
    "duration": 197,
    "start_time": "2022-03-02T07:39:27.224Z"
   },
   {
    "duration": 170,
    "start_time": "2022-03-02T07:39:38.392Z"
   },
   {
    "duration": 29,
    "start_time": "2022-03-02T07:40:09.128Z"
   },
   {
    "duration": 27,
    "start_time": "2022-03-02T07:49:21.569Z"
   },
   {
    "duration": 54,
    "start_time": "2022-03-02T07:51:41.452Z"
   },
   {
    "duration": 26,
    "start_time": "2022-03-02T07:51:47.324Z"
   },
   {
    "duration": 137,
    "start_time": "2022-03-02T07:51:53.386Z"
   },
   {
    "duration": 27,
    "start_time": "2022-03-02T07:51:58.866Z"
   },
   {
    "duration": 3,
    "start_time": "2022-03-02T07:55:23.441Z"
   },
   {
    "duration": 57,
    "start_time": "2022-03-02T07:55:23.446Z"
   },
   {
    "duration": 6,
    "start_time": "2022-03-02T07:55:23.505Z"
   },
   {
    "duration": 12,
    "start_time": "2022-03-02T07:55:23.513Z"
   },
   {
    "duration": 10,
    "start_time": "2022-03-02T07:55:23.527Z"
   },
   {
    "duration": 26,
    "start_time": "2022-03-02T07:55:23.539Z"
   },
   {
    "duration": 243,
    "start_time": "2022-03-02T07:55:24.986Z"
   },
   {
    "duration": 269,
    "start_time": "2022-03-02T07:55:52.433Z"
   },
   {
    "duration": 244,
    "start_time": "2022-03-02T07:55:59.368Z"
   },
   {
    "duration": 915,
    "start_time": "2022-03-02T07:57:58.312Z"
   },
   {
    "duration": 259,
    "start_time": "2022-03-02T07:58:08.743Z"
   },
   {
    "duration": 55,
    "start_time": "2022-03-02T07:58:21.343Z"
   },
   {
    "duration": 250,
    "start_time": "2022-03-02T07:58:29.751Z"
   },
   {
    "duration": 175,
    "start_time": "2022-03-02T08:01:28.574Z"
   },
   {
    "duration": 220,
    "start_time": "2022-03-02T08:01:42.087Z"
   },
   {
    "duration": 172,
    "start_time": "2022-03-02T08:02:09.869Z"
   },
   {
    "duration": 3,
    "start_time": "2022-03-02T08:02:17.213Z"
   },
   {
    "duration": 14,
    "start_time": "2022-03-02T08:03:12.773Z"
   },
   {
    "duration": 27,
    "start_time": "2022-03-02T08:08:52.539Z"
   },
   {
    "duration": 251,
    "start_time": "2022-03-02T08:09:07.186Z"
   },
   {
    "duration": 15,
    "start_time": "2022-03-02T08:09:45.891Z"
   },
   {
    "duration": 5,
    "start_time": "2022-03-02T08:25:59.259Z"
   },
   {
    "duration": 4,
    "start_time": "2022-03-02T08:26:25.689Z"
   },
   {
    "duration": 169,
    "start_time": "2022-03-02T08:28:01.497Z"
   },
   {
    "duration": 356,
    "start_time": "2022-03-02T08:28:26.106Z"
   },
   {
    "duration": 357,
    "start_time": "2022-03-02T08:29:13.353Z"
   },
   {
    "duration": 411,
    "start_time": "2022-03-02T08:29:18.408Z"
   },
   {
    "duration": 334,
    "start_time": "2022-03-02T08:30:20.975Z"
   },
   {
    "duration": 5,
    "start_time": "2022-03-02T08:32:30.974Z"
   },
   {
    "duration": 31,
    "start_time": "2022-03-02T08:32:34.302Z"
   },
   {
    "duration": 208,
    "start_time": "2022-03-02T08:33:16.190Z"
   },
   {
    "duration": 4,
    "start_time": "2022-03-02T08:34:00.871Z"
   },
   {
    "duration": 33,
    "start_time": "2022-03-02T08:34:05.126Z"
   },
   {
    "duration": 224,
    "start_time": "2022-03-02T08:34:07.414Z"
   },
   {
    "duration": 13,
    "start_time": "2022-03-02T08:34:44.330Z"
   },
   {
    "duration": 192,
    "start_time": "2022-03-03T05:48:55.916Z"
   },
   {
    "duration": 523,
    "start_time": "2022-03-03T05:49:05.504Z"
   },
   {
    "duration": 54,
    "start_time": "2022-03-03T05:49:06.029Z"
   },
   {
    "duration": 6,
    "start_time": "2022-03-03T05:49:06.087Z"
   },
   {
    "duration": 513,
    "start_time": "2022-03-03T05:49:06.095Z"
   },
   {
    "duration": 10,
    "start_time": "2022-03-03T05:49:06.610Z"
   },
   {
    "duration": 4,
    "start_time": "2022-03-03T05:49:06.621Z"
   },
   {
    "duration": 266,
    "start_time": "2022-03-03T05:49:06.627Z"
   },
   {
    "duration": -29,
    "start_time": "2022-03-03T05:49:06.924Z"
   },
   {
    "duration": -30,
    "start_time": "2022-03-03T05:49:06.926Z"
   },
   {
    "duration": -31,
    "start_time": "2022-03-03T05:49:06.928Z"
   },
   {
    "duration": -35,
    "start_time": "2022-03-03T05:49:06.933Z"
   },
   {
    "duration": -36,
    "start_time": "2022-03-03T05:49:06.935Z"
   },
   {
    "duration": 26,
    "start_time": "2022-03-03T05:50:19.445Z"
   },
   {
    "duration": 549,
    "start_time": "2022-03-03T05:50:35.091Z"
   },
   {
    "duration": 48,
    "start_time": "2022-03-03T05:50:35.642Z"
   },
   {
    "duration": 6,
    "start_time": "2022-03-03T05:50:35.694Z"
   },
   {
    "duration": 506,
    "start_time": "2022-03-03T05:50:35.701Z"
   },
   {
    "duration": 9,
    "start_time": "2022-03-03T05:50:36.209Z"
   },
   {
    "duration": 4,
    "start_time": "2022-03-03T05:50:36.220Z"
   },
   {
    "duration": 38,
    "start_time": "2022-03-03T05:50:36.226Z"
   },
   {
    "duration": 232,
    "start_time": "2022-03-03T05:50:36.266Z"
   },
   {
    "duration": 12,
    "start_time": "2022-03-03T05:50:36.500Z"
   },
   {
    "duration": 27,
    "start_time": "2022-03-03T05:50:36.513Z"
   },
   {
    "duration": 209,
    "start_time": "2022-03-03T05:50:36.542Z"
   },
   {
    "duration": 16,
    "start_time": "2022-03-03T05:50:36.752Z"
   },
   {
    "duration": 4,
    "start_time": "2022-03-03T07:05:07.665Z"
   },
   {
    "duration": 49,
    "start_time": "2022-03-03T07:05:07.670Z"
   },
   {
    "duration": 3,
    "start_time": "2022-03-03T07:05:07.721Z"
   },
   {
    "duration": 9,
    "start_time": "2022-03-03T07:05:07.726Z"
   },
   {
    "duration": 3,
    "start_time": "2022-03-03T07:05:07.737Z"
   },
   {
    "duration": 41,
    "start_time": "2022-03-03T07:05:07.742Z"
   },
   {
    "duration": 232,
    "start_time": "2022-03-03T07:05:07.784Z"
   },
   {
    "duration": 11,
    "start_time": "2022-03-03T07:05:08.018Z"
   },
   {
    "duration": 46,
    "start_time": "2022-03-03T07:05:08.030Z"
   },
   {
    "duration": 205,
    "start_time": "2022-03-03T07:05:08.078Z"
   },
   {
    "duration": 10,
    "start_time": "2022-03-03T07:05:08.285Z"
   },
   {
    "duration": 3,
    "start_time": "2022-03-03T07:51:18.429Z"
   },
   {
    "duration": 6,
    "start_time": "2022-03-03T07:55:05.789Z"
   },
   {
    "duration": 237,
    "start_time": "2022-03-03T07:56:47.332Z"
   },
   {
    "duration": 167,
    "start_time": "2022-03-03T07:56:59.635Z"
   },
   {
    "duration": 161,
    "start_time": "2022-03-03T07:57:54.371Z"
   },
   {
    "duration": 6,
    "start_time": "2022-03-03T07:58:04.163Z"
   },
   {
    "duration": 6,
    "start_time": "2022-03-03T07:59:06.503Z"
   },
   {
    "duration": 7,
    "start_time": "2022-03-03T07:59:12.915Z"
   },
   {
    "duration": 28,
    "start_time": "2022-03-03T08:04:52.312Z"
   },
   {
    "duration": 24,
    "start_time": "2022-03-03T08:05:02.895Z"
   },
   {
    "duration": 27,
    "start_time": "2022-03-03T08:05:04.934Z"
   },
   {
    "duration": 573,
    "start_time": "2022-03-03T08:08:39.524Z"
   },
   {
    "duration": 55,
    "start_time": "2022-03-03T08:08:40.099Z"
   },
   {
    "duration": 497,
    "start_time": "2022-03-03T08:08:40.157Z"
   },
   {
    "duration": 11,
    "start_time": "2022-03-03T08:08:40.656Z"
   },
   {
    "duration": 7,
    "start_time": "2022-03-03T08:08:40.670Z"
   },
   {
    "duration": 47,
    "start_time": "2022-03-03T08:08:40.679Z"
   },
   {
    "duration": 50,
    "start_time": "2022-03-03T08:08:40.729Z"
   },
   {
    "duration": 374,
    "start_time": "2022-03-03T08:08:40.782Z"
   },
   {
    "duration": 15,
    "start_time": "2022-03-03T08:08:41.158Z"
   },
   {
    "duration": 44,
    "start_time": "2022-03-03T08:08:41.175Z"
   },
   {
    "duration": 351,
    "start_time": "2022-03-03T08:08:41.222Z"
   },
   {
    "duration": 13,
    "start_time": "2022-03-03T08:08:41.575Z"
   },
   {
    "duration": 5,
    "start_time": "2022-03-03T08:08:41.590Z"
   },
   {
    "duration": 11,
    "start_time": "2022-03-03T08:08:41.597Z"
   },
   {
    "duration": 27,
    "start_time": "2022-03-03T08:12:27.201Z"
   },
   {
    "duration": 36,
    "start_time": "2022-03-03T08:13:22.679Z"
   },
   {
    "duration": 35,
    "start_time": "2022-03-03T08:13:29.231Z"
   },
   {
    "duration": 29,
    "start_time": "2022-03-03T08:16:38.238Z"
   },
   {
    "duration": 40,
    "start_time": "2022-03-03T08:16:39.957Z"
   },
   {
    "duration": 29,
    "start_time": "2022-03-03T08:16:49.358Z"
   },
   {
    "duration": 32,
    "start_time": "2022-03-03T08:16:53.949Z"
   },
   {
    "duration": 647,
    "start_time": "2022-03-03T08:17:36.181Z"
   },
   {
    "duration": 46,
    "start_time": "2022-03-03T08:17:36.830Z"
   },
   {
    "duration": 503,
    "start_time": "2022-03-03T08:17:36.878Z"
   },
   {
    "duration": 9,
    "start_time": "2022-03-03T08:17:37.383Z"
   },
   {
    "duration": 26,
    "start_time": "2022-03-03T08:17:37.393Z"
   },
   {
    "duration": 248,
    "start_time": "2022-03-03T08:17:37.421Z"
   },
   {
    "duration": 10,
    "start_time": "2022-03-03T08:17:37.670Z"
   },
   {
    "duration": 3,
    "start_time": "2022-03-03T08:17:37.682Z"
   },
   {
    "duration": 30,
    "start_time": "2022-03-03T08:17:37.687Z"
   },
   {
    "duration": 211,
    "start_time": "2022-03-03T08:17:37.719Z"
   },
   {
    "duration": 9,
    "start_time": "2022-03-03T08:17:37.932Z"
   },
   {
    "duration": 3,
    "start_time": "2022-03-03T08:17:37.942Z"
   },
   {
    "duration": 25,
    "start_time": "2022-03-03T08:17:37.947Z"
   },
   {
    "duration": 27,
    "start_time": "2022-03-03T08:33:58.850Z"
   },
   {
    "duration": 201,
    "start_time": "2022-03-03T08:34:01.426Z"
   },
   {
    "duration": 29,
    "start_time": "2022-03-03T08:34:53.643Z"
   },
   {
    "duration": 27,
    "start_time": "2022-03-03T08:35:09.905Z"
   },
   {
    "duration": 3,
    "start_time": "2022-03-03T08:35:16.402Z"
   },
   {
    "duration": 397,
    "start_time": "2022-03-03T08:35:17.737Z"
   },
   {
    "duration": 3,
    "start_time": "2022-03-03T08:36:27.658Z"
   },
   {
    "duration": 409,
    "start_time": "2022-03-03T08:36:28.721Z"
   },
   {
    "duration": 3,
    "start_time": "2022-03-03T08:37:13.817Z"
   },
   {
    "duration": 10,
    "start_time": "2022-03-03T08:37:15.033Z"
   },
   {
    "duration": 44,
    "start_time": "2022-03-03T08:37:47.975Z"
   },
   {
    "duration": 11,
    "start_time": "2022-03-03T08:38:17.776Z"
   },
   {
    "duration": 3,
    "start_time": "2022-03-03T08:39:10.585Z"
   },
   {
    "duration": 9,
    "start_time": "2022-03-03T08:39:11.552Z"
   },
   {
    "duration": 9,
    "start_time": "2022-03-03T08:39:13.248Z"
   },
   {
    "duration": 46,
    "start_time": "2022-03-03T08:39:15.714Z"
   },
   {
    "duration": 26,
    "start_time": "2022-03-03T08:43:11.190Z"
   },
   {
    "duration": 9,
    "start_time": "2022-03-03T08:43:35.694Z"
   },
   {
    "duration": 42,
    "start_time": "2022-03-03T08:44:04.536Z"
   },
   {
    "duration": 26,
    "start_time": "2022-03-03T08:46:16.103Z"
   },
   {
    "duration": 9,
    "start_time": "2022-03-03T08:46:28.030Z"
   },
   {
    "duration": 27,
    "start_time": "2022-03-03T08:46:58.174Z"
   },
   {
    "duration": 25,
    "start_time": "2022-03-03T08:47:01.205Z"
   },
   {
    "duration": 23,
    "start_time": "2022-03-03T08:47:36.612Z"
   },
   {
    "duration": 9,
    "start_time": "2022-03-03T08:47:40.693Z"
   },
   {
    "duration": 10,
    "start_time": "2022-03-03T08:47:44.165Z"
   },
   {
    "duration": 8,
    "start_time": "2022-03-03T08:47:47.533Z"
   },
   {
    "duration": 10,
    "start_time": "2022-03-03T08:47:48.366Z"
   },
   {
    "duration": 3,
    "start_time": "2022-03-03T08:50:24.119Z"
   },
   {
    "duration": 5,
    "start_time": "2022-03-03T08:50:25.603Z"
   },
   {
    "duration": 5,
    "start_time": "2022-03-03T08:50:26.859Z"
   },
   {
    "duration": 6,
    "start_time": "2022-03-03T08:50:28.587Z"
   },
   {
    "duration": 5,
    "start_time": "2022-03-03T08:50:29.827Z"
   },
   {
    "duration": 5,
    "start_time": "2022-03-03T08:50:30.595Z"
   },
   {
    "duration": 6,
    "start_time": "2022-03-03T08:50:31.490Z"
   },
   {
    "duration": 5,
    "start_time": "2022-03-03T08:51:59.491Z"
   },
   {
    "duration": 3,
    "start_time": "2022-03-03T08:52:11.345Z"
   },
   {
    "duration": 5,
    "start_time": "2022-03-03T08:52:12.556Z"
   },
   {
    "duration": 5,
    "start_time": "2022-03-03T08:52:48.962Z"
   },
   {
    "duration": 5,
    "start_time": "2022-03-03T08:52:50.705Z"
   },
   {
    "duration": 5,
    "start_time": "2022-03-03T08:52:52.313Z"
   },
   {
    "duration": 24,
    "start_time": "2022-03-03T09:55:21.036Z"
   },
   {
    "duration": 234,
    "start_time": "2022-03-03T09:55:55.348Z"
   },
   {
    "duration": 5,
    "start_time": "2022-03-03T09:56:11.460Z"
   },
   {
    "duration": 6,
    "start_time": "2022-03-03T09:56:20.204Z"
   },
   {
    "duration": 5,
    "start_time": "2022-03-03T09:56:31.012Z"
   },
   {
    "duration": 5,
    "start_time": "2022-03-03T09:57:11.212Z"
   },
   {
    "duration": 8,
    "start_time": "2022-03-03T09:57:13.378Z"
   },
   {
    "duration": 3,
    "start_time": "2022-03-03T09:57:15.218Z"
   },
   {
    "duration": 5,
    "start_time": "2022-03-03T09:57:17.232Z"
   },
   {
    "duration": 7,
    "start_time": "2022-03-03T09:57:19.226Z"
   },
   {
    "duration": 7,
    "start_time": "2022-03-03T09:57:21.907Z"
   },
   {
    "duration": 3,
    "start_time": "2022-03-03T09:57:43.739Z"
   },
   {
    "duration": 5,
    "start_time": "2022-03-03T09:57:44.874Z"
   },
   {
    "duration": 8,
    "start_time": "2022-03-03T09:57:47.961Z"
   },
   {
    "duration": 6,
    "start_time": "2022-03-03T09:57:49.538Z"
   },
   {
    "duration": 3,
    "start_time": "2022-03-03T09:58:50.676Z"
   },
   {
    "duration": 60,
    "start_time": "2022-03-03T09:58:50.680Z"
   },
   {
    "duration": 2,
    "start_time": "2022-03-03T09:58:50.742Z"
   },
   {
    "duration": 18,
    "start_time": "2022-03-03T09:58:50.746Z"
   },
   {
    "duration": 32,
    "start_time": "2022-03-03T09:58:50.766Z"
   },
   {
    "duration": 330,
    "start_time": "2022-03-03T09:58:50.800Z"
   },
   {
    "duration": 10,
    "start_time": "2022-03-03T09:58:51.132Z"
   },
   {
    "duration": 3,
    "start_time": "2022-03-03T09:58:56.210Z"
   },
   {
    "duration": 5,
    "start_time": "2022-03-03T09:58:57.290Z"
   },
   {
    "duration": 7,
    "start_time": "2022-03-03T09:58:58.457Z"
   },
   {
    "duration": 162,
    "start_time": "2022-03-03T10:00:10.058Z"
   },
   {
    "duration": 6,
    "start_time": "2022-03-03T10:00:17.066Z"
   },
   {
    "duration": 7,
    "start_time": "2022-03-03T10:00:18.739Z"
   },
   {
    "duration": 3,
    "start_time": "2022-03-03T10:00:34.971Z"
   },
   {
    "duration": 5,
    "start_time": "2022-03-03T10:00:35.875Z"
   },
   {
    "duration": 7,
    "start_time": "2022-03-03T10:00:37.033Z"
   },
   {
    "duration": 3,
    "start_time": "2022-03-03T10:02:02.161Z"
   },
   {
    "duration": 6,
    "start_time": "2022-03-03T10:02:03.056Z"
   },
   {
    "duration": 7,
    "start_time": "2022-03-03T10:02:04.033Z"
   },
   {
    "duration": 5,
    "start_time": "2022-03-03T10:02:05.177Z"
   },
   {
    "duration": 3,
    "start_time": "2022-03-03T10:02:22.280Z"
   },
   {
    "duration": 5,
    "start_time": "2022-03-03T10:02:23.352Z"
   },
   {
    "duration": 7,
    "start_time": "2022-03-03T10:02:25.168Z"
   },
   {
    "duration": 5,
    "start_time": "2022-03-03T10:02:26.193Z"
   },
   {
    "duration": 5,
    "start_time": "2022-03-03T10:03:56.728Z"
   },
   {
    "duration": 25,
    "start_time": "2022-03-03T10:04:20.527Z"
   },
   {
    "duration": 233,
    "start_time": "2022-03-03T10:04:23.560Z"
   },
   {
    "duration": 10,
    "start_time": "2022-03-03T10:04:25.583Z"
   },
   {
    "duration": 6,
    "start_time": "2022-03-03T10:04:31.622Z"
   },
   {
    "duration": 26,
    "start_time": "2022-03-03T10:06:45.831Z"
   },
   {
    "duration": 235,
    "start_time": "2022-03-03T10:08:15.558Z"
   },
   {
    "duration": 5,
    "start_time": "2022-03-03T10:14:23.338Z"
   },
   {
    "duration": 6,
    "start_time": "2022-03-03T10:14:29.306Z"
   },
   {
    "duration": 8,
    "start_time": "2022-03-03T10:14:31.714Z"
   },
   {
    "duration": 53,
    "start_time": "2022-03-03T10:14:53.251Z"
   },
   {
    "duration": 352,
    "start_time": "2022-03-03T10:15:11.147Z"
   },
   {
    "duration": 313,
    "start_time": "2022-03-03T10:15:39.130Z"
   },
   {
    "duration": 7,
    "start_time": "2022-03-03T10:16:18.092Z"
   },
   {
    "duration": 6,
    "start_time": "2022-03-03T10:19:33.016Z"
   },
   {
    "duration": 3,
    "start_time": "2022-03-03T10:19:39.073Z"
   },
   {
    "duration": 8,
    "start_time": "2022-03-03T10:19:40.487Z"
   },
   {
    "duration": 46,
    "start_time": "2022-03-03T10:19:41.695Z"
   },
   {
    "duration": 9,
    "start_time": "2022-03-03T10:19:52.776Z"
   },
   {
    "duration": 5,
    "start_time": "2022-03-03T10:23:22.679Z"
   },
   {
    "duration": 3,
    "start_time": "2022-03-03T10:23:40.887Z"
   },
   {
    "duration": 43,
    "start_time": "2022-03-03T10:23:40.893Z"
   },
   {
    "duration": 2,
    "start_time": "2022-03-03T10:23:40.938Z"
   },
   {
    "duration": 9,
    "start_time": "2022-03-03T10:23:40.942Z"
   },
   {
    "duration": 24,
    "start_time": "2022-03-03T10:23:40.953Z"
   },
   {
    "duration": 256,
    "start_time": "2022-03-03T10:23:40.980Z"
   },
   {
    "duration": 10,
    "start_time": "2022-03-03T10:23:41.238Z"
   },
   {
    "duration": 5,
    "start_time": "2022-03-03T10:23:43.550Z"
   },
   {
    "duration": 8,
    "start_time": "2022-03-03T10:23:44.901Z"
   },
   {
    "duration": 43,
    "start_time": "2022-03-03T10:23:45.861Z"
   },
   {
    "duration": 10,
    "start_time": "2022-03-03T10:23:47.548Z"
   },
   {
    "duration": 154,
    "start_time": "2022-03-03T10:26:13.221Z"
   },
   {
    "duration": 11,
    "start_time": "2022-03-03T10:26:26.006Z"
   },
   {
    "duration": 49,
    "start_time": "2022-03-03T10:26:46.102Z"
   },
   {
    "duration": 14,
    "start_time": "2022-03-03T10:29:33.467Z"
   },
   {
    "duration": 80,
    "start_time": "2022-03-03T10:29:35.915Z"
   },
   {
    "duration": 11,
    "start_time": "2022-03-03T10:35:41.217Z"
   },
   {
    "duration": 3,
    "start_time": "2022-03-03T10:35:45.921Z"
   },
   {
    "duration": 48,
    "start_time": "2022-03-03T10:35:45.925Z"
   },
   {
    "duration": 3,
    "start_time": "2022-03-03T10:35:45.975Z"
   },
   {
    "duration": 12,
    "start_time": "2022-03-03T10:35:45.980Z"
   },
   {
    "duration": 30,
    "start_time": "2022-03-03T10:35:45.993Z"
   },
   {
    "duration": 255,
    "start_time": "2022-03-03T10:35:46.025Z"
   },
   {
    "duration": 9,
    "start_time": "2022-03-03T10:35:46.282Z"
   },
   {
    "duration": 5,
    "start_time": "2022-03-03T10:35:46.294Z"
   },
   {
    "duration": 10,
    "start_time": "2022-03-03T10:35:48.240Z"
   },
   {
    "duration": 89,
    "start_time": "2022-03-03T10:35:52.607Z"
   },
   {
    "duration": 48,
    "start_time": "2022-03-03T10:36:31.481Z"
   },
   {
    "duration": 46,
    "start_time": "2022-03-03T10:37:29.291Z"
   },
   {
    "duration": 8,
    "start_time": "2022-03-03T10:37:33.583Z"
   },
   {
    "duration": 13,
    "start_time": "2022-03-03T10:38:04.407Z"
   },
   {
    "duration": 9,
    "start_time": "2022-03-03T10:38:48.334Z"
   },
   {
    "duration": 11,
    "start_time": "2022-03-03T10:42:11.151Z"
   },
   {
    "duration": 10,
    "start_time": "2022-03-03T10:42:30.254Z"
   },
   {
    "duration": 12,
    "start_time": "2022-03-03T10:42:51.461Z"
   },
   {
    "duration": 8,
    "start_time": "2022-03-03T10:42:54.900Z"
   },
   {
    "duration": 11,
    "start_time": "2022-03-03T10:43:01.036Z"
   },
   {
    "duration": 12,
    "start_time": "2022-03-03T10:43:02.213Z"
   },
   {
    "duration": 10,
    "start_time": "2022-03-03T10:43:05.997Z"
   },
   {
    "duration": 9,
    "start_time": "2022-03-03T10:43:19.284Z"
   },
   {
    "duration": 9,
    "start_time": "2022-03-03T10:43:20.582Z"
   },
   {
    "duration": 8,
    "start_time": "2022-03-03T10:43:21.798Z"
   },
   {
    "duration": 12,
    "start_time": "2022-03-03T10:43:40.925Z"
   },
   {
    "duration": 15,
    "start_time": "2022-03-03T10:43:46.549Z"
   },
   {
    "duration": 130,
    "start_time": "2022-03-03T10:43:55.469Z"
   },
   {
    "duration": 12,
    "start_time": "2022-03-03T10:44:19.101Z"
   },
   {
    "duration": 3,
    "start_time": "2022-03-03T10:44:28.901Z"
   },
   {
    "duration": 13,
    "start_time": "2022-03-03T10:44:31.428Z"
   },
   {
    "duration": 45,
    "start_time": "2022-03-03T10:44:34.501Z"
   },
   {
    "duration": 10,
    "start_time": "2022-03-03T10:44:39.654Z"
   },
   {
    "duration": 421,
    "start_time": "2022-03-03T10:44:48.597Z"
   },
   {
    "duration": 830,
    "start_time": "2022-03-03T10:44:59.933Z"
   },
   {
    "duration": 348,
    "start_time": "2022-03-03T10:45:08.077Z"
   },
   {
    "duration": 54,
    "start_time": "2022-03-03T10:45:13.276Z"
   },
   {
    "duration": 192,
    "start_time": "2022-03-03T10:45:18.494Z"
   },
   {
    "duration": 238,
    "start_time": "2022-03-03T10:45:23.549Z"
   },
   {
    "duration": 4,
    "start_time": "2022-03-03T10:46:36.459Z"
   },
   {
    "duration": 4,
    "start_time": "2022-03-03T10:46:41.955Z"
   },
   {
    "duration": 6,
    "start_time": "2022-03-03T10:46:43.236Z"
   },
   {
    "duration": 8,
    "start_time": "2022-03-03T10:46:47.043Z"
   },
   {
    "duration": 6,
    "start_time": "2022-03-03T10:46:49.426Z"
   },
   {
    "duration": 325,
    "start_time": "2022-03-03T10:47:39.515Z"
   },
   {
    "duration": 125,
    "start_time": "2022-03-03T10:47:52.644Z"
   },
   {
    "duration": 131,
    "start_time": "2022-03-03T10:48:56.458Z"
   },
   {
    "duration": 130,
    "start_time": "2022-03-03T10:49:02.994Z"
   },
   {
    "duration": 127,
    "start_time": "2022-03-03T10:49:27.402Z"
   },
   {
    "duration": 247,
    "start_time": "2022-03-03T10:50:18.674Z"
   },
   {
    "duration": 10,
    "start_time": "2022-03-03T10:50:26.146Z"
   },
   {
    "duration": 3,
    "start_time": "2022-03-03T10:50:35.811Z"
   },
   {
    "duration": 6,
    "start_time": "2022-03-03T10:50:37.002Z"
   },
   {
    "duration": 6,
    "start_time": "2022-03-03T10:50:38.385Z"
   },
   {
    "duration": 5,
    "start_time": "2022-03-03T10:50:41.224Z"
   },
   {
    "duration": 213,
    "start_time": "2022-03-03T11:01:39.124Z"
   },
   {
    "duration": 3,
    "start_time": "2022-03-03T11:01:55.708Z"
   },
   {
    "duration": 237,
    "start_time": "2022-03-03T11:01:57.467Z"
   },
   {
    "duration": 3,
    "start_time": "2022-03-03T11:02:10.843Z"
   },
   {
    "duration": 5,
    "start_time": "2022-03-03T11:02:11.987Z"
   },
   {
    "duration": 3,
    "start_time": "2022-03-03T11:03:07.701Z"
   },
   {
    "duration": 11,
    "start_time": "2022-03-03T11:03:08.610Z"
   },
   {
    "duration": 44,
    "start_time": "2022-03-03T11:03:10.459Z"
   },
   {
    "duration": 14,
    "start_time": "2022-03-03T11:03:17.731Z"
   },
   {
    "duration": 45,
    "start_time": "2022-03-03T11:03:18.626Z"
   },
   {
    "duration": 11,
    "start_time": "2022-03-03T11:03:20.306Z"
   },
   {
    "duration": 7,
    "start_time": "2022-03-03T11:05:02.794Z"
   },
   {
    "duration": 168,
    "start_time": "2022-03-03T11:06:37.955Z"
   },
   {
    "duration": 190,
    "start_time": "2022-03-03T11:06:51.385Z"
   },
   {
    "duration": 10,
    "start_time": "2022-03-03T11:07:08.906Z"
   },
   {
    "duration": 11,
    "start_time": "2022-03-03T11:07:25.177Z"
   },
   {
    "duration": 11,
    "start_time": "2022-03-03T11:07:41.650Z"
   },
   {
    "duration": 13,
    "start_time": "2022-03-03T11:09:36.473Z"
   },
   {
    "duration": 13,
    "start_time": "2022-03-03T11:10:32.888Z"
   },
   {
    "duration": 12,
    "start_time": "2022-03-03T11:15:16.966Z"
   },
   {
    "duration": 12,
    "start_time": "2022-03-03T11:15:39.845Z"
   },
   {
    "duration": 13,
    "start_time": "2022-03-03T11:15:47.582Z"
   },
   {
    "duration": 14,
    "start_time": "2022-03-03T11:17:05.230Z"
   },
   {
    "duration": 15,
    "start_time": "2022-03-03T11:17:11.477Z"
   },
   {
    "duration": 13,
    "start_time": "2022-03-03T11:17:52.628Z"
   },
   {
    "duration": 13,
    "start_time": "2022-03-03T11:20:40.220Z"
   },
   {
    "duration": 13,
    "start_time": "2022-03-03T11:21:10.204Z"
   },
   {
    "duration": 11,
    "start_time": "2022-03-03T11:22:21.035Z"
   },
   {
    "duration": 10,
    "start_time": "2022-03-03T11:22:23.369Z"
   },
   {
    "duration": 12,
    "start_time": "2022-03-03T11:22:30.706Z"
   },
   {
    "duration": 12,
    "start_time": "2022-03-03T11:23:19.907Z"
   },
   {
    "duration": 167,
    "start_time": "2022-03-03T11:24:33.426Z"
   },
   {
    "duration": 180,
    "start_time": "2022-03-03T11:27:21.504Z"
   },
   {
    "duration": 181,
    "start_time": "2022-03-03T11:27:33.401Z"
   },
   {
    "duration": 13,
    "start_time": "2022-03-03T11:28:13.978Z"
   },
   {
    "duration": 168,
    "start_time": "2022-03-03T11:34:39.389Z"
   },
   {
    "duration": 187,
    "start_time": "2022-03-03T11:36:00.644Z"
   },
   {
    "duration": 3,
    "start_time": "2022-03-03T11:36:05.765Z"
   },
   {
    "duration": 13,
    "start_time": "2022-03-03T11:37:17.189Z"
   },
   {
    "duration": 18,
    "start_time": "2022-03-03T11:37:30.014Z"
   },
   {
    "duration": 18,
    "start_time": "2022-03-03T11:39:20.719Z"
   },
   {
    "duration": 17,
    "start_time": "2022-03-03T11:41:34.597Z"
   },
   {
    "duration": 3,
    "start_time": "2022-03-03T11:51:54.589Z"
   },
   {
    "duration": 18,
    "start_time": "2022-03-03T11:51:56.317Z"
   },
   {
    "duration": 577,
    "start_time": "2022-03-03T12:04:17.950Z"
   },
   {
    "duration": 49,
    "start_time": "2022-03-03T12:04:18.529Z"
   },
   {
    "duration": 524,
    "start_time": "2022-03-03T12:04:18.582Z"
   },
   {
    "duration": 8,
    "start_time": "2022-03-03T12:04:19.108Z"
   },
   {
    "duration": 141,
    "start_time": "2022-03-03T12:04:19.118Z"
   },
   {
    "duration": 240,
    "start_time": "2022-03-03T12:04:19.261Z"
   },
   {
    "duration": 9,
    "start_time": "2022-03-03T12:04:19.504Z"
   },
   {
    "duration": 3,
    "start_time": "2022-03-03T12:04:19.515Z"
   },
   {
    "duration": 6,
    "start_time": "2022-03-03T12:04:19.520Z"
   },
   {
    "duration": 6,
    "start_time": "2022-03-03T12:04:19.528Z"
   },
   {
    "duration": 29,
    "start_time": "2022-03-03T12:04:19.536Z"
   },
   {
    "duration": 3,
    "start_time": "2022-03-03T12:04:19.566Z"
   },
   {
    "duration": 18,
    "start_time": "2022-03-03T12:04:19.570Z"
   },
   {
    "duration": 166,
    "start_time": "2022-03-04T05:15:29.157Z"
   },
   {
    "duration": 1051,
    "start_time": "2022-03-04T05:15:39.608Z"
   },
   {
    "duration": 55,
    "start_time": "2022-03-04T05:15:40.661Z"
   },
   {
    "duration": 7,
    "start_time": "2022-03-04T05:15:40.717Z"
   },
   {
    "duration": 3,
    "start_time": "2022-03-04T05:15:44.426Z"
   },
   {
    "duration": 4,
    "start_time": "2022-03-04T05:16:14.130Z"
   },
   {
    "duration": 4,
    "start_time": "2022-03-04T06:01:55.419Z"
   },
   {
    "duration": 50,
    "start_time": "2022-03-04T06:01:55.425Z"
   },
   {
    "duration": 7,
    "start_time": "2022-03-04T06:01:55.477Z"
   },
   {
    "duration": 10,
    "start_time": "2022-03-04T06:01:55.486Z"
   },
   {
    "duration": 144,
    "start_time": "2022-03-04T06:01:55.498Z"
   },
   {
    "duration": 227,
    "start_time": "2022-03-04T06:01:55.644Z"
   },
   {
    "duration": 9,
    "start_time": "2022-03-04T06:01:55.874Z"
   },
   {
    "duration": 4,
    "start_time": "2022-03-04T06:01:55.885Z"
   },
   {
    "duration": 6,
    "start_time": "2022-03-04T06:01:55.891Z"
   },
   {
    "duration": 8,
    "start_time": "2022-03-04T06:01:55.899Z"
   },
   {
    "duration": 29,
    "start_time": "2022-03-04T06:01:55.909Z"
   },
   {
    "duration": 6,
    "start_time": "2022-03-04T06:01:55.940Z"
   },
   {
    "duration": 21,
    "start_time": "2022-03-04T06:01:55.947Z"
   },
   {
    "duration": 184,
    "start_time": "2022-03-04T06:17:05.230Z"
   },
   {
    "duration": 7,
    "start_time": "2022-03-04T06:17:24.639Z"
   },
   {
    "duration": 10,
    "start_time": "2022-03-04T06:17:33.117Z"
   },
   {
    "duration": 8,
    "start_time": "2022-03-04T06:17:54.725Z"
   },
   {
    "duration": 144,
    "start_time": "2022-03-04T06:18:08.220Z"
   },
   {
    "duration": 132,
    "start_time": "2022-03-04T06:18:14.349Z"
   },
   {
    "duration": 136,
    "start_time": "2022-03-04T06:19:25.517Z"
   },
   {
    "duration": 152,
    "start_time": "2022-03-04T06:19:39.533Z"
   },
   {
    "duration": 132,
    "start_time": "2022-03-04T06:20:41.060Z"
   },
   {
    "duration": 8,
    "start_time": "2022-03-04T06:20:48.692Z"
   },
   {
    "duration": 9,
    "start_time": "2022-03-04T06:21:11.755Z"
   },
   {
    "duration": 6,
    "start_time": "2022-03-04T06:28:12.537Z"
   },
   {
    "duration": 7,
    "start_time": "2022-03-04T06:30:37.367Z"
   },
   {
    "duration": 6,
    "start_time": "2022-03-04T06:30:47.776Z"
   },
   {
    "duration": 7,
    "start_time": "2022-03-04T06:30:53.735Z"
   },
   {
    "duration": 6,
    "start_time": "2022-03-04T06:31:43.367Z"
   },
   {
    "duration": 7,
    "start_time": "2022-03-04T06:32:24.045Z"
   },
   {
    "duration": 6,
    "start_time": "2022-03-04T06:32:29.350Z"
   },
   {
    "duration": 8,
    "start_time": "2022-03-04T06:32:36.966Z"
   },
   {
    "duration": 8,
    "start_time": "2022-03-04T06:35:46.093Z"
   },
   {
    "duration": 140,
    "start_time": "2022-03-04T06:37:33.988Z"
   },
   {
    "duration": 8,
    "start_time": "2022-03-04T06:37:42.659Z"
   },
   {
    "duration": 7,
    "start_time": "2022-03-04T06:43:52.651Z"
   },
   {
    "duration": 8,
    "start_time": "2022-03-04T06:44:06.345Z"
   },
   {
    "duration": 9,
    "start_time": "2022-03-04T06:44:21.985Z"
   },
   {
    "duration": 1009,
    "start_time": "2022-03-04T06:54:26.865Z"
   },
   {
    "duration": 57,
    "start_time": "2022-03-04T06:54:27.875Z"
   },
   {
    "duration": 8,
    "start_time": "2022-03-04T06:54:27.934Z"
   },
   {
    "duration": 10,
    "start_time": "2022-03-04T06:54:27.944Z"
   },
   {
    "duration": 133,
    "start_time": "2022-03-04T06:54:27.956Z"
   },
   {
    "duration": 233,
    "start_time": "2022-03-04T06:54:28.091Z"
   },
   {
    "duration": 14,
    "start_time": "2022-03-04T06:54:28.326Z"
   },
   {
    "duration": 3,
    "start_time": "2022-03-04T06:54:28.343Z"
   },
   {
    "duration": 7,
    "start_time": "2022-03-04T06:54:28.348Z"
   },
   {
    "duration": 8,
    "start_time": "2022-03-04T06:54:28.356Z"
   },
   {
    "duration": 6,
    "start_time": "2022-03-04T06:54:28.366Z"
   },
   {
    "duration": 5,
    "start_time": "2022-03-04T06:54:28.373Z"
   },
   {
    "duration": 19,
    "start_time": "2022-03-04T06:54:28.380Z"
   },
   {
    "duration": 38,
    "start_time": "2022-03-04T06:54:28.400Z"
   }
  ],
  "kernelspec": {
   "display_name": "Python 3 (ipykernel)",
   "language": "python",
   "name": "python3"
  },
  "language_info": {
   "codemirror_mode": {
    "name": "ipython",
    "version": 3
   },
   "file_extension": ".py",
   "mimetype": "text/x-python",
   "name": "python",
   "nbconvert_exporter": "python",
   "pygments_lexer": "ipython3",
   "version": "3.9.7"
  },
  "toc": {
   "base_numbering": 1,
   "nav_menu": {},
   "number_sections": true,
   "sideBar": true,
   "skip_h1_title": true,
   "title_cell": "Table of Contents",
   "title_sidebar": "Contents",
   "toc_cell": false,
   "toc_position": {},
   "toc_section_display": true,
   "toc_window_display": true
  }
 },
 "nbformat": 4,
 "nbformat_minor": 2
}
