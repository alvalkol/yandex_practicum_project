{
 "cells": [
  {
   "cell_type": "markdown",
   "metadata": {
    "toc": true
   },
   "source": [
    "<h1>Содержание<span class=\"tocSkip\"></span></h1>\n",
    "<div class=\"toc\"><ul class=\"toc-item\"><li><span><a href=\"#Подготовка-данных\" data-toc-modified-id=\"Подготовка-данных-1\"><span class=\"toc-item-num\">1&nbsp;&nbsp;</span>Подготовка данных</a></span><ul class=\"toc-item\"><li><span><a href=\"#Расчет-эффективности-обогащения-&quot;чернового-концентрата&quot;\" data-toc-modified-id=\"Расчет-эффективности-обогащения-&quot;чернового-концентрата&quot;-1.1\"><span class=\"toc-item-num\">1.1&nbsp;&nbsp;</span>Расчет эффективности обогащения \"чернового концентрата\"</a></span></li><li><span><a href=\"#Анализ-недоступных-признаков-для-тестовой-выборки\" data-toc-modified-id=\"Анализ-недоступных-признаков-для-тестовой-выборки-1.2\"><span class=\"toc-item-num\">1.2&nbsp;&nbsp;</span>Анализ недоступных признаков для тестовой выборки</a></span></li><li><span><a href=\"#Предобработка-данных\" data-toc-modified-id=\"Предобработка-данных-1.3\"><span class=\"toc-item-num\">1.3&nbsp;&nbsp;</span>Предобработка данных</a></span></li><li><span><a href=\"#Вывод\" data-toc-modified-id=\"Вывод-1.4\"><span class=\"toc-item-num\">1.4&nbsp;&nbsp;</span>Вывод</a></span></li></ul></li><li><span><a href=\"#Анализ-данных\" data-toc-modified-id=\"Анализ-данных-2\"><span class=\"toc-item-num\">2&nbsp;&nbsp;</span>Анализ данных</a></span><ul class=\"toc-item\"><li><span><a href=\"#Изменения-концентрации-металлов--(Au,-Ag,-Pb)-на-каждом-этапе-очистки\" data-toc-modified-id=\"Изменения-концентрации-металлов--(Au,-Ag,-Pb)-на-каждом-этапе-очистки-2.1\"><span class=\"toc-item-num\">2.1&nbsp;&nbsp;</span>Изменения концентрации металлов  (Au, Ag, Pb) на каждом этапе очистки</a></span></li><li><span><a href=\"#Сравнение-распределения-размеров-гранул-сырья-в-обучающей-и-тестовой-выборке\" data-toc-modified-id=\"Сравнение-распределения-размеров-гранул-сырья-в-обучающей-и-тестовой-выборке-2.2\"><span class=\"toc-item-num\">2.2&nbsp;&nbsp;</span>Сравнение распределения размеров гранул сырья в обучающей и тестовой выборке</a></span></li><li><span><a href=\"#Cуммарная-концентрация-всех-веществ-на-разных-стадиях\" data-toc-modified-id=\"Cуммарная-концентрация-всех-веществ-на-разных-стадиях-2.3\"><span class=\"toc-item-num\">2.3&nbsp;&nbsp;</span>Cуммарная концентрация всех веществ на разных стадиях</a></span></li><li><span><a href=\"#Вывод\" data-toc-modified-id=\"Вывод-2.4\"><span class=\"toc-item-num\">2.4&nbsp;&nbsp;</span>Вывод</a></span></li></ul></li><li><span><a href=\"#Модель\" data-toc-modified-id=\"Модель-3\"><span class=\"toc-item-num\">3&nbsp;&nbsp;</span>Модель</a></span><ul class=\"toc-item\"><li><span><a href=\"#Функция-sMAPE\" data-toc-modified-id=\"Функция-sMAPE-3.1\"><span class=\"toc-item-num\">3.1&nbsp;&nbsp;</span>Функция <code>sMAPE</code></a></span></li><li><span><a href=\"#Модель-линейной-регрессии\" data-toc-modified-id=\"Модель-линейной-регрессии-3.2\"><span class=\"toc-item-num\">3.2&nbsp;&nbsp;</span>Модель линейной регрессии</a></span></li><li><span><a href=\"#Модель-логистической-регрессии\" data-toc-modified-id=\"Модель-логистической-регрессии-3.3\"><span class=\"toc-item-num\">3.3&nbsp;&nbsp;</span>Модель логистической регрессии</a></span></li><li><span><a href=\"#Модель-градиентного-спуска\" data-toc-modified-id=\"Модель-градиентного-спуска-3.4\"><span class=\"toc-item-num\">3.4&nbsp;&nbsp;</span>Модель градиентного спуска</a></span></li><li><span><a href=\"#Модель-случайного-леса\" data-toc-modified-id=\"Модель-случайного-леса-3.5\"><span class=\"toc-item-num\">3.5&nbsp;&nbsp;</span>Модель случайного леса</a></span></li><li><span><a href=\"#Проверка-модели-на-тестовых-данных\" data-toc-modified-id=\"Проверка-модели-на-тестовых-данных-3.6\"><span class=\"toc-item-num\">3.6&nbsp;&nbsp;</span>Проверка модели на тестовых данных</a></span></li></ul></li><li><span><a href=\"#Вывод\" data-toc-modified-id=\"Вывод-4\"><span class=\"toc-item-num\">4&nbsp;&nbsp;</span>Вывод</a></span></li></ul></div>"
   ]
  },
  {
   "cell_type": "markdown",
   "metadata": {},
   "source": [
    "# Восстановление золота из руды"
   ]
  },
  {
   "cell_type": "markdown",
   "metadata": {},
   "source": [
    "Модель должна предсказать коэффициент восстановления золота из золотосодержащей руды. Используйте данные с параметрами добычи и очистки."
   ]
  },
  {
   "cell_type": "markdown",
   "metadata": {},
   "source": [
    "## Подготовка данных"
   ]
  },
  {
   "cell_type": "code",
   "execution_count": 1,
   "metadata": {},
   "outputs": [],
   "source": [
    "import pandas as pd\n",
    "import math as mt\n",
    "import numpy as np\n",
    "from sklearn.model_selection import (train_test_split, \n",
    "                                     cross_val_score, \n",
    "                                     GridSearchCV)\n",
    "from sklearn.linear_model import LinearRegression, SGDRegressor\n",
    "from sklearn.ensemble import RandomForestRegressor\n",
    "from sklearn.linear_model import LogisticRegression\n",
    "from sklearn.metrics import (mean_squared_error, \n",
    "                             mean_absolute_error, \n",
    "                             mean_absolute_percentage_error)\n",
    "from sklearn.preprocessing import StandardScaler\n",
    "from sklearn.utils import shuffle\n",
    "import matplotlib.pyplot as plt\n",
    "\n",
    "import warnings\n",
    "warnings.filterwarnings('ignore')\n",
    "\n",
    "def data_view(data):\n",
    "    \n",
    "    \"\"\"\n",
    "    Функция вызвращает данные о таблице\n",
    "    \"\"\"\n",
    "    return display(data.head(), \n",
    "                   data.info(), \n",
    "                   data.describe(), \n",
    "                   data.isna().sum())"
   ]
  },
  {
   "cell_type": "code",
   "execution_count": 2,
   "metadata": {},
   "outputs": [],
   "source": [
    "train = pd.read_csv('gold_recovery_train_new.csv')\n",
    "test = pd.read_csv('gold_recovery_test_new.csv')\n",
    "full = pd.read_csv('gold_recovery_full_new.csv')"
   ]
  },
  {
   "cell_type": "code",
   "execution_count": 3,
   "metadata": {
    "scrolled": true
   },
   "outputs": [
    {
     "name": "stdout",
     "output_type": "stream",
     "text": [
      "TRAIN\n",
      "<class 'pandas.core.frame.DataFrame'>\n",
      "RangeIndex: 14149 entries, 0 to 14148\n",
      "Data columns (total 87 columns):\n",
      " #   Column                                              Non-Null Count  Dtype  \n",
      "---  ------                                              --------------  -----  \n",
      " 0   date                                                14149 non-null  object \n",
      " 1   final.output.concentrate_ag                         14148 non-null  float64\n",
      " 2   final.output.concentrate_pb                         14148 non-null  float64\n",
      " 3   final.output.concentrate_sol                        13938 non-null  float64\n",
      " 4   final.output.concentrate_au                         14149 non-null  float64\n",
      " 5   final.output.recovery                               14149 non-null  float64\n",
      " 6   final.output.tail_ag                                14149 non-null  float64\n",
      " 7   final.output.tail_pb                                14049 non-null  float64\n",
      " 8   final.output.tail_sol                               14144 non-null  float64\n",
      " 9   final.output.tail_au                                14149 non-null  float64\n",
      " 10  primary_cleaner.input.sulfate                       14129 non-null  float64\n",
      " 11  primary_cleaner.input.depressant                    14117 non-null  float64\n",
      " 12  primary_cleaner.input.feed_size                     14149 non-null  float64\n",
      " 13  primary_cleaner.input.xanthate                      14049 non-null  float64\n",
      " 14  primary_cleaner.output.concentrate_ag               14149 non-null  float64\n",
      " 15  primary_cleaner.output.concentrate_pb               14063 non-null  float64\n",
      " 16  primary_cleaner.output.concentrate_sol              13863 non-null  float64\n",
      " 17  primary_cleaner.output.concentrate_au               14149 non-null  float64\n",
      " 18  primary_cleaner.output.tail_ag                      14148 non-null  float64\n",
      " 19  primary_cleaner.output.tail_pb                      14134 non-null  float64\n",
      " 20  primary_cleaner.output.tail_sol                     14103 non-null  float64\n",
      " 21  primary_cleaner.output.tail_au                      14149 non-null  float64\n",
      " 22  primary_cleaner.state.floatbank8_a_air              14145 non-null  float64\n",
      " 23  primary_cleaner.state.floatbank8_a_level            14148 non-null  float64\n",
      " 24  primary_cleaner.state.floatbank8_b_air              14145 non-null  float64\n",
      " 25  primary_cleaner.state.floatbank8_b_level            14148 non-null  float64\n",
      " 26  primary_cleaner.state.floatbank8_c_air              14147 non-null  float64\n",
      " 27  primary_cleaner.state.floatbank8_c_level            14148 non-null  float64\n",
      " 28  primary_cleaner.state.floatbank8_d_air              14146 non-null  float64\n",
      " 29  primary_cleaner.state.floatbank8_d_level            14148 non-null  float64\n",
      " 30  rougher.calculation.sulfate_to_au_concentrate       14148 non-null  float64\n",
      " 31  rougher.calculation.floatbank10_sulfate_to_au_feed  14148 non-null  float64\n",
      " 32  rougher.calculation.floatbank11_sulfate_to_au_feed  14148 non-null  float64\n",
      " 33  rougher.calculation.au_pb_ratio                     14149 non-null  float64\n",
      " 34  rougher.input.feed_ag                               14149 non-null  float64\n",
      " 35  rougher.input.feed_pb                               14049 non-null  float64\n",
      " 36  rougher.input.feed_rate                             14141 non-null  float64\n",
      " 37  rougher.input.feed_size                             14005 non-null  float64\n",
      " 38  rougher.input.feed_sol                              14071 non-null  float64\n",
      " 39  rougher.input.feed_au                               14149 non-null  float64\n",
      " 40  rougher.input.floatbank10_sulfate                   14120 non-null  float64\n",
      " 41  rougher.input.floatbank10_xanthate                  14141 non-null  float64\n",
      " 42  rougher.input.floatbank11_sulfate                   14113 non-null  float64\n",
      " 43  rougher.input.floatbank11_xanthate                  13721 non-null  float64\n",
      " 44  rougher.output.concentrate_ag                       14149 non-null  float64\n",
      " 45  rougher.output.concentrate_pb                       14149 non-null  float64\n",
      " 46  rougher.output.concentrate_sol                      14127 non-null  float64\n",
      " 47  rougher.output.concentrate_au                       14149 non-null  float64\n",
      " 48  rougher.output.recovery                             14149 non-null  float64\n",
      " 49  rougher.output.tail_ag                              14148 non-null  float64\n",
      " 50  rougher.output.tail_pb                              14149 non-null  float64\n",
      " 51  rougher.output.tail_sol                             14149 non-null  float64\n",
      " 52  rougher.output.tail_au                              14149 non-null  float64\n",
      " 53  rougher.state.floatbank10_a_air                     14148 non-null  float64\n",
      " 54  rougher.state.floatbank10_a_level                   14148 non-null  float64\n",
      " 55  rougher.state.floatbank10_b_air                     14148 non-null  float64\n",
      " 56  rougher.state.floatbank10_b_level                   14148 non-null  float64\n",
      " 57  rougher.state.floatbank10_c_air                     14148 non-null  float64\n",
      " 58  rougher.state.floatbank10_c_level                   14148 non-null  float64\n",
      " 59  rougher.state.floatbank10_d_air                     14149 non-null  float64\n",
      " 60  rougher.state.floatbank10_d_level                   14149 non-null  float64\n",
      " 61  rougher.state.floatbank10_e_air                     13713 non-null  float64\n",
      " 62  rougher.state.floatbank10_e_level                   14149 non-null  float64\n",
      " 63  rougher.state.floatbank10_f_air                     14149 non-null  float64\n",
      " 64  rougher.state.floatbank10_f_level                   14149 non-null  float64\n",
      " 65  secondary_cleaner.output.tail_ag                    14147 non-null  float64\n",
      " 66  secondary_cleaner.output.tail_pb                    14139 non-null  float64\n",
      " 67  secondary_cleaner.output.tail_sol                   12544 non-null  float64\n",
      " 68  secondary_cleaner.output.tail_au                    14149 non-null  float64\n",
      " 69  secondary_cleaner.state.floatbank2_a_air            13932 non-null  float64\n",
      " 70  secondary_cleaner.state.floatbank2_a_level          14148 non-null  float64\n",
      " 71  secondary_cleaner.state.floatbank2_b_air            14128 non-null  float64\n",
      " 72  secondary_cleaner.state.floatbank2_b_level          14148 non-null  float64\n",
      " 73  secondary_cleaner.state.floatbank3_a_air            14145 non-null  float64\n",
      " 74  secondary_cleaner.state.floatbank3_a_level          14148 non-null  float64\n",
      " 75  secondary_cleaner.state.floatbank3_b_air            14148 non-null  float64\n",
      " 76  secondary_cleaner.state.floatbank3_b_level          14148 non-null  float64\n",
      " 77  secondary_cleaner.state.floatbank4_a_air            14143 non-null  float64\n",
      " 78  secondary_cleaner.state.floatbank4_a_level          14148 non-null  float64\n",
      " 79  secondary_cleaner.state.floatbank4_b_air            14148 non-null  float64\n",
      " 80  secondary_cleaner.state.floatbank4_b_level          14148 non-null  float64\n",
      " 81  secondary_cleaner.state.floatbank5_a_air            14148 non-null  float64\n",
      " 82  secondary_cleaner.state.floatbank5_a_level          14148 non-null  float64\n",
      " 83  secondary_cleaner.state.floatbank5_b_air            14148 non-null  float64\n",
      " 84  secondary_cleaner.state.floatbank5_b_level          14148 non-null  float64\n",
      " 85  secondary_cleaner.state.floatbank6_a_air            14147 non-null  float64\n",
      " 86  secondary_cleaner.state.floatbank6_a_level          14148 non-null  float64\n",
      "dtypes: float64(86), object(1)\n",
      "memory usage: 9.4+ MB\n"
     ]
    },
    {
     "data": {
      "text/html": [
       "<div>\n",
       "<style scoped>\n",
       "    .dataframe tbody tr th:only-of-type {\n",
       "        vertical-align: middle;\n",
       "    }\n",
       "\n",
       "    .dataframe tbody tr th {\n",
       "        vertical-align: top;\n",
       "    }\n",
       "\n",
       "    .dataframe thead th {\n",
       "        text-align: right;\n",
       "    }\n",
       "</style>\n",
       "<table border=\"1\" class=\"dataframe\">\n",
       "  <thead>\n",
       "    <tr style=\"text-align: right;\">\n",
       "      <th></th>\n",
       "      <th>date</th>\n",
       "      <th>final.output.concentrate_ag</th>\n",
       "      <th>final.output.concentrate_pb</th>\n",
       "      <th>final.output.concentrate_sol</th>\n",
       "      <th>final.output.concentrate_au</th>\n",
       "      <th>final.output.recovery</th>\n",
       "      <th>final.output.tail_ag</th>\n",
       "      <th>final.output.tail_pb</th>\n",
       "      <th>final.output.tail_sol</th>\n",
       "      <th>final.output.tail_au</th>\n",
       "      <th>...</th>\n",
       "      <th>secondary_cleaner.state.floatbank4_a_air</th>\n",
       "      <th>secondary_cleaner.state.floatbank4_a_level</th>\n",
       "      <th>secondary_cleaner.state.floatbank4_b_air</th>\n",
       "      <th>secondary_cleaner.state.floatbank4_b_level</th>\n",
       "      <th>secondary_cleaner.state.floatbank5_a_air</th>\n",
       "      <th>secondary_cleaner.state.floatbank5_a_level</th>\n",
       "      <th>secondary_cleaner.state.floatbank5_b_air</th>\n",
       "      <th>secondary_cleaner.state.floatbank5_b_level</th>\n",
       "      <th>secondary_cleaner.state.floatbank6_a_air</th>\n",
       "      <th>secondary_cleaner.state.floatbank6_a_level</th>\n",
       "    </tr>\n",
       "  </thead>\n",
       "  <tbody>\n",
       "    <tr>\n",
       "      <th>0</th>\n",
       "      <td>2016-01-15 00:00:00</td>\n",
       "      <td>6.055403</td>\n",
       "      <td>9.889648</td>\n",
       "      <td>5.507324</td>\n",
       "      <td>42.192020</td>\n",
       "      <td>70.541216</td>\n",
       "      <td>10.411962</td>\n",
       "      <td>0.895447</td>\n",
       "      <td>16.904297</td>\n",
       "      <td>2.143149</td>\n",
       "      <td>...</td>\n",
       "      <td>14.016835</td>\n",
       "      <td>-502.488007</td>\n",
       "      <td>12.099931</td>\n",
       "      <td>-504.715942</td>\n",
       "      <td>9.925633</td>\n",
       "      <td>-498.310211</td>\n",
       "      <td>8.079666</td>\n",
       "      <td>-500.470978</td>\n",
       "      <td>14.151341</td>\n",
       "      <td>-605.841980</td>\n",
       "    </tr>\n",
       "    <tr>\n",
       "      <th>1</th>\n",
       "      <td>2016-01-15 01:00:00</td>\n",
       "      <td>6.029369</td>\n",
       "      <td>9.968944</td>\n",
       "      <td>5.257781</td>\n",
       "      <td>42.701629</td>\n",
       "      <td>69.266198</td>\n",
       "      <td>10.462676</td>\n",
       "      <td>0.927452</td>\n",
       "      <td>16.634514</td>\n",
       "      <td>2.224930</td>\n",
       "      <td>...</td>\n",
       "      <td>13.992281</td>\n",
       "      <td>-505.503262</td>\n",
       "      <td>11.950531</td>\n",
       "      <td>-501.331529</td>\n",
       "      <td>10.039245</td>\n",
       "      <td>-500.169983</td>\n",
       "      <td>7.984757</td>\n",
       "      <td>-500.582168</td>\n",
       "      <td>13.998353</td>\n",
       "      <td>-599.787184</td>\n",
       "    </tr>\n",
       "    <tr>\n",
       "      <th>2</th>\n",
       "      <td>2016-01-15 02:00:00</td>\n",
       "      <td>6.055926</td>\n",
       "      <td>10.213995</td>\n",
       "      <td>5.383759</td>\n",
       "      <td>42.657501</td>\n",
       "      <td>68.116445</td>\n",
       "      <td>10.507046</td>\n",
       "      <td>0.953716</td>\n",
       "      <td>16.208849</td>\n",
       "      <td>2.257889</td>\n",
       "      <td>...</td>\n",
       "      <td>14.015015</td>\n",
       "      <td>-502.520901</td>\n",
       "      <td>11.912783</td>\n",
       "      <td>-501.133383</td>\n",
       "      <td>10.070913</td>\n",
       "      <td>-500.129135</td>\n",
       "      <td>8.013877</td>\n",
       "      <td>-500.517572</td>\n",
       "      <td>14.028663</td>\n",
       "      <td>-601.427363</td>\n",
       "    </tr>\n",
       "    <tr>\n",
       "      <th>3</th>\n",
       "      <td>2016-01-15 03:00:00</td>\n",
       "      <td>6.047977</td>\n",
       "      <td>9.977019</td>\n",
       "      <td>4.858634</td>\n",
       "      <td>42.689819</td>\n",
       "      <td>68.347543</td>\n",
       "      <td>10.422762</td>\n",
       "      <td>0.883763</td>\n",
       "      <td>16.532835</td>\n",
       "      <td>2.146849</td>\n",
       "      <td>...</td>\n",
       "      <td>14.036510</td>\n",
       "      <td>-500.857308</td>\n",
       "      <td>11.999550</td>\n",
       "      <td>-501.193686</td>\n",
       "      <td>9.970366</td>\n",
       "      <td>-499.201640</td>\n",
       "      <td>7.977324</td>\n",
       "      <td>-500.255908</td>\n",
       "      <td>14.005551</td>\n",
       "      <td>-599.996129</td>\n",
       "    </tr>\n",
       "    <tr>\n",
       "      <th>4</th>\n",
       "      <td>2016-01-15 04:00:00</td>\n",
       "      <td>6.148599</td>\n",
       "      <td>10.142511</td>\n",
       "      <td>4.939416</td>\n",
       "      <td>42.774141</td>\n",
       "      <td>66.927016</td>\n",
       "      <td>10.360302</td>\n",
       "      <td>0.792826</td>\n",
       "      <td>16.525686</td>\n",
       "      <td>2.055292</td>\n",
       "      <td>...</td>\n",
       "      <td>14.027298</td>\n",
       "      <td>-499.838632</td>\n",
       "      <td>11.953070</td>\n",
       "      <td>-501.053894</td>\n",
       "      <td>9.925709</td>\n",
       "      <td>-501.686727</td>\n",
       "      <td>7.894242</td>\n",
       "      <td>-500.356035</td>\n",
       "      <td>13.996647</td>\n",
       "      <td>-601.496691</td>\n",
       "    </tr>\n",
       "  </tbody>\n",
       "</table>\n",
       "<p>5 rows × 87 columns</p>\n",
       "</div>"
      ],
      "text/plain": [
       "                  date  final.output.concentrate_ag  \\\n",
       "0  2016-01-15 00:00:00                     6.055403   \n",
       "1  2016-01-15 01:00:00                     6.029369   \n",
       "2  2016-01-15 02:00:00                     6.055926   \n",
       "3  2016-01-15 03:00:00                     6.047977   \n",
       "4  2016-01-15 04:00:00                     6.148599   \n",
       "\n",
       "   final.output.concentrate_pb  final.output.concentrate_sol  \\\n",
       "0                     9.889648                      5.507324   \n",
       "1                     9.968944                      5.257781   \n",
       "2                    10.213995                      5.383759   \n",
       "3                     9.977019                      4.858634   \n",
       "4                    10.142511                      4.939416   \n",
       "\n",
       "   final.output.concentrate_au  final.output.recovery  final.output.tail_ag  \\\n",
       "0                    42.192020              70.541216             10.411962   \n",
       "1                    42.701629              69.266198             10.462676   \n",
       "2                    42.657501              68.116445             10.507046   \n",
       "3                    42.689819              68.347543             10.422762   \n",
       "4                    42.774141              66.927016             10.360302   \n",
       "\n",
       "   final.output.tail_pb  final.output.tail_sol  final.output.tail_au  ...  \\\n",
       "0              0.895447              16.904297              2.143149  ...   \n",
       "1              0.927452              16.634514              2.224930  ...   \n",
       "2              0.953716              16.208849              2.257889  ...   \n",
       "3              0.883763              16.532835              2.146849  ...   \n",
       "4              0.792826              16.525686              2.055292  ...   \n",
       "\n",
       "   secondary_cleaner.state.floatbank4_a_air  \\\n",
       "0                                 14.016835   \n",
       "1                                 13.992281   \n",
       "2                                 14.015015   \n",
       "3                                 14.036510   \n",
       "4                                 14.027298   \n",
       "\n",
       "   secondary_cleaner.state.floatbank4_a_level  \\\n",
       "0                                 -502.488007   \n",
       "1                                 -505.503262   \n",
       "2                                 -502.520901   \n",
       "3                                 -500.857308   \n",
       "4                                 -499.838632   \n",
       "\n",
       "   secondary_cleaner.state.floatbank4_b_air  \\\n",
       "0                                 12.099931   \n",
       "1                                 11.950531   \n",
       "2                                 11.912783   \n",
       "3                                 11.999550   \n",
       "4                                 11.953070   \n",
       "\n",
       "   secondary_cleaner.state.floatbank4_b_level  \\\n",
       "0                                 -504.715942   \n",
       "1                                 -501.331529   \n",
       "2                                 -501.133383   \n",
       "3                                 -501.193686   \n",
       "4                                 -501.053894   \n",
       "\n",
       "   secondary_cleaner.state.floatbank5_a_air  \\\n",
       "0                                  9.925633   \n",
       "1                                 10.039245   \n",
       "2                                 10.070913   \n",
       "3                                  9.970366   \n",
       "4                                  9.925709   \n",
       "\n",
       "   secondary_cleaner.state.floatbank5_a_level  \\\n",
       "0                                 -498.310211   \n",
       "1                                 -500.169983   \n",
       "2                                 -500.129135   \n",
       "3                                 -499.201640   \n",
       "4                                 -501.686727   \n",
       "\n",
       "   secondary_cleaner.state.floatbank5_b_air  \\\n",
       "0                                  8.079666   \n",
       "1                                  7.984757   \n",
       "2                                  8.013877   \n",
       "3                                  7.977324   \n",
       "4                                  7.894242   \n",
       "\n",
       "   secondary_cleaner.state.floatbank5_b_level  \\\n",
       "0                                 -500.470978   \n",
       "1                                 -500.582168   \n",
       "2                                 -500.517572   \n",
       "3                                 -500.255908   \n",
       "4                                 -500.356035   \n",
       "\n",
       "   secondary_cleaner.state.floatbank6_a_air  \\\n",
       "0                                 14.151341   \n",
       "1                                 13.998353   \n",
       "2                                 14.028663   \n",
       "3                                 14.005551   \n",
       "4                                 13.996647   \n",
       "\n",
       "   secondary_cleaner.state.floatbank6_a_level  \n",
       "0                                 -605.841980  \n",
       "1                                 -599.787184  \n",
       "2                                 -601.427363  \n",
       "3                                 -599.996129  \n",
       "4                                 -601.496691  \n",
       "\n",
       "[5 rows x 87 columns]"
      ]
     },
     "metadata": {},
     "output_type": "display_data"
    },
    {
     "data": {
      "text/plain": [
       "None"
      ]
     },
     "metadata": {},
     "output_type": "display_data"
    },
    {
     "data": {
      "text/html": [
       "<div>\n",
       "<style scoped>\n",
       "    .dataframe tbody tr th:only-of-type {\n",
       "        vertical-align: middle;\n",
       "    }\n",
       "\n",
       "    .dataframe tbody tr th {\n",
       "        vertical-align: top;\n",
       "    }\n",
       "\n",
       "    .dataframe thead th {\n",
       "        text-align: right;\n",
       "    }\n",
       "</style>\n",
       "<table border=\"1\" class=\"dataframe\">\n",
       "  <thead>\n",
       "    <tr style=\"text-align: right;\">\n",
       "      <th></th>\n",
       "      <th>final.output.concentrate_ag</th>\n",
       "      <th>final.output.concentrate_pb</th>\n",
       "      <th>final.output.concentrate_sol</th>\n",
       "      <th>final.output.concentrate_au</th>\n",
       "      <th>final.output.recovery</th>\n",
       "      <th>final.output.tail_ag</th>\n",
       "      <th>final.output.tail_pb</th>\n",
       "      <th>final.output.tail_sol</th>\n",
       "      <th>final.output.tail_au</th>\n",
       "      <th>primary_cleaner.input.sulfate</th>\n",
       "      <th>...</th>\n",
       "      <th>secondary_cleaner.state.floatbank4_a_air</th>\n",
       "      <th>secondary_cleaner.state.floatbank4_a_level</th>\n",
       "      <th>secondary_cleaner.state.floatbank4_b_air</th>\n",
       "      <th>secondary_cleaner.state.floatbank4_b_level</th>\n",
       "      <th>secondary_cleaner.state.floatbank5_a_air</th>\n",
       "      <th>secondary_cleaner.state.floatbank5_a_level</th>\n",
       "      <th>secondary_cleaner.state.floatbank5_b_air</th>\n",
       "      <th>secondary_cleaner.state.floatbank5_b_level</th>\n",
       "      <th>secondary_cleaner.state.floatbank6_a_air</th>\n",
       "      <th>secondary_cleaner.state.floatbank6_a_level</th>\n",
       "    </tr>\n",
       "  </thead>\n",
       "  <tbody>\n",
       "    <tr>\n",
       "      <th>count</th>\n",
       "      <td>14148.000000</td>\n",
       "      <td>14148.000000</td>\n",
       "      <td>13938.000000</td>\n",
       "      <td>14149.000000</td>\n",
       "      <td>14149.000000</td>\n",
       "      <td>14149.000000</td>\n",
       "      <td>14049.000000</td>\n",
       "      <td>14144.000000</td>\n",
       "      <td>14149.000000</td>\n",
       "      <td>14129.000000</td>\n",
       "      <td>...</td>\n",
       "      <td>14143.000000</td>\n",
       "      <td>14148.000000</td>\n",
       "      <td>14148.000000</td>\n",
       "      <td>14148.000000</td>\n",
       "      <td>14148.000000</td>\n",
       "      <td>14148.000000</td>\n",
       "      <td>14148.000000</td>\n",
       "      <td>14148.000000</td>\n",
       "      <td>14147.000000</td>\n",
       "      <td>14148.000000</td>\n",
       "    </tr>\n",
       "    <tr>\n",
       "      <th>mean</th>\n",
       "      <td>5.142034</td>\n",
       "      <td>10.132960</td>\n",
       "      <td>9.202849</td>\n",
       "      <td>44.003792</td>\n",
       "      <td>66.518832</td>\n",
       "      <td>9.607035</td>\n",
       "      <td>2.597298</td>\n",
       "      <td>10.512122</td>\n",
       "      <td>2.918421</td>\n",
       "      <td>133.320659</td>\n",
       "      <td>...</td>\n",
       "      <td>19.985454</td>\n",
       "      <td>-478.696836</td>\n",
       "      <td>15.487065</td>\n",
       "      <td>-460.229416</td>\n",
       "      <td>16.775136</td>\n",
       "      <td>-483.956022</td>\n",
       "      <td>13.064590</td>\n",
       "      <td>-483.966564</td>\n",
       "      <td>19.577539</td>\n",
       "      <td>-506.798480</td>\n",
       "    </tr>\n",
       "    <tr>\n",
       "      <th>std</th>\n",
       "      <td>1.369586</td>\n",
       "      <td>1.654930</td>\n",
       "      <td>2.790516</td>\n",
       "      <td>4.905261</td>\n",
       "      <td>10.295402</td>\n",
       "      <td>2.319069</td>\n",
       "      <td>0.971843</td>\n",
       "      <td>3.003617</td>\n",
       "      <td>0.903712</td>\n",
       "      <td>39.431659</td>\n",
       "      <td>...</td>\n",
       "      <td>5.657723</td>\n",
       "      <td>50.736021</td>\n",
       "      <td>5.255655</td>\n",
       "      <td>58.843586</td>\n",
       "      <td>5.831906</td>\n",
       "      <td>37.892788</td>\n",
       "      <td>5.765617</td>\n",
       "      <td>39.207913</td>\n",
       "      <td>5.764417</td>\n",
       "      <td>37.079249</td>\n",
       "    </tr>\n",
       "    <tr>\n",
       "      <th>min</th>\n",
       "      <td>0.000000</td>\n",
       "      <td>0.000000</td>\n",
       "      <td>0.000000</td>\n",
       "      <td>0.000000</td>\n",
       "      <td>0.000000</td>\n",
       "      <td>0.000000</td>\n",
       "      <td>0.000000</td>\n",
       "      <td>0.000000</td>\n",
       "      <td>0.000000</td>\n",
       "      <td>0.003112</td>\n",
       "      <td>...</td>\n",
       "      <td>0.000000</td>\n",
       "      <td>-799.709069</td>\n",
       "      <td>0.000000</td>\n",
       "      <td>-799.889113</td>\n",
       "      <td>-0.372054</td>\n",
       "      <td>-797.142475</td>\n",
       "      <td>0.646208</td>\n",
       "      <td>-800.006180</td>\n",
       "      <td>0.195324</td>\n",
       "      <td>-809.398668</td>\n",
       "    </tr>\n",
       "    <tr>\n",
       "      <th>25%</th>\n",
       "      <td>4.211620</td>\n",
       "      <td>9.297355</td>\n",
       "      <td>7.484645</td>\n",
       "      <td>43.276111</td>\n",
       "      <td>62.545817</td>\n",
       "      <td>7.997429</td>\n",
       "      <td>1.905973</td>\n",
       "      <td>8.811324</td>\n",
       "      <td>2.368607</td>\n",
       "      <td>107.006651</td>\n",
       "      <td>...</td>\n",
       "      <td>14.990775</td>\n",
       "      <td>-500.628656</td>\n",
       "      <td>11.894558</td>\n",
       "      <td>-500.149000</td>\n",
       "      <td>11.083980</td>\n",
       "      <td>-500.363177</td>\n",
       "      <td>8.994405</td>\n",
       "      <td>-500.105994</td>\n",
       "      <td>14.989304</td>\n",
       "      <td>-500.745104</td>\n",
       "    </tr>\n",
       "    <tr>\n",
       "      <th>50%</th>\n",
       "      <td>4.994652</td>\n",
       "      <td>10.297144</td>\n",
       "      <td>8.845462</td>\n",
       "      <td>44.872436</td>\n",
       "      <td>67.432775</td>\n",
       "      <td>9.480270</td>\n",
       "      <td>2.592022</td>\n",
       "      <td>10.514621</td>\n",
       "      <td>2.851025</td>\n",
       "      <td>133.018328</td>\n",
       "      <td>...</td>\n",
       "      <td>20.001789</td>\n",
       "      <td>-499.681450</td>\n",
       "      <td>14.975536</td>\n",
       "      <td>-499.388738</td>\n",
       "      <td>17.932223</td>\n",
       "      <td>-499.702452</td>\n",
       "      <td>11.997547</td>\n",
       "      <td>-499.914556</td>\n",
       "      <td>19.984175</td>\n",
       "      <td>-500.061431</td>\n",
       "    </tr>\n",
       "    <tr>\n",
       "      <th>75%</th>\n",
       "      <td>5.859540</td>\n",
       "      <td>11.170603</td>\n",
       "      <td>10.487508</td>\n",
       "      <td>46.166425</td>\n",
       "      <td>72.346428</td>\n",
       "      <td>11.003707</td>\n",
       "      <td>3.241723</td>\n",
       "      <td>11.933009</td>\n",
       "      <td>3.434764</td>\n",
       "      <td>159.825396</td>\n",
       "      <td>...</td>\n",
       "      <td>24.990826</td>\n",
       "      <td>-477.472413</td>\n",
       "      <td>20.059375</td>\n",
       "      <td>-400.039008</td>\n",
       "      <td>21.346550</td>\n",
       "      <td>-487.712108</td>\n",
       "      <td>17.982903</td>\n",
       "      <td>-453.186936</td>\n",
       "      <td>24.991623</td>\n",
       "      <td>-499.536466</td>\n",
       "    </tr>\n",
       "    <tr>\n",
       "      <th>max</th>\n",
       "      <td>16.001945</td>\n",
       "      <td>17.031899</td>\n",
       "      <td>18.124851</td>\n",
       "      <td>52.756638</td>\n",
       "      <td>100.000000</td>\n",
       "      <td>19.552149</td>\n",
       "      <td>5.639565</td>\n",
       "      <td>22.317730</td>\n",
       "      <td>8.197408</td>\n",
       "      <td>250.127834</td>\n",
       "      <td>...</td>\n",
       "      <td>30.115735</td>\n",
       "      <td>-245.239184</td>\n",
       "      <td>24.007913</td>\n",
       "      <td>-145.071088</td>\n",
       "      <td>43.709931</td>\n",
       "      <td>-275.073125</td>\n",
       "      <td>27.926001</td>\n",
       "      <td>-157.396071</td>\n",
       "      <td>32.188906</td>\n",
       "      <td>-104.427459</td>\n",
       "    </tr>\n",
       "  </tbody>\n",
       "</table>\n",
       "<p>8 rows × 86 columns</p>\n",
       "</div>"
      ],
      "text/plain": [
       "       final.output.concentrate_ag  final.output.concentrate_pb  \\\n",
       "count                 14148.000000                 14148.000000   \n",
       "mean                      5.142034                    10.132960   \n",
       "std                       1.369586                     1.654930   \n",
       "min                       0.000000                     0.000000   \n",
       "25%                       4.211620                     9.297355   \n",
       "50%                       4.994652                    10.297144   \n",
       "75%                       5.859540                    11.170603   \n",
       "max                      16.001945                    17.031899   \n",
       "\n",
       "       final.output.concentrate_sol  final.output.concentrate_au  \\\n",
       "count                  13938.000000                 14149.000000   \n",
       "mean                       9.202849                    44.003792   \n",
       "std                        2.790516                     4.905261   \n",
       "min                        0.000000                     0.000000   \n",
       "25%                        7.484645                    43.276111   \n",
       "50%                        8.845462                    44.872436   \n",
       "75%                       10.487508                    46.166425   \n",
       "max                       18.124851                    52.756638   \n",
       "\n",
       "       final.output.recovery  final.output.tail_ag  final.output.tail_pb  \\\n",
       "count           14149.000000          14149.000000          14049.000000   \n",
       "mean               66.518832              9.607035              2.597298   \n",
       "std                10.295402              2.319069              0.971843   \n",
       "min                 0.000000              0.000000              0.000000   \n",
       "25%                62.545817              7.997429              1.905973   \n",
       "50%                67.432775              9.480270              2.592022   \n",
       "75%                72.346428             11.003707              3.241723   \n",
       "max               100.000000             19.552149              5.639565   \n",
       "\n",
       "       final.output.tail_sol  final.output.tail_au  \\\n",
       "count           14144.000000          14149.000000   \n",
       "mean               10.512122              2.918421   \n",
       "std                 3.003617              0.903712   \n",
       "min                 0.000000              0.000000   \n",
       "25%                 8.811324              2.368607   \n",
       "50%                10.514621              2.851025   \n",
       "75%                11.933009              3.434764   \n",
       "max                22.317730              8.197408   \n",
       "\n",
       "       primary_cleaner.input.sulfate  ...  \\\n",
       "count                   14129.000000  ...   \n",
       "mean                      133.320659  ...   \n",
       "std                        39.431659  ...   \n",
       "min                         0.003112  ...   \n",
       "25%                       107.006651  ...   \n",
       "50%                       133.018328  ...   \n",
       "75%                       159.825396  ...   \n",
       "max                       250.127834  ...   \n",
       "\n",
       "       secondary_cleaner.state.floatbank4_a_air  \\\n",
       "count                              14143.000000   \n",
       "mean                                  19.985454   \n",
       "std                                    5.657723   \n",
       "min                                    0.000000   \n",
       "25%                                   14.990775   \n",
       "50%                                   20.001789   \n",
       "75%                                   24.990826   \n",
       "max                                   30.115735   \n",
       "\n",
       "       secondary_cleaner.state.floatbank4_a_level  \\\n",
       "count                                14148.000000   \n",
       "mean                                  -478.696836   \n",
       "std                                     50.736021   \n",
       "min                                   -799.709069   \n",
       "25%                                   -500.628656   \n",
       "50%                                   -499.681450   \n",
       "75%                                   -477.472413   \n",
       "max                                   -245.239184   \n",
       "\n",
       "       secondary_cleaner.state.floatbank4_b_air  \\\n",
       "count                              14148.000000   \n",
       "mean                                  15.487065   \n",
       "std                                    5.255655   \n",
       "min                                    0.000000   \n",
       "25%                                   11.894558   \n",
       "50%                                   14.975536   \n",
       "75%                                   20.059375   \n",
       "max                                   24.007913   \n",
       "\n",
       "       secondary_cleaner.state.floatbank4_b_level  \\\n",
       "count                                14148.000000   \n",
       "mean                                  -460.229416   \n",
       "std                                     58.843586   \n",
       "min                                   -799.889113   \n",
       "25%                                   -500.149000   \n",
       "50%                                   -499.388738   \n",
       "75%                                   -400.039008   \n",
       "max                                   -145.071088   \n",
       "\n",
       "       secondary_cleaner.state.floatbank5_a_air  \\\n",
       "count                              14148.000000   \n",
       "mean                                  16.775136   \n",
       "std                                    5.831906   \n",
       "min                                   -0.372054   \n",
       "25%                                   11.083980   \n",
       "50%                                   17.932223   \n",
       "75%                                   21.346550   \n",
       "max                                   43.709931   \n",
       "\n",
       "       secondary_cleaner.state.floatbank5_a_level  \\\n",
       "count                                14148.000000   \n",
       "mean                                  -483.956022   \n",
       "std                                     37.892788   \n",
       "min                                   -797.142475   \n",
       "25%                                   -500.363177   \n",
       "50%                                   -499.702452   \n",
       "75%                                   -487.712108   \n",
       "max                                   -275.073125   \n",
       "\n",
       "       secondary_cleaner.state.floatbank5_b_air  \\\n",
       "count                              14148.000000   \n",
       "mean                                  13.064590   \n",
       "std                                    5.765617   \n",
       "min                                    0.646208   \n",
       "25%                                    8.994405   \n",
       "50%                                   11.997547   \n",
       "75%                                   17.982903   \n",
       "max                                   27.926001   \n",
       "\n",
       "       secondary_cleaner.state.floatbank5_b_level  \\\n",
       "count                                14148.000000   \n",
       "mean                                  -483.966564   \n",
       "std                                     39.207913   \n",
       "min                                   -800.006180   \n",
       "25%                                   -500.105994   \n",
       "50%                                   -499.914556   \n",
       "75%                                   -453.186936   \n",
       "max                                   -157.396071   \n",
       "\n",
       "       secondary_cleaner.state.floatbank6_a_air  \\\n",
       "count                              14147.000000   \n",
       "mean                                  19.577539   \n",
       "std                                    5.764417   \n",
       "min                                    0.195324   \n",
       "25%                                   14.989304   \n",
       "50%                                   19.984175   \n",
       "75%                                   24.991623   \n",
       "max                                   32.188906   \n",
       "\n",
       "       secondary_cleaner.state.floatbank6_a_level  \n",
       "count                                14148.000000  \n",
       "mean                                  -506.798480  \n",
       "std                                     37.079249  \n",
       "min                                   -809.398668  \n",
       "25%                                   -500.745104  \n",
       "50%                                   -500.061431  \n",
       "75%                                   -499.536466  \n",
       "max                                   -104.427459  \n",
       "\n",
       "[8 rows x 86 columns]"
      ]
     },
     "metadata": {},
     "output_type": "display_data"
    },
    {
     "data": {
      "text/plain": [
       "date                                            0\n",
       "final.output.concentrate_ag                     1\n",
       "final.output.concentrate_pb                     1\n",
       "final.output.concentrate_sol                  211\n",
       "final.output.concentrate_au                     0\n",
       "                                             ... \n",
       "secondary_cleaner.state.floatbank5_a_level      1\n",
       "secondary_cleaner.state.floatbank5_b_air        1\n",
       "secondary_cleaner.state.floatbank5_b_level      1\n",
       "secondary_cleaner.state.floatbank6_a_air        2\n",
       "secondary_cleaner.state.floatbank6_a_level      1\n",
       "Length: 87, dtype: int64"
      ]
     },
     "metadata": {},
     "output_type": "display_data"
    },
    {
     "name": "stdout",
     "output_type": "stream",
     "text": [
      "\n",
      "\n",
      "TEST\n",
      "<class 'pandas.core.frame.DataFrame'>\n",
      "RangeIndex: 5290 entries, 0 to 5289\n",
      "Data columns (total 53 columns):\n",
      " #   Column                                      Non-Null Count  Dtype  \n",
      "---  ------                                      --------------  -----  \n",
      " 0   date                                        5290 non-null   object \n",
      " 1   primary_cleaner.input.sulfate               5286 non-null   float64\n",
      " 2   primary_cleaner.input.depressant            5285 non-null   float64\n",
      " 3   primary_cleaner.input.feed_size             5290 non-null   float64\n",
      " 4   primary_cleaner.input.xanthate              5286 non-null   float64\n",
      " 5   primary_cleaner.state.floatbank8_a_air      5290 non-null   float64\n",
      " 6   primary_cleaner.state.floatbank8_a_level    5290 non-null   float64\n",
      " 7   primary_cleaner.state.floatbank8_b_air      5290 non-null   float64\n",
      " 8   primary_cleaner.state.floatbank8_b_level    5290 non-null   float64\n",
      " 9   primary_cleaner.state.floatbank8_c_air      5290 non-null   float64\n",
      " 10  primary_cleaner.state.floatbank8_c_level    5290 non-null   float64\n",
      " 11  primary_cleaner.state.floatbank8_d_air      5290 non-null   float64\n",
      " 12  primary_cleaner.state.floatbank8_d_level    5290 non-null   float64\n",
      " 13  rougher.input.feed_ag                       5290 non-null   float64\n",
      " 14  rougher.input.feed_pb                       5290 non-null   float64\n",
      " 15  rougher.input.feed_rate                     5287 non-null   float64\n",
      " 16  rougher.input.feed_size                     5289 non-null   float64\n",
      " 17  rougher.input.feed_sol                      5269 non-null   float64\n",
      " 18  rougher.input.feed_au                       5290 non-null   float64\n",
      " 19  rougher.input.floatbank10_sulfate           5285 non-null   float64\n",
      " 20  rougher.input.floatbank10_xanthate          5290 non-null   float64\n",
      " 21  rougher.input.floatbank11_sulfate           5282 non-null   float64\n",
      " 22  rougher.input.floatbank11_xanthate          5265 non-null   float64\n",
      " 23  rougher.state.floatbank10_a_air             5290 non-null   float64\n",
      " 24  rougher.state.floatbank10_a_level           5290 non-null   float64\n",
      " 25  rougher.state.floatbank10_b_air             5290 non-null   float64\n",
      " 26  rougher.state.floatbank10_b_level           5290 non-null   float64\n",
      " 27  rougher.state.floatbank10_c_air             5290 non-null   float64\n",
      " 28  rougher.state.floatbank10_c_level           5290 non-null   float64\n",
      " 29  rougher.state.floatbank10_d_air             5290 non-null   float64\n",
      " 30  rougher.state.floatbank10_d_level           5290 non-null   float64\n",
      " 31  rougher.state.floatbank10_e_air             5290 non-null   float64\n",
      " 32  rougher.state.floatbank10_e_level           5290 non-null   float64\n",
      " 33  rougher.state.floatbank10_f_air             5290 non-null   float64\n",
      " 34  rougher.state.floatbank10_f_level           5290 non-null   float64\n",
      " 35  secondary_cleaner.state.floatbank2_a_air    5287 non-null   float64\n",
      " 36  secondary_cleaner.state.floatbank2_a_level  5290 non-null   float64\n",
      " 37  secondary_cleaner.state.floatbank2_b_air    5288 non-null   float64\n",
      " 38  secondary_cleaner.state.floatbank2_b_level  5290 non-null   float64\n",
      " 39  secondary_cleaner.state.floatbank3_a_air    5281 non-null   float64\n",
      " 40  secondary_cleaner.state.floatbank3_a_level  5290 non-null   float64\n",
      " 41  secondary_cleaner.state.floatbank3_b_air    5290 non-null   float64\n",
      " 42  secondary_cleaner.state.floatbank3_b_level  5290 non-null   float64\n",
      " 43  secondary_cleaner.state.floatbank4_a_air    5290 non-null   float64\n",
      " 44  secondary_cleaner.state.floatbank4_a_level  5290 non-null   float64\n",
      " 45  secondary_cleaner.state.floatbank4_b_air    5290 non-null   float64\n",
      " 46  secondary_cleaner.state.floatbank4_b_level  5290 non-null   float64\n",
      " 47  secondary_cleaner.state.floatbank5_a_air    5290 non-null   float64\n",
      " 48  secondary_cleaner.state.floatbank5_a_level  5290 non-null   float64\n",
      " 49  secondary_cleaner.state.floatbank5_b_air    5290 non-null   float64\n",
      " 50  secondary_cleaner.state.floatbank5_b_level  5290 non-null   float64\n",
      " 51  secondary_cleaner.state.floatbank6_a_air    5290 non-null   float64\n",
      " 52  secondary_cleaner.state.floatbank6_a_level  5290 non-null   float64\n",
      "dtypes: float64(52), object(1)\n",
      "memory usage: 2.1+ MB\n"
     ]
    },
    {
     "data": {
      "text/html": [
       "<div>\n",
       "<style scoped>\n",
       "    .dataframe tbody tr th:only-of-type {\n",
       "        vertical-align: middle;\n",
       "    }\n",
       "\n",
       "    .dataframe tbody tr th {\n",
       "        vertical-align: top;\n",
       "    }\n",
       "\n",
       "    .dataframe thead th {\n",
       "        text-align: right;\n",
       "    }\n",
       "</style>\n",
       "<table border=\"1\" class=\"dataframe\">\n",
       "  <thead>\n",
       "    <tr style=\"text-align: right;\">\n",
       "      <th></th>\n",
       "      <th>date</th>\n",
       "      <th>primary_cleaner.input.sulfate</th>\n",
       "      <th>primary_cleaner.input.depressant</th>\n",
       "      <th>primary_cleaner.input.feed_size</th>\n",
       "      <th>primary_cleaner.input.xanthate</th>\n",
       "      <th>primary_cleaner.state.floatbank8_a_air</th>\n",
       "      <th>primary_cleaner.state.floatbank8_a_level</th>\n",
       "      <th>primary_cleaner.state.floatbank8_b_air</th>\n",
       "      <th>primary_cleaner.state.floatbank8_b_level</th>\n",
       "      <th>primary_cleaner.state.floatbank8_c_air</th>\n",
       "      <th>...</th>\n",
       "      <th>secondary_cleaner.state.floatbank4_a_air</th>\n",
       "      <th>secondary_cleaner.state.floatbank4_a_level</th>\n",
       "      <th>secondary_cleaner.state.floatbank4_b_air</th>\n",
       "      <th>secondary_cleaner.state.floatbank4_b_level</th>\n",
       "      <th>secondary_cleaner.state.floatbank5_a_air</th>\n",
       "      <th>secondary_cleaner.state.floatbank5_a_level</th>\n",
       "      <th>secondary_cleaner.state.floatbank5_b_air</th>\n",
       "      <th>secondary_cleaner.state.floatbank5_b_level</th>\n",
       "      <th>secondary_cleaner.state.floatbank6_a_air</th>\n",
       "      <th>secondary_cleaner.state.floatbank6_a_level</th>\n",
       "    </tr>\n",
       "  </thead>\n",
       "  <tbody>\n",
       "    <tr>\n",
       "      <th>0</th>\n",
       "      <td>2016-09-01 00:59:59</td>\n",
       "      <td>210.800909</td>\n",
       "      <td>14.993118</td>\n",
       "      <td>8.080000</td>\n",
       "      <td>1.005021</td>\n",
       "      <td>1398.981301</td>\n",
       "      <td>-500.225577</td>\n",
       "      <td>1399.144926</td>\n",
       "      <td>-499.919735</td>\n",
       "      <td>1400.102998</td>\n",
       "      <td>...</td>\n",
       "      <td>12.023554</td>\n",
       "      <td>-497.795834</td>\n",
       "      <td>8.016656</td>\n",
       "      <td>-501.289139</td>\n",
       "      <td>7.946562</td>\n",
       "      <td>-432.317850</td>\n",
       "      <td>4.872511</td>\n",
       "      <td>-500.037437</td>\n",
       "      <td>26.705889</td>\n",
       "      <td>-499.709414</td>\n",
       "    </tr>\n",
       "    <tr>\n",
       "      <th>1</th>\n",
       "      <td>2016-09-01 01:59:59</td>\n",
       "      <td>215.392455</td>\n",
       "      <td>14.987471</td>\n",
       "      <td>8.080000</td>\n",
       "      <td>0.990469</td>\n",
       "      <td>1398.777912</td>\n",
       "      <td>-500.057435</td>\n",
       "      <td>1398.055362</td>\n",
       "      <td>-499.778182</td>\n",
       "      <td>1396.151033</td>\n",
       "      <td>...</td>\n",
       "      <td>12.058140</td>\n",
       "      <td>-498.695773</td>\n",
       "      <td>8.130979</td>\n",
       "      <td>-499.634209</td>\n",
       "      <td>7.958270</td>\n",
       "      <td>-525.839648</td>\n",
       "      <td>4.878850</td>\n",
       "      <td>-500.162375</td>\n",
       "      <td>25.019940</td>\n",
       "      <td>-499.819438</td>\n",
       "    </tr>\n",
       "    <tr>\n",
       "      <th>2</th>\n",
       "      <td>2016-09-01 02:59:59</td>\n",
       "      <td>215.259946</td>\n",
       "      <td>12.884934</td>\n",
       "      <td>7.786667</td>\n",
       "      <td>0.996043</td>\n",
       "      <td>1398.493666</td>\n",
       "      <td>-500.868360</td>\n",
       "      <td>1398.860436</td>\n",
       "      <td>-499.764529</td>\n",
       "      <td>1398.075709</td>\n",
       "      <td>...</td>\n",
       "      <td>11.962366</td>\n",
       "      <td>-498.767484</td>\n",
       "      <td>8.096893</td>\n",
       "      <td>-500.827423</td>\n",
       "      <td>8.071056</td>\n",
       "      <td>-500.801673</td>\n",
       "      <td>4.905125</td>\n",
       "      <td>-499.828510</td>\n",
       "      <td>24.994862</td>\n",
       "      <td>-500.622559</td>\n",
       "    </tr>\n",
       "    <tr>\n",
       "      <th>3</th>\n",
       "      <td>2016-09-01 03:59:59</td>\n",
       "      <td>215.336236</td>\n",
       "      <td>12.006805</td>\n",
       "      <td>7.640000</td>\n",
       "      <td>0.863514</td>\n",
       "      <td>1399.618111</td>\n",
       "      <td>-498.863574</td>\n",
       "      <td>1397.440120</td>\n",
       "      <td>-499.211024</td>\n",
       "      <td>1400.129303</td>\n",
       "      <td>...</td>\n",
       "      <td>12.033091</td>\n",
       "      <td>-498.350935</td>\n",
       "      <td>8.074946</td>\n",
       "      <td>-499.474407</td>\n",
       "      <td>7.897085</td>\n",
       "      <td>-500.868509</td>\n",
       "      <td>4.931400</td>\n",
       "      <td>-499.963623</td>\n",
       "      <td>24.948919</td>\n",
       "      <td>-498.709987</td>\n",
       "    </tr>\n",
       "    <tr>\n",
       "      <th>4</th>\n",
       "      <td>2016-09-01 04:59:59</td>\n",
       "      <td>199.099327</td>\n",
       "      <td>10.682530</td>\n",
       "      <td>7.530000</td>\n",
       "      <td>0.805575</td>\n",
       "      <td>1401.268123</td>\n",
       "      <td>-500.808305</td>\n",
       "      <td>1398.128818</td>\n",
       "      <td>-499.504543</td>\n",
       "      <td>1402.172226</td>\n",
       "      <td>...</td>\n",
       "      <td>12.025367</td>\n",
       "      <td>-500.786497</td>\n",
       "      <td>8.054678</td>\n",
       "      <td>-500.397500</td>\n",
       "      <td>8.107890</td>\n",
       "      <td>-509.526725</td>\n",
       "      <td>4.957674</td>\n",
       "      <td>-500.360026</td>\n",
       "      <td>25.003331</td>\n",
       "      <td>-500.856333</td>\n",
       "    </tr>\n",
       "  </tbody>\n",
       "</table>\n",
       "<p>5 rows × 53 columns</p>\n",
       "</div>"
      ],
      "text/plain": [
       "                  date  primary_cleaner.input.sulfate  \\\n",
       "0  2016-09-01 00:59:59                     210.800909   \n",
       "1  2016-09-01 01:59:59                     215.392455   \n",
       "2  2016-09-01 02:59:59                     215.259946   \n",
       "3  2016-09-01 03:59:59                     215.336236   \n",
       "4  2016-09-01 04:59:59                     199.099327   \n",
       "\n",
       "   primary_cleaner.input.depressant  primary_cleaner.input.feed_size  \\\n",
       "0                         14.993118                         8.080000   \n",
       "1                         14.987471                         8.080000   \n",
       "2                         12.884934                         7.786667   \n",
       "3                         12.006805                         7.640000   \n",
       "4                         10.682530                         7.530000   \n",
       "\n",
       "   primary_cleaner.input.xanthate  primary_cleaner.state.floatbank8_a_air  \\\n",
       "0                        1.005021                             1398.981301   \n",
       "1                        0.990469                             1398.777912   \n",
       "2                        0.996043                             1398.493666   \n",
       "3                        0.863514                             1399.618111   \n",
       "4                        0.805575                             1401.268123   \n",
       "\n",
       "   primary_cleaner.state.floatbank8_a_level  \\\n",
       "0                               -500.225577   \n",
       "1                               -500.057435   \n",
       "2                               -500.868360   \n",
       "3                               -498.863574   \n",
       "4                               -500.808305   \n",
       "\n",
       "   primary_cleaner.state.floatbank8_b_air  \\\n",
       "0                             1399.144926   \n",
       "1                             1398.055362   \n",
       "2                             1398.860436   \n",
       "3                             1397.440120   \n",
       "4                             1398.128818   \n",
       "\n",
       "   primary_cleaner.state.floatbank8_b_level  \\\n",
       "0                               -499.919735   \n",
       "1                               -499.778182   \n",
       "2                               -499.764529   \n",
       "3                               -499.211024   \n",
       "4                               -499.504543   \n",
       "\n",
       "   primary_cleaner.state.floatbank8_c_air  ...  \\\n",
       "0                             1400.102998  ...   \n",
       "1                             1396.151033  ...   \n",
       "2                             1398.075709  ...   \n",
       "3                             1400.129303  ...   \n",
       "4                             1402.172226  ...   \n",
       "\n",
       "   secondary_cleaner.state.floatbank4_a_air  \\\n",
       "0                                 12.023554   \n",
       "1                                 12.058140   \n",
       "2                                 11.962366   \n",
       "3                                 12.033091   \n",
       "4                                 12.025367   \n",
       "\n",
       "   secondary_cleaner.state.floatbank4_a_level  \\\n",
       "0                                 -497.795834   \n",
       "1                                 -498.695773   \n",
       "2                                 -498.767484   \n",
       "3                                 -498.350935   \n",
       "4                                 -500.786497   \n",
       "\n",
       "   secondary_cleaner.state.floatbank4_b_air  \\\n",
       "0                                  8.016656   \n",
       "1                                  8.130979   \n",
       "2                                  8.096893   \n",
       "3                                  8.074946   \n",
       "4                                  8.054678   \n",
       "\n",
       "   secondary_cleaner.state.floatbank4_b_level  \\\n",
       "0                                 -501.289139   \n",
       "1                                 -499.634209   \n",
       "2                                 -500.827423   \n",
       "3                                 -499.474407   \n",
       "4                                 -500.397500   \n",
       "\n",
       "   secondary_cleaner.state.floatbank5_a_air  \\\n",
       "0                                  7.946562   \n",
       "1                                  7.958270   \n",
       "2                                  8.071056   \n",
       "3                                  7.897085   \n",
       "4                                  8.107890   \n",
       "\n",
       "   secondary_cleaner.state.floatbank5_a_level  \\\n",
       "0                                 -432.317850   \n",
       "1                                 -525.839648   \n",
       "2                                 -500.801673   \n",
       "3                                 -500.868509   \n",
       "4                                 -509.526725   \n",
       "\n",
       "   secondary_cleaner.state.floatbank5_b_air  \\\n",
       "0                                  4.872511   \n",
       "1                                  4.878850   \n",
       "2                                  4.905125   \n",
       "3                                  4.931400   \n",
       "4                                  4.957674   \n",
       "\n",
       "   secondary_cleaner.state.floatbank5_b_level  \\\n",
       "0                                 -500.037437   \n",
       "1                                 -500.162375   \n",
       "2                                 -499.828510   \n",
       "3                                 -499.963623   \n",
       "4                                 -500.360026   \n",
       "\n",
       "   secondary_cleaner.state.floatbank6_a_air  \\\n",
       "0                                 26.705889   \n",
       "1                                 25.019940   \n",
       "2                                 24.994862   \n",
       "3                                 24.948919   \n",
       "4                                 25.003331   \n",
       "\n",
       "   secondary_cleaner.state.floatbank6_a_level  \n",
       "0                                 -499.709414  \n",
       "1                                 -499.819438  \n",
       "2                                 -500.622559  \n",
       "3                                 -498.709987  \n",
       "4                                 -500.856333  \n",
       "\n",
       "[5 rows x 53 columns]"
      ]
     },
     "metadata": {},
     "output_type": "display_data"
    },
    {
     "data": {
      "text/plain": [
       "None"
      ]
     },
     "metadata": {},
     "output_type": "display_data"
    },
    {
     "data": {
      "text/html": [
       "<div>\n",
       "<style scoped>\n",
       "    .dataframe tbody tr th:only-of-type {\n",
       "        vertical-align: middle;\n",
       "    }\n",
       "\n",
       "    .dataframe tbody tr th {\n",
       "        vertical-align: top;\n",
       "    }\n",
       "\n",
       "    .dataframe thead th {\n",
       "        text-align: right;\n",
       "    }\n",
       "</style>\n",
       "<table border=\"1\" class=\"dataframe\">\n",
       "  <thead>\n",
       "    <tr style=\"text-align: right;\">\n",
       "      <th></th>\n",
       "      <th>primary_cleaner.input.sulfate</th>\n",
       "      <th>primary_cleaner.input.depressant</th>\n",
       "      <th>primary_cleaner.input.feed_size</th>\n",
       "      <th>primary_cleaner.input.xanthate</th>\n",
       "      <th>primary_cleaner.state.floatbank8_a_air</th>\n",
       "      <th>primary_cleaner.state.floatbank8_a_level</th>\n",
       "      <th>primary_cleaner.state.floatbank8_b_air</th>\n",
       "      <th>primary_cleaner.state.floatbank8_b_level</th>\n",
       "      <th>primary_cleaner.state.floatbank8_c_air</th>\n",
       "      <th>primary_cleaner.state.floatbank8_c_level</th>\n",
       "      <th>...</th>\n",
       "      <th>secondary_cleaner.state.floatbank4_a_air</th>\n",
       "      <th>secondary_cleaner.state.floatbank4_a_level</th>\n",
       "      <th>secondary_cleaner.state.floatbank4_b_air</th>\n",
       "      <th>secondary_cleaner.state.floatbank4_b_level</th>\n",
       "      <th>secondary_cleaner.state.floatbank5_a_air</th>\n",
       "      <th>secondary_cleaner.state.floatbank5_a_level</th>\n",
       "      <th>secondary_cleaner.state.floatbank5_b_air</th>\n",
       "      <th>secondary_cleaner.state.floatbank5_b_level</th>\n",
       "      <th>secondary_cleaner.state.floatbank6_a_air</th>\n",
       "      <th>secondary_cleaner.state.floatbank6_a_level</th>\n",
       "    </tr>\n",
       "  </thead>\n",
       "  <tbody>\n",
       "    <tr>\n",
       "      <th>count</th>\n",
       "      <td>5286.000000</td>\n",
       "      <td>5285.000000</td>\n",
       "      <td>5290.000000</td>\n",
       "      <td>5286.000000</td>\n",
       "      <td>5.290000e+03</td>\n",
       "      <td>5290.000000</td>\n",
       "      <td>5.290000e+03</td>\n",
       "      <td>5290.000000</td>\n",
       "      <td>5.290000e+03</td>\n",
       "      <td>5290.000000</td>\n",
       "      <td>...</td>\n",
       "      <td>5.290000e+03</td>\n",
       "      <td>5290.000000</td>\n",
       "      <td>5.290000e+03</td>\n",
       "      <td>5290.000000</td>\n",
       "      <td>5290.000000</td>\n",
       "      <td>5290.000000</td>\n",
       "      <td>5290.000000</td>\n",
       "      <td>5290.000000</td>\n",
       "      <td>5290.000000</td>\n",
       "      <td>5290.000000</td>\n",
       "    </tr>\n",
       "    <tr>\n",
       "      <th>mean</th>\n",
       "      <td>174.839652</td>\n",
       "      <td>8.683596</td>\n",
       "      <td>7.266339</td>\n",
       "      <td>1.383803</td>\n",
       "      <td>1.539494e+03</td>\n",
       "      <td>-497.665883</td>\n",
       "      <td>1.545174e+03</td>\n",
       "      <td>-500.273098</td>\n",
       "      <td>1.527272e+03</td>\n",
       "      <td>-498.330680</td>\n",
       "      <td>...</td>\n",
       "      <td>1.632007e+01</td>\n",
       "      <td>-505.144570</td>\n",
       "      <td>1.373544e+01</td>\n",
       "      <td>-463.349858</td>\n",
       "      <td>12.804186</td>\n",
       "      <td>-501.329122</td>\n",
       "      <td>9.881145</td>\n",
       "      <td>-495.663398</td>\n",
       "      <td>17.304935</td>\n",
       "      <td>-501.793193</td>\n",
       "    </tr>\n",
       "    <tr>\n",
       "      <th>std</th>\n",
       "      <td>43.027080</td>\n",
       "      <td>3.072050</td>\n",
       "      <td>0.610219</td>\n",
       "      <td>0.643474</td>\n",
       "      <td>1.167979e+02</td>\n",
       "      <td>19.952431</td>\n",
       "      <td>1.222246e+02</td>\n",
       "      <td>32.968307</td>\n",
       "      <td>1.225380e+02</td>\n",
       "      <td>21.964876</td>\n",
       "      <td>...</td>\n",
       "      <td>3.493583e+00</td>\n",
       "      <td>31.427337</td>\n",
       "      <td>3.430484e+00</td>\n",
       "      <td>86.189107</td>\n",
       "      <td>3.026591</td>\n",
       "      <td>17.951495</td>\n",
       "      <td>2.868205</td>\n",
       "      <td>34.535007</td>\n",
       "      <td>4.536544</td>\n",
       "      <td>39.044215</td>\n",
       "    </tr>\n",
       "    <tr>\n",
       "      <th>min</th>\n",
       "      <td>2.566156</td>\n",
       "      <td>0.003839</td>\n",
       "      <td>5.650000</td>\n",
       "      <td>0.004984</td>\n",
       "      <td>5.445860e-32</td>\n",
       "      <td>-795.316337</td>\n",
       "      <td>6.647490e-32</td>\n",
       "      <td>-799.997015</td>\n",
       "      <td>4.033736e-32</td>\n",
       "      <td>-799.960571</td>\n",
       "      <td>...</td>\n",
       "      <td>1.079872e-16</td>\n",
       "      <td>-799.798523</td>\n",
       "      <td>2.489718e-17</td>\n",
       "      <td>-800.836914</td>\n",
       "      <td>0.069227</td>\n",
       "      <td>-797.323986</td>\n",
       "      <td>0.528083</td>\n",
       "      <td>-800.220337</td>\n",
       "      <td>-0.079426</td>\n",
       "      <td>-809.741464</td>\n",
       "    </tr>\n",
       "    <tr>\n",
       "      <th>25%</th>\n",
       "      <td>147.121401</td>\n",
       "      <td>6.489555</td>\n",
       "      <td>6.890000</td>\n",
       "      <td>0.907623</td>\n",
       "      <td>1.498936e+03</td>\n",
       "      <td>-500.357298</td>\n",
       "      <td>1.498971e+03</td>\n",
       "      <td>-500.703002</td>\n",
       "      <td>1.473230e+03</td>\n",
       "      <td>-501.018117</td>\n",
       "      <td>...</td>\n",
       "      <td>1.403618e+01</td>\n",
       "      <td>-500.868258</td>\n",
       "      <td>1.202862e+01</td>\n",
       "      <td>-500.323028</td>\n",
       "      <td>10.914838</td>\n",
       "      <td>-500.726841</td>\n",
       "      <td>8.036719</td>\n",
       "      <td>-500.194668</td>\n",
       "      <td>13.997317</td>\n",
       "      <td>-500.690984</td>\n",
       "    </tr>\n",
       "    <tr>\n",
       "      <th>50%</th>\n",
       "      <td>177.828489</td>\n",
       "      <td>8.052207</td>\n",
       "      <td>7.250000</td>\n",
       "      <td>1.197610</td>\n",
       "      <td>1.585129e+03</td>\n",
       "      <td>-499.969164</td>\n",
       "      <td>1.595622e+03</td>\n",
       "      <td>-500.028514</td>\n",
       "      <td>1.549595e+03</td>\n",
       "      <td>-500.017711</td>\n",
       "      <td>...</td>\n",
       "      <td>1.700847e+01</td>\n",
       "      <td>-500.115727</td>\n",
       "      <td>1.496486e+01</td>\n",
       "      <td>-499.576513</td>\n",
       "      <td>12.954182</td>\n",
       "      <td>-499.990332</td>\n",
       "      <td>10.004301</td>\n",
       "      <td>-499.990535</td>\n",
       "      <td>16.014935</td>\n",
       "      <td>-500.007126</td>\n",
       "    </tr>\n",
       "    <tr>\n",
       "      <th>75%</th>\n",
       "      <td>208.125438</td>\n",
       "      <td>10.027764</td>\n",
       "      <td>7.600000</td>\n",
       "      <td>1.797819</td>\n",
       "      <td>1.602077e+03</td>\n",
       "      <td>-499.568951</td>\n",
       "      <td>1.602324e+03</td>\n",
       "      <td>-499.293257</td>\n",
       "      <td>1.601144e+03</td>\n",
       "      <td>-498.994130</td>\n",
       "      <td>...</td>\n",
       "      <td>1.803862e+01</td>\n",
       "      <td>-499.404224</td>\n",
       "      <td>1.596213e+01</td>\n",
       "      <td>-400.933805</td>\n",
       "      <td>15.097528</td>\n",
       "      <td>-499.283191</td>\n",
       "      <td>11.997467</td>\n",
       "      <td>-499.719913</td>\n",
       "      <td>21.020013</td>\n",
       "      <td>-499.373018</td>\n",
       "    </tr>\n",
       "    <tr>\n",
       "      <th>max</th>\n",
       "      <td>265.983123</td>\n",
       "      <td>40.000000</td>\n",
       "      <td>15.500000</td>\n",
       "      <td>4.102454</td>\n",
       "      <td>2.103104e+03</td>\n",
       "      <td>-57.195404</td>\n",
       "      <td>1.813084e+03</td>\n",
       "      <td>-142.527229</td>\n",
       "      <td>1.715054e+03</td>\n",
       "      <td>-150.937035</td>\n",
       "      <td>...</td>\n",
       "      <td>3.005180e+01</td>\n",
       "      <td>-401.565212</td>\n",
       "      <td>3.126971e+01</td>\n",
       "      <td>-6.506986</td>\n",
       "      <td>25.258848</td>\n",
       "      <td>-244.483566</td>\n",
       "      <td>14.086866</td>\n",
       "      <td>-137.740004</td>\n",
       "      <td>26.705889</td>\n",
       "      <td>-123.307487</td>\n",
       "    </tr>\n",
       "  </tbody>\n",
       "</table>\n",
       "<p>8 rows × 52 columns</p>\n",
       "</div>"
      ],
      "text/plain": [
       "       primary_cleaner.input.sulfate  primary_cleaner.input.depressant  \\\n",
       "count                    5286.000000                       5285.000000   \n",
       "mean                      174.839652                          8.683596   \n",
       "std                        43.027080                          3.072050   \n",
       "min                         2.566156                          0.003839   \n",
       "25%                       147.121401                          6.489555   \n",
       "50%                       177.828489                          8.052207   \n",
       "75%                       208.125438                         10.027764   \n",
       "max                       265.983123                         40.000000   \n",
       "\n",
       "       primary_cleaner.input.feed_size  primary_cleaner.input.xanthate  \\\n",
       "count                      5290.000000                     5286.000000   \n",
       "mean                          7.266339                        1.383803   \n",
       "std                           0.610219                        0.643474   \n",
       "min                           5.650000                        0.004984   \n",
       "25%                           6.890000                        0.907623   \n",
       "50%                           7.250000                        1.197610   \n",
       "75%                           7.600000                        1.797819   \n",
       "max                          15.500000                        4.102454   \n",
       "\n",
       "       primary_cleaner.state.floatbank8_a_air  \\\n",
       "count                            5.290000e+03   \n",
       "mean                             1.539494e+03   \n",
       "std                              1.167979e+02   \n",
       "min                              5.445860e-32   \n",
       "25%                              1.498936e+03   \n",
       "50%                              1.585129e+03   \n",
       "75%                              1.602077e+03   \n",
       "max                              2.103104e+03   \n",
       "\n",
       "       primary_cleaner.state.floatbank8_a_level  \\\n",
       "count                               5290.000000   \n",
       "mean                                -497.665883   \n",
       "std                                   19.952431   \n",
       "min                                 -795.316337   \n",
       "25%                                 -500.357298   \n",
       "50%                                 -499.969164   \n",
       "75%                                 -499.568951   \n",
       "max                                  -57.195404   \n",
       "\n",
       "       primary_cleaner.state.floatbank8_b_air  \\\n",
       "count                            5.290000e+03   \n",
       "mean                             1.545174e+03   \n",
       "std                              1.222246e+02   \n",
       "min                              6.647490e-32   \n",
       "25%                              1.498971e+03   \n",
       "50%                              1.595622e+03   \n",
       "75%                              1.602324e+03   \n",
       "max                              1.813084e+03   \n",
       "\n",
       "       primary_cleaner.state.floatbank8_b_level  \\\n",
       "count                               5290.000000   \n",
       "mean                                -500.273098   \n",
       "std                                   32.968307   \n",
       "min                                 -799.997015   \n",
       "25%                                 -500.703002   \n",
       "50%                                 -500.028514   \n",
       "75%                                 -499.293257   \n",
       "max                                 -142.527229   \n",
       "\n",
       "       primary_cleaner.state.floatbank8_c_air  \\\n",
       "count                            5.290000e+03   \n",
       "mean                             1.527272e+03   \n",
       "std                              1.225380e+02   \n",
       "min                              4.033736e-32   \n",
       "25%                              1.473230e+03   \n",
       "50%                              1.549595e+03   \n",
       "75%                              1.601144e+03   \n",
       "max                              1.715054e+03   \n",
       "\n",
       "       primary_cleaner.state.floatbank8_c_level  ...  \\\n",
       "count                               5290.000000  ...   \n",
       "mean                                -498.330680  ...   \n",
       "std                                   21.964876  ...   \n",
       "min                                 -799.960571  ...   \n",
       "25%                                 -501.018117  ...   \n",
       "50%                                 -500.017711  ...   \n",
       "75%                                 -498.994130  ...   \n",
       "max                                 -150.937035  ...   \n",
       "\n",
       "       secondary_cleaner.state.floatbank4_a_air  \\\n",
       "count                              5.290000e+03   \n",
       "mean                               1.632007e+01   \n",
       "std                                3.493583e+00   \n",
       "min                                1.079872e-16   \n",
       "25%                                1.403618e+01   \n",
       "50%                                1.700847e+01   \n",
       "75%                                1.803862e+01   \n",
       "max                                3.005180e+01   \n",
       "\n",
       "       secondary_cleaner.state.floatbank4_a_level  \\\n",
       "count                                 5290.000000   \n",
       "mean                                  -505.144570   \n",
       "std                                     31.427337   \n",
       "min                                   -799.798523   \n",
       "25%                                   -500.868258   \n",
       "50%                                   -500.115727   \n",
       "75%                                   -499.404224   \n",
       "max                                   -401.565212   \n",
       "\n",
       "       secondary_cleaner.state.floatbank4_b_air  \\\n",
       "count                              5.290000e+03   \n",
       "mean                               1.373544e+01   \n",
       "std                                3.430484e+00   \n",
       "min                                2.489718e-17   \n",
       "25%                                1.202862e+01   \n",
       "50%                                1.496486e+01   \n",
       "75%                                1.596213e+01   \n",
       "max                                3.126971e+01   \n",
       "\n",
       "       secondary_cleaner.state.floatbank4_b_level  \\\n",
       "count                                 5290.000000   \n",
       "mean                                  -463.349858   \n",
       "std                                     86.189107   \n",
       "min                                   -800.836914   \n",
       "25%                                   -500.323028   \n",
       "50%                                   -499.576513   \n",
       "75%                                   -400.933805   \n",
       "max                                     -6.506986   \n",
       "\n",
       "       secondary_cleaner.state.floatbank5_a_air  \\\n",
       "count                               5290.000000   \n",
       "mean                                  12.804186   \n",
       "std                                    3.026591   \n",
       "min                                    0.069227   \n",
       "25%                                   10.914838   \n",
       "50%                                   12.954182   \n",
       "75%                                   15.097528   \n",
       "max                                   25.258848   \n",
       "\n",
       "       secondary_cleaner.state.floatbank5_a_level  \\\n",
       "count                                 5290.000000   \n",
       "mean                                  -501.329122   \n",
       "std                                     17.951495   \n",
       "min                                   -797.323986   \n",
       "25%                                   -500.726841   \n",
       "50%                                   -499.990332   \n",
       "75%                                   -499.283191   \n",
       "max                                   -244.483566   \n",
       "\n",
       "       secondary_cleaner.state.floatbank5_b_air  \\\n",
       "count                               5290.000000   \n",
       "mean                                   9.881145   \n",
       "std                                    2.868205   \n",
       "min                                    0.528083   \n",
       "25%                                    8.036719   \n",
       "50%                                   10.004301   \n",
       "75%                                   11.997467   \n",
       "max                                   14.086866   \n",
       "\n",
       "       secondary_cleaner.state.floatbank5_b_level  \\\n",
       "count                                 5290.000000   \n",
       "mean                                  -495.663398   \n",
       "std                                     34.535007   \n",
       "min                                   -800.220337   \n",
       "25%                                   -500.194668   \n",
       "50%                                   -499.990535   \n",
       "75%                                   -499.719913   \n",
       "max                                   -137.740004   \n",
       "\n",
       "       secondary_cleaner.state.floatbank6_a_air  \\\n",
       "count                               5290.000000   \n",
       "mean                                  17.304935   \n",
       "std                                    4.536544   \n",
       "min                                   -0.079426   \n",
       "25%                                   13.997317   \n",
       "50%                                   16.014935   \n",
       "75%                                   21.020013   \n",
       "max                                   26.705889   \n",
       "\n",
       "       secondary_cleaner.state.floatbank6_a_level  \n",
       "count                                 5290.000000  \n",
       "mean                                  -501.793193  \n",
       "std                                     39.044215  \n",
       "min                                   -809.741464  \n",
       "25%                                   -500.690984  \n",
       "50%                                   -500.007126  \n",
       "75%                                   -499.373018  \n",
       "max                                   -123.307487  \n",
       "\n",
       "[8 rows x 52 columns]"
      ]
     },
     "metadata": {},
     "output_type": "display_data"
    },
    {
     "data": {
      "text/plain": [
       "date                                           0\n",
       "primary_cleaner.input.sulfate                  4\n",
       "primary_cleaner.input.depressant               5\n",
       "primary_cleaner.input.feed_size                0\n",
       "primary_cleaner.input.xanthate                 4\n",
       "primary_cleaner.state.floatbank8_a_air         0\n",
       "primary_cleaner.state.floatbank8_a_level       0\n",
       "primary_cleaner.state.floatbank8_b_air         0\n",
       "primary_cleaner.state.floatbank8_b_level       0\n",
       "primary_cleaner.state.floatbank8_c_air         0\n",
       "primary_cleaner.state.floatbank8_c_level       0\n",
       "primary_cleaner.state.floatbank8_d_air         0\n",
       "primary_cleaner.state.floatbank8_d_level       0\n",
       "rougher.input.feed_ag                          0\n",
       "rougher.input.feed_pb                          0\n",
       "rougher.input.feed_rate                        3\n",
       "rougher.input.feed_size                        1\n",
       "rougher.input.feed_sol                        21\n",
       "rougher.input.feed_au                          0\n",
       "rougher.input.floatbank10_sulfate              5\n",
       "rougher.input.floatbank10_xanthate             0\n",
       "rougher.input.floatbank11_sulfate              8\n",
       "rougher.input.floatbank11_xanthate            25\n",
       "rougher.state.floatbank10_a_air                0\n",
       "rougher.state.floatbank10_a_level              0\n",
       "rougher.state.floatbank10_b_air                0\n",
       "rougher.state.floatbank10_b_level              0\n",
       "rougher.state.floatbank10_c_air                0\n",
       "rougher.state.floatbank10_c_level              0\n",
       "rougher.state.floatbank10_d_air                0\n",
       "rougher.state.floatbank10_d_level              0\n",
       "rougher.state.floatbank10_e_air                0\n",
       "rougher.state.floatbank10_e_level              0\n",
       "rougher.state.floatbank10_f_air                0\n",
       "rougher.state.floatbank10_f_level              0\n",
       "secondary_cleaner.state.floatbank2_a_air       3\n",
       "secondary_cleaner.state.floatbank2_a_level     0\n",
       "secondary_cleaner.state.floatbank2_b_air       2\n",
       "secondary_cleaner.state.floatbank2_b_level     0\n",
       "secondary_cleaner.state.floatbank3_a_air       9\n",
       "secondary_cleaner.state.floatbank3_a_level     0\n",
       "secondary_cleaner.state.floatbank3_b_air       0\n",
       "secondary_cleaner.state.floatbank3_b_level     0\n",
       "secondary_cleaner.state.floatbank4_a_air       0\n",
       "secondary_cleaner.state.floatbank4_a_level     0\n",
       "secondary_cleaner.state.floatbank4_b_air       0\n",
       "secondary_cleaner.state.floatbank4_b_level     0\n",
       "secondary_cleaner.state.floatbank5_a_air       0\n",
       "secondary_cleaner.state.floatbank5_a_level     0\n",
       "secondary_cleaner.state.floatbank5_b_air       0\n",
       "secondary_cleaner.state.floatbank5_b_level     0\n",
       "secondary_cleaner.state.floatbank6_a_air       0\n",
       "secondary_cleaner.state.floatbank6_a_level     0\n",
       "dtype: int64"
      ]
     },
     "metadata": {},
     "output_type": "display_data"
    },
    {
     "name": "stdout",
     "output_type": "stream",
     "text": [
      "\n",
      "\n",
      "FULL\n",
      "<class 'pandas.core.frame.DataFrame'>\n",
      "RangeIndex: 19439 entries, 0 to 19438\n",
      "Data columns (total 87 columns):\n",
      " #   Column                                              Non-Null Count  Dtype  \n",
      "---  ------                                              --------------  -----  \n",
      " 0   date                                                19439 non-null  object \n",
      " 1   final.output.concentrate_ag                         19438 non-null  float64\n",
      " 2   final.output.concentrate_pb                         19438 non-null  float64\n",
      " 3   final.output.concentrate_sol                        19228 non-null  float64\n",
      " 4   final.output.concentrate_au                         19439 non-null  float64\n",
      " 5   final.output.recovery                               19439 non-null  float64\n",
      " 6   final.output.tail_ag                                19438 non-null  float64\n",
      " 7   final.output.tail_pb                                19338 non-null  float64\n",
      " 8   final.output.tail_sol                               19433 non-null  float64\n",
      " 9   final.output.tail_au                                19439 non-null  float64\n",
      " 10  primary_cleaner.input.sulfate                       19415 non-null  float64\n",
      " 11  primary_cleaner.input.depressant                    19402 non-null  float64\n",
      " 12  primary_cleaner.input.feed_size                     19439 non-null  float64\n",
      " 13  primary_cleaner.input.xanthate                      19335 non-null  float64\n",
      " 14  primary_cleaner.output.concentrate_ag               19439 non-null  float64\n",
      " 15  primary_cleaner.output.concentrate_pb               19323 non-null  float64\n",
      " 16  primary_cleaner.output.concentrate_sol              19069 non-null  float64\n",
      " 17  primary_cleaner.output.concentrate_au               19439 non-null  float64\n",
      " 18  primary_cleaner.output.tail_ag                      19435 non-null  float64\n",
      " 19  primary_cleaner.output.tail_pb                      19418 non-null  float64\n",
      " 20  primary_cleaner.output.tail_sol                     19377 non-null  float64\n",
      " 21  primary_cleaner.output.tail_au                      19439 non-null  float64\n",
      " 22  primary_cleaner.state.floatbank8_a_air              19435 non-null  float64\n",
      " 23  primary_cleaner.state.floatbank8_a_level            19438 non-null  float64\n",
      " 24  primary_cleaner.state.floatbank8_b_air              19435 non-null  float64\n",
      " 25  primary_cleaner.state.floatbank8_b_level            19438 non-null  float64\n",
      " 26  primary_cleaner.state.floatbank8_c_air              19437 non-null  float64\n",
      " 27  primary_cleaner.state.floatbank8_c_level            19438 non-null  float64\n",
      " 28  primary_cleaner.state.floatbank8_d_air              19436 non-null  float64\n",
      " 29  primary_cleaner.state.floatbank8_d_level            19438 non-null  float64\n",
      " 30  rougher.calculation.sulfate_to_au_concentrate       19437 non-null  float64\n",
      " 31  rougher.calculation.floatbank10_sulfate_to_au_feed  19437 non-null  float64\n",
      " 32  rougher.calculation.floatbank11_sulfate_to_au_feed  19437 non-null  float64\n",
      " 33  rougher.calculation.au_pb_ratio                     19439 non-null  float64\n",
      " 34  rougher.input.feed_ag                               19439 non-null  float64\n",
      " 35  rougher.input.feed_pb                               19339 non-null  float64\n",
      " 36  rougher.input.feed_rate                             19428 non-null  float64\n",
      " 37  rougher.input.feed_size                             19294 non-null  float64\n",
      " 38  rougher.input.feed_sol                              19340 non-null  float64\n",
      " 39  rougher.input.feed_au                               19439 non-null  float64\n",
      " 40  rougher.input.floatbank10_sulfate                   19405 non-null  float64\n",
      " 41  rougher.input.floatbank10_xanthate                  19431 non-null  float64\n",
      " 42  rougher.input.floatbank11_sulfate                   19395 non-null  float64\n",
      " 43  rougher.input.floatbank11_xanthate                  18986 non-null  float64\n",
      " 44  rougher.output.concentrate_ag                       19439 non-null  float64\n",
      " 45  rougher.output.concentrate_pb                       19439 non-null  float64\n",
      " 46  rougher.output.concentrate_sol                      19416 non-null  float64\n",
      " 47  rougher.output.concentrate_au                       19439 non-null  float64\n",
      " 48  rougher.output.recovery                             19439 non-null  float64\n",
      " 49  rougher.output.tail_ag                              19438 non-null  float64\n",
      " 50  rougher.output.tail_pb                              19439 non-null  float64\n",
      " 51  rougher.output.tail_sol                             19439 non-null  float64\n",
      " 52  rougher.output.tail_au                              19439 non-null  float64\n",
      " 53  rougher.state.floatbank10_a_air                     19438 non-null  float64\n",
      " 54  rougher.state.floatbank10_a_level                   19438 non-null  float64\n",
      " 55  rougher.state.floatbank10_b_air                     19438 non-null  float64\n",
      " 56  rougher.state.floatbank10_b_level                   19438 non-null  float64\n",
      " 57  rougher.state.floatbank10_c_air                     19438 non-null  float64\n",
      " 58  rougher.state.floatbank10_c_level                   19438 non-null  float64\n",
      " 59  rougher.state.floatbank10_d_air                     19439 non-null  float64\n",
      " 60  rougher.state.floatbank10_d_level                   19439 non-null  float64\n",
      " 61  rougher.state.floatbank10_e_air                     19003 non-null  float64\n",
      " 62  rougher.state.floatbank10_e_level                   19439 non-null  float64\n",
      " 63  rougher.state.floatbank10_f_air                     19439 non-null  float64\n",
      " 64  rougher.state.floatbank10_f_level                   19439 non-null  float64\n",
      " 65  secondary_cleaner.output.tail_ag                    19437 non-null  float64\n",
      " 66  secondary_cleaner.output.tail_pb                    19427 non-null  float64\n",
      " 67  secondary_cleaner.output.tail_sol                   17691 non-null  float64\n",
      " 68  secondary_cleaner.output.tail_au                    19439 non-null  float64\n",
      " 69  secondary_cleaner.state.floatbank2_a_air            19219 non-null  float64\n",
      " 70  secondary_cleaner.state.floatbank2_a_level          19438 non-null  float64\n",
      " 71  secondary_cleaner.state.floatbank2_b_air            19416 non-null  float64\n",
      " 72  secondary_cleaner.state.floatbank2_b_level          19438 non-null  float64\n",
      " 73  secondary_cleaner.state.floatbank3_a_air            19426 non-null  float64\n",
      " 74  secondary_cleaner.state.floatbank3_a_level          19438 non-null  float64\n",
      " 75  secondary_cleaner.state.floatbank3_b_air            19438 non-null  float64\n",
      " 76  secondary_cleaner.state.floatbank3_b_level          19438 non-null  float64\n",
      " 77  secondary_cleaner.state.floatbank4_a_air            19433 non-null  float64\n",
      " 78  secondary_cleaner.state.floatbank4_a_level          19438 non-null  float64\n",
      " 79  secondary_cleaner.state.floatbank4_b_air            19438 non-null  float64\n",
      " 80  secondary_cleaner.state.floatbank4_b_level          19438 non-null  float64\n",
      " 81  secondary_cleaner.state.floatbank5_a_air            19438 non-null  float64\n",
      " 82  secondary_cleaner.state.floatbank5_a_level          19438 non-null  float64\n",
      " 83  secondary_cleaner.state.floatbank5_b_air            19438 non-null  float64\n",
      " 84  secondary_cleaner.state.floatbank5_b_level          19438 non-null  float64\n",
      " 85  secondary_cleaner.state.floatbank6_a_air            19437 non-null  float64\n",
      " 86  secondary_cleaner.state.floatbank6_a_level          19438 non-null  float64\n",
      "dtypes: float64(86), object(1)\n",
      "memory usage: 12.9+ MB\n"
     ]
    },
    {
     "data": {
      "text/html": [
       "<div>\n",
       "<style scoped>\n",
       "    .dataframe tbody tr th:only-of-type {\n",
       "        vertical-align: middle;\n",
       "    }\n",
       "\n",
       "    .dataframe tbody tr th {\n",
       "        vertical-align: top;\n",
       "    }\n",
       "\n",
       "    .dataframe thead th {\n",
       "        text-align: right;\n",
       "    }\n",
       "</style>\n",
       "<table border=\"1\" class=\"dataframe\">\n",
       "  <thead>\n",
       "    <tr style=\"text-align: right;\">\n",
       "      <th></th>\n",
       "      <th>date</th>\n",
       "      <th>final.output.concentrate_ag</th>\n",
       "      <th>final.output.concentrate_pb</th>\n",
       "      <th>final.output.concentrate_sol</th>\n",
       "      <th>final.output.concentrate_au</th>\n",
       "      <th>final.output.recovery</th>\n",
       "      <th>final.output.tail_ag</th>\n",
       "      <th>final.output.tail_pb</th>\n",
       "      <th>final.output.tail_sol</th>\n",
       "      <th>final.output.tail_au</th>\n",
       "      <th>...</th>\n",
       "      <th>secondary_cleaner.state.floatbank4_a_air</th>\n",
       "      <th>secondary_cleaner.state.floatbank4_a_level</th>\n",
       "      <th>secondary_cleaner.state.floatbank4_b_air</th>\n",
       "      <th>secondary_cleaner.state.floatbank4_b_level</th>\n",
       "      <th>secondary_cleaner.state.floatbank5_a_air</th>\n",
       "      <th>secondary_cleaner.state.floatbank5_a_level</th>\n",
       "      <th>secondary_cleaner.state.floatbank5_b_air</th>\n",
       "      <th>secondary_cleaner.state.floatbank5_b_level</th>\n",
       "      <th>secondary_cleaner.state.floatbank6_a_air</th>\n",
       "      <th>secondary_cleaner.state.floatbank6_a_level</th>\n",
       "    </tr>\n",
       "  </thead>\n",
       "  <tbody>\n",
       "    <tr>\n",
       "      <th>0</th>\n",
       "      <td>2016-01-15 00:00:00</td>\n",
       "      <td>6.055403</td>\n",
       "      <td>9.889648</td>\n",
       "      <td>5.507324</td>\n",
       "      <td>42.192020</td>\n",
       "      <td>70.541216</td>\n",
       "      <td>10.411962</td>\n",
       "      <td>0.895447</td>\n",
       "      <td>16.904297</td>\n",
       "      <td>2.143149</td>\n",
       "      <td>...</td>\n",
       "      <td>14.016835</td>\n",
       "      <td>-502.488007</td>\n",
       "      <td>12.099931</td>\n",
       "      <td>-504.715942</td>\n",
       "      <td>9.925633</td>\n",
       "      <td>-498.310211</td>\n",
       "      <td>8.079666</td>\n",
       "      <td>-500.470978</td>\n",
       "      <td>14.151341</td>\n",
       "      <td>-605.841980</td>\n",
       "    </tr>\n",
       "    <tr>\n",
       "      <th>1</th>\n",
       "      <td>2016-01-15 01:00:00</td>\n",
       "      <td>6.029369</td>\n",
       "      <td>9.968944</td>\n",
       "      <td>5.257781</td>\n",
       "      <td>42.701629</td>\n",
       "      <td>69.266198</td>\n",
       "      <td>10.462676</td>\n",
       "      <td>0.927452</td>\n",
       "      <td>16.634514</td>\n",
       "      <td>2.224930</td>\n",
       "      <td>...</td>\n",
       "      <td>13.992281</td>\n",
       "      <td>-505.503262</td>\n",
       "      <td>11.950531</td>\n",
       "      <td>-501.331529</td>\n",
       "      <td>10.039245</td>\n",
       "      <td>-500.169983</td>\n",
       "      <td>7.984757</td>\n",
       "      <td>-500.582168</td>\n",
       "      <td>13.998353</td>\n",
       "      <td>-599.787184</td>\n",
       "    </tr>\n",
       "    <tr>\n",
       "      <th>2</th>\n",
       "      <td>2016-01-15 02:00:00</td>\n",
       "      <td>6.055926</td>\n",
       "      <td>10.213995</td>\n",
       "      <td>5.383759</td>\n",
       "      <td>42.657501</td>\n",
       "      <td>68.116445</td>\n",
       "      <td>10.507046</td>\n",
       "      <td>0.953716</td>\n",
       "      <td>16.208849</td>\n",
       "      <td>2.257889</td>\n",
       "      <td>...</td>\n",
       "      <td>14.015015</td>\n",
       "      <td>-502.520901</td>\n",
       "      <td>11.912783</td>\n",
       "      <td>-501.133383</td>\n",
       "      <td>10.070913</td>\n",
       "      <td>-500.129135</td>\n",
       "      <td>8.013877</td>\n",
       "      <td>-500.517572</td>\n",
       "      <td>14.028663</td>\n",
       "      <td>-601.427363</td>\n",
       "    </tr>\n",
       "    <tr>\n",
       "      <th>3</th>\n",
       "      <td>2016-01-15 03:00:00</td>\n",
       "      <td>6.047977</td>\n",
       "      <td>9.977019</td>\n",
       "      <td>4.858634</td>\n",
       "      <td>42.689819</td>\n",
       "      <td>68.347543</td>\n",
       "      <td>10.422762</td>\n",
       "      <td>0.883763</td>\n",
       "      <td>16.532835</td>\n",
       "      <td>2.146849</td>\n",
       "      <td>...</td>\n",
       "      <td>14.036510</td>\n",
       "      <td>-500.857308</td>\n",
       "      <td>11.999550</td>\n",
       "      <td>-501.193686</td>\n",
       "      <td>9.970366</td>\n",
       "      <td>-499.201640</td>\n",
       "      <td>7.977324</td>\n",
       "      <td>-500.255908</td>\n",
       "      <td>14.005551</td>\n",
       "      <td>-599.996129</td>\n",
       "    </tr>\n",
       "    <tr>\n",
       "      <th>4</th>\n",
       "      <td>2016-01-15 04:00:00</td>\n",
       "      <td>6.148599</td>\n",
       "      <td>10.142511</td>\n",
       "      <td>4.939416</td>\n",
       "      <td>42.774141</td>\n",
       "      <td>66.927016</td>\n",
       "      <td>10.360302</td>\n",
       "      <td>0.792826</td>\n",
       "      <td>16.525686</td>\n",
       "      <td>2.055292</td>\n",
       "      <td>...</td>\n",
       "      <td>14.027298</td>\n",
       "      <td>-499.838632</td>\n",
       "      <td>11.953070</td>\n",
       "      <td>-501.053894</td>\n",
       "      <td>9.925709</td>\n",
       "      <td>-501.686727</td>\n",
       "      <td>7.894242</td>\n",
       "      <td>-500.356035</td>\n",
       "      <td>13.996647</td>\n",
       "      <td>-601.496691</td>\n",
       "    </tr>\n",
       "  </tbody>\n",
       "</table>\n",
       "<p>5 rows × 87 columns</p>\n",
       "</div>"
      ],
      "text/plain": [
       "                  date  final.output.concentrate_ag  \\\n",
       "0  2016-01-15 00:00:00                     6.055403   \n",
       "1  2016-01-15 01:00:00                     6.029369   \n",
       "2  2016-01-15 02:00:00                     6.055926   \n",
       "3  2016-01-15 03:00:00                     6.047977   \n",
       "4  2016-01-15 04:00:00                     6.148599   \n",
       "\n",
       "   final.output.concentrate_pb  final.output.concentrate_sol  \\\n",
       "0                     9.889648                      5.507324   \n",
       "1                     9.968944                      5.257781   \n",
       "2                    10.213995                      5.383759   \n",
       "3                     9.977019                      4.858634   \n",
       "4                    10.142511                      4.939416   \n",
       "\n",
       "   final.output.concentrate_au  final.output.recovery  final.output.tail_ag  \\\n",
       "0                    42.192020              70.541216             10.411962   \n",
       "1                    42.701629              69.266198             10.462676   \n",
       "2                    42.657501              68.116445             10.507046   \n",
       "3                    42.689819              68.347543             10.422762   \n",
       "4                    42.774141              66.927016             10.360302   \n",
       "\n",
       "   final.output.tail_pb  final.output.tail_sol  final.output.tail_au  ...  \\\n",
       "0              0.895447              16.904297              2.143149  ...   \n",
       "1              0.927452              16.634514              2.224930  ...   \n",
       "2              0.953716              16.208849              2.257889  ...   \n",
       "3              0.883763              16.532835              2.146849  ...   \n",
       "4              0.792826              16.525686              2.055292  ...   \n",
       "\n",
       "   secondary_cleaner.state.floatbank4_a_air  \\\n",
       "0                                 14.016835   \n",
       "1                                 13.992281   \n",
       "2                                 14.015015   \n",
       "3                                 14.036510   \n",
       "4                                 14.027298   \n",
       "\n",
       "   secondary_cleaner.state.floatbank4_a_level  \\\n",
       "0                                 -502.488007   \n",
       "1                                 -505.503262   \n",
       "2                                 -502.520901   \n",
       "3                                 -500.857308   \n",
       "4                                 -499.838632   \n",
       "\n",
       "   secondary_cleaner.state.floatbank4_b_air  \\\n",
       "0                                 12.099931   \n",
       "1                                 11.950531   \n",
       "2                                 11.912783   \n",
       "3                                 11.999550   \n",
       "4                                 11.953070   \n",
       "\n",
       "   secondary_cleaner.state.floatbank4_b_level  \\\n",
       "0                                 -504.715942   \n",
       "1                                 -501.331529   \n",
       "2                                 -501.133383   \n",
       "3                                 -501.193686   \n",
       "4                                 -501.053894   \n",
       "\n",
       "   secondary_cleaner.state.floatbank5_a_air  \\\n",
       "0                                  9.925633   \n",
       "1                                 10.039245   \n",
       "2                                 10.070913   \n",
       "3                                  9.970366   \n",
       "4                                  9.925709   \n",
       "\n",
       "   secondary_cleaner.state.floatbank5_a_level  \\\n",
       "0                                 -498.310211   \n",
       "1                                 -500.169983   \n",
       "2                                 -500.129135   \n",
       "3                                 -499.201640   \n",
       "4                                 -501.686727   \n",
       "\n",
       "   secondary_cleaner.state.floatbank5_b_air  \\\n",
       "0                                  8.079666   \n",
       "1                                  7.984757   \n",
       "2                                  8.013877   \n",
       "3                                  7.977324   \n",
       "4                                  7.894242   \n",
       "\n",
       "   secondary_cleaner.state.floatbank5_b_level  \\\n",
       "0                                 -500.470978   \n",
       "1                                 -500.582168   \n",
       "2                                 -500.517572   \n",
       "3                                 -500.255908   \n",
       "4                                 -500.356035   \n",
       "\n",
       "   secondary_cleaner.state.floatbank6_a_air  \\\n",
       "0                                 14.151341   \n",
       "1                                 13.998353   \n",
       "2                                 14.028663   \n",
       "3                                 14.005551   \n",
       "4                                 13.996647   \n",
       "\n",
       "   secondary_cleaner.state.floatbank6_a_level  \n",
       "0                                 -605.841980  \n",
       "1                                 -599.787184  \n",
       "2                                 -601.427363  \n",
       "3                                 -599.996129  \n",
       "4                                 -601.496691  \n",
       "\n",
       "[5 rows x 87 columns]"
      ]
     },
     "metadata": {},
     "output_type": "display_data"
    },
    {
     "data": {
      "text/plain": [
       "None"
      ]
     },
     "metadata": {},
     "output_type": "display_data"
    },
    {
     "data": {
      "text/html": [
       "<div>\n",
       "<style scoped>\n",
       "    .dataframe tbody tr th:only-of-type {\n",
       "        vertical-align: middle;\n",
       "    }\n",
       "\n",
       "    .dataframe tbody tr th {\n",
       "        vertical-align: top;\n",
       "    }\n",
       "\n",
       "    .dataframe thead th {\n",
       "        text-align: right;\n",
       "    }\n",
       "</style>\n",
       "<table border=\"1\" class=\"dataframe\">\n",
       "  <thead>\n",
       "    <tr style=\"text-align: right;\">\n",
       "      <th></th>\n",
       "      <th>final.output.concentrate_ag</th>\n",
       "      <th>final.output.concentrate_pb</th>\n",
       "      <th>final.output.concentrate_sol</th>\n",
       "      <th>final.output.concentrate_au</th>\n",
       "      <th>final.output.recovery</th>\n",
       "      <th>final.output.tail_ag</th>\n",
       "      <th>final.output.tail_pb</th>\n",
       "      <th>final.output.tail_sol</th>\n",
       "      <th>final.output.tail_au</th>\n",
       "      <th>primary_cleaner.input.sulfate</th>\n",
       "      <th>...</th>\n",
       "      <th>secondary_cleaner.state.floatbank4_a_air</th>\n",
       "      <th>secondary_cleaner.state.floatbank4_a_level</th>\n",
       "      <th>secondary_cleaner.state.floatbank4_b_air</th>\n",
       "      <th>secondary_cleaner.state.floatbank4_b_level</th>\n",
       "      <th>secondary_cleaner.state.floatbank5_a_air</th>\n",
       "      <th>secondary_cleaner.state.floatbank5_a_level</th>\n",
       "      <th>secondary_cleaner.state.floatbank5_b_air</th>\n",
       "      <th>secondary_cleaner.state.floatbank5_b_level</th>\n",
       "      <th>secondary_cleaner.state.floatbank6_a_air</th>\n",
       "      <th>secondary_cleaner.state.floatbank6_a_level</th>\n",
       "    </tr>\n",
       "  </thead>\n",
       "  <tbody>\n",
       "    <tr>\n",
       "      <th>count</th>\n",
       "      <td>19438.000000</td>\n",
       "      <td>19438.000000</td>\n",
       "      <td>19228.000000</td>\n",
       "      <td>19439.000000</td>\n",
       "      <td>19439.000000</td>\n",
       "      <td>19438.000000</td>\n",
       "      <td>19338.000000</td>\n",
       "      <td>19433.000000</td>\n",
       "      <td>19439.000000</td>\n",
       "      <td>19415.000000</td>\n",
       "      <td>...</td>\n",
       "      <td>19433.000000</td>\n",
       "      <td>19438.000000</td>\n",
       "      <td>19438.000000</td>\n",
       "      <td>19438.000000</td>\n",
       "      <td>19438.000000</td>\n",
       "      <td>19438.000000</td>\n",
       "      <td>19438.000000</td>\n",
       "      <td>19438.000000</td>\n",
       "      <td>19437.000000</td>\n",
       "      <td>19438.000000</td>\n",
       "    </tr>\n",
       "    <tr>\n",
       "      <th>mean</th>\n",
       "      <td>5.168470</td>\n",
       "      <td>9.978895</td>\n",
       "      <td>9.501224</td>\n",
       "      <td>44.076513</td>\n",
       "      <td>67.050208</td>\n",
       "      <td>9.688589</td>\n",
       "      <td>2.705795</td>\n",
       "      <td>10.583728</td>\n",
       "      <td>3.042467</td>\n",
       "      <td>144.624774</td>\n",
       "      <td>...</td>\n",
       "      <td>18.987674</td>\n",
       "      <td>-485.894516</td>\n",
       "      <td>15.010366</td>\n",
       "      <td>-461.078636</td>\n",
       "      <td>15.694452</td>\n",
       "      <td>-488.684065</td>\n",
       "      <td>12.198224</td>\n",
       "      <td>-487.149827</td>\n",
       "      <td>18.959024</td>\n",
       "      <td>-505.436305</td>\n",
       "    </tr>\n",
       "    <tr>\n",
       "      <th>std</th>\n",
       "      <td>1.372348</td>\n",
       "      <td>1.669240</td>\n",
       "      <td>2.787537</td>\n",
       "      <td>5.129784</td>\n",
       "      <td>10.125840</td>\n",
       "      <td>2.328642</td>\n",
       "      <td>0.949077</td>\n",
       "      <td>2.868782</td>\n",
       "      <td>0.922808</td>\n",
       "      <td>44.464071</td>\n",
       "      <td>...</td>\n",
       "      <td>5.411058</td>\n",
       "      <td>47.758570</td>\n",
       "      <td>4.890228</td>\n",
       "      <td>67.405524</td>\n",
       "      <td>5.510974</td>\n",
       "      <td>34.533396</td>\n",
       "      <td>5.333024</td>\n",
       "      <td>38.347312</td>\n",
       "      <td>5.550498</td>\n",
       "      <td>37.689057</td>\n",
       "    </tr>\n",
       "    <tr>\n",
       "      <th>min</th>\n",
       "      <td>0.000000</td>\n",
       "      <td>0.000000</td>\n",
       "      <td>0.000000</td>\n",
       "      <td>0.000000</td>\n",
       "      <td>0.000000</td>\n",
       "      <td>0.000000</td>\n",
       "      <td>0.000000</td>\n",
       "      <td>0.000000</td>\n",
       "      <td>0.000000</td>\n",
       "      <td>0.003112</td>\n",
       "      <td>...</td>\n",
       "      <td>0.000000</td>\n",
       "      <td>-799.798523</td>\n",
       "      <td>0.000000</td>\n",
       "      <td>-800.836914</td>\n",
       "      <td>-0.372054</td>\n",
       "      <td>-797.323986</td>\n",
       "      <td>0.528083</td>\n",
       "      <td>-800.220337</td>\n",
       "      <td>-0.079426</td>\n",
       "      <td>-809.741464</td>\n",
       "    </tr>\n",
       "    <tr>\n",
       "      <th>25%</th>\n",
       "      <td>4.251240</td>\n",
       "      <td>9.137262</td>\n",
       "      <td>7.722820</td>\n",
       "      <td>43.402215</td>\n",
       "      <td>63.299712</td>\n",
       "      <td>8.062878</td>\n",
       "      <td>2.040119</td>\n",
       "      <td>8.938947</td>\n",
       "      <td>2.461138</td>\n",
       "      <td>114.107029</td>\n",
       "      <td>...</td>\n",
       "      <td>14.975734</td>\n",
       "      <td>-500.704892</td>\n",
       "      <td>11.940294</td>\n",
       "      <td>-500.187742</td>\n",
       "      <td>10.988606</td>\n",
       "      <td>-500.458467</td>\n",
       "      <td>8.971105</td>\n",
       "      <td>-500.129462</td>\n",
       "      <td>14.983037</td>\n",
       "      <td>-500.728067</td>\n",
       "    </tr>\n",
       "    <tr>\n",
       "      <th>50%</th>\n",
       "      <td>5.066094</td>\n",
       "      <td>10.102433</td>\n",
       "      <td>9.218961</td>\n",
       "      <td>45.011244</td>\n",
       "      <td>68.172738</td>\n",
       "      <td>9.743623</td>\n",
       "      <td>2.748730</td>\n",
       "      <td>10.622456</td>\n",
       "      <td>2.984909</td>\n",
       "      <td>143.232103</td>\n",
       "      <td>...</td>\n",
       "      <td>18.017481</td>\n",
       "      <td>-499.837793</td>\n",
       "      <td>14.971014</td>\n",
       "      <td>-499.459786</td>\n",
       "      <td>15.000036</td>\n",
       "      <td>-499.802605</td>\n",
       "      <td>11.019433</td>\n",
       "      <td>-499.935317</td>\n",
       "      <td>19.960541</td>\n",
       "      <td>-500.048400</td>\n",
       "    </tr>\n",
       "    <tr>\n",
       "      <th>75%</th>\n",
       "      <td>5.895527</td>\n",
       "      <td>11.035769</td>\n",
       "      <td>10.947813</td>\n",
       "      <td>46.275313</td>\n",
       "      <td>72.686642</td>\n",
       "      <td>11.134294</td>\n",
       "      <td>3.333216</td>\n",
       "      <td>12.104271</td>\n",
       "      <td>3.571351</td>\n",
       "      <td>175.075656</td>\n",
       "      <td>...</td>\n",
       "      <td>23.012470</td>\n",
       "      <td>-498.249730</td>\n",
       "      <td>19.034162</td>\n",
       "      <td>-400.118106</td>\n",
       "      <td>18.026190</td>\n",
       "      <td>-498.384187</td>\n",
       "      <td>14.019088</td>\n",
       "      <td>-499.436708</td>\n",
       "      <td>24.003170</td>\n",
       "      <td>-499.495378</td>\n",
       "    </tr>\n",
       "    <tr>\n",
       "      <th>max</th>\n",
       "      <td>16.001945</td>\n",
       "      <td>17.031899</td>\n",
       "      <td>19.615720</td>\n",
       "      <td>52.756638</td>\n",
       "      <td>100.000000</td>\n",
       "      <td>19.552149</td>\n",
       "      <td>5.804178</td>\n",
       "      <td>22.317730</td>\n",
       "      <td>8.245022</td>\n",
       "      <td>265.983123</td>\n",
       "      <td>...</td>\n",
       "      <td>30.115735</td>\n",
       "      <td>-245.239184</td>\n",
       "      <td>31.269706</td>\n",
       "      <td>-6.506986</td>\n",
       "      <td>43.709931</td>\n",
       "      <td>-244.483566</td>\n",
       "      <td>27.926001</td>\n",
       "      <td>-137.740004</td>\n",
       "      <td>32.188906</td>\n",
       "      <td>-104.427459</td>\n",
       "    </tr>\n",
       "  </tbody>\n",
       "</table>\n",
       "<p>8 rows × 86 columns</p>\n",
       "</div>"
      ],
      "text/plain": [
       "       final.output.concentrate_ag  final.output.concentrate_pb  \\\n",
       "count                 19438.000000                 19438.000000   \n",
       "mean                      5.168470                     9.978895   \n",
       "std                       1.372348                     1.669240   \n",
       "min                       0.000000                     0.000000   \n",
       "25%                       4.251240                     9.137262   \n",
       "50%                       5.066094                    10.102433   \n",
       "75%                       5.895527                    11.035769   \n",
       "max                      16.001945                    17.031899   \n",
       "\n",
       "       final.output.concentrate_sol  final.output.concentrate_au  \\\n",
       "count                  19228.000000                 19439.000000   \n",
       "mean                       9.501224                    44.076513   \n",
       "std                        2.787537                     5.129784   \n",
       "min                        0.000000                     0.000000   \n",
       "25%                        7.722820                    43.402215   \n",
       "50%                        9.218961                    45.011244   \n",
       "75%                       10.947813                    46.275313   \n",
       "max                       19.615720                    52.756638   \n",
       "\n",
       "       final.output.recovery  final.output.tail_ag  final.output.tail_pb  \\\n",
       "count           19439.000000          19438.000000          19338.000000   \n",
       "mean               67.050208              9.688589              2.705795   \n",
       "std                10.125840              2.328642              0.949077   \n",
       "min                 0.000000              0.000000              0.000000   \n",
       "25%                63.299712              8.062878              2.040119   \n",
       "50%                68.172738              9.743623              2.748730   \n",
       "75%                72.686642             11.134294              3.333216   \n",
       "max               100.000000             19.552149              5.804178   \n",
       "\n",
       "       final.output.tail_sol  final.output.tail_au  \\\n",
       "count           19433.000000          19439.000000   \n",
       "mean               10.583728              3.042467   \n",
       "std                 2.868782              0.922808   \n",
       "min                 0.000000              0.000000   \n",
       "25%                 8.938947              2.461138   \n",
       "50%                10.622456              2.984909   \n",
       "75%                12.104271              3.571351   \n",
       "max                22.317730              8.245022   \n",
       "\n",
       "       primary_cleaner.input.sulfate  ...  \\\n",
       "count                   19415.000000  ...   \n",
       "mean                      144.624774  ...   \n",
       "std                        44.464071  ...   \n",
       "min                         0.003112  ...   \n",
       "25%                       114.107029  ...   \n",
       "50%                       143.232103  ...   \n",
       "75%                       175.075656  ...   \n",
       "max                       265.983123  ...   \n",
       "\n",
       "       secondary_cleaner.state.floatbank4_a_air  \\\n",
       "count                              19433.000000   \n",
       "mean                                  18.987674   \n",
       "std                                    5.411058   \n",
       "min                                    0.000000   \n",
       "25%                                   14.975734   \n",
       "50%                                   18.017481   \n",
       "75%                                   23.012470   \n",
       "max                                   30.115735   \n",
       "\n",
       "       secondary_cleaner.state.floatbank4_a_level  \\\n",
       "count                                19438.000000   \n",
       "mean                                  -485.894516   \n",
       "std                                     47.758570   \n",
       "min                                   -799.798523   \n",
       "25%                                   -500.704892   \n",
       "50%                                   -499.837793   \n",
       "75%                                   -498.249730   \n",
       "max                                   -245.239184   \n",
       "\n",
       "       secondary_cleaner.state.floatbank4_b_air  \\\n",
       "count                              19438.000000   \n",
       "mean                                  15.010366   \n",
       "std                                    4.890228   \n",
       "min                                    0.000000   \n",
       "25%                                   11.940294   \n",
       "50%                                   14.971014   \n",
       "75%                                   19.034162   \n",
       "max                                   31.269706   \n",
       "\n",
       "       secondary_cleaner.state.floatbank4_b_level  \\\n",
       "count                                19438.000000   \n",
       "mean                                  -461.078636   \n",
       "std                                     67.405524   \n",
       "min                                   -800.836914   \n",
       "25%                                   -500.187742   \n",
       "50%                                   -499.459786   \n",
       "75%                                   -400.118106   \n",
       "max                                     -6.506986   \n",
       "\n",
       "       secondary_cleaner.state.floatbank5_a_air  \\\n",
       "count                              19438.000000   \n",
       "mean                                  15.694452   \n",
       "std                                    5.510974   \n",
       "min                                   -0.372054   \n",
       "25%                                   10.988606   \n",
       "50%                                   15.000036   \n",
       "75%                                   18.026190   \n",
       "max                                   43.709931   \n",
       "\n",
       "       secondary_cleaner.state.floatbank5_a_level  \\\n",
       "count                                19438.000000   \n",
       "mean                                  -488.684065   \n",
       "std                                     34.533396   \n",
       "min                                   -797.323986   \n",
       "25%                                   -500.458467   \n",
       "50%                                   -499.802605   \n",
       "75%                                   -498.384187   \n",
       "max                                   -244.483566   \n",
       "\n",
       "       secondary_cleaner.state.floatbank5_b_air  \\\n",
       "count                              19438.000000   \n",
       "mean                                  12.198224   \n",
       "std                                    5.333024   \n",
       "min                                    0.528083   \n",
       "25%                                    8.971105   \n",
       "50%                                   11.019433   \n",
       "75%                                   14.019088   \n",
       "max                                   27.926001   \n",
       "\n",
       "       secondary_cleaner.state.floatbank5_b_level  \\\n",
       "count                                19438.000000   \n",
       "mean                                  -487.149827   \n",
       "std                                     38.347312   \n",
       "min                                   -800.220337   \n",
       "25%                                   -500.129462   \n",
       "50%                                   -499.935317   \n",
       "75%                                   -499.436708   \n",
       "max                                   -137.740004   \n",
       "\n",
       "       secondary_cleaner.state.floatbank6_a_air  \\\n",
       "count                              19437.000000   \n",
       "mean                                  18.959024   \n",
       "std                                    5.550498   \n",
       "min                                   -0.079426   \n",
       "25%                                   14.983037   \n",
       "50%                                   19.960541   \n",
       "75%                                   24.003170   \n",
       "max                                   32.188906   \n",
       "\n",
       "       secondary_cleaner.state.floatbank6_a_level  \n",
       "count                                19438.000000  \n",
       "mean                                  -505.436305  \n",
       "std                                     37.689057  \n",
       "min                                   -809.741464  \n",
       "25%                                   -500.728067  \n",
       "50%                                   -500.048400  \n",
       "75%                                   -499.495378  \n",
       "max                                   -104.427459  \n",
       "\n",
       "[8 rows x 86 columns]"
      ]
     },
     "metadata": {},
     "output_type": "display_data"
    },
    {
     "data": {
      "text/plain": [
       "date                                            0\n",
       "final.output.concentrate_ag                     1\n",
       "final.output.concentrate_pb                     1\n",
       "final.output.concentrate_sol                  211\n",
       "final.output.concentrate_au                     0\n",
       "                                             ... \n",
       "secondary_cleaner.state.floatbank5_a_level      1\n",
       "secondary_cleaner.state.floatbank5_b_air        1\n",
       "secondary_cleaner.state.floatbank5_b_level      1\n",
       "secondary_cleaner.state.floatbank6_a_air        2\n",
       "secondary_cleaner.state.floatbank6_a_level      1\n",
       "Length: 87, dtype: int64"
      ]
     },
     "metadata": {},
     "output_type": "display_data"
    },
    {
     "name": "stdout",
     "output_type": "stream",
     "text": [
      "\n",
      "\n"
     ]
    }
   ],
   "source": [
    "for df, name in zip([train, test, full], \n",
    "                    ['TRAIN', 'TEST', 'FULL']):\n",
    "    print(name)\n",
    "    data_view(df)\n",
    "    print()\n",
    "    print()\n",
    "    "
   ]
  },
  {
   "cell_type": "code",
   "execution_count": 4,
   "metadata": {},
   "outputs": [
    {
     "data": {
      "text/html": [
       "<div>\n",
       "<style scoped>\n",
       "    .dataframe tbody tr th:only-of-type {\n",
       "        vertical-align: middle;\n",
       "    }\n",
       "\n",
       "    .dataframe tbody tr th {\n",
       "        vertical-align: top;\n",
       "    }\n",
       "\n",
       "    .dataframe thead th {\n",
       "        text-align: right;\n",
       "    }\n",
       "</style>\n",
       "<table border=\"1\" class=\"dataframe\">\n",
       "  <thead>\n",
       "    <tr style=\"text-align: right;\">\n",
       "      <th></th>\n",
       "      <th>rougher.output.tail_ag</th>\n",
       "      <th>rougher.output.tail_pb</th>\n",
       "      <th>rougher.output.tail_sol</th>\n",
       "      <th>rougher.output.tail_au</th>\n",
       "    </tr>\n",
       "  </thead>\n",
       "  <tbody>\n",
       "    <tr>\n",
       "      <th>0</th>\n",
       "      <td>5.008018</td>\n",
       "      <td>0.508728</td>\n",
       "      <td>19.154297</td>\n",
       "      <td>1.170244</td>\n",
       "    </tr>\n",
       "    <tr>\n",
       "      <th>1</th>\n",
       "      <td>4.955378</td>\n",
       "      <td>0.536689</td>\n",
       "      <td>18.965234</td>\n",
       "      <td>1.184827</td>\n",
       "    </tr>\n",
       "    <tr>\n",
       "      <th>2</th>\n",
       "      <td>4.843460</td>\n",
       "      <td>0.546416</td>\n",
       "      <td>18.808533</td>\n",
       "      <td>1.162562</td>\n",
       "    </tr>\n",
       "    <tr>\n",
       "      <th>3</th>\n",
       "      <td>4.655288</td>\n",
       "      <td>0.542525</td>\n",
       "      <td>19.330200</td>\n",
       "      <td>1.079755</td>\n",
       "    </tr>\n",
       "    <tr>\n",
       "      <th>4</th>\n",
       "      <td>4.552800</td>\n",
       "      <td>0.515438</td>\n",
       "      <td>19.267422</td>\n",
       "      <td>1.012642</td>\n",
       "    </tr>\n",
       "  </tbody>\n",
       "</table>\n",
       "</div>"
      ],
      "text/plain": [
       "   rougher.output.tail_ag  rougher.output.tail_pb  rougher.output.tail_sol  \\\n",
       "0                5.008018                0.508728                19.154297   \n",
       "1                4.955378                0.536689                18.965234   \n",
       "2                4.843460                0.546416                18.808533   \n",
       "3                4.655288                0.542525                19.330200   \n",
       "4                4.552800                0.515438                19.267422   \n",
       "\n",
       "   rougher.output.tail_au  \n",
       "0                1.170244  \n",
       "1                1.184827  \n",
       "2                1.162562  \n",
       "3                1.079755  \n",
       "4                1.012642  "
      ]
     },
     "execution_count": 4,
     "metadata": {},
     "output_type": "execute_result"
    }
   ],
   "source": [
    "train.loc[:, 'rougher.output.tail_ag':'rougher.output.tail_au'].head()"
   ]
  },
  {
   "cell_type": "code",
   "execution_count": 5,
   "metadata": {},
   "outputs": [
    {
     "data": {
      "text/html": [
       "<div>\n",
       "<style scoped>\n",
       "    .dataframe tbody tr th:only-of-type {\n",
       "        vertical-align: middle;\n",
       "    }\n",
       "\n",
       "    .dataframe tbody tr th {\n",
       "        vertical-align: top;\n",
       "    }\n",
       "\n",
       "    .dataframe thead th {\n",
       "        text-align: right;\n",
       "    }\n",
       "</style>\n",
       "<table border=\"1\" class=\"dataframe\">\n",
       "  <thead>\n",
       "    <tr style=\"text-align: right;\">\n",
       "      <th></th>\n",
       "      <th>rougher.output.concentrate_ag</th>\n",
       "      <th>rougher.output.concentrate_pb</th>\n",
       "      <th>rougher.output.concentrate_sol</th>\n",
       "      <th>rougher.output.concentrate_au</th>\n",
       "      <th>rougher.output.recovery</th>\n",
       "    </tr>\n",
       "  </thead>\n",
       "  <tbody>\n",
       "    <tr>\n",
       "      <th>0</th>\n",
       "      <td>11.500771</td>\n",
       "      <td>7.101074</td>\n",
       "      <td>28.029297</td>\n",
       "      <td>19.793808</td>\n",
       "      <td>87.107763</td>\n",
       "    </tr>\n",
       "    <tr>\n",
       "      <th>1</th>\n",
       "      <td>11.615865</td>\n",
       "      <td>7.278807</td>\n",
       "      <td>28.067063</td>\n",
       "      <td>20.050975</td>\n",
       "      <td>86.843261</td>\n",
       "    </tr>\n",
       "    <tr>\n",
       "      <th>2</th>\n",
       "      <td>11.695753</td>\n",
       "      <td>7.216833</td>\n",
       "      <td>27.454037</td>\n",
       "      <td>19.737170</td>\n",
       "      <td>86.842308</td>\n",
       "    </tr>\n",
       "    <tr>\n",
       "      <th>3</th>\n",
       "      <td>11.915047</td>\n",
       "      <td>7.175616</td>\n",
       "      <td>27.341277</td>\n",
       "      <td>19.320810</td>\n",
       "      <td>87.226430</td>\n",
       "    </tr>\n",
       "    <tr>\n",
       "      <th>4</th>\n",
       "      <td>12.411054</td>\n",
       "      <td>7.240205</td>\n",
       "      <td>27.041023</td>\n",
       "      <td>19.216101</td>\n",
       "      <td>86.688794</td>\n",
       "    </tr>\n",
       "  </tbody>\n",
       "</table>\n",
       "</div>"
      ],
      "text/plain": [
       "   rougher.output.concentrate_ag  rougher.output.concentrate_pb  \\\n",
       "0                      11.500771                       7.101074   \n",
       "1                      11.615865                       7.278807   \n",
       "2                      11.695753                       7.216833   \n",
       "3                      11.915047                       7.175616   \n",
       "4                      12.411054                       7.240205   \n",
       "\n",
       "   rougher.output.concentrate_sol  rougher.output.concentrate_au  \\\n",
       "0                       28.029297                      19.793808   \n",
       "1                       28.067063                      20.050975   \n",
       "2                       27.454037                      19.737170   \n",
       "3                       27.341277                      19.320810   \n",
       "4                       27.041023                      19.216101   \n",
       "\n",
       "   rougher.output.recovery  \n",
       "0                87.107763  \n",
       "1                86.843261  \n",
       "2                86.842308  \n",
       "3                87.226430  \n",
       "4                86.688794  "
      ]
     },
     "execution_count": 5,
     "metadata": {},
     "output_type": "execute_result"
    }
   ],
   "source": [
    "train.loc[:, 'rougher.output.concentrate_ag':'rougher.output.recovery'].head()"
   ]
  },
  {
   "cell_type": "code",
   "execution_count": 6,
   "metadata": {},
   "outputs": [
    {
     "data": {
      "text/html": [
       "<div>\n",
       "<style scoped>\n",
       "    .dataframe tbody tr th:only-of-type {\n",
       "        vertical-align: middle;\n",
       "    }\n",
       "\n",
       "    .dataframe tbody tr th {\n",
       "        vertical-align: top;\n",
       "    }\n",
       "\n",
       "    .dataframe thead th {\n",
       "        text-align: right;\n",
       "    }\n",
       "</style>\n",
       "<table border=\"1\" class=\"dataframe\">\n",
       "  <thead>\n",
       "    <tr style=\"text-align: right;\">\n",
       "      <th></th>\n",
       "      <th>rougher.input.feed_ag</th>\n",
       "      <th>rougher.input.feed_pb</th>\n",
       "      <th>rougher.input.feed_rate</th>\n",
       "      <th>rougher.input.feed_size</th>\n",
       "      <th>rougher.input.feed_sol</th>\n",
       "      <th>rougher.input.feed_au</th>\n",
       "    </tr>\n",
       "  </thead>\n",
       "  <tbody>\n",
       "    <tr>\n",
       "      <th>0</th>\n",
       "      <td>6.100378</td>\n",
       "      <td>2.284912</td>\n",
       "      <td>523.546326</td>\n",
       "      <td>55.486599</td>\n",
       "      <td>36.808594</td>\n",
       "      <td>6.486150</td>\n",
       "    </tr>\n",
       "    <tr>\n",
       "      <th>1</th>\n",
       "      <td>6.161113</td>\n",
       "      <td>2.266033</td>\n",
       "      <td>525.290581</td>\n",
       "      <td>57.278666</td>\n",
       "      <td>35.753385</td>\n",
       "      <td>6.478583</td>\n",
       "    </tr>\n",
       "    <tr>\n",
       "      <th>2</th>\n",
       "      <td>6.116455</td>\n",
       "      <td>2.159622</td>\n",
       "      <td>530.026610</td>\n",
       "      <td>57.510649</td>\n",
       "      <td>35.971630</td>\n",
       "      <td>6.362222</td>\n",
       "    </tr>\n",
       "    <tr>\n",
       "      <th>3</th>\n",
       "      <td>6.043309</td>\n",
       "      <td>2.037807</td>\n",
       "      <td>542.590390</td>\n",
       "      <td>57.792734</td>\n",
       "      <td>36.862241</td>\n",
       "      <td>6.118189</td>\n",
       "    </tr>\n",
       "    <tr>\n",
       "      <th>4</th>\n",
       "      <td>6.060915</td>\n",
       "      <td>1.786875</td>\n",
       "      <td>540.531893</td>\n",
       "      <td>56.047189</td>\n",
       "      <td>34.347666</td>\n",
       "      <td>5.663707</td>\n",
       "    </tr>\n",
       "  </tbody>\n",
       "</table>\n",
       "</div>"
      ],
      "text/plain": [
       "   rougher.input.feed_ag  rougher.input.feed_pb  rougher.input.feed_rate  \\\n",
       "0               6.100378               2.284912               523.546326   \n",
       "1               6.161113               2.266033               525.290581   \n",
       "2               6.116455               2.159622               530.026610   \n",
       "3               6.043309               2.037807               542.590390   \n",
       "4               6.060915               1.786875               540.531893   \n",
       "\n",
       "   rougher.input.feed_size  rougher.input.feed_sol  rougher.input.feed_au  \n",
       "0                55.486599               36.808594               6.486150  \n",
       "1                57.278666               35.753385               6.478583  \n",
       "2                57.510649               35.971630               6.362222  \n",
       "3                57.792734               36.862241               6.118189  \n",
       "4                56.047189               34.347666               5.663707  "
      ]
     },
     "execution_count": 6,
     "metadata": {},
     "output_type": "execute_result"
    }
   ],
   "source": [
    "train.loc[:, 'rougher.input.feed_ag':'rougher.input.feed_au'].head()"
   ]
  },
  {
   "cell_type": "markdown",
   "metadata": {},
   "source": [
    "### Расчет эффективности обогащения \"чернового концентрата\""
   ]
  },
  {
   "cell_type": "code",
   "execution_count": 7,
   "metadata": {},
   "outputs": [
    {
     "data": {
      "text/plain": [
       "-1.3885438295121047e-16"
      ]
     },
     "execution_count": 7,
     "metadata": {},
     "output_type": "execute_result"
    }
   ],
   "source": [
    "c_rougher =  train['rougher.output.concentrate_au']\n",
    "f_rougher = train['rougher.input.feed_au']\n",
    "t_rougher = train['rougher.output.tail_au']\n",
    "\n",
    "rougher_recovery_train_calc = (\n",
    "    (c_rougher * (f_rougher - t_rougher)) / (f_rougher * (c_rougher - t_rougher)) * 100\n",
    ")\n",
    "(rougher_recovery_train_calc - train['rougher.output.recovery']).mean()"
   ]
  },
  {
   "cell_type": "markdown",
   "metadata": {},
   "source": [
    "- Средние отклонение значений эффективности обогащения \"чернового концентрата\" по исходным данными и формуле практически нулевые."
   ]
  },
  {
   "cell_type": "markdown",
   "metadata": {},
   "source": [
    "### Анализ недоступных признаков для тестовой выборки"
   ]
  },
  {
   "cell_type": "markdown",
   "metadata": {},
   "source": [
    "- В тестовой выборке недоступны "
   ]
  },
  {
   "cell_type": "code",
   "execution_count": 8,
   "metadata": {
    "scrolled": false
   },
   "outputs": [
    {
     "data": {
      "text/plain": [
       "{'final.output.concentrate_ag',\n",
       " 'final.output.concentrate_au',\n",
       " 'final.output.concentrate_pb',\n",
       " 'final.output.concentrate_sol',\n",
       " 'final.output.recovery',\n",
       " 'final.output.tail_ag',\n",
       " 'final.output.tail_au',\n",
       " 'final.output.tail_pb',\n",
       " 'final.output.tail_sol',\n",
       " 'primary_cleaner.output.concentrate_ag',\n",
       " 'primary_cleaner.output.concentrate_au',\n",
       " 'primary_cleaner.output.concentrate_pb',\n",
       " 'primary_cleaner.output.concentrate_sol',\n",
       " 'primary_cleaner.output.tail_ag',\n",
       " 'primary_cleaner.output.tail_au',\n",
       " 'primary_cleaner.output.tail_pb',\n",
       " 'primary_cleaner.output.tail_sol',\n",
       " 'rougher.calculation.au_pb_ratio',\n",
       " 'rougher.calculation.floatbank10_sulfate_to_au_feed',\n",
       " 'rougher.calculation.floatbank11_sulfate_to_au_feed',\n",
       " 'rougher.calculation.sulfate_to_au_concentrate',\n",
       " 'rougher.output.concentrate_ag',\n",
       " 'rougher.output.concentrate_au',\n",
       " 'rougher.output.concentrate_pb',\n",
       " 'rougher.output.concentrate_sol',\n",
       " 'rougher.output.recovery',\n",
       " 'rougher.output.tail_ag',\n",
       " 'rougher.output.tail_au',\n",
       " 'rougher.output.tail_pb',\n",
       " 'rougher.output.tail_sol',\n",
       " 'secondary_cleaner.output.tail_ag',\n",
       " 'secondary_cleaner.output.tail_au',\n",
       " 'secondary_cleaner.output.tail_pb',\n",
       " 'secondary_cleaner.output.tail_sol'}"
      ]
     },
     "execution_count": 8,
     "metadata": {},
     "output_type": "execute_result"
    }
   ],
   "source": [
    "set.difference(set(train.columns), set(test.columns))"
   ]
  },
  {
   "cell_type": "markdown",
   "metadata": {},
   "source": [
    "- Недоступны выходные параметры для каждого этапа обработки.\n",
    "\n",
    "- Ожидаемые типы данных для этих параметров такие же как в полном датасете."
   ]
  },
  {
   "cell_type": "markdown",
   "metadata": {},
   "source": [
    "### Предобработка данных"
   ]
  },
  {
   "cell_type": "markdown",
   "metadata": {},
   "source": [
    "- Замена индексов на столбец `date` и удаление его для всех таблиц"
   ]
  },
  {
   "cell_type": "code",
   "execution_count": 9,
   "metadata": {
    "scrolled": true
   },
   "outputs": [],
   "source": [
    "for df in [train, test, full]:\n",
    "    df.index = df['date'].values\n",
    "    df = df.pop('date')"
   ]
  },
  {
   "cell_type": "markdown",
   "metadata": {},
   "source": [
    "- Заполнение пропусков в обучающем `train` и тестовом `test` наборе данных, исходя из того, что cоседние по времени параметры часто похожи"
   ]
  },
  {
   "cell_type": "code",
   "execution_count": 10,
   "metadata": {},
   "outputs": [],
   "source": [
    "full = full.fillna(method='ffill')"
   ]
  },
  {
   "cell_type": "markdown",
   "metadata": {},
   "source": [
    "- Недостающие данные для тестовой выборки добавим из полного датасета `full` по индексам-датам, также обновим обучающую выборку после заполнения пропусков"
   ]
  },
  {
   "cell_type": "code",
   "execution_count": 11,
   "metadata": {},
   "outputs": [],
   "source": [
    "test = full.loc[test.index].drop(['rougher.output.recovery', \n",
    "                                  'final.output.recovery', \n",
    "                                  'rougher.calculation.au_pb_ratio', \n",
    "                                  'rougher.calculation.floatbank10_sulfate_to_au_feed', \n",
    "                                  'rougher.calculation.floatbank11_sulfate_to_au_feed', \n",
    "                                  'rougher.calculation.sulfate_to_au_concentrate',], axis=1)\n",
    "train = full.loc[train.index]"
   ]
  },
  {
   "cell_type": "markdown",
   "metadata": {},
   "source": [
    "### Вывод"
   ]
  },
  {
   "cell_type": "markdown",
   "metadata": {},
   "source": [
    "<b>\n",
    "    \n",
    "- Средние отклонение значений эффективности обогащения \"чернового концентрата\" по исходным данными и формуле практически нулевые.\n",
    "\n",
    "    \n",
    "- В качестве индексов для все таблиц были установлены даты.\n",
    "    \n",
    "- Заполнение пропусков было осуществлено методом `ffill`, исходя из того, что cоседние по времени параметры часто похожи.\n",
    "    \n",
    "</b>"
   ]
  },
  {
   "cell_type": "markdown",
   "metadata": {},
   "source": [
    "## Анализ данных"
   ]
  },
  {
   "cell_type": "markdown",
   "metadata": {},
   "source": [
    "### Изменения концентрации металлов  (Au, Ag, Pb) на каждом этапе очистки"
   ]
  },
  {
   "cell_type": "code",
   "execution_count": 12,
   "metadata": {},
   "outputs": [],
   "source": [
    "raw_materials = []\n",
    "rougher_step = []\n",
    "primary_cleaner_step = []\n",
    "final = []\n",
    "\n",
    "for element in ['_au', '_ag', '_pb', '_sol']:\n",
    "    raw_materials.append(\n",
    "        full['rougher.input.feed' + element].median()\n",
    "    )\n",
    "    rougher_step.append(\n",
    "        full['rougher.output.concentrate' + element].median()\n",
    "    )\n",
    "    primary_cleaner_step.append(\n",
    "        full['primary_cleaner.output.concentrate' + element].median()\n",
    "    )\n",
    "    final.append(\n",
    "        full['final.output.concentrate' + element].median()\n",
    "    )"
   ]
  },
  {
   "cell_type": "code",
   "execution_count": 13,
   "metadata": {},
   "outputs": [
    {
     "data": {
      "text/html": [
       "<div>\n",
       "<style scoped>\n",
       "    .dataframe tbody tr th:only-of-type {\n",
       "        vertical-align: middle;\n",
       "    }\n",
       "\n",
       "    .dataframe tbody tr th {\n",
       "        vertical-align: top;\n",
       "    }\n",
       "\n",
       "    .dataframe thead th {\n",
       "        text-align: right;\n",
       "    }\n",
       "</style>\n",
       "<table border=\"1\" class=\"dataframe\">\n",
       "  <thead>\n",
       "    <tr style=\"text-align: right;\">\n",
       "      <th></th>\n",
       "      <th>_au</th>\n",
       "      <th>_ag</th>\n",
       "      <th>_pb</th>\n",
       "      <th>_sol</th>\n",
       "    </tr>\n",
       "  </thead>\n",
       "  <tbody>\n",
       "    <tr>\n",
       "      <th>сырье</th>\n",
       "      <td>8.125839</td>\n",
       "      <td>8.593574</td>\n",
       "      <td>3.528235</td>\n",
       "      <td>37.189485</td>\n",
       "    </tr>\n",
       "    <tr>\n",
       "      <th>черновой концентрат</th>\n",
       "      <td>20.280214</td>\n",
       "      <td>12.098115</td>\n",
       "      <td>7.742580</td>\n",
       "      <td>29.833638</td>\n",
       "    </tr>\n",
       "    <tr>\n",
       "      <th>1-я стадия</th>\n",
       "      <td>32.841295</td>\n",
       "      <td>8.507298</td>\n",
       "      <td>10.142270</td>\n",
       "      <td>10.238614</td>\n",
       "    </tr>\n",
       "    <tr>\n",
       "      <th>финальный концентрат</th>\n",
       "      <td>45.011244</td>\n",
       "      <td>5.066039</td>\n",
       "      <td>10.102264</td>\n",
       "      <td>9.184826</td>\n",
       "    </tr>\n",
       "  </tbody>\n",
       "</table>\n",
       "</div>"
      ],
      "text/plain": [
       "                            _au        _ag        _pb       _sol\n",
       "сырье                  8.125839   8.593574   3.528235  37.189485\n",
       "черновой концентрат   20.280214  12.098115   7.742580  29.833638\n",
       "1-я стадия            32.841295   8.507298  10.142270  10.238614\n",
       "финальный концентрат  45.011244   5.066039  10.102264   9.184826"
      ]
     },
     "execution_count": 13,
     "metadata": {},
     "output_type": "execute_result"
    }
   ],
   "source": [
    "concentration_table = pd.DataFrame([\n",
    "    raw_materials, \n",
    "    rougher_step, \n",
    "    primary_cleaner_step, \n",
    "    final\n",
    "],\n",
    "    columns=['_au', '_ag', '_pb', '_sol'],\n",
    "    index=['сырье', 'черновой концентрат', '1-я стадия', 'финальный концентрат']\n",
    ")\n",
    "concentration_table"
   ]
  },
  {
   "cell_type": "code",
   "execution_count": 14,
   "metadata": {},
   "outputs": [
    {
     "data": {
      "image/png": "[encoded data removed]",
      "text/plain": [
       "<Figure size 720x576 with 1 Axes>"
      ]
     },
     "metadata": {
      "needs_background": "light"
     },
     "output_type": "display_data"
    }
   ],
   "source": [
    "fig, ax = plt.subplots()\n",
    "\n",
    "ax.plot(concentration_table.index, concentration_table['_au'],\n",
    "        linestyle = '-',\n",
    "        color = 'gold', \n",
    "        label='Au')\n",
    "ax.plot(concentration_table.index, concentration_table['_ag'],\n",
    "        linestyle = '-',\n",
    "        color = 'grey', \n",
    "        label='Ag')\n",
    "ax.plot(concentration_table.index, concentration_table['_pb'],\n",
    "        linestyle = '-',\n",
    "        color = 'crimson', \n",
    "        label='Pb')\n",
    "\n",
    "fig.set_figwidth(10)\n",
    "fig.set_figheight(8)\n",
    "\n",
    "ax.set_title('Изменение медианной концентрации (Au, Ag, Pb) на каждом этапе очистки', fontsize = 20)\n",
    "ax.legend(shadow = False, fontsize = 15)\n",
    "ax.grid()\n",
    "\n",
    "ax.set_ylabel('концентрация, %', fontsize = 15)\n",
    "ax.set_xlim(['сырье', 'финальный концентрат'])\n",
    "ax.set_ylim([0, 45])\n",
    "\n",
    "plt.show()\n"
   ]
  },
  {
   "cell_type": "markdown",
   "metadata": {},
   "source": [
    "- Самая низкая концентрация металлов (Au - 8%, Ag - 8%, Pb - 3.5%) в сырье до этапов флотации и очистки.\n",
    "\n",
    "- После флотации концентрация золота значительно возрастает: более чем в 2 раза. Для серебра и свинца рост происходите незначительный, примерно в 1.5 раза.\n",
    "\n",
    "- На первой стадии очистки рост концентрации золота продолжает линейно расти и увеличивается почти в 2 раза. Концентрация серебра снижается до первоначальных показателей. Концентрация свинца продалжает расти, но еще более незначительно.\n",
    "\n",
    "- На выходе, концентрация золота максимальная - 45%, линейно возрастающая. Концентрация серебра снижается до 5%. Концентрация свинца остаётся практически неизменной."
   ]
  },
  {
   "cell_type": "markdown",
   "metadata": {},
   "source": [
    "### Сравнение распределения размеров гранул сырья в обучающей и тестовой выборке"
   ]
  },
  {
   "cell_type": "code",
   "execution_count": 15,
   "metadata": {
    "scrolled": false
   },
   "outputs": [
    {
     "data": {
      "image/png": "[encoded data removed]",
      "text/plain": [
       "<Figure size 1080x432 with 2 Axes>"
      ]
     },
     "metadata": {
      "needs_background": "light"
     },
     "output_type": "display_data"
    }
   ],
   "source": [
    "fig, ax = plt.subplots(1, 2)\n",
    "\n",
    "for i, name in zip([0, 1], ['rougher.input.feed_size', 'primary_cleaner.input.feed_size']):\n",
    "    ax[i].hist(train[name], bins=100, label='train')\n",
    "    ax[i].hist(test[name], bins=100, label='test')\n",
    "    ax[i].legend(shadow = False, fontsize = 15)\n",
    "    ax[i].grid()\n",
    "    ax[i].set_title('Распределение размеров гранул ' + name, fontsize = 12)\n",
    "\n",
    "ax[0].set_xlim([0, 200])\n",
    "ax[1].set_xlim([4, 12])\n",
    "\n",
    "fig.set_figwidth(15)\n",
    "fig.set_figheight(6)\n",
    "\n",
    "plt.show()"
   ]
  },
  {
   "cell_type": "markdown",
   "metadata": {},
   "source": [
    "- Распределение размеров гранул перед флотацией `rougher.input.feed_size` для обучающей и тестовый выборок схожи. Границы (25 - 125), пики (35-50) и смещения влево практически совпадают. Сильные отличия только в количестве замеров.\n",
    "\n",
    "- Распределение размеров гранул перед флотацией `primary_cleaner.input.feed_size` для обучающей и тестовый выборок схожи. Границы (5 - 11), пики (7-7.5) практически совпадают. Сильные отличия только в количестве замеров. "
   ]
  },
  {
   "cell_type": "markdown",
   "metadata": {},
   "source": [
    "### Cуммарная концентрация всех веществ на разных стадиях"
   ]
  },
  {
   "cell_type": "code",
   "execution_count": 16,
   "metadata": {},
   "outputs": [
    {
     "data": {
      "text/html": [
       "<div>\n",
       "<style scoped>\n",
       "    .dataframe tbody tr th:only-of-type {\n",
       "        vertical-align: middle;\n",
       "    }\n",
       "\n",
       "    .dataframe tbody tr th {\n",
       "        vertical-align: top;\n",
       "    }\n",
       "\n",
       "    .dataframe thead th {\n",
       "        text-align: right;\n",
       "    }\n",
       "</style>\n",
       "<table border=\"1\" class=\"dataframe\">\n",
       "  <thead>\n",
       "    <tr style=\"text-align: right;\">\n",
       "      <th></th>\n",
       "      <th>_au</th>\n",
       "      <th>_ag</th>\n",
       "      <th>_pb</th>\n",
       "      <th>_sol</th>\n",
       "      <th>total_concentration</th>\n",
       "    </tr>\n",
       "  </thead>\n",
       "  <tbody>\n",
       "    <tr>\n",
       "      <th>сырье</th>\n",
       "      <td>8.125839</td>\n",
       "      <td>8.593574</td>\n",
       "      <td>3.528235</td>\n",
       "      <td>37.189485</td>\n",
       "      <td>57.437133</td>\n",
       "    </tr>\n",
       "    <tr>\n",
       "      <th>черновой концентрат</th>\n",
       "      <td>20.280214</td>\n",
       "      <td>12.098115</td>\n",
       "      <td>7.742580</td>\n",
       "      <td>29.833638</td>\n",
       "      <td>69.954547</td>\n",
       "    </tr>\n",
       "    <tr>\n",
       "      <th>1-я стадия</th>\n",
       "      <td>32.841295</td>\n",
       "      <td>8.507298</td>\n",
       "      <td>10.142270</td>\n",
       "      <td>10.238614</td>\n",
       "      <td>61.729478</td>\n",
       "    </tr>\n",
       "    <tr>\n",
       "      <th>финальный концентрат</th>\n",
       "      <td>45.011244</td>\n",
       "      <td>5.066039</td>\n",
       "      <td>10.102264</td>\n",
       "      <td>9.184826</td>\n",
       "      <td>69.364372</td>\n",
       "    </tr>\n",
       "  </tbody>\n",
       "</table>\n",
       "</div>"
      ],
      "text/plain": [
       "                            _au        _ag        _pb       _sol  \\\n",
       "сырье                  8.125839   8.593574   3.528235  37.189485   \n",
       "черновой концентрат   20.280214  12.098115   7.742580  29.833638   \n",
       "1-я стадия            32.841295   8.507298  10.142270  10.238614   \n",
       "финальный концентрат  45.011244   5.066039  10.102264   9.184826   \n",
       "\n",
       "                      total_concentration  \n",
       "сырье                           57.437133  \n",
       "черновой концентрат             69.954547  \n",
       "1-я стадия                      61.729478  \n",
       "финальный концентрат            69.364372  "
      ]
     },
     "execution_count": 16,
     "metadata": {},
     "output_type": "execute_result"
    }
   ],
   "source": [
    "concentration_table['total_concentration'] = concentration_table.loc[:, '_au':'_sol'].sum(axis=1)\n",
    "\n",
    "concentration_table"
   ]
  },
  {
   "cell_type": "code",
   "execution_count": 17,
   "metadata": {},
   "outputs": [
    {
     "data": {
      "image/png": "[encoded data removed]",
      "text/plain": [
       "<Figure size 576x432 with 1 Axes>"
      ]
     },
     "metadata": {
      "needs_background": "light"
     },
     "output_type": "display_data"
    }
   ],
   "source": [
    "fig, ax = plt.subplots()\n",
    "\n",
    "ax.bar(concentration_table.index, \n",
    "        concentration_table['total_concentration'],\n",
    "        linestyle = '-')\n",
    "\n",
    "fig.set_figwidth(8)\n",
    "fig.set_figheight(6)\n",
    "\n",
    "ax.set_title('Изменение общей концентрации вещ-в на каждом этапе очистки', fontsize = 15)\n",
    "ax.grid()\n",
    "\n",
    "ax.set_ylabel('концентрация, %', fontsize = 15)\n",
    "ax.set_ylim([0, 100])\n",
    "\n",
    "plt.show()"
   ]
  },
  {
   "cell_type": "markdown",
   "metadata": {},
   "source": [
    "- Общая концентрация веществ меняется примерно на 10%, взависимости от стадии. Сырье и 1-я стади: 57-61%. Черновой концентрат и 2-я стадия: 69%"
   ]
  },
  {
   "cell_type": "markdown",
   "metadata": {},
   "source": [
    "### Вывод"
   ]
  },
  {
   "cell_type": "markdown",
   "metadata": {},
   "source": [
    "<b>\n",
    "    \n",
    "- На каждом этапе очистки медианная концентрация золота растёт (8% - 45%), концентрация серебра сначала растёт потом падает (8% - 5%), концентрация свинца растёт, а затем стабилизируется (3% - 10%).\n",
    "\n",
    "    \n",
    "- Распределение размеров гранул перед флотацией и 1-й стадией очистки для обучающей и тестовый выборок схожи. Границы , пики и смещения практически совпадают. Сильные отличия только в количестве значений.\n",
    " \n",
    "    \n",
    "- Общая концентрация веществ меняется примерно на 10%, взависимости от стадии.\n",
    "      \n",
    "</b>"
   ]
  },
  {
   "cell_type": "markdown",
   "metadata": {},
   "source": [
    "## Модель"
   ]
  },
  {
   "cell_type": "markdown",
   "metadata": {},
   "source": [
    "### Функция `sMAPE`"
   ]
  },
  {
   "cell_type": "markdown",
   "metadata": {},
   "source": [
    "- Создадим необходимы функции для тестирования моделей"
   ]
  },
  {
   "cell_type": "code",
   "execution_count": 18,
   "metadata": {},
   "outputs": [],
   "source": [
    "def output_sMAPE(target_valid, predicted_valid):\n",
    "    \n",
    "    \"\"\"\n",
    "    Функция возвращает значение метрики качества модели sMAPE,\n",
    "    принимая на вход:\n",
    "    \n",
    "     - целевой признак target_valid, который состоит из 2 столбцов \n",
    "     'rougher.output.recovery' и 'final.output.recovery';\n",
    "     \n",
    "     - значение предсказания, которое состоит из 2 множеств, для 2 целевых признаков.\n",
    "     \n",
    "    \"\"\"\n",
    "    \n",
    "        \n",
    "    total_table = target_valid.reset_index(drop=True).join(pd.DataFrame(predicted_valid))\n",
    "    rougher_smape = total_table.apply(lambda x: abs(x['rougher.output.recovery'] - x[0]) * 100 / \n",
    "                                      ((abs(x['rougher.output.recovery']) + abs(x[0]))/2), axis=1)\n",
    "    final_smape = total_table.apply(lambda x: abs(x['final.output.recovery'] - x[1]) * 100 / \n",
    "                                      ((abs(x['final.output.recovery']) + abs(x[1]))/2), axis=1)\n",
    "   \n",
    "    return (0.25 * rougher_smape.mean() + 0.75 * final_smape.mean())"
   ]
  },
  {
   "cell_type": "code",
   "execution_count": 19,
   "metadata": {},
   "outputs": [],
   "source": [
    "def cross_samle_sep(features, target, size, i):\n",
    "    \n",
    "    \"\"\"\n",
    "    Функция возвращает значения разделённой выбоки для конкретных\n",
    "    индексов при использовании кросс-валидации.\n",
    "    \n",
    "    На вход принимает:\n",
    "    \n",
    "    - features таблицу признаков обучающей выбоки;\n",
    "    \n",
    "    - target таблицу целевых признаков обучающей выбоки;\n",
    "    \n",
    "    - size размер выборки для кросс-валидации;\n",
    "    \n",
    "    - i номер итерации.\n",
    "    \n",
    "    \"\"\"\n",
    "    \n",
    "    valid_indexes = list(features[i:(sample_size + i)].index)\n",
    "    train_indexes = list(features[0:i].index) + list(features[(sample_size + i):].index)\n",
    "    \n",
    "    features_train = features[features.index.isin(train_indexes)]\n",
    "    target_train = target[features.index.isin(train_indexes)]\n",
    "    \n",
    "    features_valid = features[features.index.isin(valid_indexes)]\n",
    "    target_valid = target[features.index.isin(valid_indexes)]\n",
    "    \n",
    "    return features_train, target_train, features_valid, target_valid"
   ]
  },
  {
   "cell_type": "markdown",
   "metadata": {},
   "source": [
    "### Модель линейной регрессии"
   ]
  },
  {
   "cell_type": "markdown",
   "metadata": {},
   "source": [
    "- Разобьем тренировочную выборку на целевые и нецелевые признаки"
   ]
  },
  {
   "cell_type": "code",
   "execution_count": 20,
   "metadata": {},
   "outputs": [],
   "source": [
    "features = train.drop(['rougher.output.recovery','final.output.recovery'], axis=1)\n",
    "target = train[['rougher.output.recovery','final.output.recovery']]"
   ]
  },
  {
   "cell_type": "markdown",
   "metadata": {},
   "source": [
    "- Применим кросс-валидацию к модели и оценим ее качество по метрике sMAPE."
   ]
  },
  {
   "cell_type": "code",
   "execution_count": 21,
   "metadata": {},
   "outputs": [],
   "source": [
    "scores = []\n",
    "sample_size = int(len(train) / 10)\n",
    "\n",
    "for i in range(0, len(train), sample_size):\n",
    "    \n",
    "    (features_train, \n",
    "     target_train, \n",
    "     features_valid, \n",
    "     target_valid) = (cross_samle_sep(features, target, sample_size, i))\n",
    "\n",
    "    model = LinearRegression()\n",
    "    model.fit(features_train, target_train)\n",
    "    predicted_valid = model.predict(features_valid)\n",
    "    score = output_sMAPE(target_valid, predicted_valid)\n",
    "    \n",
    "    scores.append(score)"
   ]
  },
  {
   "cell_type": "code",
   "execution_count": 22,
   "metadata": {
    "scrolled": true
   },
   "outputs": [
    {
     "data": {
      "text/plain": [
       "5.751229079891939"
      ]
     },
     "execution_count": 22,
     "metadata": {},
     "output_type": "execute_result"
    }
   ],
   "source": [
    "sMAPE_lin_regres = sum(scores) / len(scores)\n",
    "\n",
    "sMAPE_lin_regres"
   ]
  },
  {
   "cell_type": "markdown",
   "metadata": {},
   "source": [
    "### Модель логистической регрессии"
   ]
  },
  {
   "cell_type": "code",
   "execution_count": 23,
   "metadata": {},
   "outputs": [],
   "source": [
    "scores = []\n",
    "\n",
    "for i in range(0, len(train), sample_size):\n",
    "     \n",
    "    (features_train, \n",
    "     target_train, \n",
    "     features_valid, \n",
    "     target_valid) = (cross_samle_sep(features, target, sample_size, i))\n",
    "\n",
    "    scaler = StandardScaler()\n",
    "    scaler.fit(features_train)\n",
    "    features_train = scaler.transform(features_train)\n",
    "    features_valid = scaler.transform(features_valid)\n",
    "    \n",
    "    model= LogisticRegression(random_state=12345)\n",
    "\n",
    "    model.fit(features_train, target_train['rougher.output.recovery'].astype(int))\n",
    "    predicted_valid_rougher = model.predict(features_valid)\n",
    "\n",
    "    model.fit(features_train, target_train['final.output.recovery'].astype(int))\n",
    "    predicted_valid_final = model.predict(features_valid)\n",
    "\n",
    "    predicted_valid = pd.DataFrame({0: predicted_valid_rougher, 1: predicted_valid_final})\n",
    "    \n",
    "    score = output_sMAPE(target_valid, predicted_valid)\n",
    "    \n",
    "    scores.append(score)"
   ]
  },
  {
   "cell_type": "code",
   "execution_count": 24,
   "metadata": {},
   "outputs": [
    {
     "data": {
      "text/plain": [
       "7.134243119404444"
      ]
     },
     "execution_count": 24,
     "metadata": {},
     "output_type": "execute_result"
    }
   ],
   "source": [
    "sum(scores) / len(scores)"
   ]
  },
  {
   "cell_type": "markdown",
   "metadata": {},
   "source": [
    "### Модель градиентного спуска"
   ]
  },
  {
   "cell_type": "markdown",
   "metadata": {},
   "source": [
    "- Проведём подбор оптимальных параметро для модели."
   ]
  },
  {
   "cell_type": "code",
   "execution_count": 25,
   "metadata": {},
   "outputs": [
    {
     "name": "stdout",
     "output_type": "stream",
     "text": [
      "{'eta0': 0.0001, 'tol': 0.001}\n"
     ]
    }
   ],
   "source": [
    "model = SGDRegressor(random_state=12345)\n",
    "param_grid = {\"tol\": [.001, .003, .0001, .0003],\n",
    "              \"eta0\": [.001, .003, .0001, .0003]}\n",
    "grid_search = GridSearchCV(model, param_grid, n_jobs=-1, cv=2)\n",
    "grid_search.fit(features, target['final.output.recovery'])\n",
    "print(grid_search.best_params_)"
   ]
  },
  {
   "cell_type": "markdown",
   "metadata": {},
   "source": [
    "- По аналогии с предыдущей проверкой модели проведём кросс-валидацию."
   ]
  },
  {
   "cell_type": "code",
   "execution_count": 26,
   "metadata": {},
   "outputs": [],
   "source": [
    "scores = []\n",
    "\n",
    "for i in range(0, len(train), sample_size):\n",
    "    \n",
    "    (features_train, \n",
    "     target_train, \n",
    "     features_valid, \n",
    "     target_valid) = (cross_samle_sep(features, target, sample_size, i))\n",
    "    \n",
    "    scaler = StandardScaler()\n",
    "    scaler.fit(features_train)\n",
    "    features_train = scaler.transform(features_train)\n",
    "    features_valid = scaler.transform(features_valid)\n",
    "\n",
    "    model= SGDRegressor(tol=.001, eta0=.0001, random_state=12345)\n",
    "\n",
    "    model.fit(features_train, target_train['rougher.output.recovery'])\n",
    "    predicted_valid_rougher = model.predict(features_valid)\n",
    "\n",
    "    model.fit(features_train, target_train['final.output.recovery'])\n",
    "    predicted_valid_final = model.predict(features_valid)\n",
    "\n",
    "    predicted_valid = pd.DataFrame({0: predicted_valid_rougher, 1: predicted_valid_final})\n",
    "    \n",
    "    score = output_sMAPE(target_valid, predicted_valid)\n",
    "    \n",
    "    scores.append(score)"
   ]
  },
  {
   "cell_type": "code",
   "execution_count": 27,
   "metadata": {},
   "outputs": [
    {
     "data": {
      "text/plain": [
       "6.2977285618433685"
      ]
     },
     "execution_count": 27,
     "metadata": {},
     "output_type": "execute_result"
    }
   ],
   "source": [
    "sum(scores) / len(scores)"
   ]
  },
  {
   "cell_type": "markdown",
   "metadata": {},
   "source": [
    "### Модель случайного леса"
   ]
  },
  {
   "cell_type": "markdown",
   "metadata": {},
   "source": [
    "- Проведём подбор оптимальных параметров для модели."
   ]
  },
  {
   "cell_type": "code",
   "execution_count": 28,
   "metadata": {},
   "outputs": [
    {
     "name": "stdout",
     "output_type": "stream",
     "text": [
      "{'max_depth': 15, 'n_estimators': 155}\n"
     ]
    }
   ],
   "source": [
    "model = RandomForestRegressor(random_state=12345)\n",
    "param_grid = {\"n_estimators\": [145, 147, 150, 152, 155],\n",
    "              \"max_depth\": [12, 13, 14, 15]}\n",
    "grid_search = GridSearchCV(model, param_grid, n_jobs=-1, cv=2)\n",
    "grid_search.fit(features, target['final.output.recovery'])\n",
    "print(grid_search.best_params_)"
   ]
  },
  {
   "cell_type": "markdown",
   "metadata": {},
   "source": [
    "- По аналогии с предыдущей проверкой модели проведём кросс-валидацию."
   ]
  },
  {
   "cell_type": "code",
   "execution_count": 35,
   "metadata": {},
   "outputs": [],
   "source": [
    "scores = []\n",
    "\n",
    "for i in range(0, len(train), sample_size):\n",
    "     \n",
    "    (features_train, \n",
    "     target_train, \n",
    "     features_valid, \n",
    "     target_valid) = (cross_samle_sep(features, target, sample_size, i))\n",
    "\n",
    "    scaler = StandardScaler()\n",
    "    scaler.fit(features_train)\n",
    "    features_train = scaler.transform(features_train)\n",
    "    features_valid = scaler.transform(features_valid)\n",
    "    \n",
    "    model= RandomForestRegressor(random_state=12345, n_estimators=155, max_depth=15)\n",
    "\n",
    "    model.fit(features_train, target_train)\n",
    "    predicted_valid = model.predict(features_valid)\n",
    "    \n",
    "    score = output_sMAPE(target_valid, predicted_valid)\n",
    "    \n",
    "    scores.append(score)"
   ]
  },
  {
   "cell_type": "code",
   "execution_count": 36,
   "metadata": {},
   "outputs": [
    {
     "data": {
      "text/plain": [
       "2.861116212846403"
      ]
     },
     "execution_count": 36,
     "metadata": {},
     "output_type": "execute_result"
    }
   ],
   "source": [
    "sum(scores) / len(scores)"
   ]
  },
  {
   "cell_type": "markdown",
   "metadata": {},
   "source": [
    "### Проверка модели на тестовых данных"
   ]
  },
  {
   "cell_type": "markdown",
   "metadata": {},
   "source": [
    "- Исходи из полученных значений метрики `sMAPE` для приведённых моделей, выберем лучшую."
   ]
  },
  {
   "cell_type": "code",
   "execution_count": 38,
   "metadata": {},
   "outputs": [],
   "source": [
    "train = full.loc[train.index].drop(['rougher.output.recovery', \n",
    "                                  'final.output.recovery', \n",
    "                                  'rougher.calculation.au_pb_ratio', \n",
    "                                  'rougher.calculation.floatbank10_sulfate_to_au_feed', \n",
    "                                  'rougher.calculation.floatbank11_sulfate_to_au_feed', \n",
    "                                  'rougher.calculation.sulfate_to_au_concentrate',], axis=1)\n",
    "\n",
    "target_train = full.loc[train.index][['rougher.output.recovery', \n",
    "                                      'final.output.recovery']]"
   ]
  },
  {
   "cell_type": "code",
   "execution_count": 39,
   "metadata": {},
   "outputs": [],
   "source": [
    "test = full.loc[test.index].drop(['rougher.output.recovery', \n",
    "                                  'final.output.recovery', \n",
    "                                  'rougher.calculation.au_pb_ratio', \n",
    "                                  'rougher.calculation.floatbank10_sulfate_to_au_feed', \n",
    "                                  'rougher.calculation.floatbank11_sulfate_to_au_feed', \n",
    "                                  'rougher.calculation.sulfate_to_au_concentrate',], axis=1)\n",
    "\n",
    "target_test = full.loc[test.index][['rougher.output.recovery', \n",
    "                                  'final.output.recovery']]"
   ]
  },
  {
   "cell_type": "code",
   "execution_count": 40,
   "metadata": {},
   "outputs": [
    {
     "data": {
      "text/plain": [
       "2.6016574604039095"
      ]
     },
     "execution_count": 40,
     "metadata": {},
     "output_type": "execute_result"
    }
   ],
   "source": [
    "model = RandomForestRegressor(random_state=12345, n_estimators=155, max_depth=15)\n",
    "model.fit(train, target_train)\n",
    "predicted_valid = model.predict(test)\n",
    "\n",
    "output_sMAPE(target_test, predicted_valid)"
   ]
  },
  {
   "cell_type": "markdown",
   "metadata": {},
   "source": [
    "## Вывод"
   ]
  },
  {
   "cell_type": "markdown",
   "metadata": {},
   "source": [
    "<b>\n",
    "    \n",
    "- Среднее значение отклонений  эффективности обогащения \"чернового концентрата\" по исходным данными и по формуле практически нулевое.\n",
    "\n",
    "    \n",
    "- В качестве индексов для все таблиц были установлены даты.\n",
    "   \n",
    "    \n",
    "- Заполнение пропусков было осуществлено методом `ffill`, исходя из того, что cоседние по времени параметры часто похожи.\n",
    "    \n",
    "    \n",
    "- На каждом этапе очистки медианная концентрация золота растёт (8% - 45%), концентрация серебра сначала растёт потом падает (8% - 5%), концентрация свинца растёт, а затем стабилизируется (3% - 10%).\n",
    "\n",
    "    \n",
    "- Распределение размеров гранул перед флотацией и 1-й стадией очистки для обучающей и тестовый выборок схожи. Границы , пики и смещения практически совпадают. Сильные отличия только в количестве значений.\n",
    " \n",
    "    \n",
    "- Общая концентрация веществ меняется примерно на 10%, взависимости от стадии.\n",
    "    \n",
    "    \n",
    "- Было обучены и проверены кросс-валидацией следующие модели: `LinearRegression`, `LogisticRegression`, `SGDRegressor`, `RandomForestRegressor`.\n",
    "  \n",
    "    \n",
    "- На основание метрики качества `sMAPE` была выбрана модель `LinearRegression` и проверена на тестовых данных. Качество модели осталось на прежнем уровне - 5.7%.\n",
    "    \n",
    "</b>"
   ]
  }
 ],
 "metadata": {
  "ExecuteTimeLog": [
   {
    "duration": 2156,
    "start_time": "2022-04-04T05:47:44.234Z"
   },
   {
    "duration": 7,
    "start_time": "2022-04-04T05:48:14.231Z"
   },
   {
    "duration": 1187,
    "start_time": "2022-04-04T05:51:05.148Z"
   },
   {
    "duration": 520,
    "start_time": "2022-04-04T05:51:16.220Z"
   },
   {
    "duration": 388,
    "start_time": "2022-04-04T05:52:47.628Z"
   },
   {
    "duration": 974,
    "start_time": "2022-04-04T05:54:42.281Z"
   },
   {
    "duration": 1066,
    "start_time": "2022-04-04T05:58:13.509Z"
   },
   {
    "duration": 952,
    "start_time": "2022-04-04T05:58:54.124Z"
   },
   {
    "duration": 9,
    "start_time": "2022-04-04T06:53:57.297Z"
   },
   {
    "duration": 9,
    "start_time": "2022-04-04T06:54:56.143Z"
   },
   {
    "duration": 1050,
    "start_time": "2022-04-04T07:05:44.247Z"
   },
   {
    "duration": 7,
    "start_time": "2022-04-04T07:15:52.741Z"
   },
   {
    "duration": 7,
    "start_time": "2022-04-04T07:19:36.828Z"
   },
   {
    "duration": 7,
    "start_time": "2022-04-04T07:19:41.540Z"
   },
   {
    "duration": 8,
    "start_time": "2022-04-04T07:21:27.139Z"
   },
   {
    "duration": 7,
    "start_time": "2022-04-04T07:22:04.251Z"
   },
   {
    "duration": 6,
    "start_time": "2022-04-04T07:24:37.081Z"
   },
   {
    "duration": 154,
    "start_time": "2022-04-04T07:31:07.703Z"
   },
   {
    "duration": 8,
    "start_time": "2022-04-04T07:31:41.759Z"
   },
   {
    "duration": 12,
    "start_time": "2022-04-04T07:31:48.735Z"
   },
   {
    "duration": 15,
    "start_time": "2022-04-04T07:32:09.287Z"
   },
   {
    "duration": 7,
    "start_time": "2022-04-04T07:33:16.094Z"
   },
   {
    "duration": 19,
    "start_time": "2022-04-04T07:35:54.631Z"
   },
   {
    "duration": 1059,
    "start_time": "2022-04-04T07:36:04.669Z"
   },
   {
    "duration": 111,
    "start_time": "2022-04-04T07:36:14.854Z"
   },
   {
    "duration": 991,
    "start_time": "2022-04-04T07:36:38.975Z"
   },
   {
    "duration": 114,
    "start_time": "2022-04-04T07:40:08.307Z"
   },
   {
    "duration": 14,
    "start_time": "2022-04-04T07:40:53.868Z"
   },
   {
    "duration": 20,
    "start_time": "2022-04-04T07:50:13.525Z"
   },
   {
    "duration": 14,
    "start_time": "2022-04-04T07:51:22.796Z"
   },
   {
    "duration": 13,
    "start_time": "2022-04-04T07:53:31.172Z"
   },
   {
    "duration": 12,
    "start_time": "2022-04-04T07:53:41.860Z"
   },
   {
    "duration": 15,
    "start_time": "2022-04-04T07:54:19.682Z"
   },
   {
    "duration": 11,
    "start_time": "2022-04-04T07:55:34.914Z"
   },
   {
    "duration": 11,
    "start_time": "2022-04-04T07:55:44.491Z"
   },
   {
    "duration": 15,
    "start_time": "2022-04-04T07:58:53.568Z"
   },
   {
    "duration": 10,
    "start_time": "2022-04-04T07:59:04.009Z"
   },
   {
    "duration": 123,
    "start_time": "2022-04-04T08:01:21.855Z"
   },
   {
    "duration": 119,
    "start_time": "2022-04-04T08:01:26.601Z"
   },
   {
    "duration": 117,
    "start_time": "2022-04-04T08:01:29.655Z"
   },
   {
    "duration": 11,
    "start_time": "2022-04-04T08:01:35.999Z"
   },
   {
    "duration": 10,
    "start_time": "2022-04-04T08:01:44.623Z"
   },
   {
    "duration": 879,
    "start_time": "2022-04-04T08:03:03.974Z"
   },
   {
    "duration": 995,
    "start_time": "2022-04-04T08:03:15.819Z"
   },
   {
    "duration": 13,
    "start_time": "2022-04-04T08:03:23.489Z"
   },
   {
    "duration": 15,
    "start_time": "2022-04-04T08:03:27.599Z"
   },
   {
    "duration": 15,
    "start_time": "2022-04-04T08:03:32.383Z"
   },
   {
    "duration": 9,
    "start_time": "2022-04-04T08:03:54.382Z"
   },
   {
    "duration": 10,
    "start_time": "2022-04-04T08:04:42.926Z"
   },
   {
    "duration": 9,
    "start_time": "2022-04-04T08:04:46.606Z"
   },
   {
    "duration": 6,
    "start_time": "2022-04-04T08:07:41.342Z"
   },
   {
    "duration": 7,
    "start_time": "2022-04-04T08:09:08.445Z"
   },
   {
    "duration": 2433,
    "start_time": "2022-04-04T10:17:09.633Z"
   },
   {
    "duration": 2604,
    "start_time": "2022-04-04T10:17:12.069Z"
   },
   {
    "duration": 1276,
    "start_time": "2022-04-04T10:17:14.676Z"
   },
   {
    "duration": 38,
    "start_time": "2022-04-04T10:17:15.954Z"
   },
   {
    "duration": 28,
    "start_time": "2022-04-04T10:17:15.995Z"
   },
   {
    "duration": 20,
    "start_time": "2022-04-04T10:17:16.025Z"
   },
   {
    "duration": 48,
    "start_time": "2022-04-04T10:17:16.049Z"
   },
   {
    "duration": 10,
    "start_time": "2022-04-04T10:17:16.100Z"
   },
   {
    "duration": 33,
    "start_time": "2022-04-04T10:39:41.271Z"
   },
   {
    "duration": 42,
    "start_time": "2022-04-04T10:40:20.653Z"
   },
   {
    "duration": 42,
    "start_time": "2022-04-04T10:40:59.724Z"
   },
   {
    "duration": 44,
    "start_time": "2022-04-04T10:41:13.252Z"
   },
   {
    "duration": 43,
    "start_time": "2022-04-04T10:41:20.900Z"
   },
   {
    "duration": 3589,
    "start_time": "2022-04-04T10:50:31.606Z"
   },
   {
    "duration": 23,
    "start_time": "2022-04-04T10:50:47.030Z"
   },
   {
    "duration": 38,
    "start_time": "2022-04-04T10:51:09.030Z"
   },
   {
    "duration": 119,
    "start_time": "2022-04-04T10:51:15.688Z"
   },
   {
    "duration": 33,
    "start_time": "2022-04-04T10:51:43.382Z"
   },
   {
    "duration": 28,
    "start_time": "2022-04-04T10:55:29.029Z"
   },
   {
    "duration": 200,
    "start_time": "2022-04-04T10:55:55.156Z"
   },
   {
    "duration": 39,
    "start_time": "2022-04-04T10:56:58.260Z"
   },
   {
    "duration": 26,
    "start_time": "2022-04-04T10:57:19.876Z"
   },
   {
    "duration": 29,
    "start_time": "2022-04-04T10:57:25.499Z"
   },
   {
    "duration": 26,
    "start_time": "2022-04-04T10:57:30.531Z"
   },
   {
    "duration": 110,
    "start_time": "2022-04-04T11:01:48.609Z"
   },
   {
    "duration": 44,
    "start_time": "2022-04-04T11:02:06.745Z"
   },
   {
    "duration": 73,
    "start_time": "2022-04-04T11:02:12.946Z"
   },
   {
    "duration": 99,
    "start_time": "2022-04-04T11:03:09.689Z"
   },
   {
    "duration": 182,
    "start_time": "2022-04-04T11:03:45.961Z"
   },
   {
    "duration": 50,
    "start_time": "2022-04-04T11:04:07.472Z"
   },
   {
    "duration": 104,
    "start_time": "2022-04-04T11:04:15.680Z"
   },
   {
    "duration": 155,
    "start_time": "2022-04-04T11:12:02.990Z"
   },
   {
    "duration": 74,
    "start_time": "2022-04-04T11:13:41.543Z"
   },
   {
    "duration": 75,
    "start_time": "2022-04-04T11:13:52.213Z"
   },
   {
    "duration": 76,
    "start_time": "2022-04-04T11:13:57.141Z"
   },
   {
    "duration": 153,
    "start_time": "2022-04-04T11:14:45.821Z"
   },
   {
    "duration": 70,
    "start_time": "2022-04-04T11:15:53.172Z"
   },
   {
    "duration": 81,
    "start_time": "2022-04-04T11:15:57.979Z"
   },
   {
    "duration": 738,
    "start_time": "2022-04-04T11:16:41.262Z"
   },
   {
    "duration": 84,
    "start_time": "2022-04-04T11:16:53.451Z"
   },
   {
    "duration": 170,
    "start_time": "2022-04-04T11:19:04.667Z"
   },
   {
    "duration": 75,
    "start_time": "2022-04-04T11:19:17.398Z"
   },
   {
    "duration": 80,
    "start_time": "2022-04-04T11:20:05.458Z"
   },
   {
    "duration": 157,
    "start_time": "2022-04-04T11:20:23.026Z"
   },
   {
    "duration": 82,
    "start_time": "2022-04-04T11:20:31.346Z"
   },
   {
    "duration": 103,
    "start_time": "2022-04-04T11:20:46.362Z"
   },
   {
    "duration": 79,
    "start_time": "2022-04-04T11:20:51.818Z"
   },
   {
    "duration": 164,
    "start_time": "2022-04-04T11:22:02.937Z"
   },
   {
    "duration": 582,
    "start_time": "2022-04-04T11:23:23.273Z"
   },
   {
    "duration": 90,
    "start_time": "2022-04-04T11:30:33.966Z"
   },
   {
    "duration": 3006,
    "start_time": "2022-04-04T11:31:39.445Z"
   },
   {
    "duration": 94,
    "start_time": "2022-04-04T11:31:46.548Z"
   },
   {
    "duration": 176,
    "start_time": "2022-04-04T11:31:59.429Z"
   },
   {
    "duration": 88,
    "start_time": "2022-04-04T11:32:20.902Z"
   },
   {
    "duration": 90,
    "start_time": "2022-04-04T11:32:32.339Z"
   },
   {
    "duration": 98,
    "start_time": "2022-04-04T11:32:41.660Z"
   },
   {
    "duration": 182,
    "start_time": "2022-04-04T11:32:45.692Z"
   },
   {
    "duration": 7,
    "start_time": "2022-04-04T11:32:48.612Z"
   },
   {
    "duration": 900,
    "start_time": "2022-04-04T11:32:48.622Z"
   },
   {
    "duration": 1121,
    "start_time": "2022-04-04T11:32:49.525Z"
   },
   {
    "duration": 45,
    "start_time": "2022-04-04T11:32:50.650Z"
   },
   {
    "duration": 17,
    "start_time": "2022-04-04T11:32:50.699Z"
   },
   {
    "duration": 25,
    "start_time": "2022-04-04T11:32:50.718Z"
   },
   {
    "duration": 52,
    "start_time": "2022-04-04T11:32:50.745Z"
   },
   {
    "duration": 12,
    "start_time": "2022-04-04T11:32:50.800Z"
   },
   {
    "duration": 268,
    "start_time": "2022-04-04T11:32:57.941Z"
   },
   {
    "duration": 330,
    "start_time": "2022-04-04T11:34:00.397Z"
   },
   {
    "duration": 327,
    "start_time": "2022-04-04T11:34:04.294Z"
   },
   {
    "duration": 254,
    "start_time": "2022-04-04T11:34:12.796Z"
   },
   {
    "duration": 73,
    "start_time": "2022-04-04T11:34:19.435Z"
   },
   {
    "duration": 340,
    "start_time": "2022-04-04T11:34:27.212Z"
   },
   {
    "duration": 338,
    "start_time": "2022-04-04T11:34:41.428Z"
   },
   {
    "duration": 25,
    "start_time": "2022-04-04T11:35:30.851Z"
   },
   {
    "duration": 100,
    "start_time": "2022-04-04T11:35:52.171Z"
   },
   {
    "duration": 91,
    "start_time": "2022-04-04T11:35:58.100Z"
   },
   {
    "duration": 7,
    "start_time": "2022-04-04T11:36:17.550Z"
   },
   {
    "duration": 9394,
    "start_time": "2022-04-04T11:36:17.559Z"
   },
   {
    "duration": 3537,
    "start_time": "2022-04-04T11:36:26.955Z"
   },
   {
    "duration": 14,
    "start_time": "2022-04-04T11:36:30.495Z"
   },
   {
    "duration": 45,
    "start_time": "2022-04-04T11:36:30.512Z"
   },
   {
    "duration": 72,
    "start_time": "2022-04-04T11:36:30.559Z"
   },
   {
    "duration": 56,
    "start_time": "2022-04-04T11:36:30.633Z"
   },
   {
    "duration": 42,
    "start_time": "2022-04-04T11:36:30.692Z"
   },
   {
    "duration": 76,
    "start_time": "2022-04-04T11:36:40.123Z"
   },
   {
    "duration": 81,
    "start_time": "2022-04-04T11:37:24.419Z"
   },
   {
    "duration": 101,
    "start_time": "2022-04-04T11:37:30.411Z"
   },
   {
    "duration": 70,
    "start_time": "2022-04-04T11:37:57.201Z"
   },
   {
    "duration": 25,
    "start_time": "2022-04-04T11:39:15.602Z"
   },
   {
    "duration": 274,
    "start_time": "2022-04-04T11:39:20.371Z"
   },
   {
    "duration": 262,
    "start_time": "2022-04-04T11:39:26.198Z"
   },
   {
    "duration": 176,
    "start_time": "2022-04-04T11:39:33.699Z"
   },
   {
    "duration": 149,
    "start_time": "2022-04-04T11:39:44.987Z"
   },
   {
    "duration": 7,
    "start_time": "2022-04-04T11:40:15.113Z"
   },
   {
    "duration": 784,
    "start_time": "2022-04-04T11:40:15.123Z"
   },
   {
    "duration": 1103,
    "start_time": "2022-04-04T11:40:15.909Z"
   },
   {
    "duration": 18,
    "start_time": "2022-04-04T11:40:17.015Z"
   },
   {
    "duration": 60,
    "start_time": "2022-04-04T11:40:17.038Z"
   },
   {
    "duration": 29,
    "start_time": "2022-04-04T11:40:17.101Z"
   },
   {
    "duration": 22,
    "start_time": "2022-04-04T11:40:17.132Z"
   },
   {
    "duration": 31,
    "start_time": "2022-04-04T11:40:17.157Z"
   },
   {
    "duration": 52,
    "start_time": "2022-04-04T11:40:20.835Z"
   },
   {
    "duration": 75,
    "start_time": "2022-04-04T11:40:33.099Z"
   },
   {
    "duration": 69,
    "start_time": "2022-04-04T11:40:43.331Z"
   },
   {
    "duration": 157,
    "start_time": "2022-04-04T11:41:20.819Z"
   },
   {
    "duration": 80,
    "start_time": "2022-04-04T11:41:57.267Z"
   },
   {
    "duration": 63,
    "start_time": "2022-04-04T11:42:15.699Z"
   },
   {
    "duration": 3,
    "start_time": "2022-04-04T11:42:23.323Z"
   },
   {
    "duration": 77,
    "start_time": "2022-04-04T11:43:20.396Z"
   },
   {
    "duration": 7,
    "start_time": "2022-04-04T11:43:24.060Z"
   },
   {
    "duration": 805,
    "start_time": "2022-04-04T11:43:24.070Z"
   },
   {
    "duration": 1134,
    "start_time": "2022-04-04T11:43:24.878Z"
   },
   {
    "duration": 14,
    "start_time": "2022-04-04T11:43:26.014Z"
   },
   {
    "duration": 42,
    "start_time": "2022-04-04T11:43:26.031Z"
   },
   {
    "duration": 27,
    "start_time": "2022-04-04T11:43:26.084Z"
   },
   {
    "duration": 52,
    "start_time": "2022-04-04T11:43:26.114Z"
   },
   {
    "duration": 54,
    "start_time": "2022-04-04T11:43:26.168Z"
   },
   {
    "duration": 36,
    "start_time": "2022-04-04T11:43:26.224Z"
   },
   {
    "duration": 64,
    "start_time": "2022-04-04T11:43:28.251Z"
   },
   {
    "duration": 158,
    "start_time": "2022-04-04T11:43:43.227Z"
   },
   {
    "duration": 7,
    "start_time": "2022-04-04T11:43:46.121Z"
   },
   {
    "duration": 841,
    "start_time": "2022-04-04T11:43:46.131Z"
   },
   {
    "duration": 1094,
    "start_time": "2022-04-04T11:43:46.975Z"
   },
   {
    "duration": 28,
    "start_time": "2022-04-04T11:43:48.072Z"
   },
   {
    "duration": 15,
    "start_time": "2022-04-04T11:43:48.102Z"
   },
   {
    "duration": 17,
    "start_time": "2022-04-04T11:43:48.119Z"
   },
   {
    "duration": 55,
    "start_time": "2022-04-04T11:43:48.138Z"
   },
   {
    "duration": 10,
    "start_time": "2022-04-04T11:43:48.196Z"
   },
   {
    "duration": 17,
    "start_time": "2022-04-04T11:43:48.208Z"
   },
   {
    "duration": 61,
    "start_time": "2022-04-04T11:43:49.797Z"
   },
   {
    "duration": 70,
    "start_time": "2022-04-04T11:44:39.332Z"
   },
   {
    "duration": 50,
    "start_time": "2022-04-04T11:45:12.955Z"
   },
   {
    "duration": 82,
    "start_time": "2022-04-04T11:45:30.219Z"
   },
   {
    "duration": 8,
    "start_time": "2022-04-04T11:45:35.105Z"
   },
   {
    "duration": 841,
    "start_time": "2022-04-04T11:45:35.117Z"
   },
   {
    "duration": 1288,
    "start_time": "2022-04-04T11:45:35.960Z"
   },
   {
    "duration": 42,
    "start_time": "2022-04-04T11:45:37.251Z"
   },
   {
    "duration": 20,
    "start_time": "2022-04-04T11:45:37.297Z"
   },
   {
    "duration": 15,
    "start_time": "2022-04-04T11:45:37.319Z"
   },
   {
    "duration": 61,
    "start_time": "2022-04-04T11:45:37.336Z"
   },
   {
    "duration": 8,
    "start_time": "2022-04-04T11:45:37.403Z"
   },
   {
    "duration": 5,
    "start_time": "2022-04-04T11:45:37.413Z"
   },
   {
    "duration": 63,
    "start_time": "2022-04-04T11:45:39.315Z"
   },
   {
    "duration": 73,
    "start_time": "2022-04-04T11:45:56.893Z"
   },
   {
    "duration": 8,
    "start_time": "2022-04-04T11:46:00.407Z"
   },
   {
    "duration": 879,
    "start_time": "2022-04-04T11:46:00.417Z"
   },
   {
    "duration": 1105,
    "start_time": "2022-04-04T11:46:01.299Z"
   },
   {
    "duration": 14,
    "start_time": "2022-04-04T11:46:02.407Z"
   },
   {
    "duration": 30,
    "start_time": "2022-04-04T11:46:02.423Z"
   },
   {
    "duration": 54,
    "start_time": "2022-04-04T11:46:02.455Z"
   },
   {
    "duration": 121,
    "start_time": "2022-04-04T11:46:02.511Z"
   },
   {
    "duration": 46,
    "start_time": "2022-04-04T11:46:02.635Z"
   },
   {
    "duration": 21,
    "start_time": "2022-04-04T11:46:02.684Z"
   },
   {
    "duration": 66,
    "start_time": "2022-04-04T11:46:04.643Z"
   },
   {
    "duration": 7,
    "start_time": "2022-04-04T11:49:03.217Z"
   },
   {
    "duration": 854,
    "start_time": "2022-04-04T11:49:03.226Z"
   },
   {
    "duration": 1135,
    "start_time": "2022-04-04T11:49:04.084Z"
   },
   {
    "duration": 14,
    "start_time": "2022-04-04T11:49:05.222Z"
   },
   {
    "duration": 53,
    "start_time": "2022-04-04T11:49:05.239Z"
   },
   {
    "duration": 22,
    "start_time": "2022-04-04T11:49:05.295Z"
   },
   {
    "duration": 19,
    "start_time": "2022-04-04T11:49:05.319Z"
   },
   {
    "duration": 19,
    "start_time": "2022-04-04T11:49:05.341Z"
   },
   {
    "duration": 37,
    "start_time": "2022-04-04T11:49:05.363Z"
   },
   {
    "duration": 57,
    "start_time": "2022-04-04T11:49:06.875Z"
   },
   {
    "duration": 52,
    "start_time": "2022-04-04T11:49:10.067Z"
   },
   {
    "duration": 96,
    "start_time": "2022-04-04T11:49:31.918Z"
   },
   {
    "duration": 194,
    "start_time": "2022-04-04T11:49:40.571Z"
   },
   {
    "duration": 44,
    "start_time": "2022-04-04T11:49:53.139Z"
   },
   {
    "duration": 14,
    "start_time": "2022-04-04T11:50:19.199Z"
   },
   {
    "duration": 42,
    "start_time": "2022-04-04T11:50:26.162Z"
   },
   {
    "duration": 34,
    "start_time": "2022-04-04T11:50:42.610Z"
   },
   {
    "duration": 6,
    "start_time": "2022-04-04T11:51:04.443Z"
   },
   {
    "duration": 35,
    "start_time": "2022-04-04T11:51:07.954Z"
   },
   {
    "duration": 2690,
    "start_time": "2022-04-04T11:51:34.948Z"
   },
   {
    "duration": 6,
    "start_time": "2022-04-04T11:52:05.103Z"
   },
   {
    "duration": 874,
    "start_time": "2022-04-04T11:52:05.113Z"
   },
   {
    "duration": 1165,
    "start_time": "2022-04-04T11:52:05.991Z"
   },
   {
    "duration": 42,
    "start_time": "2022-04-04T11:52:07.158Z"
   },
   {
    "duration": 40,
    "start_time": "2022-04-04T11:52:07.203Z"
   },
   {
    "duration": 54,
    "start_time": "2022-04-04T11:52:07.245Z"
   },
   {
    "duration": 28,
    "start_time": "2022-04-04T11:52:07.302Z"
   },
   {
    "duration": 25,
    "start_time": "2022-04-04T11:52:07.332Z"
   },
   {
    "duration": 22,
    "start_time": "2022-04-04T11:52:07.359Z"
   },
   {
    "duration": 54,
    "start_time": "2022-04-04T11:52:10.642Z"
   },
   {
    "duration": 36,
    "start_time": "2022-04-04T11:52:31.554Z"
   },
   {
    "duration": 87,
    "start_time": "2022-04-04T11:52:57.042Z"
   },
   {
    "duration": 74,
    "start_time": "2022-04-04T11:53:06.218Z"
   },
   {
    "duration": 153,
    "start_time": "2022-04-04T11:54:43.114Z"
   },
   {
    "duration": 77,
    "start_time": "2022-04-04T11:54:59.033Z"
   },
   {
    "duration": 80,
    "start_time": "2022-04-04T11:55:02.834Z"
   },
   {
    "duration": 7,
    "start_time": "2022-04-04T11:55:09.118Z"
   },
   {
    "duration": 852,
    "start_time": "2022-04-04T11:55:09.128Z"
   },
   {
    "duration": 1061,
    "start_time": "2022-04-04T11:55:09.987Z"
   },
   {
    "duration": 40,
    "start_time": "2022-04-04T11:55:11.051Z"
   },
   {
    "duration": 26,
    "start_time": "2022-04-04T11:55:11.094Z"
   },
   {
    "duration": 23,
    "start_time": "2022-04-04T11:55:11.123Z"
   },
   {
    "duration": 48,
    "start_time": "2022-04-04T11:55:11.148Z"
   },
   {
    "duration": 9,
    "start_time": "2022-04-04T11:55:11.199Z"
   },
   {
    "duration": 4,
    "start_time": "2022-04-04T11:55:11.211Z"
   },
   {
    "duration": 61,
    "start_time": "2022-04-04T11:55:12.977Z"
   },
   {
    "duration": 128,
    "start_time": "2022-04-04T11:59:39.919Z"
   },
   {
    "duration": 2596,
    "start_time": "2022-04-04T11:59:52.844Z"
   },
   {
    "duration": 6,
    "start_time": "2022-04-04T12:00:15.541Z"
   },
   {
    "duration": 728,
    "start_time": "2022-04-04T12:00:15.549Z"
   },
   {
    "duration": 1034,
    "start_time": "2022-04-04T12:00:16.279Z"
   },
   {
    "duration": 14,
    "start_time": "2022-04-04T12:00:17.316Z"
   },
   {
    "duration": 54,
    "start_time": "2022-04-04T12:00:17.332Z"
   },
   {
    "duration": 19,
    "start_time": "2022-04-04T12:00:17.388Z"
   },
   {
    "duration": 13,
    "start_time": "2022-04-04T12:00:17.409Z"
   },
   {
    "duration": 10,
    "start_time": "2022-04-04T12:00:17.424Z"
   },
   {
    "duration": 3,
    "start_time": "2022-04-04T12:00:17.437Z"
   },
   {
    "duration": 60,
    "start_time": "2022-04-04T12:00:21.109Z"
   },
   {
    "duration": 2970,
    "start_time": "2022-04-04T12:01:01.452Z"
   },
   {
    "duration": 6,
    "start_time": "2022-04-04T12:01:16.636Z"
   },
   {
    "duration": 826,
    "start_time": "2022-04-04T12:01:16.644Z"
   },
   {
    "duration": 1053,
    "start_time": "2022-04-04T12:01:17.472Z"
   },
   {
    "duration": 12,
    "start_time": "2022-04-04T12:01:18.529Z"
   },
   {
    "duration": 56,
    "start_time": "2022-04-04T12:01:18.544Z"
   },
   {
    "duration": 39,
    "start_time": "2022-04-04T12:01:18.602Z"
   },
   {
    "duration": 34,
    "start_time": "2022-04-04T12:01:18.644Z"
   },
   {
    "duration": 34,
    "start_time": "2022-04-04T12:01:18.681Z"
   },
   {
    "duration": 21,
    "start_time": "2022-04-04T12:01:18.718Z"
   },
   {
    "duration": 31,
    "start_time": "2022-04-04T12:01:20.763Z"
   },
   {
    "duration": 81,
    "start_time": "2022-04-04T12:01:38.418Z"
   },
   {
    "duration": 13,
    "start_time": "2022-04-04T12:04:49.113Z"
   },
   {
    "duration": 15,
    "start_time": "2022-04-04T12:05:11.543Z"
   },
   {
    "duration": 135,
    "start_time": "2022-04-04T12:05:24.567Z"
   },
   {
    "duration": 83,
    "start_time": "2022-04-04T12:07:25.261Z"
   },
   {
    "duration": 122,
    "start_time": "2022-04-04T12:08:06.629Z"
   },
   {
    "duration": 77,
    "start_time": "2022-04-04T12:08:19.893Z"
   },
   {
    "duration": 165,
    "start_time": "2022-04-04T12:10:56.146Z"
   },
   {
    "duration": 96,
    "start_time": "2022-04-04T12:11:05.618Z"
   },
   {
    "duration": 83,
    "start_time": "2022-04-04T12:11:12.532Z"
   },
   {
    "duration": 47,
    "start_time": "2022-04-04T12:12:43.629Z"
   },
   {
    "duration": 2317,
    "start_time": "2022-04-04T12:12:49.657Z"
   },
   {
    "duration": 2625,
    "start_time": "2022-04-04T12:13:18.018Z"
   },
   {
    "duration": 7,
    "start_time": "2022-04-04T12:13:43.769Z"
   },
   {
    "duration": 792,
    "start_time": "2022-04-04T12:13:43.779Z"
   },
   {
    "duration": 1125,
    "start_time": "2022-04-04T12:13:44.573Z"
   },
   {
    "duration": 13,
    "start_time": "2022-04-04T12:13:45.701Z"
   },
   {
    "duration": 15,
    "start_time": "2022-04-04T12:13:45.717Z"
   },
   {
    "duration": 56,
    "start_time": "2022-04-04T12:13:45.735Z"
   },
   {
    "duration": 11,
    "start_time": "2022-04-04T12:13:45.793Z"
   },
   {
    "duration": 7,
    "start_time": "2022-04-04T12:13:45.806Z"
   },
   {
    "duration": 6,
    "start_time": "2022-04-04T12:13:45.815Z"
   },
   {
    "duration": 13,
    "start_time": "2022-04-04T12:13:50.016Z"
   },
   {
    "duration": 9,
    "start_time": "2022-04-04T12:14:38.212Z"
   },
   {
    "duration": 754,
    "start_time": "2022-04-04T12:14:38.224Z"
   },
   {
    "duration": 1042,
    "start_time": "2022-04-04T12:14:38.981Z"
   },
   {
    "duration": 13,
    "start_time": "2022-04-04T12:14:40.026Z"
   },
   {
    "duration": 50,
    "start_time": "2022-04-04T12:14:40.042Z"
   },
   {
    "duration": 31,
    "start_time": "2022-04-04T12:14:40.094Z"
   },
   {
    "duration": 23,
    "start_time": "2022-04-04T12:14:40.128Z"
   },
   {
    "duration": 8,
    "start_time": "2022-04-04T12:14:40.186Z"
   },
   {
    "duration": 30,
    "start_time": "2022-04-04T12:14:43.327Z"
   },
   {
    "duration": 61,
    "start_time": "2022-04-04T12:14:46.623Z"
   },
   {
    "duration": 120,
    "start_time": "2022-04-04T12:14:57.167Z"
   },
   {
    "duration": 3,
    "start_time": "2022-04-04T12:15:14.306Z"
   },
   {
    "duration": 31,
    "start_time": "2022-04-04T12:16:03.478Z"
   },
   {
    "duration": 32,
    "start_time": "2022-04-04T12:16:12.367Z"
   },
   {
    "duration": 2203,
    "start_time": "2022-04-05T05:22:55.041Z"
   },
   {
    "duration": 808,
    "start_time": "2022-04-05T05:22:57.247Z"
   },
   {
    "duration": 1029,
    "start_time": "2022-04-05T05:22:58.057Z"
   },
   {
    "duration": 14,
    "start_time": "2022-04-05T05:22:59.089Z"
   },
   {
    "duration": 16,
    "start_time": "2022-04-05T05:22:59.105Z"
   },
   {
    "duration": 20,
    "start_time": "2022-04-05T05:22:59.123Z"
   },
   {
    "duration": 43,
    "start_time": "2022-04-05T05:22:59.145Z"
   },
   {
    "duration": 7,
    "start_time": "2022-04-05T05:22:59.191Z"
   },
   {
    "duration": 37,
    "start_time": "2022-04-05T05:22:59.201Z"
   },
   {
    "duration": 5,
    "start_time": "2022-04-05T05:22:59.242Z"
   },
   {
    "duration": 34,
    "start_time": "2022-04-05T05:22:59.284Z"
   },
   {
    "duration": 3,
    "start_time": "2022-04-05T05:23:21.092Z"
   },
   {
    "duration": 200,
    "start_time": "2022-04-05T05:23:46.859Z"
   },
   {
    "duration": 6,
    "start_time": "2022-04-05T05:25:46.027Z"
   },
   {
    "duration": 19,
    "start_time": "2022-04-05T05:26:46.138Z"
   },
   {
    "duration": 60,
    "start_time": "2022-04-05T05:27:17.393Z"
   },
   {
    "duration": 7,
    "start_time": "2022-04-05T05:27:53.121Z"
   },
   {
    "duration": 51,
    "start_time": "2022-04-05T05:28:09.906Z"
   },
   {
    "duration": 1358,
    "start_time": "2022-04-05T05:29:34.923Z"
   },
   {
    "duration": 34,
    "start_time": "2022-04-05T05:30:13.583Z"
   },
   {
    "duration": 4,
    "start_time": "2022-04-05T05:30:25.681Z"
   },
   {
    "duration": 141,
    "start_time": "2022-04-05T05:31:18.672Z"
   },
   {
    "duration": 60,
    "start_time": "2022-04-05T05:31:21.432Z"
   },
   {
    "duration": 41,
    "start_time": "2022-04-05T05:32:34.352Z"
   },
   {
    "duration": 1082,
    "start_time": "2022-04-05T05:34:24.520Z"
   },
   {
    "duration": 1863,
    "start_time": "2022-04-05T05:34:53.399Z"
   },
   {
    "duration": 331,
    "start_time": "2022-04-05T05:35:46.895Z"
   },
   {
    "duration": 330,
    "start_time": "2022-04-05T05:37:14.959Z"
   },
   {
    "duration": 11,
    "start_time": "2022-04-05T05:37:20.527Z"
   },
   {
    "duration": 2216,
    "start_time": "2022-04-05T05:37:51.622Z"
   },
   {
    "duration": 134,
    "start_time": "2022-04-05T05:38:10.031Z"
   },
   {
    "duration": 23,
    "start_time": "2022-04-05T05:38:54.679Z"
   },
   {
    "duration": 2132,
    "start_time": "2022-04-05T05:42:47.251Z"
   },
   {
    "duration": 1987,
    "start_time": "2022-04-05T05:42:56.528Z"
   },
   {
    "duration": 862,
    "start_time": "2022-04-05T05:42:58.518Z"
   },
   {
    "duration": 1048,
    "start_time": "2022-04-05T05:42:59.384Z"
   },
   {
    "duration": 14,
    "start_time": "2022-04-05T05:43:00.435Z"
   },
   {
    "duration": 42,
    "start_time": "2022-04-05T05:43:00.451Z"
   },
   {
    "duration": 33,
    "start_time": "2022-04-05T05:43:00.495Z"
   },
   {
    "duration": 31,
    "start_time": "2022-04-05T05:43:00.530Z"
   },
   {
    "duration": 9,
    "start_time": "2022-04-05T05:43:00.563Z"
   },
   {
    "duration": 32,
    "start_time": "2022-04-05T05:43:00.574Z"
   },
   {
    "duration": 13,
    "start_time": "2022-04-05T05:43:00.609Z"
   },
   {
    "duration": 14,
    "start_time": "2022-04-05T05:43:00.624Z"
   },
   {
    "duration": 46,
    "start_time": "2022-04-05T05:43:00.640Z"
   },
   {
    "duration": 25,
    "start_time": "2022-04-05T05:43:33.643Z"
   },
   {
    "duration": 11,
    "start_time": "2022-04-05T05:44:06.242Z"
   },
   {
    "duration": 159,
    "start_time": "2022-04-05T05:45:51.265Z"
   },
   {
    "duration": 6,
    "start_time": "2022-04-05T05:47:03.904Z"
   },
   {
    "duration": 16,
    "start_time": "2022-04-05T05:48:08.712Z"
   },
   {
    "duration": 15,
    "start_time": "2022-04-05T05:48:13.622Z"
   },
   {
    "duration": 15,
    "start_time": "2022-04-05T05:48:33.167Z"
   },
   {
    "duration": 14,
    "start_time": "2022-04-05T05:49:29.935Z"
   },
   {
    "duration": 10,
    "start_time": "2022-04-05T05:50:46.374Z"
   },
   {
    "duration": 12,
    "start_time": "2022-04-05T05:51:15.269Z"
   },
   {
    "duration": 11,
    "start_time": "2022-04-05T05:51:44.653Z"
   },
   {
    "duration": 27,
    "start_time": "2022-04-05T05:52:21.285Z"
   },
   {
    "duration": 9,
    "start_time": "2022-04-05T05:52:28.829Z"
   },
   {
    "duration": 12,
    "start_time": "2022-04-05T05:53:16.277Z"
   },
   {
    "duration": 8,
    "start_time": "2022-04-05T05:53:20.636Z"
   },
   {
    "duration": 11,
    "start_time": "2022-04-05T05:54:01.980Z"
   },
   {
    "duration": 12,
    "start_time": "2022-04-05T06:17:03.098Z"
   },
   {
    "duration": 12,
    "start_time": "2022-04-05T06:17:10.642Z"
   },
   {
    "duration": 12,
    "start_time": "2022-04-05T06:17:21.633Z"
   },
   {
    "duration": 12,
    "start_time": "2022-04-05T06:20:06.017Z"
   },
   {
    "duration": 7,
    "start_time": "2022-04-05T06:20:17.399Z"
   },
   {
    "duration": 12,
    "start_time": "2022-04-05T06:20:23.432Z"
   },
   {
    "duration": 11,
    "start_time": "2022-04-05T06:20:26.160Z"
   },
   {
    "duration": 12,
    "start_time": "2022-04-05T06:20:44.584Z"
   },
   {
    "duration": 6,
    "start_time": "2022-04-05T06:20:53.208Z"
   },
   {
    "duration": 7,
    "start_time": "2022-04-05T06:21:02.369Z"
   },
   {
    "duration": 13,
    "start_time": "2022-04-05T06:39:39.231Z"
   },
   {
    "duration": 8,
    "start_time": "2022-04-05T06:41:17.518Z"
   },
   {
    "duration": 7,
    "start_time": "2022-04-05T06:41:48.046Z"
   },
   {
    "duration": 2972,
    "start_time": "2022-04-05T07:01:30.212Z"
   },
   {
    "duration": 1328,
    "start_time": "2022-04-05T07:01:33.188Z"
   },
   {
    "duration": 1099,
    "start_time": "2022-04-05T07:01:34.518Z"
   },
   {
    "duration": 16,
    "start_time": "2022-04-05T07:01:35.620Z"
   },
   {
    "duration": 46,
    "start_time": "2022-04-05T07:01:35.640Z"
   },
   {
    "duration": 25,
    "start_time": "2022-04-05T07:01:35.689Z"
   },
   {
    "duration": 46,
    "start_time": "2022-04-05T07:01:35.717Z"
   },
   {
    "duration": 8,
    "start_time": "2022-04-05T07:01:35.765Z"
   },
   {
    "duration": 17,
    "start_time": "2022-04-05T07:01:35.776Z"
   },
   {
    "duration": 28,
    "start_time": "2022-04-05T07:01:35.796Z"
   },
   {
    "duration": 45,
    "start_time": "2022-04-05T07:01:35.826Z"
   },
   {
    "duration": 26,
    "start_time": "2022-04-05T07:01:35.873Z"
   },
   {
    "duration": 42,
    "start_time": "2022-04-05T07:01:35.901Z"
   },
   {
    "duration": 2283,
    "start_time": "2022-04-05T07:06:29.510Z"
   },
   {
    "duration": 846,
    "start_time": "2022-04-05T07:06:31.799Z"
   },
   {
    "duration": 1208,
    "start_time": "2022-04-05T07:06:32.648Z"
   },
   {
    "duration": 32,
    "start_time": "2022-04-05T07:06:33.858Z"
   },
   {
    "duration": 29,
    "start_time": "2022-04-05T07:06:33.895Z"
   },
   {
    "duration": 26,
    "start_time": "2022-04-05T07:06:33.927Z"
   },
   {
    "duration": 29,
    "start_time": "2022-04-05T07:06:33.956Z"
   },
   {
    "duration": 18,
    "start_time": "2022-04-05T07:06:33.988Z"
   },
   {
    "duration": 21,
    "start_time": "2022-04-05T07:06:34.009Z"
   },
   {
    "duration": 39,
    "start_time": "2022-04-05T07:06:34.033Z"
   },
   {
    "duration": 47,
    "start_time": "2022-04-05T07:06:34.075Z"
   },
   {
    "duration": 19,
    "start_time": "2022-04-05T07:06:34.125Z"
   },
   {
    "duration": 32,
    "start_time": "2022-04-05T07:06:34.147Z"
   },
   {
    "duration": 5,
    "start_time": "2022-04-05T07:07:33.107Z"
   },
   {
    "duration": 2475,
    "start_time": "2022-04-05T07:07:36.132Z"
   },
   {
    "duration": 10,
    "start_time": "2022-04-05T07:07:49.403Z"
   },
   {
    "duration": 811,
    "start_time": "2022-04-05T07:07:49.416Z"
   },
   {
    "duration": 1009,
    "start_time": "2022-04-05T07:07:50.229Z"
   },
   {
    "duration": 13,
    "start_time": "2022-04-05T07:07:51.240Z"
   },
   {
    "duration": 36,
    "start_time": "2022-04-05T07:07:51.256Z"
   },
   {
    "duration": 16,
    "start_time": "2022-04-05T07:07:51.294Z"
   },
   {
    "duration": 21,
    "start_time": "2022-04-05T07:07:51.313Z"
   },
   {
    "duration": 9,
    "start_time": "2022-04-05T07:07:51.336Z"
   },
   {
    "duration": 37,
    "start_time": "2022-04-05T07:07:51.347Z"
   },
   {
    "duration": 19,
    "start_time": "2022-04-05T07:07:53.180Z"
   },
   {
    "duration": 45,
    "start_time": "2022-04-05T07:08:08.507Z"
   },
   {
    "duration": 35,
    "start_time": "2022-04-05T07:15:32.256Z"
   },
   {
    "duration": 2401,
    "start_time": "2022-04-05T07:16:00.240Z"
   },
   {
    "duration": 7,
    "start_time": "2022-04-05T07:16:33.770Z"
   },
   {
    "duration": 754,
    "start_time": "2022-04-05T07:16:33.780Z"
   },
   {
    "duration": 1019,
    "start_time": "2022-04-05T07:16:34.537Z"
   },
   {
    "duration": 30,
    "start_time": "2022-04-05T07:16:35.558Z"
   },
   {
    "duration": 22,
    "start_time": "2022-04-05T07:16:35.591Z"
   },
   {
    "duration": 19,
    "start_time": "2022-04-05T07:16:35.615Z"
   },
   {
    "duration": 28,
    "start_time": "2022-04-05T07:16:35.636Z"
   },
   {
    "duration": 22,
    "start_time": "2022-04-05T07:16:35.666Z"
   },
   {
    "duration": 24,
    "start_time": "2022-04-05T07:16:35.692Z"
   },
   {
    "duration": 11,
    "start_time": "2022-04-05T07:16:59.118Z"
   },
   {
    "duration": 32,
    "start_time": "2022-04-05T07:17:23.533Z"
   },
   {
    "duration": 3,
    "start_time": "2022-04-05T07:17:28.662Z"
   },
   {
    "duration": 13,
    "start_time": "2022-04-05T07:19:43.861Z"
   },
   {
    "duration": 25,
    "start_time": "2022-04-05T07:19:53.093Z"
   },
   {
    "duration": 14,
    "start_time": "2022-04-05T07:21:09.877Z"
   },
   {
    "duration": 25,
    "start_time": "2022-04-05T07:21:19.989Z"
   },
   {
    "duration": 9,
    "start_time": "2022-04-05T07:21:48.548Z"
   },
   {
    "duration": 1404,
    "start_time": "2022-04-05T07:30:45.113Z"
   },
   {
    "duration": 18,
    "start_time": "2022-04-05T07:31:01.768Z"
   },
   {
    "duration": 8,
    "start_time": "2022-04-05T07:31:14.408Z"
   },
   {
    "duration": 10,
    "start_time": "2022-04-05T07:31:40.024Z"
   },
   {
    "duration": 27,
    "start_time": "2022-04-05T07:31:43.545Z"
   },
   {
    "duration": 10,
    "start_time": "2022-04-05T07:31:50.993Z"
   },
   {
    "duration": 17,
    "start_time": "2022-04-05T07:44:04.523Z"
   },
   {
    "duration": 49,
    "start_time": "2022-04-05T07:44:08.450Z"
   },
   {
    "duration": 29,
    "start_time": "2022-04-05T07:44:26.099Z"
   },
   {
    "duration": 47,
    "start_time": "2022-04-05T07:45:03.018Z"
   },
   {
    "duration": 42,
    "start_time": "2022-04-05T07:45:09.827Z"
   },
   {
    "duration": 28,
    "start_time": "2022-04-05T07:45:39.290Z"
   },
   {
    "duration": 12,
    "start_time": "2022-04-05T07:50:24.832Z"
   },
   {
    "duration": 13,
    "start_time": "2022-04-05T07:56:30.351Z"
   },
   {
    "duration": 10,
    "start_time": "2022-04-05T07:56:38.309Z"
   },
   {
    "duration": 21,
    "start_time": "2022-04-05T07:58:05.509Z"
   },
   {
    "duration": 23,
    "start_time": "2022-04-05T08:03:41.234Z"
   },
   {
    "duration": 13,
    "start_time": "2022-04-05T08:11:06.511Z"
   },
   {
    "duration": 14,
    "start_time": "2022-04-05T08:11:28.966Z"
   },
   {
    "duration": 13,
    "start_time": "2022-04-05T08:11:35.502Z"
   },
   {
    "duration": 16,
    "start_time": "2022-04-05T08:12:51.646Z"
   },
   {
    "duration": 12,
    "start_time": "2022-04-05T08:14:44.532Z"
   },
   {
    "duration": 12,
    "start_time": "2022-04-05T08:14:51.565Z"
   },
   {
    "duration": 259,
    "start_time": "2022-04-05T08:15:26.532Z"
   },
   {
    "duration": 311,
    "start_time": "2022-04-05T08:15:58.005Z"
   },
   {
    "duration": 302,
    "start_time": "2022-04-05T08:17:44.771Z"
   },
   {
    "duration": 8,
    "start_time": "2022-04-05T08:18:09.104Z"
   },
   {
    "duration": 9,
    "start_time": "2022-04-05T08:18:19.402Z"
   },
   {
    "duration": 7,
    "start_time": "2022-04-05T08:18:28.659Z"
   },
   {
    "duration": 9,
    "start_time": "2022-04-05T08:18:49.769Z"
   },
   {
    "duration": 7,
    "start_time": "2022-04-05T08:18:54.661Z"
   },
   {
    "duration": 11,
    "start_time": "2022-04-05T08:19:18.842Z"
   },
   {
    "duration": 12,
    "start_time": "2022-04-05T08:22:50.520Z"
   },
   {
    "duration": 11,
    "start_time": "2022-04-05T08:23:07.897Z"
   },
   {
    "duration": 12,
    "start_time": "2022-04-05T08:24:50.400Z"
   },
   {
    "duration": 8,
    "start_time": "2022-04-05T08:26:06.950Z"
   },
   {
    "duration": 7,
    "start_time": "2022-04-05T08:26:19.319Z"
   },
   {
    "duration": 2646,
    "start_time": "2022-04-05T08:27:10.111Z"
   },
   {
    "duration": 3455,
    "start_time": "2022-04-05T08:27:48.871Z"
   },
   {
    "duration": 7,
    "start_time": "2022-04-05T08:28:24.214Z"
   },
   {
    "duration": 2439,
    "start_time": "2022-04-05T08:32:02.764Z"
   },
   {
    "duration": 7,
    "start_time": "2022-04-05T08:32:14.005Z"
   },
   {
    "duration": 15,
    "start_time": "2022-04-05T08:43:00.398Z"
   },
   {
    "duration": 8,
    "start_time": "2022-04-05T08:43:12.574Z"
   },
   {
    "duration": 19,
    "start_time": "2022-04-05T08:46:32.334Z"
   },
   {
    "duration": 14,
    "start_time": "2022-04-05T08:46:35.686Z"
   },
   {
    "duration": 14,
    "start_time": "2022-04-05T08:46:38.254Z"
   },
   {
    "duration": 13,
    "start_time": "2022-04-05T08:46:44.446Z"
   },
   {
    "duration": 6,
    "start_time": "2022-04-05T08:46:56.317Z"
   },
   {
    "duration": 17,
    "start_time": "2022-04-05T08:47:05.399Z"
   },
   {
    "duration": 7,
    "start_time": "2022-04-05T08:47:08.918Z"
   },
   {
    "duration": 3110,
    "start_time": "2022-04-05T08:48:33.309Z"
   },
   {
    "duration": 15,
    "start_time": "2022-04-05T08:50:18.212Z"
   },
   {
    "duration": 7,
    "start_time": "2022-04-05T09:58:57.914Z"
   },
   {
    "duration": 856,
    "start_time": "2022-04-05T09:58:57.924Z"
   },
   {
    "duration": 1325,
    "start_time": "2022-04-05T09:58:58.783Z"
   },
   {
    "duration": 16,
    "start_time": "2022-04-05T09:59:00.111Z"
   },
   {
    "duration": 30,
    "start_time": "2022-04-05T09:59:00.131Z"
   },
   {
    "duration": 34,
    "start_time": "2022-04-05T09:59:00.164Z"
   },
   {
    "duration": 18,
    "start_time": "2022-04-05T09:59:00.201Z"
   },
   {
    "duration": 18,
    "start_time": "2022-04-05T09:59:00.221Z"
   },
   {
    "duration": 11,
    "start_time": "2022-04-05T09:59:00.241Z"
   },
   {
    "duration": 38,
    "start_time": "2022-04-05T09:59:00.254Z"
   },
   {
    "duration": 13,
    "start_time": "2022-04-05T09:59:00.294Z"
   },
   {
    "duration": 28,
    "start_time": "2022-04-05T09:59:00.310Z"
   },
   {
    "duration": 33,
    "start_time": "2022-04-05T09:59:00.342Z"
   },
   {
    "duration": 15,
    "start_time": "2022-04-05T09:59:34.481Z"
   },
   {
    "duration": 14,
    "start_time": "2022-04-05T09:59:54.530Z"
   },
   {
    "duration": 14,
    "start_time": "2022-04-05T10:01:03.408Z"
   },
   {
    "duration": 7,
    "start_time": "2022-04-05T10:11:10.261Z"
   },
   {
    "duration": 5,
    "start_time": "2022-04-05T10:11:34.381Z"
   },
   {
    "duration": 13,
    "start_time": "2022-04-05T10:32:53.355Z"
   },
   {
    "duration": 12,
    "start_time": "2022-04-05T10:33:10.506Z"
   },
   {
    "duration": 7,
    "start_time": "2022-04-05T10:33:24.762Z"
   },
   {
    "duration": 8,
    "start_time": "2022-04-05T10:33:40.753Z"
   },
   {
    "duration": 4,
    "start_time": "2022-04-05T10:36:12.185Z"
   },
   {
    "duration": 7,
    "start_time": "2022-04-05T10:36:17.656Z"
   },
   {
    "duration": 7,
    "start_time": "2022-04-05T10:36:29.025Z"
   },
   {
    "duration": 6,
    "start_time": "2022-04-05T10:40:55.446Z"
   },
   {
    "duration": 7,
    "start_time": "2022-04-05T10:41:37.101Z"
   },
   {
    "duration": 147,
    "start_time": "2022-04-05T10:43:51.221Z"
   },
   {
    "duration": 6,
    "start_time": "2022-04-05T10:45:16.734Z"
   },
   {
    "duration": 8,
    "start_time": "2022-04-05T10:46:41.757Z"
   },
   {
    "duration": 5,
    "start_time": "2022-04-05T10:47:11.596Z"
   },
   {
    "duration": 5,
    "start_time": "2022-04-05T10:47:22.113Z"
   },
   {
    "duration": 7,
    "start_time": "2022-04-05T10:48:51.674Z"
   },
   {
    "duration": 6,
    "start_time": "2022-04-05T10:49:01.299Z"
   },
   {
    "duration": 12,
    "start_time": "2022-04-05T10:53:15.161Z"
   },
   {
    "duration": 7,
    "start_time": "2022-04-05T10:53:35.680Z"
   },
   {
    "duration": 14,
    "start_time": "2022-04-05T10:53:55.153Z"
   },
   {
    "duration": 7,
    "start_time": "2022-04-05T10:54:05.592Z"
   },
   {
    "duration": 6,
    "start_time": "2022-04-05T10:54:08.912Z"
   },
   {
    "duration": 6,
    "start_time": "2022-04-05T10:56:11.520Z"
   },
   {
    "duration": 14,
    "start_time": "2022-04-05T10:57:45.518Z"
   },
   {
    "duration": 8,
    "start_time": "2022-04-05T10:58:01.527Z"
   },
   {
    "duration": 7,
    "start_time": "2022-04-05T10:58:17.943Z"
   },
   {
    "duration": 7,
    "start_time": "2022-04-05T10:59:18.837Z"
   },
   {
    "duration": 6,
    "start_time": "2022-04-05T11:01:34.109Z"
   },
   {
    "duration": 15,
    "start_time": "2022-04-05T11:07:06.321Z"
   },
   {
    "duration": 7,
    "start_time": "2022-04-05T11:07:30.105Z"
   },
   {
    "duration": 8,
    "start_time": "2022-04-05T11:08:12.809Z"
   },
   {
    "duration": 10,
    "start_time": "2022-04-05T11:08:19.050Z"
   },
   {
    "duration": 6,
    "start_time": "2022-04-05T11:09:04.665Z"
   },
   {
    "duration": 7,
    "start_time": "2022-04-05T11:12:13.537Z"
   },
   {
    "duration": 16,
    "start_time": "2022-04-05T11:15:48.599Z"
   },
   {
    "duration": 11,
    "start_time": "2022-04-05T11:16:11.478Z"
   },
   {
    "duration": 14,
    "start_time": "2022-04-05T11:16:52.751Z"
   },
   {
    "duration": 13,
    "start_time": "2022-04-05T11:19:24.621Z"
   },
   {
    "duration": 12,
    "start_time": "2022-04-05T11:19:32.005Z"
   },
   {
    "duration": 13,
    "start_time": "2022-04-05T11:20:31.581Z"
   },
   {
    "duration": 13,
    "start_time": "2022-04-05T11:20:57.812Z"
   },
   {
    "duration": 14,
    "start_time": "2022-04-05T11:27:43.273Z"
   },
   {
    "duration": 13,
    "start_time": "2022-04-05T11:28:11.770Z"
   },
   {
    "duration": 13,
    "start_time": "2022-04-05T11:28:36.825Z"
   },
   {
    "duration": 14,
    "start_time": "2022-04-05T11:28:53.728Z"
   },
   {
    "duration": 210,
    "start_time": "2022-04-05T11:28:59.865Z"
   },
   {
    "duration": 14,
    "start_time": "2022-04-05T11:33:29.273Z"
   },
   {
    "duration": 14,
    "start_time": "2022-04-05T11:35:57.526Z"
   },
   {
    "duration": 14,
    "start_time": "2022-04-05T11:36:09.038Z"
   },
   {
    "duration": 199,
    "start_time": "2022-04-05T11:36:11.702Z"
   },
   {
    "duration": 254,
    "start_time": "2022-04-05T11:36:38.277Z"
   },
   {
    "duration": 265,
    "start_time": "2022-04-05T11:36:52.158Z"
   },
   {
    "duration": 282,
    "start_time": "2022-04-05T11:37:49.190Z"
   },
   {
    "duration": 360,
    "start_time": "2022-04-05T11:39:21.857Z"
   },
   {
    "duration": 230,
    "start_time": "2022-04-05T11:39:30.334Z"
   },
   {
    "duration": 14,
    "start_time": "2022-04-05T11:40:01.227Z"
   },
   {
    "duration": 12,
    "start_time": "2022-04-05T11:40:43.620Z"
   },
   {
    "duration": 8,
    "start_time": "2022-04-05T11:40:49.964Z"
   },
   {
    "duration": 13,
    "start_time": "2022-04-05T11:40:54.395Z"
   },
   {
    "duration": 228,
    "start_time": "2022-04-05T11:40:56.195Z"
   },
   {
    "duration": 51,
    "start_time": "2022-04-05T15:21:05.436Z"
   },
   {
    "duration": 1724,
    "start_time": "2022-04-05T15:21:24.943Z"
   },
   {
    "duration": 805,
    "start_time": "2022-04-05T15:21:26.669Z"
   },
   {
    "duration": 773,
    "start_time": "2022-04-05T15:21:27.476Z"
   },
   {
    "duration": 12,
    "start_time": "2022-04-05T15:21:28.252Z"
   },
   {
    "duration": 12,
    "start_time": "2022-04-05T15:21:28.266Z"
   },
   {
    "duration": 15,
    "start_time": "2022-04-05T15:21:28.280Z"
   },
   {
    "duration": 37,
    "start_time": "2022-04-05T15:21:28.297Z"
   },
   {
    "duration": 5,
    "start_time": "2022-04-05T15:21:28.336Z"
   },
   {
    "duration": 9,
    "start_time": "2022-04-05T15:21:28.343Z"
   },
   {
    "duration": 19,
    "start_time": "2022-04-05T15:21:28.355Z"
   },
   {
    "duration": 8,
    "start_time": "2022-04-05T15:21:28.376Z"
   },
   {
    "duration": 17,
    "start_time": "2022-04-05T15:21:28.386Z"
   },
   {
    "duration": 32,
    "start_time": "2022-04-05T15:21:28.404Z"
   },
   {
    "duration": 11,
    "start_time": "2022-04-05T15:21:28.438Z"
   },
   {
    "duration": 10,
    "start_time": "2022-04-05T15:21:28.451Z"
   },
   {
    "duration": 139,
    "start_time": "2022-04-05T15:21:28.463Z"
   },
   {
    "duration": 165,
    "start_time": "2022-04-05T15:21:28.604Z"
   },
   {
    "duration": 133,
    "start_time": "2022-04-05T15:22:03.845Z"
   },
   {
    "duration": 127,
    "start_time": "2022-04-05T15:22:08.807Z"
   },
   {
    "duration": 123,
    "start_time": "2022-04-05T15:23:37.071Z"
   },
   {
    "duration": 136,
    "start_time": "2022-04-05T15:25:36.157Z"
   },
   {
    "duration": 267,
    "start_time": "2022-04-05T15:26:21.645Z"
   },
   {
    "duration": 97,
    "start_time": "2022-04-05T15:26:44.242Z"
   },
   {
    "duration": 137,
    "start_time": "2022-04-05T15:26:58.010Z"
   },
   {
    "duration": 105,
    "start_time": "2022-04-05T15:28:18.998Z"
   },
   {
    "duration": 107,
    "start_time": "2022-04-05T15:28:47.727Z"
   },
   {
    "duration": 165,
    "start_time": "2022-04-05T15:33:24.028Z"
   },
   {
    "duration": 168,
    "start_time": "2022-04-05T15:34:01.300Z"
   },
   {
    "duration": 168,
    "start_time": "2022-04-05T15:34:35.406Z"
   },
   {
    "duration": 177,
    "start_time": "2022-04-05T15:37:47.089Z"
   },
   {
    "duration": 210,
    "start_time": "2022-04-05T15:38:00.040Z"
   },
   {
    "duration": 173,
    "start_time": "2022-04-05T15:38:11.135Z"
   },
   {
    "duration": 184,
    "start_time": "2022-04-05T15:38:24.623Z"
   },
   {
    "duration": 190,
    "start_time": "2022-04-05T15:39:04.350Z"
   },
   {
    "duration": 290,
    "start_time": "2022-04-05T15:39:23.513Z"
   },
   {
    "duration": 205,
    "start_time": "2022-04-05T15:41:25.546Z"
   },
   {
    "duration": 219,
    "start_time": "2022-04-05T15:41:53.142Z"
   },
   {
    "duration": 205,
    "start_time": "2022-04-05T15:42:00.089Z"
   },
   {
    "duration": 207,
    "start_time": "2022-04-05T15:44:17.282Z"
   },
   {
    "duration": 207,
    "start_time": "2022-04-05T15:44:32.139Z"
   },
   {
    "duration": 6,
    "start_time": "2022-04-05T15:45:42.907Z"
   },
   {
    "duration": 10,
    "start_time": "2022-04-05T15:45:45.911Z"
   },
   {
    "duration": 221,
    "start_time": "2022-04-05T15:45:47.993Z"
   },
   {
    "duration": 97,
    "start_time": "2022-04-05T15:46:38.514Z"
   },
   {
    "duration": 203,
    "start_time": "2022-04-05T15:46:53.636Z"
   },
   {
    "duration": 205,
    "start_time": "2022-04-05T15:47:02.593Z"
   },
   {
    "duration": 206,
    "start_time": "2022-04-05T15:47:18.540Z"
   },
   {
    "duration": 11,
    "start_time": "2022-04-05T15:49:09.146Z"
   },
   {
    "duration": 10,
    "start_time": "2022-04-05T15:49:11.713Z"
   },
   {
    "duration": 304,
    "start_time": "2022-04-05T15:49:14.380Z"
   },
   {
    "duration": 199,
    "start_time": "2022-04-05T15:49:39.251Z"
   },
   {
    "duration": 23,
    "start_time": "2022-04-05T16:02:50.361Z"
   },
   {
    "duration": 16,
    "start_time": "2022-04-05T16:03:05.616Z"
   },
   {
    "duration": 192,
    "start_time": "2022-04-05T16:04:44.949Z"
   },
   {
    "duration": 3,
    "start_time": "2022-04-05T16:05:00.550Z"
   },
   {
    "duration": 3,
    "start_time": "2022-04-05T16:05:04.370Z"
   },
   {
    "duration": 10,
    "start_time": "2022-04-05T16:06:35.012Z"
   },
   {
    "duration": 9,
    "start_time": "2022-04-05T16:06:40.588Z"
   },
   {
    "duration": 5,
    "start_time": "2022-04-05T16:07:43.910Z"
   },
   {
    "duration": 5,
    "start_time": "2022-04-05T16:08:04.205Z"
   },
   {
    "duration": 4,
    "start_time": "2022-04-05T16:08:09.295Z"
   },
   {
    "duration": 4,
    "start_time": "2022-04-05T16:08:19.496Z"
   },
   {
    "duration": 1521,
    "start_time": "2022-04-06T05:18:36.464Z"
   },
   {
    "duration": 674,
    "start_time": "2022-04-06T05:18:37.987Z"
   },
   {
    "duration": 601,
    "start_time": "2022-04-06T05:18:38.662Z"
   },
   {
    "duration": 17,
    "start_time": "2022-04-06T05:18:39.265Z"
   },
   {
    "duration": 9,
    "start_time": "2022-04-06T05:18:39.283Z"
   },
   {
    "duration": 11,
    "start_time": "2022-04-06T05:18:39.293Z"
   },
   {
    "duration": 10,
    "start_time": "2022-04-06T05:18:39.305Z"
   },
   {
    "duration": 5,
    "start_time": "2022-04-06T05:18:39.316Z"
   },
   {
    "duration": 7,
    "start_time": "2022-04-06T05:18:39.322Z"
   },
   {
    "duration": 6,
    "start_time": "2022-04-06T05:18:39.331Z"
   },
   {
    "duration": 4,
    "start_time": "2022-04-06T05:18:39.338Z"
   },
   {
    "duration": 47,
    "start_time": "2022-04-06T05:18:39.343Z"
   },
   {
    "duration": 20,
    "start_time": "2022-04-06T05:18:39.392Z"
   },
   {
    "duration": 231,
    "start_time": "2022-04-06T05:18:39.413Z"
   },
   {
    "duration": 0,
    "start_time": "2022-04-06T05:18:39.645Z"
   },
   {
    "duration": 0,
    "start_time": "2022-04-06T05:18:39.646Z"
   },
   {
    "duration": 0,
    "start_time": "2022-04-06T05:18:39.647Z"
   },
   {
    "duration": 0,
    "start_time": "2022-04-06T05:18:39.648Z"
   },
   {
    "duration": 10,
    "start_time": "2022-04-06T05:19:43.526Z"
   },
   {
    "duration": 10,
    "start_time": "2022-04-06T05:19:48.216Z"
   },
   {
    "duration": 172,
    "start_time": "2022-04-06T05:19:50.118Z"
   },
   {
    "duration": 4,
    "start_time": "2022-04-06T05:19:55.399Z"
   },
   {
    "duration": 4,
    "start_time": "2022-04-06T05:19:57.055Z"
   },
   {
    "duration": 139213,
    "start_time": "2022-04-06T05:21:47.190Z"
   },
   {
    "duration": 3,
    "start_time": "2022-04-06T05:24:06.416Z"
   },
   {
    "duration": 8,
    "start_time": "2022-04-06T05:24:18.173Z"
   },
   {
    "duration": 12,
    "start_time": "2022-04-06T05:25:07.589Z"
   },
   {
    "duration": 0,
    "start_time": "2022-04-06T05:28:48.385Z"
   },
   {
    "duration": 123,
    "start_time": "2022-04-06T05:28:56.835Z"
   },
   {
    "duration": 143,
    "start_time": "2022-04-06T05:29:33.971Z"
   },
   {
    "duration": 212,
    "start_time": "2022-04-06T05:29:39.082Z"
   },
   {
    "duration": 202,
    "start_time": "2022-04-06T05:29:48.570Z"
   },
   {
    "duration": 224,
    "start_time": "2022-04-06T05:30:05.682Z"
   },
   {
    "duration": 199,
    "start_time": "2022-04-06T05:30:14.202Z"
   },
   {
    "duration": 318,
    "start_time": "2022-04-06T05:30:25.578Z"
   },
   {
    "duration": 206,
    "start_time": "2022-04-06T05:30:31.187Z"
   },
   {
    "duration": 118,
    "start_time": "2022-04-06T05:31:22.002Z"
   },
   {
    "duration": 197,
    "start_time": "2022-04-06T05:31:26.266Z"
   },
   {
    "duration": 316,
    "start_time": "2022-04-06T05:33:58.249Z"
   },
   {
    "duration": 329,
    "start_time": "2022-04-06T05:35:02.008Z"
   },
   {
    "duration": 438,
    "start_time": "2022-04-06T05:36:30.851Z"
   },
   {
    "duration": 292,
    "start_time": "2022-04-06T05:36:36.984Z"
   },
   {
    "duration": 299,
    "start_time": "2022-04-06T05:36:47.697Z"
   },
   {
    "duration": 285,
    "start_time": "2022-04-06T05:38:47.318Z"
   },
   {
    "duration": 281,
    "start_time": "2022-04-06T05:38:59.742Z"
   },
   {
    "duration": 148,
    "start_time": "2022-04-06T05:40:15.638Z"
   },
   {
    "duration": 136,
    "start_time": "2022-04-06T05:40:45.519Z"
   },
   {
    "duration": 141,
    "start_time": "2022-04-06T05:40:52.014Z"
   },
   {
    "duration": 136,
    "start_time": "2022-04-06T05:43:08.133Z"
   },
   {
    "duration": 140,
    "start_time": "2022-04-06T05:43:18.285Z"
   },
   {
    "duration": 135,
    "start_time": "2022-04-06T05:43:29.124Z"
   },
   {
    "duration": 137,
    "start_time": "2022-04-06T05:43:38.812Z"
   },
   {
    "duration": 145,
    "start_time": "2022-04-06T05:45:33.779Z"
   },
   {
    "duration": 141,
    "start_time": "2022-04-06T05:45:56.747Z"
   },
   {
    "duration": 149,
    "start_time": "2022-04-06T05:46:05.666Z"
   },
   {
    "duration": 247,
    "start_time": "2022-04-06T05:46:23.747Z"
   },
   {
    "duration": 333,
    "start_time": "2022-04-06T05:46:27.427Z"
   },
   {
    "duration": 334,
    "start_time": "2022-04-06T05:47:32.018Z"
   },
   {
    "duration": 2140,
    "start_time": "2022-04-06T05:47:52.354Z"
   },
   {
    "duration": 543,
    "start_time": "2022-04-06T05:49:31.970Z"
   },
   {
    "duration": 573,
    "start_time": "2022-04-06T05:50:50.064Z"
   },
   {
    "duration": 571,
    "start_time": "2022-04-06T05:51:11.369Z"
   },
   {
    "duration": 567,
    "start_time": "2022-04-06T05:51:25.984Z"
   },
   {
    "duration": 573,
    "start_time": "2022-04-06T05:51:35.408Z"
   },
   {
    "duration": 684,
    "start_time": "2022-04-06T05:52:02.016Z"
   },
   {
    "duration": 573,
    "start_time": "2022-04-06T05:52:32.888Z"
   },
   {
    "duration": 584,
    "start_time": "2022-04-06T05:52:37.975Z"
   },
   {
    "duration": 592,
    "start_time": "2022-04-06T05:53:14.504Z"
   },
   {
    "duration": 634,
    "start_time": "2022-04-06T05:53:34.064Z"
   },
   {
    "duration": 780,
    "start_time": "2022-04-06T05:54:51.143Z"
   },
   {
    "duration": 702,
    "start_time": "2022-04-06T05:55:58.886Z"
   },
   {
    "duration": 648,
    "start_time": "2022-04-06T05:56:07.062Z"
   },
   {
    "duration": 670,
    "start_time": "2022-04-06T05:57:42.894Z"
   },
   {
    "duration": 1297,
    "start_time": "2022-04-06T05:59:28.245Z"
   },
   {
    "duration": 619,
    "start_time": "2022-04-06T05:59:33.309Z"
   },
   {
    "duration": 689,
    "start_time": "2022-04-06T06:04:46.243Z"
   },
   {
    "duration": 459,
    "start_time": "2022-04-06T06:05:34.578Z"
   },
   {
    "duration": 443,
    "start_time": "2022-04-06T06:05:43.114Z"
   },
   {
    "duration": 696,
    "start_time": "2022-04-06T06:05:49.249Z"
   },
   {
    "duration": 713,
    "start_time": "2022-04-06T06:05:58.251Z"
   },
   {
    "duration": 2912,
    "start_time": "2022-04-06T06:08:08.608Z"
   },
   {
    "duration": 1235,
    "start_time": "2022-04-06T06:11:14.775Z"
   },
   {
    "duration": 695,
    "start_time": "2022-04-06T06:12:48.648Z"
   },
   {
    "duration": 702,
    "start_time": "2022-04-06T06:13:31.870Z"
   },
   {
    "duration": 711,
    "start_time": "2022-04-06T06:14:02.798Z"
   },
   {
    "duration": 724,
    "start_time": "2022-04-06T06:14:15.478Z"
   },
   {
    "duration": 709,
    "start_time": "2022-04-06T06:15:44.886Z"
   },
   {
    "duration": 735,
    "start_time": "2022-04-06T06:16:01.053Z"
   },
   {
    "duration": 709,
    "start_time": "2022-04-06T06:16:06.365Z"
   },
   {
    "duration": 4,
    "start_time": "2022-04-06T06:56:29.772Z"
   },
   {
    "duration": 5,
    "start_time": "2022-04-06T06:56:50.819Z"
   },
   {
    "duration": 7,
    "start_time": "2022-04-06T07:04:16.265Z"
   },
   {
    "duration": 11,
    "start_time": "2022-04-06T07:07:25.432Z"
   },
   {
    "duration": 14,
    "start_time": "2022-04-06T07:07:27.486Z"
   },
   {
    "duration": 9,
    "start_time": "2022-04-06T07:07:39.734Z"
   },
   {
    "duration": 184,
    "start_time": "2022-04-06T07:07:51.470Z"
   },
   {
    "duration": 8,
    "start_time": "2022-04-06T07:08:02.294Z"
   },
   {
    "duration": 2710,
    "start_time": "2022-04-06T07:10:19.560Z"
   },
   {
    "duration": 4,
    "start_time": "2022-04-06T07:10:37.037Z"
   },
   {
    "duration": 8,
    "start_time": "2022-04-06T07:10:47.333Z"
   },
   {
    "duration": 3,
    "start_time": "2022-04-06T07:11:06.405Z"
   },
   {
    "duration": 8,
    "start_time": "2022-04-06T07:11:08.956Z"
   },
   {
    "duration": 4,
    "start_time": "2022-04-06T07:13:06.419Z"
   },
   {
    "duration": 8,
    "start_time": "2022-04-06T07:13:08.907Z"
   },
   {
    "duration": 2614,
    "start_time": "2022-04-06T07:13:38.003Z"
   },
   {
    "duration": 0,
    "start_time": "2022-04-06T07:13:40.619Z"
   },
   {
    "duration": 5,
    "start_time": "2022-04-06T07:13:49.667Z"
   },
   {
    "duration": 8,
    "start_time": "2022-04-06T07:13:51.770Z"
   },
   {
    "duration": 5,
    "start_time": "2022-04-06T07:14:01.196Z"
   },
   {
    "duration": 8,
    "start_time": "2022-04-06T07:14:02.803Z"
   },
   {
    "duration": 14,
    "start_time": "2022-04-06T07:14:53.899Z"
   },
   {
    "duration": 7,
    "start_time": "2022-04-06T07:18:34.681Z"
   },
   {
    "duration": 8,
    "start_time": "2022-04-06T07:18:37.801Z"
   },
   {
    "duration": 6,
    "start_time": "2022-04-06T07:19:41.328Z"
   },
   {
    "duration": 8,
    "start_time": "2022-04-06T07:19:43.224Z"
   },
   {
    "duration": 4,
    "start_time": "2022-04-06T07:19:47.248Z"
   },
   {
    "duration": 9,
    "start_time": "2022-04-06T07:19:48.896Z"
   },
   {
    "duration": 305,
    "start_time": "2022-04-06T07:20:15.280Z"
   },
   {
    "duration": 4408,
    "start_time": "2022-04-06T07:20:22.288Z"
   },
   {
    "duration": 0,
    "start_time": "2022-04-06T07:20:58.579Z"
   },
   {
    "duration": 4,
    "start_time": "2022-04-06T07:21:00.737Z"
   },
   {
    "duration": 8,
    "start_time": "2022-04-06T07:21:02.664Z"
   },
   {
    "duration": 1306,
    "start_time": "2022-04-06T07:21:35.144Z"
   },
   {
    "duration": 4,
    "start_time": "2022-04-06T07:21:43.336Z"
   },
   {
    "duration": 8,
    "start_time": "2022-04-06T07:21:45.544Z"
   },
   {
    "duration": 9,
    "start_time": "2022-04-06T07:21:51.753Z"
   },
   {
    "duration": 145,
    "start_time": "2022-04-06T07:22:59.471Z"
   },
   {
    "duration": 260,
    "start_time": "2022-04-06T07:24:08.831Z"
   },
   {
    "duration": 168,
    "start_time": "2022-04-06T07:24:31.223Z"
   },
   {
    "duration": 153,
    "start_time": "2022-04-06T07:24:46.286Z"
   },
   {
    "duration": 167,
    "start_time": "2022-04-06T07:25:10.830Z"
   },
   {
    "duration": 153,
    "start_time": "2022-04-06T07:25:24.694Z"
   },
   {
    "duration": 153,
    "start_time": "2022-04-06T07:26:01.758Z"
   },
   {
    "duration": 152,
    "start_time": "2022-04-06T07:27:55.917Z"
   },
   {
    "duration": 146,
    "start_time": "2022-04-06T07:28:01.077Z"
   },
   {
    "duration": 190,
    "start_time": "2022-04-06T07:29:23.788Z"
   },
   {
    "duration": 129,
    "start_time": "2022-04-06T07:29:54.172Z"
   },
   {
    "duration": 121,
    "start_time": "2022-04-06T07:30:01.532Z"
   },
   {
    "duration": 4,
    "start_time": "2022-04-06T07:34:56.609Z"
   },
   {
    "duration": 36,
    "start_time": "2022-04-06T07:34:58.458Z"
   },
   {
    "duration": 87,
    "start_time": "2022-04-06T07:35:01.465Z"
   },
   {
    "duration": 12,
    "start_time": "2022-04-06T07:35:14.410Z"
   },
   {
    "duration": 10,
    "start_time": "2022-04-06T07:35:15.905Z"
   },
   {
    "duration": 170,
    "start_time": "2022-04-06T07:35:17.858Z"
   },
   {
    "duration": 10,
    "start_time": "2022-04-06T07:35:23.650Z"
   },
   {
    "duration": 110,
    "start_time": "2022-04-06T07:45:42.413Z"
   },
   {
    "duration": 9,
    "start_time": "2022-04-06T07:47:48.812Z"
   },
   {
    "duration": 11,
    "start_time": "2022-04-06T07:48:09.803Z"
   },
   {
    "duration": 183,
    "start_time": "2022-04-06T07:48:32.132Z"
   },
   {
    "duration": 11,
    "start_time": "2022-04-06T07:48:39.411Z"
   },
   {
    "duration": 111,
    "start_time": "2022-04-06T07:48:43.498Z"
   },
   {
    "duration": 5,
    "start_time": "2022-04-06T08:00:00.790Z"
   },
   {
    "duration": 4,
    "start_time": "2022-04-06T08:00:10.754Z"
   },
   {
    "duration": 688,
    "start_time": "2022-04-06T08:00:10.760Z"
   },
   {
    "duration": 651,
    "start_time": "2022-04-06T08:00:11.450Z"
   },
   {
    "duration": 9,
    "start_time": "2022-04-06T08:00:12.103Z"
   },
   {
    "duration": 13,
    "start_time": "2022-04-06T08:00:12.113Z"
   },
   {
    "duration": 12,
    "start_time": "2022-04-06T08:00:12.127Z"
   },
   {
    "duration": 8,
    "start_time": "2022-04-06T08:00:12.140Z"
   },
   {
    "duration": 32,
    "start_time": "2022-04-06T08:00:12.150Z"
   },
   {
    "duration": 8,
    "start_time": "2022-04-06T08:00:12.184Z"
   },
   {
    "duration": 8,
    "start_time": "2022-04-06T08:00:12.194Z"
   },
   {
    "duration": 4,
    "start_time": "2022-04-06T08:00:12.203Z"
   },
   {
    "duration": 11,
    "start_time": "2022-04-06T08:00:12.209Z"
   },
   {
    "duration": 19,
    "start_time": "2022-04-06T08:00:12.222Z"
   },
   {
    "duration": 45,
    "start_time": "2022-04-06T08:00:12.242Z"
   },
   {
    "duration": 11,
    "start_time": "2022-04-06T08:00:12.289Z"
   },
   {
    "duration": 212,
    "start_time": "2022-04-06T08:00:12.301Z"
   },
   {
    "duration": 1307,
    "start_time": "2022-04-06T08:00:12.514Z"
   },
   {
    "duration": 16,
    "start_time": "2022-04-06T08:00:13.823Z"
   },
   {
    "duration": 143,
    "start_time": "2022-04-06T08:00:13.841Z"
   },
   {
    "duration": 3,
    "start_time": "2022-04-06T08:20:49.013Z"
   },
   {
    "duration": 4,
    "start_time": "2022-04-06T08:23:48.468Z"
   },
   {
    "duration": 14,
    "start_time": "2022-04-06T08:24:09.867Z"
   },
   {
    "duration": 2,
    "start_time": "2022-04-06T08:24:37.404Z"
   },
   {
    "duration": 13,
    "start_time": "2022-04-06T08:24:53.780Z"
   },
   {
    "duration": 2,
    "start_time": "2022-04-06T08:25:01.100Z"
   },
   {
    "duration": 4,
    "start_time": "2022-04-06T08:25:46.219Z"
   },
   {
    "duration": 1336,
    "start_time": "2022-04-06T08:26:04.258Z"
   },
   {
    "duration": 10,
    "start_time": "2022-04-06T08:26:51.538Z"
   },
   {
    "duration": 3,
    "start_time": "2022-04-06T08:27:06.746Z"
   },
   {
    "duration": 3,
    "start_time": "2022-04-06T08:28:29.106Z"
   },
   {
    "duration": 1312,
    "start_time": "2022-04-06T08:28:31.322Z"
   },
   {
    "duration": 15,
    "start_time": "2022-04-06T08:29:23.721Z"
   },
   {
    "duration": 4,
    "start_time": "2022-04-06T08:30:00.665Z"
   },
   {
    "duration": 11,
    "start_time": "2022-04-06T08:30:03.426Z"
   },
   {
    "duration": 4,
    "start_time": "2022-04-06T08:30:14.089Z"
   },
   {
    "duration": 41,
    "start_time": "2022-04-06T08:30:15.992Z"
   },
   {
    "duration": 15,
    "start_time": "2022-04-06T08:30:48.360Z"
   },
   {
    "duration": 4,
    "start_time": "2022-04-06T08:31:39.472Z"
   },
   {
    "duration": 45,
    "start_time": "2022-04-06T08:31:41.784Z"
   },
   {
    "duration": 39,
    "start_time": "2022-04-06T08:32:13.424Z"
   },
   {
    "duration": 4,
    "start_time": "2022-04-06T08:32:39.879Z"
   },
   {
    "duration": 42,
    "start_time": "2022-04-06T08:32:41.528Z"
   },
   {
    "duration": 40,
    "start_time": "2022-04-06T08:33:07.695Z"
   },
   {
    "duration": 38,
    "start_time": "2022-04-06T08:33:35.823Z"
   },
   {
    "duration": 40,
    "start_time": "2022-04-06T08:33:42.615Z"
   },
   {
    "duration": 45,
    "start_time": "2022-04-06T08:34:38.415Z"
   },
   {
    "duration": 40,
    "start_time": "2022-04-06T08:35:34.382Z"
   },
   {
    "duration": 41,
    "start_time": "2022-04-06T08:35:47.254Z"
   },
   {
    "duration": 34,
    "start_time": "2022-04-06T08:35:58.414Z"
   },
   {
    "duration": 37,
    "start_time": "2022-04-06T08:40:35.916Z"
   },
   {
    "duration": 0,
    "start_time": "2022-04-06T12:53:28.189Z"
   },
   {
    "duration": 10,
    "start_time": "2022-04-06T12:53:31.601Z"
   },
   {
    "duration": 2178,
    "start_time": "2022-04-06T12:53:36.948Z"
   },
   {
    "duration": 768,
    "start_time": "2022-04-06T12:53:39.128Z"
   },
   {
    "duration": 971,
    "start_time": "2022-04-06T12:53:39.898Z"
   },
   {
    "duration": 13,
    "start_time": "2022-04-06T12:53:40.872Z"
   },
   {
    "duration": 14,
    "start_time": "2022-04-06T12:53:40.888Z"
   },
   {
    "duration": 45,
    "start_time": "2022-04-06T12:53:40.904Z"
   },
   {
    "duration": 14,
    "start_time": "2022-04-06T12:53:40.951Z"
   },
   {
    "duration": 6,
    "start_time": "2022-04-06T12:53:40.967Z"
   },
   {
    "duration": 11,
    "start_time": "2022-04-06T12:53:40.975Z"
   },
   {
    "duration": 8,
    "start_time": "2022-04-06T12:53:40.989Z"
   },
   {
    "duration": 5,
    "start_time": "2022-04-06T12:53:40.999Z"
   },
   {
    "duration": 15,
    "start_time": "2022-04-06T12:53:41.043Z"
   },
   {
    "duration": 26,
    "start_time": "2022-04-06T12:53:41.060Z"
   },
   {
    "duration": 17,
    "start_time": "2022-04-06T12:53:41.088Z"
   },
   {
    "duration": 42,
    "start_time": "2022-04-06T12:53:41.107Z"
   },
   {
    "duration": 340,
    "start_time": "2022-04-06T12:53:41.152Z"
   },
   {
    "duration": 1477,
    "start_time": "2022-04-06T12:53:41.494Z"
   },
   {
    "duration": 16,
    "start_time": "2022-04-06T12:53:42.974Z"
   },
   {
    "duration": 223,
    "start_time": "2022-04-06T12:53:42.992Z"
   },
   {
    "duration": 5,
    "start_time": "2022-04-06T12:53:43.217Z"
   },
   {
    "duration": 19,
    "start_time": "2022-04-06T12:53:43.224Z"
   },
   {
    "duration": 58,
    "start_time": "2022-04-06T12:53:43.245Z"
   },
   {
    "duration": 156,
    "start_time": "2022-04-06T12:55:04.561Z"
   },
   {
    "duration": 54,
    "start_time": "2022-04-06T12:55:10.034Z"
   },
   {
    "duration": 49,
    "start_time": "2022-04-06T12:55:24.586Z"
   },
   {
    "duration": 47,
    "start_time": "2022-04-06T12:55:29.841Z"
   },
   {
    "duration": 46,
    "start_time": "2022-04-06T12:55:35.361Z"
   },
   {
    "duration": 11,
    "start_time": "2022-04-06T13:03:02.134Z"
   },
   {
    "duration": 12,
    "start_time": "2022-04-06T13:03:09.582Z"
   },
   {
    "duration": 20,
    "start_time": "2022-04-06T13:04:21.934Z"
   },
   {
    "duration": 39,
    "start_time": "2022-04-06T13:04:32.605Z"
   },
   {
    "duration": 6,
    "start_time": "2022-04-06T13:04:36.117Z"
   },
   {
    "duration": 5,
    "start_time": "2022-04-06T13:04:55.653Z"
   },
   {
    "duration": 37,
    "start_time": "2022-04-06T13:04:56.788Z"
   },
   {
    "duration": 6,
    "start_time": "2022-04-06T13:04:57.725Z"
   },
   {
    "duration": 6,
    "start_time": "2022-04-06T13:05:35.140Z"
   },
   {
    "duration": 6,
    "start_time": "2022-04-06T13:05:55.277Z"
   },
   {
    "duration": 6,
    "start_time": "2022-04-06T13:06:26.705Z"
   },
   {
    "duration": 43,
    "start_time": "2022-04-06T13:07:04.092Z"
   },
   {
    "duration": 6,
    "start_time": "2022-04-06T13:07:04.891Z"
   },
   {
    "duration": 5,
    "start_time": "2022-04-06T13:07:09.452Z"
   },
   {
    "duration": 7,
    "start_time": "2022-04-06T13:20:43.219Z"
   },
   {
    "duration": 788,
    "start_time": "2022-04-06T13:20:43.230Z"
   },
   {
    "duration": 965,
    "start_time": "2022-04-06T13:20:44.020Z"
   },
   {
    "duration": 12,
    "start_time": "2022-04-06T13:20:44.988Z"
   },
   {
    "duration": 43,
    "start_time": "2022-04-06T13:20:45.003Z"
   },
   {
    "duration": 21,
    "start_time": "2022-04-06T13:20:45.048Z"
   },
   {
    "duration": 11,
    "start_time": "2022-04-06T13:20:45.071Z"
   },
   {
    "duration": 6,
    "start_time": "2022-04-06T13:20:45.084Z"
   },
   {
    "duration": 51,
    "start_time": "2022-04-06T13:20:45.093Z"
   },
   {
    "duration": 19,
    "start_time": "2022-04-06T13:20:45.148Z"
   },
   {
    "duration": 8,
    "start_time": "2022-04-06T13:20:45.169Z"
   },
   {
    "duration": 14,
    "start_time": "2022-04-06T13:20:45.179Z"
   },
   {
    "duration": 62,
    "start_time": "2022-04-06T13:20:45.196Z"
   },
   {
    "duration": 19,
    "start_time": "2022-04-06T13:20:45.260Z"
   },
   {
    "duration": 14,
    "start_time": "2022-04-06T13:20:45.281Z"
   },
   {
    "duration": 360,
    "start_time": "2022-04-06T13:20:45.297Z"
   },
   {
    "duration": 1553,
    "start_time": "2022-04-06T13:20:45.659Z"
   },
   {
    "duration": 14,
    "start_time": "2022-04-06T13:20:47.214Z"
   },
   {
    "duration": 222,
    "start_time": "2022-04-06T13:20:47.242Z"
   },
   {
    "duration": 3090,
    "start_time": "2022-04-06T13:21:32.654Z"
   },
   {
    "duration": 2832,
    "start_time": "2022-04-06T13:21:45.013Z"
   },
   {
    "duration": 3355,
    "start_time": "2022-04-06T13:22:13.789Z"
   },
   {
    "duration": 2252,
    "start_time": "2022-04-06T13:23:12.796Z"
   },
   {
    "duration": 5121,
    "start_time": "2022-04-06T13:23:45.029Z"
   },
   {
    "duration": 5343,
    "start_time": "2022-04-06T13:23:55.101Z"
   },
   {
    "duration": 72,
    "start_time": "2022-04-06T15:43:01.267Z"
   },
   {
    "duration": 9,
    "start_time": "2022-04-06T15:43:15.691Z"
   },
   {
    "duration": 2288,
    "start_time": "2022-04-06T15:43:21.024Z"
   },
   {
    "duration": 4250,
    "start_time": "2022-04-06T15:43:23.315Z"
   },
   {
    "duration": 1042,
    "start_time": "2022-04-06T15:43:27.567Z"
   },
   {
    "duration": 15,
    "start_time": "2022-04-06T15:43:28.611Z"
   },
   {
    "duration": 17,
    "start_time": "2022-04-06T15:43:28.629Z"
   },
   {
    "duration": 45,
    "start_time": "2022-04-06T15:43:28.648Z"
   },
   {
    "duration": 20,
    "start_time": "2022-04-06T15:43:28.696Z"
   },
   {
    "duration": 7,
    "start_time": "2022-04-06T15:43:28.719Z"
   },
   {
    "duration": 9,
    "start_time": "2022-04-06T15:43:28.728Z"
   },
   {
    "duration": 12,
    "start_time": "2022-04-06T15:43:28.739Z"
   },
   {
    "duration": 3,
    "start_time": "2022-04-06T15:43:28.784Z"
   },
   {
    "duration": 18,
    "start_time": "2022-04-06T15:43:28.790Z"
   },
   {
    "duration": 30,
    "start_time": "2022-04-06T15:43:28.810Z"
   },
   {
    "duration": 50,
    "start_time": "2022-04-06T15:43:28.844Z"
   },
   {
    "duration": 15,
    "start_time": "2022-04-06T15:43:28.896Z"
   },
   {
    "duration": 367,
    "start_time": "2022-04-06T15:43:28.913Z"
   },
   {
    "duration": 1475,
    "start_time": "2022-04-06T15:43:29.285Z"
   },
   {
    "duration": 24,
    "start_time": "2022-04-06T15:43:30.762Z"
   },
   {
    "duration": 229,
    "start_time": "2022-04-06T15:43:30.789Z"
   },
   {
    "duration": 6,
    "start_time": "2022-04-06T15:43:31.021Z"
   },
   {
    "duration": 69,
    "start_time": "2022-04-06T15:43:31.030Z"
   },
   {
    "duration": 103,
    "start_time": "2022-04-06T15:43:33.977Z"
   },
   {
    "duration": 5,
    "start_time": "2022-04-06T15:43:47.537Z"
   },
   {
    "duration": 15,
    "start_time": "2022-04-06T15:49:27.646Z"
   },
   {
    "duration": 18,
    "start_time": "2022-04-06T15:49:54.177Z"
   },
   {
    "duration": 31,
    "start_time": "2022-04-06T15:50:15.264Z"
   },
   {
    "duration": 3,
    "start_time": "2022-04-06T15:50:52.801Z"
   },
   {
    "duration": 7,
    "start_time": "2022-04-06T15:51:01.981Z"
   },
   {
    "duration": 799,
    "start_time": "2022-04-06T15:51:01.991Z"
   },
   {
    "duration": 1027,
    "start_time": "2022-04-06T15:51:02.792Z"
   },
   {
    "duration": 14,
    "start_time": "2022-04-06T15:51:03.822Z"
   },
   {
    "duration": 46,
    "start_time": "2022-04-06T15:51:03.838Z"
   },
   {
    "duration": 15,
    "start_time": "2022-04-06T15:51:03.886Z"
   },
   {
    "duration": 12,
    "start_time": "2022-04-06T15:51:03.904Z"
   },
   {
    "duration": 12,
    "start_time": "2022-04-06T15:51:03.919Z"
   },
   {
    "duration": 14,
    "start_time": "2022-04-06T15:51:03.936Z"
   },
   {
    "duration": 10,
    "start_time": "2022-04-06T15:51:03.984Z"
   },
   {
    "duration": 9,
    "start_time": "2022-04-06T15:51:03.996Z"
   },
   {
    "duration": 25,
    "start_time": "2022-04-06T15:51:04.007Z"
   },
   {
    "duration": 27,
    "start_time": "2022-04-06T15:51:04.034Z"
   },
   {
    "duration": 34,
    "start_time": "2022-04-06T15:51:04.063Z"
   },
   {
    "duration": 16,
    "start_time": "2022-04-06T15:51:04.099Z"
   },
   {
    "duration": 352,
    "start_time": "2022-04-06T15:51:04.118Z"
   },
   {
    "duration": 1587,
    "start_time": "2022-04-06T15:51:04.472Z"
   },
   {
    "duration": 26,
    "start_time": "2022-04-06T15:51:06.062Z"
   },
   {
    "duration": 228,
    "start_time": "2022-04-06T15:51:06.090Z"
   },
   {
    "duration": 5,
    "start_time": "2022-04-06T15:51:06.320Z"
   },
   {
    "duration": 18,
    "start_time": "2022-04-06T15:51:06.327Z"
   },
   {
    "duration": 41,
    "start_time": "2022-04-06T15:51:06.347Z"
   },
   {
    "duration": 18,
    "start_time": "2022-04-06T15:51:10.069Z"
   },
   {
    "duration": 4355,
    "start_time": "2022-04-06T15:51:57.434Z"
   },
   {
    "duration": 6,
    "start_time": "2022-04-06T15:52:10.322Z"
   },
   {
    "duration": 16,
    "start_time": "2022-04-06T15:54:13.563Z"
   },
   {
    "duration": 11,
    "start_time": "2022-04-06T15:54:23.813Z"
   },
   {
    "duration": 6,
    "start_time": "2022-04-06T15:54:50.815Z"
   },
   {
    "duration": 7,
    "start_time": "2022-04-06T15:55:32.685Z"
   },
   {
    "duration": 13,
    "start_time": "2022-04-06T15:56:04.145Z"
   },
   {
    "duration": 6,
    "start_time": "2022-04-06T16:00:00.174Z"
   },
   {
    "duration": 6,
    "start_time": "2022-04-06T16:00:07.424Z"
   },
   {
    "duration": 9,
    "start_time": "2022-04-06T16:00:11.631Z"
   },
   {
    "duration": 11,
    "start_time": "2022-04-06T16:00:39.851Z"
   },
   {
    "duration": 582,
    "start_time": "2022-04-06T16:01:04.421Z"
   },
   {
    "duration": 6,
    "start_time": "2022-04-06T16:02:02.696Z"
   },
   {
    "duration": 6,
    "start_time": "2022-04-06T16:03:24.158Z"
   },
   {
    "duration": 6,
    "start_time": "2022-04-06T16:03:31.828Z"
   },
   {
    "duration": 566,
    "start_time": "2022-04-06T16:03:46.029Z"
   },
   {
    "duration": 648,
    "start_time": "2022-04-06T16:03:55.245Z"
   },
   {
    "duration": 341,
    "start_time": "2022-04-06T16:04:15.954Z"
   },
   {
    "duration": 6,
    "start_time": "2022-04-06T16:04:30.606Z"
   },
   {
    "duration": 15,
    "start_time": "2022-04-06T16:05:08.829Z"
   },
   {
    "duration": 4966,
    "start_time": "2022-04-06T16:05:52.323Z"
   },
   {
    "duration": 7,
    "start_time": "2022-04-06T16:06:01.044Z"
   },
   {
    "duration": 4,
    "start_time": "2022-04-06T16:13:46.867Z"
   },
   {
    "duration": 4,
    "start_time": "2022-04-06T16:21:38.853Z"
   },
   {
    "duration": 5286,
    "start_time": "2022-04-06T16:21:50.807Z"
   },
   {
    "duration": 22,
    "start_time": "2022-04-06T16:22:01.362Z"
   },
   {
    "duration": 19,
    "start_time": "2022-04-06T16:22:56.242Z"
   },
   {
    "duration": 6,
    "start_time": "2022-04-06T16:24:48.766Z"
   },
   {
    "duration": 17,
    "start_time": "2022-04-06T16:24:52.018Z"
   },
   {
    "duration": 5536,
    "start_time": "2022-04-06T16:24:57.152Z"
   },
   {
    "duration": 6,
    "start_time": "2022-04-06T16:25:05.083Z"
   },
   {
    "duration": 7,
    "start_time": "2022-04-06T16:26:00.057Z"
   },
   {
    "duration": 7,
    "start_time": "2022-04-06T16:26:13.511Z"
   },
   {
    "duration": 5,
    "start_time": "2022-04-06T16:26:19.861Z"
   },
   {
    "duration": 7,
    "start_time": "2022-04-06T16:26:21.924Z"
   },
   {
    "duration": 4,
    "start_time": "2022-04-06T16:26:43.593Z"
   },
   {
    "duration": 10,
    "start_time": "2022-04-06T16:26:45.597Z"
   },
   {
    "duration": 7,
    "start_time": "2022-04-06T16:27:28.405Z"
   },
   {
    "duration": 8,
    "start_time": "2022-04-06T16:27:34.365Z"
   },
   {
    "duration": 9,
    "start_time": "2022-04-06T16:27:40.456Z"
   },
   {
    "duration": 7,
    "start_time": "2022-04-06T16:27:47.048Z"
   },
   {
    "duration": 6,
    "start_time": "2022-04-06T16:27:52.676Z"
   },
   {
    "duration": 7,
    "start_time": "2022-04-06T16:28:00.756Z"
   },
   {
    "duration": 8,
    "start_time": "2022-04-06T16:28:21.780Z"
   },
   {
    "duration": 11,
    "start_time": "2022-04-06T16:29:22.048Z"
   },
   {
    "duration": 7,
    "start_time": "2022-04-07T05:15:36.283Z"
   },
   {
    "duration": 1400,
    "start_time": "2022-04-07T05:15:42.618Z"
   },
   {
    "duration": 564,
    "start_time": "2022-04-07T05:15:44.019Z"
   },
   {
    "duration": 614,
    "start_time": "2022-04-07T05:15:44.585Z"
   },
   {
    "duration": 8,
    "start_time": "2022-04-07T05:15:45.201Z"
   },
   {
    "duration": 8,
    "start_time": "2022-04-07T05:15:45.229Z"
   },
   {
    "duration": 10,
    "start_time": "2022-04-07T05:15:45.238Z"
   },
   {
    "duration": 9,
    "start_time": "2022-04-07T05:15:45.249Z"
   },
   {
    "duration": 4,
    "start_time": "2022-04-07T05:15:45.259Z"
   },
   {
    "duration": 4,
    "start_time": "2022-04-07T05:15:45.264Z"
   },
   {
    "duration": 7,
    "start_time": "2022-04-07T05:15:45.271Z"
   },
   {
    "duration": 5,
    "start_time": "2022-04-07T05:15:45.279Z"
   },
   {
    "duration": 13,
    "start_time": "2022-04-07T05:15:45.285Z"
   },
   {
    "duration": 42,
    "start_time": "2022-04-07T05:15:45.299Z"
   },
   {
    "duration": 12,
    "start_time": "2022-04-07T05:15:45.343Z"
   },
   {
    "duration": 8,
    "start_time": "2022-04-07T05:15:45.357Z"
   },
   {
    "duration": 181,
    "start_time": "2022-04-07T05:15:45.366Z"
   },
   {
    "duration": 764,
    "start_time": "2022-04-07T05:15:45.549Z"
   },
   {
    "duration": 19,
    "start_time": "2022-04-07T05:15:46.315Z"
   },
   {
    "duration": 124,
    "start_time": "2022-04-07T05:15:46.336Z"
   },
   {
    "duration": 4,
    "start_time": "2022-04-07T05:15:46.462Z"
   },
   {
    "duration": 19,
    "start_time": "2022-04-07T05:15:46.468Z"
   },
   {
    "duration": 6,
    "start_time": "2022-04-07T05:15:46.489Z"
   },
   {
    "duration": 5,
    "start_time": "2022-04-07T05:15:46.497Z"
   },
   {
    "duration": 17,
    "start_time": "2022-04-07T05:15:46.503Z"
   },
   {
    "duration": 20,
    "start_time": "2022-04-07T05:15:46.522Z"
   },
   {
    "duration": 3286,
    "start_time": "2022-04-07T05:15:46.544Z"
   },
   {
    "duration": 5,
    "start_time": "2022-04-07T05:15:49.832Z"
   },
   {
    "duration": 101,
    "start_time": "2022-04-07T05:15:49.840Z"
   },
   {
    "duration": 8,
    "start_time": "2022-04-07T05:15:49.942Z"
   },
   {
    "duration": 7,
    "start_time": "2022-04-07T05:16:09.866Z"
   },
   {
    "duration": 3,
    "start_time": "2022-04-07T05:24:18.232Z"
   },
   {
    "duration": 98,
    "start_time": "2022-04-07T05:24:26.200Z"
   },
   {
    "duration": 3,
    "start_time": "2022-04-07T05:29:22.975Z"
   },
   {
    "duration": 14,
    "start_time": "2022-04-07T05:29:26.721Z"
   },
   {
    "duration": 3,
    "start_time": "2022-04-07T05:29:44.509Z"
   },
   {
    "duration": 9,
    "start_time": "2022-04-07T05:29:46.203Z"
   },
   {
    "duration": 13,
    "start_time": "2022-04-07T05:30:09.636Z"
   },
   {
    "duration": 12,
    "start_time": "2022-04-07T05:30:09.717Z"
   },
   {
    "duration": 278,
    "start_time": "2022-04-07T05:31:19.758Z"
   },
   {
    "duration": 3,
    "start_time": "2022-04-07T05:33:50.189Z"
   },
   {
    "duration": 3070,
    "start_time": "2022-04-07T05:33:51.663Z"
   },
   {
    "duration": 12,
    "start_time": "2022-04-07T05:33:57.059Z"
   },
   {
    "duration": 6,
    "start_time": "2022-04-07T05:34:48.556Z"
   },
   {
    "duration": 6,
    "start_time": "2022-04-07T05:35:47.947Z"
   },
   {
    "duration": 8,
    "start_time": "2022-04-07T05:35:57.319Z"
   },
   {
    "duration": 9,
    "start_time": "2022-04-07T05:36:04.097Z"
   },
   {
    "duration": 8,
    "start_time": "2022-04-07T05:36:26.531Z"
   },
   {
    "duration": 7,
    "start_time": "2022-04-07T05:36:32.411Z"
   },
   {
    "duration": 14,
    "start_time": "2022-04-07T05:37:32.858Z"
   },
   {
    "duration": 3133,
    "start_time": "2022-04-07T05:37:53.698Z"
   },
   {
    "duration": 9,
    "start_time": "2022-04-07T05:38:09.075Z"
   },
   {
    "duration": 8,
    "start_time": "2022-04-07T05:38:33.154Z"
   },
   {
    "duration": 3,
    "start_time": "2022-04-07T05:38:40.778Z"
   },
   {
    "duration": 4,
    "start_time": "2022-04-07T05:39:42.825Z"
   },
   {
    "duration": 3,
    "start_time": "2022-04-07T05:40:07.089Z"
   },
   {
    "duration": 3218,
    "start_time": "2022-04-07T05:41:00.312Z"
   },
   {
    "duration": 4,
    "start_time": "2022-04-07T05:41:06.260Z"
   },
   {
    "duration": 3,
    "start_time": "2022-04-07T05:41:25.217Z"
   },
   {
    "duration": 4,
    "start_time": "2022-04-07T05:44:42.904Z"
   },
   {
    "duration": 4,
    "start_time": "2022-04-07T05:44:59.567Z"
   },
   {
    "duration": 4,
    "start_time": "2022-04-07T05:45:15.350Z"
   },
   {
    "duration": 122,
    "start_time": "2022-04-07T05:45:45.870Z"
   },
   {
    "duration": 125,
    "start_time": "2022-04-07T05:46:18.815Z"
   },
   {
    "duration": 120,
    "start_time": "2022-04-07T05:47:46.677Z"
   },
   {
    "duration": 7,
    "start_time": "2022-04-07T06:01:37.207Z"
   },
   {
    "duration": 23,
    "start_time": "2022-04-07T06:03:48.365Z"
   },
   {
    "duration": 22,
    "start_time": "2022-04-07T06:04:11.486Z"
   },
   {
    "duration": 22,
    "start_time": "2022-04-07T06:06:12.286Z"
   },
   {
    "duration": 12,
    "start_time": "2022-04-07T06:07:31.237Z"
   },
   {
    "duration": 1646,
    "start_time": "2022-04-07T06:08:19.388Z"
   },
   {
    "duration": 1526,
    "start_time": "2022-04-07T06:10:52.106Z"
   },
   {
    "duration": 1578,
    "start_time": "2022-04-07T06:11:20.666Z"
   },
   {
    "duration": 1949,
    "start_time": "2022-04-07T06:31:00.450Z"
   },
   {
    "duration": 2834,
    "start_time": "2022-04-07T06:31:03.705Z"
   },
   {
    "duration": 2034,
    "start_time": "2022-04-07T06:31:08.537Z"
   },
   {
    "duration": 9,
    "start_time": "2022-04-07T06:33:07.755Z"
   },
   {
    "duration": 10,
    "start_time": "2022-04-07T06:33:13.403Z"
   },
   {
    "duration": 3036,
    "start_time": "2022-04-07T06:33:27.802Z"
   },
   {
    "duration": 9,
    "start_time": "2022-04-07T06:33:33.392Z"
   },
   {
    "duration": 4,
    "start_time": "2022-04-07T06:33:46.992Z"
   },
   {
    "duration": 7,
    "start_time": "2022-04-07T06:34:04.080Z"
   },
   {
    "duration": 3,
    "start_time": "2022-04-07T06:34:26.904Z"
   },
   {
    "duration": 9,
    "start_time": "2022-04-07T06:34:34.089Z"
   },
   {
    "duration": 7,
    "start_time": "2022-04-07T06:34:59.840Z"
   },
   {
    "duration": 2,
    "start_time": "2022-04-07T06:35:27.368Z"
   },
   {
    "duration": 9,
    "start_time": "2022-04-07T06:35:29.375Z"
   },
   {
    "duration": 103,
    "start_time": "2022-04-07T06:40:34.045Z"
   },
   {
    "duration": 97,
    "start_time": "2022-04-07T06:41:10.181Z"
   },
   {
    "duration": 99,
    "start_time": "2022-04-07T06:41:29.687Z"
   },
   {
    "duration": 8,
    "start_time": "2022-04-07T06:43:24.015Z"
   },
   {
    "duration": 7,
    "start_time": "2022-04-07T06:43:30.677Z"
   },
   {
    "duration": 2,
    "start_time": "2022-04-07T06:46:35.204Z"
   },
   {
    "duration": 4,
    "start_time": "2022-04-07T06:56:06.534Z"
   },
   {
    "duration": 4,
    "start_time": "2022-04-07T06:56:16.199Z"
   },
   {
    "duration": 14,
    "start_time": "2022-04-07T06:56:39.902Z"
   },
   {
    "duration": 9,
    "start_time": "2022-04-07T06:57:39.495Z"
   },
   {
    "duration": 21,
    "start_time": "2022-04-07T06:58:00.398Z"
   },
   {
    "duration": 15,
    "start_time": "2022-04-07T06:58:50.581Z"
   },
   {
    "duration": 4,
    "start_time": "2022-04-07T07:03:27.604Z"
   },
   {
    "duration": 4,
    "start_time": "2022-04-07T07:03:29.340Z"
   },
   {
    "duration": 4,
    "start_time": "2022-04-07T07:04:40.387Z"
   },
   {
    "duration": 1031,
    "start_time": "2022-04-07T07:05:43.323Z"
   },
   {
    "duration": 3117,
    "start_time": "2022-04-07T07:09:58.113Z"
   },
   {
    "duration": 12,
    "start_time": "2022-04-07T07:10:39.384Z"
   },
   {
    "duration": 480,
    "start_time": "2022-04-07T07:45:02.072Z"
   },
   {
    "duration": 3826,
    "start_time": "2022-04-07T07:45:49.713Z"
   },
   {
    "duration": 8,
    "start_time": "2022-04-07T07:46:46.663Z"
   },
   {
    "duration": 12,
    "start_time": "2022-04-07T07:47:20.151Z"
   },
   {
    "duration": 8,
    "start_time": "2022-04-07T07:48:24.519Z"
   },
   {
    "duration": 6,
    "start_time": "2022-04-07T07:48:37.950Z"
   },
   {
    "duration": 3,
    "start_time": "2022-04-07T07:49:15.766Z"
   },
   {
    "duration": 3,
    "start_time": "2022-04-07T07:49:17.214Z"
   },
   {
    "duration": 3012,
    "start_time": "2022-04-07T07:49:20.325Z"
   },
   {
    "duration": 8,
    "start_time": "2022-04-07T07:49:24.325Z"
   },
   {
    "duration": 10,
    "start_time": "2022-04-07T07:49:34.062Z"
   },
   {
    "duration": 7,
    "start_time": "2022-04-07T07:50:09.751Z"
   },
   {
    "duration": 18,
    "start_time": "2022-04-07T07:50:15.590Z"
   },
   {
    "duration": 8,
    "start_time": "2022-04-07T07:50:23.071Z"
   },
   {
    "duration": 12,
    "start_time": "2022-04-07T07:52:03.237Z"
   },
   {
    "duration": 7,
    "start_time": "2022-04-07T07:52:45.446Z"
   },
   {
    "duration": 13,
    "start_time": "2022-04-07T07:53:00.460Z"
   },
   {
    "duration": 3,
    "start_time": "2022-04-07T07:54:10.012Z"
   },
   {
    "duration": 8,
    "start_time": "2022-04-07T07:54:12.883Z"
   },
   {
    "duration": 3,
    "start_time": "2022-04-07T07:54:55.236Z"
   },
   {
    "duration": 7,
    "start_time": "2022-04-07T07:54:58.692Z"
   },
   {
    "duration": 4,
    "start_time": "2022-04-07T07:56:28.411Z"
   },
   {
    "duration": 17,
    "start_time": "2022-04-07T07:56:31.827Z"
   },
   {
    "duration": 4,
    "start_time": "2022-04-07T07:56:50.202Z"
   },
   {
    "duration": 14,
    "start_time": "2022-04-07T07:56:58.309Z"
   },
   {
    "duration": 3,
    "start_time": "2022-04-07T07:57:17.027Z"
   },
   {
    "duration": 21,
    "start_time": "2022-04-07T07:57:19.458Z"
   },
   {
    "duration": 4,
    "start_time": "2022-04-07T07:57:48.107Z"
   },
   {
    "duration": 9,
    "start_time": "2022-04-07T07:57:50.563Z"
   },
   {
    "duration": 3,
    "start_time": "2022-04-07T07:58:49.346Z"
   },
   {
    "duration": 8,
    "start_time": "2022-04-07T07:58:52.225Z"
   },
   {
    "duration": 8,
    "start_time": "2022-04-07T07:58:56.330Z"
   },
   {
    "duration": 3,
    "start_time": "2022-04-07T07:59:17.353Z"
   },
   {
    "duration": 7,
    "start_time": "2022-04-07T07:59:20.073Z"
   },
   {
    "duration": 3,
    "start_time": "2022-04-07T07:59:51.994Z"
   },
   {
    "duration": 3,
    "start_time": "2022-04-07T07:59:54.530Z"
   },
   {
    "duration": 8,
    "start_time": "2022-04-07T07:59:58.114Z"
   },
   {
    "duration": 23,
    "start_time": "2022-04-07T08:00:00.426Z"
   },
   {
    "duration": 11,
    "start_time": "2022-04-07T08:00:48.121Z"
   },
   {
    "duration": 8,
    "start_time": "2022-04-07T08:02:44.864Z"
   },
   {
    "duration": 8,
    "start_time": "2022-04-07T08:03:06.888Z"
   },
   {
    "duration": 8,
    "start_time": "2022-04-07T08:03:16.410Z"
   },
   {
    "duration": 12,
    "start_time": "2022-04-07T08:03:29.248Z"
   },
   {
    "duration": 8,
    "start_time": "2022-04-07T08:03:35.225Z"
   },
   {
    "duration": 10,
    "start_time": "2022-04-07T08:04:28.303Z"
   },
   {
    "duration": 3,
    "start_time": "2022-04-07T08:05:29.623Z"
   },
   {
    "duration": 10,
    "start_time": "2022-04-07T08:05:33.927Z"
   },
   {
    "duration": 14,
    "start_time": "2022-04-07T08:05:51.943Z"
   },
   {
    "duration": 11,
    "start_time": "2022-04-07T08:06:00.478Z"
   },
   {
    "duration": 4,
    "start_time": "2022-04-07T08:07:09.094Z"
   },
   {
    "duration": 16,
    "start_time": "2022-04-07T08:07:12.118Z"
   },
   {
    "duration": 3,
    "start_time": "2022-04-07T08:07:33.502Z"
   },
   {
    "duration": 17,
    "start_time": "2022-04-07T08:07:36.174Z"
   },
   {
    "duration": 4,
    "start_time": "2022-04-07T08:12:47.084Z"
   },
   {
    "duration": 3,
    "start_time": "2022-04-07T08:12:55.807Z"
   },
   {
    "duration": 10,
    "start_time": "2022-04-07T08:12:57.964Z"
   },
   {
    "duration": 5,
    "start_time": "2022-04-07T08:13:27.619Z"
   },
   {
    "duration": 9,
    "start_time": "2022-04-07T08:13:30.405Z"
   },
   {
    "duration": 4,
    "start_time": "2022-04-07T08:13:41.370Z"
   },
   {
    "duration": 7,
    "start_time": "2022-04-07T08:13:44.003Z"
   },
   {
    "duration": 4,
    "start_time": "2022-04-07T08:15:09.491Z"
   },
   {
    "duration": 7,
    "start_time": "2022-04-07T08:15:14.034Z"
   },
   {
    "duration": 3253,
    "start_time": "2022-04-07T08:15:25.386Z"
   },
   {
    "duration": 4,
    "start_time": "2022-04-07T08:15:36.883Z"
   },
   {
    "duration": 5,
    "start_time": "2022-04-07T08:16:17.961Z"
   },
   {
    "duration": 4188,
    "start_time": "2022-04-07T08:16:20.442Z"
   },
   {
    "duration": 4,
    "start_time": "2022-04-07T08:16:26.761Z"
   },
   {
    "duration": 4,
    "start_time": "2022-04-07T08:17:23.258Z"
   },
   {
    "duration": 3760,
    "start_time": "2022-04-07T08:17:26.273Z"
   },
   {
    "duration": 3,
    "start_time": "2022-04-07T08:17:31.497Z"
   },
   {
    "duration": 8,
    "start_time": "2022-04-07T08:18:02.617Z"
   },
   {
    "duration": 4,
    "start_time": "2022-04-07T08:18:29.881Z"
   },
   {
    "duration": 3809,
    "start_time": "2022-04-07T08:21:17.128Z"
   },
   {
    "duration": 3,
    "start_time": "2022-04-07T08:21:22.744Z"
   },
   {
    "duration": 3,
    "start_time": "2022-04-07T08:21:26.488Z"
   },
   {
    "duration": 3550,
    "start_time": "2022-04-07T08:21:36.480Z"
   },
   {
    "duration": 5,
    "start_time": "2022-04-07T08:21:41.408Z"
   },
   {
    "duration": 8,
    "start_time": "2022-04-07T08:22:30.091Z"
   },
   {
    "duration": 3,
    "start_time": "2022-04-07T08:22:34.784Z"
   },
   {
    "duration": 10,
    "start_time": "2022-04-07T08:27:17.293Z"
   },
   {
    "duration": 9,
    "start_time": "2022-04-07T08:27:32.398Z"
   },
   {
    "duration": 25,
    "start_time": "2022-04-07T08:28:23.717Z"
   },
   {
    "duration": 30,
    "start_time": "2022-04-07T08:31:21.147Z"
   },
   {
    "duration": 12,
    "start_time": "2022-04-07T08:31:57.155Z"
   },
   {
    "duration": 35,
    "start_time": "2022-04-07T08:32:07.747Z"
   },
   {
    "duration": 25,
    "start_time": "2022-04-07T08:32:21.970Z"
   },
   {
    "duration": 25,
    "start_time": "2022-04-07T08:32:33.338Z"
   },
   {
    "duration": 17,
    "start_time": "2022-04-07T08:33:12.411Z"
   },
   {
    "duration": 19,
    "start_time": "2022-04-07T08:34:09.849Z"
   },
   {
    "duration": 18,
    "start_time": "2022-04-07T08:34:38.505Z"
   },
   {
    "duration": 17,
    "start_time": "2022-04-07T08:45:09.134Z"
   },
   {
    "duration": 16,
    "start_time": "2022-04-07T08:46:20.182Z"
   },
   {
    "duration": 9,
    "start_time": "2022-04-07T08:49:19.036Z"
   },
   {
    "duration": 8,
    "start_time": "2022-04-07T08:49:48.739Z"
   },
   {
    "duration": 14,
    "start_time": "2022-04-07T08:50:20.443Z"
   },
   {
    "duration": 1620,
    "start_time": "2022-04-07T08:50:42.611Z"
   },
   {
    "duration": 548,
    "start_time": "2022-04-07T08:50:59.115Z"
   },
   {
    "duration": 6,
    "start_time": "2022-04-07T08:51:11.258Z"
   },
   {
    "duration": 16,
    "start_time": "2022-04-07T08:51:35.474Z"
   },
   {
    "duration": 21,
    "start_time": "2022-04-07T08:52:28.058Z"
   },
   {
    "duration": 72,
    "start_time": "2022-04-07T10:48:28.452Z"
   },
   {
    "duration": 2336,
    "start_time": "2022-04-07T10:48:36.131Z"
   },
   {
    "duration": 779,
    "start_time": "2022-04-07T10:48:38.470Z"
   },
   {
    "duration": 1245,
    "start_time": "2022-04-07T10:48:39.251Z"
   },
   {
    "duration": 14,
    "start_time": "2022-04-07T10:48:40.500Z"
   },
   {
    "duration": 28,
    "start_time": "2022-04-07T10:48:40.516Z"
   },
   {
    "duration": 16,
    "start_time": "2022-04-07T10:48:40.547Z"
   },
   {
    "duration": 14,
    "start_time": "2022-04-07T10:48:40.584Z"
   },
   {
    "duration": 7,
    "start_time": "2022-04-07T10:48:40.600Z"
   },
   {
    "duration": 9,
    "start_time": "2022-04-07T10:48:40.609Z"
   },
   {
    "duration": 8,
    "start_time": "2022-04-07T10:48:40.622Z"
   },
   {
    "duration": 7,
    "start_time": "2022-04-07T10:48:40.632Z"
   },
   {
    "duration": 52,
    "start_time": "2022-04-07T10:48:40.642Z"
   },
   {
    "duration": 29,
    "start_time": "2022-04-07T10:48:40.696Z"
   },
   {
    "duration": 21,
    "start_time": "2022-04-07T10:48:40.727Z"
   },
   {
    "duration": 38,
    "start_time": "2022-04-07T10:48:40.750Z"
   },
   {
    "duration": 350,
    "start_time": "2022-04-07T10:48:40.790Z"
   },
   {
    "duration": 1465,
    "start_time": "2022-04-07T10:48:41.143Z"
   },
   {
    "duration": 15,
    "start_time": "2022-04-07T10:48:42.610Z"
   },
   {
    "duration": 226,
    "start_time": "2022-04-07T10:48:42.628Z"
   },
   {
    "duration": 4,
    "start_time": "2022-04-07T10:48:42.856Z"
   },
   {
    "duration": 22,
    "start_time": "2022-04-07T10:48:42.862Z"
   },
   {
    "duration": 13,
    "start_time": "2022-04-07T10:48:42.886Z"
   },
   {
    "duration": 5692,
    "start_time": "2022-04-07T10:48:42.901Z"
   },
   {
    "duration": 5,
    "start_time": "2022-04-07T10:48:48.685Z"
   },
   {
    "duration": 26,
    "start_time": "2022-04-07T10:48:48.692Z"
   },
   {
    "duration": 11,
    "start_time": "2022-04-07T10:48:48.720Z"
   },
   {
    "duration": 204,
    "start_time": "2022-04-07T10:48:48.733Z"
   },
   {
    "duration": 24,
    "start_time": "2022-04-07T10:56:05.996Z"
   },
   {
    "duration": 28,
    "start_time": "2022-04-07T10:56:43.291Z"
   },
   {
    "duration": 22,
    "start_time": "2022-04-07T10:56:56.404Z"
   },
   {
    "duration": 11,
    "start_time": "2022-04-07T10:56:58.178Z"
   },
   {
    "duration": 41347,
    "start_time": "2022-04-07T10:57:20.938Z"
   },
   {
    "duration": 7,
    "start_time": "2022-04-07T11:03:28.759Z"
   },
   {
    "duration": 5245,
    "start_time": "2022-04-07T11:03:30.939Z"
   },
   {
    "duration": 5,
    "start_time": "2022-04-07T11:03:51.534Z"
   },
   {
    "duration": 44537,
    "start_time": "2022-04-07T11:05:16.047Z"
   },
   {
    "duration": 24,
    "start_time": "2022-04-07T11:07:14.613Z"
   },
   {
    "duration": 36054,
    "start_time": "2022-04-07T11:07:22.212Z"
   },
   {
    "duration": 35734,
    "start_time": "2022-04-07T11:08:00.453Z"
   },
   {
    "duration": 14,
    "start_time": "2022-04-07T11:08:49.052Z"
   },
   {
    "duration": 6,
    "start_time": "2022-04-07T11:09:13.548Z"
   },
   {
    "duration": 12,
    "start_time": "2022-04-07T11:09:57.108Z"
   },
   {
    "duration": 6,
    "start_time": "2022-04-07T11:10:01.244Z"
   },
   {
    "duration": 35276,
    "start_time": "2022-04-07T11:10:21.412Z"
   },
   {
    "duration": 2495,
    "start_time": "2022-04-07T11:15:04.658Z"
   },
   {
    "duration": 2110,
    "start_time": "2022-04-07T11:16:08.113Z"
   },
   {
    "duration": 140,
    "start_time": "2022-04-07T11:16:38.776Z"
   },
   {
    "duration": 122,
    "start_time": "2022-04-07T11:17:24.704Z"
   },
   {
    "duration": 26,
    "start_time": "2022-04-07T11:17:42.968Z"
   },
   {
    "duration": 26,
    "start_time": "2022-04-07T11:17:53.809Z"
   },
   {
    "duration": 222,
    "start_time": "2022-04-07T11:18:01.368Z"
   },
   {
    "duration": 24,
    "start_time": "2022-04-07T11:18:16.199Z"
   },
   {
    "duration": 13,
    "start_time": "2022-04-07T11:18:30.721Z"
   },
   {
    "duration": 120,
    "start_time": "2022-04-07T11:19:11.992Z"
   },
   {
    "duration": 13,
    "start_time": "2022-04-07T11:21:10.640Z"
   },
   {
    "duration": 24,
    "start_time": "2022-04-07T11:21:32.967Z"
   },
   {
    "duration": 3,
    "start_time": "2022-04-07T11:21:35.975Z"
   },
   {
    "duration": 29,
    "start_time": "2022-04-07T11:22:05.984Z"
   },
   {
    "duration": 37199,
    "start_time": "2022-04-07T11:23:43.287Z"
   },
   {
    "duration": 72031,
    "start_time": "2022-04-07T11:28:17.555Z"
   },
   {
    "duration": 7,
    "start_time": "2022-04-07T11:29:35.131Z"
   },
   {
    "duration": 5,
    "start_time": "2022-04-07T11:29:47.170Z"
   },
   {
    "duration": 88143,
    "start_time": "2022-04-07T11:30:24.547Z"
   },
   {
    "duration": 71922,
    "start_time": "2022-04-07T11:32:03.966Z"
   },
   {
    "duration": 6,
    "start_time": "2022-04-07T11:33:28.154Z"
   },
   {
    "duration": 74051,
    "start_time": "2022-04-07T11:33:31.040Z"
   },
   {
    "duration": 0,
    "start_time": "2022-04-07T11:34:45.093Z"
   },
   {
    "duration": 12,
    "start_time": "2022-04-07T11:34:48.634Z"
   },
   {
    "duration": 21,
    "start_time": "2022-04-07T11:35:09.168Z"
   },
   {
    "duration": 12,
    "start_time": "2022-04-07T11:35:16.314Z"
   },
   {
    "duration": 12,
    "start_time": "2022-04-07T11:35:26.360Z"
   },
   {
    "duration": 139,
    "start_time": "2022-04-07T11:35:32.664Z"
   },
   {
    "duration": 13,
    "start_time": "2022-04-07T11:35:40.967Z"
   },
   {
    "duration": 9,
    "start_time": "2022-04-07T11:35:55.640Z"
   },
   {
    "duration": 153,
    "start_time": "2022-04-07T11:36:10.551Z"
   },
   {
    "duration": 11,
    "start_time": "2022-04-07T11:36:21.840Z"
   },
   {
    "duration": 10,
    "start_time": "2022-04-07T11:36:35.994Z"
   },
   {
    "duration": 12,
    "start_time": "2022-04-07T11:37:35.565Z"
   },
   {
    "duration": 16,
    "start_time": "2022-04-07T11:37:48.352Z"
   },
   {
    "duration": 13,
    "start_time": "2022-04-07T11:37:53.696Z"
   },
   {
    "duration": 11,
    "start_time": "2022-04-07T11:38:34.559Z"
   },
   {
    "duration": 21,
    "start_time": "2022-04-07T11:39:03.710Z"
   },
   {
    "duration": 13,
    "start_time": "2022-04-07T11:40:08.583Z"
   },
   {
    "duration": 19,
    "start_time": "2022-04-07T11:40:13.847Z"
   },
   {
    "duration": 11,
    "start_time": "2022-04-07T11:40:31.157Z"
   },
   {
    "duration": 6,
    "start_time": "2022-04-07T11:43:19.933Z"
   },
   {
    "duration": 22,
    "start_time": "2022-04-07T11:44:03.261Z"
   },
   {
    "duration": 13,
    "start_time": "2022-04-07T11:45:32.924Z"
   },
   {
    "duration": 5,
    "start_time": "2022-04-07T11:46:17.404Z"
   },
   {
    "duration": 72261,
    "start_time": "2022-04-07T11:46:22.628Z"
   },
   {
    "duration": 71691,
    "start_time": "2022-04-07T11:48:00.283Z"
   },
   {
    "duration": 19,
    "start_time": "2022-04-07T11:49:47.305Z"
   },
   {
    "duration": 71777,
    "start_time": "2022-04-07T11:50:05.993Z"
   },
   {
    "duration": 57873,
    "start_time": "2022-04-07T11:54:33.679Z"
   },
   {
    "duration": 125,
    "start_time": "2022-04-07T15:02:58.080Z"
   },
   {
    "duration": 2390,
    "start_time": "2022-04-07T15:03:06.018Z"
   },
   {
    "duration": 773,
    "start_time": "2022-04-07T15:03:08.411Z"
   },
   {
    "duration": 1063,
    "start_time": "2022-04-07T15:03:09.186Z"
   },
   {
    "duration": 35,
    "start_time": "2022-04-07T15:03:10.252Z"
   },
   {
    "duration": 16,
    "start_time": "2022-04-07T15:03:10.289Z"
   },
   {
    "duration": 20,
    "start_time": "2022-04-07T15:03:10.308Z"
   },
   {
    "duration": 20,
    "start_time": "2022-04-07T15:03:10.330Z"
   },
   {
    "duration": 8,
    "start_time": "2022-04-07T15:03:10.383Z"
   },
   {
    "duration": 11,
    "start_time": "2022-04-07T15:03:10.393Z"
   },
   {
    "duration": 8,
    "start_time": "2022-04-07T15:03:10.408Z"
   },
   {
    "duration": 6,
    "start_time": "2022-04-07T15:03:10.418Z"
   },
   {
    "duration": 60,
    "start_time": "2022-04-07T15:03:10.426Z"
   },
   {
    "duration": 31,
    "start_time": "2022-04-07T15:03:10.488Z"
   },
   {
    "duration": 21,
    "start_time": "2022-04-07T15:03:10.521Z"
   },
   {
    "duration": 40,
    "start_time": "2022-04-07T15:03:10.544Z"
   },
   {
    "duration": 353,
    "start_time": "2022-04-07T15:03:10.586Z"
   },
   {
    "duration": 1513,
    "start_time": "2022-04-07T15:03:10.941Z"
   },
   {
    "duration": 28,
    "start_time": "2022-04-07T15:03:12.456Z"
   },
   {
    "duration": 221,
    "start_time": "2022-04-07T15:03:12.486Z"
   },
   {
    "duration": 3,
    "start_time": "2022-04-07T15:03:12.710Z"
   },
   {
    "duration": 9,
    "start_time": "2022-04-07T15:03:12.715Z"
   },
   {
    "duration": 15,
    "start_time": "2022-04-07T15:03:12.727Z"
   },
   {
    "duration": 5148,
    "start_time": "2022-04-07T15:03:12.745Z"
   },
   {
    "duration": 6,
    "start_time": "2022-04-07T15:03:17.985Z"
   },
   {
    "duration": 6,
    "start_time": "2022-04-07T15:03:17.993Z"
   },
   {
    "duration": 6,
    "start_time": "2022-04-07T15:03:18.002Z"
   },
   {
    "duration": 677958,
    "start_time": "2022-04-07T15:03:18.011Z"
   },
   {
    "duration": 7,
    "start_time": "2022-04-07T15:17:44.911Z"
   },
   {
    "duration": 6,
    "start_time": "2022-04-07T15:17:47.060Z"
   },
   {
    "duration": 5650,
    "start_time": "2022-04-07T15:17:49.834Z"
   },
   {
    "duration": 6,
    "start_time": "2022-04-07T15:18:06.371Z"
   },
   {
    "duration": 6,
    "start_time": "2022-04-07T15:19:41.960Z"
   },
   {
    "duration": 5479,
    "start_time": "2022-04-07T15:19:44.605Z"
   },
   {
    "duration": 6,
    "start_time": "2022-04-07T15:19:52.833Z"
   },
   {
    "duration": 6,
    "start_time": "2022-04-07T15:21:05.805Z"
   },
   {
    "duration": 6314,
    "start_time": "2022-04-07T15:21:08.570Z"
   },
   {
    "duration": 6,
    "start_time": "2022-04-07T15:21:17.959Z"
   },
   {
    "duration": 134,
    "start_time": "2022-04-07T15:22:04.663Z"
   },
   {
    "duration": 5248,
    "start_time": "2022-04-07T15:23:31.942Z"
   },
   {
    "duration": 5,
    "start_time": "2022-04-07T15:23:39.636Z"
   },
   {
    "duration": 80539,
    "start_time": "2022-04-07T15:24:35.599Z"
   },
   {
    "duration": 2617,
    "start_time": "2022-04-07T15:30:23.613Z"
   },
   {
    "duration": 1261,
    "start_time": "2022-04-07T15:30:26.234Z"
   },
   {
    "duration": 1529,
    "start_time": "2022-04-07T15:30:27.498Z"
   },
   {
    "duration": 15,
    "start_time": "2022-04-07T15:30:29.030Z"
   },
   {
    "duration": 53,
    "start_time": "2022-04-07T15:30:29.047Z"
   },
   {
    "duration": 25,
    "start_time": "2022-04-07T15:30:29.102Z"
   },
   {
    "duration": 22,
    "start_time": "2022-04-07T15:30:29.130Z"
   },
   {
    "duration": 31,
    "start_time": "2022-04-07T15:30:29.155Z"
   },
   {
    "duration": 8,
    "start_time": "2022-04-07T15:30:29.189Z"
   },
   {
    "duration": 13,
    "start_time": "2022-04-07T15:30:29.202Z"
   },
   {
    "duration": 5,
    "start_time": "2022-04-07T15:30:29.218Z"
   },
   {
    "duration": 18,
    "start_time": "2022-04-07T15:30:29.225Z"
   },
   {
    "duration": 66,
    "start_time": "2022-04-07T15:30:29.245Z"
   },
   {
    "duration": 19,
    "start_time": "2022-04-07T15:30:29.313Z"
   },
   {
    "duration": 23,
    "start_time": "2022-04-07T15:30:29.334Z"
   },
   {
    "duration": 420,
    "start_time": "2022-04-07T15:30:29.359Z"
   },
   {
    "duration": 1479,
    "start_time": "2022-04-07T15:30:29.785Z"
   },
   {
    "duration": 25,
    "start_time": "2022-04-07T15:30:31.267Z"
   },
   {
    "duration": 327,
    "start_time": "2022-04-07T15:30:31.294Z"
   },
   {
    "duration": 10,
    "start_time": "2022-04-07T15:30:31.624Z"
   },
   {
    "duration": 94,
    "start_time": "2022-04-07T15:30:31.637Z"
   },
   {
    "duration": 6353,
    "start_time": "2022-04-07T15:30:31.734Z"
   },
   {
    "duration": 7,
    "start_time": "2022-04-07T15:30:38.090Z"
   },
   {
    "duration": 5,
    "start_time": "2022-04-07T15:30:38.100Z"
   },
   {
    "duration": 74,
    "start_time": "2022-04-07T15:30:38.109Z"
   },
   {
    "duration": 243965,
    "start_time": "2022-04-07T15:30:38.186Z"
   },
   {
    "duration": 108926,
    "start_time": "2022-04-07T15:34:49.870Z"
   },
   {
    "duration": 0,
    "start_time": "2022-04-07T15:44:43.745Z"
   },
   {
    "duration": 0,
    "start_time": "2022-04-07T15:44:43.746Z"
   },
   {
    "duration": 82998,
    "start_time": "2022-04-07T15:44:48.188Z"
   },
   {
    "duration": 18,
    "start_time": "2022-04-07T15:46:11.188Z"
   },
   {
    "duration": 2613,
    "start_time": "2022-04-07T15:46:16.956Z"
   },
   {
    "duration": 2836,
    "start_time": "2022-04-07T15:46:19.572Z"
   },
   {
    "duration": 1439,
    "start_time": "2022-04-07T15:46:22.411Z"
   },
   {
    "duration": 44,
    "start_time": "2022-04-07T15:46:23.854Z"
   },
   {
    "duration": 34,
    "start_time": "2022-04-07T15:46:23.901Z"
   },
   {
    "duration": 24,
    "start_time": "2022-04-07T15:46:23.937Z"
   },
   {
    "duration": 25,
    "start_time": "2022-04-07T15:46:23.963Z"
   },
   {
    "duration": 30,
    "start_time": "2022-04-07T15:46:23.991Z"
   },
   {
    "duration": 27,
    "start_time": "2022-04-07T15:46:24.024Z"
   },
   {
    "duration": 15,
    "start_time": "2022-04-07T15:46:24.056Z"
   },
   {
    "duration": 6,
    "start_time": "2022-04-07T15:46:24.074Z"
   },
   {
    "duration": 48,
    "start_time": "2022-04-07T15:46:24.084Z"
   },
   {
    "duration": 31,
    "start_time": "2022-04-07T15:46:24.134Z"
   },
   {
    "duration": 24,
    "start_time": "2022-04-07T15:46:24.168Z"
   },
   {
    "duration": 34,
    "start_time": "2022-04-07T15:46:24.195Z"
   },
   {
    "duration": 389,
    "start_time": "2022-04-07T15:46:24.232Z"
   },
   {
    "duration": 1727,
    "start_time": "2022-04-07T15:46:24.624Z"
   },
   {
    "duration": 16,
    "start_time": "2022-04-07T15:46:26.353Z"
   },
   {
    "duration": 232,
    "start_time": "2022-04-07T15:46:26.371Z"
   },
   {
    "duration": 6,
    "start_time": "2022-04-07T15:46:26.606Z"
   },
   {
    "duration": 19,
    "start_time": "2022-04-07T15:46:26.615Z"
   },
   {
    "duration": 7046,
    "start_time": "2022-04-07T15:46:26.637Z"
   },
   {
    "duration": 6,
    "start_time": "2022-04-07T15:46:33.685Z"
   },
   {
    "duration": 46,
    "start_time": "2022-04-07T15:46:33.693Z"
   },
   {
    "duration": 3,
    "start_time": "2022-04-07T15:46:33.742Z"
   },
   {
    "duration": 69471,
    "start_time": "2022-04-07T15:46:33.747Z"
   },
   {
    "duration": 256963,
    "start_time": "2022-04-07T15:47:43.221Z"
   },
   {
    "duration": 8,
    "start_time": "2022-04-07T15:52:18.343Z"
   },
   {
    "duration": 952813,
    "start_time": "2022-04-07T15:52:52.171Z"
   },
   {
    "duration": 6,
    "start_time": "2022-04-07T16:35:11.593Z"
   },
   {
    "duration": 6,
    "start_time": "2022-04-07T16:35:51.406Z"
   },
   {
    "duration": 4,
    "start_time": "2022-04-07T17:49:56.822Z"
   },
   {
    "duration": 6,
    "start_time": "2022-04-07T17:50:01.483Z"
   },
   {
    "duration": 4,
    "start_time": "2022-04-07T17:50:51.677Z"
   },
   {
    "duration": 6,
    "start_time": "2022-04-07T17:50:56.263Z"
   },
   {
    "duration": 8,
    "start_time": "2022-04-07T17:51:13.792Z"
   },
   {
    "duration": 1747,
    "start_time": "2022-04-07T17:51:13.803Z"
   },
   {
    "duration": 1043,
    "start_time": "2022-04-07T17:51:15.552Z"
   },
   {
    "duration": 13,
    "start_time": "2022-04-07T17:51:16.597Z"
   },
   {
    "duration": 14,
    "start_time": "2022-04-07T17:51:16.613Z"
   },
   {
    "duration": 16,
    "start_time": "2022-04-07T17:51:16.629Z"
   },
   {
    "duration": 44,
    "start_time": "2022-04-07T17:51:16.647Z"
   },
   {
    "duration": 6,
    "start_time": "2022-04-07T17:51:16.693Z"
   },
   {
    "duration": 7,
    "start_time": "2022-04-07T17:51:16.701Z"
   },
   {
    "duration": 11,
    "start_time": "2022-04-07T17:51:16.710Z"
   },
   {
    "duration": 8,
    "start_time": "2022-04-07T17:51:16.723Z"
   },
   {
    "duration": 51,
    "start_time": "2022-04-07T17:51:16.733Z"
   },
   {
    "duration": 26,
    "start_time": "2022-04-07T17:51:16.786Z"
   },
   {
    "duration": 19,
    "start_time": "2022-04-07T17:51:16.818Z"
   },
   {
    "duration": 13,
    "start_time": "2022-04-07T17:51:16.840Z"
   },
   {
    "duration": 356,
    "start_time": "2022-04-07T17:51:16.885Z"
   },
   {
    "duration": 1500,
    "start_time": "2022-04-07T17:51:17.243Z"
   },
   {
    "duration": 15,
    "start_time": "2022-04-07T17:51:18.745Z"
   },
   {
    "duration": 224,
    "start_time": "2022-04-07T17:51:18.762Z"
   },
   {
    "duration": 7,
    "start_time": "2022-04-07T17:51:18.988Z"
   },
   {
    "duration": 23,
    "start_time": "2022-04-07T17:51:18.997Z"
   },
   {
    "duration": 5270,
    "start_time": "2022-04-07T17:51:19.022Z"
   },
   {
    "duration": 6,
    "start_time": "2022-04-07T17:51:37.107Z"
   },
   {
    "duration": 2234,
    "start_time": "2022-04-08T05:18:21.358Z"
   },
   {
    "duration": 1158,
    "start_time": "2022-04-08T05:18:23.594Z"
   },
   {
    "duration": 1574,
    "start_time": "2022-04-08T05:18:24.755Z"
   },
   {
    "duration": 30,
    "start_time": "2022-04-08T05:18:26.333Z"
   },
   {
    "duration": 20,
    "start_time": "2022-04-08T05:18:26.366Z"
   },
   {
    "duration": 56,
    "start_time": "2022-04-08T05:18:26.389Z"
   },
   {
    "duration": 18,
    "start_time": "2022-04-08T05:18:26.448Z"
   },
   {
    "duration": 8,
    "start_time": "2022-04-08T05:18:26.469Z"
   },
   {
    "duration": 10,
    "start_time": "2022-04-08T05:18:26.480Z"
   },
   {
    "duration": 46,
    "start_time": "2022-04-08T05:18:26.497Z"
   },
   {
    "duration": 3,
    "start_time": "2022-04-08T05:18:26.546Z"
   },
   {
    "duration": 21,
    "start_time": "2022-04-08T05:18:26.552Z"
   },
   {
    "duration": 39,
    "start_time": "2022-04-08T05:18:26.576Z"
   },
   {
    "duration": 45,
    "start_time": "2022-04-08T05:18:26.618Z"
   },
   {
    "duration": 20,
    "start_time": "2022-04-08T05:18:26.665Z"
   },
   {
    "duration": 537,
    "start_time": "2022-04-08T05:18:26.688Z"
   },
   {
    "duration": 2505,
    "start_time": "2022-04-08T05:18:27.228Z"
   },
   {
    "duration": 26,
    "start_time": "2022-04-08T05:18:29.736Z"
   },
   {
    "duration": 328,
    "start_time": "2022-04-08T05:18:29.765Z"
   },
   {
    "duration": 9,
    "start_time": "2022-04-08T05:18:30.097Z"
   },
   {
    "duration": 11,
    "start_time": "2022-04-08T05:18:30.109Z"
   },
   {
    "duration": 6128,
    "start_time": "2022-04-08T05:18:30.123Z"
   },
   {
    "duration": 92,
    "start_time": "2022-04-08T05:18:36.254Z"
   },
   {
    "duration": 18,
    "start_time": "2022-04-08T05:18:36.349Z"
   },
   {
    "duration": 3,
    "start_time": "2022-04-08T05:18:36.369Z"
   },
   {
    "duration": 716072,
    "start_time": "2022-04-08T05:18:36.374Z"
   },
   {
    "duration": 94,
    "start_time": "2022-04-08T05:30:32.450Z"
   },
   {
    "duration": 7,
    "start_time": "2022-04-08T05:30:41.382Z"
   },
   {
    "duration": 694035,
    "start_time": "2022-04-08T05:32:36.308Z"
   },
   {
    "duration": 97,
    "start_time": "2022-04-08T05:44:10.347Z"
   },
   {
    "duration": 208,
    "start_time": "2022-04-08T05:47:54.494Z"
   },
   {
    "duration": 628,
    "start_time": "2022-04-08T05:48:45.091Z"
   },
   {
    "duration": 6,
    "start_time": "2022-04-08T05:49:02.651Z"
   },
   {
    "duration": 593,
    "start_time": "2022-04-08T05:54:08.530Z"
   },
   {
    "duration": 584,
    "start_time": "2022-04-08T05:54:15.041Z"
   },
   {
    "duration": 619,
    "start_time": "2022-04-08T05:54:24.009Z"
   },
   {
    "duration": 687,
    "start_time": "2022-04-08T05:54:29.345Z"
   },
   {
    "duration": 438,
    "start_time": "2022-04-08T05:56:14.105Z"
   },
   {
    "duration": 352,
    "start_time": "2022-04-08T05:56:28.393Z"
   },
   {
    "duration": 647,
    "start_time": "2022-04-08T05:57:20.880Z"
   },
   {
    "duration": 3076,
    "start_time": "2022-04-08T06:04:38.384Z"
   },
   {
    "duration": 283,
    "start_time": "2022-04-08T06:05:48.053Z"
   },
   {
    "duration": 17,
    "start_time": "2022-04-08T06:07:03.165Z"
   },
   {
    "duration": 6506,
    "start_time": "2022-04-08T06:08:43.644Z"
   },
   {
    "duration": 8,
    "start_time": "2022-04-08T06:08:52.635Z"
   },
   {
    "duration": 9,
    "start_time": "2022-04-08T06:08:55.206Z"
   },
   {
    "duration": 169,
    "start_time": "2022-04-08T06:09:02.724Z"
   },
   {
    "duration": 1121,
    "start_time": "2022-04-08T06:25:18.501Z"
   },
   {
    "duration": 599,
    "start_time": "2022-04-08T06:37:54.932Z"
   },
   {
    "duration": 706,
    "start_time": "2022-04-08T06:38:00.245Z"
   },
   {
    "duration": 827,
    "start_time": "2022-04-08T06:38:06.805Z"
   },
   {
    "duration": 776,
    "start_time": "2022-04-08T06:38:12.150Z"
   },
   {
    "duration": 1729,
    "start_time": "2022-04-08T06:38:19.150Z"
   },
   {
    "duration": 7185,
    "start_time": "2022-04-08T06:38:38.340Z"
   },
   {
    "duration": 7,
    "start_time": "2022-04-08T06:39:00.054Z"
   },
   {
    "duration": 10611,
    "start_time": "2022-04-08T06:39:59.116Z"
   },
   {
    "duration": 10470,
    "start_time": "2022-04-08T06:40:15.357Z"
   },
   {
    "duration": 9839,
    "start_time": "2022-04-08T06:40:30.284Z"
   },
   {
    "duration": 9904,
    "start_time": "2022-04-08T06:40:45.109Z"
   },
   {
    "duration": 369,
    "start_time": "2022-04-08T06:44:36.788Z"
   },
   {
    "duration": 261726,
    "start_time": "2022-04-08T06:44:56.301Z"
   },
   {
    "duration": 92,
    "start_time": "2022-04-08T06:53:16.632Z"
   },
   {
    "duration": 2695,
    "start_time": "2022-04-08T06:53:41.295Z"
   },
   {
    "duration": 10611,
    "start_time": "2022-04-08T06:54:58.311Z"
   },
   {
    "duration": 4869,
    "start_time": "2022-04-08T06:56:43.556Z"
   },
   {
    "duration": 9799,
    "start_time": "2022-04-08T06:57:15.445Z"
   },
   {
    "duration": 9960,
    "start_time": "2022-04-08T06:57:28.756Z"
   },
   {
    "duration": 10201,
    "start_time": "2022-04-08T06:58:54.429Z"
   },
   {
    "duration": 10256,
    "start_time": "2022-04-08T06:59:09.348Z"
   },
   {
    "duration": 138841,
    "start_time": "2022-04-08T07:01:39.061Z"
   },
   {
    "duration": 7,
    "start_time": "2022-04-08T07:04:41.122Z"
   },
   {
    "duration": 139992,
    "start_time": "2022-04-08T07:12:53.904Z"
   },
   {
    "duration": 6,
    "start_time": "2022-04-08T07:15:20.261Z"
   },
   {
    "duration": 495,
    "start_time": "2022-04-08T07:16:42.855Z"
   },
   {
    "duration": 242374,
    "start_time": "2022-04-08T07:17:24.494Z"
   },
   {
    "duration": 8658,
    "start_time": "2022-04-08T07:26:06.961Z"
   },
   {
    "duration": 766363,
    "start_time": "2022-04-08T07:27:29.529Z"
   },
   {
    "duration": 6,
    "start_time": "2022-04-08T07:40:58.194Z"
   },
   {
    "duration": 6,
    "start_time": "2022-04-08T07:41:26.515Z"
   },
   {
    "duration": 30762,
    "start_time": "2022-04-08T07:41:31.635Z"
   },
   {
    "duration": 29791,
    "start_time": "2022-04-08T07:44:07.633Z"
   },
   {
    "duration": 203,
    "start_time": "2022-04-08T07:48:59.735Z"
   },
   {
    "duration": 16,
    "start_time": "2022-04-08T07:49:27.176Z"
   },
   {
    "duration": 14,
    "start_time": "2022-04-08T07:50:34.729Z"
   },
   {
    "duration": 17864,
    "start_time": "2022-04-08T07:50:51.199Z"
   },
   {
    "duration": 348441,
    "start_time": "2022-04-08T07:52:10.575Z"
   },
   {
    "duration": 1703328,
    "start_time": "2022-04-08T07:59:30.515Z"
   },
   {
    "duration": 887693,
    "start_time": "2022-04-08T08:29:08.837Z"
   },
   {
    "duration": 6,
    "start_time": "2022-04-08T08:44:00.182Z"
   },
   {
    "duration": 3139770,
    "start_time": "2022-04-08T08:48:25.006Z"
   },
   {
    "duration": 22,
    "start_time": "2022-04-08T09:43:20.204Z"
   },
   {
    "duration": 39,
    "start_time": "2022-04-08T09:44:58.539Z"
   },
   {
    "duration": 4,
    "start_time": "2022-04-08T09:45:23.171Z"
   },
   {
    "duration": 20,
    "start_time": "2022-04-08T09:46:22.483Z"
   },
   {
    "duration": 189,
    "start_time": "2022-04-08T09:48:21.513Z"
   },
   {
    "duration": 17,
    "start_time": "2022-04-08T09:48:32.346Z"
   },
   {
    "duration": 422,
    "start_time": "2022-04-08T09:48:44.322Z"
   },
   {
    "duration": 17,
    "start_time": "2022-04-08T09:50:37.394Z"
   },
   {
    "duration": 408,
    "start_time": "2022-04-08T09:51:41.242Z"
   },
   {
    "duration": 21,
    "start_time": "2022-04-08T09:52:26.266Z"
   },
   {
    "duration": 31,
    "start_time": "2022-04-08T09:53:39.671Z"
   },
   {
    "duration": 15,
    "start_time": "2022-04-08T09:53:49.239Z"
   },
   {
    "duration": 984,
    "start_time": "2022-04-08T09:54:20.998Z"
   },
   {
    "duration": 213,
    "start_time": "2022-04-08T09:59:06.029Z"
   },
   {
    "duration": 157,
    "start_time": "2022-04-08T09:59:14.302Z"
   },
   {
    "duration": 209,
    "start_time": "2022-04-08T09:59:26.151Z"
   },
   {
    "duration": 5,
    "start_time": "2022-04-08T10:00:38.284Z"
   },
   {
    "duration": 8228,
    "start_time": "2022-04-08T10:09:21.855Z"
   },
   {
    "duration": 1944,
    "start_time": "2022-04-08T10:10:26.253Z"
   },
   {
    "duration": 844,
    "start_time": "2022-04-08T10:10:28.200Z"
   },
   {
    "duration": 1029,
    "start_time": "2022-04-08T10:10:29.047Z"
   },
   {
    "duration": 14,
    "start_time": "2022-04-08T10:10:30.079Z"
   },
   {
    "duration": 23,
    "start_time": "2022-04-08T10:10:30.095Z"
   },
   {
    "duration": 19,
    "start_time": "2022-04-08T10:10:30.144Z"
   },
   {
    "duration": 14,
    "start_time": "2022-04-08T10:10:30.165Z"
   },
   {
    "duration": 6,
    "start_time": "2022-04-08T10:10:30.181Z"
   },
   {
    "duration": 30,
    "start_time": "2022-04-08T10:10:30.189Z"
   },
   {
    "duration": 43,
    "start_time": "2022-04-08T10:10:30.223Z"
   },
   {
    "duration": 18,
    "start_time": "2022-04-08T10:10:30.268Z"
   },
   {
    "duration": 30,
    "start_time": "2022-04-08T10:10:30.288Z"
   },
   {
    "duration": 21,
    "start_time": "2022-04-08T10:10:30.320Z"
   },
   {
    "duration": 18,
    "start_time": "2022-04-08T10:10:30.348Z"
   },
   {
    "duration": 356,
    "start_time": "2022-04-08T10:10:30.368Z"
   },
   {
    "duration": 1538,
    "start_time": "2022-04-08T10:10:30.726Z"
   },
   {
    "duration": 16,
    "start_time": "2022-04-08T10:10:32.266Z"
   },
   {
    "duration": 292,
    "start_time": "2022-04-08T10:10:32.284Z"
   },
   {
    "duration": 6,
    "start_time": "2022-04-08T10:10:32.578Z"
   },
   {
    "duration": 15,
    "start_time": "2022-04-08T10:10:32.586Z"
   },
   {
    "duration": 13,
    "start_time": "2022-04-08T10:10:32.604Z"
   },
   {
    "duration": 9448,
    "start_time": "2022-04-08T10:10:32.619Z"
   },
   {
    "duration": 11,
    "start_time": "2022-04-08T10:10:42.147Z"
   },
   {
    "duration": 8,
    "start_time": "2022-04-08T10:10:42.160Z"
   },
   {
    "duration": 6,
    "start_time": "2022-04-08T10:10:42.170Z"
   },
   {
    "duration": 1017885,
    "start_time": "2022-04-08T10:10:42.178Z"
   },
   {
    "duration": 94,
    "start_time": "2022-04-08T10:27:40.067Z"
   },
   {
    "duration": 8212,
    "start_time": "2022-04-08T10:27:40.168Z"
   },
   {
    "duration": 100008,
    "start_time": "2022-04-08T10:27:48.382Z"
   },
   {
    "duration": 7,
    "start_time": "2022-04-08T10:29:28.393Z"
   },
   {
    "duration": 3145395,
    "start_time": "2022-04-08T10:29:28.402Z"
   },
   {
    "duration": 219,
    "start_time": "2022-04-08T11:21:53.800Z"
   },
   {
    "duration": 0,
    "start_time": "2022-04-08T11:21:54.022Z"
   },
   {
    "duration": 0,
    "start_time": "2022-04-08T11:21:54.023Z"
   },
   {
    "duration": 0,
    "start_time": "2022-04-08T11:21:54.025Z"
   },
   {
    "duration": 0,
    "start_time": "2022-04-08T11:21:54.026Z"
   },
   {
    "duration": 34,
    "start_time": "2022-04-08T11:22:42.809Z"
   },
   {
    "duration": 16,
    "start_time": "2022-04-08T11:22:43.897Z"
   },
   {
    "duration": 1243,
    "start_time": "2022-04-08T11:22:44.753Z"
   },
   {
    "duration": 2027,
    "start_time": "2022-04-08T11:32:23.335Z"
   },
   {
    "duration": 875,
    "start_time": "2022-04-08T11:32:25.364Z"
   },
   {
    "duration": 1041,
    "start_time": "2022-04-08T11:32:26.244Z"
   },
   {
    "duration": 14,
    "start_time": "2022-04-08T11:32:27.288Z"
   },
   {
    "duration": 53,
    "start_time": "2022-04-08T11:32:27.305Z"
   },
   {
    "duration": 30,
    "start_time": "2022-04-08T11:32:27.360Z"
   },
   {
    "duration": 27,
    "start_time": "2022-04-08T11:32:27.392Z"
   },
   {
    "duration": 12,
    "start_time": "2022-04-08T11:32:27.421Z"
   },
   {
    "duration": 32,
    "start_time": "2022-04-08T11:32:27.436Z"
   },
   {
    "duration": 31,
    "start_time": "2022-04-08T11:32:27.471Z"
   },
   {
    "duration": 41,
    "start_time": "2022-04-08T11:32:27.504Z"
   },
   {
    "duration": 29,
    "start_time": "2022-04-08T11:32:27.547Z"
   },
   {
    "duration": 18,
    "start_time": "2022-04-08T11:32:27.578Z"
   },
   {
    "duration": 369,
    "start_time": "2022-04-08T11:32:27.599Z"
   },
   {
    "duration": 1542,
    "start_time": "2022-04-08T11:32:27.970Z"
   },
   {
    "duration": 30,
    "start_time": "2022-04-08T11:32:29.514Z"
   },
   {
    "duration": 219,
    "start_time": "2022-04-08T11:32:29.546Z"
   },
   {
    "duration": 7,
    "start_time": "2022-04-08T11:32:29.767Z"
   },
   {
    "duration": 10,
    "start_time": "2022-04-08T11:32:29.777Z"
   },
   {
    "duration": 20,
    "start_time": "2022-04-08T11:32:29.790Z"
   },
   {
    "duration": 9142,
    "start_time": "2022-04-08T11:32:29.812Z"
   },
   {
    "duration": 90,
    "start_time": "2022-04-08T11:32:38.957Z"
   },
   {
    "duration": 1887,
    "start_time": "2022-04-08T11:34:22.586Z"
   },
   {
    "duration": 866,
    "start_time": "2022-04-08T11:34:24.476Z"
   },
   {
    "duration": 1136,
    "start_time": "2022-04-08T11:34:25.348Z"
   },
   {
    "duration": 19,
    "start_time": "2022-04-08T11:34:26.487Z"
   },
   {
    "duration": 47,
    "start_time": "2022-04-08T11:34:26.509Z"
   },
   {
    "duration": 27,
    "start_time": "2022-04-08T11:34:26.559Z"
   },
   {
    "duration": 32,
    "start_time": "2022-04-08T11:34:26.588Z"
   },
   {
    "duration": 8,
    "start_time": "2022-04-08T11:34:26.622Z"
   },
   {
    "duration": 23,
    "start_time": "2022-04-08T11:34:26.633Z"
   },
   {
    "duration": 37,
    "start_time": "2022-04-08T11:34:26.661Z"
   },
   {
    "duration": 46,
    "start_time": "2022-04-08T11:34:26.700Z"
   },
   {
    "duration": 41,
    "start_time": "2022-04-08T11:34:26.748Z"
   },
   {
    "duration": 14,
    "start_time": "2022-04-08T11:34:26.791Z"
   },
   {
    "duration": 339,
    "start_time": "2022-04-08T11:34:26.807Z"
   },
   {
    "duration": 1474,
    "start_time": "2022-04-08T11:34:27.148Z"
   },
   {
    "duration": 24,
    "start_time": "2022-04-08T11:34:28.624Z"
   },
   {
    "duration": 214,
    "start_time": "2022-04-08T11:34:28.652Z"
   },
   {
    "duration": 7,
    "start_time": "2022-04-08T11:34:28.868Z"
   },
   {
    "duration": 34,
    "start_time": "2022-04-08T11:34:28.877Z"
   },
   {
    "duration": 22,
    "start_time": "2022-04-08T11:34:28.913Z"
   },
   {
    "duration": 10713,
    "start_time": "2022-04-08T11:34:28.937Z"
   },
   {
    "duration": 10,
    "start_time": "2022-04-08T11:34:39.652Z"
   },
   {
    "duration": 749585,
    "start_time": "2022-04-08T11:34:39.666Z"
   },
   {
    "duration": 94,
    "start_time": "2022-04-08T11:47:09.254Z"
   },
   {
    "duration": 8241,
    "start_time": "2022-04-08T11:47:09.350Z"
   },
   {
    "duration": 99517,
    "start_time": "2022-04-08T11:47:17.593Z"
   },
   {
    "duration": 5,
    "start_time": "2022-04-08T11:48:57.113Z"
   },
   {
    "duration": 1985,
    "start_time": "2022-04-08T13:15:25.019Z"
   },
   {
    "duration": 813,
    "start_time": "2022-04-08T13:15:27.008Z"
   },
   {
    "duration": 1001,
    "start_time": "2022-04-08T13:15:27.824Z"
   },
   {
    "duration": 15,
    "start_time": "2022-04-08T13:15:28.843Z"
   },
   {
    "duration": 15,
    "start_time": "2022-04-08T13:15:28.860Z"
   },
   {
    "duration": 20,
    "start_time": "2022-04-08T13:15:28.877Z"
   },
   {
    "duration": 46,
    "start_time": "2022-04-08T13:15:28.900Z"
   },
   {
    "duration": 7,
    "start_time": "2022-04-08T13:15:28.948Z"
   },
   {
    "duration": 46,
    "start_time": "2022-04-08T13:15:28.956Z"
   },
   {
    "duration": 20,
    "start_time": "2022-04-08T13:15:29.006Z"
   },
   {
    "duration": 28,
    "start_time": "2022-04-08T13:15:29.028Z"
   },
   {
    "duration": 20,
    "start_time": "2022-04-08T13:15:29.058Z"
   },
   {
    "duration": 14,
    "start_time": "2022-04-08T13:15:29.080Z"
   },
   {
    "duration": 385,
    "start_time": "2022-04-08T13:15:29.096Z"
   },
   {
    "duration": 1644,
    "start_time": "2022-04-08T13:15:29.484Z"
   },
   {
    "duration": 24,
    "start_time": "2022-04-08T13:15:31.131Z"
   },
   {
    "duration": 218,
    "start_time": "2022-04-08T13:15:31.158Z"
   },
   {
    "duration": 7,
    "start_time": "2022-04-08T13:15:31.378Z"
   },
   {
    "duration": 41,
    "start_time": "2022-04-08T13:15:31.388Z"
   },
   {
    "duration": 32,
    "start_time": "2022-04-08T13:15:31.432Z"
   },
   {
    "duration": 5287,
    "start_time": "2022-04-08T13:15:31.466Z"
   },
   {
    "duration": 6,
    "start_time": "2022-04-08T13:15:36.844Z"
   },
   {
    "duration": 885391,
    "start_time": "2022-04-08T13:15:36.852Z"
   },
   {
    "duration": 6,
    "start_time": "2022-04-08T13:30:22.245Z"
   },
   {
    "duration": 8243,
    "start_time": "2022-04-08T13:30:22.253Z"
   },
   {
    "duration": 100251,
    "start_time": "2022-04-08T13:30:30.498Z"
   },
   {
    "duration": 5,
    "start_time": "2022-04-08T13:32:10.751Z"
   }
  ],
  "kernelspec": {
   "display_name": "Python 3 (ipykernel)",
   "language": "python",
   "name": "python3"
  },
  "language_info": {
   "codemirror_mode": {
    "name": "ipython",
    "version": 3
   },
   "file_extension": ".py",
   "mimetype": "text/x-python",
   "name": "python",
   "nbconvert_exporter": "python",
   "pygments_lexer": "ipython3",
   "version": "3.9.7"
  },
  "toc": {
   "base_numbering": 1,
   "nav_menu": {},
   "number_sections": true,
   "sideBar": true,
   "skip_h1_title": true,
   "title_cell": "Содержание",
   "title_sidebar": "Contents",
   "toc_cell": true,
   "toc_position": {
    "height": "calc(100% - 180px)",
    "left": "10px",
    "top": "150px",
    "width": "366.391px"
   },
   "toc_section_display": true,
   "toc_window_display": true
  }
 },
 "nbformat": 4,
 "nbformat_minor": 2
}
