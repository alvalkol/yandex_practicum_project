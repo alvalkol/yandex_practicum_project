{
 "cells": [
  {
   "cell_type": "markdown",
   "metadata": {
    "toc": true
   },
   "source": [
    "<h1>Содержание<span class=\"tocSkip\"></span></h1>\n",
    "<div class=\"toc\"><ul class=\"toc-item\"><li><span><a href=\"#Подготовка\" data-toc-modified-id=\"Подготовка-1\"><span class=\"toc-item-num\">1&nbsp;&nbsp;</span>Подготовка</a></span><ul class=\"toc-item\"><li><span><a href=\"#Лемматизация---очистка-тренировочного-корпуса-текстов\" data-toc-modified-id=\"Лемматизация---очистка-тренировочного-корпуса-текстов-1.1\"><span class=\"toc-item-num\">1.1&nbsp;&nbsp;</span>Лемматизация - очистка тренировочного корпуса текстов</a></span></li><li><span><a href=\"#Вывод\" data-toc-modified-id=\"Вывод-1.2\"><span class=\"toc-item-num\">1.2&nbsp;&nbsp;</span>Вывод</a></span></li></ul></li><li><span><a href=\"#Обучение\" data-toc-modified-id=\"Обучение-2\"><span class=\"toc-item-num\">2&nbsp;&nbsp;</span>Обучение</a></span><ul class=\"toc-item\"><li><span><a href=\"#LogisticRegression\" data-toc-modified-id=\"LogisticRegression-2.1\"><span class=\"toc-item-num\">2.1&nbsp;&nbsp;</span>LogisticRegression</a></span></li><li><span><a href=\"#Балансируем-выборку\" data-toc-modified-id=\"Балансируем-выборку-2.2\"><span class=\"toc-item-num\">2.2&nbsp;&nbsp;</span>Балансируем выборку</a></span></li><li><span><a href=\"#СatboostClassifier\" data-toc-modified-id=\"СatboostClassifier-2.3\"><span class=\"toc-item-num\">2.3&nbsp;&nbsp;</span>СatboostClassifier</a></span></li></ul></li><li><span><a href=\"#Выводы\" data-toc-modified-id=\"Выводы-3\"><span class=\"toc-item-num\">3&nbsp;&nbsp;</span>Выводы</a></span><ul class=\"toc-item\"><li><span><a href=\"#Тест-моделей\" data-toc-modified-id=\"Тест-моделей-3.1\"><span class=\"toc-item-num\">3.1&nbsp;&nbsp;</span>Тест моделей</a></span></li><li><span><a href=\"#Анализ\" data-toc-modified-id=\"Анализ-3.2\"><span class=\"toc-item-num\">3.2&nbsp;&nbsp;</span>Анализ</a></span></li></ul></li></ul></div>"
   ]
  },
  {
   "cell_type": "markdown",
   "metadata": {},
   "source": [
    "# Описание"
   ]
  },
  {
   "cell_type": "markdown",
   "metadata": {},
   "source": [
    "Обучите модель классифицировать комментарии на позитивные и негативные. В вашем распоряжении набор данных с разметкой о токсичности правок.\n",
    "\n",
    "Постройте модель со значением метрики качества *F1* не меньше 0.75. Столбец *text* в нём содержит текст комментария, а *toxic* — целевой признак."
   ]
  },
  {
   "cell_type": "markdown",
   "metadata": {},
   "source": [
    "## Подготовка"
   ]
  },
  {
   "cell_type": "code",
   "execution_count": 1,
   "metadata": {},
   "outputs": [
    {
     "name": "stderr",
     "output_type": "stream",
     "text": [
      "[nltk_data] Downloading package wordnet to /home/jovyan/nltk_data...\n",
      "[nltk_data]   Package wordnet is already up-to-date!\n",
      "[nltk_data] Downloading package stopwords to /home/jovyan/nltk_data...\n",
      "[nltk_data]   Package stopwords is already up-to-date!\n",
      "[nltk_data] Downloading package averaged_perceptron_tagger to\n",
      "[nltk_data]     /home/jovyan/nltk_data...\n",
      "[nltk_data]   Package averaged_perceptron_tagger is already up-to-\n",
      "[nltk_data]       date!\n"
     ]
    }
   ],
   "source": [
    "import numpy as np\n",
    "import pandas as pd\n",
    "\n",
    "from sklearn.linear_model import LogisticRegression\n",
    "\n",
    "import catboost\n",
    "from catboost import CatBoostClassifier, Pool\n",
    "\n",
    "from sklearn.model_selection import cross_val_score\n",
    "from sklearn.model_selection import train_test_split\n",
    "from sklearn.metrics import f1_score\n",
    "from sklearn.model_selection import RandomizedSearchCV\n",
    "\n",
    "import nltk\n",
    "from nltk.stem import WordNetLemmatizer\n",
    "from nltk.corpus import stopwords as nltk_stopwords\n",
    "nltk.download('wordnet')\n",
    "nltk.download('stopwords')\n",
    "nltk.download('averaged_perceptron_tagger')\n",
    "\n",
    "import re\n",
    "\n",
    "from sklearn.feature_extraction.text import TfidfVectorizer\n",
    "\n",
    "import warnings\n",
    "warnings.filterwarnings(\"ignore\")\n",
    "                                     \n",
    "def data_view(data):\n",
    "    \n",
    "    \"\"\"\n",
    "    Функция вызвращает данные о таблице\n",
    "    \"\"\"\n",
    "    return display(data.info(),\n",
    "                   data.isna().sum(), \n",
    "                   data.duplicated().sum(),\n",
    "                   data.head(),\n",
    "                   data.tail(),\n",
    "                  )"
   ]
  },
  {
   "cell_type": "code",
   "execution_count": 2,
   "metadata": {},
   "outputs": [],
   "source": [
    "data = pd.read_csv('/datasets/toxic_comments.csv')"
   ]
  },
  {
   "cell_type": "code",
   "execution_count": 3,
   "metadata": {},
   "outputs": [
    {
     "name": "stdout",
     "output_type": "stream",
     "text": [
      "<class 'pandas.core.frame.DataFrame'>\n",
      "RangeIndex: 159571 entries, 0 to 159570\n",
      "Data columns (total 2 columns):\n",
      " #   Column  Non-Null Count   Dtype \n",
      "---  ------  --------------   ----- \n",
      " 0   text    159571 non-null  object\n",
      " 1   toxic   159571 non-null  int64 \n",
      "dtypes: int64(1), object(1)\n",
      "memory usage: 2.4+ MB\n"
     ]
    },
    {
     "data": {
      "text/plain": [
       "None"
      ]
     },
     "metadata": {},
     "output_type": "display_data"
    },
    {
     "data": {
      "text/plain": [
       "text     0\n",
       "toxic    0\n",
       "dtype: int64"
      ]
     },
     "metadata": {},
     "output_type": "display_data"
    },
    {
     "data": {
      "text/plain": [
       "0"
      ]
     },
     "metadata": {},
     "output_type": "display_data"
    },
    {
     "data": {
      "text/html": [
       "<div>\n",
       "<style scoped>\n",
       "    .dataframe tbody tr th:only-of-type {\n",
       "        vertical-align: middle;\n",
       "    }\n",
       "\n",
       "    .dataframe tbody tr th {\n",
       "        vertical-align: top;\n",
       "    }\n",
       "\n",
       "    .dataframe thead th {\n",
       "        text-align: right;\n",
       "    }\n",
       "</style>\n",
       "<table border=\"1\" class=\"dataframe\">\n",
       "  <thead>\n",
       "    <tr style=\"text-align: right;\">\n",
       "      <th></th>\n",
       "      <th>text</th>\n",
       "      <th>toxic</th>\n",
       "    </tr>\n",
       "  </thead>\n",
       "  <tbody>\n",
       "    <tr>\n",
       "      <th>0</th>\n",
       "      <td>Explanation\\nWhy the edits made under my usern...</td>\n",
       "      <td>0</td>\n",
       "    </tr>\n",
       "    <tr>\n",
       "      <th>1</th>\n",
       "      <td>D'aww! He matches this background colour I'm s...</td>\n",
       "      <td>0</td>\n",
       "    </tr>\n",
       "    <tr>\n",
       "      <th>2</th>\n",
       "      <td>Hey man, I'm really not trying to edit war. It...</td>\n",
       "      <td>0</td>\n",
       "    </tr>\n",
       "    <tr>\n",
       "      <th>3</th>\n",
       "      <td>\"\\nMore\\nI can't make any real suggestions on ...</td>\n",
       "      <td>0</td>\n",
       "    </tr>\n",
       "    <tr>\n",
       "      <th>4</th>\n",
       "      <td>You, sir, are my hero. Any chance you remember...</td>\n",
       "      <td>0</td>\n",
       "    </tr>\n",
       "  </tbody>\n",
       "</table>\n",
       "</div>"
      ],
      "text/plain": [
       "                                                text  toxic\n",
       "0  Explanation\\nWhy the edits made under my usern...      0\n",
       "1  D'aww! He matches this background colour I'm s...      0\n",
       "2  Hey man, I'm really not trying to edit war. It...      0\n",
       "3  \"\\nMore\\nI can't make any real suggestions on ...      0\n",
       "4  You, sir, are my hero. Any chance you remember...      0"
      ]
     },
     "metadata": {},
     "output_type": "display_data"
    },
    {
     "data": {
      "text/html": [
       "<div>\n",
       "<style scoped>\n",
       "    .dataframe tbody tr th:only-of-type {\n",
       "        vertical-align: middle;\n",
       "    }\n",
       "\n",
       "    .dataframe tbody tr th {\n",
       "        vertical-align: top;\n",
       "    }\n",
       "\n",
       "    .dataframe thead th {\n",
       "        text-align: right;\n",
       "    }\n",
       "</style>\n",
       "<table border=\"1\" class=\"dataframe\">\n",
       "  <thead>\n",
       "    <tr style=\"text-align: right;\">\n",
       "      <th></th>\n",
       "      <th>text</th>\n",
       "      <th>toxic</th>\n",
       "    </tr>\n",
       "  </thead>\n",
       "  <tbody>\n",
       "    <tr>\n",
       "      <th>159566</th>\n",
       "      <td>\":::::And for the second time of asking, when ...</td>\n",
       "      <td>0</td>\n",
       "    </tr>\n",
       "    <tr>\n",
       "      <th>159567</th>\n",
       "      <td>You should be ashamed of yourself \\n\\nThat is ...</td>\n",
       "      <td>0</td>\n",
       "    </tr>\n",
       "    <tr>\n",
       "      <th>159568</th>\n",
       "      <td>Spitzer \\n\\nUmm, theres no actual article for ...</td>\n",
       "      <td>0</td>\n",
       "    </tr>\n",
       "    <tr>\n",
       "      <th>159569</th>\n",
       "      <td>And it looks like it was actually you who put ...</td>\n",
       "      <td>0</td>\n",
       "    </tr>\n",
       "    <tr>\n",
       "      <th>159570</th>\n",
       "      <td>\"\\nAnd ... I really don't think you understand...</td>\n",
       "      <td>0</td>\n",
       "    </tr>\n",
       "  </tbody>\n",
       "</table>\n",
       "</div>"
      ],
      "text/plain": [
       "                                                     text  toxic\n",
       "159566  \":::::And for the second time of asking, when ...      0\n",
       "159567  You should be ashamed of yourself \\n\\nThat is ...      0\n",
       "159568  Spitzer \\n\\nUmm, theres no actual article for ...      0\n",
       "159569  And it looks like it was actually you who put ...      0\n",
       "159570  \"\\nAnd ... I really don't think you understand...      0"
      ]
     },
     "metadata": {},
     "output_type": "display_data"
    }
   ],
   "source": [
    "data_view(data)"
   ]
  },
  {
   "cell_type": "code",
   "execution_count": 4,
   "metadata": {
    "scrolled": true
   },
   "outputs": [
    {
     "data": {
      "text/plain": [
       "0    0.898321\n",
       "1    0.101679\n",
       "Name: toxic, dtype: float64"
      ]
     },
     "execution_count": 4,
     "metadata": {},
     "output_type": "execute_result"
    }
   ],
   "source": [
    "data['toxic'].value_counts(normalize=True)"
   ]
  },
  {
   "cell_type": "code",
   "execution_count": 5,
   "metadata": {},
   "outputs": [],
   "source": [
    "data['text'] = data['text'].str.lower()"
   ]
  },
  {
   "cell_type": "markdown",
   "metadata": {},
   "source": [
    "- Разделим данные на обучающую и тестовую выборки. "
   ]
  },
  {
   "cell_type": "code",
   "execution_count": 6,
   "metadata": {},
   "outputs": [],
   "source": [
    "train, test = train_test_split(data, test_size=0.1, stratify=data['toxic'])"
   ]
  },
  {
   "cell_type": "code",
   "execution_count": 7,
   "metadata": {},
   "outputs": [
    {
     "data": {
      "text/plain": [
       "(0    0.898324\n",
       " 1    0.101676\n",
       " Name: toxic, dtype: float64,\n",
       " 0    0.898296\n",
       " 1    0.101704\n",
       " Name: toxic, dtype: float64)"
      ]
     },
     "execution_count": 7,
     "metadata": {},
     "output_type": "execute_result"
    }
   ],
   "source": [
    "train['toxic'].value_counts(normalize=True), test['toxic'].value_counts(normalize=True)"
   ]
  },
  {
   "cell_type": "code",
   "execution_count": 8,
   "metadata": {},
   "outputs": [
    {
     "data": {
      "text/plain": [
       "((143613, 2), (15958, 2))"
      ]
     },
     "execution_count": 8,
     "metadata": {},
     "output_type": "execute_result"
    }
   ],
   "source": [
    "train.shape, test.shape"
   ]
  },
  {
   "cell_type": "markdown",
   "metadata": {},
   "source": [
    "### Лемматизация - очистка тренировочного корпуса текстов"
   ]
  },
  {
   "cell_type": "markdown",
   "metadata": {},
   "source": [
    "- Функция для очистки текстов при помощи рег.выражений"
   ]
  },
  {
   "cell_type": "code",
   "execution_count": 9,
   "metadata": {},
   "outputs": [],
   "source": [
    "lemm = WordNetLemmatizer()"
   ]
  },
  {
   "cell_type": "code",
   "execution_count": 10,
   "metadata": {},
   "outputs": [],
   "source": [
    "def clear_text(text):\n",
    "    re_text = re.sub(r'[^\\w\\']', ' ', text)\n",
    "    return \" \".join(re_text.split())"
   ]
  },
  {
   "cell_type": "markdown",
   "metadata": {},
   "source": [
    "- Пример преобразования произвольного текста"
   ]
  },
  {
   "cell_type": "code",
   "execution_count": 11,
   "metadata": {},
   "outputs": [
    {
     "data": {
      "text/plain": [
       "'\"\\nmore\\ni can\\'t make any real suggestions on improvement - i wondered if the section statistics should be later on, or a subsection of \"\"types of accidents\"\"  -i think the references may need tidying so that they are all in the exact same format ie date format etc. i can do that later on, if no-one else does first - if you have any preferences for formatting style on references or want to do it yourself please let me know.\\n\\nthere appears to be a backlog on articles for review so i guess there may be a delay until a reviewer turns up. it\\'s listed in the relevant form eg wikipedia:good_article_nominations#transport  \"'"
      ]
     },
     "execution_count": 11,
     "metadata": {},
     "output_type": "execute_result"
    }
   ],
   "source": [
    "data['text'][3]"
   ]
  },
  {
   "cell_type": "code",
   "execution_count": 12,
   "metadata": {},
   "outputs": [
    {
     "data": {
      "text/plain": [
       "\"more i can't make any real suggestions on improvement i wondered if the section statistics should be later on or a subsection of types of accidents i think the references may need tidying so that they are all in the exact same format ie date format etc i can do that later on if no one else does first if you have any preferences for formatting style on references or want to do it yourself please let me know there appears to be a backlog on articles for review so i guess there may be a delay until a reviewer turns up it's listed in the relevant form eg wikipedia good_article_nominations transport\""
      ]
     },
     "execution_count": 12,
     "metadata": {},
     "output_type": "execute_result"
    }
   ],
   "source": [
    "clear_text(data['text'][3])"
   ]
  },
  {
   "cell_type": "markdown",
   "metadata": {},
   "source": [
    "- Функция лемматизирует слова с учётом частей речи"
   ]
  },
  {
   "cell_type": "code",
   "execution_count": 13,
   "metadata": {
    "scrolled": true
   },
   "outputs": [],
   "source": [
    "def lemm_pos(text):\n",
    "    \n",
    "    text_list=[]\n",
    "    \n",
    "    for word in nltk.word_tokenize(clear_text(text)):\n",
    "        try:\n",
    "            word = lemm.lemmatize(word, pos=nltk.pos_tag(\n",
    "                                    [word])[0][1][0].lower())\n",
    "            text_list.append(word)\n",
    "        except:\n",
    "            text_list.append(word)\n",
    "\n",
    "    return \" \".join(text_list)"
   ]
  },
  {
   "cell_type": "code",
   "execution_count": 14,
   "metadata": {},
   "outputs": [],
   "source": [
    "stopwords = set(nltk_stopwords.words('english'))"
   ]
  },
  {
   "cell_type": "code",
   "execution_count": 15,
   "metadata": {},
   "outputs": [],
   "source": [
    "count_tf_idf = TfidfVectorizer(stop_words=stopwords)"
   ]
  },
  {
   "cell_type": "code",
   "execution_count": 16,
   "metadata": {},
   "outputs": [],
   "source": [
    "# train['lemm_text'] = train['text'].apply(lambda x: lemm_pos(x))\n",
    "\n",
    "# corpus_train = train['lemm_text'].values.astype('U')\n",
    "# tf_idf_train = count_tf_idf.fit_transform(corpus_train)"
   ]
  },
  {
   "cell_type": "code",
   "execution_count": 17,
   "metadata": {},
   "outputs": [],
   "source": [
    "# tf_idf_train.shape"
   ]
  },
  {
   "cell_type": "markdown",
   "metadata": {},
   "source": [
    "### Вывод"
   ]
  },
  {
   "cell_type": "markdown",
   "metadata": {},
   "source": [
    "- Тексты комментариев имеют много лишних символов.\n",
    "\n",
    "- Выборка несбалансированная, 90% - нетоксичных комментариев, только 10% - токсичных.\n",
    "\n",
    "- Была проведена очистка текста с помощью рег. выражений и лемматизация с учётом части речи где это возможно определить."
   ]
  },
  {
   "cell_type": "markdown",
   "metadata": {},
   "source": [
    "## Обучение"
   ]
  },
  {
   "cell_type": "markdown",
   "metadata": {},
   "source": [
    "### LogisticRegression"
   ]
  },
  {
   "cell_type": "code",
   "execution_count": 18,
   "metadata": {},
   "outputs": [],
   "source": [
    "# model = LogisticRegression(random_state=12345, class_weight='balanced', C=0.8)\n",
    "\n",
    "# cross_val_score(model, tf_idf_train, train['toxic'], scoring='f1', cv=3) "
   ]
  },
  {
   "cell_type": "markdown",
   "metadata": {},
   "source": [
    "### СatboostClassifier"
   ]
  },
  {
   "cell_type": "code",
   "execution_count": 19,
   "metadata": {},
   "outputs": [],
   "source": [
    "data = pd.read_csv('/datasets/toxic_comments.csv')"
   ]
  },
  {
   "cell_type": "code",
   "execution_count": 20,
   "metadata": {},
   "outputs": [],
   "source": [
    "train_cat, test_cat = train_test_split(data, test_size=0.1, stratify=data['toxic'])"
   ]
  },
  {
   "cell_type": "code",
   "execution_count": 21,
   "metadata": {
    "scrolled": true
   },
   "outputs": [
    {
     "data": {
      "text/plain": [
       "0    129011\n",
       "1     14602\n",
       "Name: toxic, dtype: int64"
      ]
     },
     "execution_count": 21,
     "metadata": {},
     "output_type": "execute_result"
    }
   ],
   "source": [
    "train_cat['toxic'].value_counts()"
   ]
  },
  {
   "cell_type": "code",
   "execution_count": 22,
   "metadata": {},
   "outputs": [],
   "source": [
    "train_cat['text'] = train_cat['text'].apply(lambda x: clear_text(x))\n",
    "test_cat['text'] = test_cat['text'].apply(lambda x: clear_text(x))"
   ]
  },
  {
   "cell_type": "code",
   "execution_count": 25,
   "metadata": {
    "scrolled": true
   },
   "outputs": [
    {
     "name": "stdout",
     "output_type": "stream",
     "text": [
      "Learning rate set to 0.085912\n",
      "0:\tlearn: 0.6535859\ttotal: 1.09s\tremaining: 18m 11s\n",
      "1:\tlearn: 0.6757409\ttotal: 2.3s\tremaining: 19m 6s\n",
      "2:\tlearn: 0.6754762\ttotal: 3.4s\tremaining: 18m 48s\n",
      "3:\tlearn: 0.6758069\ttotal: 4.52s\tremaining: 18m 45s\n",
      "4:\tlearn: 0.6750839\ttotal: 5.7s\tremaining: 18m 54s\n",
      "5:\tlearn: 0.6761890\ttotal: 6.76s\tremaining: 18m 39s\n",
      "6:\tlearn: 0.6773052\ttotal: 7.84s\tremaining: 18m 32s\n",
      "7:\tlearn: 0.6796620\ttotal: 8.89s\tremaining: 18m 22s\n",
      "8:\tlearn: 0.6814360\ttotal: 10s\tremaining: 18m 23s\n",
      "9:\tlearn: 0.6787310\ttotal: 11.1s\tremaining: 18m 14s\n",
      "10:\tlearn: 0.6800290\ttotal: 12.4s\tremaining: 18m 34s\n",
      "11:\tlearn: 0.6818597\ttotal: 13.5s\tremaining: 18m 31s\n",
      "12:\tlearn: 0.6835232\ttotal: 14.8s\tremaining: 18m 40s\n",
      "13:\tlearn: 0.6850686\ttotal: 16s\tremaining: 18m 49s\n",
      "14:\tlearn: 0.6852895\ttotal: 17.2s\tremaining: 18m 50s\n",
      "15:\tlearn: 0.6843390\ttotal: 18.3s\tremaining: 18m 43s\n",
      "16:\tlearn: 0.6857276\ttotal: 19.5s\tremaining: 18m 47s\n",
      "17:\tlearn: 0.6872754\ttotal: 20.6s\tremaining: 18m 43s\n",
      "18:\tlearn: 0.6892194\ttotal: 21.8s\tremaining: 18m 46s\n",
      "19:\tlearn: 0.6913884\ttotal: 22.9s\tremaining: 18m 43s\n",
      "20:\tlearn: 0.6920123\ttotal: 24.1s\tremaining: 18m 43s\n",
      "21:\tlearn: 0.6925412\ttotal: 25.1s\tremaining: 18m 38s\n",
      "22:\tlearn: 0.6940559\ttotal: 26.5s\tremaining: 18m 44s\n",
      "23:\tlearn: 0.6952330\ttotal: 27.8s\tremaining: 18m 51s\n",
      "24:\tlearn: 0.6960231\ttotal: 28.8s\tremaining: 18m 44s\n",
      "25:\tlearn: 0.6968979\ttotal: 29.9s\tremaining: 18m 39s\n",
      "26:\tlearn: 0.6934055\ttotal: 30.9s\tremaining: 18m 33s\n",
      "27:\tlearn: 0.6969813\ttotal: 32.1s\tremaining: 18m 33s\n",
      "28:\tlearn: 0.6974941\ttotal: 33.2s\tremaining: 18m 30s\n",
      "29:\tlearn: 0.6975349\ttotal: 34.6s\tremaining: 18m 38s\n",
      "30:\tlearn: 0.6985701\ttotal: 35.6s\tremaining: 18m 33s\n",
      "31:\tlearn: 0.6991433\ttotal: 36.9s\tremaining: 18m 35s\n",
      "32:\tlearn: 0.6999654\ttotal: 37.9s\tremaining: 18m 30s\n",
      "33:\tlearn: 0.7001918\ttotal: 39.2s\tremaining: 18m 33s\n",
      "34:\tlearn: 0.7012141\ttotal: 40.3s\tremaining: 18m 31s\n",
      "35:\tlearn: 0.7020070\ttotal: 41.5s\tremaining: 18m 31s\n",
      "36:\tlearn: 0.7018888\ttotal: 42.6s\tremaining: 18m 29s\n",
      "37:\tlearn: 0.7024110\ttotal: 43.7s\tremaining: 18m 26s\n",
      "38:\tlearn: 0.7025268\ttotal: 44.7s\tremaining: 18m 22s\n",
      "39:\tlearn: 0.7033665\ttotal: 45.8s\tremaining: 18m 19s\n",
      "40:\tlearn: 0.7040110\ttotal: 46.8s\tremaining: 18m 15s\n",
      "41:\tlearn: 0.7044352\ttotal: 47.9s\tremaining: 18m 13s\n",
      "42:\tlearn: 0.7050514\ttotal: 49.2s\tremaining: 18m 15s\n",
      "43:\tlearn: 0.7058240\ttotal: 50.4s\tremaining: 18m 14s\n",
      "44:\tlearn: 0.7060752\ttotal: 51.5s\tremaining: 18m 13s\n",
      "45:\tlearn: 0.7072976\ttotal: 52.9s\tremaining: 18m 16s\n",
      "46:\tlearn: 0.7080259\ttotal: 54.2s\tremaining: 18m 18s\n",
      "47:\tlearn: 0.7080689\ttotal: 55.2s\tremaining: 18m 15s\n",
      "48:\tlearn: 0.7085154\ttotal: 56.3s\tremaining: 18m 13s\n",
      "49:\tlearn: 0.7094274\ttotal: 57.4s\tremaining: 18m 10s\n",
      "50:\tlearn: 0.7100080\ttotal: 58.5s\tremaining: 18m 9s\n",
      "51:\tlearn: 0.7104194\ttotal: 59.6s\tremaining: 18m 6s\n",
      "52:\tlearn: 0.7116062\ttotal: 1m\tremaining: 18m 5s\n",
      "53:\tlearn: 0.7120621\ttotal: 1m 1s\tremaining: 18m 5s\n",
      "54:\tlearn: 0.7124200\ttotal: 1m 3s\tremaining: 18m 4s\n",
      "55:\tlearn: 0.7137187\ttotal: 1m 4s\tremaining: 18m 8s\n",
      "56:\tlearn: 0.7135454\ttotal: 1m 5s\tremaining: 18m 6s\n",
      "57:\tlearn: 0.7141831\ttotal: 1m 6s\tremaining: 18m 6s\n",
      "58:\tlearn: 0.7149977\ttotal: 1m 8s\tremaining: 18m 7s\n",
      "59:\tlearn: 0.7152133\ttotal: 1m 9s\tremaining: 18m 4s\n",
      "60:\tlearn: 0.7154779\ttotal: 1m 10s\tremaining: 18m 3s\n",
      "61:\tlearn: 0.7160811\ttotal: 1m 11s\tremaining: 18m 4s\n",
      "62:\tlearn: 0.7169541\ttotal: 1m 12s\tremaining: 18m 2s\n",
      "63:\tlearn: 0.7170837\ttotal: 1m 13s\tremaining: 18m\n",
      "64:\tlearn: 0.7182987\ttotal: 1m 15s\tremaining: 18m 1s\n",
      "65:\tlearn: 0.7180687\ttotal: 1m 16s\tremaining: 18m 1s\n",
      "66:\tlearn: 0.7188502\ttotal: 1m 17s\tremaining: 17m 59s\n",
      "67:\tlearn: 0.7193631\ttotal: 1m 18s\tremaining: 17m 59s\n",
      "68:\tlearn: 0.7201418\ttotal: 1m 19s\tremaining: 17m 57s\n",
      "69:\tlearn: 0.7202623\ttotal: 1m 21s\tremaining: 17m 59s\n",
      "70:\tlearn: 0.7206481\ttotal: 1m 22s\tremaining: 18m\n",
      "71:\tlearn: 0.7209521\ttotal: 1m 23s\tremaining: 17m 58s\n",
      "72:\tlearn: 0.7215485\ttotal: 1m 24s\tremaining: 17m 57s\n",
      "73:\tlearn: 0.7217116\ttotal: 1m 25s\tremaining: 17m 54s\n",
      "74:\tlearn: 0.7221699\ttotal: 1m 26s\tremaining: 17m 52s\n",
      "75:\tlearn: 0.7227226\ttotal: 1m 28s\tremaining: 17m 53s\n",
      "76:\tlearn: 0.7232022\ttotal: 1m 29s\tremaining: 17m 50s\n",
      "77:\tlearn: 0.7231302\ttotal: 1m 30s\tremaining: 17m 50s\n",
      "78:\tlearn: 0.7232600\ttotal: 1m 31s\tremaining: 17m 47s\n",
      "79:\tlearn: 0.7235053\ttotal: 1m 32s\tremaining: 17m 45s\n",
      "80:\tlearn: 0.7238131\ttotal: 1m 34s\tremaining: 17m 47s\n",
      "81:\tlearn: 0.7240560\ttotal: 1m 35s\tremaining: 17m 45s\n",
      "82:\tlearn: 0.7246311\ttotal: 1m 36s\tremaining: 17m 44s\n",
      "83:\tlearn: 0.7251444\ttotal: 1m 37s\tremaining: 17m 41s\n",
      "84:\tlearn: 0.7257687\ttotal: 1m 38s\tremaining: 17m 42s\n",
      "85:\tlearn: 0.7262633\ttotal: 1m 39s\tremaining: 17m 40s\n",
      "86:\tlearn: 0.7264144\ttotal: 1m 40s\tremaining: 17m 38s\n",
      "87:\tlearn: 0.7265932\ttotal: 1m 42s\tremaining: 17m 37s\n",
      "88:\tlearn: 0.7265371\ttotal: 1m 43s\tremaining: 17m 35s\n",
      "89:\tlearn: 0.7262963\ttotal: 1m 44s\tremaining: 17m 34s\n",
      "90:\tlearn: 0.7260761\ttotal: 1m 45s\tremaining: 17m 32s\n",
      "91:\tlearn: 0.7268259\ttotal: 1m 46s\tremaining: 17m 30s\n",
      "92:\tlearn: 0.7268946\ttotal: 1m 47s\tremaining: 17m 28s\n",
      "93:\tlearn: 0.7276990\ttotal: 1m 48s\tremaining: 17m 26s\n",
      "94:\tlearn: 0.7280012\ttotal: 1m 49s\tremaining: 17m 27s\n",
      "95:\tlearn: 0.7282970\ttotal: 1m 50s\tremaining: 17m 24s\n",
      "96:\tlearn: 0.7282765\ttotal: 1m 51s\tremaining: 17m 22s\n",
      "97:\tlearn: 0.7281601\ttotal: 1m 53s\tremaining: 17m 20s\n",
      "98:\tlearn: 0.7286206\ttotal: 1m 54s\tremaining: 17m 20s\n",
      "99:\tlearn: 0.7297256\ttotal: 1m 55s\tremaining: 17m 22s\n",
      "100:\tlearn: 0.7293432\ttotal: 1m 56s\tremaining: 17m 19s\n",
      "101:\tlearn: 0.7295293\ttotal: 1m 57s\tremaining: 17m 17s\n",
      "102:\tlearn: 0.7296612\ttotal: 1m 58s\tremaining: 17m 15s\n",
      "103:\tlearn: 0.7301515\ttotal: 1m 59s\tremaining: 17m 13s\n",
      "104:\tlearn: 0.7303235\ttotal: 2m 1s\tremaining: 17m 11s\n",
      "105:\tlearn: 0.7305194\ttotal: 2m 2s\tremaining: 17m 9s\n",
      "106:\tlearn: 0.7309733\ttotal: 2m 3s\tremaining: 17m 9s\n",
      "107:\tlearn: 0.7313026\ttotal: 2m 4s\tremaining: 17m 10s\n",
      "108:\tlearn: 0.7317202\ttotal: 2m 6s\tremaining: 17m 10s\n",
      "109:\tlearn: 0.7317018\ttotal: 2m 7s\tremaining: 17m 8s\n",
      "110:\tlearn: 0.7313076\ttotal: 2m 8s\tremaining: 17m 7s\n",
      "111:\tlearn: 0.7319294\ttotal: 2m 9s\tremaining: 17m 6s\n",
      "112:\tlearn: 0.7319498\ttotal: 2m 10s\tremaining: 17m 5s\n",
      "113:\tlearn: 0.7320108\ttotal: 2m 11s\tremaining: 17m 4s\n",
      "114:\tlearn: 0.7322384\ttotal: 2m 13s\tremaining: 17m 3s\n",
      "115:\tlearn: 0.7326552\ttotal: 2m 14s\tremaining: 17m 3s\n",
      "116:\tlearn: 0.7334978\ttotal: 2m 15s\tremaining: 17m 3s\n",
      "117:\tlearn: 0.7336294\ttotal: 2m 16s\tremaining: 17m 1s\n",
      "118:\tlearn: 0.7335054\ttotal: 2m 17s\tremaining: 17m\n",
      "119:\tlearn: 0.7336371\ttotal: 2m 18s\tremaining: 16m 59s\n",
      "120:\tlearn: 0.7337966\ttotal: 2m 20s\tremaining: 16m 58s\n",
      "121:\tlearn: 0.7341935\ttotal: 2m 21s\tremaining: 16m 57s\n",
      "122:\tlearn: 0.7341887\ttotal: 2m 22s\tremaining: 16m 55s\n",
      "123:\tlearn: 0.7343204\ttotal: 2m 23s\tremaining: 16m 53s\n",
      "124:\tlearn: 0.7343590\ttotal: 2m 24s\tremaining: 16m 51s\n",
      "125:\tlearn: 0.7351154\ttotal: 2m 25s\tremaining: 16m 51s\n",
      "126:\tlearn: 0.7352550\ttotal: 2m 26s\tremaining: 16m 50s\n",
      "127:\tlearn: 0.7358863\ttotal: 2m 28s\tremaining: 16m 48s\n",
      "128:\tlearn: 0.7357572\ttotal: 2m 29s\tremaining: 16m 46s\n",
      "129:\tlearn: 0.7356331\ttotal: 2m 30s\tremaining: 16m 44s\n",
      "130:\tlearn: 0.7360097\ttotal: 2m 31s\tremaining: 16m 43s\n",
      "131:\tlearn: 0.7364141\ttotal: 2m 32s\tremaining: 16m 41s\n",
      "132:\tlearn: 0.7366660\ttotal: 2m 33s\tremaining: 16m 40s\n",
      "133:\tlearn: 0.7368501\ttotal: 2m 34s\tremaining: 16m 38s\n",
      "134:\tlearn: 0.7373184\ttotal: 2m 35s\tremaining: 16m 36s\n",
      "135:\tlearn: 0.7374025\ttotal: 2m 36s\tremaining: 16m 36s\n",
      "136:\tlearn: 0.7376912\ttotal: 2m 38s\tremaining: 16m 35s\n",
      "137:\tlearn: 0.7378759\ttotal: 2m 39s\tremaining: 16m 33s\n",
      "138:\tlearn: 0.7379431\ttotal: 2m 40s\tremaining: 16m 33s\n",
      "139:\tlearn: 0.7385365\ttotal: 2m 41s\tremaining: 16m 33s\n",
      "140:\tlearn: 0.7384451\ttotal: 2m 42s\tremaining: 16m 32s\n",
      "141:\tlearn: 0.7386783\ttotal: 2m 44s\tremaining: 16m 31s\n",
      "142:\tlearn: 0.7388705\ttotal: 2m 45s\tremaining: 16m 30s\n",
      "143:\tlearn: 0.7391470\ttotal: 2m 46s\tremaining: 16m 28s\n",
      "144:\tlearn: 0.7393159\ttotal: 2m 47s\tremaining: 16m 27s\n",
      "145:\tlearn: 0.7396175\ttotal: 2m 48s\tremaining: 16m 26s\n",
      "146:\tlearn: 0.7396989\ttotal: 2m 49s\tremaining: 16m 24s\n",
      "147:\tlearn: 0.7400259\ttotal: 2m 50s\tremaining: 16m 23s\n",
      "148:\tlearn: 0.7400602\ttotal: 2m 51s\tremaining: 16m 22s\n",
      "149:\tlearn: 0.7403622\ttotal: 2m 53s\tremaining: 16m 21s\n",
      "150:\tlearn: 0.7406617\ttotal: 2m 54s\tremaining: 16m 20s\n",
      "151:\tlearn: 0.7409411\ttotal: 2m 55s\tremaining: 16m 19s\n",
      "152:\tlearn: 0.7410088\ttotal: 2m 56s\tremaining: 16m 17s\n",
      "153:\tlearn: 0.7409694\ttotal: 2m 57s\tremaining: 16m 16s\n",
      "154:\tlearn: 0.7413392\ttotal: 2m 58s\tremaining: 16m 15s\n",
      "155:\tlearn: 0.7417547\ttotal: 3m\tremaining: 16m 14s\n",
      "156:\tlearn: 0.7422405\ttotal: 3m 1s\tremaining: 16m 13s\n",
      "157:\tlearn: 0.7422861\ttotal: 3m 2s\tremaining: 16m 11s\n",
      "158:\tlearn: 0.7425542\ttotal: 3m 3s\tremaining: 16m 10s\n",
      "159:\tlearn: 0.7428310\ttotal: 3m 4s\tremaining: 16m 9s\n",
      "160:\tlearn: 0.7426981\ttotal: 3m 5s\tremaining: 16m 8s\n",
      "161:\tlearn: 0.7424953\ttotal: 3m 6s\tremaining: 16m 6s\n",
      "162:\tlearn: 0.7427786\ttotal: 3m 8s\tremaining: 16m 5s\n",
      "163:\tlearn: 0.7437764\ttotal: 3m 9s\tremaining: 16m 5s\n",
      "164:\tlearn: 0.7433331\ttotal: 3m 10s\tremaining: 16m 3s\n",
      "165:\tlearn: 0.7435084\ttotal: 3m 11s\tremaining: 16m 2s\n",
      "166:\tlearn: 0.7439565\ttotal: 3m 12s\tremaining: 16m 1s\n",
      "167:\tlearn: 0.7444186\ttotal: 3m 13s\tremaining: 16m\n",
      "168:\tlearn: 0.7448123\ttotal: 3m 15s\tremaining: 15m 59s\n",
      "169:\tlearn: 0.7448497\ttotal: 3m 16s\tremaining: 15m 57s\n",
      "170:\tlearn: 0.7446874\ttotal: 3m 17s\tremaining: 15m 56s\n",
      "171:\tlearn: 0.7449452\ttotal: 3m 18s\tremaining: 15m 54s\n",
      "172:\tlearn: 0.7453677\ttotal: 3m 19s\tremaining: 15m 53s\n",
      "173:\tlearn: 0.7453274\ttotal: 3m 20s\tremaining: 15m 52s\n",
      "174:\tlearn: 0.7453259\ttotal: 3m 21s\tremaining: 15m 50s\n",
      "175:\tlearn: 0.7454038\ttotal: 3m 22s\tremaining: 15m 48s\n",
      "176:\tlearn: 0.7451940\ttotal: 3m 23s\tremaining: 15m 47s\n",
      "177:\tlearn: 0.7456150\ttotal: 3m 24s\tremaining: 15m 46s\n",
      "178:\tlearn: 0.7456616\ttotal: 3m 25s\tremaining: 15m 44s\n",
      "179:\tlearn: 0.7457860\ttotal: 3m 27s\tremaining: 15m 43s\n",
      "180:\tlearn: 0.7458521\ttotal: 3m 28s\tremaining: 15m 42s\n",
      "181:\tlearn: 0.7460129\ttotal: 3m 29s\tremaining: 15m 40s\n",
      "182:\tlearn: 0.7465403\ttotal: 3m 30s\tremaining: 15m 39s\n",
      "183:\tlearn: 0.7475928\ttotal: 3m 31s\tremaining: 15m 38s\n",
      "184:\tlearn: 0.7475814\ttotal: 3m 32s\tremaining: 15m 36s\n",
      "185:\tlearn: 0.7478028\ttotal: 3m 34s\tremaining: 15m 36s\n",
      "186:\tlearn: 0.7479563\ttotal: 3m 35s\tremaining: 15m 35s\n",
      "187:\tlearn: 0.7480607\ttotal: 3m 36s\tremaining: 15m 34s\n",
      "188:\tlearn: 0.7479644\ttotal: 3m 37s\tremaining: 15m 32s\n",
      "189:\tlearn: 0.7482988\ttotal: 3m 38s\tremaining: 15m 31s\n",
      "190:\tlearn: 0.7482124\ttotal: 3m 39s\tremaining: 15m 30s\n",
      "191:\tlearn: 0.7483935\ttotal: 3m 40s\tremaining: 15m 29s\n",
      "192:\tlearn: 0.7482119\ttotal: 3m 42s\tremaining: 15m 28s\n",
      "193:\tlearn: 0.7484029\ttotal: 3m 43s\tremaining: 15m 27s\n",
      "194:\tlearn: 0.7486905\ttotal: 3m 44s\tremaining: 15m 26s\n",
      "195:\tlearn: 0.7492161\ttotal: 3m 45s\tremaining: 15m 24s\n",
      "196:\tlearn: 0.7490244\ttotal: 3m 46s\tremaining: 15m 23s\n",
      "197:\tlearn: 0.7493495\ttotal: 3m 47s\tremaining: 15m 22s\n",
      "198:\tlearn: 0.7493396\ttotal: 3m 48s\tremaining: 15m 20s\n",
      "199:\tlearn: 0.7494929\ttotal: 3m 49s\tremaining: 15m 19s\n",
      "200:\tlearn: 0.7491867\ttotal: 3m 50s\tremaining: 15m 17s\n",
      "201:\tlearn: 0.7492727\ttotal: 3m 52s\tremaining: 15m 16s\n",
      "202:\tlearn: 0.7494450\ttotal: 3m 53s\tremaining: 15m 15s\n",
      "203:\tlearn: 0.7496747\ttotal: 3m 54s\tremaining: 15m 14s\n",
      "204:\tlearn: 0.7497225\ttotal: 3m 55s\tremaining: 15m 12s\n",
      "205:\tlearn: 0.7498469\ttotal: 3m 56s\tremaining: 15m 11s\n",
      "206:\tlearn: 0.7498375\ttotal: 3m 57s\tremaining: 15m 10s\n",
      "207:\tlearn: 0.7499904\ttotal: 3m 58s\tremaining: 15m 9s\n",
      "208:\tlearn: 0.7497322\ttotal: 3m 59s\tremaining: 15m 8s\n",
      "209:\tlearn: 0.7500000\ttotal: 4m 1s\tremaining: 15m 6s\n",
      "210:\tlearn: 0.7502009\ttotal: 4m 2s\tremaining: 15m 5s\n",
      "211:\tlearn: 0.7502872\ttotal: 4m 3s\tremaining: 15m 4s\n",
      "212:\tlearn: 0.7505647\ttotal: 4m 4s\tremaining: 15m 3s\n",
      "213:\tlearn: 0.7509576\ttotal: 4m 5s\tremaining: 15m 1s\n",
      "214:\tlearn: 0.7513025\ttotal: 4m 6s\tremaining: 15m\n",
      "215:\tlearn: 0.7511208\ttotal: 4m 7s\tremaining: 14m 58s\n",
      "216:\tlearn: 0.7510924\ttotal: 4m 8s\tremaining: 14m 57s\n",
      "217:\tlearn: 0.7513605\ttotal: 4m 9s\tremaining: 14m 56s\n",
      "218:\tlearn: 0.7519160\ttotal: 4m 10s\tremaining: 14m 54s\n",
      "219:\tlearn: 0.7522409\ttotal: 4m 12s\tremaining: 14m 53s\n",
      "220:\tlearn: 0.7521931\ttotal: 4m 13s\tremaining: 14m 52s\n",
      "221:\tlearn: 0.7524426\ttotal: 4m 14s\tremaining: 14m 50s\n",
      "222:\tlearn: 0.7524328\ttotal: 4m 15s\tremaining: 14m 49s\n",
      "223:\tlearn: 0.7528718\ttotal: 4m 16s\tremaining: 14m 49s\n",
      "224:\tlearn: 0.7532557\ttotal: 4m 17s\tremaining: 14m 47s\n",
      "225:\tlearn: 0.7532945\ttotal: 4m 18s\tremaining: 14m 46s\n",
      "226:\tlearn: 0.7534766\ttotal: 4m 19s\tremaining: 14m 44s\n",
      "227:\tlearn: 0.7537265\ttotal: 4m 21s\tremaining: 14m 43s\n",
      "228:\tlearn: 0.7537631\ttotal: 4m 22s\tremaining: 14m 42s\n",
      "229:\tlearn: 0.7537454\ttotal: 4m 23s\tremaining: 14m 41s\n",
      "230:\tlearn: 0.7535821\ttotal: 4m 24s\tremaining: 14m 40s\n",
      "231:\tlearn: 0.7534388\ttotal: 4m 25s\tremaining: 14m 38s\n",
      "232:\tlearn: 0.7535821\ttotal: 4m 26s\tremaining: 14m 37s\n",
      "233:\tlearn: 0.7536387\ttotal: 4m 27s\tremaining: 14m 36s\n",
      "234:\tlearn: 0.7537631\ttotal: 4m 28s\tremaining: 14m 34s\n",
      "235:\tlearn: 0.7539640\ttotal: 4m 29s\tremaining: 14m 33s\n",
      "236:\tlearn: 0.7541549\ttotal: 4m 31s\tremaining: 14m 32s\n",
      "237:\tlearn: 0.7545768\ttotal: 4m 32s\tremaining: 14m 31s\n",
      "238:\tlearn: 0.7546245\ttotal: 4m 33s\tremaining: 14m 30s\n",
      "239:\tlearn: 0.7548629\ttotal: 4m 34s\tremaining: 14m 29s\n",
      "240:\tlearn: 0.7548528\ttotal: 4m 35s\tremaining: 14m 28s\n",
      "241:\tlearn: 0.7549091\ttotal: 4m 36s\tremaining: 14m 27s\n",
      "242:\tlearn: 0.7549380\ttotal: 4m 37s\tremaining: 14m 25s\n",
      "243:\tlearn: 0.7554450\ttotal: 4m 39s\tremaining: 14m 25s\n",
      "244:\tlearn: 0.7556644\ttotal: 4m 40s\tremaining: 14m 23s\n",
      "245:\tlearn: 0.7557120\ttotal: 4m 41s\tremaining: 14m 22s\n",
      "246:\tlearn: 0.7556066\ttotal: 4m 42s\tremaining: 14m 21s\n",
      "247:\tlearn: 0.7557120\ttotal: 4m 43s\tremaining: 14m 19s\n",
      "248:\tlearn: 0.7557223\ttotal: 4m 44s\tremaining: 14m 18s\n",
      "249:\tlearn: 0.7557597\ttotal: 4m 45s\tremaining: 14m 17s\n",
      "250:\tlearn: 0.7559724\ttotal: 4m 46s\tremaining: 14m 16s\n",
      "251:\tlearn: 0.7561359\ttotal: 4m 47s\tremaining: 14m 14s\n",
      "252:\tlearn: 0.7560985\ttotal: 4m 49s\tremaining: 14m 13s\n",
      "253:\tlearn: 0.7564898\ttotal: 4m 50s\tremaining: 14m 12s\n",
      "254:\tlearn: 0.7566553\ttotal: 4m 51s\tremaining: 14m 10s\n",
      "255:\tlearn: 0.7567029\ttotal: 4m 52s\tremaining: 14m 9s\n",
      "256:\tlearn: 0.7566077\ttotal: 4m 53s\tremaining: 14m 8s\n",
      "257:\tlearn: 0.7566450\ttotal: 4m 54s\tremaining: 14m 6s\n",
      "258:\tlearn: 0.7565684\ttotal: 4m 55s\tremaining: 14m 5s\n",
      "259:\tlearn: 0.7566946\ttotal: 4m 56s\tremaining: 14m 4s\n",
      "260:\tlearn: 0.7569907\ttotal: 4m 57s\tremaining: 14m 3s\n",
      "261:\tlearn: 0.7571440\ttotal: 4m 59s\tremaining: 14m 3s\n",
      "262:\tlearn: 0.7576593\ttotal: 5m\tremaining: 14m 2s\n",
      "263:\tlearn: 0.7575723\ttotal: 5m 1s\tremaining: 14m 1s\n",
      "264:\tlearn: 0.7575804\ttotal: 5m 2s\tremaining: 14m\n",
      "265:\tlearn: 0.7575618\ttotal: 5m 3s\tremaining: 13m 58s\n",
      "266:\tlearn: 0.7576303\ttotal: 5m 5s\tremaining: 13m 57s\n",
      "267:\tlearn: 0.7577730\ttotal: 5m 6s\tremaining: 13m 56s\n",
      "268:\tlearn: 0.7578601\ttotal: 5m 7s\tremaining: 13m 55s\n",
      "269:\tlearn: 0.7578601\ttotal: 5m 8s\tremaining: 13m 53s\n",
      "270:\tlearn: 0.7579076\ttotal: 5m 9s\tremaining: 13m 52s\n",
      "271:\tlearn: 0.7580133\ttotal: 5m 10s\tremaining: 13m 51s\n",
      "272:\tlearn: 0.7578439\ttotal: 5m 11s\tremaining: 13m 50s\n",
      "273:\tlearn: 0.7580133\ttotal: 5m 12s\tremaining: 13m 49s\n",
      "274:\tlearn: 0.7579947\ttotal: 5m 13s\tremaining: 13m 47s\n",
      "275:\tlearn: 0.7580318\ttotal: 5m 15s\tremaining: 13m 46s\n",
      "276:\tlearn: 0.7583962\ttotal: 5m 16s\tremaining: 13m 45s\n",
      "277:\tlearn: 0.7585890\ttotal: 5m 17s\tremaining: 13m 44s\n",
      "278:\tlearn: 0.7586418\ttotal: 5m 18s\tremaining: 13m 42s\n",
      "279:\tlearn: 0.7588215\ttotal: 5m 19s\tremaining: 13m 41s\n",
      "280:\tlearn: 0.7590486\ttotal: 5m 20s\tremaining: 13m 40s\n",
      "281:\tlearn: 0.7591671\ttotal: 5m 21s\tremaining: 13m 39s\n",
      "282:\tlearn: 0.7591330\ttotal: 5m 23s\tremaining: 13m 38s\n",
      "283:\tlearn: 0.7592678\ttotal: 5m 24s\tremaining: 13m 37s\n",
      "284:\tlearn: 0.7593763\ttotal: 5m 25s\tremaining: 13m 36s\n",
      "285:\tlearn: 0.7592891\ttotal: 5m 26s\tremaining: 13m 35s\n",
      "286:\tlearn: 0.7592891\ttotal: 5m 27s\tremaining: 13m 34s\n",
      "287:\tlearn: 0.7593657\ttotal: 5m 28s\tremaining: 13m 33s\n",
      "288:\tlearn: 0.7593948\ttotal: 5m 30s\tremaining: 13m 32s\n",
      "289:\tlearn: 0.7595111\ttotal: 5m 31s\tremaining: 13m 30s\n",
      "290:\tlearn: 0.7596537\ttotal: 5m 32s\tremaining: 13m 29s\n",
      "291:\tlearn: 0.7597671\ttotal: 5m 33s\tremaining: 13m 28s\n",
      "292:\tlearn: 0.7599203\ttotal: 5m 34s\tremaining: 13m 27s\n",
      "293:\tlearn: 0.7604274\ttotal: 5m 35s\tremaining: 13m 25s\n",
      "294:\tlearn: 0.7604673\ttotal: 5m 36s\tremaining: 13m 24s\n",
      "295:\tlearn: 0.7606497\ttotal: 5m 37s\tremaining: 13m 23s\n",
      "296:\tlearn: 0.7608104\ttotal: 5m 38s\tremaining: 13m 21s\n",
      "297:\tlearn: 0.7611900\ttotal: 5m 39s\tremaining: 13m 20s\n",
      "298:\tlearn: 0.7611135\ttotal: 5m 41s\tremaining: 13m 19s\n",
      "299:\tlearn: 0.7612483\ttotal: 5m 42s\tremaining: 13m 18s\n",
      "300:\tlearn: 0.7613871\ttotal: 5m 43s\tremaining: 13m 17s\n",
      "301:\tlearn: 0.7613106\ttotal: 5m 44s\tremaining: 13m 15s\n",
      "302:\tlearn: 0.7612632\ttotal: 5m 45s\tremaining: 13m 14s\n",
      "303:\tlearn: 0.7613106\ttotal: 5m 46s\tremaining: 13m 13s\n",
      "304:\tlearn: 0.7615803\ttotal: 5m 47s\tremaining: 13m 11s\n",
      "305:\tlearn: 0.7619777\ttotal: 5m 48s\tremaining: 13m 10s\n",
      "306:\tlearn: 0.7619959\ttotal: 5m 49s\tremaining: 13m 9s\n",
      "307:\tlearn: 0.7623023\ttotal: 5m 50s\tremaining: 13m 8s\n",
      "308:\tlearn: 0.7621636\ttotal: 5m 51s\tremaining: 13m 7s\n",
      "309:\tlearn: 0.7623971\ttotal: 5m 53s\tremaining: 13m 5s\n",
      "310:\tlearn: 0.7624191\ttotal: 5m 54s\tremaining: 13m 4s\n",
      "311:\tlearn: 0.7623243\ttotal: 5m 55s\tremaining: 13m 3s\n",
      "312:\tlearn: 0.7627547\ttotal: 5m 56s\tremaining: 13m 2s\n",
      "313:\tlearn: 0.7630682\ttotal: 5m 57s\tremaining: 13m 1s\n",
      "314:\tlearn: 0.7631156\ttotal: 5m 58s\tremaining: 12m 59s\n",
      "315:\tlearn: 0.7633243\ttotal: 5m 59s\tremaining: 12m 58s\n",
      "316:\tlearn: 0.7633564\ttotal: 6m\tremaining: 12m 57s\n",
      "317:\tlearn: 0.7634985\ttotal: 6m 2s\tremaining: 12m 56s\n",
      "318:\tlearn: 0.7635528\ttotal: 6m 3s\tremaining: 12m 56s\n",
      "319:\tlearn: 0.7634178\ttotal: 6m 4s\tremaining: 12m 55s\n",
      "320:\tlearn: 0.7637241\ttotal: 6m 6s\tremaining: 12m 54s\n",
      "321:\tlearn: 0.7637422\ttotal: 6m 7s\tremaining: 12m 53s\n",
      "322:\tlearn: 0.7638368\ttotal: 6m 8s\tremaining: 12m 52s\n",
      "323:\tlearn: 0.7640596\ttotal: 6m 9s\tremaining: 12m 51s\n",
      "324:\tlearn: 0.7639718\ttotal: 6m 10s\tremaining: 12m 49s\n",
      "325:\tlearn: 0.7641791\ttotal: 6m 11s\tremaining: 12m 48s\n",
      "326:\tlearn: 0.7641318\ttotal: 6m 13s\tremaining: 12m 47s\n",
      "327:\tlearn: 0.7644921\ttotal: 6m 14s\tremaining: 12m 46s\n",
      "328:\tlearn: 0.7645101\ttotal: 6m 15s\tremaining: 12m 45s\n",
      "329:\tlearn: 0.7646744\ttotal: 6m 16s\tremaining: 12m 44s\n",
      "330:\tlearn: 0.7646564\ttotal: 6m 17s\tremaining: 12m 43s\n",
      "331:\tlearn: 0.7647734\ttotal: 6m 18s\tremaining: 12m 42s\n",
      "332:\tlearn: 0.7649085\ttotal: 6m 19s\tremaining: 12m 41s\n",
      "333:\tlearn: 0.7648905\ttotal: 6m 21s\tremaining: 12m 39s\n",
      "334:\tlearn: 0.7649265\ttotal: 6m 22s\tremaining: 12m 38s\n",
      "335:\tlearn: 0.7649738\ttotal: 6m 23s\tremaining: 12m 37s\n",
      "336:\tlearn: 0.7652780\ttotal: 6m 24s\tremaining: 12m 36s\n",
      "337:\tlearn: 0.7654198\ttotal: 6m 25s\tremaining: 12m 35s\n",
      "338:\tlearn: 0.7654359\ttotal: 6m 26s\tremaining: 12m 33s\n",
      "339:\tlearn: 0.7654898\ttotal: 6m 27s\tremaining: 12m 32s\n",
      "340:\tlearn: 0.7655664\ttotal: 6m 28s\tremaining: 12m 31s\n",
      "341:\tlearn: 0.7656430\ttotal: 6m 29s\tremaining: 12m 30s\n",
      "342:\tlearn: 0.7657554\ttotal: 6m 31s\tremaining: 12m 29s\n",
      "343:\tlearn: 0.7659265\ttotal: 6m 32s\tremaining: 12m 27s\n",
      "344:\tlearn: 0.7662263\ttotal: 6m 33s\tremaining: 12m 26s\n",
      "345:\tlearn: 0.7664510\ttotal: 6m 34s\tremaining: 12m 25s\n",
      "346:\tlearn: 0.7664854\ttotal: 6m 35s\tremaining: 12m 24s\n",
      "347:\tlearn: 0.7666565\ttotal: 6m 36s\tremaining: 12m 22s\n",
      "348:\tlearn: 0.7667624\ttotal: 6m 37s\tremaining: 12m 21s\n",
      "349:\tlearn: 0.7666973\ttotal: 6m 38s\tremaining: 12m 20s\n",
      "350:\tlearn: 0.7666092\ttotal: 6m 40s\tremaining: 12m 19s\n",
      "351:\tlearn: 0.7665799\ttotal: 6m 41s\tremaining: 12m 19s\n",
      "352:\tlearn: 0.7666501\ttotal: 6m 42s\tremaining: 12m 18s\n",
      "353:\tlearn: 0.7667215\ttotal: 6m 43s\tremaining: 12m 17s\n",
      "354:\tlearn: 0.7670635\ttotal: 6m 45s\tremaining: 12m 16s\n",
      "355:\tlearn: 0.7670929\ttotal: 6m 46s\tremaining: 12m 15s\n",
      "356:\tlearn: 0.7670929\ttotal: 6m 47s\tremaining: 12m 14s\n",
      "357:\tlearn: 0.7669985\ttotal: 6m 48s\tremaining: 12m 12s\n",
      "358:\tlearn: 0.7669869\ttotal: 6m 49s\tremaining: 12m 11s\n",
      "359:\tlearn: 0.7670813\ttotal: 6m 50s\tremaining: 12m 10s\n",
      "360:\tlearn: 0.7673698\ttotal: 6m 51s\tremaining: 12m 9s\n",
      "361:\tlearn: 0.7673226\ttotal: 6m 53s\tremaining: 12m 7s\n",
      "362:\tlearn: 0.7673876\ttotal: 6m 54s\tremaining: 12m 6s\n",
      "363:\tlearn: 0.7674169\ttotal: 6m 55s\tremaining: 12m 5s\n",
      "364:\tlearn: 0.7674873\ttotal: 6m 56s\tremaining: 12m 4s\n",
      "365:\tlearn: 0.7675932\ttotal: 6m 57s\tremaining: 12m 3s\n",
      "366:\tlearn: 0.7677170\ttotal: 6m 58s\tremaining: 12m 2s\n",
      "367:\tlearn: 0.7678407\ttotal: 7m\tremaining: 12m 1s\n",
      "368:\tlearn: 0.7678113\ttotal: 7m 1s\tremaining: 12m\n",
      "369:\tlearn: 0.7678585\ttotal: 7m 2s\tremaining: 11m 59s\n",
      "370:\tlearn: 0.7678941\ttotal: 7m 3s\tremaining: 11m 58s\n",
      "371:\tlearn: 0.7679118\ttotal: 7m 4s\tremaining: 11m 57s\n",
      "372:\tlearn: 0.7680766\ttotal: 7m 5s\tremaining: 11m 55s\n",
      "373:\tlearn: 0.7680943\ttotal: 7m 6s\tremaining: 11m 54s\n",
      "374:\tlearn: 0.7684299\ttotal: 7m 7s\tremaining: 11m 53s\n",
      "375:\tlearn: 0.7685359\ttotal: 7m 8s\tremaining: 11m 51s\n",
      "376:\tlearn: 0.7686950\ttotal: 7m 10s\tremaining: 11m 50s\n",
      "377:\tlearn: 0.7686362\ttotal: 7m 11s\tremaining: 11m 49s\n",
      "378:\tlearn: 0.7684593\ttotal: 7m 12s\tremaining: 11m 48s\n",
      "379:\tlearn: 0.7687773\ttotal: 7m 13s\tremaining: 11m 47s\n",
      "380:\tlearn: 0.7688715\ttotal: 7m 14s\tremaining: 11m 45s\n",
      "381:\tlearn: 0.7689304\ttotal: 7m 15s\tremaining: 11m 44s\n",
      "382:\tlearn: 0.7690070\ttotal: 7m 16s\tremaining: 11m 43s\n",
      "383:\tlearn: 0.7691837\ttotal: 7m 18s\tremaining: 11m 42s\n",
      "384:\tlearn: 0.7692249\ttotal: 7m 19s\tremaining: 11m 41s\n",
      "385:\tlearn: 0.7691012\ttotal: 7m 20s\tremaining: 11m 40s\n",
      "386:\tlearn: 0.7689598\ttotal: 7m 21s\tremaining: 11m 39s\n",
      "387:\tlearn: 0.7692484\ttotal: 7m 22s\tremaining: 11m 38s\n",
      "388:\tlearn: 0.7695958\ttotal: 7m 23s\tremaining: 11m 37s\n",
      "389:\tlearn: 0.7695253\ttotal: 7m 24s\tremaining: 11m 35s\n",
      "390:\tlearn: 0.7695782\ttotal: 7m 26s\tremaining: 11m 34s\n",
      "391:\tlearn: 0.7695193\ttotal: 7m 27s\tremaining: 11m 33s\n",
      "392:\tlearn: 0.7697608\ttotal: 7m 28s\tremaining: 11m 32s\n",
      "393:\tlearn: 0.7699020\ttotal: 7m 29s\tremaining: 11m 31s\n",
      "394:\tlearn: 0.7698373\ttotal: 7m 30s\tremaining: 11m 30s\n",
      "395:\tlearn: 0.7698255\ttotal: 7m 32s\tremaining: 11m 29s\n",
      "396:\tlearn: 0.7698844\ttotal: 7m 33s\tremaining: 11m 28s\n",
      "397:\tlearn: 0.7703437\ttotal: 7m 34s\tremaining: 11m 27s\n",
      "398:\tlearn: 0.7705025\ttotal: 7m 36s\tremaining: 11m 26s\n",
      "399:\tlearn: 0.7705320\ttotal: 7m 37s\tremaining: 11m 25s\n",
      "400:\tlearn: 0.7707026\ttotal: 7m 38s\tremaining: 11m 24s\n",
      "401:\tlearn: 0.7707496\ttotal: 7m 39s\tremaining: 11m 23s\n",
      "402:\tlearn: 0.7708142\ttotal: 7m 40s\tremaining: 11m 21s\n",
      "403:\tlearn: 0.7705025\ttotal: 7m 41s\tremaining: 11m 20s\n",
      "404:\tlearn: 0.7705790\ttotal: 7m 42s\tremaining: 11m 19s\n",
      "405:\tlearn: 0.7707496\ttotal: 7m 43s\tremaining: 11m 18s\n",
      "406:\tlearn: 0.7706141\ttotal: 7m 44s\tremaining: 11m 17s\n",
      "407:\tlearn: 0.7706436\ttotal: 7m 45s\tremaining: 11m 16s\n",
      "408:\tlearn: 0.7707616\ttotal: 7m 47s\tremaining: 11m 15s\n",
      "409:\tlearn: 0.7708086\ttotal: 7m 48s\tremaining: 11m 14s\n",
      "410:\tlearn: 0.7708262\ttotal: 7m 49s\tremaining: 11m 13s\n",
      "411:\tlearn: 0.7707911\ttotal: 7m 50s\tremaining: 11m 12s\n",
      "412:\tlearn: 0.7709561\ttotal: 7m 52s\tremaining: 11m 11s\n",
      "413:\tlearn: 0.7711212\ttotal: 7m 53s\tremaining: 11m 10s\n",
      "414:\tlearn: 0.7709801\ttotal: 7m 54s\tremaining: 11m 9s\n",
      "415:\tlearn: 0.7710622\ttotal: 7m 55s\tremaining: 11m 8s\n",
      "416:\tlearn: 0.7714275\ttotal: 7m 57s\tremaining: 11m 7s\n",
      "417:\tlearn: 0.7716451\ttotal: 7m 58s\tremaining: 11m 6s\n",
      "418:\tlearn: 0.7717337\ttotal: 7m 59s\tremaining: 11m 4s\n",
      "419:\tlearn: 0.7715095\ttotal: 8m\tremaining: 11m 3s\n",
      "420:\tlearn: 0.7720453\ttotal: 8m 1s\tremaining: 11m 2s\n",
      "421:\tlearn: 0.7722333\ttotal: 8m 3s\tremaining: 11m 2s\n",
      "422:\tlearn: 0.7723985\ttotal: 8m 4s\tremaining: 11m\n",
      "423:\tlearn: 0.7724750\ttotal: 8m 5s\tremaining: 10m 59s\n",
      "424:\tlearn: 0.7725394\ttotal: 8m 6s\tremaining: 10m 58s\n",
      "425:\tlearn: 0.7728751\ttotal: 8m 7s\tremaining: 10m 57s\n",
      "426:\tlearn: 0.7728925\ttotal: 8m 8s\tremaining: 10m 56s\n",
      "427:\tlearn: 0.7732038\ttotal: 8m 10s\tremaining: 10m 54s\n",
      "428:\tlearn: 0.7732089\ttotal: 8m 11s\tremaining: 10m 53s\n",
      "429:\tlearn: 0.7732262\ttotal: 8m 12s\tremaining: 10m 52s\n",
      "430:\tlearn: 0.7731967\ttotal: 8m 13s\tremaining: 10m 51s\n",
      "431:\tlearn: 0.7731793\ttotal: 8m 14s\tremaining: 10m 50s\n",
      "432:\tlearn: 0.7734557\ttotal: 8m 15s\tremaining: 10m 49s\n",
      "433:\tlearn: 0.7734088\ttotal: 8m 16s\tremaining: 10m 47s\n",
      "434:\tlearn: 0.7733446\ttotal: 8m 18s\tremaining: 10m 47s\n",
      "435:\tlearn: 0.7732436\ttotal: 8m 19s\tremaining: 10m 46s\n",
      "436:\tlearn: 0.7733374\ttotal: 8m 20s\tremaining: 10m 45s\n",
      "437:\tlearn: 0.7735026\ttotal: 8m 22s\tremaining: 10m 44s\n",
      "438:\tlearn: 0.7736138\ttotal: 8m 23s\tremaining: 10m 43s\n",
      "439:\tlearn: 0.7736311\ttotal: 8m 24s\tremaining: 10m 42s\n",
      "440:\tlearn: 0.7737544\ttotal: 8m 26s\tremaining: 10m 41s\n",
      "441:\tlearn: 0.7738309\ttotal: 8m 27s\tremaining: 10m 40s\n",
      "442:\tlearn: 0.7741960\ttotal: 8m 28s\tremaining: 10m 39s\n",
      "443:\tlearn: 0.7742133\ttotal: 8m 29s\tremaining: 10m 38s\n",
      "444:\tlearn: 0.7740727\ttotal: 8m 31s\tremaining: 10m 37s\n",
      "445:\tlearn: 0.7739370\ttotal: 8m 32s\tremaining: 10m 36s\n",
      "446:\tlearn: 0.7740603\ttotal: 8m 33s\tremaining: 10m 35s\n",
      "447:\tlearn: 0.7742478\ttotal: 8m 34s\tremaining: 10m 34s\n",
      "448:\tlearn: 0.7742355\ttotal: 8m 36s\tremaining: 10m 33s\n",
      "449:\tlearn: 0.7741763\ttotal: 8m 37s\tremaining: 10m 32s\n",
      "450:\tlearn: 0.7742872\ttotal: 8m 38s\tremaining: 10m 31s\n",
      "451:\tlearn: 0.7742996\ttotal: 8m 40s\tremaining: 10m 30s\n",
      "452:\tlearn: 0.7743490\ttotal: 8m 41s\tremaining: 10m 29s\n",
      "453:\tlearn: 0.7743194\ttotal: 8m 42s\tremaining: 10m 28s\n",
      "454:\tlearn: 0.7745660\ttotal: 8m 43s\tremaining: 10m 27s\n",
      "455:\tlearn: 0.7744674\ttotal: 8m 44s\tremaining: 10m 26s\n",
      "456:\tlearn: 0.7745315\ttotal: 8m 46s\tremaining: 10m 25s\n",
      "457:\tlearn: 0.7744847\ttotal: 8m 47s\tremaining: 10m 24s\n",
      "458:\tlearn: 0.7745784\ttotal: 8m 48s\tremaining: 10m 22s\n",
      "459:\tlearn: 0.7747486\ttotal: 8m 49s\tremaining: 10m 21s\n",
      "460:\tlearn: 0.7748719\ttotal: 8m 50s\tremaining: 10m 20s\n",
      "461:\tlearn: 0.7748719\ttotal: 8m 51s\tremaining: 10m 19s\n",
      "462:\tlearn: 0.7751138\ttotal: 8m 53s\tremaining: 10m 18s\n",
      "463:\tlearn: 0.7750296\ttotal: 8m 54s\tremaining: 10m 17s\n",
      "464:\tlearn: 0.7750593\ttotal: 8m 55s\tremaining: 10m 15s\n",
      "465:\tlearn: 0.7752964\ttotal: 8m 56s\tremaining: 10m 14s\n",
      "466:\tlearn: 0.7754369\ttotal: 8m 57s\tremaining: 10m 13s\n",
      "467:\tlearn: 0.7753947\ttotal: 8m 58s\tremaining: 10m 12s\n",
      "468:\tlearn: 0.7756288\ttotal: 9m\tremaining: 10m 11s\n",
      "469:\tlearn: 0.7754712\ttotal: 9m 1s\tremaining: 10m 10s\n",
      "470:\tlearn: 0.7755180\ttotal: 9m 2s\tremaining: 10m 9s\n",
      "471:\tlearn: 0.7754587\ttotal: 9m 3s\tremaining: 10m 8s\n",
      "472:\tlearn: 0.7754072\ttotal: 9m 5s\tremaining: 10m 7s\n",
      "473:\tlearn: 0.7753823\ttotal: 9m 6s\tremaining: 10m 6s\n",
      "474:\tlearn: 0.7754119\ttotal: 9m 7s\tremaining: 10m 5s\n",
      "475:\tlearn: 0.7753947\ttotal: 9m 8s\tremaining: 10m 4s\n",
      "476:\tlearn: 0.7754759\ttotal: 9m 9s\tremaining: 10m 2s\n",
      "477:\tlearn: 0.7755398\ttotal: 9m 11s\tremaining: 10m 1s\n",
      "478:\tlearn: 0.7758878\ttotal: 9m 12s\tremaining: 10m\n",
      "479:\tlearn: 0.7759688\ttotal: 9m 13s\tremaining: 9m 59s\n",
      "480:\tlearn: 0.7757988\ttotal: 9m 14s\tremaining: 9m 58s\n",
      "481:\tlearn: 0.7759220\ttotal: 9m 15s\tremaining: 9m 57s\n",
      "482:\tlearn: 0.7759813\ttotal: 9m 17s\tremaining: 9m 56s\n",
      "483:\tlearn: 0.7761046\ttotal: 9m 18s\tremaining: 9m 55s\n",
      "484:\tlearn: 0.7759174\ttotal: 9m 19s\tremaining: 9m 54s\n",
      "485:\tlearn: 0.7760407\ttotal: 9m 20s\tremaining: 9m 52s\n",
      "486:\tlearn: 0.7761468\ttotal: 9m 21s\tremaining: 9m 51s\n",
      "487:\tlearn: 0.7761639\ttotal: 9m 22s\tremaining: 9m 50s\n",
      "488:\tlearn: 0.7763294\ttotal: 9m 23s\tremaining: 9m 49s\n",
      "489:\tlearn: 0.7763168\ttotal: 9m 24s\tremaining: 9m 47s\n",
      "490:\tlearn: 0.7764949\ttotal: 9m 26s\tremaining: 9m 46s\n",
      "491:\tlearn: 0.7765966\ttotal: 9m 27s\tremaining: 9m 45s\n",
      "492:\tlearn: 0.7767451\ttotal: 9m 28s\tremaining: 9m 44s\n",
      "493:\tlearn: 0.7767154\ttotal: 9m 29s\tremaining: 9m 43s\n",
      "494:\tlearn: 0.7766433\ttotal: 9m 30s\tremaining: 9m 42s\n",
      "495:\tlearn: 0.7766433\ttotal: 9m 32s\tremaining: 9m 41s\n",
      "496:\tlearn: 0.7766604\ttotal: 9m 33s\tremaining: 9m 40s\n",
      "497:\tlearn: 0.7767243\ttotal: 9m 34s\tremaining: 9m 39s\n",
      "498:\tlearn: 0.7767413\ttotal: 9m 35s\tremaining: 9m 38s\n",
      "499:\tlearn: 0.7767116\ttotal: 9m 37s\tremaining: 9m 37s\n",
      "500:\tlearn: 0.7768772\ttotal: 9m 38s\tremaining: 9m 35s\n",
      "501:\tlearn: 0.7767837\ttotal: 9m 39s\tremaining: 9m 34s\n",
      "502:\tlearn: 0.7768943\ttotal: 9m 40s\tremaining: 9m 33s\n",
      "503:\tlearn: 0.7767584\ttotal: 9m 41s\tremaining: 9m 32s\n",
      "504:\tlearn: 0.7769284\ttotal: 9m 43s\tremaining: 9m 31s\n",
      "505:\tlearn: 0.7770048\ttotal: 9m 44s\tremaining: 9m 30s\n",
      "506:\tlearn: 0.7769878\ttotal: 9m 45s\tremaining: 9m 29s\n",
      "507:\tlearn: 0.7770686\ttotal: 9m 46s\tremaining: 9m 28s\n",
      "508:\tlearn: 0.7774975\ttotal: 9m 48s\tremaining: 9m 27s\n",
      "509:\tlearn: 0.7776334\ttotal: 9m 49s\tremaining: 9m 26s\n",
      "510:\tlearn: 0.7776631\ttotal: 9m 50s\tremaining: 9m 24s\n",
      "511:\tlearn: 0.7779180\ttotal: 9m 51s\tremaining: 9m 23s\n",
      "512:\tlearn: 0.7778075\ttotal: 9m 52s\tremaining: 9m 22s\n",
      "513:\tlearn: 0.7778245\ttotal: 9m 54s\tremaining: 9m 21s\n",
      "514:\tlearn: 0.7779010\ttotal: 9m 55s\tremaining: 9m 20s\n",
      "515:\tlearn: 0.7780242\ttotal: 9m 56s\tremaining: 9m 19s\n",
      "516:\tlearn: 0.7780200\ttotal: 9m 57s\tremaining: 9m 18s\n",
      "517:\tlearn: 0.7781771\ttotal: 9m 58s\tremaining: 9m 17s\n",
      "518:\tlearn: 0.7786230\ttotal: 10m\tremaining: 9m 16s\n",
      "519:\tlearn: 0.7786230\ttotal: 10m 1s\tremaining: 9m 15s\n",
      "520:\tlearn: 0.7787929\ttotal: 10m 2s\tremaining: 9m 14s\n",
      "521:\tlearn: 0.7787929\ttotal: 10m 3s\tremaining: 9m 12s\n",
      "522:\tlearn: 0.7789627\ttotal: 10m 5s\tremaining: 9m 11s\n",
      "523:\tlearn: 0.7789627\ttotal: 10m 6s\tremaining: 9m 10s\n",
      "524:\tlearn: 0.7788098\ttotal: 10m 7s\tremaining: 9m 9s\n",
      "525:\tlearn: 0.7788733\ttotal: 10m 8s\tremaining: 9m 8s\n",
      "526:\tlearn: 0.7789924\ttotal: 10m 9s\tremaining: 9m 6s\n",
      "527:\tlearn: 0.7790222\ttotal: 10m 10s\tremaining: 9m 5s\n",
      "528:\tlearn: 0.7792049\ttotal: 10m 11s\tremaining: 9m 4s\n",
      "529:\tlearn: 0.7792218\ttotal: 10m 12s\tremaining: 9m 3s\n",
      "530:\tlearn: 0.7791622\ttotal: 10m 13s\tremaining: 9m 2s\n",
      "531:\tlearn: 0.7792645\ttotal: 10m 14s\tremaining: 9m\n",
      "532:\tlearn: 0.7792009\ttotal: 10m 15s\tremaining: 8m 59s\n",
      "533:\tlearn: 0.7792645\ttotal: 10m 17s\tremaining: 8m 58s\n",
      "534:\tlearn: 0.7793578\ttotal: 10m 18s\tremaining: 8m 57s\n",
      "535:\tlearn: 0.7794640\ttotal: 10m 19s\tremaining: 8m 55s\n",
      "536:\tlearn: 0.7794174\ttotal: 10m 20s\tremaining: 8m 54s\n",
      "537:\tlearn: 0.7795574\ttotal: 10m 21s\tremaining: 8m 53s\n",
      "538:\tlearn: 0.7797530\ttotal: 10m 22s\tremaining: 8m 52s\n",
      "539:\tlearn: 0.7796934\ttotal: 10m 23s\tremaining: 8m 51s\n",
      "540:\tlearn: 0.7797867\ttotal: 10m 24s\tremaining: 8m 49s\n",
      "541:\tlearn: 0.7797867\ttotal: 10m 25s\tremaining: 8m 48s\n",
      "542:\tlearn: 0.7797569\ttotal: 10m 26s\tremaining: 8m 47s\n",
      "543:\tlearn: 0.7800199\ttotal: 10m 27s\tremaining: 8m 46s\n",
      "544:\tlearn: 0.7800069\ttotal: 10m 28s\tremaining: 8m 45s\n",
      "545:\tlearn: 0.7800833\ttotal: 10m 30s\tremaining: 8m 43s\n",
      "546:\tlearn: 0.7801429\ttotal: 10m 31s\tremaining: 8m 42s\n",
      "547:\tlearn: 0.7801261\ttotal: 10m 32s\tremaining: 8m 41s\n",
      "548:\tlearn: 0.7800795\ttotal: 10m 33s\tremaining: 8m 40s\n",
      "549:\tlearn: 0.7801895\ttotal: 10m 34s\tremaining: 8m 39s\n",
      "550:\tlearn: 0.7800627\ttotal: 10m 35s\tremaining: 8m 38s\n",
      "551:\tlearn: 0.7800925\ttotal: 10m 36s\tremaining: 8m 36s\n",
      "552:\tlearn: 0.7801261\ttotal: 10m 37s\tremaining: 8m 35s\n",
      "553:\tlearn: 0.7801895\ttotal: 10m 38s\tremaining: 8m 34s\n",
      "554:\tlearn: 0.7804188\ttotal: 10m 40s\tremaining: 8m 33s\n",
      "555:\tlearn: 0.7803554\ttotal: 10m 41s\tremaining: 8m 32s\n",
      "556:\tlearn: 0.7802790\ttotal: 10m 42s\tremaining: 8m 30s\n",
      "557:\tlearn: 0.7807115\ttotal: 10m 43s\tremaining: 8m 29s\n",
      "558:\tlearn: 0.7807879\ttotal: 10m 44s\tremaining: 8m 28s\n",
      "559:\tlearn: 0.7808308\ttotal: 10m 45s\tremaining: 8m 27s\n",
      "560:\tlearn: 0.7811401\ttotal: 10m 46s\tremaining: 8m 26s\n",
      "561:\tlearn: 0.7811569\ttotal: 10m 48s\tremaining: 8m 25s\n",
      "562:\tlearn: 0.7811270\ttotal: 10m 49s\tremaining: 8m 23s\n",
      "563:\tlearn: 0.7811270\ttotal: 10m 50s\tremaining: 8m 22s\n",
      "564:\tlearn: 0.7811903\ttotal: 10m 51s\tremaining: 8m 21s\n",
      "565:\tlearn: 0.7810805\ttotal: 10m 52s\tremaining: 8m 20s\n",
      "566:\tlearn: 0.7811772\ttotal: 10m 53s\tremaining: 8m 19s\n",
      "567:\tlearn: 0.7811998\ttotal: 10m 54s\tremaining: 8m 17s\n",
      "568:\tlearn: 0.7812930\ttotal: 10m 55s\tremaining: 8m 16s\n",
      "569:\tlearn: 0.7814757\ttotal: 10m 56s\tremaining: 8m 15s\n",
      "570:\tlearn: 0.7814160\ttotal: 10m 57s\tremaining: 8m 14s\n",
      "571:\tlearn: 0.7815855\ttotal: 10m 59s\tremaining: 8m 13s\n",
      "572:\tlearn: 0.7816153\ttotal: 11m\tremaining: 8m 12s\n",
      "573:\tlearn: 0.7817383\ttotal: 11m 1s\tremaining: 8m 10s\n",
      "574:\tlearn: 0.7817814\ttotal: 11m 2s\tremaining: 8m 9s\n",
      "575:\tlearn: 0.7817181\ttotal: 11m 3s\tremaining: 8m 8s\n",
      "576:\tlearn: 0.7818877\ttotal: 11m 4s\tremaining: 8m 7s\n",
      "577:\tlearn: 0.7818578\ttotal: 11m 5s\tremaining: 8m 6s\n",
      "578:\tlearn: 0.7819509\ttotal: 11m 6s\tremaining: 8m 4s\n",
      "579:\tlearn: 0.7821669\ttotal: 11m 8s\tremaining: 8m 3s\n",
      "580:\tlearn: 0.7821968\ttotal: 11m 9s\tremaining: 8m 2s\n",
      "581:\tlearn: 0.7823197\ttotal: 11m 10s\tremaining: 8m 1s\n",
      "582:\tlearn: 0.7823197\ttotal: 11m 11s\tremaining: 8m\n",
      "583:\tlearn: 0.7822066\ttotal: 11m 12s\tremaining: 7m 59s\n",
      "584:\tlearn: 0.7825456\ttotal: 11m 13s\tremaining: 7m 58s\n",
      "585:\tlearn: 0.7827582\ttotal: 11m 14s\tremaining: 7m 56s\n",
      "586:\tlearn: 0.7830441\ttotal: 11m 16s\tremaining: 7m 55s\n",
      "587:\tlearn: 0.7829843\ttotal: 11m 17s\tremaining: 7m 54s\n",
      "588:\tlearn: 0.7831040\ttotal: 11m 18s\tremaining: 7m 53s\n",
      "589:\tlearn: 0.7830575\ttotal: 11m 19s\tremaining: 7m 52s\n",
      "590:\tlearn: 0.7832601\ttotal: 11m 20s\tremaining: 7m 51s\n",
      "591:\tlearn: 0.7834429\ttotal: 11m 21s\tremaining: 7m 49s\n",
      "592:\tlearn: 0.7834728\ttotal: 11m 22s\tremaining: 7m 48s\n",
      "593:\tlearn: 0.7835627\ttotal: 11m 24s\tremaining: 7m 47s\n",
      "594:\tlearn: 0.7835296\ttotal: 11m 25s\tremaining: 7m 46s\n",
      "595:\tlearn: 0.7837156\ttotal: 11m 26s\tremaining: 7m 45s\n",
      "596:\tlearn: 0.7837321\ttotal: 11m 27s\tremaining: 7m 44s\n",
      "597:\tlearn: 0.7839015\ttotal: 11m 29s\tremaining: 7m 43s\n",
      "598:\tlearn: 0.7839015\ttotal: 11m 30s\tremaining: 7m 42s\n",
      "599:\tlearn: 0.7839015\ttotal: 11m 31s\tremaining: 7m 40s\n",
      "600:\tlearn: 0.7839315\ttotal: 11m 32s\tremaining: 7m 39s\n",
      "601:\tlearn: 0.7839315\ttotal: 11m 33s\tremaining: 7m 38s\n",
      "602:\tlearn: 0.7840514\ttotal: 11m 34s\tremaining: 7m 37s\n",
      "603:\tlearn: 0.7840679\ttotal: 11m 35s\tremaining: 7m 36s\n",
      "604:\tlearn: 0.7843077\ttotal: 11m 37s\tremaining: 7m 35s\n",
      "605:\tlearn: 0.7843077\ttotal: 11m 38s\tremaining: 7m 33s\n",
      "606:\tlearn: 0.7842178\ttotal: 11m 39s\tremaining: 7m 32s\n",
      "607:\tlearn: 0.7841848\ttotal: 11m 40s\tremaining: 7m 31s\n",
      "608:\tlearn: 0.7841113\ttotal: 11m 41s\tremaining: 7m 30s\n",
      "609:\tlearn: 0.7841743\ttotal: 11m 42s\tremaining: 7m 29s\n",
      "610:\tlearn: 0.7843542\ttotal: 11m 43s\tremaining: 7m 28s\n",
      "611:\tlearn: 0.7845730\ttotal: 11m 44s\tremaining: 7m 26s\n",
      "612:\tlearn: 0.7845760\ttotal: 11m 45s\tremaining: 7m 25s\n",
      "613:\tlearn: 0.7846883\ttotal: 11m 47s\tremaining: 7m 24s\n",
      "614:\tlearn: 0.7847153\ttotal: 11m 48s\tremaining: 7m 23s\n",
      "615:\tlearn: 0.7846959\ttotal: 11m 49s\tremaining: 7m 22s\n",
      "616:\tlearn: 0.7847695\ttotal: 11m 50s\tremaining: 7m 20s\n",
      "617:\tlearn: 0.7848488\ttotal: 11m 51s\tremaining: 7m 19s\n",
      "618:\tlearn: 0.7852010\ttotal: 11m 52s\tremaining: 7m 18s\n",
      "619:\tlearn: 0.7852339\ttotal: 11m 53s\tremaining: 7m 17s\n",
      "620:\tlearn: 0.7855096\ttotal: 11m 54s\tremaining: 7m 16s\n",
      "621:\tlearn: 0.7855096\ttotal: 11m 55s\tremaining: 7m 14s\n",
      "622:\tlearn: 0.7854495\ttotal: 11m 56s\tremaining: 7m 13s\n",
      "623:\tlearn: 0.7854796\ttotal: 11m 57s\tremaining: 7m 12s\n",
      "624:\tlearn: 0.7855724\ttotal: 11m 58s\tremaining: 7m 11s\n",
      "625:\tlearn: 0.7854632\ttotal: 11m 59s\tremaining: 7m 10s\n",
      "626:\tlearn: 0.7856460\ttotal: 12m 1s\tremaining: 7m 9s\n",
      "627:\tlearn: 0.7857061\ttotal: 12m 2s\tremaining: 7m 7s\n",
      "628:\tlearn: 0.7857525\ttotal: 12m 3s\tremaining: 7m 6s\n",
      "629:\tlearn: 0.7858453\ttotal: 12m 4s\tremaining: 7m 5s\n",
      "630:\tlearn: 0.7860309\ttotal: 12m 5s\tremaining: 7m 4s\n",
      "631:\tlearn: 0.7861236\ttotal: 12m 6s\tremaining: 7m 3s\n",
      "632:\tlearn: 0.7863529\ttotal: 12m 8s\tremaining: 7m 2s\n",
      "633:\tlearn: 0.7865357\ttotal: 12m 9s\tremaining: 7m\n",
      "634:\tlearn: 0.7864894\ttotal: 12m 10s\tremaining: 6m 59s\n",
      "635:\tlearn: 0.7864593\ttotal: 12m 11s\tremaining: 6m 58s\n",
      "636:\tlearn: 0.7866448\ttotal: 12m 12s\tremaining: 6m 57s\n",
      "637:\tlearn: 0.7868139\ttotal: 12m 14s\tremaining: 6m 56s\n",
      "638:\tlearn: 0.7870293\ttotal: 12m 15s\tremaining: 6m 55s\n",
      "639:\tlearn: 0.7869691\ttotal: 12m 16s\tremaining: 6m 54s\n",
      "640:\tlearn: 0.7870455\ttotal: 12m 17s\tremaining: 6m 52s\n",
      "641:\tlearn: 0.7869992\ttotal: 12m 18s\tremaining: 6m 51s\n",
      "642:\tlearn: 0.7869967\ttotal: 12m 19s\tremaining: 6m 50s\n",
      "643:\tlearn: 0.7870293\ttotal: 12m 20s\tremaining: 6m 49s\n",
      "644:\tlearn: 0.7870593\ttotal: 12m 21s\tremaining: 6m 48s\n",
      "645:\tlearn: 0.7870293\ttotal: 12m 22s\tremaining: 6m 47s\n",
      "646:\tlearn: 0.7871658\ttotal: 12m 23s\tremaining: 6m 45s\n",
      "647:\tlearn: 0.7871056\ttotal: 12m 24s\tremaining: 6m 44s\n",
      "648:\tlearn: 0.7872284\ttotal: 12m 26s\tremaining: 6m 43s\n",
      "649:\tlearn: 0.7873348\ttotal: 12m 27s\tremaining: 6m 42s\n",
      "650:\tlearn: 0.7874437\ttotal: 12m 28s\tremaining: 6m 41s\n",
      "651:\tlearn: 0.7873372\ttotal: 12m 29s\tremaining: 6m 39s\n",
      "652:\tlearn: 0.7873096\ttotal: 12m 30s\tremaining: 6m 38s\n",
      "653:\tlearn: 0.7875200\ttotal: 12m 31s\tremaining: 6m 37s\n",
      "654:\tlearn: 0.7876265\ttotal: 12m 32s\tremaining: 6m 36s\n",
      "655:\tlearn: 0.7876265\ttotal: 12m 33s\tremaining: 6m 35s\n",
      "656:\tlearn: 0.7876265\ttotal: 12m 34s\tremaining: 6m 34s\n",
      "657:\tlearn: 0.7877191\ttotal: 12m 35s\tremaining: 6m 32s\n",
      "658:\tlearn: 0.7877052\ttotal: 12m 36s\tremaining: 6m 31s\n",
      "659:\tlearn: 0.7875038\ttotal: 12m 38s\tremaining: 6m 30s\n",
      "660:\tlearn: 0.7875038\ttotal: 12m 39s\tremaining: 6m 29s\n",
      "661:\tlearn: 0.7874737\ttotal: 12m 40s\tremaining: 6m 28s\n",
      "662:\tlearn: 0.7875640\ttotal: 12m 41s\tremaining: 6m 26s\n",
      "663:\tlearn: 0.7875640\ttotal: 12m 42s\tremaining: 6m 25s\n",
      "664:\tlearn: 0.7875038\ttotal: 12m 43s\tremaining: 6m 24s\n",
      "665:\tlearn: 0.7875964\ttotal: 12m 44s\tremaining: 6m 23s\n",
      "666:\tlearn: 0.7875501\ttotal: 12m 45s\tremaining: 6m 22s\n",
      "667:\tlearn: 0.7876427\ttotal: 12m 46s\tremaining: 6m 20s\n",
      "668:\tlearn: 0.7879343\ttotal: 12m 47s\tremaining: 6m 19s\n",
      "669:\tlearn: 0.7880107\ttotal: 12m 48s\tremaining: 6m 18s\n",
      "670:\tlearn: 0.7879644\ttotal: 12m 49s\tremaining: 6m 17s\n",
      "671:\tlearn: 0.7879644\ttotal: 12m 50s\tremaining: 6m 16s\n",
      "672:\tlearn: 0.7881010\ttotal: 12m 52s\tremaining: 6m 15s\n",
      "673:\tlearn: 0.7881333\ttotal: 12m 53s\tremaining: 6m 14s\n",
      "674:\tlearn: 0.7883463\ttotal: 12m 54s\tremaining: 6m 12s\n",
      "675:\tlearn: 0.7885151\ttotal: 12m 55s\tremaining: 6m 11s\n",
      "676:\tlearn: 0.7884087\ttotal: 12m 56s\tremaining: 6m 10s\n",
      "677:\tlearn: 0.7884549\ttotal: 12m 57s\tremaining: 6m 9s\n",
      "678:\tlearn: 0.7884711\ttotal: 12m 58s\tremaining: 6m 8s\n",
      "679:\tlearn: 0.7886399\ttotal: 13m\tremaining: 6m 7s\n",
      "680:\tlearn: 0.7886862\ttotal: 13m 1s\tremaining: 6m 5s\n",
      "681:\tlearn: 0.7887625\ttotal: 13m 2s\tremaining: 6m 4s\n",
      "682:\tlearn: 0.7889453\ttotal: 13m 3s\tremaining: 6m 3s\n",
      "683:\tlearn: 0.7889453\ttotal: 13m 4s\tremaining: 6m 2s\n",
      "684:\tlearn: 0.7890076\ttotal: 13m 5s\tremaining: 6m 1s\n",
      "685:\tlearn: 0.7891603\ttotal: 13m 6s\tremaining: 6m\n",
      "686:\tlearn: 0.7890819\ttotal: 13m 7s\tremaining: 5m 58s\n",
      "687:\tlearn: 0.7891582\ttotal: 13m 8s\tremaining: 5m 57s\n",
      "688:\tlearn: 0.7891141\ttotal: 13m 10s\tremaining: 5m 56s\n",
      "689:\tlearn: 0.7892829\ttotal: 13m 11s\tremaining: 5m 55s\n",
      "690:\tlearn: 0.7893451\ttotal: 13m 12s\tremaining: 5m 54s\n",
      "691:\tlearn: 0.7892226\ttotal: 13m 13s\tremaining: 5m 53s\n",
      "692:\tlearn: 0.7892989\ttotal: 13m 14s\tremaining: 5m 52s\n",
      "693:\tlearn: 0.7895279\ttotal: 13m 15s\tremaining: 5m 50s\n",
      "694:\tlearn: 0.7895580\ttotal: 13m 16s\tremaining: 5m 49s\n",
      "695:\tlearn: 0.7894516\ttotal: 13m 18s\tremaining: 5m 48s\n",
      "696:\tlearn: 0.7893130\ttotal: 13m 19s\tremaining: 5m 47s\n",
      "697:\tlearn: 0.7893130\ttotal: 13m 20s\tremaining: 5m 46s\n",
      "698:\tlearn: 0.7893893\ttotal: 13m 21s\tremaining: 5m 45s\n",
      "699:\tlearn: 0.7897369\ttotal: 13m 22s\tremaining: 5m 44s\n",
      "700:\tlearn: 0.7897831\ttotal: 13m 23s\tremaining: 5m 42s\n",
      "701:\tlearn: 0.7897248\ttotal: 13m 24s\tremaining: 5m 41s\n",
      "702:\tlearn: 0.7897992\ttotal: 13m 25s\tremaining: 5m 40s\n",
      "703:\tlearn: 0.7899679\ttotal: 13m 26s\tremaining: 5m 39s\n",
      "704:\tlearn: 0.7899679\ttotal: 13m 28s\tremaining: 5m 38s\n",
      "705:\tlearn: 0.7900302\ttotal: 13m 29s\tremaining: 5m 36s\n",
      "706:\tlearn: 0.7899840\ttotal: 13m 30s\tremaining: 5m 35s\n",
      "707:\tlearn: 0.7900302\ttotal: 13m 31s\tremaining: 5m 34s\n",
      "708:\tlearn: 0.7900302\ttotal: 13m 32s\tremaining: 5m 33s\n",
      "709:\tlearn: 0.7900000\ttotal: 13m 33s\tremaining: 5m 32s\n",
      "710:\tlearn: 0.7899538\ttotal: 13m 34s\tremaining: 5m 31s\n",
      "711:\tlearn: 0.7900462\ttotal: 13m 35s\tremaining: 5m 29s\n",
      "712:\tlearn: 0.7901065\ttotal: 13m 36s\tremaining: 5m 28s\n",
      "713:\tlearn: 0.7901206\ttotal: 13m 37s\tremaining: 5m 27s\n",
      "714:\tlearn: 0.7901508\ttotal: 13m 38s\tremaining: 5m 26s\n",
      "715:\tlearn: 0.7901970\ttotal: 13m 39s\tremaining: 5m 25s\n",
      "716:\tlearn: 0.7901810\ttotal: 13m 40s\tremaining: 5m 24s\n",
      "717:\tlearn: 0.7902715\ttotal: 13m 41s\tremaining: 5m 22s\n",
      "718:\tlearn: 0.7904864\ttotal: 13m 43s\tremaining: 5m 21s\n",
      "719:\tlearn: 0.7904864\ttotal: 13m 44s\tremaining: 5m 20s\n",
      "720:\tlearn: 0.7904704\ttotal: 13m 45s\tremaining: 5m 19s\n",
      "721:\tlearn: 0.7905325\ttotal: 13m 46s\tremaining: 5m 18s\n",
      "722:\tlearn: 0.7905325\ttotal: 13m 47s\tremaining: 5m 17s\n",
      "723:\tlearn: 0.7905325\ttotal: 13m 48s\tremaining: 5m 15s\n",
      "724:\tlearn: 0.7906089\ttotal: 13m 49s\tremaining: 5m 14s\n",
      "725:\tlearn: 0.7907634\ttotal: 13m 50s\tremaining: 5m 13s\n",
      "726:\tlearn: 0.7906249\ttotal: 13m 51s\tremaining: 5m 12s\n",
      "727:\tlearn: 0.7906249\ttotal: 13m 52s\tremaining: 5m 11s\n",
      "728:\tlearn: 0.7906409\ttotal: 13m 53s\tremaining: 5m 10s\n",
      "729:\tlearn: 0.7906568\ttotal: 13m 55s\tremaining: 5m 8s\n",
      "730:\tlearn: 0.7907811\ttotal: 13m 56s\tremaining: 5m 7s\n",
      "731:\tlearn: 0.7908983\ttotal: 13m 57s\tremaining: 5m 6s\n",
      "732:\tlearn: 0.7909303\ttotal: 13m 58s\tremaining: 5m 5s\n",
      "733:\tlearn: 0.7911450\ttotal: 13m 59s\tremaining: 5m 4s\n",
      "734:\tlearn: 0.7912675\ttotal: 14m\tremaining: 5m 3s\n",
      "735:\tlearn: 0.7913598\ttotal: 14m 2s\tremaining: 5m 2s\n",
      "736:\tlearn: 0.7912834\ttotal: 14m 3s\tremaining: 5m\n",
      "737:\tlearn: 0.7912834\ttotal: 14m 4s\tremaining: 4m 59s\n",
      "738:\tlearn: 0.7914520\ttotal: 14m 5s\tremaining: 4m 58s\n",
      "739:\tlearn: 0.7914822\ttotal: 14m 6s\tremaining: 4m 57s\n",
      "740:\tlearn: 0.7915300\ttotal: 14m 8s\tremaining: 4m 56s\n",
      "741:\tlearn: 0.7915761\ttotal: 14m 9s\tremaining: 4m 55s\n",
      "742:\tlearn: 0.7916365\ttotal: 14m 10s\tremaining: 4m 54s\n",
      "743:\tlearn: 0.7918654\ttotal: 14m 11s\tremaining: 4m 53s\n",
      "744:\tlearn: 0.7918669\ttotal: 14m 13s\tremaining: 4m 52s\n",
      "745:\tlearn: 0.7919289\ttotal: 14m 14s\tremaining: 4m 50s\n",
      "746:\tlearn: 0.7919289\ttotal: 14m 15s\tremaining: 4m 49s\n",
      "747:\tlearn: 0.7918813\ttotal: 14m 16s\tremaining: 4m 48s\n",
      "748:\tlearn: 0.7918972\ttotal: 14m 17s\tremaining: 4m 47s\n",
      "749:\tlearn: 0.7919576\ttotal: 14m 19s\tremaining: 4m 46s\n",
      "750:\tlearn: 0.7919734\ttotal: 14m 20s\tremaining: 4m 45s\n",
      "751:\tlearn: 0.7919734\ttotal: 14m 21s\tremaining: 4m 44s\n",
      "752:\tlearn: 0.7919432\ttotal: 14m 22s\tremaining: 4m 42s\n",
      "753:\tlearn: 0.7919750\ttotal: 14m 23s\tremaining: 4m 41s\n",
      "754:\tlearn: 0.7921434\ttotal: 14m 24s\tremaining: 4m 40s\n",
      "755:\tlearn: 0.7922197\ttotal: 14m 26s\tremaining: 4m 39s\n",
      "756:\tlearn: 0.7922038\ttotal: 14m 27s\tremaining: 4m 38s\n",
      "757:\tlearn: 0.7920671\ttotal: 14m 28s\tremaining: 4m 37s\n",
      "758:\tlearn: 0.7922038\ttotal: 14m 29s\tremaining: 4m 36s\n",
      "759:\tlearn: 0.7924327\ttotal: 14m 30s\tremaining: 4m 35s\n",
      "760:\tlearn: 0.7925248\ttotal: 14m 32s\tremaining: 4m 33s\n",
      "761:\tlearn: 0.7925852\ttotal: 14m 33s\tremaining: 4m 32s\n",
      "762:\tlearn: 0.7927997\ttotal: 14m 34s\tremaining: 4m 31s\n",
      "763:\tlearn: 0.7925536\ttotal: 14m 35s\tremaining: 4m 30s\n",
      "764:\tlearn: 0.7926759\ttotal: 14m 36s\tremaining: 4m 29s\n",
      "765:\tlearn: 0.7929062\ttotal: 14m 38s\tremaining: 4m 28s\n",
      "766:\tlearn: 0.7929062\ttotal: 14m 39s\tremaining: 4m 27s\n",
      "767:\tlearn: 0.7930429\ttotal: 14m 40s\tremaining: 4m 26s\n",
      "768:\tlearn: 0.7931350\ttotal: 14m 41s\tremaining: 4m 24s\n",
      "769:\tlearn: 0.7931653\ttotal: 14m 43s\tremaining: 4m 23s\n",
      "770:\tlearn: 0.7931495\ttotal: 14m 44s\tremaining: 4m 22s\n",
      "771:\tlearn: 0.7932258\ttotal: 14m 45s\tremaining: 4m 21s\n",
      "772:\tlearn: 0.7932718\ttotal: 14m 46s\tremaining: 4m 20s\n",
      "773:\tlearn: 0.7933033\ttotal: 14m 47s\tremaining: 4m 19s\n",
      "774:\tlearn: 0.7935321\ttotal: 14m 48s\tremaining: 4m 18s\n",
      "775:\tlearn: 0.7935467\ttotal: 14m 50s\tremaining: 4m 16s\n",
      "776:\tlearn: 0.7934849\ttotal: 14m 51s\tremaining: 4m 15s\n",
      "777:\tlearn: 0.7935297\ttotal: 14m 52s\tremaining: 4m 14s\n",
      "778:\tlearn: 0.7934534\ttotal: 14m 53s\tremaining: 4m 13s\n",
      "779:\tlearn: 0.7934534\ttotal: 14m 55s\tremaining: 4m 12s\n",
      "780:\tlearn: 0.7934231\ttotal: 14m 56s\tremaining: 4m 11s\n",
      "781:\tlearn: 0.7935612\ttotal: 14m 57s\tremaining: 4m 10s\n",
      "782:\tlearn: 0.7935757\ttotal: 14m 58s\tremaining: 4m 8s\n",
      "783:\tlearn: 0.7935454\ttotal: 14m 59s\tremaining: 4m 7s\n",
      "784:\tlearn: 0.7935915\ttotal: 15m\tremaining: 4m 6s\n",
      "785:\tlearn: 0.7937731\ttotal: 15m 1s\tremaining: 4m 5s\n",
      "786:\tlearn: 0.7940952\ttotal: 15m 3s\tremaining: 4m 4s\n",
      "787:\tlearn: 0.7941726\ttotal: 15m 4s\tremaining: 4m 3s\n",
      "788:\tlearn: 0.7942635\ttotal: 15m 5s\tremaining: 4m 2s\n",
      "789:\tlearn: 0.7944464\ttotal: 15m 6s\tremaining: 4m\n",
      "790:\tlearn: 0.7945080\ttotal: 15m 7s\tremaining: 3m 59s\n",
      "791:\tlearn: 0.7945383\ttotal: 15m 8s\tremaining: 3m 58s\n",
      "792:\tlearn: 0.7945843\ttotal: 15m 10s\tremaining: 3m 57s\n",
      "793:\tlearn: 0.7946606\ttotal: 15m 11s\tremaining: 3m 56s\n",
      "794:\tlearn: 0.7947828\ttotal: 15m 12s\tremaining: 3m 55s\n",
      "795:\tlearn: 0.7947985\ttotal: 15m 13s\tremaining: 3m 54s\n",
      "796:\tlearn: 0.7946459\ttotal: 15m 14s\tremaining: 3m 52s\n",
      "797:\tlearn: 0.7947985\ttotal: 15m 15s\tremaining: 3m 51s\n",
      "798:\tlearn: 0.7948141\ttotal: 15m 17s\tremaining: 3m 50s\n",
      "799:\tlearn: 0.7948444\ttotal: 15m 18s\tremaining: 3m 49s\n",
      "800:\tlearn: 0.7944161\ttotal: 15m 19s\tremaining: 3m 48s\n",
      "801:\tlearn: 0.7944485\ttotal: 15m 20s\tremaining: 3m 47s\n",
      "802:\tlearn: 0.7944485\ttotal: 15m 21s\tremaining: 3m 46s\n",
      "803:\tlearn: 0.7946929\ttotal: 15m 22s\tremaining: 3m 44s\n",
      "804:\tlearn: 0.7947388\ttotal: 15m 24s\tremaining: 3m 43s\n",
      "805:\tlearn: 0.7947388\ttotal: 15m 25s\tremaining: 3m 42s\n",
      "806:\tlearn: 0.7950282\ttotal: 15m 26s\tremaining: 3m 41s\n",
      "807:\tlearn: 0.7952423\ttotal: 15m 27s\tremaining: 3m 40s\n",
      "808:\tlearn: 0.7951504\ttotal: 15m 28s\tremaining: 3m 39s\n",
      "809:\tlearn: 0.7950438\ttotal: 15m 29s\tremaining: 3m 38s\n",
      "810:\tlearn: 0.7949060\ttotal: 15m 30s\tremaining: 3m 36s\n",
      "811:\tlearn: 0.7951045\ttotal: 15m 31s\tremaining: 3m 35s\n",
      "812:\tlearn: 0.7950282\ttotal: 15m 33s\tremaining: 3m 34s\n",
      "813:\tlearn: 0.7952882\ttotal: 15m 34s\tremaining: 3m 33s\n",
      "814:\tlearn: 0.7953956\ttotal: 15m 35s\tremaining: 3m 32s\n",
      "815:\tlearn: 0.7953956\ttotal: 15m 36s\tremaining: 3m 31s\n",
      "816:\tlearn: 0.7954571\ttotal: 15m 37s\tremaining: 3m 30s\n",
      "817:\tlearn: 0.7954268\ttotal: 15m 38s\tremaining: 3m 28s\n",
      "818:\tlearn: 0.7954268\ttotal: 15m 40s\tremaining: 3m 27s\n",
      "819:\tlearn: 0.7954424\ttotal: 15m 41s\tremaining: 3m 26s\n",
      "820:\tlearn: 0.7955481\ttotal: 15m 42s\tremaining: 3m 25s\n",
      "821:\tlearn: 0.7954563\ttotal: 15m 43s\tremaining: 3m 24s\n",
      "822:\tlearn: 0.7953948\ttotal: 15m 44s\tremaining: 3m 23s\n",
      "823:\tlearn: 0.7955784\ttotal: 15m 45s\tremaining: 3m 21s\n",
      "824:\tlearn: 0.7957014\ttotal: 15m 46s\tremaining: 3m 20s\n",
      "825:\tlearn: 0.7956711\ttotal: 15m 47s\tremaining: 3m 19s\n",
      "826:\tlearn: 0.7957620\ttotal: 15m 48s\tremaining: 3m 18s\n",
      "827:\tlearn: 0.7957620\ttotal: 15m 49s\tremaining: 3m 17s\n",
      "828:\tlearn: 0.7957309\ttotal: 15m 51s\tremaining: 3m 16s\n",
      "829:\tlearn: 0.7958227\ttotal: 15m 52s\tremaining: 3m 15s\n",
      "830:\tlearn: 0.7958079\ttotal: 15m 53s\tremaining: 3m 13s\n",
      "831:\tlearn: 0.7959456\ttotal: 15m 54s\tremaining: 3m 12s\n",
      "832:\tlearn: 0.7961135\ttotal: 15m 55s\tremaining: 3m 11s\n",
      "833:\tlearn: 0.7961439\ttotal: 15m 57s\tremaining: 3m 10s\n",
      "834:\tlearn: 0.7964339\ttotal: 15m 58s\tremaining: 3m 9s\n",
      "835:\tlearn: 0.7961594\ttotal: 15m 59s\tremaining: 3m 8s\n",
      "836:\tlearn: 0.7961291\ttotal: 16m\tremaining: 3m 7s\n",
      "837:\tlearn: 0.7961905\ttotal: 16m 2s\tremaining: 3m 6s\n",
      "838:\tlearn: 0.7962977\ttotal: 16m 3s\tremaining: 3m 4s\n",
      "839:\tlearn: 0.7963118\ttotal: 16m 4s\tremaining: 3m 3s\n",
      "840:\tlearn: 0.7964035\ttotal: 16m 6s\tremaining: 3m 2s\n",
      "841:\tlearn: 0.7966328\ttotal: 16m 7s\tremaining: 3m 1s\n",
      "842:\tlearn: 0.7966483\ttotal: 16m 8s\tremaining: 3m\n",
      "843:\tlearn: 0.7967244\ttotal: 16m 9s\tremaining: 2m 59s\n",
      "844:\tlearn: 0.7967089\ttotal: 16m 10s\tremaining: 2m 58s\n",
      "845:\tlearn: 0.7966173\ttotal: 16m 12s\tremaining: 2m 56s\n",
      "846:\tlearn: 0.7966173\ttotal: 16m 13s\tremaining: 2m 55s\n",
      "847:\tlearn: 0.7966018\ttotal: 16m 14s\tremaining: 2m 54s\n",
      "848:\tlearn: 0.7967238\ttotal: 16m 15s\tremaining: 2m 53s\n",
      "849:\tlearn: 0.7968000\ttotal: 16m 16s\tremaining: 2m 52s\n",
      "850:\tlearn: 0.7967083\ttotal: 16m 17s\tremaining: 2m 51s\n",
      "851:\tlearn: 0.7968149\ttotal: 16m 18s\tremaining: 2m 50s\n",
      "852:\tlearn: 0.7969220\ttotal: 16m 19s\tremaining: 2m 48s\n",
      "853:\tlearn: 0.7969220\ttotal: 16m 21s\tremaining: 2m 47s\n",
      "854:\tlearn: 0.7969220\ttotal: 16m 22s\tremaining: 2m 46s\n",
      "855:\tlearn: 0.7968464\ttotal: 16m 23s\tremaining: 2m 45s\n",
      "856:\tlearn: 0.7967851\ttotal: 16m 24s\tremaining: 2m 44s\n",
      "857:\tlearn: 0.7969976\ttotal: 16m 25s\tremaining: 2m 43s\n",
      "858:\tlearn: 0.7968768\ttotal: 16m 26s\tremaining: 2m 41s\n",
      "859:\tlearn: 0.7969071\ttotal: 16m 27s\tremaining: 2m 40s\n",
      "860:\tlearn: 0.7969369\ttotal: 16m 28s\tremaining: 2m 39s\n",
      "861:\tlearn: 0.7969673\ttotal: 16m 30s\tremaining: 2m 38s\n",
      "862:\tlearn: 0.7971964\ttotal: 16m 31s\tremaining: 2m 37s\n",
      "863:\tlearn: 0.7971964\ttotal: 16m 32s\tremaining: 2m 36s\n",
      "864:\tlearn: 0.7973184\ttotal: 16m 33s\tremaining: 2m 35s\n",
      "865:\tlearn: 0.7973488\ttotal: 16m 34s\tremaining: 2m 33s\n",
      "866:\tlearn: 0.7974399\ttotal: 16m 35s\tremaining: 2m 32s\n",
      "867:\tlearn: 0.7975161\ttotal: 16m 37s\tremaining: 2m 31s\n",
      "868:\tlearn: 0.7975161\ttotal: 16m 38s\tremaining: 2m 30s\n",
      "869:\tlearn: 0.7975161\ttotal: 16m 39s\tremaining: 2m 29s\n",
      "870:\tlearn: 0.7974857\ttotal: 16m 40s\tremaining: 2m 28s\n",
      "871:\tlearn: 0.7975011\ttotal: 16m 41s\tremaining: 2m 27s\n",
      "872:\tlearn: 0.7975773\ttotal: 16m 43s\tremaining: 2m 25s\n",
      "873:\tlearn: 0.7975927\ttotal: 16m 44s\tremaining: 2m 24s\n",
      "874:\tlearn: 0.7975927\ttotal: 16m 45s\tremaining: 2m 23s\n",
      "875:\tlearn: 0.7974708\ttotal: 16m 46s\tremaining: 2m 22s\n",
      "876:\tlearn: 0.7976993\ttotal: 16m 47s\tremaining: 2m 21s\n",
      "877:\tlearn: 0.7977297\ttotal: 16m 48s\tremaining: 2m 20s\n",
      "878:\tlearn: 0.7981256\ttotal: 16m 49s\tremaining: 2m 18s\n",
      "879:\tlearn: 0.7979883\ttotal: 16m 50s\tremaining: 2m 17s\n",
      "880:\tlearn: 0.7979883\ttotal: 16m 52s\tremaining: 2m 16s\n",
      "881:\tlearn: 0.7981868\ttotal: 16m 53s\tremaining: 2m 15s\n",
      "882:\tlearn: 0.7981103\ttotal: 16m 54s\tremaining: 2m 14s\n",
      "883:\tlearn: 0.7982322\ttotal: 16m 55s\tremaining: 2m 13s\n",
      "884:\tlearn: 0.7982627\ttotal: 16m 56s\tremaining: 2m 12s\n",
      "885:\tlearn: 0.7982627\ttotal: 16m 57s\tremaining: 2m 10s\n",
      "886:\tlearn: 0.7983389\ttotal: 16m 58s\tremaining: 2m 9s\n",
      "887:\tlearn: 0.7984915\ttotal: 16m 59s\tremaining: 2m 8s\n",
      "888:\tlearn: 0.7985680\ttotal: 17m\tremaining: 2m 7s\n",
      "889:\tlearn: 0.7986288\ttotal: 17m 2s\tremaining: 2m 6s\n",
      "890:\tlearn: 0.7986288\ttotal: 17m 3s\tremaining: 2m 5s\n",
      "891:\tlearn: 0.7988118\ttotal: 17m 4s\tremaining: 2m 4s\n",
      "892:\tlearn: 0.7988727\ttotal: 17m 5s\tremaining: 2m 2s\n",
      "893:\tlearn: 0.7988727\ttotal: 17m 6s\tremaining: 2m 1s\n",
      "894:\tlearn: 0.7989184\ttotal: 17m 7s\tremaining: 2m\n",
      "895:\tlearn: 0.7988727\ttotal: 17m 8s\tremaining: 1m 59s\n",
      "896:\tlearn: 0.7988727\ttotal: 17m 9s\tremaining: 1m 58s\n",
      "897:\tlearn: 0.7989642\ttotal: 17m 10s\tremaining: 1m 57s\n",
      "898:\tlearn: 0.7990099\ttotal: 17m 11s\tremaining: 1m 55s\n",
      "899:\tlearn: 0.7989337\ttotal: 17m 13s\tremaining: 1m 54s\n",
      "900:\tlearn: 0.7989491\ttotal: 17m 14s\tremaining: 1m 53s\n",
      "901:\tlearn: 0.7989795\ttotal: 17m 15s\tremaining: 1m 52s\n",
      "902:\tlearn: 0.7989795\ttotal: 17m 16s\tremaining: 1m 51s\n",
      "903:\tlearn: 0.7991318\ttotal: 17m 17s\tremaining: 1m 50s\n",
      "904:\tlearn: 0.7991014\ttotal: 17m 18s\tremaining: 1m 49s\n",
      "905:\tlearn: 0.7990862\ttotal: 17m 19s\tremaining: 1m 47s\n",
      "906:\tlearn: 0.7990862\ttotal: 17m 20s\tremaining: 1m 46s\n",
      "907:\tlearn: 0.7991167\ttotal: 17m 21s\tremaining: 1m 45s\n",
      "908:\tlearn: 0.7992232\ttotal: 17m 23s\tremaining: 1m 44s\n",
      "909:\tlearn: 0.7992995\ttotal: 17m 24s\tremaining: 1m 43s\n",
      "910:\tlearn: 0.7992688\ttotal: 17m 25s\tremaining: 1m 42s\n",
      "911:\tlearn: 0.7994059\ttotal: 17m 26s\tremaining: 1m 40s\n",
      "912:\tlearn: 0.7994059\ttotal: 17m 27s\tremaining: 1m 39s\n",
      "913:\tlearn: 0.7995125\ttotal: 17m 28s\tremaining: 1m 38s\n",
      "914:\tlearn: 0.7997411\ttotal: 17m 30s\tremaining: 1m 37s\n",
      "915:\tlearn: 0.7996954\ttotal: 17m 31s\tremaining: 1m 36s\n",
      "916:\tlearn: 0.7996039\ttotal: 17m 32s\tremaining: 1m 35s\n",
      "917:\tlearn: 0.7997410\ttotal: 17m 33s\tremaining: 1m 34s\n",
      "918:\tlearn: 0.7996953\ttotal: 17m 34s\tremaining: 1m 32s\n",
      "919:\tlearn: 0.7996344\ttotal: 17m 35s\tremaining: 1m 31s\n",
      "920:\tlearn: 0.7996648\ttotal: 17m 36s\tremaining: 1m 30s\n",
      "921:\tlearn: 0.7994974\ttotal: 17m 37s\tremaining: 1m 29s\n",
      "922:\tlearn: 0.7994060\ttotal: 17m 38s\tremaining: 1m 28s\n",
      "923:\tlearn: 0.7994364\ttotal: 17m 40s\tremaining: 1m 27s\n",
      "924:\tlearn: 0.7994973\ttotal: 17m 41s\tremaining: 1m 26s\n",
      "925:\tlearn: 0.7994973\ttotal: 17m 42s\tremaining: 1m 24s\n",
      "926:\tlearn: 0.7997410\ttotal: 17m 43s\tremaining: 1m 23s\n",
      "927:\tlearn: 0.7998019\ttotal: 17m 44s\tremaining: 1m 22s\n",
      "928:\tlearn: 0.7996648\ttotal: 17m 45s\tremaining: 1m 21s\n",
      "929:\tlearn: 0.7998172\ttotal: 17m 46s\tremaining: 1m 20s\n",
      "930:\tlearn: 0.7998172\ttotal: 17m 47s\tremaining: 1m 19s\n",
      "931:\tlearn: 0.7999086\ttotal: 17m 48s\tremaining: 1m 17s\n",
      "932:\tlearn: 0.7998933\ttotal: 17m 50s\tremaining: 1m 16s\n",
      "933:\tlearn: 0.7999391\ttotal: 17m 51s\tremaining: 1m 15s\n",
      "934:\tlearn: 0.8000000\ttotal: 17m 52s\tremaining: 1m 14s\n",
      "935:\tlearn: 0.8000457\ttotal: 17m 53s\tremaining: 1m 13s\n",
      "936:\tlearn: 0.8000457\ttotal: 17m 54s\tremaining: 1m 12s\n",
      "937:\tlearn: 0.8002894\ttotal: 17m 55s\tremaining: 1m 11s\n",
      "938:\tlearn: 0.8003503\ttotal: 17m 56s\tremaining: 1m 9s\n",
      "939:\tlearn: 0.8003046\ttotal: 17m 57s\tremaining: 1m 8s\n",
      "940:\tlearn: 0.8003808\ttotal: 17m 58s\tremaining: 1m 7s\n",
      "941:\tlearn: 0.8004112\ttotal: 17m 59s\tremaining: 1m 6s\n",
      "942:\tlearn: 0.8003351\ttotal: 18m\tremaining: 1m 5s\n",
      "943:\tlearn: 0.8003655\ttotal: 18m 1s\tremaining: 1m 4s\n",
      "944:\tlearn: 0.8003655\ttotal: 18m 3s\tremaining: 1m 3s\n",
      "945:\tlearn: 0.8004417\ttotal: 18m 3s\tremaining: 1m 1s\n",
      "946:\tlearn: 0.8004874\ttotal: 18m 5s\tremaining: 1m\n",
      "947:\tlearn: 0.8008375\ttotal: 18m 6s\tremaining: 59.6s\n",
      "948:\tlearn: 0.8008984\ttotal: 18m 7s\tremaining: 58.4s\n",
      "949:\tlearn: 0.8010509\ttotal: 18m 8s\tremaining: 57.3s\n",
      "950:\tlearn: 0.8010966\ttotal: 18m 9s\tremaining: 56.1s\n",
      "951:\tlearn: 0.8012486\ttotal: 18m 10s\tremaining: 55s\n",
      "952:\tlearn: 0.8014160\ttotal: 18m 11s\tremaining: 53.8s\n",
      "953:\tlearn: 0.8014921\ttotal: 18m 12s\tremaining: 52.7s\n",
      "954:\tlearn: 0.8014009\ttotal: 18m 13s\tremaining: 51.5s\n",
      "955:\tlearn: 0.8014773\ttotal: 18m 14s\tremaining: 50.4s\n",
      "956:\tlearn: 0.8014012\ttotal: 18m 16s\tremaining: 49.3s\n",
      "957:\tlearn: 0.8014163\ttotal: 18m 17s\tremaining: 48.1s\n",
      "958:\tlearn: 0.8015532\ttotal: 18m 18s\tremaining: 47s\n",
      "959:\tlearn: 0.8015988\ttotal: 18m 19s\tremaining: 45.8s\n",
      "960:\tlearn: 0.8015075\ttotal: 18m 20s\tremaining: 44.7s\n",
      "961:\tlearn: 0.8017363\ttotal: 18m 21s\tremaining: 43.5s\n",
      "962:\tlearn: 0.8017514\ttotal: 18m 23s\tremaining: 42.4s\n",
      "963:\tlearn: 0.8017514\ttotal: 18m 24s\tremaining: 41.2s\n",
      "964:\tlearn: 0.8017363\ttotal: 18m 25s\tremaining: 40.1s\n",
      "965:\tlearn: 0.8017212\ttotal: 18m 26s\tremaining: 38.9s\n",
      "966:\tlearn: 0.8017363\ttotal: 18m 27s\tremaining: 37.8s\n",
      "967:\tlearn: 0.8017363\ttotal: 18m 28s\tremaining: 36.6s\n",
      "968:\tlearn: 0.8019037\ttotal: 18m 29s\tremaining: 35.5s\n",
      "969:\tlearn: 0.8017819\ttotal: 18m 30s\tremaining: 34.4s\n",
      "970:\tlearn: 0.8018275\ttotal: 18m 31s\tremaining: 33.2s\n",
      "971:\tlearn: 0.8019493\ttotal: 18m 32s\tremaining: 32.1s\n",
      "972:\tlearn: 0.8020254\ttotal: 18m 33s\tremaining: 30.9s\n",
      "973:\tlearn: 0.8021016\ttotal: 18m 34s\tremaining: 29.8s\n",
      "974:\tlearn: 0.8020560\ttotal: 18m 35s\tremaining: 28.6s\n",
      "975:\tlearn: 0.8019949\ttotal: 18m 36s\tremaining: 27.5s\n",
      "976:\tlearn: 0.8021928\ttotal: 18m 38s\tremaining: 26.3s\n",
      "977:\tlearn: 0.8022840\ttotal: 18m 39s\tremaining: 25.2s\n",
      "978:\tlearn: 0.8023752\ttotal: 18m 40s\tremaining: 24s\n",
      "979:\tlearn: 0.8024362\ttotal: 18m 41s\tremaining: 22.9s\n",
      "980:\tlearn: 0.8025274\ttotal: 18m 42s\tremaining: 21.7s\n",
      "981:\tlearn: 0.8025274\ttotal: 18m 43s\tremaining: 20.6s\n",
      "982:\tlearn: 0.8025274\ttotal: 18m 44s\tremaining: 19.5s\n",
      "983:\tlearn: 0.8025580\ttotal: 18m 45s\tremaining: 18.3s\n",
      "984:\tlearn: 0.8025274\ttotal: 18m 46s\tremaining: 17.2s\n",
      "985:\tlearn: 0.8025274\ttotal: 18m 47s\tremaining: 16s\n",
      "986:\tlearn: 0.8025730\ttotal: 18m 48s\tremaining: 14.9s\n",
      "987:\tlearn: 0.8027703\ttotal: 18m 50s\tremaining: 13.7s\n",
      "988:\tlearn: 0.8026942\ttotal: 18m 51s\tremaining: 12.6s\n",
      "989:\tlearn: 0.8026791\ttotal: 18m 52s\tremaining: 11.4s\n",
      "990:\tlearn: 0.8026641\ttotal: 18m 53s\tremaining: 10.3s\n",
      "991:\tlearn: 0.8026336\ttotal: 18m 54s\tremaining: 9.15s\n",
      "992:\tlearn: 0.8026336\ttotal: 18m 55s\tremaining: 8s\n",
      "993:\tlearn: 0.8026336\ttotal: 18m 56s\tremaining: 6.86s\n",
      "994:\tlearn: 0.8025730\ttotal: 18m 57s\tremaining: 5.72s\n",
      "995:\tlearn: 0.8024969\ttotal: 18m 58s\tremaining: 4.57s\n",
      "996:\tlearn: 0.8026336\ttotal: 18m 59s\tremaining: 3.43s\n",
      "997:\tlearn: 0.8027402\ttotal: 19m\tremaining: 2.29s\n",
      "998:\tlearn: 0.8029380\ttotal: 19m 1s\tremaining: 1.14s\n",
      "999:\tlearn: 0.8029536\ttotal: 19m 2s\tremaining: 0us\n"
     ]
    },
    {
     "data": {
      "text/plain": [
       "<catboost.core.CatBoostClassifier at 0x7fa437b684c0>"
      ]
     },
     "execution_count": 25,
     "metadata": {},
     "output_type": "execute_result"
    }
   ],
   "source": [
    "model_cat = CatBoostClassifier(eval_metric='F1',\n",
    "                           text_features=['text'],\n",
    "                           tokenizers=[{\n",
    "                               'tokenizer_id': 'Space',\n",
    "                               'delimiter': ' ',\n",
    "                               'separator_type': 'ByDelimiter',\n",
    "                           },{\n",
    "                               'tokenizer_id': 'Sense',\n",
    "                               'separator_type': 'BySense',\n",
    "                           }],\n",
    "                           dictionaries = [{\n",
    "                              'dictionary_id': 'Word',\n",
    "                              'max_dictionary_size': '50000',\n",
    "                              'gram_count': '1',\n",
    "                           },{\n",
    "                              'dictionary_id': 'BiGram',\n",
    "                              'max_dictionary_size': '50000',\n",
    "                              'gram_count': '2',\n",
    "                           }],\n",
    "                           \n",
    "                           feature_calcers=['NaiveBayes', \n",
    "                                            'BoW'],\n",
    "                           \n",
    "                           random_state=12345)\n",
    "\n",
    "model_cat.fit(train_cat[['text']], train_cat['toxic'])"
   ]
  },
  {
   "cell_type": "code",
   "execution_count": 26,
   "metadata": {},
   "outputs": [
    {
     "data": {
      "text/plain": [
       "0.8334981866139136"
      ]
     },
     "execution_count": 26,
     "metadata": {},
     "output_type": "execute_result"
    }
   ],
   "source": [
    "pred = model_cat.predict(train_cat[['text']])\n",
    "\n",
    "f1_score(train_cat['toxic'], pred)"
   ]
  },
  {
   "cell_type": "markdown",
   "metadata": {},
   "source": [
    "## Выводы"
   ]
  },
  {
   "cell_type": "markdown",
   "metadata": {},
   "source": [
    "### Тест моделей"
   ]
  },
  {
   "cell_type": "markdown",
   "metadata": {},
   "source": [
    "- LogisticRegression"
   ]
  },
  {
   "cell_type": "code",
   "execution_count": 30,
   "metadata": {},
   "outputs": [],
   "source": [
    "test['lemm_text'] = test['text'].apply(lambda x: lemm_pos(x))\n",
    "corpus_test = test['lemm_text'].values.astype('U')\n",
    "tf_idf_test = count_tf_idf.transform(corpus_test)"
   ]
  },
  {
   "cell_type": "code",
   "execution_count": 31,
   "metadata": {},
   "outputs": [
    {
     "data": {
      "text/plain": [
       "0.6828798458945341"
      ]
     },
     "execution_count": 31,
     "metadata": {},
     "output_type": "execute_result"
    }
   ],
   "source": [
    "model_log.fit(tf_idf_train, train['toxic'])\n",
    "pred = model_log.predict(tf_idf_test)\n",
    "\n",
    "f1_score(test['toxic'], pred)"
   ]
  },
  {
   "cell_type": "markdown",
   "metadata": {},
   "source": [
    "- CatBoostClassifier"
   ]
  },
  {
   "cell_type": "code",
   "execution_count": 32,
   "metadata": {},
   "outputs": [],
   "source": [
    "test_cat['text'] = test_cat['text'].apply(lambda x: clear_text(x))"
   ]
  },
  {
   "cell_type": "code",
   "execution_count": 33,
   "metadata": {
    "scrolled": true
   },
   "outputs": [
    {
     "data": {
      "text/plain": [
       "0.7778528021607022"
      ]
     },
     "execution_count": 33,
     "metadata": {},
     "output_type": "execute_result"
    }
   ],
   "source": [
    "pred = model_cat.predict(test_cat[['text']])\n",
    "\n",
    "f1_score(test_cat['toxic'], pred)"
   ]
  },
  {
   "cell_type": "markdown",
   "metadata": {},
   "source": [
    "### Анализ"
   ]
  },
  {
   "cell_type": "markdown",
   "metadata": {},
   "source": [
    "- Были проведены испытания 2х моделей. `LogisticRegression` и `CatBoostClassifier`.\n",
    "\n",
    "\n",
    "- `LogisticRegression` показала качество 0.75 на несбаласированных данных и 0.88 на сбалансированных данных на тренировочной выборке и 0.68 на тестовой. Для этой модели был выбран алгоритм векторизации текста TF-IDF.\n",
    "\n",
    "\n",
    "- Для `CatBoostClassifier` был использован внутренний алгоритм токенезации, лемматизации и векторизации текста. Модель показала 0.83 на тестовой выборке и 0.77 на тестовой."
   ]
  }
 ],
 "metadata": {
  "ExecuteTimeLog": [
   {
    "duration": 3380,
    "start_time": "2022-05-31T06:46:39.444Z"
   },
   {
    "duration": 2567,
    "start_time": "2022-05-31T06:47:55.243Z"
   },
   {
    "duration": 6,
    "start_time": "2022-05-31T06:48:22.477Z"
   },
   {
    "duration": 857,
    "start_time": "2022-05-31T06:48:25.014Z"
   },
   {
    "duration": 303,
    "start_time": "2022-05-31T06:48:31.004Z"
   },
   {
    "duration": 4,
    "start_time": "2022-05-31T06:49:34.583Z"
   },
   {
    "duration": 825,
    "start_time": "2022-05-31T06:49:35.459Z"
   },
   {
    "duration": 305,
    "start_time": "2022-05-31T06:49:36.287Z"
   },
   {
    "duration": 6,
    "start_time": "2022-05-31T06:50:24.275Z"
   },
   {
    "duration": 457,
    "start_time": "2022-05-31T06:56:28.964Z"
   },
   {
    "duration": 8,
    "start_time": "2022-05-31T06:58:26.104Z"
   },
   {
    "duration": 3895,
    "start_time": "2022-05-31T07:01:25.451Z"
   },
   {
    "duration": 2755,
    "start_time": "2022-05-31T07:01:29.348Z"
   },
   {
    "duration": 54,
    "start_time": "2022-05-31T07:01:43.456Z"
   },
   {
    "duration": 3807,
    "start_time": "2022-05-31T07:02:06.703Z"
   },
   {
    "duration": 2695,
    "start_time": "2022-05-31T07:02:12.313Z"
   },
   {
    "duration": 342,
    "start_time": "2022-05-31T07:02:16.103Z"
   },
   {
    "duration": 6,
    "start_time": "2022-05-31T07:02:28.279Z"
   },
   {
    "duration": 68,
    "start_time": "2022-05-31T07:03:01.853Z"
   },
   {
    "duration": 6,
    "start_time": "2022-05-31T07:03:17.767Z"
   },
   {
    "duration": 4066,
    "start_time": "2022-05-31T07:03:24.500Z"
   },
   {
    "duration": 2953,
    "start_time": "2022-05-31T07:03:28.568Z"
   },
   {
    "duration": 318,
    "start_time": "2022-05-31T07:03:31.523Z"
   },
   {
    "duration": 12,
    "start_time": "2022-05-31T07:03:31.843Z"
   },
   {
    "duration": 88,
    "start_time": "2022-05-31T07:04:16.357Z"
   },
   {
    "duration": 3784,
    "start_time": "2022-05-31T07:04:20.825Z"
   },
   {
    "duration": 2990,
    "start_time": "2022-05-31T07:04:24.610Z"
   },
   {
    "duration": 307,
    "start_time": "2022-05-31T07:04:27.602Z"
   },
   {
    "duration": 22,
    "start_time": "2022-05-31T07:04:27.910Z"
   },
   {
    "duration": 60,
    "start_time": "2022-05-31T07:05:48.848Z"
   },
   {
    "duration": 3709,
    "start_time": "2022-05-31T07:05:54.125Z"
   },
   {
    "duration": 2884,
    "start_time": "2022-05-31T07:05:57.836Z"
   },
   {
    "duration": 338,
    "start_time": "2022-05-31T07:06:00.724Z"
   },
   {
    "duration": 6,
    "start_time": "2022-05-31T07:06:01.064Z"
   },
   {
    "duration": 66,
    "start_time": "2022-05-31T07:06:10.791Z"
   },
   {
    "duration": 3762,
    "start_time": "2022-05-31T07:06:19.330Z"
   },
   {
    "duration": 3165,
    "start_time": "2022-05-31T07:06:23.094Z"
   },
   {
    "duration": 351,
    "start_time": "2022-05-31T07:06:26.262Z"
   },
   {
    "duration": 25,
    "start_time": "2022-05-31T07:06:26.615Z"
   },
   {
    "duration": 71,
    "start_time": "2022-05-31T07:06:26.645Z"
   },
   {
    "duration": 66,
    "start_time": "2022-05-31T07:07:14.895Z"
   },
   {
    "duration": 3518,
    "start_time": "2022-05-31T07:07:19.983Z"
   },
   {
    "duration": 2598,
    "start_time": "2022-05-31T07:07:23.503Z"
   },
   {
    "duration": 309,
    "start_time": "2022-05-31T07:07:26.103Z"
   },
   {
    "duration": 26,
    "start_time": "2022-05-31T07:07:26.414Z"
   },
   {
    "duration": 31,
    "start_time": "2022-05-31T07:07:26.441Z"
   },
   {
    "duration": 2,
    "start_time": "2022-05-31T07:08:42.821Z"
   },
   {
    "duration": 25,
    "start_time": "2022-05-31T07:17:26.240Z"
   },
   {
    "duration": 601,
    "start_time": "2022-05-31T07:17:41.541Z"
   },
   {
    "duration": 5,
    "start_time": "2022-05-31T07:17:50.209Z"
   },
   {
    "duration": 6,
    "start_time": "2022-05-31T07:18:08.200Z"
   },
   {
    "duration": 59,
    "start_time": "2022-05-31T07:36:08.142Z"
   },
   {
    "duration": 6,
    "start_time": "2022-05-31T07:36:20.041Z"
   },
   {
    "duration": 241,
    "start_time": "2022-05-31T07:40:26.801Z"
   },
   {
    "duration": 6,
    "start_time": "2022-05-31T07:40:37.560Z"
   },
   {
    "duration": 6,
    "start_time": "2022-05-31T07:40:39.127Z"
   },
   {
    "duration": 2,
    "start_time": "2022-05-31T07:41:45.991Z"
   },
   {
    "duration": 3,
    "start_time": "2022-05-31T07:41:53.536Z"
   },
   {
    "duration": 359,
    "start_time": "2022-05-31T07:42:36.024Z"
   },
   {
    "duration": 3,
    "start_time": "2022-05-31T07:42:42.032Z"
   },
   {
    "duration": 28,
    "start_time": "2022-05-31T07:42:43.103Z"
   },
   {
    "duration": 3,
    "start_time": "2022-05-31T07:43:51.127Z"
   },
   {
    "duration": 28,
    "start_time": "2022-05-31T07:43:51.926Z"
   },
   {
    "duration": 68053,
    "start_time": "2022-05-31T07:46:37.635Z"
   },
   {
    "duration": 11,
    "start_time": "2022-05-31T07:47:55.054Z"
   },
   {
    "duration": 4,
    "start_time": "2022-05-31T07:50:58.116Z"
   },
   {
    "duration": 34,
    "start_time": "2022-05-31T07:56:32.188Z"
   },
   {
    "duration": 24,
    "start_time": "2022-05-31T07:56:45.457Z"
   },
   {
    "duration": 4,
    "start_time": "2022-05-31T07:56:51.585Z"
   },
   {
    "duration": 58142,
    "start_time": "2022-05-31T07:57:25.609Z"
   },
   {
    "duration": 12,
    "start_time": "2022-05-31T07:58:26.000Z"
   },
   {
    "duration": 21,
    "start_time": "2022-05-31T07:58:50.433Z"
   },
   {
    "duration": 61715,
    "start_time": "2022-05-31T07:58:51.664Z"
   },
   {
    "duration": 14,
    "start_time": "2022-05-31T07:59:57.449Z"
   },
   {
    "duration": 77236,
    "start_time": "2022-05-31T08:03:41.576Z"
   },
   {
    "duration": 14,
    "start_time": "2022-05-31T08:05:01.581Z"
   },
   {
    "duration": 3692,
    "start_time": "2022-05-31T08:05:39.957Z"
   },
   {
    "duration": 1023,
    "start_time": "2022-05-31T08:05:43.651Z"
   },
   {
    "duration": 352,
    "start_time": "2022-05-31T08:05:44.677Z"
   },
   {
    "duration": 16,
    "start_time": "2022-05-31T08:05:45.031Z"
   },
   {
    "duration": 64,
    "start_time": "2022-05-31T08:05:45.050Z"
   },
   {
    "duration": 18,
    "start_time": "2022-05-31T08:05:45.115Z"
   },
   {
    "duration": 20,
    "start_time": "2022-05-31T08:05:45.135Z"
   },
   {
    "duration": 8,
    "start_time": "2022-05-31T08:05:45.156Z"
   },
   {
    "duration": 68495,
    "start_time": "2022-05-31T08:05:45.166Z"
   },
   {
    "duration": 15,
    "start_time": "2022-05-31T08:06:53.663Z"
   },
   {
    "duration": 8,
    "start_time": "2022-05-31T08:06:53.679Z"
   },
   {
    "duration": 7029,
    "start_time": "2022-05-31T08:08:49.924Z"
   },
   {
    "duration": 4,
    "start_time": "2022-05-31T08:08:59.124Z"
   },
   {
    "duration": 1418,
    "start_time": "2022-05-31T08:09:29.780Z"
   },
   {
    "duration": 57,
    "start_time": "2022-05-31T08:09:48.564Z"
   },
   {
    "duration": 3493,
    "start_time": "2022-05-31T08:09:59.777Z"
   },
   {
    "duration": 2263,
    "start_time": "2022-05-31T08:10:03.272Z"
   },
   {
    "duration": 280,
    "start_time": "2022-05-31T08:10:05.537Z"
   },
   {
    "duration": 7,
    "start_time": "2022-05-31T08:10:05.828Z"
   },
   {
    "duration": 78,
    "start_time": "2022-05-31T08:10:05.836Z"
   },
   {
    "duration": 6,
    "start_time": "2022-05-31T08:10:05.915Z"
   },
   {
    "duration": 7,
    "start_time": "2022-05-31T08:10:05.923Z"
   },
   {
    "duration": 10,
    "start_time": "2022-05-31T08:10:05.932Z"
   },
   {
    "duration": 59170,
    "start_time": "2022-05-31T08:10:05.943Z"
   },
   {
    "duration": 18,
    "start_time": "2022-05-31T08:11:05.115Z"
   },
   {
    "duration": 1485,
    "start_time": "2022-05-31T08:11:05.135Z"
   },
   {
    "duration": 7996,
    "start_time": "2022-05-31T08:11:06.622Z"
   },
   {
    "duration": 4,
    "start_time": "2022-05-31T08:11:14.620Z"
   },
   {
    "duration": 58,
    "start_time": "2022-05-31T08:16:33.050Z"
   },
   {
    "duration": 3903,
    "start_time": "2022-05-31T08:16:48.438Z"
   },
   {
    "duration": 2398,
    "start_time": "2022-05-31T08:16:52.344Z"
   },
   {
    "duration": 336,
    "start_time": "2022-05-31T08:16:54.744Z"
   },
   {
    "duration": 11,
    "start_time": "2022-05-31T08:16:55.081Z"
   },
   {
    "duration": 82,
    "start_time": "2022-05-31T08:16:55.094Z"
   },
   {
    "duration": 7,
    "start_time": "2022-05-31T08:16:55.179Z"
   },
   {
    "duration": 6,
    "start_time": "2022-05-31T08:16:55.188Z"
   },
   {
    "duration": 6,
    "start_time": "2022-05-31T08:16:55.195Z"
   },
   {
    "duration": 63955,
    "start_time": "2022-05-31T08:16:55.202Z"
   },
   {
    "duration": 12,
    "start_time": "2022-05-31T08:17:59.158Z"
   },
   {
    "duration": 1540,
    "start_time": "2022-05-31T08:17:59.172Z"
   },
   {
    "duration": 8877,
    "start_time": "2022-05-31T08:18:00.713Z"
   },
   {
    "duration": 4,
    "start_time": "2022-05-31T08:18:09.592Z"
   },
   {
    "duration": 69,
    "start_time": "2022-05-31T08:23:27.814Z"
   },
   {
    "duration": 3855,
    "start_time": "2022-05-31T08:23:34.952Z"
   },
   {
    "duration": 2558,
    "start_time": "2022-05-31T08:23:38.809Z"
   },
   {
    "duration": 285,
    "start_time": "2022-05-31T08:23:41.369Z"
   },
   {
    "duration": 7,
    "start_time": "2022-05-31T08:23:41.657Z"
   },
   {
    "duration": 95,
    "start_time": "2022-05-31T08:23:41.667Z"
   },
   {
    "duration": 6,
    "start_time": "2022-05-31T08:23:41.764Z"
   },
   {
    "duration": 11,
    "start_time": "2022-05-31T08:23:41.772Z"
   },
   {
    "duration": 9,
    "start_time": "2022-05-31T08:23:41.784Z"
   },
   {
    "duration": 66094,
    "start_time": "2022-05-31T08:23:41.795Z"
   },
   {
    "duration": 12,
    "start_time": "2022-05-31T08:24:47.891Z"
   },
   {
    "duration": 1519,
    "start_time": "2022-05-31T08:24:47.904Z"
   },
   {
    "duration": 8581,
    "start_time": "2022-05-31T08:24:49.427Z"
   },
   {
    "duration": 4,
    "start_time": "2022-05-31T08:24:58.010Z"
   },
   {
    "duration": 66,
    "start_time": "2022-05-31T08:25:52.893Z"
   },
   {
    "duration": 4327,
    "start_time": "2022-05-31T08:26:25.890Z"
   },
   {
    "duration": 3431,
    "start_time": "2022-05-31T08:26:30.219Z"
   },
   {
    "duration": 332,
    "start_time": "2022-05-31T08:26:33.656Z"
   },
   {
    "duration": 6,
    "start_time": "2022-05-31T08:26:33.990Z"
   },
   {
    "duration": 85,
    "start_time": "2022-05-31T08:26:33.998Z"
   },
   {
    "duration": 6,
    "start_time": "2022-05-31T08:26:34.084Z"
   },
   {
    "duration": 6,
    "start_time": "2022-05-31T08:26:34.091Z"
   },
   {
    "duration": 6,
    "start_time": "2022-05-31T08:26:34.098Z"
   },
   {
    "duration": 70286,
    "start_time": "2022-05-31T08:26:34.105Z"
   },
   {
    "duration": 16,
    "start_time": "2022-05-31T08:27:44.393Z"
   },
   {
    "duration": 1869,
    "start_time": "2022-05-31T08:27:44.412Z"
   },
   {
    "duration": 10863,
    "start_time": "2022-05-31T08:27:46.285Z"
   },
   {
    "duration": 4,
    "start_time": "2022-05-31T08:27:57.150Z"
   },
   {
    "duration": 50,
    "start_time": "2022-05-31T08:27:57.156Z"
   },
   {
    "duration": 29,
    "start_time": "2022-05-31T08:27:57.207Z"
   },
   {
    "duration": 53620,
    "start_time": "2022-05-31T08:30:00.701Z"
   },
   {
    "duration": 4503,
    "start_time": "2022-05-31T08:33:23.804Z"
   },
   {
    "duration": 2915,
    "start_time": "2022-05-31T08:33:28.310Z"
   },
   {
    "duration": 350,
    "start_time": "2022-05-31T08:33:31.227Z"
   },
   {
    "duration": 8,
    "start_time": "2022-05-31T08:33:31.581Z"
   },
   {
    "duration": 92,
    "start_time": "2022-05-31T08:33:31.591Z"
   },
   {
    "duration": 9,
    "start_time": "2022-05-31T08:33:31.685Z"
   },
   {
    "duration": 15,
    "start_time": "2022-05-31T08:33:31.696Z"
   },
   {
    "duration": 42,
    "start_time": "2022-05-31T08:33:31.713Z"
   },
   {
    "duration": 75417,
    "start_time": "2022-05-31T08:33:31.757Z"
   },
   {
    "duration": 17,
    "start_time": "2022-05-31T08:34:47.178Z"
   },
   {
    "duration": 1495,
    "start_time": "2022-05-31T08:34:47.197Z"
   },
   {
    "duration": 9489,
    "start_time": "2022-05-31T08:34:48.694Z"
   },
   {
    "duration": 4,
    "start_time": "2022-05-31T08:34:58.185Z"
   },
   {
    "duration": 8,
    "start_time": "2022-05-31T08:34:58.190Z"
   },
   {
    "duration": 7,
    "start_time": "2022-05-31T08:34:58.200Z"
   },
   {
    "duration": 52174,
    "start_time": "2022-05-31T08:34:58.209Z"
   },
   {
    "duration": 107,
    "start_time": "2022-05-31T08:37:48.884Z"
   },
   {
    "duration": 5846,
    "start_time": "2022-05-31T08:37:58.116Z"
   },
   {
    "duration": 4051,
    "start_time": "2022-05-31T08:38:03.974Z"
   },
   {
    "duration": 395,
    "start_time": "2022-05-31T08:38:08.027Z"
   },
   {
    "duration": 20,
    "start_time": "2022-05-31T08:38:08.424Z"
   },
   {
    "duration": 137,
    "start_time": "2022-05-31T08:38:08.447Z"
   },
   {
    "duration": 6,
    "start_time": "2022-05-31T08:38:08.586Z"
   },
   {
    "duration": 7,
    "start_time": "2022-05-31T08:38:08.594Z"
   },
   {
    "duration": 3,
    "start_time": "2022-05-31T08:38:08.603Z"
   },
   {
    "duration": 82868,
    "start_time": "2022-05-31T08:38:08.608Z"
   },
   {
    "duration": 15,
    "start_time": "2022-05-31T08:39:31.478Z"
   },
   {
    "duration": 1995,
    "start_time": "2022-05-31T08:39:31.494Z"
   },
   {
    "duration": 11135,
    "start_time": "2022-05-31T08:39:33.492Z"
   },
   {
    "duration": 8,
    "start_time": "2022-05-31T08:39:44.631Z"
   },
   {
    "duration": 46,
    "start_time": "2022-05-31T08:39:44.642Z"
   },
   {
    "duration": 15,
    "start_time": "2022-05-31T08:39:44.690Z"
   },
   {
    "duration": 4925,
    "start_time": "2022-05-31T08:56:50.062Z"
   },
   {
    "duration": 3088,
    "start_time": "2022-05-31T08:56:54.989Z"
   },
   {
    "duration": 317,
    "start_time": "2022-05-31T08:56:58.079Z"
   },
   {
    "duration": 7,
    "start_time": "2022-05-31T08:56:58.398Z"
   },
   {
    "duration": 88,
    "start_time": "2022-05-31T08:56:58.407Z"
   },
   {
    "duration": 9,
    "start_time": "2022-05-31T08:56:58.497Z"
   },
   {
    "duration": 26,
    "start_time": "2022-05-31T08:56:58.507Z"
   },
   {
    "duration": 21,
    "start_time": "2022-05-31T08:56:58.535Z"
   },
   {
    "duration": 7460,
    "start_time": "2022-05-31T08:56:58.558Z"
   },
   {
    "duration": 20,
    "start_time": "2022-05-31T08:57:06.020Z"
   },
   {
    "duration": 1731,
    "start_time": "2022-05-31T08:57:06.042Z"
   },
   {
    "duration": 9200,
    "start_time": "2022-05-31T08:57:07.775Z"
   },
   {
    "duration": 5,
    "start_time": "2022-05-31T08:57:16.977Z"
   },
   {
    "duration": 72148,
    "start_time": "2022-05-31T08:57:16.983Z"
   },
   {
    "duration": 40,
    "start_time": "2022-05-31T09:40:14.759Z"
   },
   {
    "duration": 5,
    "start_time": "2022-05-31T09:40:38.605Z"
   },
   {
    "duration": 4,
    "start_time": "2022-05-31T09:47:09.342Z"
   },
   {
    "duration": 4421,
    "start_time": "2022-05-31T09:47:14.996Z"
   },
   {
    "duration": 13,
    "start_time": "2022-05-31T09:47:21.881Z"
   },
   {
    "duration": 3926,
    "start_time": "2022-05-31T09:48:04.903Z"
   },
   {
    "duration": 851,
    "start_time": "2022-05-31T09:48:08.832Z"
   },
   {
    "duration": 312,
    "start_time": "2022-05-31T09:48:09.685Z"
   },
   {
    "duration": 29,
    "start_time": "2022-05-31T09:48:09.999Z"
   },
   {
    "duration": 74,
    "start_time": "2022-05-31T09:48:10.032Z"
   },
   {
    "duration": 23,
    "start_time": "2022-05-31T09:48:10.108Z"
   },
   {
    "duration": 7,
    "start_time": "2022-05-31T09:48:10.133Z"
   },
   {
    "duration": 11,
    "start_time": "2022-05-31T09:48:10.142Z"
   },
   {
    "duration": 5477,
    "start_time": "2022-05-31T09:48:10.155Z"
   },
   {
    "duration": 17,
    "start_time": "2022-05-31T09:48:15.634Z"
   },
   {
    "duration": 1564,
    "start_time": "2022-05-31T09:48:15.654Z"
   },
   {
    "duration": 7659,
    "start_time": "2022-05-31T09:48:17.220Z"
   },
   {
    "duration": 5,
    "start_time": "2022-05-31T09:48:24.881Z"
   },
   {
    "duration": 138349,
    "start_time": "2022-05-31T09:48:24.889Z"
   },
   {
    "duration": 4,
    "start_time": "2022-05-31T09:50:43.239Z"
   },
   {
    "duration": 128946,
    "start_time": "2022-05-31T10:01:25.290Z"
   },
   {
    "duration": 40,
    "start_time": "2022-05-31T10:04:50.338Z"
   },
   {
    "duration": 1365956,
    "start_time": "2022-05-31T10:05:04.948Z"
   },
   {
    "duration": 314,
    "start_time": "2022-05-31T10:34:51.184Z"
   },
   {
    "duration": 333,
    "start_time": "2022-05-31T10:34:52.900Z"
   },
   {
    "duration": 16,
    "start_time": "2022-05-31T10:37:44.895Z"
   },
   {
    "duration": 17,
    "start_time": "2022-05-31T10:38:00.255Z"
   },
   {
    "duration": 19,
    "start_time": "2022-05-31T10:39:01.688Z"
   },
   {
    "duration": 65,
    "start_time": "2022-05-31T10:39:24.001Z"
   },
   {
    "duration": 876,
    "start_time": "2022-05-31T10:39:26.739Z"
   },
   {
    "duration": 40,
    "start_time": "2022-05-31T10:39:28.609Z"
   },
   {
    "duration": 3947,
    "start_time": "2022-05-31T10:46:43.894Z"
   },
   {
    "duration": 2222,
    "start_time": "2022-05-31T10:46:47.842Z"
   },
   {
    "duration": 271,
    "start_time": "2022-05-31T10:46:50.066Z"
   },
   {
    "duration": 9,
    "start_time": "2022-05-31T10:46:50.340Z"
   },
   {
    "duration": 52,
    "start_time": "2022-05-31T10:46:50.350Z"
   },
   {
    "duration": 28,
    "start_time": "2022-05-31T10:46:50.403Z"
   },
   {
    "duration": 7,
    "start_time": "2022-05-31T10:46:50.432Z"
   },
   {
    "duration": 18,
    "start_time": "2022-05-31T10:46:50.441Z"
   },
   {
    "duration": 5537,
    "start_time": "2022-05-31T10:46:50.461Z"
   },
   {
    "duration": 16,
    "start_time": "2022-05-31T10:46:56.004Z"
   },
   {
    "duration": 1631,
    "start_time": "2022-05-31T10:46:56.027Z"
   },
   {
    "duration": 8225,
    "start_time": "2022-05-31T10:46:57.660Z"
   },
   {
    "duration": 4,
    "start_time": "2022-05-31T10:47:05.887Z"
   },
   {
    "duration": 31,
    "start_time": "2022-05-31T10:47:05.892Z"
   },
   {
    "duration": 7710,
    "start_time": "2022-05-31T10:49:28.398Z"
   },
   {
    "duration": 2270,
    "start_time": "2022-05-31T10:49:36.110Z"
   },
   {
    "duration": 285,
    "start_time": "2022-05-31T10:49:38.381Z"
   },
   {
    "duration": 7,
    "start_time": "2022-05-31T10:49:38.668Z"
   },
   {
    "duration": 72,
    "start_time": "2022-05-31T10:49:38.676Z"
   },
   {
    "duration": 5,
    "start_time": "2022-05-31T10:49:38.750Z"
   },
   {
    "duration": 6,
    "start_time": "2022-05-31T10:49:38.757Z"
   },
   {
    "duration": 4,
    "start_time": "2022-05-31T10:49:38.764Z"
   },
   {
    "duration": 5403,
    "start_time": "2022-05-31T10:49:38.769Z"
   },
   {
    "duration": 10,
    "start_time": "2022-05-31T10:49:44.174Z"
   },
   {
    "duration": 1460,
    "start_time": "2022-05-31T10:49:44.186Z"
   },
   {
    "duration": 7734,
    "start_time": "2022-05-31T10:49:45.648Z"
   },
   {
    "duration": 4,
    "start_time": "2022-05-31T10:49:53.383Z"
   },
   {
    "duration": 53,
    "start_time": "2022-05-31T10:49:53.389Z"
   },
   {
    "duration": 1508,
    "start_time": "2022-05-31T10:52:22.245Z"
   },
   {
    "duration": 6646,
    "start_time": "2022-05-31T10:52:30.185Z"
   },
   {
    "duration": 2268,
    "start_time": "2022-05-31T10:52:36.835Z"
   },
   {
    "duration": 280,
    "start_time": "2022-05-31T10:52:39.105Z"
   },
   {
    "duration": 7,
    "start_time": "2022-05-31T10:52:39.388Z"
   },
   {
    "duration": 82,
    "start_time": "2022-05-31T10:52:39.397Z"
   },
   {
    "duration": 7,
    "start_time": "2022-05-31T10:52:39.480Z"
   },
   {
    "duration": 6,
    "start_time": "2022-05-31T10:52:39.489Z"
   },
   {
    "duration": 3,
    "start_time": "2022-05-31T10:52:39.497Z"
   },
   {
    "duration": 5357,
    "start_time": "2022-05-31T10:52:39.502Z"
   },
   {
    "duration": 12,
    "start_time": "2022-05-31T10:52:44.863Z"
   },
   {
    "duration": 1490,
    "start_time": "2022-05-31T10:52:44.876Z"
   },
   {
    "duration": 7669,
    "start_time": "2022-05-31T10:52:46.368Z"
   },
   {
    "duration": 4,
    "start_time": "2022-05-31T10:52:54.039Z"
   },
   {
    "duration": 107,
    "start_time": "2022-05-31T10:52:54.044Z"
   },
   {
    "duration": 39256,
    "start_time": "2022-05-31T10:53:24.317Z"
   },
   {
    "duration": 2280,
    "start_time": "2022-05-31T10:54:03.576Z"
   },
   {
    "duration": 279,
    "start_time": "2022-05-31T10:54:05.858Z"
   },
   {
    "duration": 9,
    "start_time": "2022-05-31T10:54:06.138Z"
   },
   {
    "duration": 77,
    "start_time": "2022-05-31T10:54:06.150Z"
   },
   {
    "duration": 7,
    "start_time": "2022-05-31T10:54:06.229Z"
   },
   {
    "duration": 18,
    "start_time": "2022-05-31T10:54:06.239Z"
   },
   {
    "duration": 7,
    "start_time": "2022-05-31T10:54:06.260Z"
   },
   {
    "duration": 5500,
    "start_time": "2022-05-31T10:54:06.269Z"
   },
   {
    "duration": 12,
    "start_time": "2022-05-31T10:54:11.771Z"
   },
   {
    "duration": 1484,
    "start_time": "2022-05-31T10:54:11.786Z"
   },
   {
    "duration": 7689,
    "start_time": "2022-05-31T10:54:13.272Z"
   },
   {
    "duration": 4,
    "start_time": "2022-05-31T10:54:20.962Z"
   },
   {
    "duration": 102,
    "start_time": "2022-05-31T10:54:20.968Z"
   },
   {
    "duration": 65,
    "start_time": "2022-05-31T10:55:26.836Z"
   },
   {
    "duration": 13154,
    "start_time": "2022-05-31T10:55:36.319Z"
   },
   {
    "duration": 2496,
    "start_time": "2022-05-31T10:55:49.475Z"
   },
   {
    "duration": 357,
    "start_time": "2022-05-31T10:55:51.973Z"
   },
   {
    "duration": 9,
    "start_time": "2022-05-31T10:55:52.333Z"
   },
   {
    "duration": 117,
    "start_time": "2022-05-31T10:55:52.343Z"
   },
   {
    "duration": 8,
    "start_time": "2022-05-31T10:55:52.464Z"
   },
   {
    "duration": 21,
    "start_time": "2022-05-31T10:55:52.473Z"
   },
   {
    "duration": 53,
    "start_time": "2022-05-31T10:55:52.495Z"
   },
   {
    "duration": 5860,
    "start_time": "2022-05-31T10:55:52.549Z"
   },
   {
    "duration": 16,
    "start_time": "2022-05-31T10:55:58.412Z"
   },
   {
    "duration": 1554,
    "start_time": "2022-05-31T10:55:58.429Z"
   },
   {
    "duration": 8170,
    "start_time": "2022-05-31T10:55:59.985Z"
   },
   {
    "duration": 4,
    "start_time": "2022-05-31T10:56:08.158Z"
   },
   {
    "duration": 401,
    "start_time": "2022-05-31T10:56:08.165Z"
   },
   {
    "duration": 52,
    "start_time": "2022-05-31T11:11:27.180Z"
   },
   {
    "duration": 10210,
    "start_time": "2022-05-31T11:11:34.496Z"
   },
   {
    "duration": 2184,
    "start_time": "2022-05-31T11:11:44.708Z"
   },
   {
    "duration": 266,
    "start_time": "2022-05-31T11:11:46.894Z"
   },
   {
    "duration": 7,
    "start_time": "2022-05-31T11:11:47.162Z"
   },
   {
    "duration": 70,
    "start_time": "2022-05-31T11:11:47.170Z"
   },
   {
    "duration": 7,
    "start_time": "2022-05-31T11:11:47.242Z"
   },
   {
    "duration": 7,
    "start_time": "2022-05-31T11:11:47.251Z"
   },
   {
    "duration": 4,
    "start_time": "2022-05-31T11:11:47.260Z"
   },
   {
    "duration": 5017,
    "start_time": "2022-05-31T11:11:47.265Z"
   },
   {
    "duration": 11,
    "start_time": "2022-05-31T11:11:52.284Z"
   },
   {
    "duration": 1406,
    "start_time": "2022-05-31T11:11:52.297Z"
   },
   {
    "duration": 6886,
    "start_time": "2022-05-31T11:11:53.705Z"
   },
   {
    "duration": 4,
    "start_time": "2022-05-31T11:12:00.592Z"
   },
   {
    "duration": 232,
    "start_time": "2022-05-31T11:12:00.597Z"
   },
   {
    "duration": 4,
    "start_time": "2022-05-31T11:12:00.831Z"
   },
   {
    "duration": 3,
    "start_time": "2022-05-31T11:13:05.304Z"
   },
   {
    "duration": 2,
    "start_time": "2022-05-31T11:13:44.536Z"
   },
   {
    "duration": 940,
    "start_time": "2022-05-31T11:13:45.711Z"
   },
   {
    "duration": 4,
    "start_time": "2022-05-31T11:15:01.343Z"
   },
   {
    "duration": 11103,
    "start_time": "2022-05-31T11:16:00.799Z"
   },
   {
    "duration": 2170,
    "start_time": "2022-05-31T11:16:11.904Z"
   },
   {
    "duration": 293,
    "start_time": "2022-05-31T11:16:14.076Z"
   },
   {
    "duration": 6,
    "start_time": "2022-05-31T11:16:14.371Z"
   },
   {
    "duration": 78,
    "start_time": "2022-05-31T11:16:14.379Z"
   },
   {
    "duration": 5,
    "start_time": "2022-05-31T11:16:14.459Z"
   },
   {
    "duration": 20,
    "start_time": "2022-05-31T11:16:14.466Z"
   },
   {
    "duration": 14,
    "start_time": "2022-05-31T11:16:14.488Z"
   },
   {
    "duration": 5410,
    "start_time": "2022-05-31T11:16:14.503Z"
   },
   {
    "duration": 14,
    "start_time": "2022-05-31T11:16:19.914Z"
   },
   {
    "duration": 1459,
    "start_time": "2022-05-31T11:16:19.929Z"
   },
   {
    "duration": 7189,
    "start_time": "2022-05-31T11:16:21.390Z"
   },
   {
    "duration": 3,
    "start_time": "2022-05-31T11:16:28.581Z"
   },
   {
    "duration": 201,
    "start_time": "2022-05-31T11:16:28.587Z"
   },
   {
    "duration": 886,
    "start_time": "2022-05-31T11:16:28.790Z"
   },
   {
    "duration": 317,
    "start_time": "2022-05-31T11:17:19.654Z"
   },
   {
    "duration": 7669,
    "start_time": "2022-05-31T11:23:11.368Z"
   },
   {
    "duration": 1923,
    "start_time": "2022-05-31T11:23:19.039Z"
   },
   {
    "duration": 280,
    "start_time": "2022-05-31T11:23:20.964Z"
   },
   {
    "duration": 9,
    "start_time": "2022-05-31T11:23:21.246Z"
   },
   {
    "duration": 77,
    "start_time": "2022-05-31T11:23:21.257Z"
   },
   {
    "duration": 6,
    "start_time": "2022-05-31T11:23:21.335Z"
   },
   {
    "duration": 9,
    "start_time": "2022-05-31T11:23:21.343Z"
   },
   {
    "duration": 14,
    "start_time": "2022-05-31T11:23:21.353Z"
   },
   {
    "duration": 5270,
    "start_time": "2022-05-31T11:23:21.368Z"
   },
   {
    "duration": 12,
    "start_time": "2022-05-31T11:23:26.640Z"
   },
   {
    "duration": 1429,
    "start_time": "2022-05-31T11:23:26.653Z"
   },
   {
    "duration": 6950,
    "start_time": "2022-05-31T11:23:28.084Z"
   },
   {
    "duration": 4,
    "start_time": "2022-05-31T11:23:35.035Z"
   },
   {
    "duration": 22,
    "start_time": "2022-05-31T11:23:35.040Z"
   },
   {
    "duration": 849,
    "start_time": "2022-05-31T11:23:35.063Z"
   },
   {
    "duration": 2,
    "start_time": "2022-05-31T11:23:35.914Z"
   },
   {
    "duration": 1210,
    "start_time": "2022-05-31T11:23:35.918Z"
   },
   {
    "duration": 1831,
    "start_time": "2022-05-31T11:24:13.467Z"
   },
   {
    "duration": 3556,
    "start_time": "2022-05-31T11:25:19.522Z"
   },
   {
    "duration": 1763,
    "start_time": "2022-05-31T11:25:30.924Z"
   },
   {
    "duration": 8328,
    "start_time": "2022-05-31T11:30:45.063Z"
   },
   {
    "duration": 1213,
    "start_time": "2022-05-31T11:30:53.392Z"
   },
   {
    "duration": 283,
    "start_time": "2022-05-31T11:30:54.607Z"
   },
   {
    "duration": 7,
    "start_time": "2022-05-31T11:30:54.892Z"
   },
   {
    "duration": 79,
    "start_time": "2022-05-31T11:30:54.901Z"
   },
   {
    "duration": 6,
    "start_time": "2022-05-31T11:30:54.982Z"
   },
   {
    "duration": 7,
    "start_time": "2022-05-31T11:30:54.989Z"
   },
   {
    "duration": 6,
    "start_time": "2022-05-31T11:30:54.998Z"
   },
   {
    "duration": 5209,
    "start_time": "2022-05-31T11:30:55.005Z"
   },
   {
    "duration": 16,
    "start_time": "2022-05-31T11:31:00.216Z"
   },
   {
    "duration": 1450,
    "start_time": "2022-05-31T11:31:00.233Z"
   },
   {
    "duration": 7330,
    "start_time": "2022-05-31T11:31:01.685Z"
   },
   {
    "duration": 3,
    "start_time": "2022-05-31T11:31:09.017Z"
   },
   {
    "duration": 762,
    "start_time": "2022-05-31T11:40:06.207Z"
   },
   {
    "duration": 5322,
    "start_time": "2022-05-31T11:40:17.785Z"
   },
   {
    "duration": 2174,
    "start_time": "2022-05-31T11:40:23.109Z"
   },
   {
    "duration": 277,
    "start_time": "2022-05-31T11:40:25.285Z"
   },
   {
    "duration": 9,
    "start_time": "2022-05-31T11:40:25.564Z"
   },
   {
    "duration": 73,
    "start_time": "2022-05-31T11:40:25.575Z"
   },
   {
    "duration": 5,
    "start_time": "2022-05-31T11:40:25.650Z"
   },
   {
    "duration": 11,
    "start_time": "2022-05-31T11:40:25.657Z"
   },
   {
    "duration": 4,
    "start_time": "2022-05-31T11:40:25.669Z"
   },
   {
    "duration": 5451,
    "start_time": "2022-05-31T11:40:25.674Z"
   },
   {
    "duration": 11,
    "start_time": "2022-05-31T11:40:31.127Z"
   },
   {
    "duration": 1509,
    "start_time": "2022-05-31T11:40:31.140Z"
   },
   {
    "duration": 7280,
    "start_time": "2022-05-31T11:40:32.651Z"
   },
   {
    "duration": 4,
    "start_time": "2022-05-31T11:40:39.932Z"
   },
   {
    "duration": 350,
    "start_time": "2022-05-31T11:40:39.938Z"
   },
   {
    "duration": 0,
    "start_time": "2022-05-31T11:40:40.289Z"
   },
   {
    "duration": 17,
    "start_time": "2022-05-31T11:41:03.709Z"
   },
   {
    "duration": 63,
    "start_time": "2022-05-31T11:41:12.486Z"
   },
   {
    "duration": 5907,
    "start_time": "2022-05-31T11:45:29.809Z"
   },
   {
    "duration": 2187,
    "start_time": "2022-05-31T11:45:35.718Z"
   },
   {
    "duration": 266,
    "start_time": "2022-05-31T11:45:37.907Z"
   },
   {
    "duration": 7,
    "start_time": "2022-05-31T11:45:38.174Z"
   },
   {
    "duration": 71,
    "start_time": "2022-05-31T11:45:38.183Z"
   },
   {
    "duration": 6,
    "start_time": "2022-05-31T11:45:38.256Z"
   },
   {
    "duration": 26,
    "start_time": "2022-05-31T11:45:38.263Z"
   },
   {
    "duration": 17,
    "start_time": "2022-05-31T11:45:38.291Z"
   },
   {
    "duration": 5116,
    "start_time": "2022-05-31T11:45:38.310Z"
   },
   {
    "duration": 11,
    "start_time": "2022-05-31T11:45:43.428Z"
   },
   {
    "duration": 1440,
    "start_time": "2022-05-31T11:45:43.440Z"
   },
   {
    "duration": 7035,
    "start_time": "2022-05-31T11:45:44.882Z"
   },
   {
    "duration": 9,
    "start_time": "2022-05-31T11:45:51.918Z"
   },
   {
    "duration": 587,
    "start_time": "2022-05-31T11:46:10.869Z"
   },
   {
    "duration": 3525,
    "start_time": "2022-06-01T05:17:19.311Z"
   },
   {
    "duration": 2251,
    "start_time": "2022-06-01T05:17:22.837Z"
   },
   {
    "duration": 300,
    "start_time": "2022-06-01T05:17:25.090Z"
   },
   {
    "duration": 8,
    "start_time": "2022-06-01T05:17:25.393Z"
   },
   {
    "duration": 78,
    "start_time": "2022-06-01T05:17:25.402Z"
   },
   {
    "duration": 7,
    "start_time": "2022-06-01T05:17:25.482Z"
   },
   {
    "duration": 5,
    "start_time": "2022-06-01T05:17:25.490Z"
   },
   {
    "duration": 3,
    "start_time": "2022-06-01T05:17:25.497Z"
   },
   {
    "duration": 5312,
    "start_time": "2022-06-01T05:17:25.501Z"
   },
   {
    "duration": 15,
    "start_time": "2022-06-01T05:17:30.815Z"
   },
   {
    "duration": 1634,
    "start_time": "2022-06-01T05:17:30.831Z"
   },
   {
    "duration": 7300,
    "start_time": "2022-06-01T05:17:32.466Z"
   },
   {
    "duration": 4,
    "start_time": "2022-06-01T05:17:39.767Z"
   },
   {
    "duration": 62,
    "start_time": "2022-06-01T05:17:39.773Z"
   },
   {
    "duration": 152,
    "start_time": "2022-06-01T05:17:39.837Z"
   },
   {
    "duration": 2057,
    "start_time": "2022-06-01T05:17:39.991Z"
   },
   {
    "duration": 57,
    "start_time": "2022-06-01T05:19:29.524Z"
   },
   {
    "duration": 3669,
    "start_time": "2022-06-01T05:29:55.893Z"
   },
   {
    "duration": 2277,
    "start_time": "2022-06-01T05:29:59.565Z"
   },
   {
    "duration": 316,
    "start_time": "2022-06-01T05:30:01.844Z"
   },
   {
    "duration": 8,
    "start_time": "2022-06-01T05:30:02.163Z"
   },
   {
    "duration": 107,
    "start_time": "2022-06-01T05:30:02.172Z"
   },
   {
    "duration": 6,
    "start_time": "2022-06-01T05:30:02.281Z"
   },
   {
    "duration": 57,
    "start_time": "2022-06-01T05:30:02.289Z"
   },
   {
    "duration": 32,
    "start_time": "2022-06-01T05:30:02.348Z"
   },
   {
    "duration": 5368,
    "start_time": "2022-06-01T05:30:02.381Z"
   },
   {
    "duration": 11,
    "start_time": "2022-06-01T05:30:07.752Z"
   },
   {
    "duration": 1569,
    "start_time": "2022-06-01T05:30:07.765Z"
   },
   {
    "duration": 7705,
    "start_time": "2022-06-01T05:30:09.336Z"
   },
   {
    "duration": 3,
    "start_time": "2022-06-01T05:30:17.043Z"
   },
   {
    "duration": 24,
    "start_time": "2022-06-01T05:30:17.048Z"
   },
   {
    "duration": 57,
    "start_time": "2022-06-01T05:37:14.173Z"
   },
   {
    "duration": 3670,
    "start_time": "2022-06-01T05:37:18.532Z"
   },
   {
    "duration": 2321,
    "start_time": "2022-06-01T05:37:22.204Z"
   },
   {
    "duration": 321,
    "start_time": "2022-06-01T05:37:24.528Z"
   },
   {
    "duration": 7,
    "start_time": "2022-06-01T05:37:24.851Z"
   },
   {
    "duration": 79,
    "start_time": "2022-06-01T05:37:24.859Z"
   },
   {
    "duration": 6,
    "start_time": "2022-06-01T05:37:24.939Z"
   },
   {
    "duration": 25,
    "start_time": "2022-06-01T05:37:24.947Z"
   },
   {
    "duration": 27,
    "start_time": "2022-06-01T05:37:24.974Z"
   },
   {
    "duration": 5600,
    "start_time": "2022-06-01T05:37:25.002Z"
   },
   {
    "duration": 12,
    "start_time": "2022-06-01T05:37:30.604Z"
   },
   {
    "duration": 1596,
    "start_time": "2022-06-01T05:37:30.627Z"
   },
   {
    "duration": 7760,
    "start_time": "2022-06-01T05:37:32.226Z"
   },
   {
    "duration": 4,
    "start_time": "2022-06-01T05:37:39.988Z"
   },
   {
    "duration": 30,
    "start_time": "2022-06-01T05:37:39.993Z"
   },
   {
    "duration": 305,
    "start_time": "2022-06-01T05:37:42.596Z"
   },
   {
    "duration": 5,
    "start_time": "2022-06-01T05:38:17.540Z"
   },
   {
    "duration": 94,
    "start_time": "2022-06-01T05:38:56.780Z"
   },
   {
    "duration": 7,
    "start_time": "2022-06-01T05:40:32.786Z"
   },
   {
    "duration": 22,
    "start_time": "2022-06-01T05:41:06.857Z"
   },
   {
    "duration": 22,
    "start_time": "2022-06-01T05:41:45.058Z"
   },
   {
    "duration": 22,
    "start_time": "2022-06-01T05:42:48.250Z"
   },
   {
    "duration": 6,
    "start_time": "2022-06-01T05:43:43.042Z"
   },
   {
    "duration": 783,
    "start_time": "2022-06-01T05:43:43.050Z"
   },
   {
    "duration": 276,
    "start_time": "2022-06-01T05:43:43.835Z"
   },
   {
    "duration": 16,
    "start_time": "2022-06-01T05:43:44.113Z"
   },
   {
    "duration": 73,
    "start_time": "2022-06-01T05:43:44.131Z"
   },
   {
    "duration": 24,
    "start_time": "2022-06-01T05:43:44.206Z"
   },
   {
    "duration": 9,
    "start_time": "2022-06-01T05:43:44.231Z"
   },
   {
    "duration": 4,
    "start_time": "2022-06-01T05:43:44.242Z"
   },
   {
    "duration": 4175,
    "start_time": "2022-06-01T05:43:44.247Z"
   },
   {
    "duration": 11,
    "start_time": "2022-06-01T05:43:48.424Z"
   },
   {
    "duration": 3743,
    "start_time": "2022-06-01T05:44:07.647Z"
   },
   {
    "duration": 2291,
    "start_time": "2022-06-01T05:44:11.393Z"
   },
   {
    "duration": 307,
    "start_time": "2022-06-01T05:44:13.686Z"
   },
   {
    "duration": 10,
    "start_time": "2022-06-01T05:44:13.995Z"
   },
   {
    "duration": 84,
    "start_time": "2022-06-01T05:44:14.007Z"
   },
   {
    "duration": 7,
    "start_time": "2022-06-01T05:44:14.093Z"
   },
   {
    "duration": 29,
    "start_time": "2022-06-01T05:44:14.102Z"
   },
   {
    "duration": 5,
    "start_time": "2022-06-01T05:44:14.133Z"
   },
   {
    "duration": 6374,
    "start_time": "2022-06-01T05:44:14.139Z"
   },
   {
    "duration": 19,
    "start_time": "2022-06-01T05:44:20.515Z"
   },
   {
    "duration": 1613,
    "start_time": "2022-06-01T05:44:20.536Z"
   },
   {
    "duration": 7792,
    "start_time": "2022-06-01T05:44:22.151Z"
   },
   {
    "duration": 4,
    "start_time": "2022-06-01T05:44:29.945Z"
   },
   {
    "duration": 23,
    "start_time": "2022-06-01T05:44:29.951Z"
   },
   {
    "duration": 3,
    "start_time": "2022-06-01T05:44:29.976Z"
   },
   {
    "duration": 450,
    "start_time": "2022-06-01T05:44:34.168Z"
   },
   {
    "duration": 127,
    "start_time": "2022-06-01T05:44:47.738Z"
   },
   {
    "duration": 33,
    "start_time": "2022-06-01T05:48:01.810Z"
   },
   {
    "duration": 38,
    "start_time": "2022-06-01T05:48:23.687Z"
   },
   {
    "duration": 20,
    "start_time": "2022-06-01T05:48:39.808Z"
   },
   {
    "duration": 21,
    "start_time": "2022-06-01T05:50:01.685Z"
   },
   {
    "duration": 4,
    "start_time": "2022-06-01T05:50:26.894Z"
   },
   {
    "duration": 60,
    "start_time": "2022-06-01T05:52:09.741Z"
   },
   {
    "duration": 3829,
    "start_time": "2022-06-01T05:52:13.357Z"
   },
   {
    "duration": 2364,
    "start_time": "2022-06-01T05:52:17.189Z"
   },
   {
    "duration": 321,
    "start_time": "2022-06-01T05:52:19.555Z"
   },
   {
    "duration": 8,
    "start_time": "2022-06-01T05:52:19.878Z"
   },
   {
    "duration": 85,
    "start_time": "2022-06-01T05:52:19.888Z"
   },
   {
    "duration": 8,
    "start_time": "2022-06-01T05:52:19.974Z"
   },
   {
    "duration": 8,
    "start_time": "2022-06-01T05:52:19.984Z"
   },
   {
    "duration": 8,
    "start_time": "2022-06-01T05:52:19.993Z"
   },
   {
    "duration": 6458,
    "start_time": "2022-06-01T05:52:20.003Z"
   },
   {
    "duration": 13,
    "start_time": "2022-06-01T05:52:26.464Z"
   },
   {
    "duration": 1609,
    "start_time": "2022-06-01T05:52:26.479Z"
   },
   {
    "duration": 8553,
    "start_time": "2022-06-01T05:52:28.090Z"
   },
   {
    "duration": 4,
    "start_time": "2022-06-01T05:52:36.645Z"
   },
   {
    "duration": 33,
    "start_time": "2022-06-01T05:52:36.650Z"
   },
   {
    "duration": 3910,
    "start_time": "2022-06-01T05:52:55.568Z"
   },
   {
    "duration": 2406,
    "start_time": "2022-06-01T05:52:59.480Z"
   },
   {
    "duration": 362,
    "start_time": "2022-06-01T05:53:01.887Z"
   },
   {
    "duration": 14,
    "start_time": "2022-06-01T05:53:02.252Z"
   },
   {
    "duration": 108,
    "start_time": "2022-06-01T05:53:02.268Z"
   },
   {
    "duration": 8,
    "start_time": "2022-06-01T05:53:02.378Z"
   },
   {
    "duration": 13,
    "start_time": "2022-06-01T05:53:02.388Z"
   },
   {
    "duration": 18,
    "start_time": "2022-06-01T05:53:02.404Z"
   },
   {
    "duration": 6007,
    "start_time": "2022-06-01T05:53:02.424Z"
   },
   {
    "duration": 14,
    "start_time": "2022-06-01T05:53:08.434Z"
   },
   {
    "duration": 1651,
    "start_time": "2022-06-01T05:53:08.450Z"
   },
   {
    "duration": 8544,
    "start_time": "2022-06-01T05:53:10.102Z"
   },
   {
    "duration": 5,
    "start_time": "2022-06-01T05:53:18.647Z"
   },
   {
    "duration": 41,
    "start_time": "2022-06-01T05:53:18.654Z"
   },
   {
    "duration": 63,
    "start_time": "2022-06-01T05:53:44.058Z"
   },
   {
    "duration": 4097,
    "start_time": "2022-06-01T05:53:52.739Z"
   },
   {
    "duration": 2367,
    "start_time": "2022-06-01T05:53:56.838Z"
   },
   {
    "duration": 308,
    "start_time": "2022-06-01T05:53:59.206Z"
   },
   {
    "duration": 12,
    "start_time": "2022-06-01T05:53:59.525Z"
   },
   {
    "duration": 86,
    "start_time": "2022-06-01T05:53:59.540Z"
   },
   {
    "duration": 9,
    "start_time": "2022-06-01T05:53:59.628Z"
   },
   {
    "duration": 8,
    "start_time": "2022-06-01T05:53:59.638Z"
   },
   {
    "duration": 4,
    "start_time": "2022-06-01T05:53:59.648Z"
   },
   {
    "duration": 5855,
    "start_time": "2022-06-01T05:53:59.654Z"
   },
   {
    "duration": 17,
    "start_time": "2022-06-01T05:54:05.511Z"
   },
   {
    "duration": 1552,
    "start_time": "2022-06-01T05:54:05.529Z"
   },
   {
    "duration": 8595,
    "start_time": "2022-06-01T05:54:07.083Z"
   },
   {
    "duration": 4,
    "start_time": "2022-06-01T05:54:15.680Z"
   },
   {
    "duration": 45,
    "start_time": "2022-06-01T05:54:15.687Z"
   },
   {
    "duration": 55,
    "start_time": "2022-06-01T06:07:41.166Z"
   },
   {
    "duration": 1020,
    "start_time": "2022-06-01T06:08:20.917Z"
   },
   {
    "duration": 409,
    "start_time": "2022-06-01T06:08:50.206Z"
   },
   {
    "duration": 59,
    "start_time": "2022-06-01T06:09:25.757Z"
   },
   {
    "duration": 3967,
    "start_time": "2022-06-01T06:09:28.222Z"
   },
   {
    "duration": 2382,
    "start_time": "2022-06-01T06:09:32.191Z"
   },
   {
    "duration": 338,
    "start_time": "2022-06-01T06:09:34.576Z"
   },
   {
    "duration": 15,
    "start_time": "2022-06-01T06:09:34.916Z"
   },
   {
    "duration": 63,
    "start_time": "2022-06-01T06:09:34.934Z"
   },
   {
    "duration": 7,
    "start_time": "2022-06-01T06:09:34.998Z"
   },
   {
    "duration": 7,
    "start_time": "2022-06-01T06:09:35.027Z"
   },
   {
    "duration": 9,
    "start_time": "2022-06-01T06:09:35.035Z"
   },
   {
    "duration": 5792,
    "start_time": "2022-06-01T06:09:35.046Z"
   },
   {
    "duration": 18,
    "start_time": "2022-06-01T06:09:40.839Z"
   },
   {
    "duration": 1561,
    "start_time": "2022-06-01T06:09:40.859Z"
   },
   {
    "duration": 8385,
    "start_time": "2022-06-01T06:09:42.422Z"
   },
   {
    "duration": 4,
    "start_time": "2022-06-01T06:09:50.809Z"
   },
   {
    "duration": 36,
    "start_time": "2022-06-01T06:09:50.816Z"
   },
   {
    "duration": 67,
    "start_time": "2022-06-01T06:09:50.854Z"
   },
   {
    "duration": 340,
    "start_time": "2022-06-01T06:09:53.470Z"
   },
   {
    "duration": 8,
    "start_time": "2022-06-01T06:10:17.853Z"
   },
   {
    "duration": 6,
    "start_time": "2022-06-01T06:10:42.348Z"
   },
   {
    "duration": 7,
    "start_time": "2022-06-01T06:11:13.252Z"
   },
   {
    "duration": 7,
    "start_time": "2022-06-01T06:11:17.341Z"
   },
   {
    "duration": 60,
    "start_time": "2022-06-01T06:11:40.615Z"
   },
   {
    "duration": 6,
    "start_time": "2022-06-01T06:11:45.253Z"
   },
   {
    "duration": 5,
    "start_time": "2022-06-01T06:11:50.165Z"
   },
   {
    "duration": 423,
    "start_time": "2022-06-01T06:12:22.030Z"
   },
   {
    "duration": 27,
    "start_time": "2022-06-01T06:12:48.916Z"
   },
   {
    "duration": 62,
    "start_time": "2022-06-01T06:13:34.787Z"
   },
   {
    "duration": 3838,
    "start_time": "2022-06-01T06:13:41.674Z"
   },
   {
    "duration": 2495,
    "start_time": "2022-06-01T06:13:45.514Z"
   },
   {
    "duration": 304,
    "start_time": "2022-06-01T06:13:48.010Z"
   },
   {
    "duration": 21,
    "start_time": "2022-06-01T06:13:48.325Z"
   },
   {
    "duration": 57,
    "start_time": "2022-06-01T06:13:48.348Z"
   },
   {
    "duration": 6,
    "start_time": "2022-06-01T06:13:48.407Z"
   },
   {
    "duration": 23,
    "start_time": "2022-06-01T06:13:48.415Z"
   },
   {
    "duration": 15,
    "start_time": "2022-06-01T06:13:48.439Z"
   },
   {
    "duration": 5987,
    "start_time": "2022-06-01T06:13:48.456Z"
   },
   {
    "duration": 16,
    "start_time": "2022-06-01T06:13:54.447Z"
   },
   {
    "duration": 1571,
    "start_time": "2022-06-01T06:13:54.465Z"
   },
   {
    "duration": 8143,
    "start_time": "2022-06-01T06:13:56.039Z"
   },
   {
    "duration": 4,
    "start_time": "2022-06-01T06:14:04.184Z"
   },
   {
    "duration": 30,
    "start_time": "2022-06-01T06:14:04.191Z"
   },
   {
    "duration": 63,
    "start_time": "2022-06-01T06:14:04.223Z"
   },
   {
    "duration": 3898,
    "start_time": "2022-06-01T06:17:18.113Z"
   },
   {
    "duration": 2462,
    "start_time": "2022-06-01T06:17:22.013Z"
   },
   {
    "duration": 364,
    "start_time": "2022-06-01T06:17:24.477Z"
   },
   {
    "duration": 8,
    "start_time": "2022-06-01T06:17:24.842Z"
   },
   {
    "duration": 67,
    "start_time": "2022-06-01T06:17:24.852Z"
   },
   {
    "duration": 18,
    "start_time": "2022-06-01T06:17:24.921Z"
   },
   {
    "duration": 15,
    "start_time": "2022-06-01T06:17:24.941Z"
   },
   {
    "duration": 12,
    "start_time": "2022-06-01T06:17:24.957Z"
   },
   {
    "duration": 5822,
    "start_time": "2022-06-01T06:17:24.970Z"
   },
   {
    "duration": 12,
    "start_time": "2022-06-01T06:17:30.794Z"
   },
   {
    "duration": 1588,
    "start_time": "2022-06-01T06:17:30.807Z"
   },
   {
    "duration": 8244,
    "start_time": "2022-06-01T06:17:32.397Z"
   },
   {
    "duration": 4,
    "start_time": "2022-06-01T06:17:40.642Z"
   },
   {
    "duration": 22,
    "start_time": "2022-06-01T06:17:40.649Z"
   },
   {
    "duration": 69,
    "start_time": "2022-06-01T06:17:40.672Z"
   },
   {
    "duration": 351,
    "start_time": "2022-06-01T06:17:52.863Z"
   },
   {
    "duration": 19,
    "start_time": "2022-06-01T06:18:02.992Z"
   },
   {
    "duration": 27,
    "start_time": "2022-06-01T06:18:07.415Z"
   },
   {
    "duration": 5,
    "start_time": "2022-06-01T06:18:15.175Z"
   },
   {
    "duration": 95,
    "start_time": "2022-06-01T06:18:58.695Z"
   },
   {
    "duration": 11,
    "start_time": "2022-06-01T06:19:00.342Z"
   },
   {
    "duration": 1243,
    "start_time": "2022-06-01T06:19:07.142Z"
   },
   {
    "duration": 22,
    "start_time": "2022-06-01T06:20:14.598Z"
   },
   {
    "duration": 84,
    "start_time": "2022-06-01T06:20:33.493Z"
   },
   {
    "duration": 9,
    "start_time": "2022-06-01T06:20:35.503Z"
   },
   {
    "duration": 1224,
    "start_time": "2022-06-01T06:20:40.149Z"
   },
   {
    "duration": 206,
    "start_time": "2022-06-01T06:21:33.661Z"
   },
   {
    "duration": 61,
    "start_time": "2022-06-01T06:21:41.840Z"
   },
   {
    "duration": 5,
    "start_time": "2022-06-01T06:22:01.947Z"
   },
   {
    "duration": 4,
    "start_time": "2022-06-01T06:23:27.275Z"
   },
   {
    "duration": 380,
    "start_time": "2022-06-01T06:23:39.475Z"
   },
   {
    "duration": 5,
    "start_time": "2022-06-01T06:25:42.082Z"
   },
   {
    "duration": 4,
    "start_time": "2022-06-01T06:26:16.593Z"
   },
   {
    "duration": 4,
    "start_time": "2022-06-01T06:26:56.361Z"
   },
   {
    "duration": 452,
    "start_time": "2022-06-01T06:27:16.761Z"
   },
   {
    "duration": 2,
    "start_time": "2022-06-01T06:28:36.960Z"
   },
   {
    "duration": 3,
    "start_time": "2022-06-01T06:28:38.143Z"
   },
   {
    "duration": 24,
    "start_time": "2022-06-01T06:28:39.529Z"
   },
   {
    "duration": 83,
    "start_time": "2022-06-01T06:28:41.087Z"
   },
   {
    "duration": 186,
    "start_time": "2022-06-01T06:28:46.880Z"
   },
   {
    "duration": 4,
    "start_time": "2022-06-01T06:28:48.495Z"
   },
   {
    "duration": 251,
    "start_time": "2022-06-01T06:28:50.764Z"
   },
   {
    "duration": 359,
    "start_time": "2022-06-01T06:29:04.784Z"
   },
   {
    "duration": 9524,
    "start_time": "2022-06-01T06:32:05.249Z"
   },
   {
    "duration": 3,
    "start_time": "2022-06-01T06:33:19.797Z"
   },
   {
    "duration": 3958,
    "start_time": "2022-06-01T06:33:55.014Z"
   },
   {
    "duration": 2519,
    "start_time": "2022-06-01T06:33:58.974Z"
   },
   {
    "duration": 312,
    "start_time": "2022-06-01T06:34:01.494Z"
   },
   {
    "duration": 35,
    "start_time": "2022-06-01T06:34:01.808Z"
   },
   {
    "duration": 122,
    "start_time": "2022-06-01T06:34:01.845Z"
   },
   {
    "duration": 7,
    "start_time": "2022-06-01T06:34:01.970Z"
   },
   {
    "duration": 26,
    "start_time": "2022-06-01T06:34:01.979Z"
   },
   {
    "duration": 88,
    "start_time": "2022-06-01T06:34:02.006Z"
   },
   {
    "duration": 6045,
    "start_time": "2022-06-01T06:34:02.097Z"
   },
   {
    "duration": 13,
    "start_time": "2022-06-01T06:34:08.144Z"
   },
   {
    "duration": 1593,
    "start_time": "2022-06-01T06:34:08.158Z"
   },
   {
    "duration": 8580,
    "start_time": "2022-06-01T06:34:09.753Z"
   },
   {
    "duration": 6,
    "start_time": "2022-06-01T06:34:18.338Z"
   },
   {
    "duration": 45,
    "start_time": "2022-06-01T06:34:18.345Z"
   },
   {
    "duration": 3,
    "start_time": "2022-06-01T06:34:18.392Z"
   },
   {
    "duration": 58,
    "start_time": "2022-06-01T06:34:18.396Z"
   },
   {
    "duration": 89,
    "start_time": "2022-06-01T06:34:18.455Z"
   },
   {
    "duration": 200,
    "start_time": "2022-06-01T06:34:18.546Z"
   },
   {
    "duration": 13,
    "start_time": "2022-06-01T06:34:18.750Z"
   },
   {
    "duration": 2125037,
    "start_time": "2022-06-01T06:34:23.356Z"
   },
   {
    "duration": 418,
    "start_time": "2022-06-01T07:14:33.704Z"
   },
   {
    "duration": 35,
    "start_time": "2022-06-01T07:16:40.720Z"
   },
   {
    "duration": 10,
    "start_time": "2022-06-01T07:17:17.983Z"
   },
   {
    "duration": 1883,
    "start_time": "2022-06-01T07:17:59.661Z"
   },
   {
    "duration": 10410,
    "start_time": "2022-06-01T07:18:08.208Z"
   },
   {
    "duration": 951,
    "start_time": "2022-06-01T07:24:14.357Z"
   },
   {
    "duration": 929,
    "start_time": "2022-06-01T07:24:18.340Z"
   },
   {
    "duration": 5286,
    "start_time": "2022-06-01T07:47:32.479Z"
   },
   {
    "duration": 2892,
    "start_time": "2022-06-01T07:47:37.767Z"
   },
   {
    "duration": 385,
    "start_time": "2022-06-01T07:47:40.661Z"
   },
   {
    "duration": 10,
    "start_time": "2022-06-01T07:47:41.048Z"
   },
   {
    "duration": 84,
    "start_time": "2022-06-01T07:47:41.061Z"
   },
   {
    "duration": 13,
    "start_time": "2022-06-01T07:47:41.147Z"
   },
   {
    "duration": 20,
    "start_time": "2022-06-01T07:47:41.161Z"
   },
   {
    "duration": 5,
    "start_time": "2022-06-01T07:47:41.183Z"
   },
   {
    "duration": 6854,
    "start_time": "2022-06-01T07:47:41.190Z"
   },
   {
    "duration": 17,
    "start_time": "2022-06-01T07:47:48.049Z"
   },
   {
    "duration": 1689,
    "start_time": "2022-06-01T07:47:48.068Z"
   },
   {
    "duration": 10123,
    "start_time": "2022-06-01T07:47:49.759Z"
   },
   {
    "duration": 5,
    "start_time": "2022-06-01T07:47:59.884Z"
   },
   {
    "duration": 504,
    "start_time": "2022-06-01T07:47:59.891Z"
   },
   {
    "duration": 25,
    "start_time": "2022-06-01T07:48:32.144Z"
   },
   {
    "duration": 1231,
    "start_time": "2022-06-01T07:48:32.173Z"
   },
   {
    "duration": 399,
    "start_time": "2022-06-01T07:48:33.406Z"
   },
   {
    "duration": 27,
    "start_time": "2022-06-01T07:48:33.807Z"
   },
   {
    "duration": 101,
    "start_time": "2022-06-01T07:48:33.837Z"
   },
   {
    "duration": 10,
    "start_time": "2022-06-01T07:48:33.940Z"
   },
   {
    "duration": 38,
    "start_time": "2022-06-01T07:48:33.952Z"
   },
   {
    "duration": 13,
    "start_time": "2022-06-01T07:48:33.993Z"
   },
   {
    "duration": 5946,
    "start_time": "2022-06-01T07:48:34.008Z"
   },
   {
    "duration": 14,
    "start_time": "2022-06-01T07:48:39.956Z"
   },
   {
    "duration": 4729,
    "start_time": "2022-06-01T07:49:53.053Z"
   },
   {
    "duration": 2918,
    "start_time": "2022-06-01T07:49:57.785Z"
   },
   {
    "duration": 351,
    "start_time": "2022-06-01T07:50:00.706Z"
   },
   {
    "duration": 13,
    "start_time": "2022-06-01T07:50:01.059Z"
   },
   {
    "duration": 132,
    "start_time": "2022-06-01T07:50:01.074Z"
   },
   {
    "duration": 10,
    "start_time": "2022-06-01T07:50:01.208Z"
   },
   {
    "duration": 103,
    "start_time": "2022-06-01T07:50:01.220Z"
   },
   {
    "duration": 28,
    "start_time": "2022-06-01T07:50:01.328Z"
   },
   {
    "duration": 7178,
    "start_time": "2022-06-01T07:50:01.358Z"
   },
   {
    "duration": 28,
    "start_time": "2022-06-01T07:50:08.542Z"
   },
   {
    "duration": 1761,
    "start_time": "2022-06-01T07:50:08.573Z"
   },
   {
    "duration": 9826,
    "start_time": "2022-06-01T07:50:10.336Z"
   },
   {
    "duration": 5,
    "start_time": "2022-06-01T07:50:22.886Z"
   },
   {
    "duration": 1033,
    "start_time": "2022-06-01T07:50:26.991Z"
   },
   {
    "duration": 5056,
    "start_time": "2022-06-01T07:53:52.520Z"
   },
   {
    "duration": 2831,
    "start_time": "2022-06-01T07:53:57.578Z"
   },
   {
    "duration": 427,
    "start_time": "2022-06-01T07:54:00.412Z"
   },
   {
    "duration": 11,
    "start_time": "2022-06-01T07:54:00.842Z"
   },
   {
    "duration": 123,
    "start_time": "2022-06-01T07:54:00.856Z"
   },
   {
    "duration": 9,
    "start_time": "2022-06-01T07:54:00.982Z"
   },
   {
    "duration": 21,
    "start_time": "2022-06-01T07:54:00.994Z"
   },
   {
    "duration": 45,
    "start_time": "2022-06-01T07:54:01.021Z"
   },
   {
    "duration": 7554,
    "start_time": "2022-06-01T07:54:01.068Z"
   },
   {
    "duration": 18,
    "start_time": "2022-06-01T07:54:08.625Z"
   },
   {
    "duration": 1620,
    "start_time": "2022-06-01T07:54:08.648Z"
   },
   {
    "duration": 9439,
    "start_time": "2022-06-01T07:54:10.270Z"
   },
   {
    "duration": 5,
    "start_time": "2022-06-01T07:54:19.711Z"
   },
   {
    "duration": 956,
    "start_time": "2022-06-01T07:54:19.726Z"
   },
   {
    "duration": 6309,
    "start_time": "2022-06-01T07:55:22.371Z"
   },
   {
    "duration": 2866,
    "start_time": "2022-06-01T07:55:28.683Z"
   },
   {
    "duration": 426,
    "start_time": "2022-06-01T07:55:31.551Z"
   },
   {
    "duration": 12,
    "start_time": "2022-06-01T07:55:31.979Z"
   },
   {
    "duration": 96,
    "start_time": "2022-06-01T07:55:31.994Z"
   },
   {
    "duration": 9,
    "start_time": "2022-06-01T07:55:32.092Z"
   },
   {
    "duration": 29,
    "start_time": "2022-06-01T07:55:32.103Z"
   },
   {
    "duration": 31,
    "start_time": "2022-06-01T07:55:32.139Z"
   },
   {
    "duration": 6831,
    "start_time": "2022-06-01T07:55:32.172Z"
   },
   {
    "duration": 14,
    "start_time": "2022-06-01T07:55:39.005Z"
   },
   {
    "duration": 1595,
    "start_time": "2022-06-01T07:55:39.021Z"
   },
   {
    "duration": 9568,
    "start_time": "2022-06-01T07:55:40.618Z"
   },
   {
    "duration": 5,
    "start_time": "2022-06-01T07:55:50.189Z"
   },
   {
    "duration": 995,
    "start_time": "2022-06-01T07:55:50.198Z"
   },
   {
    "duration": 6857,
    "start_time": "2022-06-01T08:03:34.136Z"
   },
   {
    "duration": 3328,
    "start_time": "2022-06-01T08:03:40.995Z"
   },
   {
    "duration": 411,
    "start_time": "2022-06-01T08:03:44.326Z"
   },
   {
    "duration": 14,
    "start_time": "2022-06-01T08:03:44.740Z"
   },
   {
    "duration": 150,
    "start_time": "2022-06-01T08:03:44.756Z"
   },
   {
    "duration": 14,
    "start_time": "2022-06-01T08:03:44.908Z"
   },
   {
    "duration": 67,
    "start_time": "2022-06-01T08:03:44.924Z"
   },
   {
    "duration": 63,
    "start_time": "2022-06-01T08:03:44.993Z"
   },
   {
    "duration": 8096,
    "start_time": "2022-06-01T08:03:45.061Z"
   },
   {
    "duration": 20,
    "start_time": "2022-06-01T08:03:53.160Z"
   },
   {
    "duration": 1923,
    "start_time": "2022-06-01T08:03:53.187Z"
   },
   {
    "duration": 10718,
    "start_time": "2022-06-01T08:03:55.112Z"
   },
   {
    "duration": 11,
    "start_time": "2022-06-01T08:04:05.835Z"
   },
   {
    "duration": 1183,
    "start_time": "2022-06-01T08:04:05.848Z"
   },
   {
    "duration": 5,
    "start_time": "2022-06-01T08:06:40.573Z"
   },
   {
    "duration": 3976,
    "start_time": "2022-06-01T08:29:51.981Z"
   },
   {
    "duration": 2065,
    "start_time": "2022-06-01T08:29:55.960Z"
   },
   {
    "duration": 274,
    "start_time": "2022-06-01T08:29:58.026Z"
   },
   {
    "duration": 7,
    "start_time": "2022-06-01T08:29:58.302Z"
   },
   {
    "duration": 74,
    "start_time": "2022-06-01T08:29:58.311Z"
   },
   {
    "duration": 6,
    "start_time": "2022-06-01T08:29:58.386Z"
   },
   {
    "duration": 5,
    "start_time": "2022-06-01T08:29:58.394Z"
   },
   {
    "duration": 5,
    "start_time": "2022-06-01T08:29:58.400Z"
   },
   {
    "duration": 5311,
    "start_time": "2022-06-01T08:29:58.406Z"
   },
   {
    "duration": 14,
    "start_time": "2022-06-01T08:30:03.720Z"
   },
   {
    "duration": 1366,
    "start_time": "2022-06-01T08:30:03.735Z"
   },
   {
    "duration": 8313,
    "start_time": "2022-06-01T08:30:05.103Z"
   },
   {
    "duration": 6,
    "start_time": "2022-06-01T08:30:13.419Z"
   },
   {
    "duration": 7,
    "start_time": "2022-06-01T08:30:53.881Z"
   },
   {
    "duration": 374,
    "start_time": "2022-06-01T08:31:15.617Z"
   },
   {
    "duration": 42,
    "start_time": "2022-06-01T08:31:50.183Z"
   },
   {
    "duration": 34,
    "start_time": "2022-06-01T08:32:12.329Z"
   },
   {
    "duration": 14,
    "start_time": "2022-06-01T08:32:19.879Z"
   },
   {
    "duration": 134,
    "start_time": "2022-06-01T08:32:33.545Z"
   },
   {
    "duration": 6,
    "start_time": "2022-06-01T08:32:40.527Z"
   },
   {
    "duration": 10,
    "start_time": "2022-06-01T08:34:08.778Z"
   },
   {
    "duration": 757,
    "start_time": "2022-06-01T08:34:08.790Z"
   },
   {
    "duration": 280,
    "start_time": "2022-06-01T08:34:09.549Z"
   },
   {
    "duration": 23,
    "start_time": "2022-06-01T08:34:09.831Z"
   },
   {
    "duration": 75,
    "start_time": "2022-06-01T08:34:09.857Z"
   },
   {
    "duration": 23,
    "start_time": "2022-06-01T08:34:09.934Z"
   },
   {
    "duration": 13,
    "start_time": "2022-06-01T08:34:09.959Z"
   },
   {
    "duration": 4,
    "start_time": "2022-06-01T08:34:09.974Z"
   },
   {
    "duration": 3993,
    "start_time": "2022-06-01T08:34:09.980Z"
   },
   {
    "duration": 11,
    "start_time": "2022-06-01T08:34:13.974Z"
   },
   {
    "duration": 7397,
    "start_time": "2022-06-01T08:34:20.391Z"
   },
   {
    "duration": 2142,
    "start_time": "2022-06-01T08:34:27.790Z"
   },
   {
    "duration": 304,
    "start_time": "2022-06-01T08:34:29.934Z"
   },
   {
    "duration": 7,
    "start_time": "2022-06-01T08:34:30.253Z"
   },
   {
    "duration": 80,
    "start_time": "2022-06-01T08:34:30.262Z"
   },
   {
    "duration": 6,
    "start_time": "2022-06-01T08:34:30.344Z"
   },
   {
    "duration": 17,
    "start_time": "2022-06-01T08:34:30.352Z"
   },
   {
    "duration": 34,
    "start_time": "2022-06-01T08:34:30.371Z"
   },
   {
    "duration": 5611,
    "start_time": "2022-06-01T08:34:30.406Z"
   },
   {
    "duration": 12,
    "start_time": "2022-06-01T08:34:36.019Z"
   },
   {
    "duration": 1374,
    "start_time": "2022-06-01T08:34:36.033Z"
   },
   {
    "duration": 6526,
    "start_time": "2022-06-01T08:34:37.409Z"
   },
   {
    "duration": 4,
    "start_time": "2022-06-01T08:34:43.937Z"
   },
   {
    "duration": 8,
    "start_time": "2022-06-01T08:34:43.951Z"
   },
   {
    "duration": 27,
    "start_time": "2022-06-01T08:34:43.960Z"
   },
   {
    "duration": 6,
    "start_time": "2022-06-01T08:34:48.961Z"
   },
   {
    "duration": 3163,
    "start_time": "2022-06-01T08:34:59.873Z"
   },
   {
    "duration": 27339,
    "start_time": "2022-06-01T08:35:39.714Z"
   },
   {
    "duration": 27701,
    "start_time": "2022-06-01T08:36:18.865Z"
   },
   {
    "duration": 7,
    "start_time": "2022-06-01T08:40:56.472Z"
   },
   {
    "duration": 715,
    "start_time": "2022-06-01T08:40:56.481Z"
   },
   {
    "duration": 282,
    "start_time": "2022-06-01T08:40:57.197Z"
   },
   {
    "duration": 6,
    "start_time": "2022-06-01T08:40:57.481Z"
   },
   {
    "duration": 83,
    "start_time": "2022-06-01T08:40:57.489Z"
   },
   {
    "duration": 8,
    "start_time": "2022-06-01T08:40:57.574Z"
   },
   {
    "duration": 9,
    "start_time": "2022-06-01T08:40:57.583Z"
   },
   {
    "duration": 12,
    "start_time": "2022-06-01T08:40:57.593Z"
   },
   {
    "duration": 4617,
    "start_time": "2022-06-01T08:40:57.606Z"
   },
   {
    "duration": 12,
    "start_time": "2022-06-01T08:41:02.225Z"
   },
   {
    "duration": 1449,
    "start_time": "2022-06-01T08:41:02.239Z"
   },
   {
    "duration": 7027,
    "start_time": "2022-06-01T08:41:03.690Z"
   },
   {
    "duration": 4,
    "start_time": "2022-06-01T08:41:10.719Z"
   },
   {
    "duration": 43,
    "start_time": "2022-06-01T08:41:10.724Z"
   },
   {
    "duration": 33,
    "start_time": "2022-06-01T08:41:29.779Z"
   },
   {
    "duration": 7,
    "start_time": "2022-06-01T08:41:30.770Z"
   },
   {
    "duration": 2524,
    "start_time": "2022-06-01T08:41:35.179Z"
   },
   {
    "duration": 26031,
    "start_time": "2022-06-01T08:41:42.135Z"
   },
   {
    "duration": 6,
    "start_time": "2022-06-01T08:43:36.386Z"
   },
   {
    "duration": 12,
    "start_time": "2022-06-01T08:46:16.114Z"
   },
   {
    "duration": 821,
    "start_time": "2022-06-01T08:46:18.813Z"
   },
   {
    "duration": 343,
    "start_time": "2022-06-01T08:46:21.365Z"
   },
   {
    "duration": 7774,
    "start_time": "2022-06-01T08:46:43.994Z"
   },
   {
    "duration": 773,
    "start_time": "2022-06-01T08:48:26.961Z"
   },
   {
    "duration": 6746,
    "start_time": "2022-06-01T08:48:29.119Z"
   },
   {
    "duration": 4,
    "start_time": "2022-06-01T08:48:57.680Z"
   },
   {
    "duration": 9,
    "start_time": "2022-06-01T08:49:24.363Z"
   },
   {
    "duration": 732,
    "start_time": "2022-06-01T08:49:24.374Z"
   },
   {
    "duration": 331,
    "start_time": "2022-06-01T08:49:25.108Z"
   },
   {
    "duration": 28,
    "start_time": "2022-06-01T08:49:25.440Z"
   },
   {
    "duration": 107,
    "start_time": "2022-06-01T08:49:25.472Z"
   },
   {
    "duration": 8,
    "start_time": "2022-06-01T08:49:25.582Z"
   },
   {
    "duration": 24,
    "start_time": "2022-06-01T08:49:25.592Z"
   },
   {
    "duration": 5,
    "start_time": "2022-06-01T08:49:25.618Z"
   },
   {
    "duration": 4244,
    "start_time": "2022-06-01T08:49:25.625Z"
   },
   {
    "duration": 12,
    "start_time": "2022-06-01T08:49:29.870Z"
   },
   {
    "duration": 1455,
    "start_time": "2022-06-01T08:49:29.884Z"
   },
   {
    "duration": 7321,
    "start_time": "2022-06-01T08:49:31.341Z"
   },
   {
    "duration": 4,
    "start_time": "2022-06-01T08:49:38.665Z"
   },
   {
    "duration": 36,
    "start_time": "2022-06-01T08:49:38.672Z"
   },
   {
    "duration": 30,
    "start_time": "2022-06-01T08:49:38.710Z"
   },
   {
    "duration": 26,
    "start_time": "2022-06-01T08:49:38.742Z"
   },
   {
    "duration": 2558,
    "start_time": "2022-06-01T08:49:38.770Z"
   },
   {
    "duration": 25731,
    "start_time": "2022-06-01T08:49:41.330Z"
   },
   {
    "duration": 84,
    "start_time": "2022-06-01T08:50:07.069Z"
   },
   {
    "duration": 28,
    "start_time": "2022-06-01T08:50:07.155Z"
   },
   {
    "duration": 771,
    "start_time": "2022-06-01T08:50:07.185Z"
   },
   {
    "duration": 5,
    "start_time": "2022-06-01T08:50:07.965Z"
   },
   {
    "duration": 9168,
    "start_time": "2022-06-01T08:50:11.403Z"
   },
   {
    "duration": 3955,
    "start_time": "2022-06-01T09:58:11.309Z"
   },
   {
    "duration": 2351,
    "start_time": "2022-06-01T09:58:15.266Z"
   },
   {
    "duration": 315,
    "start_time": "2022-06-01T09:58:17.619Z"
   },
   {
    "duration": 9,
    "start_time": "2022-06-01T09:58:17.935Z"
   },
   {
    "duration": 87,
    "start_time": "2022-06-01T09:58:17.946Z"
   },
   {
    "duration": 7,
    "start_time": "2022-06-01T09:58:18.035Z"
   },
   {
    "duration": 9,
    "start_time": "2022-06-01T09:58:18.044Z"
   },
   {
    "duration": 6,
    "start_time": "2022-06-01T09:58:18.054Z"
   },
   {
    "duration": 5906,
    "start_time": "2022-06-01T09:58:18.076Z"
   },
   {
    "duration": 12,
    "start_time": "2022-06-01T09:58:23.984Z"
   },
   {
    "duration": 1499,
    "start_time": "2022-06-01T09:58:23.998Z"
   },
   {
    "duration": 7195,
    "start_time": "2022-06-01T09:58:25.499Z"
   },
   {
    "duration": 5,
    "start_time": "2022-06-01T09:58:32.695Z"
   },
   {
    "duration": 40,
    "start_time": "2022-06-01T09:58:32.702Z"
   },
   {
    "duration": 40,
    "start_time": "2022-06-01T09:58:32.743Z"
   },
   {
    "duration": 6,
    "start_time": "2022-06-01T09:58:32.785Z"
   },
   {
    "duration": 2483,
    "start_time": "2022-06-01T09:58:32.793Z"
   },
   {
    "duration": 13703,
    "start_time": "2022-06-01T09:58:35.278Z"
   },
   {
    "duration": 3950,
    "start_time": "2022-06-01T09:59:05.704Z"
   },
   {
    "duration": 4,
    "start_time": "2022-06-01T09:59:12.008Z"
   },
   {
    "duration": 3938,
    "start_time": "2022-06-01T09:59:31.648Z"
   },
   {
    "duration": 158057,
    "start_time": "2022-06-01T10:01:37.855Z"
   },
   {
    "duration": 58746,
    "start_time": "2022-06-01T10:07:13.558Z"
   },
   {
    "duration": 297,
    "start_time": "2022-06-01T10:35:58.954Z"
   },
   {
    "duration": 6,
    "start_time": "2022-06-01T10:36:18.328Z"
   },
   {
    "duration": 1004415,
    "start_time": "2022-06-01T10:36:35.064Z"
   },
   {
    "duration": 15717,
    "start_time": "2022-06-01T10:56:25.165Z"
   },
   {
    "duration": 4,
    "start_time": "2022-06-01T10:57:35.792Z"
   },
   {
    "duration": 4,
    "start_time": "2022-06-01T10:57:47.152Z"
   },
   {
    "duration": 99,
    "start_time": "2022-06-01T10:57:55.714Z"
   },
   {
    "duration": 6,
    "start_time": "2022-06-01T10:58:00.029Z"
   },
   {
    "duration": 148,
    "start_time": "2022-06-01T10:58:03.096Z"
   },
   {
    "duration": 6641,
    "start_time": "2022-06-01T10:58:05.303Z"
   },
   {
    "duration": 546091,
    "start_time": "2022-06-01T10:58:36.319Z"
   },
   {
    "duration": 96276,
    "start_time": "2022-06-01T11:07:55.037Z"
   },
   {
    "duration": 317,
    "start_time": "2022-06-01T11:09:37.466Z"
   },
   {
    "duration": 16,
    "start_time": "2022-06-01T11:11:17.257Z"
   },
   {
    "duration": 219,
    "start_time": "2022-06-01T11:11:21.882Z"
   },
   {
    "duration": 607,
    "start_time": "2022-06-01T11:11:26.801Z"
   },
   {
    "duration": 200,
    "start_time": "2022-06-01T11:11:45.532Z"
   },
   {
    "duration": 32,
    "start_time": "2022-06-01T11:14:39.792Z"
   },
   {
    "duration": 3,
    "start_time": "2022-06-01T11:14:47.978Z"
   },
   {
    "duration": 15,
    "start_time": "2022-06-01T11:14:50.222Z"
   },
   {
    "duration": 18,
    "start_time": "2022-06-01T11:15:01.967Z"
   },
   {
    "duration": 302207,
    "start_time": "2022-06-01T11:17:23.878Z"
   },
   {
    "duration": 3908,
    "start_time": "2022-06-01T11:22:36.131Z"
   },
   {
    "duration": 10,
    "start_time": "2022-06-01T11:24:22.609Z"
   },
   {
    "duration": 784,
    "start_time": "2022-06-01T11:24:22.622Z"
   },
   {
    "duration": 258,
    "start_time": "2022-06-01T11:24:23.407Z"
   },
   {
    "duration": 6,
    "start_time": "2022-06-01T11:24:23.676Z"
   },
   {
    "duration": 69,
    "start_time": "2022-06-01T11:24:23.683Z"
   },
   {
    "duration": 23,
    "start_time": "2022-06-01T11:24:23.753Z"
   },
   {
    "duration": 6,
    "start_time": "2022-06-01T11:24:23.777Z"
   },
   {
    "duration": 9,
    "start_time": "2022-06-01T11:24:23.784Z"
   },
   {
    "duration": 4037,
    "start_time": "2022-06-01T11:24:23.795Z"
   },
   {
    "duration": 11,
    "start_time": "2022-06-01T11:24:27.835Z"
   },
   {
    "duration": 3626,
    "start_time": "2022-06-01T11:24:38.905Z"
   },
   {
    "duration": 2265,
    "start_time": "2022-06-01T11:24:42.533Z"
   },
   {
    "duration": 279,
    "start_time": "2022-06-01T11:24:44.800Z"
   },
   {
    "duration": 8,
    "start_time": "2022-06-01T11:24:45.081Z"
   },
   {
    "duration": 60,
    "start_time": "2022-06-01T11:24:45.090Z"
   },
   {
    "duration": 6,
    "start_time": "2022-06-01T11:24:45.151Z"
   },
   {
    "duration": 6,
    "start_time": "2022-06-01T11:24:45.174Z"
   },
   {
    "duration": 3,
    "start_time": "2022-06-01T11:24:45.182Z"
   },
   {
    "duration": 5412,
    "start_time": "2022-06-01T11:24:45.187Z"
   },
   {
    "duration": 11,
    "start_time": "2022-06-01T11:24:50.602Z"
   },
   {
    "duration": 1382,
    "start_time": "2022-06-01T11:24:50.614Z"
   },
   {
    "duration": 6390,
    "start_time": "2022-06-01T11:24:51.998Z"
   },
   {
    "duration": 3,
    "start_time": "2022-06-01T11:24:58.390Z"
   },
   {
    "duration": 41,
    "start_time": "2022-06-01T11:24:58.395Z"
   },
   {
    "duration": 30,
    "start_time": "2022-06-01T11:24:58.437Z"
   },
   {
    "duration": 6,
    "start_time": "2022-06-01T11:24:58.474Z"
   },
   {
    "duration": 2289,
    "start_time": "2022-06-01T11:24:58.481Z"
   },
   {
    "duration": 13235,
    "start_time": "2022-06-01T11:25:00.772Z"
   },
   {
    "duration": 0,
    "start_time": "2022-06-01T11:25:14.009Z"
   },
   {
    "duration": 0,
    "start_time": "2022-06-01T11:25:14.011Z"
   },
   {
    "duration": 0,
    "start_time": "2022-06-01T11:25:14.012Z"
   },
   {
    "duration": 0,
    "start_time": "2022-06-01T11:25:14.013Z"
   },
   {
    "duration": 0,
    "start_time": "2022-06-01T11:25:14.014Z"
   },
   {
    "duration": 0,
    "start_time": "2022-06-01T11:25:14.015Z"
   },
   {
    "duration": 0,
    "start_time": "2022-06-01T11:25:14.016Z"
   },
   {
    "duration": 0,
    "start_time": "2022-06-01T11:25:14.017Z"
   },
   {
    "duration": 7,
    "start_time": "2022-06-01T11:25:42.666Z"
   },
   {
    "duration": 734,
    "start_time": "2022-06-01T11:25:42.675Z"
   },
   {
    "duration": 265,
    "start_time": "2022-06-01T11:25:43.411Z"
   },
   {
    "duration": 7,
    "start_time": "2022-06-01T11:25:43.678Z"
   },
   {
    "duration": 69,
    "start_time": "2022-06-01T11:25:43.686Z"
   },
   {
    "duration": 23,
    "start_time": "2022-06-01T11:25:43.757Z"
   },
   {
    "duration": 10,
    "start_time": "2022-06-01T11:25:43.782Z"
   },
   {
    "duration": 5,
    "start_time": "2022-06-01T11:25:43.794Z"
   },
   {
    "duration": 4128,
    "start_time": "2022-06-01T11:25:43.800Z"
   },
   {
    "duration": 11,
    "start_time": "2022-06-01T11:25:47.931Z"
   },
   {
    "duration": 1398,
    "start_time": "2022-06-01T11:25:47.944Z"
   },
   {
    "duration": 6575,
    "start_time": "2022-06-01T11:25:49.344Z"
   },
   {
    "duration": 5,
    "start_time": "2022-06-01T11:25:55.921Z"
   },
   {
    "duration": 35,
    "start_time": "2022-06-01T11:25:55.928Z"
   },
   {
    "duration": 37,
    "start_time": "2022-06-01T11:25:55.964Z"
   },
   {
    "duration": 5,
    "start_time": "2022-06-01T11:25:56.003Z"
   },
   {
    "duration": 3989,
    "start_time": "2022-06-01T11:26:19.410Z"
   },
   {
    "duration": 53033,
    "start_time": "2022-06-01T11:26:31.660Z"
   },
   {
    "duration": 4510,
    "start_time": "2022-06-01T11:27:46.208Z"
   },
   {
    "duration": 29,
    "start_time": "2022-06-01T11:27:54.297Z"
   },
   {
    "duration": 32351,
    "start_time": "2022-06-01T11:28:04.761Z"
   },
   {
    "duration": 10,
    "start_time": "2022-06-01T11:29:23.545Z"
   },
   {
    "duration": 6,
    "start_time": "2022-06-01T11:29:47.476Z"
   },
   {
    "duration": 5,
    "start_time": "2022-06-01T11:30:03.057Z"
   },
   {
    "duration": 6,
    "start_time": "2022-06-01T11:31:02.388Z"
   },
   {
    "duration": 32805,
    "start_time": "2022-06-01T11:31:05.984Z"
   },
   {
    "duration": 32729,
    "start_time": "2022-06-01T11:31:50.752Z"
   },
   {
    "duration": 3,
    "start_time": "2022-06-01T11:34:16.343Z"
   },
   {
    "duration": 549,
    "start_time": "2022-06-01T11:34:23.142Z"
   },
   {
    "duration": 1733174,
    "start_time": "2022-06-01T11:34:31.478Z"
   },
   {
    "duration": 1050,
    "start_time": "2022-06-01T12:08:30.823Z"
   },
   {
    "duration": 4,
    "start_time": "2022-06-01T12:08:48.992Z"
   },
   {
    "duration": 7,
    "start_time": "2022-06-01T12:09:09.047Z"
   },
   {
    "duration": 798,
    "start_time": "2022-06-01T12:09:09.056Z"
   },
   {
    "duration": 293,
    "start_time": "2022-06-01T12:09:09.856Z"
   },
   {
    "duration": 26,
    "start_time": "2022-06-01T12:09:10.150Z"
   },
   {
    "duration": 68,
    "start_time": "2022-06-01T12:09:10.178Z"
   },
   {
    "duration": 28,
    "start_time": "2022-06-01T12:09:10.248Z"
   },
   {
    "duration": 7,
    "start_time": "2022-06-01T12:09:10.278Z"
   },
   {
    "duration": 9,
    "start_time": "2022-06-01T12:09:10.288Z"
   },
   {
    "duration": 4715,
    "start_time": "2022-06-01T12:09:10.300Z"
   },
   {
    "duration": 11,
    "start_time": "2022-06-01T12:09:15.017Z"
   },
   {
    "duration": 3475,
    "start_time": "2022-06-01T12:09:27.106Z"
   },
   {
    "duration": 2264,
    "start_time": "2022-06-01T12:09:30.583Z"
   },
   {
    "duration": 281,
    "start_time": "2022-06-01T12:09:32.849Z"
   },
   {
    "duration": 8,
    "start_time": "2022-06-01T12:09:33.131Z"
   },
   {
    "duration": 75,
    "start_time": "2022-06-01T12:09:33.141Z"
   },
   {
    "duration": 5,
    "start_time": "2022-06-01T12:09:33.218Z"
   },
   {
    "duration": 8,
    "start_time": "2022-06-01T12:09:33.225Z"
   },
   {
    "duration": 4,
    "start_time": "2022-06-01T12:09:33.235Z"
   },
   {
    "duration": 5655,
    "start_time": "2022-06-01T12:09:33.240Z"
   },
   {
    "duration": 11,
    "start_time": "2022-06-01T12:09:38.897Z"
   },
   {
    "duration": 1383,
    "start_time": "2022-06-01T12:09:38.909Z"
   },
   {
    "duration": 6284,
    "start_time": "2022-06-01T12:09:40.294Z"
   },
   {
    "duration": 3,
    "start_time": "2022-06-01T12:09:46.580Z"
   },
   {
    "duration": 32,
    "start_time": "2022-06-01T12:09:46.585Z"
   },
   {
    "duration": 29,
    "start_time": "2022-06-01T12:09:46.619Z"
   },
   {
    "duration": 5,
    "start_time": "2022-06-01T12:09:46.649Z"
   },
   {
    "duration": 4540,
    "start_time": "2022-06-01T12:09:53.839Z"
   },
   {
    "duration": 4,
    "start_time": "2022-06-01T12:10:21.943Z"
   },
   {
    "duration": 60139,
    "start_time": "2022-06-01T12:10:34.663Z"
   },
   {
    "duration": 5287,
    "start_time": "2022-06-01T12:11:55.486Z"
   },
   {
    "duration": 5,
    "start_time": "2022-06-01T12:12:04.391Z"
   },
   {
    "duration": 4,
    "start_time": "2022-06-01T12:12:07.278Z"
   },
   {
    "duration": 30173,
    "start_time": "2022-06-01T12:12:21.231Z"
   },
   {
    "duration": 836,
    "start_time": "2022-06-01T12:17:04.533Z"
   },
   {
    "duration": 406,
    "start_time": "2022-06-01T12:17:21.564Z"
   },
   {
    "duration": 7285,
    "start_time": "2022-06-02T09:55:00.101Z"
   },
   {
    "duration": 2378,
    "start_time": "2022-06-02T09:55:07.388Z"
   },
   {
    "duration": 278,
    "start_time": "2022-06-02T09:55:09.767Z"
   },
   {
    "duration": 7,
    "start_time": "2022-06-02T09:55:10.046Z"
   },
   {
    "duration": 293,
    "start_time": "2022-06-02T09:55:14.278Z"
   },
   {
    "duration": 50,
    "start_time": "2022-06-02T09:55:34.109Z"
   },
   {
    "duration": 258,
    "start_time": "2022-06-02T09:56:07.447Z"
   },
   {
    "duration": 264,
    "start_time": "2022-06-02T09:56:15.046Z"
   },
   {
    "duration": 60,
    "start_time": "2022-06-02T09:56:30.171Z"
   },
   {
    "duration": 8,
    "start_time": "2022-06-02T09:56:31.915Z"
   },
   {
    "duration": 5,
    "start_time": "2022-06-02T09:56:34.606Z"
   },
   {
    "duration": 3,
    "start_time": "2022-06-02T09:57:55.476Z"
   },
   {
    "duration": 118573,
    "start_time": "2022-06-02T09:58:08.003Z"
   },
   {
    "duration": 10,
    "start_time": "2022-06-02T10:00:31.780Z"
   },
   {
    "duration": 1552,
    "start_time": "2022-06-02T10:07:47.239Z"
   },
   {
    "duration": 8081,
    "start_time": "2022-06-02T10:07:59.160Z"
   },
   {
    "duration": 4,
    "start_time": "2022-06-02T10:08:10.305Z"
   },
   {
    "duration": 0,
    "start_time": "2022-06-02T10:22:23.294Z"
   },
   {
    "duration": 0,
    "start_time": "2022-06-02T10:22:23.295Z"
   },
   {
    "duration": 0,
    "start_time": "2022-06-02T10:22:23.296Z"
   },
   {
    "duration": 0,
    "start_time": "2022-06-02T10:22:23.297Z"
   },
   {
    "duration": 0,
    "start_time": "2022-06-02T10:22:23.298Z"
   },
   {
    "duration": 0,
    "start_time": "2022-06-02T10:22:23.299Z"
   },
   {
    "duration": 0,
    "start_time": "2022-06-02T10:22:23.300Z"
   },
   {
    "duration": 0,
    "start_time": "2022-06-02T10:22:23.301Z"
   },
   {
    "duration": 6,
    "start_time": "2022-06-02T10:22:33.039Z"
   },
   {
    "duration": 765,
    "start_time": "2022-06-02T10:22:33.047Z"
   },
   {
    "duration": 275,
    "start_time": "2022-06-02T10:22:33.814Z"
   },
   {
    "duration": 6,
    "start_time": "2022-06-02T10:22:34.090Z"
   },
   {
    "duration": 292,
    "start_time": "2022-06-02T10:22:34.098Z"
   },
   {
    "duration": 65,
    "start_time": "2022-06-02T10:22:34.392Z"
   },
   {
    "duration": 6,
    "start_time": "2022-06-02T10:22:34.459Z"
   },
   {
    "duration": 6,
    "start_time": "2022-06-02T10:22:34.475Z"
   },
   {
    "duration": 42,
    "start_time": "2022-06-02T10:22:41.930Z"
   },
   {
    "duration": 7,
    "start_time": "2022-06-02T10:22:59.186Z"
   },
   {
    "duration": 5,
    "start_time": "2022-06-02T10:23:23.346Z"
   },
   {
    "duration": 3,
    "start_time": "2022-06-02T10:23:40.431Z"
   },
   {
    "duration": 4,
    "start_time": "2022-06-02T10:23:43.041Z"
   },
   {
    "duration": 3,
    "start_time": "2022-06-02T10:24:07.985Z"
   },
   {
    "duration": 5,
    "start_time": "2022-06-02T10:24:47.385Z"
   },
   {
    "duration": 34,
    "start_time": "2022-06-02T10:25:39.267Z"
   },
   {
    "duration": 6,
    "start_time": "2022-06-02T10:25:46.695Z"
   },
   {
    "duration": 21,
    "start_time": "2022-06-02T10:26:32.810Z"
   },
   {
    "duration": 5,
    "start_time": "2022-06-02T10:26:40.687Z"
   },
   {
    "duration": 4,
    "start_time": "2022-06-02T10:27:03.135Z"
   },
   {
    "duration": 5,
    "start_time": "2022-06-02T10:27:05.864Z"
   },
   {
    "duration": 9,
    "start_time": "2022-06-02T10:27:10.979Z"
   },
   {
    "duration": 795,
    "start_time": "2022-06-02T10:27:10.991Z"
   },
   {
    "duration": 277,
    "start_time": "2022-06-02T10:27:11.787Z"
   },
   {
    "duration": 7,
    "start_time": "2022-06-02T10:27:12.074Z"
   },
   {
    "duration": 307,
    "start_time": "2022-06-02T10:27:12.083Z"
   },
   {
    "duration": 89,
    "start_time": "2022-06-02T10:27:12.392Z"
   },
   {
    "duration": 8,
    "start_time": "2022-06-02T10:27:12.484Z"
   },
   {
    "duration": 9,
    "start_time": "2022-06-02T10:27:12.494Z"
   },
   {
    "duration": 6,
    "start_time": "2022-06-02T10:27:12.506Z"
   },
   {
    "duration": 4,
    "start_time": "2022-06-02T10:27:16.990Z"
   },
   {
    "duration": 5,
    "start_time": "2022-06-02T10:27:32.919Z"
   },
   {
    "duration": 2,
    "start_time": "2022-06-02T10:30:40.821Z"
   },
   {
    "duration": 4,
    "start_time": "2022-06-02T10:30:56.039Z"
   },
   {
    "duration": 5,
    "start_time": "2022-06-02T10:32:11.999Z"
   },
   {
    "duration": 4,
    "start_time": "2022-06-02T10:32:16.264Z"
   },
   {
    "duration": 4,
    "start_time": "2022-06-02T10:32:31.131Z"
   },
   {
    "duration": 26,
    "start_time": "2022-06-02T10:33:10.611Z"
   },
   {
    "duration": 24,
    "start_time": "2022-06-02T10:33:15.822Z"
   },
   {
    "duration": 17,
    "start_time": "2022-06-02T10:33:22.939Z"
   },
   {
    "duration": 32,
    "start_time": "2022-06-02T10:34:14.794Z"
   },
   {
    "duration": 61,
    "start_time": "2022-06-02T10:34:21.610Z"
   },
   {
    "duration": 5,
    "start_time": "2022-06-02T10:35:04.452Z"
   },
   {
    "duration": 80,
    "start_time": "2022-06-02T10:38:17.176Z"
   },
   {
    "duration": 4,
    "start_time": "2022-06-02T10:38:34.883Z"
   },
   {
    "duration": 4,
    "start_time": "2022-06-02T10:38:41.600Z"
   },
   {
    "duration": 17,
    "start_time": "2022-06-02T10:43:30.272Z"
   },
   {
    "duration": 35,
    "start_time": "2022-06-02T10:43:36.791Z"
   },
   {
    "duration": 32,
    "start_time": "2022-06-02T10:46:55.372Z"
   },
   {
    "duration": 415,
    "start_time": "2022-06-02T10:47:19.718Z"
   },
   {
    "duration": 10,
    "start_time": "2022-06-02T10:47:26.574Z"
   },
   {
    "duration": 18,
    "start_time": "2022-06-02T10:49:38.896Z"
   },
   {
    "duration": 18,
    "start_time": "2022-06-02T10:49:45.238Z"
   },
   {
    "duration": 20,
    "start_time": "2022-06-02T10:49:50.658Z"
   },
   {
    "duration": 21,
    "start_time": "2022-06-02T10:50:15.215Z"
   },
   {
    "duration": 5,
    "start_time": "2022-06-02T10:50:43.895Z"
   },
   {
    "duration": 18,
    "start_time": "2022-06-02T10:50:53.108Z"
   },
   {
    "duration": 227,
    "start_time": "2022-06-02T11:19:55.902Z"
   },
   {
    "duration": 24,
    "start_time": "2022-06-02T11:20:03.633Z"
   },
   {
    "duration": 5,
    "start_time": "2022-06-02T11:20:07.786Z"
   },
   {
    "duration": 5,
    "start_time": "2022-06-02T11:21:12.878Z"
   },
   {
    "duration": 5,
    "start_time": "2022-06-02T11:21:19.771Z"
   },
   {
    "duration": 20,
    "start_time": "2022-06-02T11:21:41.184Z"
   },
   {
    "duration": 24,
    "start_time": "2022-06-02T11:22:02.297Z"
   },
   {
    "duration": 23,
    "start_time": "2022-06-02T11:22:42.521Z"
   },
   {
    "duration": 5,
    "start_time": "2022-06-02T11:22:48.802Z"
   },
   {
    "duration": 3,
    "start_time": "2022-06-02T11:23:00.801Z"
   },
   {
    "duration": 110,
    "start_time": "2022-06-02T11:23:20.281Z"
   },
   {
    "duration": 2358,
    "start_time": "2022-06-02T11:23:20.393Z"
   },
   {
    "duration": 254,
    "start_time": "2022-06-02T11:23:22.752Z"
   },
   {
    "duration": 6,
    "start_time": "2022-06-02T11:23:23.008Z"
   },
   {
    "duration": 276,
    "start_time": "2022-06-02T11:23:23.016Z"
   },
   {
    "duration": 58,
    "start_time": "2022-06-02T11:23:23.293Z"
   },
   {
    "duration": 6,
    "start_time": "2022-06-02T11:23:23.352Z"
   },
   {
    "duration": 6,
    "start_time": "2022-06-02T11:23:23.375Z"
   },
   {
    "duration": 9,
    "start_time": "2022-06-02T11:23:23.382Z"
   },
   {
    "duration": 6,
    "start_time": "2022-06-02T11:23:23.393Z"
   },
   {
    "duration": 7,
    "start_time": "2022-06-02T11:23:23.400Z"
   },
   {
    "duration": 30,
    "start_time": "2022-06-02T11:24:26.669Z"
   },
   {
    "duration": 6,
    "start_time": "2022-06-02T11:26:06.677Z"
   },
   {
    "duration": 4,
    "start_time": "2022-06-02T11:26:19.519Z"
   },
   {
    "duration": 58,
    "start_time": "2022-06-02T11:31:04.532Z"
   },
   {
    "duration": 3,
    "start_time": "2022-06-02T11:41:49.344Z"
   },
   {
    "duration": 36,
    "start_time": "2022-06-02T11:42:04.069Z"
   },
   {
    "duration": 4,
    "start_time": "2022-06-02T11:43:05.373Z"
   },
   {
    "duration": 53,
    "start_time": "2022-06-02T11:43:07.745Z"
   },
   {
    "duration": 6,
    "start_time": "2022-06-02T11:43:29.486Z"
   },
   {
    "duration": 4,
    "start_time": "2022-06-02T11:44:20.135Z"
   },
   {
    "duration": 4,
    "start_time": "2022-06-02T11:44:48.229Z"
   },
   {
    "duration": 12,
    "start_time": "2022-06-02T11:44:50.438Z"
   },
   {
    "duration": 5,
    "start_time": "2022-06-02T11:52:01.123Z"
   },
   {
    "duration": 5,
    "start_time": "2022-06-02T11:52:11.915Z"
   },
   {
    "duration": 36,
    "start_time": "2022-06-02T11:52:38.787Z"
   },
   {
    "duration": 35,
    "start_time": "2022-06-02T11:52:44.920Z"
   },
   {
    "duration": 33,
    "start_time": "2022-06-02T11:52:48.685Z"
   },
   {
    "duration": 5,
    "start_time": "2022-06-02T11:52:57.373Z"
   },
   {
    "duration": 42,
    "start_time": "2022-06-02T11:53:17.883Z"
   },
   {
    "duration": 38,
    "start_time": "2022-06-02T11:53:48.122Z"
   },
   {
    "duration": 6,
    "start_time": "2022-06-02T11:53:55.739Z"
   },
   {
    "duration": 4,
    "start_time": "2022-06-02T11:56:29.273Z"
   },
   {
    "duration": 5,
    "start_time": "2022-06-02T12:01:29.918Z"
   },
   {
    "duration": 6,
    "start_time": "2022-06-02T12:01:42.534Z"
   },
   {
    "duration": 4,
    "start_time": "2022-06-02T12:04:01.126Z"
   },
   {
    "duration": 10,
    "start_time": "2022-06-02T12:04:18.186Z"
   },
   {
    "duration": 10,
    "start_time": "2022-06-02T12:05:02.573Z"
   },
   {
    "duration": 5,
    "start_time": "2022-06-02T12:05:04.973Z"
   },
   {
    "duration": 4,
    "start_time": "2022-06-02T12:05:32.715Z"
   },
   {
    "duration": 15,
    "start_time": "2022-06-02T12:05:34.287Z"
   },
   {
    "duration": 9,
    "start_time": "2022-06-02T12:06:40.913Z"
   },
   {
    "duration": 801,
    "start_time": "2022-06-02T12:06:40.924Z"
   },
   {
    "duration": 283,
    "start_time": "2022-06-02T12:06:41.726Z"
   },
   {
    "duration": 7,
    "start_time": "2022-06-02T12:06:42.011Z"
   },
   {
    "duration": 325,
    "start_time": "2022-06-02T12:06:42.019Z"
   },
   {
    "duration": 94,
    "start_time": "2022-06-02T12:06:42.346Z"
   },
   {
    "duration": 7,
    "start_time": "2022-06-02T12:06:42.443Z"
   },
   {
    "duration": 8,
    "start_time": "2022-06-02T12:06:42.451Z"
   },
   {
    "duration": 20,
    "start_time": "2022-06-02T12:06:42.461Z"
   },
   {
    "duration": 17,
    "start_time": "2022-06-02T12:06:42.485Z"
   },
   {
    "duration": 880517,
    "start_time": "2022-06-02T12:08:17.124Z"
   },
   {
    "duration": 11,
    "start_time": "2022-06-02T12:25:23.237Z"
   },
   {
    "duration": 10566,
    "start_time": "2022-06-02T12:35:29.586Z"
   },
   {
    "duration": 2500,
    "start_time": "2022-06-02T12:35:40.154Z"
   },
   {
    "duration": 348,
    "start_time": "2022-06-02T12:35:42.656Z"
   },
   {
    "duration": 9,
    "start_time": "2022-06-02T12:35:43.006Z"
   },
   {
    "duration": 369,
    "start_time": "2022-06-02T12:35:43.017Z"
   },
   {
    "duration": 66,
    "start_time": "2022-06-02T12:35:43.388Z"
   },
   {
    "duration": 13,
    "start_time": "2022-06-02T12:35:43.455Z"
   },
   {
    "duration": 8,
    "start_time": "2022-06-02T12:35:43.475Z"
   },
   {
    "duration": 7,
    "start_time": "2022-06-02T12:35:43.485Z"
   },
   {
    "duration": 12,
    "start_time": "2022-06-02T12:35:43.496Z"
   },
   {
    "duration": 831348,
    "start_time": "2022-06-02T12:35:43.510Z"
   },
   {
    "duration": 19,
    "start_time": "2022-06-02T12:49:34.860Z"
   },
   {
    "duration": 1536,
    "start_time": "2022-06-02T12:49:34.881Z"
   },
   {
    "duration": 6581,
    "start_time": "2022-06-02T12:49:36.419Z"
   },
   {
    "duration": 5,
    "start_time": "2022-06-02T12:49:43.001Z"
   },
   {
    "duration": 3614,
    "start_time": "2022-06-03T05:07:51.393Z"
   },
   {
    "duration": 2300,
    "start_time": "2022-06-03T05:07:55.009Z"
   },
   {
    "duration": 275,
    "start_time": "2022-06-03T05:07:57.311Z"
   },
   {
    "duration": 7,
    "start_time": "2022-06-03T05:07:57.588Z"
   },
   {
    "duration": 284,
    "start_time": "2022-06-03T05:07:57.596Z"
   },
   {
    "duration": 54,
    "start_time": "2022-06-03T05:07:57.881Z"
   },
   {
    "duration": 20,
    "start_time": "2022-06-03T05:07:57.936Z"
   },
   {
    "duration": 5,
    "start_time": "2022-06-03T05:07:57.957Z"
   },
   {
    "duration": 7,
    "start_time": "2022-06-03T05:07:57.964Z"
   },
   {
    "duration": 8,
    "start_time": "2022-06-03T05:07:57.973Z"
   },
   {
    "duration": 7,
    "start_time": "2022-06-03T05:08:30.227Z"
   },
   {
    "duration": 37,
    "start_time": "2022-06-03T05:08:35.187Z"
   },
   {
    "duration": 6,
    "start_time": "2022-06-03T05:08:36.363Z"
   },
   {
    "duration": 428337,
    "start_time": "2022-06-03T05:08:59.076Z"
   },
   {
    "duration": 4,
    "start_time": "2022-06-03T05:17:38.895Z"
   },
   {
    "duration": 438139,
    "start_time": "2022-06-03T05:17:43.939Z"
   },
   {
    "duration": 4,
    "start_time": "2022-06-03T05:25:26.260Z"
   },
   {
    "duration": 69262,
    "start_time": "2022-06-03T05:25:30.292Z"
   },
   {
    "duration": 791543,
    "start_time": "2022-06-03T05:27:10.796Z"
   },
   {
    "duration": 14,
    "start_time": "2022-06-03T05:41:34.967Z"
   },
   {
    "duration": 6,
    "start_time": "2022-06-03T05:43:38.036Z"
   },
   {
    "duration": 4,
    "start_time": "2022-06-03T05:43:39.454Z"
   },
   {
    "duration": 41245,
    "start_time": "2022-06-03T05:43:41.828Z"
   },
   {
    "duration": 44,
    "start_time": "2022-06-03T05:46:22.800Z"
   },
   {
    "duration": 844,
    "start_time": "2022-06-03T05:46:31.309Z"
   },
   {
    "duration": 1999631,
    "start_time": "2022-06-03T05:46:46.436Z"
   },
   {
    "duration": 2199,
    "start_time": "2022-06-03T06:24:58.990Z"
   },
   {
    "duration": 11,
    "start_time": "2022-06-03T06:25:16.400Z"
   },
   {
    "duration": 16,
    "start_time": "2022-06-03T06:25:27.224Z"
   },
   {
    "duration": 6,
    "start_time": "2022-06-03T06:25:28.632Z"
   },
   {
    "duration": 14,
    "start_time": "2022-06-03T06:25:56.898Z"
   },
   {
    "duration": 1868,
    "start_time": "2022-06-03T06:27:27.729Z"
   },
   {
    "duration": 24,
    "start_time": "2022-06-03T06:28:16.496Z"
   },
   {
    "duration": 23,
    "start_time": "2022-06-03T06:28:22.232Z"
   },
   {
    "duration": 22,
    "start_time": "2022-06-03T06:28:29.376Z"
   },
   {
    "duration": 85280,
    "start_time": "2022-06-03T06:29:19.586Z"
   },
   {
    "duration": 500,
    "start_time": "2022-06-03T06:35:19.535Z"
   },
   {
    "duration": 789,
    "start_time": "2022-06-03T06:36:03.769Z"
   },
   {
    "duration": 6,
    "start_time": "2022-06-03T06:36:26.510Z"
   },
   {
    "duration": 404,
    "start_time": "2022-06-03T06:36:33.077Z"
   },
   {
    "duration": 518,
    "start_time": "2022-06-03T06:36:51.663Z"
   },
   {
    "duration": 312,
    "start_time": "2022-06-03T06:36:58.269Z"
   },
   {
    "duration": 410,
    "start_time": "2022-06-03T06:37:18.637Z"
   },
   {
    "duration": 348,
    "start_time": "2022-06-03T06:37:25.653Z"
   },
   {
    "duration": 459,
    "start_time": "2022-06-03T06:37:40.166Z"
   },
   {
    "duration": 6,
    "start_time": "2022-06-03T06:37:58.884Z"
   },
   {
    "duration": 5,
    "start_time": "2022-06-03T06:38:03.883Z"
   },
   {
    "duration": 4,
    "start_time": "2022-06-03T06:38:08.891Z"
   },
   {
    "duration": 8,
    "start_time": "2022-06-03T06:38:22.894Z"
   },
   {
    "duration": 4,
    "start_time": "2022-06-03T06:39:14.564Z"
   },
   {
    "duration": 4,
    "start_time": "2022-06-03T06:39:20.983Z"
   },
   {
    "duration": 28,
    "start_time": "2022-06-03T06:40:16.085Z"
   },
   {
    "duration": 805,
    "start_time": "2022-06-03T06:40:56.725Z"
   },
   {
    "duration": 1611,
    "start_time": "2022-06-03T06:41:12.252Z"
   },
   {
    "duration": 4,
    "start_time": "2022-06-03T06:41:20.835Z"
   },
   {
    "duration": 7,
    "start_time": "2022-06-03T06:41:22.211Z"
   },
   {
    "duration": 158219,
    "start_time": "2022-06-03T06:42:05.189Z"
   },
   {
    "duration": 10,
    "start_time": "2022-06-03T06:44:52.055Z"
   },
   {
    "duration": 303,
    "start_time": "2022-06-03T06:45:47.696Z"
   },
   {
    "duration": 3,
    "start_time": "2022-06-03T06:45:49.545Z"
   },
   {
    "duration": 1284,
    "start_time": "2022-06-03T06:45:51.737Z"
   },
   {
    "duration": 5,
    "start_time": "2022-06-03T06:45:56.961Z"
   },
   {
    "duration": 8,
    "start_time": "2022-06-03T06:46:20.250Z"
   },
   {
    "duration": 15,
    "start_time": "2022-06-03T06:46:24.195Z"
   },
   {
    "duration": 8,
    "start_time": "2022-06-03T06:46:25.300Z"
   },
   {
    "duration": 14,
    "start_time": "2022-06-03T06:46:27.499Z"
   },
   {
    "duration": 137295,
    "start_time": "2022-06-03T06:49:00.352Z"
   },
   {
    "duration": 0,
    "start_time": "2022-06-03T06:51:17.655Z"
   },
   {
    "duration": 1,
    "start_time": "2022-06-03T06:51:17.656Z"
   },
   {
    "duration": 0,
    "start_time": "2022-06-03T06:51:17.657Z"
   },
   {
    "duration": 0,
    "start_time": "2022-06-03T06:51:17.659Z"
   },
   {
    "duration": 0,
    "start_time": "2022-06-03T06:51:17.660Z"
   },
   {
    "duration": 0,
    "start_time": "2022-06-03T06:51:17.661Z"
   },
   {
    "duration": 0,
    "start_time": "2022-06-03T06:51:17.662Z"
   },
   {
    "duration": 0,
    "start_time": "2022-06-03T06:51:17.664Z"
   },
   {
    "duration": 0,
    "start_time": "2022-06-03T06:51:17.665Z"
   },
   {
    "duration": 0,
    "start_time": "2022-06-03T06:51:17.667Z"
   },
   {
    "duration": 31,
    "start_time": "2022-06-03T06:51:36.224Z"
   },
   {
    "duration": 663,
    "start_time": "2022-06-03T06:51:36.256Z"
   },
   {
    "duration": 263,
    "start_time": "2022-06-03T06:51:36.921Z"
   },
   {
    "duration": 7,
    "start_time": "2022-06-03T06:51:37.186Z"
   },
   {
    "duration": 274,
    "start_time": "2022-06-03T06:51:37.196Z"
   },
   {
    "duration": 61,
    "start_time": "2022-06-03T06:51:37.472Z"
   },
   {
    "duration": 21,
    "start_time": "2022-06-03T06:51:37.534Z"
   },
   {
    "duration": 7,
    "start_time": "2022-06-03T06:51:37.557Z"
   },
   {
    "duration": 14,
    "start_time": "2022-06-03T06:51:37.565Z"
   },
   {
    "duration": 16,
    "start_time": "2022-06-03T06:51:37.581Z"
   },
   {
    "duration": 8,
    "start_time": "2022-06-03T06:51:42.897Z"
   },
   {
    "duration": 24,
    "start_time": "2022-06-03T06:52:14.031Z"
   },
   {
    "duration": 7,
    "start_time": "2022-06-03T06:52:15.454Z"
   },
   {
    "duration": 9,
    "start_time": "2022-06-03T06:52:16.928Z"
   },
   {
    "duration": 164641,
    "start_time": "2022-06-03T06:52:20.640Z"
   },
   {
    "duration": 4,
    "start_time": "2022-06-03T06:55:40.558Z"
   },
   {
    "duration": 22040,
    "start_time": "2022-06-03T06:55:43.813Z"
   },
   {
    "duration": 158249,
    "start_time": "2022-06-03T08:02:12.434Z"
   },
   {
    "duration": 4,
    "start_time": "2022-06-03T08:04:53.753Z"
   },
   {
    "duration": 69675,
    "start_time": "2022-06-03T08:05:00.899Z"
   },
   {
    "duration": 17,
    "start_time": "2022-06-03T08:06:28.680Z"
   },
   {
    "duration": 7,
    "start_time": "2022-06-03T08:06:45.495Z"
   },
   {
    "duration": 159536,
    "start_time": "2022-06-03T08:06:48.719Z"
   },
   {
    "duration": 3,
    "start_time": "2022-06-03T08:09:46.046Z"
   },
   {
    "duration": 43223,
    "start_time": "2022-06-03T08:09:48.036Z"
   },
   {
    "duration": 58,
    "start_time": "2022-06-03T08:15:32.861Z"
   },
   {
    "duration": 3773,
    "start_time": "2022-06-03T08:17:55.899Z"
   },
   {
    "duration": 2258,
    "start_time": "2022-06-03T08:17:59.675Z"
   },
   {
    "duration": 300,
    "start_time": "2022-06-03T08:18:01.935Z"
   },
   {
    "duration": 22,
    "start_time": "2022-06-03T08:18:02.237Z"
   },
   {
    "duration": 314,
    "start_time": "2022-06-03T08:18:02.261Z"
   },
   {
    "duration": 75,
    "start_time": "2022-06-03T08:18:02.577Z"
   },
   {
    "duration": 7,
    "start_time": "2022-06-03T08:18:02.654Z"
   },
   {
    "duration": 14,
    "start_time": "2022-06-03T08:18:02.663Z"
   },
   {
    "duration": 33,
    "start_time": "2022-06-03T08:18:02.679Z"
   },
   {
    "duration": 48,
    "start_time": "2022-06-03T08:18:02.716Z"
   },
   {
    "duration": 7,
    "start_time": "2022-06-03T08:18:02.766Z"
   },
   {
    "duration": 49,
    "start_time": "2022-06-03T08:18:02.776Z"
   },
   {
    "duration": 10,
    "start_time": "2022-06-03T08:18:02.827Z"
   },
   {
    "duration": 42,
    "start_time": "2022-06-03T08:18:02.840Z"
   },
   {
    "duration": 162951,
    "start_time": "2022-06-03T08:18:02.884Z"
   },
   {
    "duration": 0,
    "start_time": "2022-06-03T08:20:45.837Z"
   },
   {
    "duration": 0,
    "start_time": "2022-06-03T08:20:45.838Z"
   },
   {
    "duration": 0,
    "start_time": "2022-06-03T08:20:45.840Z"
   },
   {
    "duration": 0,
    "start_time": "2022-06-03T08:20:45.841Z"
   },
   {
    "duration": 0,
    "start_time": "2022-06-03T08:20:45.842Z"
   },
   {
    "duration": 0,
    "start_time": "2022-06-03T08:20:45.852Z"
   },
   {
    "duration": 0,
    "start_time": "2022-06-03T08:20:45.853Z"
   },
   {
    "duration": 1,
    "start_time": "2022-06-03T08:20:45.854Z"
   },
   {
    "duration": 0,
    "start_time": "2022-06-03T08:20:45.856Z"
   },
   {
    "duration": 0,
    "start_time": "2022-06-03T08:20:45.857Z"
   },
   {
    "duration": 0,
    "start_time": "2022-06-03T08:20:45.858Z"
   },
   {
    "duration": 0,
    "start_time": "2022-06-03T08:20:45.859Z"
   },
   {
    "duration": 0,
    "start_time": "2022-06-03T08:20:45.860Z"
   },
   {
    "duration": 0,
    "start_time": "2022-06-03T08:20:45.861Z"
   },
   {
    "duration": 0,
    "start_time": "2022-06-03T08:20:45.863Z"
   },
   {
    "duration": 0,
    "start_time": "2022-06-03T08:20:45.864Z"
   },
   {
    "duration": 0,
    "start_time": "2022-06-03T08:20:45.865Z"
   },
   {
    "duration": 0,
    "start_time": "2022-06-03T08:20:45.866Z"
   },
   {
    "duration": 4,
    "start_time": "2022-06-03T08:21:19.052Z"
   },
   {
    "duration": 16,
    "start_time": "2022-06-03T08:21:33.972Z"
   },
   {
    "duration": 8,
    "start_time": "2022-06-03T08:21:45.837Z"
   },
   {
    "duration": 5,
    "start_time": "2022-06-03T08:21:47.733Z"
   },
   {
    "duration": 20656,
    "start_time": "2022-06-03T08:21:54.588Z"
   },
   {
    "duration": 18251,
    "start_time": "2022-06-03T08:22:19.092Z"
   },
   {
    "duration": 126,
    "start_time": "2022-06-03T08:22:47.771Z"
   },
   {
    "duration": 6,
    "start_time": "2022-06-03T08:26:32.402Z"
   },
   {
    "duration": 7,
    "start_time": "2022-06-03T08:26:33.410Z"
   },
   {
    "duration": 8210,
    "start_time": "2022-06-03T08:26:40.946Z"
   },
   {
    "duration": 3516,
    "start_time": "2022-06-03T08:28:16.899Z"
   },
   {
    "duration": 2241,
    "start_time": "2022-06-03T08:28:20.417Z"
   },
   {
    "duration": 283,
    "start_time": "2022-06-03T08:28:22.660Z"
   },
   {
    "duration": 7,
    "start_time": "2022-06-03T08:28:22.953Z"
   },
   {
    "duration": 288,
    "start_time": "2022-06-03T08:28:22.961Z"
   },
   {
    "duration": 56,
    "start_time": "2022-06-03T08:28:23.251Z"
   },
   {
    "duration": 7,
    "start_time": "2022-06-03T08:28:23.309Z"
   },
   {
    "duration": 31,
    "start_time": "2022-06-03T08:28:23.317Z"
   },
   {
    "duration": 7,
    "start_time": "2022-06-03T08:28:23.350Z"
   },
   {
    "duration": 42,
    "start_time": "2022-06-03T08:28:23.359Z"
   },
   {
    "duration": 5,
    "start_time": "2022-06-03T08:28:23.403Z"
   },
   {
    "duration": 18,
    "start_time": "2022-06-03T08:28:23.410Z"
   },
   {
    "duration": 30,
    "start_time": "2022-06-03T08:28:23.431Z"
   },
   {
    "duration": 5,
    "start_time": "2022-06-03T08:28:23.462Z"
   },
   {
    "duration": 11,
    "start_time": "2022-06-03T08:28:23.469Z"
   },
   {
    "duration": 9,
    "start_time": "2022-06-03T08:28:23.481Z"
   },
   {
    "duration": 8460,
    "start_time": "2022-06-03T08:28:23.492Z"
   },
   {
    "duration": 18164,
    "start_time": "2022-06-03T08:28:31.954Z"
   },
   {
    "duration": 410,
    "start_time": "2022-06-03T08:28:50.120Z"
   },
   {
    "duration": 0,
    "start_time": "2022-06-03T08:28:50.532Z"
   },
   {
    "duration": 0,
    "start_time": "2022-06-03T08:28:50.534Z"
   },
   {
    "duration": 0,
    "start_time": "2022-06-03T08:28:50.535Z"
   },
   {
    "duration": 0,
    "start_time": "2022-06-03T08:28:50.536Z"
   },
   {
    "duration": 0,
    "start_time": "2022-06-03T08:28:50.538Z"
   },
   {
    "duration": 0,
    "start_time": "2022-06-03T08:28:50.539Z"
   },
   {
    "duration": 0,
    "start_time": "2022-06-03T08:28:50.540Z"
   },
   {
    "duration": 0,
    "start_time": "2022-06-03T08:28:50.542Z"
   },
   {
    "duration": 0,
    "start_time": "2022-06-03T08:28:50.543Z"
   },
   {
    "duration": 0,
    "start_time": "2022-06-03T08:28:50.544Z"
   },
   {
    "duration": 0,
    "start_time": "2022-06-03T08:28:50.545Z"
   },
   {
    "duration": 0,
    "start_time": "2022-06-03T08:28:50.552Z"
   },
   {
    "duration": 10205,
    "start_time": "2022-06-06T05:14:52.375Z"
   },
   {
    "duration": 2467,
    "start_time": "2022-06-06T05:15:02.583Z"
   },
   {
    "duration": 294,
    "start_time": "2022-06-06T05:15:05.052Z"
   },
   {
    "duration": 6,
    "start_time": "2022-06-06T05:15:05.348Z"
   },
   {
    "duration": 301,
    "start_time": "2022-06-06T05:15:05.356Z"
   },
   {
    "duration": 54,
    "start_time": "2022-06-06T05:15:05.659Z"
   },
   {
    "duration": 11,
    "start_time": "2022-06-06T05:15:05.723Z"
   },
   {
    "duration": 13,
    "start_time": "2022-06-06T05:15:05.735Z"
   },
   {
    "duration": 4,
    "start_time": "2022-06-06T05:15:05.750Z"
   },
   {
    "duration": 258,
    "start_time": "2022-06-06T05:15:05.756Z"
   },
   {
    "duration": 5,
    "start_time": "2022-06-06T05:15:06.015Z"
   },
   {
    "duration": 22,
    "start_time": "2022-06-06T05:15:06.022Z"
   },
   {
    "duration": 26,
    "start_time": "2022-06-06T05:15:06.045Z"
   },
   {
    "duration": 5,
    "start_time": "2022-06-06T05:15:06.073Z"
   },
   {
    "duration": 10,
    "start_time": "2022-06-06T05:15:06.079Z"
   },
   {
    "duration": 156494,
    "start_time": "2022-06-06T05:15:06.091Z"
   },
   {
    "duration": 5,
    "start_time": "2022-06-06T05:17:42.588Z"
   },
   {
    "duration": 33330,
    "start_time": "2022-06-06T05:17:42.595Z"
   },
   {
    "duration": 19,
    "start_time": "2022-06-06T05:18:15.929Z"
   },
   {
    "duration": 73,
    "start_time": "2022-06-06T05:18:15.951Z"
   },
   {
    "duration": 12,
    "start_time": "2022-06-06T05:22:55.769Z"
   },
   {
    "duration": 940,
    "start_time": "2022-06-06T05:22:55.783Z"
   },
   {
    "duration": 321,
    "start_time": "2022-06-06T05:22:56.727Z"
   },
   {
    "duration": 8,
    "start_time": "2022-06-06T05:22:57.050Z"
   },
   {
    "duration": 327,
    "start_time": "2022-06-06T05:22:57.060Z"
   },
   {
    "duration": 77,
    "start_time": "2022-06-06T05:22:57.388Z"
   },
   {
    "duration": 7,
    "start_time": "2022-06-06T05:22:57.467Z"
   },
   {
    "duration": 8,
    "start_time": "2022-06-06T05:22:57.476Z"
   },
   {
    "duration": 23,
    "start_time": "2022-06-06T05:22:57.485Z"
   },
   {
    "duration": 39,
    "start_time": "2022-06-06T05:22:57.510Z"
   },
   {
    "duration": 8,
    "start_time": "2022-06-06T05:22:57.551Z"
   },
   {
    "duration": 18,
    "start_time": "2022-06-06T05:22:57.561Z"
   },
   {
    "duration": 48,
    "start_time": "2022-06-06T05:22:57.582Z"
   },
   {
    "duration": 7,
    "start_time": "2022-06-06T05:22:57.639Z"
   },
   {
    "duration": 14,
    "start_time": "2022-06-06T05:22:57.648Z"
   },
   {
    "duration": 174174,
    "start_time": "2022-06-06T05:22:57.664Z"
   },
   {
    "duration": 5,
    "start_time": "2022-06-06T05:25:51.839Z"
   },
   {
    "duration": 49686,
    "start_time": "2022-06-06T05:25:51.845Z"
   },
   {
    "duration": 8,
    "start_time": "2022-06-06T05:27:14.103Z"
   },
   {
    "duration": 960,
    "start_time": "2022-06-06T05:27:14.113Z"
   },
   {
    "duration": 290,
    "start_time": "2022-06-06T05:27:15.076Z"
   },
   {
    "duration": 6,
    "start_time": "2022-06-06T05:27:15.367Z"
   },
   {
    "duration": 384,
    "start_time": "2022-06-06T05:27:15.375Z"
   },
   {
    "duration": 123,
    "start_time": "2022-06-06T05:27:15.761Z"
   },
   {
    "duration": 7,
    "start_time": "2022-06-06T05:27:15.885Z"
   },
   {
    "duration": 8,
    "start_time": "2022-06-06T05:27:15.893Z"
   },
   {
    "duration": 46,
    "start_time": "2022-06-06T05:27:15.903Z"
   },
   {
    "duration": 13,
    "start_time": "2022-06-06T05:27:15.951Z"
   },
   {
    "duration": 18,
    "start_time": "2022-06-06T05:27:15.965Z"
   },
   {
    "duration": 23,
    "start_time": "2022-06-06T05:27:15.985Z"
   },
   {
    "duration": 33,
    "start_time": "2022-06-06T05:27:58.842Z"
   },
   {
    "duration": 7,
    "start_time": "2022-06-06T05:27:58.877Z"
   },
   {
    "duration": 14,
    "start_time": "2022-06-06T05:27:58.886Z"
   },
   {
    "duration": 206349,
    "start_time": "2022-06-06T05:27:58.902Z"
   },
   {
    "duration": 5,
    "start_time": "2022-06-06T05:31:25.253Z"
   },
   {
    "duration": 40873,
    "start_time": "2022-06-06T05:31:25.260Z"
   },
   {
    "duration": 125648,
    "start_time": "2022-06-06T05:33:10.245Z"
   },
   {
    "duration": 11,
    "start_time": "2022-06-06T05:35:15.895Z"
   },
   {
    "duration": 11,
    "start_time": "2022-06-06T05:35:15.907Z"
   },
   {
    "duration": 4,
    "start_time": "2022-06-06T05:35:15.923Z"
   },
   {
    "duration": 45,
    "start_time": "2022-06-06T05:35:15.930Z"
   },
   {
    "duration": 19929,
    "start_time": "2022-06-06T05:37:08.416Z"
   },
   {
    "duration": 23111,
    "start_time": "2022-06-06T05:39:08.350Z"
   },
   {
    "duration": 5,
    "start_time": "2022-06-06T05:40:23.308Z"
   },
   {
    "duration": 12,
    "start_time": "2022-06-06T05:40:23.315Z"
   },
   {
    "duration": 174,
    "start_time": "2022-06-06T05:40:23.329Z"
   },
   {
    "duration": 55,
    "start_time": "2022-06-06T05:40:23.505Z"
   },
   {
    "duration": 52,
    "start_time": "2022-06-06T05:40:53.507Z"
   },
   {
    "duration": 654506,
    "start_time": "2022-06-06T05:41:04.248Z"
   },
   {
    "duration": 160,
    "start_time": "2022-06-06T05:52:16.343Z"
   },
   {
    "duration": 12,
    "start_time": "2022-06-06T05:52:28.903Z"
   },
   {
    "duration": 929,
    "start_time": "2022-06-06T05:52:51.887Z"
   },
   {
    "duration": 1216,
    "start_time": "2022-06-06T05:53:16.558Z"
   },
   {
    "duration": 698689,
    "start_time": "2022-06-06T05:53:42.982Z"
   },
   {
    "duration": 1174,
    "start_time": "2022-06-06T06:05:41.591Z"
   },
   {
    "duration": 21,
    "start_time": "2022-06-06T06:06:01.318Z"
   },
   {
    "duration": 44,
    "start_time": "2022-06-06T06:07:52.530Z"
   },
   {
    "duration": 48,
    "start_time": "2022-06-06T06:09:43.693Z"
   },
   {
    "duration": 1158,
    "start_time": "2022-06-06T06:09:51.004Z"
   },
   {
    "duration": 8,
    "start_time": "2022-06-06T06:10:10.547Z"
   },
   {
    "duration": 30,
    "start_time": "2022-06-06T06:10:22.727Z"
   },
   {
    "duration": 4,
    "start_time": "2022-06-06T06:10:30.883Z"
   },
   {
    "duration": 6,
    "start_time": "2022-06-06T06:10:58.982Z"
   },
   {
    "duration": 24,
    "start_time": "2022-06-06T06:11:34.459Z"
   },
   {
    "duration": 14005,
    "start_time": "2022-06-06T06:13:52.811Z"
   },
   {
    "duration": 8,
    "start_time": "2022-06-06T06:14:46.016Z"
   },
   {
    "duration": 842,
    "start_time": "2022-06-06T06:14:46.027Z"
   },
   {
    "duration": 289,
    "start_time": "2022-06-06T06:14:46.871Z"
   },
   {
    "duration": 5,
    "start_time": "2022-06-06T06:14:47.162Z"
   },
   {
    "duration": 338,
    "start_time": "2022-06-06T06:14:47.169Z"
   },
   {
    "duration": 75,
    "start_time": "2022-06-06T06:14:47.509Z"
   },
   {
    "duration": 6,
    "start_time": "2022-06-06T06:14:47.586Z"
   },
   {
    "duration": 5,
    "start_time": "2022-06-06T06:14:47.593Z"
   },
   {
    "duration": 7,
    "start_time": "2022-06-06T06:14:47.600Z"
   },
   {
    "duration": 18,
    "start_time": "2022-06-06T06:14:47.609Z"
   },
   {
    "duration": 29,
    "start_time": "2022-06-06T06:14:47.628Z"
   },
   {
    "duration": 9,
    "start_time": "2022-06-06T06:14:47.659Z"
   },
   {
    "duration": 28,
    "start_time": "2022-06-06T06:14:47.669Z"
   },
   {
    "duration": 5,
    "start_time": "2022-06-06T06:14:47.698Z"
   },
   {
    "duration": 9,
    "start_time": "2022-06-06T06:14:47.705Z"
   },
   {
    "duration": 10,
    "start_time": "2022-06-06T06:15:15.850Z"
   },
   {
    "duration": 205750,
    "start_time": "2022-06-06T06:15:40.097Z"
   },
   {
    "duration": 11,
    "start_time": "2022-06-06T06:19:10.872Z"
   },
   {
    "duration": 330098,
    "start_time": "2022-06-06T06:20:49.783Z"
   },
   {
    "duration": 25,
    "start_time": "2022-06-06T06:26:35.771Z"
   },
   {
    "duration": 581,
    "start_time": "2022-06-06T06:27:21.116Z"
   },
   {
    "duration": 539,
    "start_time": "2022-06-06T06:27:43.403Z"
   },
   {
    "duration": 127289,
    "start_time": "2022-06-06T06:27:49.300Z"
   },
   {
    "duration": 7,
    "start_time": "2022-06-06T06:34:31.975Z"
   },
   {
    "duration": 1365,
    "start_time": "2022-06-06T06:34:36.775Z"
   },
   {
    "duration": 22,
    "start_time": "2022-06-06T06:35:43.057Z"
   },
   {
    "duration": 1428,
    "start_time": "2022-06-06T06:35:51.976Z"
   },
   {
    "duration": 1342,
    "start_time": "2022-06-06T06:36:01.409Z"
   },
   {
    "duration": 336254,
    "start_time": "2022-06-06T06:37:45.553Z"
   },
   {
    "duration": 389,
    "start_time": "2022-06-06T06:45:19.916Z"
   },
   {
    "duration": 1450,
    "start_time": "2022-06-06T06:45:38.092Z"
   },
   {
    "duration": 87,
    "start_time": "2022-06-06T06:51:16.304Z"
   },
   {
    "duration": 313,
    "start_time": "2022-06-06T06:51:23.017Z"
   },
   {
    "duration": 346,
    "start_time": "2022-06-06T06:52:01.576Z"
   },
   {
    "duration": 324,
    "start_time": "2022-06-06T06:52:47.057Z"
   },
   {
    "duration": 57,
    "start_time": "2022-06-06T06:57:45.109Z"
   },
   {
    "duration": 311,
    "start_time": "2022-06-06T06:57:49.685Z"
   },
   {
    "duration": 33,
    "start_time": "2022-06-06T07:05:00.952Z"
   },
   {
    "duration": 14,
    "start_time": "2022-06-06T07:05:06.840Z"
   },
   {
    "duration": 15,
    "start_time": "2022-06-06T07:05:15.637Z"
   },
   {
    "duration": 710,
    "start_time": "2022-06-06T07:05:27.983Z"
   },
   {
    "duration": 514,
    "start_time": "2022-06-06T07:06:01.574Z"
   },
   {
    "duration": 361,
    "start_time": "2022-06-06T07:11:32.053Z"
   },
   {
    "duration": 274,
    "start_time": "2022-06-06T07:12:34.813Z"
   },
   {
    "duration": 357,
    "start_time": "2022-06-06T07:13:15.145Z"
   },
   {
    "duration": 611,
    "start_time": "2022-06-06T07:14:41.188Z"
   },
   {
    "duration": 357953,
    "start_time": "2022-06-06T07:17:37.763Z"
   },
   {
    "duration": 1478,
    "start_time": "2022-06-06T07:24:03.921Z"
   },
   {
    "duration": 2053,
    "start_time": "2022-06-06T07:24:16.402Z"
   },
   {
    "duration": 309,
    "start_time": "2022-06-06T07:24:55.958Z"
   },
   {
    "duration": 695195,
    "start_time": "2022-06-06T07:53:17.720Z"
   },
   {
    "duration": 3515,
    "start_time": "2022-06-06T08:05:06.572Z"
   },
   {
    "duration": 60,
    "start_time": "2022-06-06T08:07:04.659Z"
   },
   {
    "duration": 13,
    "start_time": "2022-06-06T08:07:06.717Z"
   },
   {
    "duration": 439,
    "start_time": "2022-06-06T08:08:35.751Z"
   },
   {
    "duration": 55041,
    "start_time": "2022-06-06T08:10:51.947Z"
   },
   {
    "duration": 691665,
    "start_time": "2022-06-06T08:12:10.816Z"
   },
   {
    "duration": 809,
    "start_time": "2022-06-06T08:23:45.110Z"
   },
   {
    "duration": 74,
    "start_time": "2022-06-06T08:23:46.959Z"
   },
   {
    "duration": 9,
    "start_time": "2022-06-06T08:23:48.271Z"
   },
   {
    "duration": 1127908,
    "start_time": "2022-06-06T08:23:51.712Z"
   },
   {
    "duration": 14,
    "start_time": "2022-06-06T08:42:46.930Z"
   },
   {
    "duration": 3671,
    "start_time": "2022-06-06T08:42:57.248Z"
   },
   {
    "duration": 1904,
    "start_time": "2022-06-07T05:48:17.724Z"
   },
   {
    "duration": 2309,
    "start_time": "2022-06-07T05:48:19.631Z"
   },
   {
    "duration": 298,
    "start_time": "2022-06-07T05:48:21.941Z"
   },
   {
    "duration": 7,
    "start_time": "2022-06-07T05:48:22.241Z"
   },
   {
    "duration": 313,
    "start_time": "2022-06-07T05:48:22.250Z"
   },
   {
    "duration": 64,
    "start_time": "2022-06-07T05:48:22.565Z"
   },
   {
    "duration": 7,
    "start_time": "2022-06-07T05:48:22.631Z"
   },
   {
    "duration": 7,
    "start_time": "2022-06-07T05:48:22.639Z"
   },
   {
    "duration": 6,
    "start_time": "2022-06-07T05:48:22.648Z"
   },
   {
    "duration": 7,
    "start_time": "2022-06-07T05:48:22.656Z"
   },
   {
    "duration": 6,
    "start_time": "2022-06-07T05:48:22.664Z"
   },
   {
    "duration": 154,
    "start_time": "2022-06-07T05:48:22.672Z"
   },
   {
    "duration": 0,
    "start_time": "2022-06-07T05:48:22.828Z"
   },
   {
    "duration": 0,
    "start_time": "2022-06-07T05:48:22.829Z"
   },
   {
    "duration": 0,
    "start_time": "2022-06-07T05:48:22.830Z"
   },
   {
    "duration": 0,
    "start_time": "2022-06-07T05:48:22.832Z"
   },
   {
    "duration": 0,
    "start_time": "2022-06-07T05:48:22.834Z"
   },
   {
    "duration": 0,
    "start_time": "2022-06-07T05:48:22.835Z"
   },
   {
    "duration": 0,
    "start_time": "2022-06-07T05:48:22.836Z"
   },
   {
    "duration": 0,
    "start_time": "2022-06-07T05:48:22.838Z"
   },
   {
    "duration": 0,
    "start_time": "2022-06-07T05:48:22.840Z"
   },
   {
    "duration": 0,
    "start_time": "2022-06-07T05:48:22.841Z"
   },
   {
    "duration": 0,
    "start_time": "2022-06-07T05:48:22.841Z"
   },
   {
    "duration": 0,
    "start_time": "2022-06-07T05:48:22.842Z"
   },
   {
    "duration": 0,
    "start_time": "2022-06-07T05:48:22.843Z"
   },
   {
    "duration": 0,
    "start_time": "2022-06-07T05:48:22.844Z"
   },
   {
    "duration": 0,
    "start_time": "2022-06-07T05:48:22.845Z"
   },
   {
    "duration": 0,
    "start_time": "2022-06-07T05:48:22.848Z"
   },
   {
    "duration": 1456,
    "start_time": "2022-06-07T05:50:47.478Z"
   },
   {
    "duration": 1024,
    "start_time": "2022-06-07T05:50:48.937Z"
   },
   {
    "duration": 332,
    "start_time": "2022-06-07T05:50:49.963Z"
   },
   {
    "duration": 10,
    "start_time": "2022-06-07T05:50:50.297Z"
   },
   {
    "duration": 304,
    "start_time": "2022-06-07T05:50:50.309Z"
   },
   {
    "duration": 64,
    "start_time": "2022-06-07T05:50:50.615Z"
   },
   {
    "duration": 20,
    "start_time": "2022-06-07T05:50:50.682Z"
   },
   {
    "duration": 4,
    "start_time": "2022-06-07T05:50:50.705Z"
   },
   {
    "duration": 13,
    "start_time": "2022-06-07T05:50:50.711Z"
   },
   {
    "duration": 5,
    "start_time": "2022-06-07T05:50:50.727Z"
   },
   {
    "duration": 9,
    "start_time": "2022-06-07T05:50:50.733Z"
   },
   {
    "duration": 1385,
    "start_time": "2022-06-07T06:11:10.226Z"
   },
   {
    "duration": 2245,
    "start_time": "2022-06-07T06:11:11.613Z"
   },
   {
    "duration": 304,
    "start_time": "2022-06-07T06:11:13.860Z"
   },
   {
    "duration": 10,
    "start_time": "2022-06-07T06:11:14.167Z"
   },
   {
    "duration": 303,
    "start_time": "2022-06-07T06:11:14.193Z"
   },
   {
    "duration": 56,
    "start_time": "2022-06-07T06:11:14.497Z"
   },
   {
    "duration": 7,
    "start_time": "2022-06-07T06:11:14.555Z"
   },
   {
    "duration": 6,
    "start_time": "2022-06-07T06:11:14.564Z"
   },
   {
    "duration": 22,
    "start_time": "2022-06-07T06:11:14.572Z"
   },
   {
    "duration": 6,
    "start_time": "2022-06-07T06:11:14.597Z"
   },
   {
    "duration": 7,
    "start_time": "2022-06-07T06:11:14.605Z"
   },
   {
    "duration": 1304,
    "start_time": "2022-06-07T06:25:10.933Z"
   },
   {
    "duration": 863,
    "start_time": "2022-06-07T06:25:12.239Z"
   },
   {
    "duration": 319,
    "start_time": "2022-06-07T06:25:13.104Z"
   },
   {
    "duration": 7,
    "start_time": "2022-06-07T06:25:13.425Z"
   },
   {
    "duration": 306,
    "start_time": "2022-06-07T06:25:13.434Z"
   },
   {
    "duration": 67,
    "start_time": "2022-06-07T06:25:13.742Z"
   },
   {
    "duration": 7,
    "start_time": "2022-06-07T06:25:13.811Z"
   },
   {
    "duration": 7,
    "start_time": "2022-06-07T06:25:13.820Z"
   },
   {
    "duration": 10,
    "start_time": "2022-06-07T06:25:13.828Z"
   },
   {
    "duration": 6,
    "start_time": "2022-06-07T06:25:13.840Z"
   },
   {
    "duration": 7,
    "start_time": "2022-06-07T06:25:13.847Z"
   },
   {
    "duration": 976479,
    "start_time": "2022-06-07T06:25:13.856Z"
   },
   {
    "duration": 3,
    "start_time": "2022-06-07T06:41:30.337Z"
   },
   {
    "duration": 122657,
    "start_time": "2022-06-07T06:41:30.343Z"
   },
   {
    "duration": 2,
    "start_time": "2022-06-07T06:43:33.002Z"
   },
   {
    "duration": 107,
    "start_time": "2022-06-07T06:43:33.006Z"
   },
   {
    "duration": 6,
    "start_time": "2022-06-07T06:43:33.115Z"
   },
   {
    "duration": 8,
    "start_time": "2022-06-07T06:43:33.122Z"
   },
   {
    "duration": 185182,
    "start_time": "2022-06-07T06:43:33.132Z"
   },
   {
    "duration": 3,
    "start_time": "2022-06-07T06:46:38.316Z"
   },
   {
    "duration": 21683,
    "start_time": "2022-06-07T06:46:38.321Z"
   },
   {
    "duration": 1512,
    "start_time": "2022-06-07T06:47:00.095Z"
   },
   {
    "duration": 63,
    "start_time": "2022-06-07T06:47:01.611Z"
   },
   {
    "duration": 3866,
    "start_time": "2022-06-07T06:47:01.676Z"
   },
   {
    "duration": 1069231,
    "start_time": "2022-06-07T06:47:05.544Z"
   },
   {
    "duration": 29579,
    "start_time": "2022-06-07T07:04:54.776Z"
   },
   {
    "duration": 106362,
    "start_time": "2022-06-07T07:05:24.356Z"
   },
   {
    "duration": 136,
    "start_time": "2022-06-07T07:07:10.720Z"
   },
   {
    "duration": 0,
    "start_time": "2022-06-07T07:07:10.859Z"
   },
   {
    "duration": 13,
    "start_time": "2022-06-07T07:07:46.151Z"
   },
   {
    "duration": 13254,
    "start_time": "2022-06-07T07:08:35.748Z"
   },
   {
    "duration": 3351,
    "start_time": "2022-06-07T07:08:56.123Z"
   },
   {
    "duration": 1855,
    "start_time": "2022-06-07T11:20:04.355Z"
   },
   {
    "duration": 3518,
    "start_time": "2022-06-07T11:20:06.213Z"
   },
   {
    "duration": 237,
    "start_time": "2022-06-07T11:20:09.733Z"
   },
   {
    "duration": 9,
    "start_time": "2022-06-07T11:20:09.972Z"
   },
   {
    "duration": 272,
    "start_time": "2022-06-07T11:20:09.983Z"
   },
   {
    "duration": 48,
    "start_time": "2022-06-07T11:20:10.256Z"
   },
   {
    "duration": 7,
    "start_time": "2022-06-07T11:20:10.305Z"
   },
   {
    "duration": 3,
    "start_time": "2022-06-07T11:20:10.325Z"
   },
   {
    "duration": 4,
    "start_time": "2022-06-07T11:20:10.329Z"
   },
   {
    "duration": 11,
    "start_time": "2022-06-07T11:20:10.335Z"
   },
   {
    "duration": 8,
    "start_time": "2022-06-07T11:20:10.348Z"
   },
   {
    "duration": 1006723,
    "start_time": "2022-06-07T11:20:10.357Z"
   },
   {
    "duration": 4,
    "start_time": "2022-06-07T11:36:57.082Z"
   },
   {
    "duration": 113748,
    "start_time": "2022-06-07T11:36:57.087Z"
   },
   {
    "duration": 2,
    "start_time": "2022-06-07T11:38:50.836Z"
   },
   {
    "duration": 75,
    "start_time": "2022-06-07T11:38:50.926Z"
   },
   {
    "duration": 5,
    "start_time": "2022-06-07T11:38:51.003Z"
   },
   {
    "duration": 5,
    "start_time": "2022-06-07T11:38:51.009Z"
   },
   {
    "duration": 179903,
    "start_time": "2022-06-07T11:38:51.015Z"
   },
   {
    "duration": 7,
    "start_time": "2022-06-07T11:41:50.920Z"
   },
   {
    "duration": 22504,
    "start_time": "2022-06-07T11:41:50.928Z"
   },
   {
    "duration": 743,
    "start_time": "2022-06-07T11:42:13.434Z"
   },
   {
    "duration": 63,
    "start_time": "2022-06-07T11:42:14.180Z"
   },
   {
    "duration": 30,
    "start_time": "2022-06-07T11:42:14.244Z"
   },
   {
    "duration": 5,
    "start_time": "2022-06-07T11:42:14.275Z"
   },
   {
    "duration": 1049,
    "start_time": "2022-06-07T11:42:14.282Z"
   },
   {
    "duration": 602656,
    "start_time": "2022-06-07T11:42:15.333Z"
   },
   {
    "duration": 4866,
    "start_time": "2022-06-07T11:52:17.991Z"
   },
   {
    "duration": 104814,
    "start_time": "2022-06-07T11:52:22.858Z"
   },
   {
    "duration": 15366,
    "start_time": "2022-06-07T11:54:07.674Z"
   },
   {
    "duration": 2969,
    "start_time": "2022-06-07T11:54:23.043Z"
   },
   {
    "duration": 767,
    "start_time": "2022-06-07T11:55:22.997Z"
   },
   {
    "duration": 73,
    "start_time": "2022-06-07T11:55:23.766Z"
   },
   {
    "duration": 10,
    "start_time": "2022-06-07T11:55:23.841Z"
   },
   {
    "duration": 3769,
    "start_time": "2022-06-07T11:55:23.852Z"
   },
   {
    "duration": 986579,
    "start_time": "2022-06-07T11:55:27.625Z"
   },
   {
    "duration": 27791,
    "start_time": "2022-06-07T12:11:54.205Z"
   },
   {
    "duration": 104112,
    "start_time": "2022-06-07T12:12:21.998Z"
   },
   {
    "duration": 10615,
    "start_time": "2022-06-07T12:14:06.112Z"
   },
   {
    "duration": 2979,
    "start_time": "2022-06-07T12:14:16.728Z"
   },
   {
    "duration": 1669074,
    "start_time": "2022-06-07T12:17:28.647Z"
   },
   {
    "duration": 1200,
    "start_time": "2022-06-07T12:46:46.184Z"
   },
   {
    "duration": 691,
    "start_time": "2022-06-07T12:46:47.386Z"
   },
   {
    "duration": 249,
    "start_time": "2022-06-07T12:46:48.078Z"
   },
   {
    "duration": 7,
    "start_time": "2022-06-07T12:46:48.329Z"
   },
   {
    "duration": 248,
    "start_time": "2022-06-07T12:46:48.338Z"
   },
   {
    "duration": 56,
    "start_time": "2022-06-07T12:46:48.587Z"
   },
   {
    "duration": 6,
    "start_time": "2022-06-07T12:46:48.645Z"
   },
   {
    "duration": 3,
    "start_time": "2022-06-07T12:46:48.652Z"
   },
   {
    "duration": 4,
    "start_time": "2022-06-07T12:46:48.657Z"
   },
   {
    "duration": 5,
    "start_time": "2022-06-07T12:46:48.663Z"
   },
   {
    "duration": 6,
    "start_time": "2022-06-07T12:46:48.669Z"
   },
   {
    "duration": 1015398,
    "start_time": "2022-06-07T12:46:48.676Z"
   },
   {
    "duration": 4,
    "start_time": "2022-06-07T13:03:44.077Z"
   },
   {
    "duration": 130364,
    "start_time": "2022-06-07T13:03:44.083Z"
   },
   {
    "duration": 2,
    "start_time": "2022-06-07T13:05:54.449Z"
   },
   {
    "duration": 84,
    "start_time": "2022-06-07T13:05:54.453Z"
   },
   {
    "duration": 5,
    "start_time": "2022-06-07T13:05:54.540Z"
   },
   {
    "duration": 6,
    "start_time": "2022-06-07T13:05:54.547Z"
   },
   {
    "duration": 197840,
    "start_time": "2022-06-07T13:05:54.554Z"
   },
   {
    "duration": 7,
    "start_time": "2022-06-07T13:09:12.396Z"
   },
   {
    "duration": 18722,
    "start_time": "2022-06-07T13:09:12.404Z"
   },
   {
    "duration": 978,
    "start_time": "2022-06-07T13:09:31.130Z"
   },
   {
    "duration": 82,
    "start_time": "2022-06-07T13:09:32.112Z"
   },
   {
    "duration": 7,
    "start_time": "2022-06-07T13:09:32.196Z"
   },
   {
    "duration": 5664,
    "start_time": "2022-06-07T13:09:32.205Z"
   },
   {
    "duration": 1026854,
    "start_time": "2022-06-07T13:09:37.871Z"
   },
   {
    "duration": 27338,
    "start_time": "2022-06-07T13:26:44.727Z"
   },
   {
    "duration": 108194,
    "start_time": "2022-06-07T13:27:12.070Z"
   },
   {
    "duration": 11665,
    "start_time": "2022-06-07T13:29:00.265Z"
   },
   {
    "duration": 3608,
    "start_time": "2022-06-07T13:29:11.935Z"
   },
   {
    "duration": 3,
    "start_time": "2022-06-07T13:33:11.900Z"
   },
   {
    "duration": 5,
    "start_time": "2022-06-07T13:33:13.441Z"
   },
   {
    "duration": 3,
    "start_time": "2022-06-07T13:33:53.915Z"
   },
   {
    "duration": 3,
    "start_time": "2022-06-07T13:34:24.707Z"
   },
   {
    "duration": 5,
    "start_time": "2022-06-07T13:34:26.591Z"
   },
   {
    "duration": 5,
    "start_time": "2022-06-07T13:34:33.434Z"
   },
   {
    "duration": 6,
    "start_time": "2022-06-07T13:34:34.849Z"
   },
   {
    "duration": 2,
    "start_time": "2022-06-07T13:36:20.303Z"
   },
   {
    "duration": 8,
    "start_time": "2022-06-07T13:36:21.627Z"
   },
   {
    "duration": 3,
    "start_time": "2022-06-07T13:36:36.055Z"
   },
   {
    "duration": 5,
    "start_time": "2022-06-07T13:36:37.202Z"
   },
   {
    "duration": 3,
    "start_time": "2022-06-07T13:39:06.667Z"
   },
   {
    "duration": 6,
    "start_time": "2022-06-07T13:39:08.110Z"
   },
   {
    "duration": 3,
    "start_time": "2022-06-07T13:39:51.820Z"
   },
   {
    "duration": 4,
    "start_time": "2022-06-07T13:39:53.324Z"
   },
   {
    "duration": 4,
    "start_time": "2022-06-07T13:39:58.354Z"
   },
   {
    "duration": 3,
    "start_time": "2022-06-07T13:39:59.611Z"
   },
   {
    "duration": 5,
    "start_time": "2022-06-07T13:40:03.751Z"
   },
   {
    "duration": 6,
    "start_time": "2022-06-07T13:40:04.750Z"
   },
   {
    "duration": 2,
    "start_time": "2022-06-07T13:40:21.406Z"
   },
   {
    "duration": 4,
    "start_time": "2022-06-07T13:40:22.954Z"
   },
   {
    "duration": 3,
    "start_time": "2022-06-07T13:40:39.510Z"
   },
   {
    "duration": 4,
    "start_time": "2022-06-07T13:40:40.655Z"
   },
   {
    "duration": 2,
    "start_time": "2022-06-07T13:40:57.913Z"
   },
   {
    "duration": 5,
    "start_time": "2022-06-07T13:40:59.954Z"
   },
   {
    "duration": 3,
    "start_time": "2022-06-07T13:41:20.560Z"
   },
   {
    "duration": 3,
    "start_time": "2022-06-07T13:41:21.713Z"
   },
   {
    "duration": 2,
    "start_time": "2022-06-07T13:41:34.501Z"
   },
   {
    "duration": 5,
    "start_time": "2022-06-07T13:41:36.063Z"
   },
   {
    "duration": 3,
    "start_time": "2022-06-07T13:41:39.261Z"
   },
   {
    "duration": 8,
    "start_time": "2022-06-07T13:41:40.325Z"
   },
   {
    "duration": 3,
    "start_time": "2022-06-07T13:43:46.303Z"
   },
   {
    "duration": 3,
    "start_time": "2022-06-07T13:43:47.611Z"
   },
   {
    "duration": 4,
    "start_time": "2022-06-07T13:48:10.749Z"
   },
   {
    "duration": 6,
    "start_time": "2022-06-07T13:48:12.057Z"
   },
   {
    "duration": 2,
    "start_time": "2022-06-07T13:48:27.113Z"
   },
   {
    "duration": 4,
    "start_time": "2022-06-07T13:48:28.142Z"
   },
   {
    "duration": 3,
    "start_time": "2022-06-07T13:48:35.412Z"
   },
   {
    "duration": 3,
    "start_time": "2022-06-07T13:48:36.417Z"
   },
   {
    "duration": 3,
    "start_time": "2022-06-07T13:49:11.432Z"
   },
   {
    "duration": 5,
    "start_time": "2022-06-07T13:49:12.434Z"
   },
   {
    "duration": 3,
    "start_time": "2022-06-07T13:49:17.409Z"
   },
   {
    "duration": 4,
    "start_time": "2022-06-07T13:49:18.421Z"
   },
   {
    "duration": 2,
    "start_time": "2022-06-07T13:50:51.015Z"
   },
   {
    "duration": 4,
    "start_time": "2022-06-07T13:50:52.159Z"
   },
   {
    "duration": 3,
    "start_time": "2022-06-07T13:51:02.007Z"
   },
   {
    "duration": 4,
    "start_time": "2022-06-07T13:51:03.119Z"
   },
   {
    "duration": 1936,
    "start_time": "2022-06-08T05:21:46.647Z"
   },
   {
    "duration": 2477,
    "start_time": "2022-06-08T05:21:48.585Z"
   },
   {
    "duration": 302,
    "start_time": "2022-06-08T05:21:51.064Z"
   },
   {
    "duration": 8,
    "start_time": "2022-06-08T05:21:51.367Z"
   },
   {
    "duration": 295,
    "start_time": "2022-06-08T05:21:51.378Z"
   },
   {
    "duration": 67,
    "start_time": "2022-06-08T05:21:51.675Z"
   },
   {
    "duration": 8,
    "start_time": "2022-06-08T05:21:51.743Z"
   },
   {
    "duration": 4,
    "start_time": "2022-06-08T05:21:51.753Z"
   },
   {
    "duration": 4,
    "start_time": "2022-06-08T05:21:51.759Z"
   },
   {
    "duration": 9,
    "start_time": "2022-06-08T05:21:51.765Z"
   },
   {
    "duration": 11,
    "start_time": "2022-06-08T05:21:51.776Z"
   },
   {
    "duration": 7,
    "start_time": "2022-06-08T05:21:51.788Z"
   },
   {
    "duration": 769,
    "start_time": "2022-06-08T05:22:37.437Z"
   },
   {
    "duration": 5,
    "start_time": "2022-06-08T05:22:43.208Z"
   },
   {
    "duration": 4,
    "start_time": "2022-06-08T05:22:44.976Z"
   },
   {
    "duration": 5,
    "start_time": "2022-06-08T05:22:46.415Z"
   },
   {
    "duration": 3,
    "start_time": "2022-06-08T05:23:00.617Z"
   },
   {
    "duration": 5,
    "start_time": "2022-06-08T05:23:01.784Z"
   },
   {
    "duration": 3,
    "start_time": "2022-06-08T05:23:16.480Z"
   },
   {
    "duration": 4,
    "start_time": "2022-06-08T05:23:17.775Z"
   },
   {
    "duration": 3,
    "start_time": "2022-06-08T05:45:18.809Z"
   },
   {
    "duration": 5,
    "start_time": "2022-06-08T05:45:20.071Z"
   },
   {
    "duration": 3,
    "start_time": "2022-06-08T05:45:29.129Z"
   },
   {
    "duration": 4,
    "start_time": "2022-06-08T05:45:30.345Z"
   },
   {
    "duration": 29,
    "start_time": "2022-06-08T05:47:06.025Z"
   },
   {
    "duration": 26,
    "start_time": "2022-06-08T05:47:17.514Z"
   },
   {
    "duration": 4,
    "start_time": "2022-06-08T05:47:58.529Z"
   },
   {
    "duration": 3,
    "start_time": "2022-06-08T05:48:00.905Z"
   },
   {
    "duration": 4,
    "start_time": "2022-06-08T05:52:52.552Z"
   },
   {
    "duration": 4,
    "start_time": "2022-06-08T05:52:53.871Z"
   },
   {
    "duration": 3,
    "start_time": "2022-06-08T05:53:49.680Z"
   },
   {
    "duration": 5,
    "start_time": "2022-06-08T05:53:52.207Z"
   },
   {
    "duration": 3,
    "start_time": "2022-06-08T05:54:01.493Z"
   },
   {
    "duration": 5,
    "start_time": "2022-06-08T05:54:02.567Z"
   },
   {
    "duration": 29,
    "start_time": "2022-06-08T05:55:11.862Z"
   },
   {
    "duration": 3,
    "start_time": "2022-06-08T05:56:22.351Z"
   },
   {
    "duration": 4,
    "start_time": "2022-06-08T05:56:24.023Z"
   },
   {
    "duration": 3,
    "start_time": "2022-06-08T05:57:43.816Z"
   },
   {
    "duration": 4,
    "start_time": "2022-06-08T05:57:45.823Z"
   },
   {
    "duration": 3,
    "start_time": "2022-06-08T05:58:11.318Z"
   },
   {
    "duration": 4,
    "start_time": "2022-06-08T05:58:13.103Z"
   },
   {
    "duration": 4,
    "start_time": "2022-06-08T06:07:23.644Z"
   },
   {
    "duration": 5,
    "start_time": "2022-06-08T06:07:25.187Z"
   },
   {
    "duration": 3,
    "start_time": "2022-06-08T06:07:31.443Z"
   },
   {
    "duration": 5,
    "start_time": "2022-06-08T06:07:32.547Z"
   },
   {
    "duration": 3,
    "start_time": "2022-06-08T06:07:42.091Z"
   },
   {
    "duration": 4,
    "start_time": "2022-06-08T06:07:43.284Z"
   },
   {
    "duration": 3,
    "start_time": "2022-06-08T06:10:11.075Z"
   },
   {
    "duration": 4,
    "start_time": "2022-06-08T06:10:12.402Z"
   },
   {
    "duration": 4,
    "start_time": "2022-06-08T06:10:33.932Z"
   },
   {
    "duration": 5,
    "start_time": "2022-06-08T06:10:35.607Z"
   },
   {
    "duration": 30,
    "start_time": "2022-06-08T06:57:36.645Z"
   },
   {
    "duration": 22,
    "start_time": "2022-06-08T06:57:49.839Z"
   },
   {
    "duration": 4,
    "start_time": "2022-06-08T06:58:01.032Z"
   },
   {
    "duration": 4,
    "start_time": "2022-06-08T06:58:53.357Z"
   },
   {
    "duration": 6,
    "start_time": "2022-06-08T06:58:54.548Z"
   },
   {
    "duration": 4,
    "start_time": "2022-06-08T06:59:17.981Z"
   },
   {
    "duration": 4,
    "start_time": "2022-06-08T06:59:19.188Z"
   },
   {
    "duration": 4,
    "start_time": "2022-06-08T07:13:38.999Z"
   },
   {
    "duration": 5,
    "start_time": "2022-06-08T07:13:40.357Z"
   },
   {
    "duration": 4,
    "start_time": "2022-06-08T07:13:59.046Z"
   },
   {
    "duration": 5,
    "start_time": "2022-06-08T07:14:00.124Z"
   },
   {
    "duration": 3,
    "start_time": "2022-06-08T07:14:26.022Z"
   },
   {
    "duration": 6,
    "start_time": "2022-06-08T07:14:27.062Z"
   },
   {
    "duration": 4,
    "start_time": "2022-06-08T07:14:36.982Z"
   },
   {
    "duration": 4,
    "start_time": "2022-06-08T07:14:37.957Z"
   },
   {
    "duration": 3,
    "start_time": "2022-06-08T07:15:16.005Z"
   },
   {
    "duration": 6,
    "start_time": "2022-06-08T07:15:17.087Z"
   },
   {
    "duration": 4,
    "start_time": "2022-06-08T07:15:27.452Z"
   },
   {
    "duration": 4,
    "start_time": "2022-06-08T07:15:28.687Z"
   },
   {
    "duration": 4,
    "start_time": "2022-06-08T07:15:47.333Z"
   },
   {
    "duration": 5,
    "start_time": "2022-06-08T07:15:48.788Z"
   },
   {
    "duration": 6,
    "start_time": "2022-06-08T07:15:54.735Z"
   },
   {
    "duration": 5,
    "start_time": "2022-06-08T07:15:55.837Z"
   },
   {
    "duration": 3,
    "start_time": "2022-06-08T07:16:48.133Z"
   },
   {
    "duration": 7,
    "start_time": "2022-06-08T07:16:49.284Z"
   },
   {
    "duration": 4,
    "start_time": "2022-06-08T07:28:55.848Z"
   },
   {
    "duration": 4,
    "start_time": "2022-06-08T07:28:57.758Z"
   },
   {
    "duration": 3,
    "start_time": "2022-06-08T07:29:07.694Z"
   },
   {
    "duration": 5,
    "start_time": "2022-06-08T07:29:08.925Z"
   },
   {
    "duration": 4,
    "start_time": "2022-06-08T07:29:18.673Z"
   },
   {
    "duration": 3,
    "start_time": "2022-06-08T07:29:19.845Z"
   },
   {
    "duration": 3,
    "start_time": "2022-06-08T07:33:08.021Z"
   },
   {
    "duration": 5,
    "start_time": "2022-06-08T07:33:09.763Z"
   },
   {
    "duration": 3,
    "start_time": "2022-06-08T07:35:30.555Z"
   },
   {
    "duration": 5,
    "start_time": "2022-06-08T07:35:39.059Z"
   },
   {
    "duration": 3,
    "start_time": "2022-06-08T07:36:15.531Z"
   },
   {
    "duration": 5,
    "start_time": "2022-06-08T07:36:18.433Z"
   },
   {
    "duration": 4,
    "start_time": "2022-06-08T07:41:01.322Z"
   },
   {
    "duration": 7,
    "start_time": "2022-06-08T07:41:03.229Z"
   },
   {
    "duration": 3,
    "start_time": "2022-06-08T07:41:09.872Z"
   },
   {
    "duration": 4,
    "start_time": "2022-06-08T07:41:11.064Z"
   },
   {
    "duration": 3,
    "start_time": "2022-06-08T07:41:20.464Z"
   },
   {
    "duration": 4,
    "start_time": "2022-06-08T07:41:21.539Z"
   },
   {
    "duration": 4,
    "start_time": "2022-06-08T07:41:32.738Z"
   },
   {
    "duration": 5,
    "start_time": "2022-06-08T07:41:38.837Z"
   },
   {
    "duration": 3,
    "start_time": "2022-06-08T07:41:51.664Z"
   },
   {
    "duration": 4,
    "start_time": "2022-06-08T07:41:53.063Z"
   },
   {
    "duration": 39,
    "start_time": "2022-06-08T07:42:21.948Z"
   },
   {
    "duration": 12,
    "start_time": "2022-06-08T07:42:23.024Z"
   },
   {
    "duration": 225,
    "start_time": "2022-06-08T07:42:24.543Z"
   },
   {
    "duration": 4,
    "start_time": "2022-06-08T07:42:33.592Z"
   },
   {
    "duration": 214524,
    "start_time": "2022-06-08T07:42:37.822Z"
   },
   {
    "duration": 9,
    "start_time": "2022-06-08T07:46:52.359Z"
   },
   {
    "duration": 3,
    "start_time": "2022-06-08T07:46:57.597Z"
   },
   {
    "duration": 3,
    "start_time": "2022-06-08T07:46:58.613Z"
   },
   {
    "duration": 202193,
    "start_time": "2022-06-08T07:47:01.935Z"
   },
   {
    "duration": 4,
    "start_time": "2022-06-08T07:50:39.852Z"
   },
   {
    "duration": 38084,
    "start_time": "2022-06-08T07:50:41.843Z"
   },
   {
    "duration": 781,
    "start_time": "2022-06-08T07:53:34.699Z"
   },
   {
    "duration": 65,
    "start_time": "2022-06-08T07:53:36.603Z"
   },
   {
    "duration": 5,
    "start_time": "2022-06-08T07:53:37.894Z"
   },
   {
    "duration": 2288,
    "start_time": "2022-06-08T07:53:40.170Z"
   },
   {
    "duration": 1056447,
    "start_time": "2022-06-08T07:53:47.795Z"
   },
   {
    "duration": 30711,
    "start_time": "2022-06-08T08:11:27.107Z"
   },
   {
    "duration": 207,
    "start_time": "2022-06-08T08:12:06.426Z"
   },
   {
    "duration": 3445,
    "start_time": "2022-06-08T08:12:08.031Z"
   },
   {
    "duration": 125059,
    "start_time": "2022-06-08T08:12:27.813Z"
   },
   {
    "duration": 7350,
    "start_time": "2022-06-08T08:14:56.373Z"
   },
   {
    "duration": 3,
    "start_time": "2022-06-08T08:15:55.178Z"
   },
   {
    "duration": 14,
    "start_time": "2022-06-08T08:16:00.939Z"
   },
   {
    "duration": 3,
    "start_time": "2022-06-08T08:16:48.312Z"
   },
   {
    "duration": 12,
    "start_time": "2022-06-08T08:16:49.604Z"
   },
   {
    "duration": 3,
    "start_time": "2022-06-08T08:17:17.336Z"
   },
   {
    "duration": 4,
    "start_time": "2022-06-08T08:17:18.519Z"
   },
   {
    "duration": 3,
    "start_time": "2022-06-08T08:18:21.744Z"
   },
   {
    "duration": 3,
    "start_time": "2022-06-08T08:18:23.023Z"
   },
   {
    "duration": 4,
    "start_time": "2022-06-08T08:18:32.072Z"
   },
   {
    "duration": 3,
    "start_time": "2022-06-08T08:18:33.808Z"
   },
   {
    "duration": 4,
    "start_time": "2022-06-08T08:18:37.799Z"
   },
   {
    "duration": 1199,
    "start_time": "2022-06-08T08:21:26.264Z"
   },
   {
    "duration": 823,
    "start_time": "2022-06-08T08:21:27.465Z"
   },
   {
    "duration": 284,
    "start_time": "2022-06-08T08:21:28.289Z"
   },
   {
    "duration": 7,
    "start_time": "2022-06-08T08:21:28.575Z"
   },
   {
    "duration": 307,
    "start_time": "2022-06-08T08:21:28.583Z"
   },
   {
    "duration": 71,
    "start_time": "2022-06-08T08:21:28.891Z"
   },
   {
    "duration": 7,
    "start_time": "2022-06-08T08:21:28.963Z"
   },
   {
    "duration": 13,
    "start_time": "2022-06-08T08:21:28.972Z"
   },
   {
    "duration": 16,
    "start_time": "2022-06-08T08:21:28.987Z"
   },
   {
    "duration": 9,
    "start_time": "2022-06-08T08:21:29.007Z"
   },
   {
    "duration": 25,
    "start_time": "2022-06-08T08:21:29.017Z"
   },
   {
    "duration": 8,
    "start_time": "2022-06-08T08:21:29.044Z"
   },
   {
    "duration": 13,
    "start_time": "2022-06-08T08:21:29.054Z"
   },
   {
    "duration": 13,
    "start_time": "2022-06-08T08:21:29.068Z"
   },
   {
    "duration": 5,
    "start_time": "2022-06-08T08:21:29.082Z"
   },
   {
    "duration": 1498,
    "start_time": "2022-06-08T08:40:32.483Z"
   },
   {
    "duration": 2419,
    "start_time": "2022-06-08T08:40:33.983Z"
   },
   {
    "duration": 289,
    "start_time": "2022-06-08T08:40:36.403Z"
   },
   {
    "duration": 7,
    "start_time": "2022-06-08T08:40:36.694Z"
   },
   {
    "duration": 301,
    "start_time": "2022-06-08T08:40:36.703Z"
   },
   {
    "duration": 66,
    "start_time": "2022-06-08T08:40:37.006Z"
   },
   {
    "duration": 8,
    "start_time": "2022-06-08T08:40:37.073Z"
   },
   {
    "duration": 7,
    "start_time": "2022-06-08T08:40:37.082Z"
   },
   {
    "duration": 5,
    "start_time": "2022-06-08T08:40:37.090Z"
   },
   {
    "duration": 4,
    "start_time": "2022-06-08T08:40:37.098Z"
   },
   {
    "duration": 20,
    "start_time": "2022-06-08T08:40:37.104Z"
   },
   {
    "duration": 5,
    "start_time": "2022-06-08T08:40:37.126Z"
   },
   {
    "duration": 6,
    "start_time": "2022-06-08T08:40:37.132Z"
   },
   {
    "duration": 7,
    "start_time": "2022-06-08T08:40:37.140Z"
   },
   {
    "duration": 8,
    "start_time": "2022-06-08T08:40:37.149Z"
   },
   {
    "duration": 3244,
    "start_time": "2022-06-08T10:00:38.827Z"
   },
   {
    "duration": 3724,
    "start_time": "2022-06-08T10:00:42.073Z"
   },
   {
    "duration": 328,
    "start_time": "2022-06-08T10:00:45.802Z"
   },
   {
    "duration": 15,
    "start_time": "2022-06-08T10:00:46.132Z"
   },
   {
    "duration": 477,
    "start_time": "2022-06-08T10:00:46.149Z"
   },
   {
    "duration": 63,
    "start_time": "2022-06-08T10:00:46.628Z"
   },
   {
    "duration": 9,
    "start_time": "2022-06-08T10:00:46.692Z"
   },
   {
    "duration": 21,
    "start_time": "2022-06-08T10:00:46.702Z"
   },
   {
    "duration": 3,
    "start_time": "2022-06-08T10:00:46.726Z"
   },
   {
    "duration": 6,
    "start_time": "2022-06-08T10:00:46.731Z"
   },
   {
    "duration": 0,
    "start_time": "2022-06-08T10:00:46.739Z"
   },
   {
    "duration": 0,
    "start_time": "2022-06-08T10:00:46.740Z"
   },
   {
    "duration": 0,
    "start_time": "2022-06-08T10:00:46.742Z"
   },
   {
    "duration": 0,
    "start_time": "2022-06-08T10:00:46.743Z"
   },
   {
    "duration": 0,
    "start_time": "2022-06-08T10:00:46.744Z"
   },
   {
    "duration": 0,
    "start_time": "2022-06-08T10:00:46.745Z"
   },
   {
    "duration": 0,
    "start_time": "2022-06-08T10:00:46.747Z"
   },
   {
    "duration": 0,
    "start_time": "2022-06-08T10:00:46.747Z"
   },
   {
    "duration": 0,
    "start_time": "2022-06-08T10:00:46.748Z"
   },
   {
    "duration": 0,
    "start_time": "2022-06-08T10:00:46.750Z"
   },
   {
    "duration": 0,
    "start_time": "2022-06-08T10:00:46.751Z"
   },
   {
    "duration": 0,
    "start_time": "2022-06-08T10:00:46.752Z"
   },
   {
    "duration": 0,
    "start_time": "2022-06-08T10:00:46.753Z"
   },
   {
    "duration": 0,
    "start_time": "2022-06-08T10:00:46.754Z"
   },
   {
    "duration": 0,
    "start_time": "2022-06-08T10:00:46.755Z"
   },
   {
    "duration": 0,
    "start_time": "2022-06-08T10:00:46.756Z"
   },
   {
    "duration": 0,
    "start_time": "2022-06-08T10:00:46.757Z"
   },
   {
    "duration": 0,
    "start_time": "2022-06-08T10:00:46.760Z"
   },
   {
    "duration": 0,
    "start_time": "2022-06-08T10:00:46.762Z"
   },
   {
    "duration": 0,
    "start_time": "2022-06-08T10:00:46.763Z"
   },
   {
    "duration": 0,
    "start_time": "2022-06-08T10:00:46.764Z"
   },
   {
    "duration": 0,
    "start_time": "2022-06-08T10:00:46.824Z"
   },
   {
    "duration": 0,
    "start_time": "2022-06-08T10:00:46.825Z"
   },
   {
    "duration": 3304,
    "start_time": "2022-06-08T10:01:10.481Z"
   },
   {
    "duration": 3355,
    "start_time": "2022-06-08T10:01:13.787Z"
   },
   {
    "duration": 310,
    "start_time": "2022-06-08T10:01:17.144Z"
   },
   {
    "duration": 10,
    "start_time": "2022-06-08T10:01:17.457Z"
   },
   {
    "duration": 364,
    "start_time": "2022-06-08T10:01:17.469Z"
   },
   {
    "duration": 71,
    "start_time": "2022-06-08T10:01:17.834Z"
   },
   {
    "duration": 18,
    "start_time": "2022-06-08T10:01:17.906Z"
   },
   {
    "duration": 4,
    "start_time": "2022-06-08T10:01:17.925Z"
   },
   {
    "duration": 7,
    "start_time": "2022-06-08T10:01:17.931Z"
   },
   {
    "duration": 14,
    "start_time": "2022-06-08T10:01:17.941Z"
   },
   {
    "duration": 10,
    "start_time": "2022-06-08T10:01:17.957Z"
   },
   {
    "duration": 18,
    "start_time": "2022-06-08T10:01:17.969Z"
   },
   {
    "duration": 11,
    "start_time": "2022-06-08T10:01:17.989Z"
   },
   {
    "duration": 8,
    "start_time": "2022-06-08T10:01:18.002Z"
   },
   {
    "duration": 7,
    "start_time": "2022-06-08T10:01:18.011Z"
   },
   {
    "duration": 0,
    "start_time": "2022-06-08T10:08:42.090Z"
   },
   {
    "duration": 8,
    "start_time": "2022-06-08T10:08:46.660Z"
   },
   {
    "duration": 2704,
    "start_time": "2022-06-08T10:08:46.669Z"
   },
   {
    "duration": 298,
    "start_time": "2022-06-08T10:08:49.375Z"
   },
   {
    "duration": 8,
    "start_time": "2022-06-08T10:08:49.676Z"
   },
   {
    "duration": 350,
    "start_time": "2022-06-08T10:08:49.685Z"
   },
   {
    "duration": 79,
    "start_time": "2022-06-08T10:08:50.045Z"
   },
   {
    "duration": 20,
    "start_time": "2022-06-08T10:08:50.126Z"
   },
   {
    "duration": 7,
    "start_time": "2022-06-08T10:08:50.148Z"
   },
   {
    "duration": 5,
    "start_time": "2022-06-08T10:08:50.157Z"
   },
   {
    "duration": 5,
    "start_time": "2022-06-08T10:08:53.240Z"
   },
   {
    "duration": 6,
    "start_time": "2022-06-08T10:08:54.458Z"
   },
   {
    "duration": 5,
    "start_time": "2022-06-08T10:08:55.366Z"
   },
   {
    "duration": 4,
    "start_time": "2022-06-08T10:09:01.496Z"
   },
   {
    "duration": 5,
    "start_time": "2022-06-08T10:09:02.679Z"
   },
   {
    "duration": 8,
    "start_time": "2022-06-08T10:09:12.322Z"
   },
   {
    "duration": 5,
    "start_time": "2022-06-08T10:09:13.615Z"
   },
   {
    "duration": 4,
    "start_time": "2022-06-08T10:09:21.768Z"
   },
   {
    "duration": 9,
    "start_time": "2022-06-08T10:09:24.419Z"
   },
   {
    "duration": 3,
    "start_time": "2022-06-08T10:09:34.482Z"
   },
   {
    "duration": 4,
    "start_time": "2022-06-08T10:09:36.646Z"
   },
   {
    "duration": 10,
    "start_time": "2022-06-08T10:09:40.332Z"
   },
   {
    "duration": 6,
    "start_time": "2022-06-08T10:09:41.931Z"
   },
   {
    "duration": 3,
    "start_time": "2022-06-08T10:09:47.606Z"
   },
   {
    "duration": 4,
    "start_time": "2022-06-08T10:09:49.087Z"
   },
   {
    "duration": 4,
    "start_time": "2022-06-08T10:10:08.863Z"
   },
   {
    "duration": 5,
    "start_time": "2022-06-08T10:10:10.168Z"
   },
   {
    "duration": 4,
    "start_time": "2022-06-08T10:10:14.456Z"
   },
   {
    "duration": 5,
    "start_time": "2022-06-08T10:10:15.669Z"
   },
   {
    "duration": 3,
    "start_time": "2022-06-08T10:10:23.040Z"
   },
   {
    "duration": 5,
    "start_time": "2022-06-08T10:10:24.314Z"
   },
   {
    "duration": 3,
    "start_time": "2022-06-08T10:10:47.539Z"
   },
   {
    "duration": 15,
    "start_time": "2022-06-08T10:10:48.932Z"
   },
   {
    "duration": 3,
    "start_time": "2022-06-08T10:10:56.390Z"
   },
   {
    "duration": 5,
    "start_time": "2022-06-08T10:10:58.077Z"
   },
   {
    "duration": 3,
    "start_time": "2022-06-08T10:11:45.463Z"
   },
   {
    "duration": 6,
    "start_time": "2022-06-08T10:11:47.189Z"
   },
   {
    "duration": 4,
    "start_time": "2022-06-08T10:14:55.973Z"
   },
   {
    "duration": 6,
    "start_time": "2022-06-08T10:14:57.412Z"
   },
   {
    "duration": 4,
    "start_time": "2022-06-08T10:15:14.811Z"
   },
   {
    "duration": 4,
    "start_time": "2022-06-08T10:15:18.427Z"
   },
   {
    "duration": 3,
    "start_time": "2022-06-08T10:15:26.771Z"
   },
   {
    "duration": 27,
    "start_time": "2022-06-08T10:15:28.547Z"
   },
   {
    "duration": 4,
    "start_time": "2022-06-08T10:15:32.892Z"
   },
   {
    "duration": 8,
    "start_time": "2022-06-08T10:15:34.891Z"
   },
   {
    "duration": 4,
    "start_time": "2022-06-08T10:16:01.597Z"
   },
   {
    "duration": 5,
    "start_time": "2022-06-08T10:16:03.027Z"
   },
   {
    "duration": 4,
    "start_time": "2022-06-08T10:16:10.540Z"
   },
   {
    "duration": 5,
    "start_time": "2022-06-08T10:16:12.268Z"
   },
   {
    "duration": 4,
    "start_time": "2022-06-08T10:16:14.467Z"
   },
   {
    "duration": 4,
    "start_time": "2022-06-08T10:16:30.253Z"
   },
   {
    "duration": 6,
    "start_time": "2022-06-08T10:16:31.685Z"
   },
   {
    "duration": 3,
    "start_time": "2022-06-08T10:17:43.203Z"
   },
   {
    "duration": 5,
    "start_time": "2022-06-08T10:17:44.762Z"
   },
   {
    "duration": 3,
    "start_time": "2022-06-08T10:18:05.610Z"
   },
   {
    "duration": 5,
    "start_time": "2022-06-08T10:18:07.195Z"
   },
   {
    "duration": 5,
    "start_time": "2022-06-08T10:20:23.298Z"
   },
   {
    "duration": 6,
    "start_time": "2022-06-08T10:20:24.769Z"
   },
   {
    "duration": 4,
    "start_time": "2022-06-08T10:20:33.618Z"
   },
   {
    "duration": 5,
    "start_time": "2022-06-08T10:20:34.994Z"
   },
   {
    "duration": 3,
    "start_time": "2022-06-08T10:21:14.498Z"
   },
   {
    "duration": 6,
    "start_time": "2022-06-08T10:21:15.873Z"
   },
   {
    "duration": 3,
    "start_time": "2022-06-08T10:21:28.089Z"
   },
   {
    "duration": 6,
    "start_time": "2022-06-08T10:21:29.553Z"
   },
   {
    "duration": 2276,
    "start_time": "2022-06-08T10:21:51.911Z"
   },
   {
    "duration": 976,
    "start_time": "2022-06-08T10:21:54.190Z"
   },
   {
    "duration": 347,
    "start_time": "2022-06-08T10:21:55.168Z"
   },
   {
    "duration": 26,
    "start_time": "2022-06-08T10:21:55.524Z"
   },
   {
    "duration": 323,
    "start_time": "2022-06-08T10:21:55.552Z"
   },
   {
    "duration": 83,
    "start_time": "2022-06-08T10:21:55.877Z"
   },
   {
    "duration": 12,
    "start_time": "2022-06-08T10:21:55.962Z"
   },
   {
    "duration": 18,
    "start_time": "2022-06-08T10:21:55.976Z"
   },
   {
    "duration": 12,
    "start_time": "2022-06-08T10:21:55.996Z"
   },
   {
    "duration": 12,
    "start_time": "2022-06-08T10:21:56.011Z"
   },
   {
    "duration": 5,
    "start_time": "2022-06-08T10:21:56.025Z"
   },
   {
    "duration": 10,
    "start_time": "2022-06-08T10:21:56.032Z"
   },
   {
    "duration": 9,
    "start_time": "2022-06-08T10:21:56.044Z"
   },
   {
    "duration": 11,
    "start_time": "2022-06-08T10:21:56.056Z"
   },
   {
    "duration": 5,
    "start_time": "2022-06-08T10:21:56.069Z"
   },
   {
    "duration": 1051382,
    "start_time": "2022-06-08T10:21:56.076Z"
   },
   {
    "duration": 6,
    "start_time": "2022-06-08T10:39:27.460Z"
   },
   {
    "duration": 155466,
    "start_time": "2022-06-08T10:39:27.468Z"
   },
   {
    "duration": 103,
    "start_time": "2022-06-08T10:42:02.936Z"
   },
   {
    "duration": 7,
    "start_time": "2022-06-08T10:42:03.041Z"
   },
   {
    "duration": 6051,
    "start_time": "2022-06-08T10:45:29.115Z"
   },
   {
    "duration": 2475,
    "start_time": "2022-06-08T10:45:35.168Z"
   },
   {
    "duration": 345,
    "start_time": "2022-06-08T10:45:37.645Z"
   },
   {
    "duration": 16,
    "start_time": "2022-06-08T10:45:37.993Z"
   },
   {
    "duration": 339,
    "start_time": "2022-06-08T10:45:38.011Z"
   },
   {
    "duration": 59,
    "start_time": "2022-06-08T10:45:38.351Z"
   },
   {
    "duration": 12,
    "start_time": "2022-06-08T10:45:38.412Z"
   },
   {
    "duration": 7,
    "start_time": "2022-06-08T10:45:38.426Z"
   },
   {
    "duration": 9,
    "start_time": "2022-06-08T10:45:38.434Z"
   },
   {
    "duration": 6,
    "start_time": "2022-06-08T10:45:38.446Z"
   },
   {
    "duration": 14,
    "start_time": "2022-06-08T10:45:38.454Z"
   },
   {
    "duration": 7,
    "start_time": "2022-06-08T10:45:38.469Z"
   },
   {
    "duration": 5,
    "start_time": "2022-06-08T10:45:38.477Z"
   },
   {
    "duration": 19,
    "start_time": "2022-06-08T10:45:38.484Z"
   },
   {
    "duration": 3,
    "start_time": "2022-06-08T10:45:38.504Z"
   },
   {
    "duration": 1033512,
    "start_time": "2022-06-08T10:45:38.524Z"
   },
   {
    "duration": 4,
    "start_time": "2022-06-08T11:02:52.037Z"
   },
   {
    "duration": 144795,
    "start_time": "2022-06-08T11:02:52.042Z"
   },
   {
    "duration": 105,
    "start_time": "2022-06-08T11:05:16.839Z"
   },
   {
    "duration": 8,
    "start_time": "2022-06-08T11:05:16.948Z"
   },
   {
    "duration": 190698,
    "start_time": "2022-06-08T11:05:16.957Z"
   },
   {
    "duration": 4,
    "start_time": "2022-06-08T11:08:27.657Z"
   },
   {
    "duration": 37265,
    "start_time": "2022-06-08T11:08:27.663Z"
   },
   {
    "duration": 2608,
    "start_time": "2022-06-08T11:09:04.930Z"
   },
   {
    "duration": 74,
    "start_time": "2022-06-08T11:09:07.541Z"
   },
   {
    "duration": 7,
    "start_time": "2022-06-08T11:09:07.617Z"
   },
   {
    "duration": 4341,
    "start_time": "2022-06-08T11:09:07.627Z"
   },
   {
    "duration": 1107271,
    "start_time": "2022-06-08T11:09:11.972Z"
   },
   {
    "duration": 30262,
    "start_time": "2022-06-08T11:27:39.245Z"
   },
   {
    "duration": 114173,
    "start_time": "2022-06-08T11:28:09.509Z"
   },
   {
    "duration": 21142,
    "start_time": "2022-06-08T11:30:03.684Z"
   },
   {
    "duration": 377,
    "start_time": "2022-06-08T11:30:24.828Z"
   },
   {
    "duration": 3557,
    "start_time": "2022-06-08T11:30:25.206Z"
   },
   {
    "duration": 41,
    "start_time": "2022-06-10T05:24:08.413Z"
   },
   {
    "duration": 33,
    "start_time": "2022-06-10T05:25:04.625Z"
   },
   {
    "duration": 1911,
    "start_time": "2022-06-10T05:39:42.342Z"
   },
   {
    "duration": 3359,
    "start_time": "2022-06-10T05:39:44.255Z"
   },
   {
    "duration": 286,
    "start_time": "2022-06-10T05:39:47.616Z"
   },
   {
    "duration": 9,
    "start_time": "2022-06-10T05:39:47.905Z"
   },
   {
    "duration": 298,
    "start_time": "2022-06-10T05:39:47.916Z"
   },
   {
    "duration": 62,
    "start_time": "2022-06-10T05:39:48.215Z"
   },
   {
    "duration": 7,
    "start_time": "2022-06-10T05:39:48.279Z"
   },
   {
    "duration": 11,
    "start_time": "2022-06-10T05:39:48.288Z"
   },
   {
    "duration": 9,
    "start_time": "2022-06-10T05:39:48.300Z"
   },
   {
    "duration": 14,
    "start_time": "2022-06-10T05:39:48.311Z"
   },
   {
    "duration": 20,
    "start_time": "2022-06-10T05:39:48.327Z"
   },
   {
    "duration": 19,
    "start_time": "2022-06-10T05:39:48.349Z"
   },
   {
    "duration": 13,
    "start_time": "2022-06-10T05:39:48.369Z"
   },
   {
    "duration": 23,
    "start_time": "2022-06-10T05:39:48.383Z"
   },
   {
    "duration": 6,
    "start_time": "2022-06-10T05:39:48.407Z"
   },
   {
    "duration": 1085460,
    "start_time": "2022-06-10T05:39:48.414Z"
   },
   {
    "duration": 8,
    "start_time": "2022-06-10T05:57:53.876Z"
   },
   {
    "duration": 63854,
    "start_time": "2022-06-10T06:01:14.315Z"
   },
   {
    "duration": 37049,
    "start_time": "2022-06-10T06:02:49.835Z"
   },
   {
    "duration": 99373,
    "start_time": "2022-06-10T06:03:48.305Z"
   },
   {
    "duration": 133994,
    "start_time": "2022-06-10T06:05:40.176Z"
   },
   {
    "duration": 775,
    "start_time": "2022-06-10T06:09:05.215Z"
   },
   {
    "duration": 75,
    "start_time": "2022-06-10T06:09:07.846Z"
   },
   {
    "duration": 8,
    "start_time": "2022-06-10T06:09:08.806Z"
   },
   {
    "duration": 5,
    "start_time": "2022-06-10T06:09:12.223Z"
   },
   {
    "duration": 4976,
    "start_time": "2022-06-10T06:09:13.572Z"
   },
   {
    "duration": 1683,
    "start_time": "2022-06-10T06:12:48.643Z"
   },
   {
    "duration": 3765,
    "start_time": "2022-06-10T06:12:50.329Z"
   },
   {
    "duration": 309,
    "start_time": "2022-06-10T06:12:54.096Z"
   },
   {
    "duration": 8,
    "start_time": "2022-06-10T06:12:54.407Z"
   },
   {
    "duration": 326,
    "start_time": "2022-06-10T06:12:54.416Z"
   },
   {
    "duration": 74,
    "start_time": "2022-06-10T06:12:54.744Z"
   },
   {
    "duration": 11,
    "start_time": "2022-06-10T06:12:54.820Z"
   },
   {
    "duration": 5,
    "start_time": "2022-06-10T06:12:54.833Z"
   },
   {
    "duration": 31,
    "start_time": "2022-06-10T06:12:54.840Z"
   },
   {
    "duration": 25,
    "start_time": "2022-06-10T06:12:54.874Z"
   },
   {
    "duration": 8,
    "start_time": "2022-06-10T06:12:54.901Z"
   },
   {
    "duration": 14,
    "start_time": "2022-06-10T06:12:54.911Z"
   },
   {
    "duration": 6,
    "start_time": "2022-06-10T06:12:54.927Z"
   },
   {
    "duration": 6,
    "start_time": "2022-06-10T06:12:54.934Z"
   },
   {
    "duration": 9,
    "start_time": "2022-06-10T06:12:54.942Z"
   },
   {
    "duration": 25,
    "start_time": "2022-06-10T06:12:54.953Z"
   },
   {
    "duration": 5,
    "start_time": "2022-06-10T06:12:54.980Z"
   },
   {
    "duration": 8,
    "start_time": "2022-06-10T06:12:54.987Z"
   },
   {
    "duration": 863,
    "start_time": "2022-06-10T06:12:54.997Z"
   },
   {
    "duration": 59,
    "start_time": "2022-06-10T06:12:55.868Z"
   },
   {
    "duration": 7,
    "start_time": "2022-06-10T06:12:55.929Z"
   },
   {
    "duration": 4678,
    "start_time": "2022-06-10T06:12:55.938Z"
   },
   {
    "duration": 1140804,
    "start_time": "2022-06-10T06:13:00.617Z"
   },
   {
    "duration": 31530,
    "start_time": "2022-06-10T06:32:41.348Z"
   },
   {
    "duration": 1179363,
    "start_time": "2022-06-10T06:33:26.756Z"
   },
   {
    "duration": 35274,
    "start_time": "2022-06-10T06:53:10.100Z"
   }
  ],
  "kernelspec": {
   "display_name": "Python 3 (ipykernel)",
   "language": "python",
   "name": "python3"
  },
  "language_info": {
   "codemirror_mode": {
    "name": "ipython",
    "version": 3
   },
   "file_extension": ".py",
   "mimetype": "text/x-python",
   "name": "python",
   "nbconvert_exporter": "python",
   "pygments_lexer": "ipython3",
   "version": "3.9.7"
  },
  "toc": {
   "base_numbering": 1,
   "nav_menu": {},
   "number_sections": true,
   "sideBar": true,
   "skip_h1_title": true,
   "title_cell": "Содержание",
   "title_sidebar": "Contents",
   "toc_cell": true,
   "toc_position": {
    "height": "calc(100% - 180px)",
    "left": "10px",
    "top": "150px",
    "width": "302.391px"
   },
   "toc_section_display": true,
   "toc_window_display": true
  }
 },
 "nbformat": 4,
 "nbformat_minor": 2
}
