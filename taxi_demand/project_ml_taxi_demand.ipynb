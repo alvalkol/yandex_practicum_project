{
 "cells": [
  {
   "cell_type": "markdown",
   "metadata": {
    "toc": true
   },
   "source": [
    "<h1>Содержание<span class=\"tocSkip\"></span></h1>\n",
    "<div class=\"toc\"><li><span><a href=\"#Подготовка\" data-toc-modified-id=\"Подготовка-1\"><span class=\"toc-item-num\">1&nbsp;&nbsp;</span>Подготовка</a></span></li><li><span><a href=\"#Анализ\" data-toc-modified-id=\"Анализ-2\"><span class=\"toc-item-num\">2&nbsp;&nbsp;</span>Анализ</a></span><ul class=\"toc-item\"><li><span><a href=\"#Вывод\" data-toc-modified-id=\"Вывод-2.1\"><span class=\"toc-item-num\">2.1&nbsp;&nbsp;</span>Вывод</a></span></li></ul></li><li><span><a href=\"#Обучение\" data-toc-modified-id=\"Обучение-3\"><span class=\"toc-item-num\">3&nbsp;&nbsp;</span>Обучение</a></span><ul class=\"toc-item\"><li><span><a href=\"#LinearRegression\" data-toc-modified-id=\"LinearRegression-3.1\"><span class=\"toc-item-num\">3.1&nbsp;&nbsp;</span>LinearRegression</a></span></li><li><span><a href=\"#RandomForest\" data-toc-modified-id=\"RandomForest-3.2\"><span class=\"toc-item-num\">3.2&nbsp;&nbsp;</span>RandomForest</a></span></li><li><span><a href=\"#CatBoost\" data-toc-modified-id=\"CatBoost-3.3\"><span class=\"toc-item-num\">3.3&nbsp;&nbsp;</span>CatBoost</a></span></li></ul></li><li><span><a href=\"#Тестирование\" data-toc-modified-id=\"Тестирование-4\"><span class=\"toc-item-num\">4&nbsp;&nbsp;</span>Тестирование</a></span></li><li><span><a href=\"#Вывод\" data-toc-modified-id=\"Вывод-5\"><span class=\"toc-item-num\">5&nbsp;&nbsp;</span>Вывод</a></span></li></ul></div>"
   ]
  },
  {
   "cell_type": "markdown",
   "metadata": {},
   "source": [
    "#  Прогнозирование заказов такси"
   ]
  },
  {
   "cell_type": "markdown",
   "metadata": {},
   "source": [
    "Компания собрала исторические данные о заказах такси в аэропортах. Чтобы привлекать больше водителей в период пиковой нагрузки, нужно спрогнозировать количество заказов такси на следующий час. Постройте модель для такого предсказания.\n",
    "\n",
    "Значение метрики *RMSE* на тестовой выборке должно быть не больше 48. Количество заказов находится в столбце `num_orders` (от англ. *number of orders*, «число заказов»)."
   ]
  },
  {
   "cell_type": "markdown",
   "metadata": {},
   "source": [
    "## Подготовка"
   ]
  },
  {
   "cell_type": "code",
   "execution_count": 1,
   "metadata": {},
   "outputs": [],
   "source": [
    "import pandas as pd\n",
    "import numpy as np\n",
    "from sklearn.linear_model import LinearRegression\n",
    "from sklearn.ensemble import RandomForestRegressor\n",
    "from sklearn.metrics import mean_squared_error\n",
    "from sklearn.model_selection import train_test_split\n",
    "from sklearn.preprocessing import StandardScaler, OrdinalEncoder\n",
    "from sklearn.ensemble import RandomForestRegressor\n",
    "from catboost import CatBoostRegressor\n",
    "from statsmodels.tsa.seasonal import seasonal_decompose\n",
    "from statsmodels.tsa.stattools import adfuller\n",
    "from sklearn.model_selection import RandomizedSearchCV\n",
    "from sklearn.model_selection import TimeSeriesSplit\n",
    "from sklearn.model_selection import cross_val_score\n",
    "\n",
    "import matplotlib.pyplot as plt\n",
    "import seaborn as sns\n",
    "\n",
    "import warnings\n",
    "warnings.filterwarnings(\"ignore\")\n",
    "                                     \n",
    "def data_view(data):\n",
    "    \n",
    "    \"\"\"\n",
    "    Функция вызвращает данные о таблице\n",
    "    \"\"\"\n",
    "    return display(data.head(),\n",
    "                   data.tail(),\n",
    "                   data.info(), \n",
    "                   data.describe(), \n",
    "                   data.isna().sum(), \n",
    "                   data.duplicated().sum()\n",
    "                  )"
   ]
  },
  {
   "cell_type": "code",
   "execution_count": 2,
   "metadata": {},
   "outputs": [],
   "source": [
    "df = pd.read_csv('/datasets/taxi.csv')"
   ]
  },
  {
   "cell_type": "code",
   "execution_count": 3,
   "metadata": {
    "scrolled": true
   },
   "outputs": [
    {
     "name": "stdout",
     "output_type": "stream",
     "text": [
      "<class 'pandas.core.frame.DataFrame'>\n",
      "RangeIndex: 26496 entries, 0 to 26495\n",
      "Data columns (total 2 columns):\n",
      " #   Column      Non-Null Count  Dtype \n",
      "---  ------      --------------  ----- \n",
      " 0   datetime    26496 non-null  object\n",
      " 1   num_orders  26496 non-null  int64 \n",
      "dtypes: int64(1), object(1)\n",
      "memory usage: 414.1+ KB\n"
     ]
    },
    {
     "data": {
      "text/html": [
       "<div>\n",
       "<style scoped>\n",
       "    .dataframe tbody tr th:only-of-type {\n",
       "        vertical-align: middle;\n",
       "    }\n",
       "\n",
       "    .dataframe tbody tr th {\n",
       "        vertical-align: top;\n",
       "    }\n",
       "\n",
       "    .dataframe thead th {\n",
       "        text-align: right;\n",
       "    }\n",
       "</style>\n",
       "<table border=\"1\" class=\"dataframe\">\n",
       "  <thead>\n",
       "    <tr style=\"text-align: right;\">\n",
       "      <th></th>\n",
       "      <th>datetime</th>\n",
       "      <th>num_orders</th>\n",
       "    </tr>\n",
       "  </thead>\n",
       "  <tbody>\n",
       "    <tr>\n",
       "      <th>0</th>\n",
       "      <td>2018-03-01 00:00:00</td>\n",
       "      <td>9</td>\n",
       "    </tr>\n",
       "    <tr>\n",
       "      <th>1</th>\n",
       "      <td>2018-03-01 00:10:00</td>\n",
       "      <td>14</td>\n",
       "    </tr>\n",
       "    <tr>\n",
       "      <th>2</th>\n",
       "      <td>2018-03-01 00:20:00</td>\n",
       "      <td>28</td>\n",
       "    </tr>\n",
       "    <tr>\n",
       "      <th>3</th>\n",
       "      <td>2018-03-01 00:30:00</td>\n",
       "      <td>20</td>\n",
       "    </tr>\n",
       "    <tr>\n",
       "      <th>4</th>\n",
       "      <td>2018-03-01 00:40:00</td>\n",
       "      <td>32</td>\n",
       "    </tr>\n",
       "  </tbody>\n",
       "</table>\n",
       "</div>"
      ],
      "text/plain": [
       "              datetime  num_orders\n",
       "0  2018-03-01 00:00:00           9\n",
       "1  2018-03-01 00:10:00          14\n",
       "2  2018-03-01 00:20:00          28\n",
       "3  2018-03-01 00:30:00          20\n",
       "4  2018-03-01 00:40:00          32"
      ]
     },
     "metadata": {},
     "output_type": "display_data"
    },
    {
     "data": {
      "text/html": [
       "<div>\n",
       "<style scoped>\n",
       "    .dataframe tbody tr th:only-of-type {\n",
       "        vertical-align: middle;\n",
       "    }\n",
       "\n",
       "    .dataframe tbody tr th {\n",
       "        vertical-align: top;\n",
       "    }\n",
       "\n",
       "    .dataframe thead th {\n",
       "        text-align: right;\n",
       "    }\n",
       "</style>\n",
       "<table border=\"1\" class=\"dataframe\">\n",
       "  <thead>\n",
       "    <tr style=\"text-align: right;\">\n",
       "      <th></th>\n",
       "      <th>datetime</th>\n",
       "      <th>num_orders</th>\n",
       "    </tr>\n",
       "  </thead>\n",
       "  <tbody>\n",
       "    <tr>\n",
       "      <th>26491</th>\n",
       "      <td>2018-08-31 23:10:00</td>\n",
       "      <td>32</td>\n",
       "    </tr>\n",
       "    <tr>\n",
       "      <th>26492</th>\n",
       "      <td>2018-08-31 23:20:00</td>\n",
       "      <td>24</td>\n",
       "    </tr>\n",
       "    <tr>\n",
       "      <th>26493</th>\n",
       "      <td>2018-08-31 23:30:00</td>\n",
       "      <td>27</td>\n",
       "    </tr>\n",
       "    <tr>\n",
       "      <th>26494</th>\n",
       "      <td>2018-08-31 23:40:00</td>\n",
       "      <td>39</td>\n",
       "    </tr>\n",
       "    <tr>\n",
       "      <th>26495</th>\n",
       "      <td>2018-08-31 23:50:00</td>\n",
       "      <td>53</td>\n",
       "    </tr>\n",
       "  </tbody>\n",
       "</table>\n",
       "</div>"
      ],
      "text/plain": [
       "                  datetime  num_orders\n",
       "26491  2018-08-31 23:10:00          32\n",
       "26492  2018-08-31 23:20:00          24\n",
       "26493  2018-08-31 23:30:00          27\n",
       "26494  2018-08-31 23:40:00          39\n",
       "26495  2018-08-31 23:50:00          53"
      ]
     },
     "metadata": {},
     "output_type": "display_data"
    },
    {
     "data": {
      "text/plain": [
       "None"
      ]
     },
     "metadata": {},
     "output_type": "display_data"
    },
    {
     "data": {
      "text/html": [
       "<div>\n",
       "<style scoped>\n",
       "    .dataframe tbody tr th:only-of-type {\n",
       "        vertical-align: middle;\n",
       "    }\n",
       "\n",
       "    .dataframe tbody tr th {\n",
       "        vertical-align: top;\n",
       "    }\n",
       "\n",
       "    .dataframe thead th {\n",
       "        text-align: right;\n",
       "    }\n",
       "</style>\n",
       "<table border=\"1\" class=\"dataframe\">\n",
       "  <thead>\n",
       "    <tr style=\"text-align: right;\">\n",
       "      <th></th>\n",
       "      <th>num_orders</th>\n",
       "    </tr>\n",
       "  </thead>\n",
       "  <tbody>\n",
       "    <tr>\n",
       "      <th>count</th>\n",
       "      <td>26496.000000</td>\n",
       "    </tr>\n",
       "    <tr>\n",
       "      <th>mean</th>\n",
       "      <td>14.070463</td>\n",
       "    </tr>\n",
       "    <tr>\n",
       "      <th>std</th>\n",
       "      <td>9.211330</td>\n",
       "    </tr>\n",
       "    <tr>\n",
       "      <th>min</th>\n",
       "      <td>0.000000</td>\n",
       "    </tr>\n",
       "    <tr>\n",
       "      <th>25%</th>\n",
       "      <td>8.000000</td>\n",
       "    </tr>\n",
       "    <tr>\n",
       "      <th>50%</th>\n",
       "      <td>13.000000</td>\n",
       "    </tr>\n",
       "    <tr>\n",
       "      <th>75%</th>\n",
       "      <td>19.000000</td>\n",
       "    </tr>\n",
       "    <tr>\n",
       "      <th>max</th>\n",
       "      <td>119.000000</td>\n",
       "    </tr>\n",
       "  </tbody>\n",
       "</table>\n",
       "</div>"
      ],
      "text/plain": [
       "         num_orders\n",
       "count  26496.000000\n",
       "mean      14.070463\n",
       "std        9.211330\n",
       "min        0.000000\n",
       "25%        8.000000\n",
       "50%       13.000000\n",
       "75%       19.000000\n",
       "max      119.000000"
      ]
     },
     "metadata": {},
     "output_type": "display_data"
    },
    {
     "data": {
      "text/plain": [
       "datetime      0\n",
       "num_orders    0\n",
       "dtype: int64"
      ]
     },
     "metadata": {},
     "output_type": "display_data"
    },
    {
     "data": {
      "text/plain": [
       "0"
      ]
     },
     "metadata": {},
     "output_type": "display_data"
    }
   ],
   "source": [
    "data_view(df)"
   ]
  },
  {
   "cell_type": "code",
   "execution_count": 4,
   "metadata": {},
   "outputs": [],
   "source": [
    "# преобразование даты в нужный формат\n",
    "df['datetime'] = df['datetime'].astype('datetime64')\n",
    "# установка даты в качестве индекса и сортировка по возрастанию\n",
    "data = df.set_index(['datetime']).sort_index()"
   ]
  },
  {
   "cell_type": "markdown",
   "metadata": {},
   "source": [
    "- Ресемплирование данных по 1 часу (суммарный колличество заказов)"
   ]
  },
  {
   "cell_type": "code",
   "execution_count": 5,
   "metadata": {},
   "outputs": [
    {
     "name": "stdout",
     "output_type": "stream",
     "text": [
      "<class 'pandas.core.frame.DataFrame'>\n",
      "DatetimeIndex: 4416 entries, 2018-03-01 00:00:00 to 2018-08-31 23:00:00\n",
      "Freq: H\n",
      "Data columns (total 1 columns):\n",
      " #   Column      Non-Null Count  Dtype\n",
      "---  ------      --------------  -----\n",
      " 0   num_orders  4416 non-null   int64\n",
      "dtypes: int64(1)\n",
      "memory usage: 69.0 KB\n"
     ]
    }
   ],
   "source": [
    "data = data.resample('1H').sum()\n",
    "data.info()"
   ]
  },
  {
   "cell_type": "markdown",
   "metadata": {},
   "source": [
    "## Анализ"
   ]
  },
  {
   "cell_type": "markdown",
   "metadata": {},
   "source": [
    "- Проверка на монотонность"
   ]
  },
  {
   "cell_type": "code",
   "execution_count": 6,
   "metadata": {},
   "outputs": [
    {
     "data": {
      "text/plain": [
       "True"
      ]
     },
     "execution_count": 6,
     "metadata": {},
     "output_type": "execute_result"
    }
   ],
   "source": [
    "data.index.is_monotonic"
   ]
  },
  {
   "cell_type": "markdown",
   "metadata": {},
   "source": [
    "- Рассмотрим тренд и сезонность"
   ]
  },
  {
   "cell_type": "code",
   "execution_count": 7,
   "metadata": {},
   "outputs": [],
   "source": [
    "decomposed = seasonal_decompose(data['num_orders'], period=24)"
   ]
  },
  {
   "cell_type": "code",
   "execution_count": 8,
   "metadata": {},
   "outputs": [
    {
     "data": {
      "text/plain": [
       "DatetimeIndex(['2018-03-01 00:00:00', '2018-03-01 01:00:00',\n",
       "               '2018-03-01 02:00:00', '2018-03-01 03:00:00',\n",
       "               '2018-03-01 04:00:00', '2018-03-01 05:00:00',\n",
       "               '2018-03-01 06:00:00', '2018-03-01 07:00:00',\n",
       "               '2018-03-01 08:00:00', '2018-03-01 09:00:00',\n",
       "               ...\n",
       "               '2018-03-30 15:00:00', '2018-03-30 16:00:00',\n",
       "               '2018-03-30 17:00:00', '2018-03-30 18:00:00',\n",
       "               '2018-03-30 19:00:00', '2018-03-30 20:00:00',\n",
       "               '2018-03-30 21:00:00', '2018-03-30 22:00:00',\n",
       "               '2018-03-30 23:00:00', '2018-03-31 00:00:00'],\n",
       "              dtype='datetime64[ns]', name='datetime', length=721, freq='H')"
      ]
     },
     "execution_count": 8,
     "metadata": {},
     "output_type": "execute_result"
    }
   ],
   "source": [
    "decomposed.seasonal['2018-03-01 00:00:00':'2018-03-31 00:00:00'].index"
   ]
  },
  {
   "cell_type": "code",
   "execution_count": 9,
   "metadata": {
    "scrolled": true
   },
   "outputs": [
    {
     "data": {
      "image/png": "[encoded data removed]",
      "text/plain": [
       "<Figure size 720x576 with 3 Axes>"
      ]
     },
     "metadata": {
      "needs_background": "light"
     },
     "output_type": "display_data"
    }
   ],
   "source": [
    "plt.figure(figsize=(10, 8))\n",
    "plt.subplot(311)\n",
    "decomposed.trend.plot()\n",
    "plt.title('Trend')\n",
    "plt.subplot(312)\n",
    "decomposed.seasonal.plot(xlim=('2018-03-01 00:00:00','2018-03-20 00:00:00'))\n",
    "plt.title('Seasonality')\n",
    "plt.subplot(313)\n",
    "decomposed.resid.plot()\n",
    "plt.title('Residuals')\n",
    "plt.tight_layout()"
   ]
  },
  {
   "cell_type": "markdown",
   "metadata": {},
   "source": [
    "- Тест Дики-Фуллера"
   ]
  },
  {
   "cell_type": "code",
   "execution_count": 10,
   "metadata": {},
   "outputs": [
    {
     "name": "stdout",
     "output_type": "stream",
     "text": [
      "Критерий ADF: -3.068924\n",
      "P-значение: 0.028940\n",
      "Критические значения:\n",
      "-2.8621993540813637\n",
      "Нулевая гипотеза не отвергнута – Временной ряд не стационарен\n"
     ]
    }
   ],
   "source": [
    "result = adfuller(data['num_orders'], autolag='AIC')\n",
    "\n",
    "print('Критерий ADF: %f' % result[0])\n",
    "print('P-значение: %f' % result[1])\n",
    "print('Критические значения:')\n",
    "print(result[4][\"5%\"])\n",
    "\n",
    "if result[0] > result[4][\"5%\"]:\n",
    "    print (\"Нулевая гипотеза отвергнута – Временной ряд стационарен\")\n",
    "else:\n",
    "    print (\"Нулевая гипотеза не отвергнута – Временной ряд не стационарен\")"
   ]
  },
  {
   "cell_type": "markdown",
   "metadata": {},
   "source": [
    "### Вывод"
   ]
  },
  {
   "cell_type": "markdown",
   "metadata": {},
   "source": [
    "**- Ряд непрерывный и монотонный. Даты с 2018-03-01 по 2018-08-31**\n",
    "\n",
    "**- Декомпозиция ряда и тест Дики-Фуллера показали, что ряд не стационарен**"
   ]
  },
  {
   "cell_type": "markdown",
   "metadata": {},
   "source": [
    "## Обучение"
   ]
  },
  {
   "cell_type": "markdown",
   "metadata": {},
   "source": [
    "- Добавим признаки для обучения модели"
   ]
  },
  {
   "cell_type": "code",
   "execution_count": 11,
   "metadata": {},
   "outputs": [],
   "source": [
    "def make_features(data, max_lag, rolling_mean_size):\n",
    "    \n",
    "    X_train = pd.DataFrame(data['num_orders'], index=data.index)\n",
    "    X_train['year'] = X_train.index.year\n",
    "    X_train['month'] = X_train.index.month\n",
    "    X_train['day'] = X_train.index.day\n",
    "    X_train['dayofweek'] = X_train.index.dayofweek\n",
    "    \n",
    "    for lag in range(1, max_lag + 1):\n",
    "        X_train['lag_{}'.format(lag)] = X_train['num_orders'].shift(lag)\n",
    "\n",
    "    X_train['rolling_mean'] = X_train['num_orders'].rolling(rolling_mean_size, closed='left').mean()\n",
    "    \n",
    "    return X_train"
   ]
  },
  {
   "cell_type": "markdown",
   "metadata": {},
   "source": [
    "- Разделим данные на обучающую и тестовую выборки"
   ]
  },
  {
   "cell_type": "code",
   "execution_count": 12,
   "metadata": {},
   "outputs": [],
   "source": [
    "train, test = train_test_split(data, shuffle=False, test_size=0.1)"
   ]
  },
  {
   "cell_type": "markdown",
   "metadata": {},
   "source": [
    "### LinearRegression"
   ]
  },
  {
   "cell_type": "markdown",
   "metadata": {},
   "source": [
    "- Подбираем `lag` и `rolling_size`"
   ]
  },
  {
   "cell_type": "code",
   "execution_count": 13,
   "metadata": {},
   "outputs": [],
   "source": [
    "def lag_roll_param(model):   \n",
    "    \n",
    "    mean_score = 31\n",
    "\n",
    "    for max_lag in range(2, 36, 2):\n",
    "        for rolling_mean_size in range(1, 5):\n",
    "\n",
    "            X_train = make_features(train, max_lag, rolling_mean_size)\n",
    "\n",
    "            features = X_train.dropna().drop('num_orders', axis=1)\n",
    "            target = X_train.dropna()['num_orders']\n",
    "\n",
    "            score = np.mean(cross_val_score(model, \n",
    "                                          features, \n",
    "                                          target, \n",
    "                                          cv=TimeSeriesSplit(), \n",
    "                                          scoring='neg_root_mean_squared_error'))\n",
    "            if round(-score, 1) < mean_score:\n",
    "                mean_score = -score\n",
    "                lag, rolling_size = max_lag, rolling_mean_size\n",
    "\n",
    "    print(\n",
    "        f'max_lag, rolling_mean_size: {lag, rolling_size}' + '\\n'\n",
    "        + f'best_score = {mean_score}'\n",
    "    )"
   ]
  },
  {
   "cell_type": "code",
   "execution_count": null,
   "metadata": {},
   "outputs": [],
   "source": [
    "lag_roll_param(LinearRegression())"
   ]
  },
  {
   "cell_type": "markdown",
   "metadata": {},
   "source": [
    "- Определяем точность модели на тренировочной выборке с учетом `lag` и `rolling_size`"
   ]
  },
  {
   "cell_type": "code",
   "execution_count": 14,
   "metadata": {},
   "outputs": [],
   "source": [
    "def original_data(data, max_lag, rolling_mean_size):\n",
    "    \n",
    "    X_train = make_features(train, max_lag, rolling_mean_size)\n",
    "\n",
    "    train_features = X_train.dropna().drop('num_orders', axis=1)\n",
    "    train_target = X_train.dropna()['num_orders']\n",
    "    \n",
    "    return train_features, train_target"
   ]
  },
  {
   "cell_type": "code",
   "execution_count": 15,
   "metadata": {
    "scrolled": true
   },
   "outputs": [
    {
     "data": {
      "text/plain": [
       "25.26189737517972"
      ]
     },
     "execution_count": 15,
     "metadata": {},
     "output_type": "execute_result"
    }
   ],
   "source": [
    "train_features, train_target = original_data(train, 30, 1)\n",
    "\n",
    "scaler = StandardScaler()\n",
    "scaler.fit(train_features)\n",
    "\n",
    "model = LinearRegression()\n",
    "model.fit(scaler.transform(train_features), train_target)\n",
    "pred_train = model.predict(scaler.transform(train_features))\n",
    "\n",
    "mean_squared_error(train_target, pred_train, squared=False)"
   ]
  },
  {
   "cell_type": "markdown",
   "metadata": {},
   "source": [
    "**- Будем отталкиваться от этого показателя для `LinearRegression`**"
   ]
  },
  {
   "cell_type": "markdown",
   "metadata": {},
   "source": [
    "### RandomForest"
   ]
  },
  {
   "cell_type": "markdown",
   "metadata": {},
   "source": [
    "- Подбираем `lag` и `rolling_size` на параметрах модели по умолчанию"
   ]
  },
  {
   "cell_type": "code",
   "execution_count": null,
   "metadata": {},
   "outputs": [],
   "source": [
    "lag_roll_param(RandomForestRegressor())"
   ]
  },
  {
   "cell_type": "markdown",
   "metadata": {},
   "source": [
    "- Определяем оптимально значение гиперпараметров для случайного леса"
   ]
  },
  {
   "cell_type": "code",
   "execution_count": null,
   "metadata": {},
   "outputs": [],
   "source": [
    "train_features, train_target = original_data(train, 34, 4)\n",
    "\n",
    "n_estimators = [int(x) for x in np.linspace(start = 100, stop = 1000, num = 50)]\n",
    "max_features = ['log2', 'sqrt']\n",
    "max_depth = [int(x) for x in np.linspace(start = 1, stop = 15, num = 15)]\n",
    "min_samples_split = [int(x) for x in np.linspace(start = 2, stop = 50, num = 10)]\n",
    "min_samples_leaf = [int(x) for x in np.linspace(start = 2, stop = 50, num = 10)]\n",
    "bootstrap = [True, False]\n",
    "\n",
    "param_dist = {'n_estimators': n_estimators,\n",
    "              'max_features': max_features,\n",
    "              'max_depth': max_depth,\n",
    "              'min_samples_split': min_samples_split,\n",
    "              'min_samples_leaf': min_samples_leaf,\n",
    "              'bootstrap': bootstrap}\n",
    "\n",
    "        \n",
    "model = RandomForestRegressor(random_state=12345)\n",
    "                \n",
    "rs = RandomizedSearchCV(model, \n",
    "                        param_dist,\n",
    "                        n_iter=25,\n",
    "                        cv=TimeSeriesSplit(),\n",
    "                        scoring='neg_root_mean_squared_error',\n",
    "                        random_state=0)\n",
    "\n",
    "rs.fit(train_features, train_target)\n",
    "\n",
    "print(rs.best_params_)\n",
    "print('RMSE:', rs.best_score_)"
   ]
  },
  {
   "cell_type": "markdown",
   "metadata": {},
   "source": [
    "### CatBoost"
   ]
  },
  {
   "cell_type": "markdown",
   "metadata": {},
   "source": [
    "- Подбираем `lag` и `rolling_size` на параметрах модели по умолчанию"
   ]
  },
  {
   "cell_type": "code",
   "execution_count": null,
   "metadata": {},
   "outputs": [],
   "source": [
    "lag_roll_param(CatBoostRegressor(loss_function='RMSE'))"
   ]
  },
  {
   "cell_type": "markdown",
   "metadata": {},
   "source": [
    "- Определяем оптимально значение гиперпараметров"
   ]
  },
  {
   "cell_type": "code",
   "execution_count": null,
   "metadata": {},
   "outputs": [],
   "source": [
    "train_features, train_target = original_data(train, 28, 1)\n",
    "\n",
    "grid = {'learning_rate': [0.03, 0.1, 0.13],\n",
    "        'depth': [4, 6, 10, 12],\n",
    "        'l2_leaf_reg': [1, 3, 5, 7, 9]}\n",
    "\n",
    "        \n",
    "model = CatBoostRegressor(loss_function='RMSE', \n",
    "                          random_state=12345)\n",
    "        \n",
    "train_data = train_features\n",
    "train_labels = train_target\n",
    "        \n",
    "randomized_search_result = model.randomized_search(grid,\n",
    "                                                   cv=TimeSeriesSplit(),\n",
    "                                                    X=train_data,\n",
    "                                                    y=train_labels,\n",
    "                                                    n_iter=10,\n",
    "                                                    shuffle=False,\n",
    "                                                    verbose=False)\n",
    "\n",
    "randomized_search_result"
   ]
  },
  {
   "cell_type": "markdown",
   "metadata": {},
   "source": [
    "## Тестирование"
   ]
  },
  {
   "cell_type": "code",
   "execution_count": 16,
   "metadata": {},
   "outputs": [],
   "source": [
    "train, test = train_test_split(data, shuffle=False, test_size=0.1)"
   ]
  },
  {
   "cell_type": "markdown",
   "metadata": {},
   "source": [
    "- `LinearRegression`"
   ]
  },
  {
   "cell_type": "code",
   "execution_count": 17,
   "metadata": {},
   "outputs": [],
   "source": [
    "train_features, train_target = original_data(train, 30, 1)"
   ]
  },
  {
   "cell_type": "code",
   "execution_count": 18,
   "metadata": {},
   "outputs": [],
   "source": [
    "X_test = make_features(test, 30, 1)\n",
    "\n",
    "test_features = X_test.dropna().drop('num_orders', axis=1)\n",
    "test_target = X_test.dropna()['num_orders']"
   ]
  },
  {
   "cell_type": "code",
   "execution_count": 19,
   "metadata": {},
   "outputs": [
    {
     "data": {
      "text/plain": [
       "47.25492005994841"
      ]
     },
     "execution_count": 19,
     "metadata": {},
     "output_type": "execute_result"
    }
   ],
   "source": [
    "scaler = StandardScaler()\n",
    "scaler.fit(train_features)\n",
    "\n",
    "model = LinearRegression()\n",
    "model.fit(scaler.transform(train_features), train_target)\n",
    "pred_test = model.predict(scaler.transform(test_features))\n",
    "\n",
    "mean_squared_error(test_target, pred_test, squared=False)"
   ]
  },
  {
   "cell_type": "code",
   "execution_count": 20,
   "metadata": {},
   "outputs": [
    {
     "data": {
      "text/plain": [
       "<AxesSubplot:xlabel='datetime'>"
      ]
     },
     "execution_count": 20,
     "metadata": {},
     "output_type": "execute_result"
    },
    {
     "data": {
      "image/png": "[encoded data removed]",
      "text/plain": [
       "<Figure size 720x432 with 1 Axes>"
      ]
     },
     "metadata": {
      "needs_background": "light"
     },
     "output_type": "display_data"
    }
   ],
   "source": [
    "d = {'test': test_target.values , 'pred': pred_test}\n",
    "pd.DataFrame(data=d, index=test_target.index).plot(figsize=(10, 6))"
   ]
  },
  {
   "cell_type": "markdown",
   "metadata": {},
   "source": [
    "- `RandomForestRegressor`"
   ]
  },
  {
   "cell_type": "code",
   "execution_count": 21,
   "metadata": {},
   "outputs": [],
   "source": [
    "train_features, train_target = original_data(train, 34, 4)"
   ]
  },
  {
   "cell_type": "code",
   "execution_count": 22,
   "metadata": {},
   "outputs": [],
   "source": [
    "X_test = make_features(test, 34, 4)\n",
    "\n",
    "test_features = X_test.dropna().drop('num_orders', axis=1)\n",
    "test_target = X_test.dropna()['num_orders']"
   ]
  },
  {
   "cell_type": "code",
   "execution_count": 23,
   "metadata": {},
   "outputs": [
    {
     "data": {
      "text/plain": [
       "47.2084839420964"
      ]
     },
     "execution_count": 23,
     "metadata": {},
     "output_type": "execute_result"
    }
   ],
   "source": [
    "model = RandomForestRegressor(n_estimators=155, \n",
    "                              min_samples_split=18, \n",
    "                              min_samples_leaf=7,\n",
    "                              max_features='sqrt', \n",
    "                              max_depth=11,\n",
    "                              bootstrap=False,\n",
    "                              random_state=12345)\n",
    "model.fit(train_features, train_target)\n",
    "pred_test = model.predict(test_features)\n",
    "\n",
    "mean_squared_error(test_target, pred_test, squared=False)"
   ]
  },
  {
   "cell_type": "code",
   "execution_count": 24,
   "metadata": {},
   "outputs": [
    {
     "data": {
      "text/plain": [
       "<AxesSubplot:xlabel='datetime'>"
      ]
     },
     "execution_count": 24,
     "metadata": {},
     "output_type": "execute_result"
    },
    {
     "data": {
      "image/png": "[encoded data removed]",
      "text/plain": [
       "<Figure size 720x432 with 1 Axes>"
      ]
     },
     "metadata": {
      "needs_background": "light"
     },
     "output_type": "display_data"
    }
   ],
   "source": [
    "d = {'test': test_target.values , 'pred': pred_test}\n",
    "pd.DataFrame(data=d, index=test_target.index).plot(figsize=(10, 6))"
   ]
  },
  {
   "cell_type": "markdown",
   "metadata": {},
   "source": [
    "- `CatBoostRegressor`"
   ]
  },
  {
   "cell_type": "code",
   "execution_count": 25,
   "metadata": {},
   "outputs": [],
   "source": [
    "train_features, train_target = original_data(train, 28, 1)"
   ]
  },
  {
   "cell_type": "code",
   "execution_count": 26,
   "metadata": {},
   "outputs": [],
   "source": [
    "X_test = make_features(test, 28, 1)\n",
    "\n",
    "test_features = X_test.dropna().drop('num_orders', axis=1)\n",
    "test_target = X_test.dropna()['num_orders']"
   ]
  },
  {
   "cell_type": "code",
   "execution_count": 27,
   "metadata": {
    "scrolled": true
   },
   "outputs": [
    {
     "name": "stdout",
     "output_type": "stream",
     "text": [
      "0:\tlearn: 36.9086673\ttotal: 56ms\tremaining: 55.9s\n",
      "1:\tlearn: 35.4092311\ttotal: 62.1ms\tremaining: 31s\n",
      "2:\tlearn: 34.0415982\ttotal: 68.6ms\tremaining: 22.8s\n",
      "3:\tlearn: 32.8630483\ttotal: 74.5ms\tremaining: 18.6s\n",
      "4:\tlearn: 31.7885180\ttotal: 80.4ms\tremaining: 16s\n",
      "5:\tlearn: 30.8464607\ttotal: 86.1ms\tremaining: 14.3s\n",
      "6:\tlearn: 30.0631345\ttotal: 92.2ms\tremaining: 13.1s\n",
      "7:\tlearn: 29.3924757\ttotal: 98.2ms\tremaining: 12.2s\n",
      "8:\tlearn: 28.7997108\ttotal: 104ms\tremaining: 11.5s\n",
      "9:\tlearn: 28.2586078\ttotal: 110ms\tremaining: 10.9s\n",
      "10:\tlearn: 27.7535514\ttotal: 116ms\tremaining: 10.5s\n",
      "11:\tlearn: 27.3065333\ttotal: 123ms\tremaining: 10.1s\n",
      "12:\tlearn: 26.8799562\ttotal: 129ms\tremaining: 9.77s\n",
      "13:\tlearn: 26.5569522\ttotal: 135ms\tremaining: 9.48s\n",
      "14:\tlearn: 26.2393710\ttotal: 141ms\tremaining: 9.25s\n",
      "15:\tlearn: 25.9843140\ttotal: 148ms\tremaining: 9.09s\n",
      "16:\tlearn: 25.7273427\ttotal: 154ms\tremaining: 8.93s\n",
      "17:\tlearn: 25.4527745\ttotal: 162ms\tremaining: 8.86s\n",
      "18:\tlearn: 25.2675046\ttotal: 169ms\tremaining: 8.72s\n",
      "19:\tlearn: 25.0509740\ttotal: 175ms\tremaining: 8.59s\n",
      "20:\tlearn: 24.8776973\ttotal: 182ms\tremaining: 8.5s\n",
      "21:\tlearn: 24.7035903\ttotal: 189ms\tremaining: 8.39s\n",
      "22:\tlearn: 24.5597142\ttotal: 195ms\tremaining: 8.28s\n",
      "23:\tlearn: 24.4156304\ttotal: 201ms\tremaining: 8.19s\n",
      "24:\tlearn: 24.2802865\ttotal: 207ms\tremaining: 8.09s\n",
      "25:\tlearn: 24.1194809\ttotal: 213ms\tremaining: 7.99s\n",
      "26:\tlearn: 24.0256265\ttotal: 219ms\tremaining: 7.9s\n",
      "27:\tlearn: 23.9072229\ttotal: 225ms\tremaining: 7.81s\n",
      "28:\tlearn: 23.8073696\ttotal: 231ms\tremaining: 7.75s\n",
      "29:\tlearn: 23.7191876\ttotal: 237ms\tremaining: 7.67s\n",
      "30:\tlearn: 23.6117332\ttotal: 243ms\tremaining: 7.59s\n",
      "31:\tlearn: 23.5045294\ttotal: 249ms\tremaining: 7.53s\n",
      "32:\tlearn: 23.3846598\ttotal: 255ms\tremaining: 7.47s\n",
      "33:\tlearn: 23.3025260\ttotal: 262ms\tremaining: 7.46s\n",
      "34:\tlearn: 23.2150655\ttotal: 269ms\tremaining: 7.41s\n",
      "35:\tlearn: 23.1152952\ttotal: 275ms\tremaining: 7.36s\n",
      "36:\tlearn: 23.0001775\ttotal: 281ms\tremaining: 7.31s\n",
      "37:\tlearn: 22.9357029\ttotal: 287ms\tremaining: 7.25s\n",
      "38:\tlearn: 22.8555747\ttotal: 293ms\tremaining: 7.21s\n",
      "39:\tlearn: 22.7899458\ttotal: 299ms\tremaining: 7.17s\n",
      "40:\tlearn: 22.6804224\ttotal: 305ms\tremaining: 7.13s\n",
      "41:\tlearn: 22.6106864\ttotal: 310ms\tremaining: 7.08s\n",
      "42:\tlearn: 22.5557882\ttotal: 316ms\tremaining: 7.04s\n",
      "43:\tlearn: 22.5051236\ttotal: 322ms\tremaining: 7s\n",
      "44:\tlearn: 22.4483816\ttotal: 328ms\tremaining: 6.97s\n",
      "45:\tlearn: 22.3855012\ttotal: 335ms\tremaining: 6.94s\n",
      "46:\tlearn: 22.3237978\ttotal: 340ms\tremaining: 6.9s\n",
      "47:\tlearn: 22.2632248\ttotal: 346ms\tremaining: 6.86s\n",
      "48:\tlearn: 22.2017668\ttotal: 352ms\tremaining: 6.83s\n",
      "49:\tlearn: 22.1620192\ttotal: 358ms\tremaining: 6.8s\n",
      "50:\tlearn: 22.1032716\ttotal: 363ms\tremaining: 6.76s\n",
      "51:\tlearn: 22.0483550\ttotal: 370ms\tremaining: 6.75s\n",
      "52:\tlearn: 22.0052665\ttotal: 377ms\tremaining: 6.74s\n",
      "53:\tlearn: 21.9581697\ttotal: 384ms\tremaining: 6.73s\n",
      "54:\tlearn: 21.8939849\ttotal: 390ms\tremaining: 6.7s\n",
      "55:\tlearn: 21.8287370\ttotal: 396ms\tremaining: 6.67s\n",
      "56:\tlearn: 21.7430783\ttotal: 402ms\tremaining: 6.65s\n",
      "57:\tlearn: 21.6618926\ttotal: 408ms\tremaining: 6.63s\n",
      "58:\tlearn: 21.6061249\ttotal: 415ms\tremaining: 6.62s\n",
      "59:\tlearn: 21.5532541\ttotal: 422ms\tremaining: 6.61s\n",
      "60:\tlearn: 21.4913897\ttotal: 428ms\tremaining: 6.59s\n",
      "61:\tlearn: 21.4180627\ttotal: 434ms\tremaining: 6.57s\n",
      "62:\tlearn: 21.3762674\ttotal: 440ms\tremaining: 6.55s\n",
      "63:\tlearn: 21.3316257\ttotal: 446ms\tremaining: 6.52s\n",
      "64:\tlearn: 21.2519029\ttotal: 452ms\tremaining: 6.5s\n",
      "65:\tlearn: 21.2041080\ttotal: 458ms\tremaining: 6.48s\n",
      "66:\tlearn: 21.1735665\ttotal: 464ms\tremaining: 6.46s\n",
      "67:\tlearn: 21.1072403\ttotal: 470ms\tremaining: 6.44s\n",
      "68:\tlearn: 21.0399134\ttotal: 477ms\tremaining: 6.43s\n",
      "69:\tlearn: 21.0000914\ttotal: 483ms\tremaining: 6.42s\n",
      "70:\tlearn: 20.9441835\ttotal: 489ms\tremaining: 6.4s\n",
      "71:\tlearn: 20.8822544\ttotal: 496ms\tremaining: 6.39s\n",
      "72:\tlearn: 20.8550598\ttotal: 502ms\tremaining: 6.37s\n",
      "73:\tlearn: 20.7808605\ttotal: 508ms\tremaining: 6.36s\n",
      "74:\tlearn: 20.7467091\ttotal: 514ms\tremaining: 6.33s\n",
      "75:\tlearn: 20.6798007\ttotal: 520ms\tremaining: 6.32s\n",
      "76:\tlearn: 20.6223609\ttotal: 525ms\tremaining: 6.3s\n",
      "77:\tlearn: 20.5420144\ttotal: 531ms\tremaining: 6.27s\n",
      "78:\tlearn: 20.4838512\ttotal: 537ms\tremaining: 6.26s\n",
      "79:\tlearn: 20.4158087\ttotal: 543ms\tremaining: 6.24s\n",
      "80:\tlearn: 20.3635201\ttotal: 548ms\tremaining: 6.22s\n",
      "81:\tlearn: 20.2797372\ttotal: 554ms\tremaining: 6.2s\n",
      "82:\tlearn: 20.2359975\ttotal: 560ms\tremaining: 6.18s\n",
      "83:\tlearn: 20.2066832\ttotal: 565ms\tremaining: 6.17s\n",
      "84:\tlearn: 20.1572706\ttotal: 571ms\tremaining: 6.15s\n",
      "85:\tlearn: 20.1188299\ttotal: 577ms\tremaining: 6.13s\n",
      "86:\tlearn: 20.0420235\ttotal: 583ms\tremaining: 6.12s\n",
      "87:\tlearn: 19.9986413\ttotal: 589ms\tremaining: 6.11s\n",
      "88:\tlearn: 19.9523271\ttotal: 595ms\tremaining: 6.09s\n",
      "89:\tlearn: 19.8840867\ttotal: 602ms\tremaining: 6.08s\n",
      "90:\tlearn: 19.8455472\ttotal: 608ms\tremaining: 6.07s\n",
      "91:\tlearn: 19.8044183\ttotal: 614ms\tremaining: 6.06s\n",
      "92:\tlearn: 19.7576844\ttotal: 621ms\tremaining: 6.06s\n",
      "93:\tlearn: 19.7304369\ttotal: 627ms\tremaining: 6.04s\n",
      "94:\tlearn: 19.6876816\ttotal: 633ms\tremaining: 6.03s\n",
      "95:\tlearn: 19.6537733\ttotal: 639ms\tremaining: 6.01s\n",
      "96:\tlearn: 19.5958869\ttotal: 645ms\tremaining: 6s\n",
      "97:\tlearn: 19.5311691\ttotal: 651ms\tremaining: 5.99s\n",
      "98:\tlearn: 19.4874609\ttotal: 656ms\tremaining: 5.97s\n",
      "99:\tlearn: 19.4079288\ttotal: 662ms\tremaining: 5.96s\n",
      "100:\tlearn: 19.3484004\ttotal: 668ms\tremaining: 5.95s\n",
      "101:\tlearn: 19.2994175\ttotal: 674ms\tremaining: 5.93s\n",
      "102:\tlearn: 19.2293118\ttotal: 680ms\tremaining: 5.92s\n",
      "103:\tlearn: 19.1572318\ttotal: 686ms\tremaining: 5.91s\n",
      "104:\tlearn: 19.1020418\ttotal: 692ms\tremaining: 5.9s\n",
      "105:\tlearn: 19.0672380\ttotal: 699ms\tremaining: 5.89s\n",
      "106:\tlearn: 19.0212905\ttotal: 705ms\tremaining: 5.88s\n",
      "107:\tlearn: 18.9730830\ttotal: 711ms\tremaining: 5.87s\n",
      "108:\tlearn: 18.8951866\ttotal: 717ms\tremaining: 5.86s\n",
      "109:\tlearn: 18.8437137\ttotal: 724ms\tremaining: 5.86s\n",
      "110:\tlearn: 18.7928271\ttotal: 730ms\tremaining: 5.85s\n",
      "111:\tlearn: 18.7706333\ttotal: 736ms\tremaining: 5.84s\n",
      "112:\tlearn: 18.7226757\ttotal: 744ms\tremaining: 5.84s\n",
      "113:\tlearn: 18.6625098\ttotal: 750ms\tremaining: 5.83s\n",
      "114:\tlearn: 18.6204828\ttotal: 756ms\tremaining: 5.82s\n",
      "115:\tlearn: 18.6137251\ttotal: 762ms\tremaining: 5.81s\n",
      "116:\tlearn: 18.5598691\ttotal: 768ms\tremaining: 5.8s\n",
      "117:\tlearn: 18.5136418\ttotal: 775ms\tremaining: 5.79s\n",
      "118:\tlearn: 18.4329028\ttotal: 782ms\tremaining: 5.79s\n",
      "119:\tlearn: 18.3922070\ttotal: 788ms\tremaining: 5.78s\n",
      "120:\tlearn: 18.3423198\ttotal: 794ms\tremaining: 5.77s\n",
      "121:\tlearn: 18.2961260\ttotal: 800ms\tremaining: 5.76s\n",
      "122:\tlearn: 18.2578013\ttotal: 806ms\tremaining: 5.75s\n",
      "123:\tlearn: 18.2100665\ttotal: 812ms\tremaining: 5.74s\n",
      "124:\tlearn: 18.1550600\ttotal: 819ms\tremaining: 5.73s\n",
      "125:\tlearn: 18.1239345\ttotal: 825ms\tremaining: 5.72s\n",
      "126:\tlearn: 18.0919835\ttotal: 832ms\tremaining: 5.72s\n",
      "127:\tlearn: 18.0596959\ttotal: 838ms\tremaining: 5.71s\n",
      "128:\tlearn: 18.0190014\ttotal: 845ms\tremaining: 5.7s\n",
      "129:\tlearn: 17.9790321\ttotal: 852ms\tremaining: 5.7s\n",
      "130:\tlearn: 17.9369875\ttotal: 860ms\tremaining: 5.7s\n",
      "131:\tlearn: 17.8965808\ttotal: 867ms\tremaining: 5.7s\n",
      "132:\tlearn: 17.8301693\ttotal: 873ms\tremaining: 5.69s\n",
      "133:\tlearn: 17.7920853\ttotal: 879ms\tremaining: 5.68s\n",
      "134:\tlearn: 17.7489688\ttotal: 886ms\tremaining: 5.68s\n",
      "135:\tlearn: 17.6905448\ttotal: 892ms\tremaining: 5.67s\n",
      "136:\tlearn: 17.6434874\ttotal: 899ms\tremaining: 5.66s\n",
      "137:\tlearn: 17.5944328\ttotal: 906ms\tremaining: 5.66s\n",
      "138:\tlearn: 17.5695222\ttotal: 912ms\tremaining: 5.65s\n",
      "139:\tlearn: 17.5640178\ttotal: 918ms\tremaining: 5.64s\n",
      "140:\tlearn: 17.5165212\ttotal: 925ms\tremaining: 5.63s\n",
      "141:\tlearn: 17.4760468\ttotal: 931ms\tremaining: 5.62s\n",
      "142:\tlearn: 17.4322599\ttotal: 937ms\tremaining: 5.61s\n",
      "143:\tlearn: 17.3922718\ttotal: 943ms\tremaining: 5.61s\n",
      "144:\tlearn: 17.3537186\ttotal: 949ms\tremaining: 5.6s\n",
      "145:\tlearn: 17.3186456\ttotal: 955ms\tremaining: 5.59s\n",
      "146:\tlearn: 17.2764636\ttotal: 961ms\tremaining: 5.58s\n",
      "147:\tlearn: 17.2503807\ttotal: 967ms\tremaining: 5.57s\n",
      "148:\tlearn: 17.2110933\ttotal: 973ms\tremaining: 5.56s\n",
      "149:\tlearn: 17.1758404\ttotal: 980ms\tremaining: 5.55s\n",
      "150:\tlearn: 17.1240750\ttotal: 986ms\tremaining: 5.54s\n",
      "151:\tlearn: 17.0763048\ttotal: 992ms\tremaining: 5.53s\n",
      "152:\tlearn: 17.0576997\ttotal: 998ms\tremaining: 5.52s\n",
      "153:\tlearn: 17.0058863\ttotal: 1s\tremaining: 5.52s\n",
      "154:\tlearn: 16.9700599\ttotal: 1.01s\tremaining: 5.51s\n",
      "155:\tlearn: 16.9275634\ttotal: 1.02s\tremaining: 5.5s\n",
      "156:\tlearn: 16.8950436\ttotal: 1.02s\tremaining: 5.49s\n",
      "157:\tlearn: 16.8576734\ttotal: 1.03s\tremaining: 5.49s\n",
      "158:\tlearn: 16.8309216\ttotal: 1.04s\tremaining: 5.49s\n",
      "159:\tlearn: 16.8212397\ttotal: 1.04s\tremaining: 5.47s\n",
      "160:\tlearn: 16.7873362\ttotal: 1.05s\tremaining: 5.47s\n",
      "161:\tlearn: 16.7435843\ttotal: 1.05s\tremaining: 5.46s\n",
      "162:\tlearn: 16.7102458\ttotal: 1.06s\tremaining: 5.45s\n",
      "163:\tlearn: 16.6737302\ttotal: 1.07s\tremaining: 5.44s\n",
      "164:\tlearn: 16.6414192\ttotal: 1.07s\tremaining: 5.43s\n",
      "165:\tlearn: 16.6373258\ttotal: 1.08s\tremaining: 5.42s\n",
      "166:\tlearn: 16.5902607\ttotal: 1.08s\tremaining: 5.41s\n",
      "167:\tlearn: 16.5627705\ttotal: 1.09s\tremaining: 5.41s\n",
      "168:\tlearn: 16.5302297\ttotal: 1.1s\tremaining: 5.4s\n",
      "169:\tlearn: 16.4931534\ttotal: 1.1s\tremaining: 5.39s\n",
      "170:\tlearn: 16.4577338\ttotal: 1.11s\tremaining: 5.38s\n",
      "171:\tlearn: 16.4151456\ttotal: 1.12s\tremaining: 5.38s\n",
      "172:\tlearn: 16.3836981\ttotal: 1.12s\tremaining: 5.37s\n",
      "173:\tlearn: 16.3715720\ttotal: 1.13s\tremaining: 5.36s\n",
      "174:\tlearn: 16.3441057\ttotal: 1.13s\tremaining: 5.35s\n",
      "175:\tlearn: 16.3204713\ttotal: 1.14s\tremaining: 5.36s\n",
      "176:\tlearn: 16.2693820\ttotal: 1.15s\tremaining: 5.36s\n",
      "177:\tlearn: 16.2183636\ttotal: 1.16s\tremaining: 5.36s\n",
      "178:\tlearn: 16.1936092\ttotal: 1.17s\tremaining: 5.35s\n",
      "179:\tlearn: 16.1587164\ttotal: 1.17s\tremaining: 5.34s\n",
      "180:\tlearn: 16.1257728\ttotal: 1.18s\tremaining: 5.33s\n",
      "181:\tlearn: 16.0908790\ttotal: 1.19s\tremaining: 5.33s\n",
      "182:\tlearn: 16.0622695\ttotal: 1.19s\tremaining: 5.32s\n",
      "183:\tlearn: 16.0387438\ttotal: 1.2s\tremaining: 5.31s\n",
      "184:\tlearn: 16.0181913\ttotal: 1.2s\tremaining: 5.3s\n",
      "185:\tlearn: 15.9829846\ttotal: 1.21s\tremaining: 5.29s\n",
      "186:\tlearn: 15.9481317\ttotal: 1.22s\tremaining: 5.29s\n",
      "187:\tlearn: 15.9245674\ttotal: 1.22s\tremaining: 5.28s\n",
      "188:\tlearn: 15.8896810\ttotal: 1.23s\tremaining: 5.27s\n",
      "189:\tlearn: 15.8538716\ttotal: 1.24s\tremaining: 5.26s\n",
      "190:\tlearn: 15.8335921\ttotal: 1.24s\tremaining: 5.26s\n",
      "191:\tlearn: 15.7891833\ttotal: 1.25s\tremaining: 5.25s\n",
      "192:\tlearn: 15.7489470\ttotal: 1.25s\tremaining: 5.24s\n",
      "193:\tlearn: 15.7214040\ttotal: 1.26s\tremaining: 5.24s\n",
      "194:\tlearn: 15.6874559\ttotal: 1.27s\tremaining: 5.23s\n",
      "195:\tlearn: 15.6371495\ttotal: 1.27s\tremaining: 5.22s\n",
      "196:\tlearn: 15.6091645\ttotal: 1.28s\tremaining: 5.21s\n",
      "197:\tlearn: 15.5780387\ttotal: 1.28s\tremaining: 5.21s\n",
      "198:\tlearn: 15.5541022\ttotal: 1.29s\tremaining: 5.2s\n",
      "199:\tlearn: 15.5135571\ttotal: 1.3s\tremaining: 5.19s\n",
      "200:\tlearn: 15.4960959\ttotal: 1.3s\tremaining: 5.19s\n",
      "201:\tlearn: 15.4555425\ttotal: 1.31s\tremaining: 5.18s\n",
      "202:\tlearn: 15.4520802\ttotal: 1.32s\tremaining: 5.18s\n",
      "203:\tlearn: 15.4140108\ttotal: 1.32s\tremaining: 5.17s\n",
      "204:\tlearn: 15.3974437\ttotal: 1.33s\tremaining: 5.17s\n",
      "205:\tlearn: 15.3788026\ttotal: 1.34s\tremaining: 5.16s\n",
      "206:\tlearn: 15.3600539\ttotal: 1.34s\tremaining: 5.15s\n",
      "207:\tlearn: 15.3320251\ttotal: 1.35s\tremaining: 5.14s\n",
      "208:\tlearn: 15.3115186\ttotal: 1.36s\tremaining: 5.14s\n",
      "209:\tlearn: 15.2910340\ttotal: 1.36s\tremaining: 5.13s\n",
      "210:\tlearn: 15.2539703\ttotal: 1.37s\tremaining: 5.13s\n",
      "211:\tlearn: 15.2165586\ttotal: 1.38s\tremaining: 5.12s\n",
      "212:\tlearn: 15.1799761\ttotal: 1.38s\tremaining: 5.11s\n",
      "213:\tlearn: 15.1605022\ttotal: 1.39s\tremaining: 5.11s\n",
      "214:\tlearn: 15.1409837\ttotal: 1.4s\tremaining: 5.1s\n",
      "215:\tlearn: 15.1241650\ttotal: 1.4s\tremaining: 5.09s\n",
      "216:\tlearn: 15.0880105\ttotal: 1.41s\tremaining: 5.08s\n",
      "217:\tlearn: 15.0529208\ttotal: 1.42s\tremaining: 5.08s\n",
      "218:\tlearn: 15.0270939\ttotal: 1.42s\tremaining: 5.07s\n",
      "219:\tlearn: 14.9929643\ttotal: 1.43s\tremaining: 5.07s\n",
      "220:\tlearn: 14.9644097\ttotal: 1.44s\tremaining: 5.06s\n",
      "221:\tlearn: 14.9369110\ttotal: 1.44s\tremaining: 5.05s\n",
      "222:\tlearn: 14.9276810\ttotal: 1.45s\tremaining: 5.04s\n",
      "223:\tlearn: 14.8990823\ttotal: 1.45s\tremaining: 5.04s\n",
      "224:\tlearn: 14.8679310\ttotal: 1.46s\tremaining: 5.03s\n",
      "225:\tlearn: 14.8422802\ttotal: 1.47s\tremaining: 5.02s\n",
      "226:\tlearn: 14.8127251\ttotal: 1.47s\tremaining: 5.02s\n",
      "227:\tlearn: 14.7796712\ttotal: 1.48s\tremaining: 5.01s\n",
      "228:\tlearn: 14.7512462\ttotal: 1.49s\tremaining: 5s\n",
      "229:\tlearn: 14.7248472\ttotal: 1.49s\tremaining: 5s\n",
      "230:\tlearn: 14.6981764\ttotal: 1.5s\tremaining: 4.99s\n",
      "231:\tlearn: 14.6659477\ttotal: 1.5s\tremaining: 4.98s\n",
      "232:\tlearn: 14.6510425\ttotal: 1.51s\tremaining: 4.98s\n",
      "233:\tlearn: 14.6279611\ttotal: 1.52s\tremaining: 4.97s\n",
      "234:\tlearn: 14.5989754\ttotal: 1.52s\tremaining: 4.96s\n",
      "235:\tlearn: 14.5625965\ttotal: 1.53s\tremaining: 4.96s\n",
      "236:\tlearn: 14.5287297\ttotal: 1.54s\tremaining: 4.95s\n",
      "237:\tlearn: 14.5066426\ttotal: 1.54s\tremaining: 4.94s\n",
      "238:\tlearn: 14.4931204\ttotal: 1.55s\tremaining: 4.93s\n",
      "239:\tlearn: 14.4749102\ttotal: 1.56s\tremaining: 4.93s\n",
      "240:\tlearn: 14.4490066\ttotal: 1.56s\tremaining: 4.92s\n",
      "241:\tlearn: 14.4267507\ttotal: 1.57s\tremaining: 4.91s\n",
      "242:\tlearn: 14.3939736\ttotal: 1.57s\tremaining: 4.91s\n",
      "243:\tlearn: 14.3759886\ttotal: 1.58s\tremaining: 4.9s\n",
      "244:\tlearn: 14.3383103\ttotal: 1.59s\tremaining: 4.89s\n",
      "245:\tlearn: 14.3113895\ttotal: 1.59s\tremaining: 4.88s\n",
      "246:\tlearn: 14.2958684\ttotal: 1.6s\tremaining: 4.88s\n",
      "247:\tlearn: 14.2576739\ttotal: 1.61s\tremaining: 4.87s\n",
      "248:\tlearn: 14.2167074\ttotal: 1.61s\tremaining: 4.86s\n",
      "249:\tlearn: 14.1876368\ttotal: 1.62s\tremaining: 4.86s\n",
      "250:\tlearn: 14.1566434\ttotal: 1.62s\tremaining: 4.85s\n",
      "251:\tlearn: 14.1534818\ttotal: 1.63s\tremaining: 4.84s\n",
      "252:\tlearn: 14.1261521\ttotal: 1.64s\tremaining: 4.83s\n",
      "253:\tlearn: 14.0916699\ttotal: 1.64s\tremaining: 4.83s\n",
      "254:\tlearn: 14.0723503\ttotal: 1.65s\tremaining: 4.82s\n",
      "255:\tlearn: 14.0586153\ttotal: 1.66s\tremaining: 4.81s\n",
      "256:\tlearn: 14.0310046\ttotal: 1.66s\tremaining: 4.81s\n",
      "257:\tlearn: 14.0080404\ttotal: 1.67s\tremaining: 4.8s\n",
      "258:\tlearn: 13.9825118\ttotal: 1.68s\tremaining: 4.79s\n",
      "259:\tlearn: 13.9632830\ttotal: 1.68s\tremaining: 4.79s\n",
      "260:\tlearn: 13.9299941\ttotal: 1.69s\tremaining: 4.78s\n",
      "261:\tlearn: 13.9106367\ttotal: 1.69s\tremaining: 4.77s\n",
      "262:\tlearn: 13.9069345\ttotal: 1.7s\tremaining: 4.76s\n",
      "263:\tlearn: 13.8772930\ttotal: 1.71s\tremaining: 4.76s\n",
      "264:\tlearn: 13.8551668\ttotal: 1.71s\tremaining: 4.75s\n",
      "265:\tlearn: 13.8380211\ttotal: 1.72s\tremaining: 4.75s\n",
      "266:\tlearn: 13.8152138\ttotal: 1.73s\tremaining: 4.74s\n",
      "267:\tlearn: 13.7891002\ttotal: 1.73s\tremaining: 4.73s\n",
      "268:\tlearn: 13.7656914\ttotal: 1.74s\tremaining: 4.73s\n",
      "269:\tlearn: 13.7426276\ttotal: 1.75s\tremaining: 4.72s\n",
      "270:\tlearn: 13.7181299\ttotal: 1.75s\tremaining: 4.71s\n",
      "271:\tlearn: 13.7035993\ttotal: 1.76s\tremaining: 4.71s\n",
      "272:\tlearn: 13.6821303\ttotal: 1.76s\tremaining: 4.7s\n",
      "273:\tlearn: 13.6479130\ttotal: 1.77s\tremaining: 4.7s\n",
      "274:\tlearn: 13.6267974\ttotal: 1.78s\tremaining: 4.69s\n",
      "275:\tlearn: 13.6037678\ttotal: 1.78s\tremaining: 4.68s\n",
      "276:\tlearn: 13.5771120\ttotal: 1.79s\tremaining: 4.68s\n",
      "277:\tlearn: 13.5532731\ttotal: 1.8s\tremaining: 4.67s\n",
      "278:\tlearn: 13.5311425\ttotal: 1.8s\tremaining: 4.66s\n",
      "279:\tlearn: 13.5019344\ttotal: 1.81s\tremaining: 4.66s\n",
      "280:\tlearn: 13.4792933\ttotal: 1.82s\tremaining: 4.65s\n",
      "281:\tlearn: 13.4446075\ttotal: 1.82s\tremaining: 4.64s\n",
      "282:\tlearn: 13.4082980\ttotal: 1.83s\tremaining: 4.64s\n",
      "283:\tlearn: 13.3936895\ttotal: 1.84s\tremaining: 4.63s\n",
      "284:\tlearn: 13.3603183\ttotal: 1.84s\tremaining: 4.62s\n",
      "285:\tlearn: 13.3392460\ttotal: 1.85s\tremaining: 4.61s\n",
      "286:\tlearn: 13.3239077\ttotal: 1.85s\tremaining: 4.61s\n",
      "287:\tlearn: 13.2943265\ttotal: 1.86s\tremaining: 4.6s\n",
      "288:\tlearn: 13.2661725\ttotal: 1.87s\tremaining: 4.59s\n",
      "289:\tlearn: 13.2497709\ttotal: 1.87s\tremaining: 4.58s\n",
      "290:\tlearn: 13.2325188\ttotal: 1.88s\tremaining: 4.58s\n",
      "291:\tlearn: 13.2063988\ttotal: 1.89s\tremaining: 4.57s\n",
      "292:\tlearn: 13.1909863\ttotal: 1.89s\tremaining: 4.57s\n",
      "293:\tlearn: 13.1589835\ttotal: 1.9s\tremaining: 4.56s\n",
      "294:\tlearn: 13.1383875\ttotal: 1.9s\tremaining: 4.55s\n",
      "295:\tlearn: 13.1189170\ttotal: 1.91s\tremaining: 4.54s\n",
      "296:\tlearn: 13.0879955\ttotal: 1.92s\tremaining: 4.54s\n",
      "297:\tlearn: 13.0615178\ttotal: 1.92s\tremaining: 4.53s\n",
      "298:\tlearn: 13.0390671\ttotal: 1.93s\tremaining: 4.52s\n",
      "299:\tlearn: 13.0050327\ttotal: 1.94s\tremaining: 4.52s\n",
      "300:\tlearn: 12.9747739\ttotal: 1.94s\tremaining: 4.51s\n",
      "301:\tlearn: 12.9727261\ttotal: 1.95s\tremaining: 4.5s\n",
      "302:\tlearn: 12.9548007\ttotal: 1.96s\tremaining: 4.5s\n",
      "303:\tlearn: 12.9356890\ttotal: 1.96s\tremaining: 4.49s\n",
      "304:\tlearn: 12.9184108\ttotal: 1.97s\tremaining: 4.48s\n",
      "305:\tlearn: 12.8942072\ttotal: 1.97s\tremaining: 4.48s\n",
      "306:\tlearn: 12.8768147\ttotal: 1.98s\tremaining: 4.47s\n",
      "307:\tlearn: 12.8671241\ttotal: 1.99s\tremaining: 4.46s\n",
      "308:\tlearn: 12.8422664\ttotal: 1.99s\tremaining: 4.46s\n",
      "309:\tlearn: 12.8348331\ttotal: 2s\tremaining: 4.45s\n",
      "310:\tlearn: 12.8071318\ttotal: 2.01s\tremaining: 4.45s\n",
      "311:\tlearn: 12.7824311\ttotal: 2.01s\tremaining: 4.44s\n",
      "312:\tlearn: 12.7454876\ttotal: 2.02s\tremaining: 4.43s\n",
      "313:\tlearn: 12.7312260\ttotal: 2.02s\tremaining: 4.42s\n",
      "314:\tlearn: 12.7233870\ttotal: 2.03s\tremaining: 4.42s\n",
      "315:\tlearn: 12.6984937\ttotal: 2.04s\tremaining: 4.41s\n",
      "316:\tlearn: 12.6705703\ttotal: 2.04s\tremaining: 4.41s\n",
      "317:\tlearn: 12.6568267\ttotal: 2.05s\tremaining: 4.4s\n",
      "318:\tlearn: 12.6369072\ttotal: 2.06s\tremaining: 4.39s\n",
      "319:\tlearn: 12.6116930\ttotal: 2.06s\tremaining: 4.39s\n",
      "320:\tlearn: 12.5900183\ttotal: 2.07s\tremaining: 4.38s\n",
      "321:\tlearn: 12.5861790\ttotal: 2.08s\tremaining: 4.37s\n",
      "322:\tlearn: 12.5671419\ttotal: 2.08s\tremaining: 4.37s\n",
      "323:\tlearn: 12.5498707\ttotal: 2.09s\tremaining: 4.36s\n",
      "324:\tlearn: 12.5210057\ttotal: 2.1s\tremaining: 4.36s\n",
      "325:\tlearn: 12.5025638\ttotal: 2.1s\tremaining: 4.35s\n",
      "326:\tlearn: 12.4817992\ttotal: 2.11s\tremaining: 4.34s\n",
      "327:\tlearn: 12.4625521\ttotal: 2.12s\tremaining: 4.34s\n",
      "328:\tlearn: 12.4429402\ttotal: 2.12s\tremaining: 4.33s\n",
      "329:\tlearn: 12.4196407\ttotal: 2.13s\tremaining: 4.33s\n",
      "330:\tlearn: 12.4096622\ttotal: 2.14s\tremaining: 4.32s\n",
      "331:\tlearn: 12.3849686\ttotal: 2.14s\tremaining: 4.31s\n",
      "332:\tlearn: 12.3728073\ttotal: 2.15s\tremaining: 4.31s\n",
      "333:\tlearn: 12.3613111\ttotal: 2.16s\tremaining: 4.3s\n",
      "334:\tlearn: 12.3449312\ttotal: 2.16s\tremaining: 4.29s\n",
      "335:\tlearn: 12.3215663\ttotal: 2.17s\tremaining: 4.29s\n",
      "336:\tlearn: 12.2976485\ttotal: 2.17s\tremaining: 4.28s\n",
      "337:\tlearn: 12.2833058\ttotal: 2.18s\tremaining: 4.27s\n",
      "338:\tlearn: 12.2595867\ttotal: 2.19s\tremaining: 4.27s\n",
      "339:\tlearn: 12.2454821\ttotal: 2.19s\tremaining: 4.26s\n",
      "340:\tlearn: 12.2285498\ttotal: 2.2s\tremaining: 4.25s\n",
      "341:\tlearn: 12.2119322\ttotal: 2.21s\tremaining: 4.25s\n",
      "342:\tlearn: 12.1997851\ttotal: 2.21s\tremaining: 4.24s\n",
      "343:\tlearn: 12.1881577\ttotal: 2.22s\tremaining: 4.24s\n",
      "344:\tlearn: 12.1710615\ttotal: 2.23s\tremaining: 4.23s\n",
      "345:\tlearn: 12.1693916\ttotal: 2.23s\tremaining: 4.22s\n",
      "346:\tlearn: 12.1568179\ttotal: 2.24s\tremaining: 4.22s\n",
      "347:\tlearn: 12.1438151\ttotal: 2.25s\tremaining: 4.21s\n",
      "348:\tlearn: 12.1406630\ttotal: 2.25s\tremaining: 4.21s\n",
      "349:\tlearn: 12.1199874\ttotal: 2.26s\tremaining: 4.2s\n",
      "350:\tlearn: 12.1086446\ttotal: 2.27s\tremaining: 4.19s\n",
      "351:\tlearn: 12.0928139\ttotal: 2.27s\tremaining: 4.19s\n",
      "352:\tlearn: 12.0697467\ttotal: 2.28s\tremaining: 4.18s\n",
      "353:\tlearn: 12.0568025\ttotal: 2.29s\tremaining: 4.18s\n",
      "354:\tlearn: 12.0398978\ttotal: 2.29s\tremaining: 4.17s\n",
      "355:\tlearn: 12.0267453\ttotal: 2.3s\tremaining: 4.16s\n",
      "356:\tlearn: 12.0062877\ttotal: 2.31s\tremaining: 4.16s\n",
      "357:\tlearn: 11.9898208\ttotal: 2.31s\tremaining: 4.15s\n",
      "358:\tlearn: 11.9698310\ttotal: 2.32s\tremaining: 4.14s\n",
      "359:\tlearn: 11.9567703\ttotal: 2.33s\tremaining: 4.14s\n",
      "360:\tlearn: 11.9432542\ttotal: 2.34s\tremaining: 4.13s\n",
      "361:\tlearn: 11.9246809\ttotal: 2.34s\tremaining: 4.13s\n",
      "362:\tlearn: 11.9126585\ttotal: 2.35s\tremaining: 4.12s\n",
      "363:\tlearn: 11.8857271\ttotal: 2.35s\tremaining: 4.11s\n",
      "364:\tlearn: 11.8705522\ttotal: 2.36s\tremaining: 4.11s\n",
      "365:\tlearn: 11.8488675\ttotal: 2.37s\tremaining: 4.1s\n",
      "366:\tlearn: 11.8324228\ttotal: 2.37s\tremaining: 4.1s\n",
      "367:\tlearn: 11.8133176\ttotal: 2.38s\tremaining: 4.09s\n",
      "368:\tlearn: 11.8013215\ttotal: 2.39s\tremaining: 4.08s\n",
      "369:\tlearn: 11.7917901\ttotal: 2.39s\tremaining: 4.08s\n",
      "370:\tlearn: 11.7672196\ttotal: 2.4s\tremaining: 4.07s\n",
      "371:\tlearn: 11.7525981\ttotal: 2.41s\tremaining: 4.06s\n",
      "372:\tlearn: 11.7206649\ttotal: 2.41s\tremaining: 4.06s\n",
      "373:\tlearn: 11.7093799\ttotal: 2.42s\tremaining: 4.05s\n",
      "374:\tlearn: 11.6931169\ttotal: 2.42s\tremaining: 4.04s\n",
      "375:\tlearn: 11.6714417\ttotal: 2.43s\tremaining: 4.04s\n",
      "376:\tlearn: 11.6480576\ttotal: 2.44s\tremaining: 4.03s\n",
      "377:\tlearn: 11.6300126\ttotal: 2.44s\tremaining: 4.02s\n",
      "378:\tlearn: 11.5997166\ttotal: 2.45s\tremaining: 4.02s\n",
      "379:\tlearn: 11.5796371\ttotal: 2.46s\tremaining: 4.01s\n",
      "380:\tlearn: 11.5665459\ttotal: 2.47s\tremaining: 4.01s\n",
      "381:\tlearn: 11.5447247\ttotal: 2.47s\tremaining: 4s\n",
      "382:\tlearn: 11.5427584\ttotal: 2.48s\tremaining: 3.99s\n",
      "383:\tlearn: 11.5214025\ttotal: 2.48s\tremaining: 3.99s\n",
      "384:\tlearn: 11.5198059\ttotal: 2.49s\tremaining: 3.98s\n",
      "385:\tlearn: 11.5031846\ttotal: 2.5s\tremaining: 3.98s\n",
      "386:\tlearn: 11.4876482\ttotal: 2.5s\tremaining: 3.97s\n",
      "387:\tlearn: 11.4642173\ttotal: 2.51s\tremaining: 3.96s\n",
      "388:\tlearn: 11.4522715\ttotal: 2.52s\tremaining: 3.96s\n",
      "389:\tlearn: 11.4344889\ttotal: 2.52s\tremaining: 3.95s\n",
      "390:\tlearn: 11.4153861\ttotal: 2.53s\tremaining: 3.94s\n",
      "391:\tlearn: 11.4014573\ttotal: 2.54s\tremaining: 3.94s\n",
      "392:\tlearn: 11.3904585\ttotal: 2.54s\tremaining: 3.93s\n",
      "393:\tlearn: 11.3684948\ttotal: 2.55s\tremaining: 3.92s\n",
      "394:\tlearn: 11.3439269\ttotal: 2.56s\tremaining: 3.92s\n",
      "395:\tlearn: 11.3281741\ttotal: 2.56s\tremaining: 3.91s\n",
      "396:\tlearn: 11.3017486\ttotal: 2.57s\tremaining: 3.9s\n",
      "397:\tlearn: 11.2839073\ttotal: 2.58s\tremaining: 3.9s\n",
      "398:\tlearn: 11.2659117\ttotal: 2.58s\tremaining: 3.89s\n",
      "399:\tlearn: 11.2409866\ttotal: 2.59s\tremaining: 3.88s\n",
      "400:\tlearn: 11.2205494\ttotal: 2.6s\tremaining: 3.88s\n",
      "401:\tlearn: 11.2119597\ttotal: 2.6s\tremaining: 3.87s\n",
      "402:\tlearn: 11.1952374\ttotal: 2.61s\tremaining: 3.86s\n",
      "403:\tlearn: 11.1903624\ttotal: 2.61s\tremaining: 3.86s\n",
      "404:\tlearn: 11.1658528\ttotal: 2.62s\tremaining: 3.85s\n",
      "405:\tlearn: 11.1531033\ttotal: 2.63s\tremaining: 3.84s\n",
      "406:\tlearn: 11.1409996\ttotal: 2.63s\tremaining: 3.83s\n",
      "407:\tlearn: 11.1279350\ttotal: 2.64s\tremaining: 3.83s\n",
      "408:\tlearn: 11.1183291\ttotal: 2.64s\tremaining: 3.82s\n",
      "409:\tlearn: 11.1002281\ttotal: 2.65s\tremaining: 3.81s\n",
      "410:\tlearn: 11.0801536\ttotal: 2.66s\tremaining: 3.81s\n",
      "411:\tlearn: 11.0661257\ttotal: 2.66s\tremaining: 3.8s\n",
      "412:\tlearn: 11.0524219\ttotal: 2.67s\tremaining: 3.79s\n",
      "413:\tlearn: 11.0349781\ttotal: 2.67s\tremaining: 3.79s\n",
      "414:\tlearn: 11.0162323\ttotal: 2.68s\tremaining: 3.78s\n",
      "415:\tlearn: 10.9971828\ttotal: 2.69s\tremaining: 3.77s\n",
      "416:\tlearn: 10.9957429\ttotal: 2.69s\tremaining: 3.77s\n",
      "417:\tlearn: 10.9856717\ttotal: 2.7s\tremaining: 3.76s\n",
      "418:\tlearn: 10.9673000\ttotal: 2.71s\tremaining: 3.75s\n",
      "419:\tlearn: 10.9511999\ttotal: 2.71s\tremaining: 3.74s\n",
      "420:\tlearn: 10.9411937\ttotal: 2.72s\tremaining: 3.74s\n",
      "421:\tlearn: 10.9329705\ttotal: 2.72s\tremaining: 3.73s\n",
      "422:\tlearn: 10.9199501\ttotal: 2.73s\tremaining: 3.72s\n",
      "423:\tlearn: 10.9123908\ttotal: 2.73s\tremaining: 3.71s\n",
      "424:\tlearn: 10.9105162\ttotal: 2.74s\tremaining: 3.71s\n",
      "425:\tlearn: 10.8844899\ttotal: 2.75s\tremaining: 3.7s\n",
      "426:\tlearn: 10.8709485\ttotal: 2.75s\tremaining: 3.69s\n",
      "427:\tlearn: 10.8576836\ttotal: 2.76s\tremaining: 3.69s\n",
      "428:\tlearn: 10.8500085\ttotal: 2.76s\tremaining: 3.68s\n",
      "429:\tlearn: 10.8276102\ttotal: 2.77s\tremaining: 3.67s\n",
      "430:\tlearn: 10.8034384\ttotal: 2.78s\tremaining: 3.67s\n",
      "431:\tlearn: 10.7946070\ttotal: 2.78s\tremaining: 3.66s\n",
      "432:\tlearn: 10.7744187\ttotal: 2.79s\tremaining: 3.65s\n",
      "433:\tlearn: 10.7526385\ttotal: 2.79s\tremaining: 3.64s\n",
      "434:\tlearn: 10.7202898\ttotal: 2.8s\tremaining: 3.64s\n",
      "435:\tlearn: 10.7091093\ttotal: 2.81s\tremaining: 3.63s\n",
      "436:\tlearn: 10.6905125\ttotal: 2.81s\tremaining: 3.63s\n",
      "437:\tlearn: 10.6724945\ttotal: 2.82s\tremaining: 3.62s\n",
      "438:\tlearn: 10.6522226\ttotal: 2.83s\tremaining: 3.61s\n",
      "439:\tlearn: 10.6383506\ttotal: 2.83s\tremaining: 3.61s\n",
      "440:\tlearn: 10.6179809\ttotal: 2.84s\tremaining: 3.6s\n",
      "441:\tlearn: 10.6109758\ttotal: 2.85s\tremaining: 3.59s\n",
      "442:\tlearn: 10.5992834\ttotal: 2.85s\tremaining: 3.59s\n",
      "443:\tlearn: 10.5817422\ttotal: 2.86s\tremaining: 3.58s\n",
      "444:\tlearn: 10.5646629\ttotal: 2.86s\tremaining: 3.57s\n",
      "445:\tlearn: 10.5348881\ttotal: 2.87s\tremaining: 3.57s\n",
      "446:\tlearn: 10.5194882\ttotal: 2.88s\tremaining: 3.56s\n",
      "447:\tlearn: 10.5063827\ttotal: 2.88s\tremaining: 3.55s\n",
      "448:\tlearn: 10.4909953\ttotal: 2.89s\tremaining: 3.54s\n",
      "449:\tlearn: 10.4749992\ttotal: 2.9s\tremaining: 3.54s\n",
      "450:\tlearn: 10.4624951\ttotal: 2.9s\tremaining: 3.53s\n",
      "451:\tlearn: 10.4490870\ttotal: 2.91s\tremaining: 3.53s\n",
      "452:\tlearn: 10.4307322\ttotal: 2.92s\tremaining: 3.52s\n",
      "453:\tlearn: 10.4059671\ttotal: 2.92s\tremaining: 3.52s\n",
      "454:\tlearn: 10.3964585\ttotal: 2.93s\tremaining: 3.51s\n",
      "455:\tlearn: 10.3794841\ttotal: 2.94s\tremaining: 3.5s\n",
      "456:\tlearn: 10.3605079\ttotal: 2.94s\tremaining: 3.5s\n",
      "457:\tlearn: 10.3472754\ttotal: 2.95s\tremaining: 3.49s\n",
      "458:\tlearn: 10.3462382\ttotal: 2.95s\tremaining: 3.48s\n",
      "459:\tlearn: 10.3319221\ttotal: 2.96s\tremaining: 3.47s\n",
      "460:\tlearn: 10.3139908\ttotal: 2.97s\tremaining: 3.47s\n",
      "461:\tlearn: 10.3002840\ttotal: 2.97s\tremaining: 3.46s\n",
      "462:\tlearn: 10.2840011\ttotal: 2.98s\tremaining: 3.46s\n",
      "463:\tlearn: 10.2684975\ttotal: 2.99s\tremaining: 3.45s\n",
      "464:\tlearn: 10.2475287\ttotal: 2.99s\tremaining: 3.44s\n",
      "465:\tlearn: 10.2317795\ttotal: 3s\tremaining: 3.44s\n",
      "466:\tlearn: 10.2212239\ttotal: 3s\tremaining: 3.43s\n",
      "467:\tlearn: 10.2038619\ttotal: 3.01s\tremaining: 3.42s\n",
      "468:\tlearn: 10.1904049\ttotal: 3.02s\tremaining: 3.42s\n",
      "469:\tlearn: 10.1731109\ttotal: 3.02s\tremaining: 3.41s\n",
      "470:\tlearn: 10.1567674\ttotal: 3.03s\tremaining: 3.4s\n",
      "471:\tlearn: 10.1333473\ttotal: 3.04s\tremaining: 3.4s\n",
      "472:\tlearn: 10.1182955\ttotal: 3.04s\tremaining: 3.39s\n",
      "473:\tlearn: 10.1017695\ttotal: 3.05s\tremaining: 3.38s\n",
      "474:\tlearn: 10.0875444\ttotal: 3.05s\tremaining: 3.38s\n",
      "475:\tlearn: 10.0752760\ttotal: 3.06s\tremaining: 3.37s\n",
      "476:\tlearn: 10.0654003\ttotal: 3.07s\tremaining: 3.36s\n",
      "477:\tlearn: 10.0490839\ttotal: 3.07s\tremaining: 3.36s\n",
      "478:\tlearn: 10.0479193\ttotal: 3.08s\tremaining: 3.35s\n",
      "479:\tlearn: 10.0328660\ttotal: 3.09s\tremaining: 3.34s\n",
      "480:\tlearn: 10.0160483\ttotal: 3.09s\tremaining: 3.34s\n",
      "481:\tlearn: 10.0012006\ttotal: 3.1s\tremaining: 3.33s\n",
      "482:\tlearn: 9.9886608\ttotal: 3.1s\tremaining: 3.32s\n",
      "483:\tlearn: 9.9772190\ttotal: 3.11s\tremaining: 3.32s\n",
      "484:\tlearn: 9.9628898\ttotal: 3.12s\tremaining: 3.31s\n",
      "485:\tlearn: 9.9409816\ttotal: 3.13s\tremaining: 3.31s\n",
      "486:\tlearn: 9.9298124\ttotal: 3.13s\tremaining: 3.3s\n",
      "487:\tlearn: 9.9190648\ttotal: 3.14s\tremaining: 3.29s\n",
      "488:\tlearn: 9.8978111\ttotal: 3.14s\tremaining: 3.29s\n",
      "489:\tlearn: 9.8858805\ttotal: 3.15s\tremaining: 3.28s\n",
      "490:\tlearn: 9.8781846\ttotal: 3.15s\tremaining: 3.27s\n",
      "491:\tlearn: 9.8618078\ttotal: 3.16s\tremaining: 3.26s\n",
      "492:\tlearn: 9.8533739\ttotal: 3.17s\tremaining: 3.26s\n",
      "493:\tlearn: 9.8522785\ttotal: 3.17s\tremaining: 3.25s\n",
      "494:\tlearn: 9.8391588\ttotal: 3.18s\tremaining: 3.24s\n",
      "495:\tlearn: 9.8258809\ttotal: 3.19s\tremaining: 3.24s\n",
      "496:\tlearn: 9.8166582\ttotal: 3.19s\tremaining: 3.23s\n",
      "497:\tlearn: 9.8003239\ttotal: 3.2s\tremaining: 3.23s\n",
      "498:\tlearn: 9.7887487\ttotal: 3.21s\tremaining: 3.22s\n",
      "499:\tlearn: 9.7760438\ttotal: 3.21s\tremaining: 3.21s\n",
      "500:\tlearn: 9.7628952\ttotal: 3.22s\tremaining: 3.21s\n",
      "501:\tlearn: 9.7453334\ttotal: 3.23s\tremaining: 3.21s\n",
      "502:\tlearn: 9.7226434\ttotal: 3.24s\tremaining: 3.2s\n",
      "503:\tlearn: 9.7093974\ttotal: 3.24s\tremaining: 3.19s\n",
      "504:\tlearn: 9.6963123\ttotal: 3.25s\tremaining: 3.19s\n",
      "505:\tlearn: 9.6793745\ttotal: 3.26s\tremaining: 3.18s\n",
      "506:\tlearn: 9.6652546\ttotal: 3.26s\tremaining: 3.17s\n",
      "507:\tlearn: 9.6594898\ttotal: 3.27s\tremaining: 3.17s\n",
      "508:\tlearn: 9.6390958\ttotal: 3.28s\tremaining: 3.16s\n",
      "509:\tlearn: 9.6200215\ttotal: 3.28s\tremaining: 3.15s\n",
      "510:\tlearn: 9.6107647\ttotal: 3.29s\tremaining: 3.15s\n",
      "511:\tlearn: 9.6074325\ttotal: 3.29s\tremaining: 3.14s\n",
      "512:\tlearn: 9.5912479\ttotal: 3.3s\tremaining: 3.13s\n",
      "513:\tlearn: 9.5837916\ttotal: 3.31s\tremaining: 3.13s\n",
      "514:\tlearn: 9.5741273\ttotal: 3.31s\tremaining: 3.12s\n",
      "515:\tlearn: 9.5674682\ttotal: 3.32s\tremaining: 3.11s\n",
      "516:\tlearn: 9.5608946\ttotal: 3.33s\tremaining: 3.11s\n",
      "517:\tlearn: 9.5477236\ttotal: 3.33s\tremaining: 3.1s\n",
      "518:\tlearn: 9.5363577\ttotal: 3.34s\tremaining: 3.09s\n",
      "519:\tlearn: 9.5233476\ttotal: 3.35s\tremaining: 3.09s\n",
      "520:\tlearn: 9.5144075\ttotal: 3.35s\tremaining: 3.08s\n",
      "521:\tlearn: 9.4996638\ttotal: 3.36s\tremaining: 3.07s\n",
      "522:\tlearn: 9.4877891\ttotal: 3.36s\tremaining: 3.07s\n",
      "523:\tlearn: 9.4793123\ttotal: 3.37s\tremaining: 3.06s\n",
      "524:\tlearn: 9.4619446\ttotal: 3.38s\tremaining: 3.06s\n",
      "525:\tlearn: 9.4540163\ttotal: 3.38s\tremaining: 3.05s\n",
      "526:\tlearn: 9.4422153\ttotal: 3.39s\tremaining: 3.04s\n",
      "527:\tlearn: 9.4301520\ttotal: 3.4s\tremaining: 3.04s\n",
      "528:\tlearn: 9.4113111\ttotal: 3.4s\tremaining: 3.03s\n",
      "529:\tlearn: 9.3946289\ttotal: 3.41s\tremaining: 3.02s\n",
      "530:\tlearn: 9.3813397\ttotal: 3.42s\tremaining: 3.02s\n",
      "531:\tlearn: 9.3643873\ttotal: 3.42s\tremaining: 3.01s\n",
      "532:\tlearn: 9.3518840\ttotal: 3.43s\tremaining: 3s\n",
      "533:\tlearn: 9.3449350\ttotal: 3.44s\tremaining: 3s\n",
      "534:\tlearn: 9.3365329\ttotal: 3.44s\tremaining: 2.99s\n",
      "535:\tlearn: 9.3301606\ttotal: 3.45s\tremaining: 2.99s\n",
      "536:\tlearn: 9.3181519\ttotal: 3.46s\tremaining: 2.98s\n",
      "537:\tlearn: 9.3112835\ttotal: 3.46s\tremaining: 2.97s\n",
      "538:\tlearn: 9.2940557\ttotal: 3.47s\tremaining: 2.96s\n",
      "539:\tlearn: 9.2825907\ttotal: 3.47s\tremaining: 2.96s\n",
      "540:\tlearn: 9.2707875\ttotal: 3.48s\tremaining: 2.95s\n",
      "541:\tlearn: 9.2564415\ttotal: 3.48s\tremaining: 2.94s\n",
      "542:\tlearn: 9.2466650\ttotal: 3.49s\tremaining: 2.94s\n",
      "543:\tlearn: 9.2317856\ttotal: 3.5s\tremaining: 2.93s\n",
      "544:\tlearn: 9.2172575\ttotal: 3.5s\tremaining: 2.92s\n",
      "545:\tlearn: 9.2034824\ttotal: 3.51s\tremaining: 2.92s\n",
      "546:\tlearn: 9.1875486\ttotal: 3.52s\tremaining: 2.91s\n",
      "547:\tlearn: 9.1689896\ttotal: 3.52s\tremaining: 2.9s\n",
      "548:\tlearn: 9.1586354\ttotal: 3.53s\tremaining: 2.9s\n",
      "549:\tlearn: 9.1374751\ttotal: 3.54s\tremaining: 2.89s\n",
      "550:\tlearn: 9.1288002\ttotal: 3.54s\tremaining: 2.89s\n",
      "551:\tlearn: 9.1214209\ttotal: 3.55s\tremaining: 2.88s\n",
      "552:\tlearn: 9.1067364\ttotal: 3.55s\tremaining: 2.87s\n",
      "553:\tlearn: 9.0914648\ttotal: 3.56s\tremaining: 2.87s\n",
      "554:\tlearn: 9.0814555\ttotal: 3.56s\tremaining: 2.86s\n",
      "555:\tlearn: 9.0715571\ttotal: 3.57s\tremaining: 2.85s\n",
      "556:\tlearn: 9.0600868\ttotal: 3.58s\tremaining: 2.85s\n",
      "557:\tlearn: 9.0528489\ttotal: 3.58s\tremaining: 2.84s\n",
      "558:\tlearn: 9.0421198\ttotal: 3.59s\tremaining: 2.83s\n",
      "559:\tlearn: 9.0301374\ttotal: 3.6s\tremaining: 2.82s\n",
      "560:\tlearn: 9.0127736\ttotal: 3.6s\tremaining: 2.82s\n",
      "561:\tlearn: 9.0002488\ttotal: 3.61s\tremaining: 2.81s\n",
      "562:\tlearn: 8.9938798\ttotal: 3.61s\tremaining: 2.8s\n",
      "563:\tlearn: 8.9770241\ttotal: 3.62s\tremaining: 2.8s\n",
      "564:\tlearn: 8.9625059\ttotal: 3.62s\tremaining: 2.79s\n",
      "565:\tlearn: 8.9558183\ttotal: 3.63s\tremaining: 2.78s\n",
      "566:\tlearn: 8.9419366\ttotal: 3.64s\tremaining: 2.78s\n",
      "567:\tlearn: 8.9381822\ttotal: 3.64s\tremaining: 2.77s\n",
      "568:\tlearn: 8.9281213\ttotal: 3.65s\tremaining: 2.76s\n",
      "569:\tlearn: 8.9159139\ttotal: 3.65s\tremaining: 2.76s\n",
      "570:\tlearn: 8.9033325\ttotal: 3.66s\tremaining: 2.75s\n",
      "571:\tlearn: 8.8941101\ttotal: 3.67s\tremaining: 2.74s\n",
      "572:\tlearn: 8.8863920\ttotal: 3.67s\tremaining: 2.74s\n",
      "573:\tlearn: 8.8721219\ttotal: 3.68s\tremaining: 2.73s\n",
      "574:\tlearn: 8.8517976\ttotal: 3.69s\tremaining: 2.72s\n",
      "575:\tlearn: 8.8400476\ttotal: 3.69s\tremaining: 2.72s\n",
      "576:\tlearn: 8.8247471\ttotal: 3.7s\tremaining: 2.71s\n",
      "577:\tlearn: 8.8237311\ttotal: 3.71s\tremaining: 2.71s\n",
      "578:\tlearn: 8.8051022\ttotal: 3.71s\tremaining: 2.7s\n",
      "579:\tlearn: 8.7946017\ttotal: 3.72s\tremaining: 2.69s\n",
      "580:\tlearn: 8.7817069\ttotal: 3.73s\tremaining: 2.69s\n",
      "581:\tlearn: 8.7699010\ttotal: 3.73s\tremaining: 2.68s\n",
      "582:\tlearn: 8.7547631\ttotal: 3.74s\tremaining: 2.67s\n",
      "583:\tlearn: 8.7460870\ttotal: 3.75s\tremaining: 2.67s\n",
      "584:\tlearn: 8.7314091\ttotal: 3.75s\tremaining: 2.66s\n",
      "585:\tlearn: 8.7189540\ttotal: 3.76s\tremaining: 2.65s\n",
      "586:\tlearn: 8.7112964\ttotal: 3.76s\tremaining: 2.65s\n",
      "587:\tlearn: 8.7002387\ttotal: 3.77s\tremaining: 2.64s\n",
      "588:\tlearn: 8.6898980\ttotal: 3.77s\tremaining: 2.63s\n",
      "589:\tlearn: 8.6838337\ttotal: 3.78s\tremaining: 2.63s\n",
      "590:\tlearn: 8.6723792\ttotal: 3.79s\tremaining: 2.62s\n",
      "591:\tlearn: 8.6579168\ttotal: 3.79s\tremaining: 2.62s\n",
      "592:\tlearn: 8.6492889\ttotal: 3.8s\tremaining: 2.61s\n",
      "593:\tlearn: 8.6413906\ttotal: 3.81s\tremaining: 2.6s\n",
      "594:\tlearn: 8.6251959\ttotal: 3.81s\tremaining: 2.6s\n",
      "595:\tlearn: 8.6178326\ttotal: 3.82s\tremaining: 2.59s\n",
      "596:\tlearn: 8.6017709\ttotal: 3.83s\tremaining: 2.58s\n",
      "597:\tlearn: 8.5903198\ttotal: 3.83s\tremaining: 2.58s\n",
      "598:\tlearn: 8.5803073\ttotal: 3.84s\tremaining: 2.57s\n",
      "599:\tlearn: 8.5652998\ttotal: 3.84s\tremaining: 2.56s\n",
      "600:\tlearn: 8.5555007\ttotal: 3.85s\tremaining: 2.56s\n",
      "601:\tlearn: 8.5476159\ttotal: 3.86s\tremaining: 2.55s\n",
      "602:\tlearn: 8.5339336\ttotal: 3.86s\tremaining: 2.54s\n",
      "603:\tlearn: 8.5192462\ttotal: 3.87s\tremaining: 2.54s\n",
      "604:\tlearn: 8.5039188\ttotal: 3.88s\tremaining: 2.53s\n",
      "605:\tlearn: 8.4974634\ttotal: 3.88s\tremaining: 2.52s\n",
      "606:\tlearn: 8.4878821\ttotal: 3.89s\tremaining: 2.52s\n",
      "607:\tlearn: 8.4773796\ttotal: 3.9s\tremaining: 2.51s\n",
      "608:\tlearn: 8.4635847\ttotal: 3.9s\tremaining: 2.5s\n",
      "609:\tlearn: 8.4542077\ttotal: 3.91s\tremaining: 2.5s\n",
      "610:\tlearn: 8.4452663\ttotal: 3.91s\tremaining: 2.49s\n",
      "611:\tlearn: 8.4287413\ttotal: 3.92s\tremaining: 2.48s\n",
      "612:\tlearn: 8.4126376\ttotal: 3.93s\tremaining: 2.48s\n",
      "613:\tlearn: 8.4052127\ttotal: 3.93s\tremaining: 2.47s\n",
      "614:\tlearn: 8.4041848\ttotal: 3.94s\tremaining: 2.47s\n",
      "615:\tlearn: 8.3910585\ttotal: 3.94s\tremaining: 2.46s\n",
      "616:\tlearn: 8.3787259\ttotal: 3.95s\tremaining: 2.45s\n",
      "617:\tlearn: 8.3642158\ttotal: 3.96s\tremaining: 2.45s\n",
      "618:\tlearn: 8.3469894\ttotal: 3.96s\tremaining: 2.44s\n",
      "619:\tlearn: 8.3319755\ttotal: 3.97s\tremaining: 2.43s\n",
      "620:\tlearn: 8.3189476\ttotal: 3.98s\tremaining: 2.43s\n",
      "621:\tlearn: 8.3034005\ttotal: 3.98s\tremaining: 2.42s\n",
      "622:\tlearn: 8.2918180\ttotal: 3.99s\tremaining: 2.41s\n",
      "623:\tlearn: 8.2721807\ttotal: 4s\tremaining: 2.41s\n",
      "624:\tlearn: 8.2602919\ttotal: 4s\tremaining: 2.4s\n",
      "625:\tlearn: 8.2471496\ttotal: 4.01s\tremaining: 2.4s\n",
      "626:\tlearn: 8.2406426\ttotal: 4.02s\tremaining: 2.39s\n",
      "627:\tlearn: 8.2253193\ttotal: 4.02s\tremaining: 2.38s\n",
      "628:\tlearn: 8.2178097\ttotal: 4.03s\tremaining: 2.38s\n",
      "629:\tlearn: 8.2101273\ttotal: 4.04s\tremaining: 2.37s\n",
      "630:\tlearn: 8.1969184\ttotal: 4.04s\tremaining: 2.36s\n",
      "631:\tlearn: 8.1834192\ttotal: 4.05s\tremaining: 2.36s\n",
      "632:\tlearn: 8.1697257\ttotal: 4.06s\tremaining: 2.35s\n",
      "633:\tlearn: 8.1572852\ttotal: 4.06s\tremaining: 2.35s\n",
      "634:\tlearn: 8.1564342\ttotal: 4.07s\tremaining: 2.34s\n",
      "635:\tlearn: 8.1429520\ttotal: 4.08s\tremaining: 2.33s\n",
      "636:\tlearn: 8.1292198\ttotal: 4.08s\tremaining: 2.33s\n",
      "637:\tlearn: 8.1201037\ttotal: 4.09s\tremaining: 2.32s\n",
      "638:\tlearn: 8.1098876\ttotal: 4.09s\tremaining: 2.31s\n",
      "639:\tlearn: 8.1039072\ttotal: 4.1s\tremaining: 2.31s\n",
      "640:\tlearn: 8.0883758\ttotal: 4.11s\tremaining: 2.3s\n",
      "641:\tlearn: 8.0780952\ttotal: 4.11s\tremaining: 2.29s\n",
      "642:\tlearn: 8.0667113\ttotal: 4.12s\tremaining: 2.29s\n",
      "643:\tlearn: 8.0515073\ttotal: 4.13s\tremaining: 2.28s\n",
      "644:\tlearn: 8.0406459\ttotal: 4.14s\tremaining: 2.28s\n",
      "645:\tlearn: 8.0386984\ttotal: 4.14s\tremaining: 2.27s\n",
      "646:\tlearn: 8.0245120\ttotal: 4.15s\tremaining: 2.26s\n",
      "647:\tlearn: 8.0143964\ttotal: 4.16s\tremaining: 2.26s\n",
      "648:\tlearn: 8.0001905\ttotal: 4.16s\tremaining: 2.25s\n",
      "649:\tlearn: 7.9930881\ttotal: 4.17s\tremaining: 2.25s\n",
      "650:\tlearn: 7.9862190\ttotal: 4.18s\tremaining: 2.24s\n",
      "651:\tlearn: 7.9790455\ttotal: 4.18s\tremaining: 2.23s\n",
      "652:\tlearn: 7.9659416\ttotal: 4.19s\tremaining: 2.23s\n",
      "653:\tlearn: 7.9549539\ttotal: 4.19s\tremaining: 2.22s\n",
      "654:\tlearn: 7.9462615\ttotal: 4.2s\tremaining: 2.21s\n",
      "655:\tlearn: 7.9378469\ttotal: 4.21s\tremaining: 2.21s\n",
      "656:\tlearn: 7.9235817\ttotal: 4.21s\tremaining: 2.2s\n",
      "657:\tlearn: 7.9116839\ttotal: 4.22s\tremaining: 2.19s\n",
      "658:\tlearn: 7.8983942\ttotal: 4.22s\tremaining: 2.19s\n",
      "659:\tlearn: 7.8827728\ttotal: 4.23s\tremaining: 2.18s\n",
      "660:\tlearn: 7.8698389\ttotal: 4.24s\tremaining: 2.17s\n",
      "661:\tlearn: 7.8646683\ttotal: 4.24s\tremaining: 2.17s\n",
      "662:\tlearn: 7.8480175\ttotal: 4.25s\tremaining: 2.16s\n",
      "663:\tlearn: 7.8392966\ttotal: 4.26s\tremaining: 2.15s\n",
      "664:\tlearn: 7.8229451\ttotal: 4.26s\tremaining: 2.15s\n",
      "665:\tlearn: 7.8139084\ttotal: 4.27s\tremaining: 2.14s\n",
      "666:\tlearn: 7.8056645\ttotal: 4.28s\tremaining: 2.13s\n",
      "667:\tlearn: 7.7996945\ttotal: 4.28s\tremaining: 2.13s\n",
      "668:\tlearn: 7.7989776\ttotal: 4.29s\tremaining: 2.12s\n",
      "669:\tlearn: 7.7871505\ttotal: 4.3s\tremaining: 2.12s\n",
      "670:\tlearn: 7.7764108\ttotal: 4.3s\tremaining: 2.11s\n",
      "671:\tlearn: 7.7748246\ttotal: 4.31s\tremaining: 2.1s\n",
      "672:\tlearn: 7.7650703\ttotal: 4.32s\tremaining: 2.1s\n",
      "673:\tlearn: 7.7502355\ttotal: 4.32s\tremaining: 2.09s\n",
      "674:\tlearn: 7.7311421\ttotal: 4.33s\tremaining: 2.08s\n",
      "675:\tlearn: 7.7245042\ttotal: 4.33s\tremaining: 2.08s\n",
      "676:\tlearn: 7.7156423\ttotal: 4.34s\tremaining: 2.07s\n",
      "677:\tlearn: 7.7035787\ttotal: 4.35s\tremaining: 2.06s\n",
      "678:\tlearn: 7.6954072\ttotal: 4.35s\tremaining: 2.06s\n",
      "679:\tlearn: 7.6815041\ttotal: 4.36s\tremaining: 2.05s\n",
      "680:\tlearn: 7.6713746\ttotal: 4.37s\tremaining: 2.04s\n",
      "681:\tlearn: 7.6583600\ttotal: 4.37s\tremaining: 2.04s\n",
      "682:\tlearn: 7.6466206\ttotal: 4.38s\tremaining: 2.03s\n",
      "683:\tlearn: 7.6370120\ttotal: 4.38s\tremaining: 2.03s\n",
      "684:\tlearn: 7.6239003\ttotal: 4.39s\tremaining: 2.02s\n",
      "685:\tlearn: 7.6151073\ttotal: 4.4s\tremaining: 2.01s\n",
      "686:\tlearn: 7.6030181\ttotal: 4.41s\tremaining: 2.01s\n",
      "687:\tlearn: 7.5935203\ttotal: 4.41s\tremaining: 2s\n",
      "688:\tlearn: 7.5751824\ttotal: 4.42s\tremaining: 1.99s\n",
      "689:\tlearn: 7.5664350\ttotal: 4.42s\tremaining: 1.99s\n",
      "690:\tlearn: 7.5508289\ttotal: 4.43s\tremaining: 1.98s\n",
      "691:\tlearn: 7.5453323\ttotal: 4.44s\tremaining: 1.98s\n",
      "692:\tlearn: 7.5378375\ttotal: 4.44s\tremaining: 1.97s\n",
      "693:\tlearn: 7.5292050\ttotal: 4.45s\tremaining: 1.96s\n",
      "694:\tlearn: 7.5222732\ttotal: 4.46s\tremaining: 1.96s\n",
      "695:\tlearn: 7.5060019\ttotal: 4.46s\tremaining: 1.95s\n",
      "696:\tlearn: 7.4942272\ttotal: 4.47s\tremaining: 1.94s\n",
      "697:\tlearn: 7.4924039\ttotal: 4.47s\tremaining: 1.94s\n",
      "698:\tlearn: 7.4823486\ttotal: 4.48s\tremaining: 1.93s\n",
      "699:\tlearn: 7.4749839\ttotal: 4.49s\tremaining: 1.92s\n",
      "700:\tlearn: 7.4654908\ttotal: 4.49s\tremaining: 1.92s\n",
      "701:\tlearn: 7.4576383\ttotal: 4.5s\tremaining: 1.91s\n",
      "702:\tlearn: 7.4478411\ttotal: 4.51s\tremaining: 1.9s\n",
      "703:\tlearn: 7.4360498\ttotal: 4.51s\tremaining: 1.9s\n",
      "704:\tlearn: 7.4262656\ttotal: 4.52s\tremaining: 1.89s\n",
      "705:\tlearn: 7.4189305\ttotal: 4.53s\tremaining: 1.89s\n",
      "706:\tlearn: 7.4177267\ttotal: 4.53s\tremaining: 1.88s\n",
      "707:\tlearn: 7.4073528\ttotal: 4.54s\tremaining: 1.87s\n",
      "708:\tlearn: 7.3937541\ttotal: 4.55s\tremaining: 1.87s\n",
      "709:\tlearn: 7.3865917\ttotal: 4.55s\tremaining: 1.86s\n",
      "710:\tlearn: 7.3730966\ttotal: 4.56s\tremaining: 1.85s\n",
      "711:\tlearn: 7.3655539\ttotal: 4.56s\tremaining: 1.85s\n",
      "712:\tlearn: 7.3550386\ttotal: 4.57s\tremaining: 1.84s\n",
      "713:\tlearn: 7.3435711\ttotal: 4.58s\tremaining: 1.83s\n",
      "714:\tlearn: 7.3370629\ttotal: 4.58s\tremaining: 1.83s\n",
      "715:\tlearn: 7.3291531\ttotal: 4.59s\tremaining: 1.82s\n",
      "716:\tlearn: 7.3168355\ttotal: 4.6s\tremaining: 1.81s\n",
      "717:\tlearn: 7.3102524\ttotal: 4.6s\tremaining: 1.81s\n",
      "718:\tlearn: 7.3040462\ttotal: 4.61s\tremaining: 1.8s\n",
      "719:\tlearn: 7.2949800\ttotal: 4.61s\tremaining: 1.79s\n",
      "720:\tlearn: 7.2861779\ttotal: 4.62s\tremaining: 1.79s\n",
      "721:\tlearn: 7.2799252\ttotal: 4.63s\tremaining: 1.78s\n",
      "722:\tlearn: 7.2749824\ttotal: 4.64s\tremaining: 1.78s\n",
      "723:\tlearn: 7.2685339\ttotal: 4.64s\tremaining: 1.77s\n",
      "724:\tlearn: 7.2625443\ttotal: 4.65s\tremaining: 1.76s\n",
      "725:\tlearn: 7.2556721\ttotal: 4.66s\tremaining: 1.76s\n",
      "726:\tlearn: 7.2458605\ttotal: 4.67s\tremaining: 1.75s\n",
      "727:\tlearn: 7.2361207\ttotal: 4.67s\tremaining: 1.75s\n",
      "728:\tlearn: 7.2271465\ttotal: 4.68s\tremaining: 1.74s\n",
      "729:\tlearn: 7.2125579\ttotal: 4.69s\tremaining: 1.73s\n",
      "730:\tlearn: 7.2045305\ttotal: 4.69s\tremaining: 1.73s\n",
      "731:\tlearn: 7.1941957\ttotal: 4.7s\tremaining: 1.72s\n",
      "732:\tlearn: 7.1918995\ttotal: 4.71s\tremaining: 1.71s\n",
      "733:\tlearn: 7.1859771\ttotal: 4.71s\tremaining: 1.71s\n",
      "734:\tlearn: 7.1784231\ttotal: 4.72s\tremaining: 1.7s\n",
      "735:\tlearn: 7.1700636\ttotal: 4.72s\tremaining: 1.69s\n",
      "736:\tlearn: 7.1587158\ttotal: 4.73s\tremaining: 1.69s\n",
      "737:\tlearn: 7.1466328\ttotal: 4.74s\tremaining: 1.68s\n",
      "738:\tlearn: 7.1389138\ttotal: 4.74s\tremaining: 1.68s\n",
      "739:\tlearn: 7.1273317\ttotal: 4.75s\tremaining: 1.67s\n",
      "740:\tlearn: 7.1210928\ttotal: 4.76s\tremaining: 1.66s\n",
      "741:\tlearn: 7.1101750\ttotal: 4.76s\tremaining: 1.66s\n",
      "742:\tlearn: 7.1033118\ttotal: 4.77s\tremaining: 1.65s\n",
      "743:\tlearn: 7.0954112\ttotal: 4.77s\tremaining: 1.64s\n",
      "744:\tlearn: 7.0915678\ttotal: 4.78s\tremaining: 1.64s\n",
      "745:\tlearn: 7.0909108\ttotal: 4.79s\tremaining: 1.63s\n",
      "746:\tlearn: 7.0747460\ttotal: 4.79s\tremaining: 1.62s\n",
      "747:\tlearn: 7.0649518\ttotal: 4.8s\tremaining: 1.62s\n",
      "748:\tlearn: 7.0563634\ttotal: 4.81s\tremaining: 1.61s\n",
      "749:\tlearn: 7.0493115\ttotal: 4.82s\tremaining: 1.6s\n",
      "750:\tlearn: 7.0430739\ttotal: 4.82s\tremaining: 1.6s\n",
      "751:\tlearn: 7.0346967\ttotal: 4.83s\tremaining: 1.59s\n",
      "752:\tlearn: 7.0299897\ttotal: 4.83s\tremaining: 1.59s\n",
      "753:\tlearn: 7.0209889\ttotal: 4.84s\tremaining: 1.58s\n",
      "754:\tlearn: 7.0137196\ttotal: 4.85s\tremaining: 1.57s\n",
      "755:\tlearn: 7.0047404\ttotal: 4.86s\tremaining: 1.57s\n",
      "756:\tlearn: 6.9944017\ttotal: 4.86s\tremaining: 1.56s\n",
      "757:\tlearn: 6.9842853\ttotal: 4.87s\tremaining: 1.55s\n",
      "758:\tlearn: 6.9735853\ttotal: 4.87s\tremaining: 1.55s\n",
      "759:\tlearn: 6.9614543\ttotal: 4.88s\tremaining: 1.54s\n",
      "760:\tlearn: 6.9511567\ttotal: 4.89s\tremaining: 1.53s\n",
      "761:\tlearn: 6.9401465\ttotal: 4.9s\tremaining: 1.53s\n",
      "762:\tlearn: 6.9315982\ttotal: 4.9s\tremaining: 1.52s\n",
      "763:\tlearn: 6.9200644\ttotal: 4.91s\tremaining: 1.52s\n",
      "764:\tlearn: 6.9122327\ttotal: 4.92s\tremaining: 1.51s\n",
      "765:\tlearn: 6.9011634\ttotal: 4.92s\tremaining: 1.5s\n",
      "766:\tlearn: 6.8908111\ttotal: 4.93s\tremaining: 1.5s\n",
      "767:\tlearn: 6.8773826\ttotal: 4.93s\tremaining: 1.49s\n",
      "768:\tlearn: 6.8697006\ttotal: 4.94s\tremaining: 1.48s\n",
      "769:\tlearn: 6.8601412\ttotal: 4.95s\tremaining: 1.48s\n",
      "770:\tlearn: 6.8516964\ttotal: 4.96s\tremaining: 1.47s\n",
      "771:\tlearn: 6.8449460\ttotal: 4.96s\tremaining: 1.47s\n",
      "772:\tlearn: 6.8380964\ttotal: 4.97s\tremaining: 1.46s\n",
      "773:\tlearn: 6.8279302\ttotal: 4.97s\tremaining: 1.45s\n",
      "774:\tlearn: 6.8159918\ttotal: 4.98s\tremaining: 1.45s\n",
      "775:\tlearn: 6.8064227\ttotal: 4.99s\tremaining: 1.44s\n",
      "776:\tlearn: 6.7942692\ttotal: 4.99s\tremaining: 1.43s\n",
      "777:\tlearn: 6.7839476\ttotal: 5s\tremaining: 1.43s\n",
      "778:\tlearn: 6.7717410\ttotal: 5.01s\tremaining: 1.42s\n",
      "779:\tlearn: 6.7647561\ttotal: 5.01s\tremaining: 1.41s\n",
      "780:\tlearn: 6.7515456\ttotal: 5.02s\tremaining: 1.41s\n",
      "781:\tlearn: 6.7420139\ttotal: 5.03s\tremaining: 1.4s\n",
      "782:\tlearn: 6.7360943\ttotal: 5.04s\tremaining: 1.4s\n",
      "783:\tlearn: 6.7286103\ttotal: 5.04s\tremaining: 1.39s\n",
      "784:\tlearn: 6.7197138\ttotal: 5.05s\tremaining: 1.38s\n",
      "785:\tlearn: 6.7176735\ttotal: 5.06s\tremaining: 1.38s\n",
      "786:\tlearn: 6.7074198\ttotal: 5.06s\tremaining: 1.37s\n",
      "787:\tlearn: 6.6978112\ttotal: 5.07s\tremaining: 1.36s\n",
      "788:\tlearn: 6.6868664\ttotal: 5.07s\tremaining: 1.36s\n",
      "789:\tlearn: 6.6708160\ttotal: 5.08s\tremaining: 1.35s\n",
      "790:\tlearn: 6.6602721\ttotal: 5.09s\tremaining: 1.34s\n",
      "791:\tlearn: 6.6473906\ttotal: 5.09s\tremaining: 1.34s\n",
      "792:\tlearn: 6.6391049\ttotal: 5.1s\tremaining: 1.33s\n",
      "793:\tlearn: 6.6293557\ttotal: 5.11s\tremaining: 1.32s\n",
      "794:\tlearn: 6.6210547\ttotal: 5.11s\tremaining: 1.32s\n",
      "795:\tlearn: 6.6123303\ttotal: 5.12s\tremaining: 1.31s\n",
      "796:\tlearn: 6.5994358\ttotal: 5.12s\tremaining: 1.3s\n",
      "797:\tlearn: 6.5867969\ttotal: 5.13s\tremaining: 1.3s\n",
      "798:\tlearn: 6.5761630\ttotal: 5.14s\tremaining: 1.29s\n",
      "799:\tlearn: 6.5673724\ttotal: 5.14s\tremaining: 1.28s\n",
      "800:\tlearn: 6.5603745\ttotal: 5.15s\tremaining: 1.28s\n",
      "801:\tlearn: 6.5509792\ttotal: 5.16s\tremaining: 1.27s\n",
      "802:\tlearn: 6.5441857\ttotal: 5.16s\tremaining: 1.27s\n",
      "803:\tlearn: 6.5336769\ttotal: 5.17s\tremaining: 1.26s\n",
      "804:\tlearn: 6.5264870\ttotal: 5.18s\tremaining: 1.25s\n",
      "805:\tlearn: 6.5153867\ttotal: 5.18s\tremaining: 1.25s\n",
      "806:\tlearn: 6.5089792\ttotal: 5.19s\tremaining: 1.24s\n",
      "807:\tlearn: 6.4997133\ttotal: 5.2s\tremaining: 1.23s\n",
      "808:\tlearn: 6.4879065\ttotal: 5.2s\tremaining: 1.23s\n",
      "809:\tlearn: 6.4788698\ttotal: 5.21s\tremaining: 1.22s\n",
      "810:\tlearn: 6.4721897\ttotal: 5.21s\tremaining: 1.21s\n",
      "811:\tlearn: 6.4649759\ttotal: 5.22s\tremaining: 1.21s\n",
      "812:\tlearn: 6.4564967\ttotal: 5.22s\tremaining: 1.2s\n",
      "813:\tlearn: 6.4483856\ttotal: 5.23s\tremaining: 1.2s\n",
      "814:\tlearn: 6.4425083\ttotal: 5.24s\tremaining: 1.19s\n",
      "815:\tlearn: 6.4329087\ttotal: 5.24s\tremaining: 1.18s\n",
      "816:\tlearn: 6.4212835\ttotal: 5.25s\tremaining: 1.18s\n",
      "817:\tlearn: 6.4145691\ttotal: 5.25s\tremaining: 1.17s\n",
      "818:\tlearn: 6.4040843\ttotal: 5.26s\tremaining: 1.16s\n",
      "819:\tlearn: 6.3941951\ttotal: 5.27s\tremaining: 1.16s\n",
      "820:\tlearn: 6.3936039\ttotal: 5.28s\tremaining: 1.15s\n",
      "821:\tlearn: 6.3830761\ttotal: 5.28s\tremaining: 1.14s\n",
      "822:\tlearn: 6.3774305\ttotal: 5.29s\tremaining: 1.14s\n",
      "823:\tlearn: 6.3700809\ttotal: 5.29s\tremaining: 1.13s\n",
      "824:\tlearn: 6.3645807\ttotal: 5.3s\tremaining: 1.12s\n",
      "825:\tlearn: 6.3577119\ttotal: 5.31s\tremaining: 1.12s\n",
      "826:\tlearn: 6.3471495\ttotal: 5.31s\tremaining: 1.11s\n",
      "827:\tlearn: 6.3397247\ttotal: 5.32s\tremaining: 1.1s\n",
      "828:\tlearn: 6.3292102\ttotal: 5.33s\tremaining: 1.1s\n",
      "829:\tlearn: 6.3229743\ttotal: 5.33s\tremaining: 1.09s\n",
      "830:\tlearn: 6.3142012\ttotal: 5.34s\tremaining: 1.08s\n",
      "831:\tlearn: 6.3053354\ttotal: 5.34s\tremaining: 1.08s\n",
      "832:\tlearn: 6.2989652\ttotal: 5.35s\tremaining: 1.07s\n",
      "833:\tlearn: 6.2905007\ttotal: 5.36s\tremaining: 1.07s\n",
      "834:\tlearn: 6.2899664\ttotal: 5.36s\tremaining: 1.06s\n",
      "835:\tlearn: 6.2779269\ttotal: 5.37s\tremaining: 1.05s\n",
      "836:\tlearn: 6.2689412\ttotal: 5.37s\tremaining: 1.05s\n",
      "837:\tlearn: 6.2595558\ttotal: 5.38s\tremaining: 1.04s\n",
      "838:\tlearn: 6.2509214\ttotal: 5.39s\tremaining: 1.03s\n",
      "839:\tlearn: 6.2471039\ttotal: 5.39s\tremaining: 1.03s\n",
      "840:\tlearn: 6.2374643\ttotal: 5.4s\tremaining: 1.02s\n",
      "841:\tlearn: 6.2346511\ttotal: 5.41s\tremaining: 1.01s\n",
      "842:\tlearn: 6.2247404\ttotal: 5.41s\tremaining: 1.01s\n",
      "843:\tlearn: 6.2146909\ttotal: 5.42s\tremaining: 1s\n",
      "844:\tlearn: 6.2046712\ttotal: 5.44s\tremaining: 997ms\n",
      "845:\tlearn: 6.1911190\ttotal: 5.44s\tremaining: 991ms\n",
      "846:\tlearn: 6.1850496\ttotal: 5.45s\tremaining: 985ms\n",
      "847:\tlearn: 6.1746184\ttotal: 5.46s\tremaining: 979ms\n",
      "848:\tlearn: 6.1668937\ttotal: 5.47s\tremaining: 973ms\n",
      "849:\tlearn: 6.1586777\ttotal: 5.48s\tremaining: 967ms\n",
      "850:\tlearn: 6.1493044\ttotal: 5.49s\tremaining: 961ms\n",
      "851:\tlearn: 6.1447435\ttotal: 5.5s\tremaining: 955ms\n",
      "852:\tlearn: 6.1312798\ttotal: 5.5s\tremaining: 949ms\n",
      "853:\tlearn: 6.1211508\ttotal: 5.51s\tremaining: 942ms\n",
      "854:\tlearn: 6.1110498\ttotal: 5.52s\tremaining: 936ms\n",
      "855:\tlearn: 6.0970241\ttotal: 5.53s\tremaining: 930ms\n",
      "856:\tlearn: 6.0897474\ttotal: 5.54s\tremaining: 924ms\n",
      "857:\tlearn: 6.0802119\ttotal: 5.54s\tremaining: 918ms\n",
      "858:\tlearn: 6.0715214\ttotal: 5.55s\tremaining: 912ms\n",
      "859:\tlearn: 6.0645203\ttotal: 5.56s\tremaining: 906ms\n",
      "860:\tlearn: 6.0565130\ttotal: 5.57s\tremaining: 899ms\n",
      "861:\tlearn: 6.0482710\ttotal: 5.6s\tremaining: 897ms\n",
      "862:\tlearn: 6.0402103\ttotal: 5.61s\tremaining: 890ms\n",
      "863:\tlearn: 6.0306428\ttotal: 5.61s\tremaining: 884ms\n",
      "864:\tlearn: 6.0250322\ttotal: 5.62s\tremaining: 877ms\n",
      "865:\tlearn: 6.0151074\ttotal: 5.63s\tremaining: 871ms\n",
      "866:\tlearn: 6.0059205\ttotal: 5.63s\tremaining: 864ms\n",
      "867:\tlearn: 6.0015973\ttotal: 5.64s\tremaining: 858ms\n",
      "868:\tlearn: 5.9960455\ttotal: 5.69s\tremaining: 859ms\n",
      "869:\tlearn: 5.9890828\ttotal: 5.7s\tremaining: 852ms\n",
      "870:\tlearn: 5.9867909\ttotal: 5.71s\tremaining: 846ms\n",
      "871:\tlearn: 5.9823119\ttotal: 5.71s\tremaining: 839ms\n",
      "872:\tlearn: 5.9693683\ttotal: 5.72s\tremaining: 832ms\n",
      "873:\tlearn: 5.9623131\ttotal: 5.73s\tremaining: 826ms\n",
      "874:\tlearn: 5.9557195\ttotal: 5.73s\tremaining: 819ms\n",
      "875:\tlearn: 5.9505200\ttotal: 5.74s\tremaining: 813ms\n",
      "876:\tlearn: 5.9417898\ttotal: 5.75s\tremaining: 806ms\n",
      "877:\tlearn: 5.9281118\ttotal: 5.75s\tremaining: 800ms\n",
      "878:\tlearn: 5.9176891\ttotal: 5.76s\tremaining: 793ms\n",
      "879:\tlearn: 5.9096416\ttotal: 5.77s\tremaining: 787ms\n",
      "880:\tlearn: 5.9005893\ttotal: 5.78s\tremaining: 781ms\n",
      "881:\tlearn: 5.8889696\ttotal: 5.79s\tremaining: 774ms\n",
      "882:\tlearn: 5.8821680\ttotal: 5.79s\tremaining: 768ms\n",
      "883:\tlearn: 5.8700285\ttotal: 5.8s\tremaining: 762ms\n",
      "884:\tlearn: 5.8615735\ttotal: 5.81s\tremaining: 755ms\n",
      "885:\tlearn: 5.8585146\ttotal: 5.82s\tremaining: 749ms\n",
      "886:\tlearn: 5.8526468\ttotal: 5.82s\tremaining: 742ms\n",
      "887:\tlearn: 5.8467937\ttotal: 5.83s\tremaining: 735ms\n",
      "888:\tlearn: 5.8372093\ttotal: 5.84s\tremaining: 729ms\n",
      "889:\tlearn: 5.8278632\ttotal: 5.84s\tremaining: 722ms\n",
      "890:\tlearn: 5.8212084\ttotal: 5.9s\tremaining: 722ms\n",
      "891:\tlearn: 5.8157663\ttotal: 5.9s\tremaining: 715ms\n",
      "892:\tlearn: 5.8071831\ttotal: 5.91s\tremaining: 708ms\n",
      "893:\tlearn: 5.8003626\ttotal: 5.92s\tremaining: 701ms\n",
      "894:\tlearn: 5.7977954\ttotal: 5.92s\tremaining: 695ms\n",
      "895:\tlearn: 5.7880193\ttotal: 5.93s\tremaining: 688ms\n",
      "896:\tlearn: 5.7813756\ttotal: 5.93s\tremaining: 682ms\n",
      "897:\tlearn: 5.7764011\ttotal: 5.94s\tremaining: 675ms\n",
      "898:\tlearn: 5.7730250\ttotal: 5.95s\tremaining: 668ms\n",
      "899:\tlearn: 5.7638999\ttotal: 5.95s\tremaining: 662ms\n",
      "900:\tlearn: 5.7634417\ttotal: 5.96s\tremaining: 655ms\n",
      "901:\tlearn: 5.7524317\ttotal: 5.97s\tremaining: 648ms\n",
      "902:\tlearn: 5.7447835\ttotal: 5.99s\tremaining: 643ms\n",
      "903:\tlearn: 5.7339397\ttotal: 5.99s\tremaining: 637ms\n",
      "904:\tlearn: 5.7289921\ttotal: 6s\tremaining: 630ms\n",
      "905:\tlearn: 5.7226623\ttotal: 6.01s\tremaining: 623ms\n",
      "906:\tlearn: 5.7152305\ttotal: 6.01s\tremaining: 617ms\n",
      "907:\tlearn: 5.7114927\ttotal: 6.02s\tremaining: 610ms\n",
      "908:\tlearn: 5.7034704\ttotal: 6.03s\tremaining: 604ms\n",
      "909:\tlearn: 5.6936349\ttotal: 6.04s\tremaining: 597ms\n",
      "910:\tlearn: 5.6867166\ttotal: 6.05s\tremaining: 591ms\n",
      "911:\tlearn: 5.6793156\ttotal: 6.05s\tremaining: 584ms\n",
      "912:\tlearn: 5.6714505\ttotal: 6.06s\tremaining: 578ms\n",
      "913:\tlearn: 5.6626546\ttotal: 6.07s\tremaining: 571ms\n",
      "914:\tlearn: 5.6603530\ttotal: 6.08s\tremaining: 564ms\n",
      "915:\tlearn: 5.6532530\ttotal: 6.08s\tremaining: 558ms\n",
      "916:\tlearn: 5.6433653\ttotal: 6.09s\tremaining: 551ms\n",
      "917:\tlearn: 5.6429465\ttotal: 6.09s\tremaining: 544ms\n",
      "918:\tlearn: 5.6376044\ttotal: 6.1s\tremaining: 538ms\n",
      "919:\tlearn: 5.6265131\ttotal: 6.11s\tremaining: 531ms\n",
      "920:\tlearn: 5.6211756\ttotal: 6.11s\tremaining: 524ms\n",
      "921:\tlearn: 5.6150185\ttotal: 6.12s\tremaining: 518ms\n",
      "922:\tlearn: 5.6105355\ttotal: 6.12s\tremaining: 511ms\n",
      "923:\tlearn: 5.6040917\ttotal: 6.13s\tremaining: 504ms\n",
      "924:\tlearn: 5.6035693\ttotal: 6.14s\tremaining: 498ms\n",
      "925:\tlearn: 5.5980627\ttotal: 6.14s\tremaining: 491ms\n",
      "926:\tlearn: 5.5928594\ttotal: 6.15s\tremaining: 484ms\n",
      "927:\tlearn: 5.5827262\ttotal: 6.15s\tremaining: 478ms\n",
      "928:\tlearn: 5.5770745\ttotal: 6.16s\tremaining: 471ms\n",
      "929:\tlearn: 5.5757047\ttotal: 6.17s\tremaining: 464ms\n",
      "930:\tlearn: 5.5658895\ttotal: 6.17s\tremaining: 458ms\n",
      "931:\tlearn: 5.5577041\ttotal: 6.18s\tremaining: 451ms\n",
      "932:\tlearn: 5.5496855\ttotal: 6.19s\tremaining: 444ms\n",
      "933:\tlearn: 5.5433632\ttotal: 6.19s\tremaining: 438ms\n",
      "934:\tlearn: 5.5322857\ttotal: 6.2s\tremaining: 431ms\n",
      "935:\tlearn: 5.5275959\ttotal: 6.21s\tremaining: 424ms\n",
      "936:\tlearn: 5.5189872\ttotal: 6.21s\tremaining: 418ms\n",
      "937:\tlearn: 5.5101347\ttotal: 6.22s\tremaining: 411ms\n",
      "938:\tlearn: 5.5043742\ttotal: 6.22s\tremaining: 404ms\n",
      "939:\tlearn: 5.4995910\ttotal: 6.23s\tremaining: 398ms\n",
      "940:\tlearn: 5.4941530\ttotal: 6.24s\tremaining: 391ms\n",
      "941:\tlearn: 5.4879573\ttotal: 6.24s\tremaining: 384ms\n",
      "942:\tlearn: 5.4757186\ttotal: 6.25s\tremaining: 378ms\n",
      "943:\tlearn: 5.4675221\ttotal: 6.25s\tremaining: 371ms\n",
      "944:\tlearn: 5.4594578\ttotal: 6.26s\tremaining: 364ms\n",
      "945:\tlearn: 5.4487784\ttotal: 6.27s\tremaining: 358ms\n",
      "946:\tlearn: 5.4427516\ttotal: 6.27s\tremaining: 351ms\n",
      "947:\tlearn: 5.4358647\ttotal: 6.28s\tremaining: 344ms\n",
      "948:\tlearn: 5.4307187\ttotal: 6.29s\tremaining: 338ms\n",
      "949:\tlearn: 5.4275077\ttotal: 6.29s\tremaining: 331ms\n",
      "950:\tlearn: 5.4239795\ttotal: 6.3s\tremaining: 325ms\n",
      "951:\tlearn: 5.4153658\ttotal: 6.3s\tremaining: 318ms\n",
      "952:\tlearn: 5.4089812\ttotal: 6.31s\tremaining: 311ms\n",
      "953:\tlearn: 5.4021917\ttotal: 6.32s\tremaining: 305ms\n",
      "954:\tlearn: 5.3984325\ttotal: 6.32s\tremaining: 298ms\n",
      "955:\tlearn: 5.3928380\ttotal: 6.33s\tremaining: 291ms\n",
      "956:\tlearn: 5.3869326\ttotal: 6.34s\tremaining: 285ms\n",
      "957:\tlearn: 5.3800977\ttotal: 6.34s\tremaining: 278ms\n",
      "958:\tlearn: 5.3752916\ttotal: 6.35s\tremaining: 271ms\n",
      "959:\tlearn: 5.3703852\ttotal: 6.36s\tremaining: 265ms\n",
      "960:\tlearn: 5.3642731\ttotal: 6.36s\tremaining: 258ms\n",
      "961:\tlearn: 5.3579483\ttotal: 6.37s\tremaining: 252ms\n",
      "962:\tlearn: 5.3536790\ttotal: 6.38s\tremaining: 245ms\n",
      "963:\tlearn: 5.3476102\ttotal: 6.39s\tremaining: 239ms\n",
      "964:\tlearn: 5.3406989\ttotal: 6.39s\tremaining: 232ms\n",
      "965:\tlearn: 5.3310249\ttotal: 6.4s\tremaining: 225ms\n",
      "966:\tlearn: 5.3250858\ttotal: 6.41s\tremaining: 219ms\n",
      "967:\tlearn: 5.3192515\ttotal: 6.42s\tremaining: 212ms\n",
      "968:\tlearn: 5.3141668\ttotal: 6.42s\tremaining: 205ms\n",
      "969:\tlearn: 5.3042927\ttotal: 6.43s\tremaining: 199ms\n",
      "970:\tlearn: 5.3003820\ttotal: 6.43s\tremaining: 192ms\n",
      "971:\tlearn: 5.2909503\ttotal: 6.44s\tremaining: 186ms\n",
      "972:\tlearn: 5.2882747\ttotal: 6.45s\tremaining: 179ms\n",
      "973:\tlearn: 5.2837758\ttotal: 6.45s\tremaining: 172ms\n",
      "974:\tlearn: 5.2750590\ttotal: 6.46s\tremaining: 166ms\n",
      "975:\tlearn: 5.2702408\ttotal: 6.47s\tremaining: 159ms\n",
      "976:\tlearn: 5.2637619\ttotal: 6.47s\tremaining: 152ms\n",
      "977:\tlearn: 5.2541311\ttotal: 6.48s\tremaining: 146ms\n",
      "978:\tlearn: 5.2488970\ttotal: 6.49s\tremaining: 139ms\n",
      "979:\tlearn: 5.2414393\ttotal: 6.49s\tremaining: 133ms\n",
      "980:\tlearn: 5.2372188\ttotal: 6.5s\tremaining: 126ms\n",
      "981:\tlearn: 5.2341163\ttotal: 6.51s\tremaining: 119ms\n",
      "982:\tlearn: 5.2243624\ttotal: 6.51s\tremaining: 113ms\n",
      "983:\tlearn: 5.2174427\ttotal: 6.52s\tremaining: 106ms\n",
      "984:\tlearn: 5.2116093\ttotal: 6.53s\tremaining: 99.4ms\n",
      "985:\tlearn: 5.2078189\ttotal: 6.53s\tremaining: 92.8ms\n",
      "986:\tlearn: 5.2015901\ttotal: 6.54s\tremaining: 86.1ms\n",
      "987:\tlearn: 5.1946565\ttotal: 6.54s\tremaining: 79.5ms\n",
      "988:\tlearn: 5.1880867\ttotal: 6.55s\tremaining: 72.9ms\n",
      "989:\tlearn: 5.1788448\ttotal: 6.56s\tremaining: 66.2ms\n",
      "990:\tlearn: 5.1749192\ttotal: 6.56s\tremaining: 59.6ms\n",
      "991:\tlearn: 5.1662786\ttotal: 6.57s\tremaining: 53ms\n",
      "992:\tlearn: 5.1559218\ttotal: 6.58s\tremaining: 46.4ms\n",
      "993:\tlearn: 5.1448957\ttotal: 6.58s\tremaining: 39.7ms\n",
      "994:\tlearn: 5.1375742\ttotal: 6.59s\tremaining: 33.1ms\n",
      "995:\tlearn: 5.1327563\ttotal: 6.6s\tremaining: 26.5ms\n",
      "996:\tlearn: 5.1258348\ttotal: 6.6s\tremaining: 19.9ms\n",
      "997:\tlearn: 5.1218718\ttotal: 6.61s\tremaining: 13.2ms\n",
      "998:\tlearn: 5.1128199\ttotal: 6.62s\tremaining: 6.62ms\n",
      "999:\tlearn: 5.1093000\ttotal: 6.62s\tremaining: 0us\n"
     ]
    },
    {
     "data": {
      "text/plain": [
       "42.264283916582535"
      ]
     },
     "execution_count": 27,
     "metadata": {},
     "output_type": "execute_result"
    }
   ],
   "source": [
    "model = CatBoostRegressor(loss_function='RMSE', \n",
    "                          random_state=12345,\n",
    "                          learning_rate=0.1,\n",
    "                          depth=6,\n",
    "                          l2_leaf_reg=1)\n",
    "\n",
    "model.fit(train_features, train_target)\n",
    "pred_test = model.predict(test_features)\n",
    "\n",
    "mean_squared_error(test_target, pred_test, squared=False)"
   ]
  },
  {
   "cell_type": "code",
   "execution_count": 28,
   "metadata": {},
   "outputs": [
    {
     "data": {
      "text/plain": [
       "<AxesSubplot:xlabel='datetime'>"
      ]
     },
     "execution_count": 28,
     "metadata": {},
     "output_type": "execute_result"
    },
    {
     "data": {
      "image/png": "[encoded data removed]",
      "text/plain": [
       "<Figure size 720x432 with 1 Axes>"
      ]
     },
     "metadata": {
      "needs_background": "light"
     },
     "output_type": "display_data"
    }
   ],
   "source": [
    "d = {'test': test_target.values , 'pred': pred_test}\n",
    "pd.DataFrame(data=d, index=test_target.index).plot(figsize=(10, 6))"
   ]
  },
  {
   "cell_type": "markdown",
   "metadata": {},
   "source": [
    "## Вывод"
   ]
  },
  {
   "cell_type": "markdown",
   "metadata": {},
   "source": [
    "**- Ряд непрерывный и монотонный. Даты с 2018-03-01 по 2018-08-31**\n",
    "\n",
    "**- Декомпозиция ряда и тест Дики-Фуллера показали, что ряд не стационарен**\n",
    "\n",
    "**- В данной работе не требуется проводить ряд к стационарности (ответ преподавателя в канале #project), но вопрос остаётся. (на сколько он нестационарен и необходимо ли принимать меры и какие?)**\n",
    "\n",
    "**- В целом все модели преодолели необходимый порого качества на тестовой выборке RMSE <= 48, но при разных значениях `lag` и `rolling_size`**\n",
    "\n",
    "**- Лучшее качество показала модель на тестовой выборке `CatBoostRegressor` при `lag`=28 и `rolling_size`=1**\n",
    "\n",
    "**- Качество для все моделей в большей степени зависит от `lag` чем от `rolling_size`**"
   ]
  }
 ],
 "metadata": {
  "ExecuteTimeLog": [
   {
    "duration": 1717,
    "start_time": "2022-05-23T11:40:13.057Z"
   },
   {
    "duration": 145,
    "start_time": "2022-05-23T11:40:14.776Z"
   },
   {
    "duration": 45,
    "start_time": "2022-05-23T11:40:15.828Z"
   },
   {
    "duration": 3,
    "start_time": "2022-05-23T11:43:36.469Z"
   },
   {
    "duration": 124,
    "start_time": "2022-05-23T11:43:42.868Z"
   },
   {
    "duration": 9,
    "start_time": "2022-05-23T11:44:03.236Z"
   },
   {
    "duration": 9,
    "start_time": "2022-05-23T11:45:53.523Z"
   },
   {
    "duration": 13,
    "start_time": "2022-05-23T11:46:40.138Z"
   },
   {
    "duration": 10,
    "start_time": "2022-05-23T11:46:54.243Z"
   },
   {
    "duration": 5,
    "start_time": "2022-05-23T11:46:59.221Z"
   },
   {
    "duration": 46,
    "start_time": "2022-05-23T11:46:59.228Z"
   },
   {
    "duration": 45,
    "start_time": "2022-05-23T11:46:59.276Z"
   },
   {
    "duration": 12,
    "start_time": "2022-05-23T11:47:01.761Z"
   },
   {
    "duration": 10,
    "start_time": "2022-05-23T11:47:09.730Z"
   },
   {
    "duration": 4,
    "start_time": "2022-05-23T11:47:20.218Z"
   },
   {
    "duration": 2,
    "start_time": "2022-05-23T11:47:21.233Z"
   },
   {
    "duration": 3,
    "start_time": "2022-05-23T11:47:24.641Z"
   },
   {
    "duration": 11,
    "start_time": "2022-05-23T11:47:32.010Z"
   },
   {
    "duration": 13,
    "start_time": "2022-05-23T11:47:37.791Z"
   },
   {
    "duration": 52,
    "start_time": "2022-05-23T11:47:37.805Z"
   },
   {
    "duration": 44,
    "start_time": "2022-05-23T11:47:37.859Z"
   },
   {
    "duration": 11,
    "start_time": "2022-05-23T11:47:37.904Z"
   },
   {
    "duration": 9,
    "start_time": "2022-05-23T11:47:41.153Z"
   },
   {
    "duration": 9,
    "start_time": "2022-05-23T11:47:44.122Z"
   },
   {
    "duration": 10,
    "start_time": "2022-05-23T11:48:06.281Z"
   },
   {
    "duration": 5,
    "start_time": "2022-05-23T11:48:08.706Z"
   },
   {
    "duration": 48,
    "start_time": "2022-05-23T11:48:08.714Z"
   },
   {
    "duration": 49,
    "start_time": "2022-05-23T11:48:08.764Z"
   },
   {
    "duration": 10,
    "start_time": "2022-05-23T11:48:10.121Z"
   },
   {
    "duration": 7,
    "start_time": "2022-05-23T11:48:11.280Z"
   },
   {
    "duration": 1136,
    "start_time": "2022-05-23T11:49:41.417Z"
   },
   {
    "duration": 4,
    "start_time": "2022-05-23T11:49:56.022Z"
   },
   {
    "duration": 51,
    "start_time": "2022-05-23T11:49:56.028Z"
   },
   {
    "duration": 46,
    "start_time": "2022-05-23T11:49:56.081Z"
   },
   {
    "duration": 16,
    "start_time": "2022-05-23T11:49:57.744Z"
   },
   {
    "duration": 6,
    "start_time": "2022-05-23T11:52:13.338Z"
   },
   {
    "duration": 57,
    "start_time": "2022-05-23T11:52:13.346Z"
   },
   {
    "duration": 46,
    "start_time": "2022-05-23T11:52:13.405Z"
   },
   {
    "duration": 20,
    "start_time": "2022-05-23T11:52:14.687Z"
   },
   {
    "duration": 10,
    "start_time": "2022-05-23T11:52:53.456Z"
   },
   {
    "duration": 5,
    "start_time": "2022-05-23T11:52:57.496Z"
   },
   {
    "duration": 62,
    "start_time": "2022-05-23T11:52:57.503Z"
   },
   {
    "duration": 52,
    "start_time": "2022-05-23T11:52:57.568Z"
   },
   {
    "duration": 17,
    "start_time": "2022-05-23T11:52:59.359Z"
   },
   {
    "duration": 14,
    "start_time": "2022-05-23T11:53:56.894Z"
   },
   {
    "duration": 1413,
    "start_time": "2022-05-23T11:54:07.533Z"
   },
   {
    "duration": 43,
    "start_time": "2022-05-23T11:54:08.948Z"
   },
   {
    "duration": 51,
    "start_time": "2022-05-23T11:54:08.993Z"
   },
   {
    "duration": 16,
    "start_time": "2022-05-23T11:54:09.046Z"
   },
   {
    "duration": 32,
    "start_time": "2022-05-23T11:54:09.064Z"
   },
   {
    "duration": 1546,
    "start_time": "2022-05-23T11:56:04.460Z"
   },
   {
    "duration": 53,
    "start_time": "2022-05-23T11:56:06.018Z"
   },
   {
    "duration": 63,
    "start_time": "2022-05-23T11:56:06.072Z"
   },
   {
    "duration": 20,
    "start_time": "2022-05-23T11:56:06.139Z"
   },
   {
    "duration": 7,
    "start_time": "2022-05-23T11:56:06.161Z"
   },
   {
    "duration": 146,
    "start_time": "2022-05-23T11:56:34.965Z"
   },
   {
    "duration": 11,
    "start_time": "2022-05-23T11:56:47.422Z"
   },
   {
    "duration": 4,
    "start_time": "2022-05-23T11:56:57.861Z"
   },
   {
    "duration": 4,
    "start_time": "2022-05-23T11:57:34.589Z"
   },
   {
    "duration": 10,
    "start_time": "2022-05-23T11:59:32.891Z"
   },
   {
    "duration": 15,
    "start_time": "2022-05-23T12:00:35.021Z"
   },
   {
    "duration": 1521,
    "start_time": "2022-05-23T12:01:16.500Z"
   },
   {
    "duration": 45,
    "start_time": "2022-05-23T12:01:18.025Z"
   },
   {
    "duration": 56,
    "start_time": "2022-05-23T12:01:18.072Z"
   },
   {
    "duration": 10,
    "start_time": "2022-05-23T12:01:18.129Z"
   },
   {
    "duration": 10,
    "start_time": "2022-05-23T12:01:18.141Z"
   },
   {
    "duration": 6,
    "start_time": "2022-05-23T12:01:18.152Z"
   },
   {
    "duration": 261,
    "start_time": "2022-05-23T12:01:37.982Z"
   },
   {
    "duration": 306,
    "start_time": "2022-05-23T12:03:49.154Z"
   },
   {
    "duration": 101,
    "start_time": "2022-05-23T12:03:53.064Z"
   },
   {
    "duration": 352,
    "start_time": "2022-05-23T12:03:57.367Z"
   },
   {
    "duration": 6,
    "start_time": "2022-05-23T12:10:03.283Z"
   },
   {
    "duration": 287,
    "start_time": "2022-05-23T12:10:15.068Z"
   },
   {
    "duration": 346,
    "start_time": "2022-05-23T12:11:58.787Z"
   },
   {
    "duration": 5,
    "start_time": "2022-05-23T12:12:09.331Z"
   },
   {
    "duration": 437,
    "start_time": "2022-05-23T12:12:10.396Z"
   },
   {
    "duration": 5,
    "start_time": "2022-05-23T12:12:15.963Z"
   },
   {
    "duration": 320,
    "start_time": "2022-05-23T12:12:16.788Z"
   },
   {
    "duration": 7,
    "start_time": "2022-05-23T12:13:23.771Z"
   },
   {
    "duration": 297,
    "start_time": "2022-05-23T12:13:24.594Z"
   },
   {
    "duration": 1378,
    "start_time": "2022-05-23T12:14:59.732Z"
   },
   {
    "duration": 44,
    "start_time": "2022-05-23T12:15:01.113Z"
   },
   {
    "duration": 58,
    "start_time": "2022-05-23T12:15:01.159Z"
   },
   {
    "duration": 14,
    "start_time": "2022-05-23T12:15:01.219Z"
   },
   {
    "duration": 24,
    "start_time": "2022-05-23T12:15:01.234Z"
   },
   {
    "duration": 9,
    "start_time": "2022-05-23T12:15:01.260Z"
   },
   {
    "duration": 285,
    "start_time": "2022-05-23T12:15:01.271Z"
   },
   {
    "duration": 6,
    "start_time": "2022-05-23T12:15:01.557Z"
   },
   {
    "duration": 353,
    "start_time": "2022-05-23T12:15:01.564Z"
   },
   {
    "duration": 125,
    "start_time": "2022-05-23T12:19:14.655Z"
   },
   {
    "duration": 1447,
    "start_time": "2022-05-23T12:19:33.166Z"
   },
   {
    "duration": 43,
    "start_time": "2022-05-23T12:19:34.614Z"
   },
   {
    "duration": 56,
    "start_time": "2022-05-23T12:19:34.659Z"
   },
   {
    "duration": 16,
    "start_time": "2022-05-23T12:19:34.717Z"
   },
   {
    "duration": 20,
    "start_time": "2022-05-23T12:19:34.735Z"
   },
   {
    "duration": 5,
    "start_time": "2022-05-23T12:19:34.757Z"
   },
   {
    "duration": 308,
    "start_time": "2022-05-23T12:19:34.763Z"
   },
   {
    "duration": 6,
    "start_time": "2022-05-23T12:19:35.073Z"
   },
   {
    "duration": 332,
    "start_time": "2022-05-23T12:19:35.081Z"
   },
   {
    "duration": 150,
    "start_time": "2022-05-23T12:19:35.416Z"
   },
   {
    "duration": 0,
    "start_time": "2022-05-23T12:19:35.568Z"
   },
   {
    "duration": 11,
    "start_time": "2022-05-23T12:21:12.010Z"
   },
   {
    "duration": 1421,
    "start_time": "2022-05-23T12:22:49.448Z"
   },
   {
    "duration": 52,
    "start_time": "2022-05-23T12:22:50.871Z"
   },
   {
    "duration": 48,
    "start_time": "2022-05-23T12:22:50.925Z"
   },
   {
    "duration": 31,
    "start_time": "2022-05-23T12:22:50.975Z"
   },
   {
    "duration": 16,
    "start_time": "2022-05-23T12:22:51.012Z"
   },
   {
    "duration": 5,
    "start_time": "2022-05-23T12:22:51.030Z"
   },
   {
    "duration": 304,
    "start_time": "2022-05-23T12:22:51.037Z"
   },
   {
    "duration": 6,
    "start_time": "2022-05-23T12:22:51.343Z"
   },
   {
    "duration": 335,
    "start_time": "2022-05-23T12:22:51.350Z"
   },
   {
    "duration": 15,
    "start_time": "2022-05-23T12:22:51.686Z"
   },
   {
    "duration": 168,
    "start_time": "2022-05-23T12:22:51.705Z"
   },
   {
    "duration": 0,
    "start_time": "2022-05-23T12:22:51.875Z"
   },
   {
    "duration": 381,
    "start_time": "2022-05-23T12:24:04.643Z"
   },
   {
    "duration": 1467,
    "start_time": "2022-05-23T12:24:20.747Z"
   },
   {
    "duration": 55,
    "start_time": "2022-05-23T12:24:22.217Z"
   },
   {
    "duration": 64,
    "start_time": "2022-05-23T12:24:22.274Z"
   },
   {
    "duration": 13,
    "start_time": "2022-05-23T12:24:22.340Z"
   },
   {
    "duration": 24,
    "start_time": "2022-05-23T12:24:22.355Z"
   },
   {
    "duration": 18,
    "start_time": "2022-05-23T12:24:22.395Z"
   },
   {
    "duration": 304,
    "start_time": "2022-05-23T12:24:22.414Z"
   },
   {
    "duration": 298,
    "start_time": "2022-05-23T12:24:22.720Z"
   },
   {
    "duration": 10,
    "start_time": "2022-05-23T12:24:23.020Z"
   },
   {
    "duration": 10,
    "start_time": "2022-05-23T12:24:23.033Z"
   },
   {
    "duration": 282,
    "start_time": "2022-05-23T12:24:23.045Z"
   },
   {
    "duration": 6,
    "start_time": "2022-05-23T12:25:48.009Z"
   },
   {
    "duration": 1570,
    "start_time": "2022-05-23T12:26:48.657Z"
   },
   {
    "duration": 44,
    "start_time": "2022-05-23T12:26:50.230Z"
   },
   {
    "duration": 62,
    "start_time": "2022-05-23T12:26:50.276Z"
   },
   {
    "duration": 14,
    "start_time": "2022-05-23T12:26:50.341Z"
   },
   {
    "duration": 42,
    "start_time": "2022-05-23T12:26:50.356Z"
   },
   {
    "duration": 13,
    "start_time": "2022-05-23T12:26:50.404Z"
   },
   {
    "duration": 332,
    "start_time": "2022-05-23T12:26:50.419Z"
   },
   {
    "duration": 391,
    "start_time": "2022-05-23T12:26:50.754Z"
   },
   {
    "duration": 15,
    "start_time": "2022-05-23T12:26:51.147Z"
   },
   {
    "duration": 24,
    "start_time": "2022-05-23T12:26:51.166Z"
   },
   {
    "duration": 292,
    "start_time": "2022-05-23T12:26:51.192Z"
   },
   {
    "duration": 840,
    "start_time": "2022-05-23T12:28:19.449Z"
   },
   {
    "duration": 751,
    "start_time": "2022-05-23T12:28:34.264Z"
   },
   {
    "duration": 648,
    "start_time": "2022-05-23T12:29:00.648Z"
   },
   {
    "duration": 146,
    "start_time": "2022-05-23T12:29:12.640Z"
   },
   {
    "duration": 23,
    "start_time": "2022-05-23T12:29:38.928Z"
   },
   {
    "duration": 405,
    "start_time": "2022-05-23T12:29:54.185Z"
   },
   {
    "duration": 742,
    "start_time": "2022-05-23T12:30:10.711Z"
   },
   {
    "duration": 979,
    "start_time": "2022-05-23T12:30:16.960Z"
   },
   {
    "duration": 696,
    "start_time": "2022-05-23T12:31:38.803Z"
   },
   {
    "duration": 700,
    "start_time": "2022-05-23T12:31:51.134Z"
   },
   {
    "duration": 11,
    "start_time": "2022-05-23T12:40:37.292Z"
   },
   {
    "duration": 748,
    "start_time": "2022-05-23T12:40:38.955Z"
   },
   {
    "duration": 627,
    "start_time": "2022-05-23T12:44:52.952Z"
   },
   {
    "duration": 412,
    "start_time": "2022-05-23T12:45:21.252Z"
   },
   {
    "duration": 374,
    "start_time": "2022-05-23T12:45:49.345Z"
   },
   {
    "duration": 541,
    "start_time": "2022-05-23T12:45:55.218Z"
   },
   {
    "duration": 363,
    "start_time": "2022-05-23T12:46:10.473Z"
   },
   {
    "duration": 387,
    "start_time": "2022-05-23T12:48:01.469Z"
   },
   {
    "duration": 365,
    "start_time": "2022-05-23T12:48:38.935Z"
   },
   {
    "duration": 1590,
    "start_time": "2022-05-24T05:30:36.724Z"
   },
   {
    "duration": 108,
    "start_time": "2022-05-24T05:30:38.316Z"
   },
   {
    "duration": 46,
    "start_time": "2022-05-24T05:30:38.425Z"
   },
   {
    "duration": 10,
    "start_time": "2022-05-24T05:30:38.473Z"
   },
   {
    "duration": 43,
    "start_time": "2022-05-24T05:30:38.485Z"
   },
   {
    "duration": 4,
    "start_time": "2022-05-24T05:30:38.529Z"
   },
   {
    "duration": 286,
    "start_time": "2022-05-24T05:30:38.535Z"
   },
   {
    "duration": 336,
    "start_time": "2022-05-24T05:30:38.825Z"
   },
   {
    "duration": 16,
    "start_time": "2022-05-24T05:30:39.163Z"
   },
   {
    "duration": 10,
    "start_time": "2022-05-24T05:30:39.183Z"
   },
   {
    "duration": 881,
    "start_time": "2022-05-24T05:30:39.195Z"
   },
   {
    "duration": 161,
    "start_time": "2022-05-24T05:30:40.078Z"
   },
   {
    "duration": 0,
    "start_time": "2022-05-24T05:30:40.241Z"
   },
   {
    "duration": 21,
    "start_time": "2022-05-24T05:31:02.739Z"
   },
   {
    "duration": 33,
    "start_time": "2022-05-24T05:31:52.812Z"
   },
   {
    "duration": 17,
    "start_time": "2022-05-24T05:32:02.403Z"
   },
   {
    "duration": 2814,
    "start_time": "2022-05-24T05:32:35.114Z"
   },
   {
    "duration": 1767,
    "start_time": "2022-05-24T06:23:22.070Z"
   },
   {
    "duration": 1626,
    "start_time": "2022-05-24T06:25:24.309Z"
   },
   {
    "duration": 1699,
    "start_time": "2022-05-24T06:25:49.029Z"
   },
   {
    "duration": 1406,
    "start_time": "2022-05-24T06:52:38.811Z"
   },
   {
    "duration": 64,
    "start_time": "2022-05-24T06:52:40.218Z"
   },
   {
    "duration": 58,
    "start_time": "2022-05-24T06:52:40.283Z"
   },
   {
    "duration": 15,
    "start_time": "2022-05-24T06:52:40.343Z"
   },
   {
    "duration": 17,
    "start_time": "2022-05-24T06:52:40.360Z"
   },
   {
    "duration": 3,
    "start_time": "2022-05-24T06:52:40.379Z"
   },
   {
    "duration": 359,
    "start_time": "2022-05-24T06:52:40.384Z"
   },
   {
    "duration": 7,
    "start_time": "2022-05-24T06:52:40.749Z"
   },
   {
    "duration": 829,
    "start_time": "2022-05-24T06:52:40.758Z"
   },
   {
    "duration": 5651,
    "start_time": "2022-05-24T06:52:41.589Z"
   },
   {
    "duration": 504,
    "start_time": "2022-05-24T06:52:47.243Z"
   },
   {
    "duration": 5,
    "start_time": "2022-05-24T07:07:28.656Z"
   },
   {
    "duration": 4,
    "start_time": "2022-05-24T07:08:41.319Z"
   },
   {
    "duration": 1411,
    "start_time": "2022-05-24T07:17:37.846Z"
   },
   {
    "duration": 41,
    "start_time": "2022-05-24T07:17:39.259Z"
   },
   {
    "duration": 49,
    "start_time": "2022-05-24T07:17:39.302Z"
   },
   {
    "duration": 11,
    "start_time": "2022-05-24T07:17:39.353Z"
   },
   {
    "duration": 19,
    "start_time": "2022-05-24T07:17:39.366Z"
   },
   {
    "duration": 7,
    "start_time": "2022-05-24T07:17:39.388Z"
   },
   {
    "duration": 372,
    "start_time": "2022-05-24T07:17:39.397Z"
   },
   {
    "duration": 7,
    "start_time": "2022-05-24T07:17:39.771Z"
   },
   {
    "duration": 726,
    "start_time": "2022-05-24T07:17:39.780Z"
   },
   {
    "duration": 3640,
    "start_time": "2022-05-24T07:17:40.508Z"
   },
   {
    "duration": 587,
    "start_time": "2022-05-24T07:17:44.153Z"
   },
   {
    "duration": 175,
    "start_time": "2022-05-24T07:17:44.744Z"
   },
   {
    "duration": 0,
    "start_time": "2022-05-24T07:17:44.921Z"
   },
   {
    "duration": 0,
    "start_time": "2022-05-24T07:17:44.925Z"
   },
   {
    "duration": 9,
    "start_time": "2022-05-24T07:18:06.694Z"
   },
   {
    "duration": 6,
    "start_time": "2022-05-24T07:18:54.900Z"
   },
   {
    "duration": 4,
    "start_time": "2022-05-24T07:18:55.763Z"
   },
   {
    "duration": 5,
    "start_time": "2022-05-24T07:19:11.188Z"
   },
   {
    "duration": 19,
    "start_time": "2022-05-24T07:21:22.050Z"
   },
   {
    "duration": 14,
    "start_time": "2022-05-24T07:22:27.946Z"
   },
   {
    "duration": 17,
    "start_time": "2022-05-24T07:23:12.641Z"
   },
   {
    "duration": 21,
    "start_time": "2022-05-24T07:23:44.675Z"
   },
   {
    "duration": 27,
    "start_time": "2022-05-24T07:23:54.914Z"
   },
   {
    "duration": 24,
    "start_time": "2022-05-24T07:23:59.683Z"
   },
   {
    "duration": 14,
    "start_time": "2022-05-24T07:24:27.641Z"
   },
   {
    "duration": 1424,
    "start_time": "2022-05-24T07:25:05.968Z"
   },
   {
    "duration": 42,
    "start_time": "2022-05-24T07:25:07.394Z"
   },
   {
    "duration": 47,
    "start_time": "2022-05-24T07:25:07.438Z"
   },
   {
    "duration": 12,
    "start_time": "2022-05-24T07:25:07.487Z"
   },
   {
    "duration": 39,
    "start_time": "2022-05-24T07:25:07.500Z"
   },
   {
    "duration": 4,
    "start_time": "2022-05-24T07:25:07.541Z"
   },
   {
    "duration": 342,
    "start_time": "2022-05-24T07:25:07.547Z"
   },
   {
    "duration": 7,
    "start_time": "2022-05-24T07:25:07.891Z"
   },
   {
    "duration": 749,
    "start_time": "2022-05-24T07:25:07.900Z"
   },
   {
    "duration": 1888,
    "start_time": "2022-05-24T07:25:08.651Z"
   },
   {
    "duration": 431,
    "start_time": "2022-05-24T07:25:10.628Z"
   },
   {
    "duration": 9,
    "start_time": "2022-05-24T07:25:11.061Z"
   },
   {
    "duration": 25,
    "start_time": "2022-05-24T07:25:11.072Z"
   },
   {
    "duration": 16,
    "start_time": "2022-05-24T07:25:11.099Z"
   },
   {
    "duration": 6,
    "start_time": "2022-05-24T07:25:11.126Z"
   },
   {
    "duration": 20,
    "start_time": "2022-05-24T07:25:11.134Z"
   },
   {
    "duration": 7,
    "start_time": "2022-05-24T07:25:11.157Z"
   },
   {
    "duration": 145,
    "start_time": "2022-05-24T07:25:11.166Z"
   },
   {
    "duration": 1458,
    "start_time": "2022-05-24T07:28:56.714Z"
   },
   {
    "duration": 43,
    "start_time": "2022-05-24T07:28:58.174Z"
   },
   {
    "duration": 49,
    "start_time": "2022-05-24T07:28:58.218Z"
   },
   {
    "duration": 11,
    "start_time": "2022-05-24T07:28:58.269Z"
   },
   {
    "duration": 16,
    "start_time": "2022-05-24T07:28:58.282Z"
   },
   {
    "duration": 5,
    "start_time": "2022-05-24T07:28:58.325Z"
   },
   {
    "duration": 292,
    "start_time": "2022-05-24T07:28:58.332Z"
   },
   {
    "duration": 7,
    "start_time": "2022-05-24T07:28:58.625Z"
   },
   {
    "duration": 759,
    "start_time": "2022-05-24T07:28:58.634Z"
   },
   {
    "duration": 1831,
    "start_time": "2022-05-24T07:28:59.396Z"
   },
   {
    "duration": 458,
    "start_time": "2022-05-24T07:29:01.229Z"
   },
   {
    "duration": 8,
    "start_time": "2022-05-24T07:29:01.688Z"
   },
   {
    "duration": 19,
    "start_time": "2022-05-24T07:29:01.697Z"
   },
   {
    "duration": 13,
    "start_time": "2022-05-24T07:29:01.725Z"
   },
   {
    "duration": 20,
    "start_time": "2022-05-24T07:29:01.739Z"
   },
   {
    "duration": 18,
    "start_time": "2022-05-24T07:29:01.761Z"
   },
   {
    "duration": 20,
    "start_time": "2022-05-24T07:29:01.781Z"
   },
   {
    "duration": 156,
    "start_time": "2022-05-24T07:29:01.803Z"
   },
   {
    "duration": 12,
    "start_time": "2022-05-24T07:39:39.304Z"
   },
   {
    "duration": 14,
    "start_time": "2022-05-24T07:39:57.743Z"
   },
   {
    "duration": 1506,
    "start_time": "2022-05-24T08:12:19.811Z"
   },
   {
    "duration": 42,
    "start_time": "2022-05-24T08:12:21.319Z"
   },
   {
    "duration": 48,
    "start_time": "2022-05-24T08:12:21.364Z"
   },
   {
    "duration": 12,
    "start_time": "2022-05-24T08:12:21.414Z"
   },
   {
    "duration": 28,
    "start_time": "2022-05-24T08:12:21.428Z"
   },
   {
    "duration": 3,
    "start_time": "2022-05-24T08:12:21.458Z"
   },
   {
    "duration": 279,
    "start_time": "2022-05-24T08:12:21.462Z"
   },
   {
    "duration": 6,
    "start_time": "2022-05-24T08:12:21.743Z"
   },
   {
    "duration": 792,
    "start_time": "2022-05-24T08:12:21.750Z"
   },
   {
    "duration": 1692,
    "start_time": "2022-05-24T08:12:22.544Z"
   },
   {
    "duration": 528,
    "start_time": "2022-05-24T08:12:24.238Z"
   },
   {
    "duration": 6,
    "start_time": "2022-05-24T08:12:24.768Z"
   },
   {
    "duration": 24,
    "start_time": "2022-05-24T08:12:24.776Z"
   },
   {
    "duration": 12,
    "start_time": "2022-05-24T08:12:24.801Z"
   },
   {
    "duration": 47,
    "start_time": "2022-05-24T08:12:24.815Z"
   },
   {
    "duration": 15,
    "start_time": "2022-05-24T08:12:24.864Z"
   },
   {
    "duration": 17,
    "start_time": "2022-05-24T08:12:24.881Z"
   },
   {
    "duration": 12,
    "start_time": "2022-05-24T08:12:24.899Z"
   },
   {
    "duration": 161,
    "start_time": "2022-05-24T08:12:24.912Z"
   },
   {
    "duration": 1546,
    "start_time": "2022-05-24T08:14:26.298Z"
   },
   {
    "duration": 43,
    "start_time": "2022-05-24T08:14:27.846Z"
   },
   {
    "duration": 47,
    "start_time": "2022-05-24T08:14:27.890Z"
   },
   {
    "duration": 11,
    "start_time": "2022-05-24T08:14:27.939Z"
   },
   {
    "duration": 37,
    "start_time": "2022-05-24T08:14:27.951Z"
   },
   {
    "duration": 5,
    "start_time": "2022-05-24T08:14:27.990Z"
   },
   {
    "duration": 296,
    "start_time": "2022-05-24T08:14:27.996Z"
   },
   {
    "duration": 7,
    "start_time": "2022-05-24T08:14:28.293Z"
   },
   {
    "duration": 780,
    "start_time": "2022-05-24T08:14:28.301Z"
   },
   {
    "duration": 1941,
    "start_time": "2022-05-24T08:14:29.084Z"
   },
   {
    "duration": 447,
    "start_time": "2022-05-24T08:14:31.028Z"
   },
   {
    "duration": 7,
    "start_time": "2022-05-24T08:14:31.477Z"
   },
   {
    "duration": 52,
    "start_time": "2022-05-24T08:14:31.485Z"
   },
   {
    "duration": 50,
    "start_time": "2022-05-24T08:14:31.540Z"
   },
   {
    "duration": 64,
    "start_time": "2022-05-24T08:14:31.591Z"
   },
   {
    "duration": 25,
    "start_time": "2022-05-24T08:14:31.658Z"
   },
   {
    "duration": 30,
    "start_time": "2022-05-24T08:14:31.685Z"
   },
   {
    "duration": 25,
    "start_time": "2022-05-24T08:14:31.717Z"
   },
   {
    "duration": 30,
    "start_time": "2022-05-24T08:14:31.744Z"
   },
   {
    "duration": 9,
    "start_time": "2022-05-24T08:22:37.674Z"
   },
   {
    "duration": 15,
    "start_time": "2022-05-24T08:22:52.969Z"
   },
   {
    "duration": 4,
    "start_time": "2022-05-24T08:23:18.459Z"
   },
   {
    "duration": 7,
    "start_time": "2022-05-24T08:23:19.746Z"
   },
   {
    "duration": 41,
    "start_time": "2022-05-24T08:23:21.986Z"
   },
   {
    "duration": 544,
    "start_time": "2022-05-24T08:33:13.839Z"
   },
   {
    "duration": 17,
    "start_time": "2022-05-24T08:34:20.262Z"
   },
   {
    "duration": 4,
    "start_time": "2022-05-24T08:34:28.981Z"
   },
   {
    "duration": 36,
    "start_time": "2022-05-24T08:35:13.724Z"
   },
   {
    "duration": 7,
    "start_time": "2022-05-24T08:36:00.662Z"
   },
   {
    "duration": 1515,
    "start_time": "2022-05-24T08:52:07.944Z"
   },
   {
    "duration": 43,
    "start_time": "2022-05-24T08:52:09.462Z"
   },
   {
    "duration": 50,
    "start_time": "2022-05-24T08:52:09.507Z"
   },
   {
    "duration": 13,
    "start_time": "2022-05-24T08:52:09.559Z"
   },
   {
    "duration": 35,
    "start_time": "2022-05-24T08:52:09.574Z"
   },
   {
    "duration": 19,
    "start_time": "2022-05-24T08:52:09.611Z"
   },
   {
    "duration": 300,
    "start_time": "2022-05-24T08:52:09.632Z"
   },
   {
    "duration": 9,
    "start_time": "2022-05-24T08:52:09.935Z"
   },
   {
    "duration": 753,
    "start_time": "2022-05-24T08:52:09.945Z"
   },
   {
    "duration": 2432,
    "start_time": "2022-05-24T08:52:10.700Z"
   },
   {
    "duration": 519,
    "start_time": "2022-05-24T08:52:13.135Z"
   },
   {
    "duration": 7,
    "start_time": "2022-05-24T08:52:13.656Z"
   },
   {
    "duration": 20,
    "start_time": "2022-05-24T08:52:13.665Z"
   },
   {
    "duration": 12,
    "start_time": "2022-05-24T08:52:13.688Z"
   },
   {
    "duration": 42,
    "start_time": "2022-05-24T08:52:13.701Z"
   },
   {
    "duration": 4,
    "start_time": "2022-05-24T08:52:13.745Z"
   },
   {
    "duration": 11,
    "start_time": "2022-05-24T08:52:13.750Z"
   },
   {
    "duration": 20,
    "start_time": "2022-05-24T08:52:13.763Z"
   },
   {
    "duration": 43,
    "start_time": "2022-05-24T08:52:13.785Z"
   },
   {
    "duration": 108,
    "start_time": "2022-05-24T08:52:13.830Z"
   },
   {
    "duration": 35,
    "start_time": "2022-05-24T08:52:13.940Z"
   },
   {
    "duration": 5,
    "start_time": "2022-05-24T08:52:13.977Z"
   },
   {
    "duration": 42,
    "start_time": "2022-05-24T08:52:13.984Z"
   },
   {
    "duration": 413,
    "start_time": "2022-05-24T08:52:14.028Z"
   },
   {
    "duration": 0,
    "start_time": "2022-05-24T08:52:14.443Z"
   },
   {
    "duration": 0,
    "start_time": "2022-05-24T08:52:14.446Z"
   },
   {
    "duration": 0,
    "start_time": "2022-05-24T08:52:14.448Z"
   },
   {
    "duration": 12,
    "start_time": "2022-05-24T08:53:11.024Z"
   },
   {
    "duration": 22,
    "start_time": "2022-05-24T08:53:21.602Z"
   },
   {
    "duration": 169,
    "start_time": "2022-05-24T08:53:47.568Z"
   },
   {
    "duration": 1440,
    "start_time": "2022-05-24T08:54:06.480Z"
   },
   {
    "duration": 54,
    "start_time": "2022-05-24T08:54:07.922Z"
   },
   {
    "duration": 50,
    "start_time": "2022-05-24T08:54:07.978Z"
   },
   {
    "duration": 12,
    "start_time": "2022-05-24T08:54:08.030Z"
   },
   {
    "duration": 23,
    "start_time": "2022-05-24T08:54:08.043Z"
   },
   {
    "duration": 6,
    "start_time": "2022-05-24T08:54:08.068Z"
   },
   {
    "duration": 331,
    "start_time": "2022-05-24T08:54:08.076Z"
   },
   {
    "duration": 7,
    "start_time": "2022-05-24T08:54:08.408Z"
   },
   {
    "duration": 789,
    "start_time": "2022-05-24T08:54:08.416Z"
   },
   {
    "duration": 3619,
    "start_time": "2022-05-24T08:54:09.208Z"
   },
   {
    "duration": 439,
    "start_time": "2022-05-24T08:54:12.833Z"
   },
   {
    "duration": 8,
    "start_time": "2022-05-24T08:54:13.274Z"
   },
   {
    "duration": 19,
    "start_time": "2022-05-24T08:54:13.284Z"
   },
   {
    "duration": 38,
    "start_time": "2022-05-24T08:54:13.304Z"
   },
   {
    "duration": 15,
    "start_time": "2022-05-24T08:54:13.345Z"
   },
   {
    "duration": 5,
    "start_time": "2022-05-24T08:54:13.362Z"
   },
   {
    "duration": 7,
    "start_time": "2022-05-24T08:54:13.369Z"
   },
   {
    "duration": 9,
    "start_time": "2022-05-24T08:54:13.378Z"
   },
   {
    "duration": 138,
    "start_time": "2022-05-24T08:54:13.389Z"
   },
   {
    "duration": 25,
    "start_time": "2022-05-24T08:54:13.528Z"
   },
   {
    "duration": 16,
    "start_time": "2022-05-24T08:54:13.555Z"
   },
   {
    "duration": 4,
    "start_time": "2022-05-24T08:54:13.573Z"
   },
   {
    "duration": 10,
    "start_time": "2022-05-24T08:54:13.578Z"
   },
   {
    "duration": 41,
    "start_time": "2022-05-24T08:54:13.589Z"
   },
   {
    "duration": 37,
    "start_time": "2022-05-24T08:54:13.632Z"
   },
   {
    "duration": 299,
    "start_time": "2022-05-24T08:54:13.671Z"
   },
   {
    "duration": 0,
    "start_time": "2022-05-24T08:54:13.973Z"
   },
   {
    "duration": 0,
    "start_time": "2022-05-24T08:54:13.974Z"
   },
   {
    "duration": 0,
    "start_time": "2022-05-24T08:54:13.976Z"
   },
   {
    "duration": 8,
    "start_time": "2022-05-24T08:54:32.551Z"
   },
   {
    "duration": 12,
    "start_time": "2022-05-24T08:54:42.823Z"
   },
   {
    "duration": 7,
    "start_time": "2022-05-24T08:56:17.942Z"
   },
   {
    "duration": 9,
    "start_time": "2022-05-24T08:56:27.894Z"
   },
   {
    "duration": 8,
    "start_time": "2022-05-24T08:56:59.821Z"
   },
   {
    "duration": 74,
    "start_time": "2022-05-24T08:57:14.254Z"
   },
   {
    "duration": 46,
    "start_time": "2022-05-24T09:52:47.607Z"
   },
   {
    "duration": 4,
    "start_time": "2022-05-24T09:52:56.957Z"
   },
   {
    "duration": 1443,
    "start_time": "2022-05-24T09:53:16.568Z"
   },
   {
    "duration": 51,
    "start_time": "2022-05-24T09:53:18.013Z"
   },
   {
    "duration": 46,
    "start_time": "2022-05-24T09:53:18.066Z"
   },
   {
    "duration": 22,
    "start_time": "2022-05-24T09:53:18.114Z"
   },
   {
    "duration": 26,
    "start_time": "2022-05-24T09:53:18.137Z"
   },
   {
    "duration": 4,
    "start_time": "2022-05-24T09:53:18.164Z"
   },
   {
    "duration": 281,
    "start_time": "2022-05-24T09:53:18.170Z"
   },
   {
    "duration": 8,
    "start_time": "2022-05-24T09:53:18.453Z"
   },
   {
    "duration": 758,
    "start_time": "2022-05-24T09:53:18.463Z"
   },
   {
    "duration": 2618,
    "start_time": "2022-05-24T09:53:19.224Z"
   },
   {
    "duration": 516,
    "start_time": "2022-05-24T09:53:21.848Z"
   },
   {
    "duration": 7,
    "start_time": "2022-05-24T09:53:22.366Z"
   },
   {
    "duration": 15,
    "start_time": "2022-05-24T09:53:22.375Z"
   },
   {
    "duration": 12,
    "start_time": "2022-05-24T09:53:22.392Z"
   },
   {
    "duration": 37,
    "start_time": "2022-05-24T09:53:22.405Z"
   },
   {
    "duration": 4,
    "start_time": "2022-05-24T09:53:22.444Z"
   },
   {
    "duration": 8,
    "start_time": "2022-05-24T09:53:22.449Z"
   },
   {
    "duration": 6,
    "start_time": "2022-05-24T09:53:22.459Z"
   },
   {
    "duration": 70,
    "start_time": "2022-05-24T09:53:22.466Z"
   },
   {
    "duration": 103,
    "start_time": "2022-05-24T09:53:22.538Z"
   },
   {
    "duration": 11,
    "start_time": "2022-05-24T09:53:22.643Z"
   },
   {
    "duration": 22,
    "start_time": "2022-05-24T09:53:22.655Z"
   },
   {
    "duration": 5,
    "start_time": "2022-05-24T09:53:22.678Z"
   },
   {
    "duration": 9,
    "start_time": "2022-05-24T09:53:22.684Z"
   },
   {
    "duration": 16,
    "start_time": "2022-05-24T09:53:22.695Z"
   },
   {
    "duration": 28,
    "start_time": "2022-05-24T09:53:22.713Z"
   },
   {
    "duration": 21,
    "start_time": "2022-05-24T09:53:22.742Z"
   },
   {
    "duration": 113,
    "start_time": "2022-05-24T09:53:22.828Z"
   },
   {
    "duration": 15,
    "start_time": "2022-05-24T09:53:22.944Z"
   },
   {
    "duration": 6,
    "start_time": "2022-05-24T09:53:22.961Z"
   },
   {
    "duration": 9,
    "start_time": "2022-05-24T09:53:22.969Z"
   },
   {
    "duration": 17,
    "start_time": "2022-05-24T09:54:15.350Z"
   },
   {
    "duration": 1521,
    "start_time": "2022-05-24T09:56:21.442Z"
   },
   {
    "duration": 43,
    "start_time": "2022-05-24T09:56:22.966Z"
   },
   {
    "duration": 55,
    "start_time": "2022-05-24T09:56:23.011Z"
   },
   {
    "duration": 12,
    "start_time": "2022-05-24T09:56:23.068Z"
   },
   {
    "duration": 48,
    "start_time": "2022-05-24T09:56:23.082Z"
   },
   {
    "duration": 8,
    "start_time": "2022-05-24T09:56:23.132Z"
   },
   {
    "duration": 323,
    "start_time": "2022-05-24T09:56:23.143Z"
   },
   {
    "duration": 7,
    "start_time": "2022-05-24T09:56:23.468Z"
   },
   {
    "duration": 841,
    "start_time": "2022-05-24T09:56:23.477Z"
   },
   {
    "duration": 3026,
    "start_time": "2022-05-24T09:56:24.319Z"
   },
   {
    "duration": 516,
    "start_time": "2022-05-24T09:56:27.349Z"
   },
   {
    "duration": 7,
    "start_time": "2022-05-24T09:56:27.866Z"
   },
   {
    "duration": 15,
    "start_time": "2022-05-24T09:56:27.875Z"
   },
   {
    "duration": 12,
    "start_time": "2022-05-24T09:56:27.893Z"
   },
   {
    "duration": 42,
    "start_time": "2022-05-24T09:56:27.906Z"
   },
   {
    "duration": 4,
    "start_time": "2022-05-24T09:56:27.951Z"
   },
   {
    "duration": 22,
    "start_time": "2022-05-24T09:56:27.957Z"
   },
   {
    "duration": 10,
    "start_time": "2022-05-24T09:56:27.981Z"
   },
   {
    "duration": 53,
    "start_time": "2022-05-24T09:56:27.992Z"
   },
   {
    "duration": 100,
    "start_time": "2022-05-24T09:56:28.048Z"
   },
   {
    "duration": 17,
    "start_time": "2022-05-24T09:56:28.149Z"
   },
   {
    "duration": 16,
    "start_time": "2022-05-24T09:56:28.169Z"
   },
   {
    "duration": 44,
    "start_time": "2022-05-24T09:56:28.187Z"
   },
   {
    "duration": 19,
    "start_time": "2022-05-24T09:56:28.237Z"
   },
   {
    "duration": 16,
    "start_time": "2022-05-24T09:56:28.258Z"
   },
   {
    "duration": 13,
    "start_time": "2022-05-24T09:56:28.275Z"
   },
   {
    "duration": 284,
    "start_time": "2022-05-24T09:56:28.290Z"
   },
   {
    "duration": 0,
    "start_time": "2022-05-24T09:56:28.576Z"
   },
   {
    "duration": 0,
    "start_time": "2022-05-24T09:56:28.578Z"
   },
   {
    "duration": 0,
    "start_time": "2022-05-24T09:56:28.579Z"
   },
   {
    "duration": 0,
    "start_time": "2022-05-24T09:56:28.580Z"
   },
   {
    "duration": 8,
    "start_time": "2022-05-24T10:05:56.324Z"
   },
   {
    "duration": 5,
    "start_time": "2022-05-24T10:06:05.076Z"
   },
   {
    "duration": 1574,
    "start_time": "2022-05-24T10:06:51.800Z"
   },
   {
    "duration": 60,
    "start_time": "2022-05-24T10:06:53.376Z"
   },
   {
    "duration": 61,
    "start_time": "2022-05-24T10:06:53.438Z"
   },
   {
    "duration": 29,
    "start_time": "2022-05-24T10:06:53.501Z"
   },
   {
    "duration": 24,
    "start_time": "2022-05-24T10:06:53.535Z"
   },
   {
    "duration": 14,
    "start_time": "2022-05-24T10:06:53.561Z"
   },
   {
    "duration": 308,
    "start_time": "2022-05-24T10:06:53.577Z"
   },
   {
    "duration": 7,
    "start_time": "2022-05-24T10:06:53.887Z"
   },
   {
    "duration": 869,
    "start_time": "2022-05-24T10:06:53.896Z"
   },
   {
    "duration": 4069,
    "start_time": "2022-05-24T10:06:54.767Z"
   },
   {
    "duration": 460,
    "start_time": "2022-05-24T10:06:58.841Z"
   },
   {
    "duration": 9,
    "start_time": "2022-05-24T10:06:59.302Z"
   },
   {
    "duration": 29,
    "start_time": "2022-05-24T10:06:59.312Z"
   },
   {
    "duration": 21,
    "start_time": "2022-05-24T10:06:59.344Z"
   },
   {
    "duration": 19,
    "start_time": "2022-05-24T10:06:59.367Z"
   },
   {
    "duration": 5,
    "start_time": "2022-05-24T10:06:59.388Z"
   },
   {
    "duration": 22,
    "start_time": "2022-05-24T10:06:59.395Z"
   },
   {
    "duration": 23,
    "start_time": "2022-05-24T10:06:59.419Z"
   },
   {
    "duration": 88,
    "start_time": "2022-05-24T10:06:59.444Z"
   },
   {
    "duration": 114,
    "start_time": "2022-05-24T10:06:59.535Z"
   },
   {
    "duration": 14,
    "start_time": "2022-05-24T10:06:59.651Z"
   },
   {
    "duration": 32,
    "start_time": "2022-05-24T10:06:59.667Z"
   },
   {
    "duration": 5,
    "start_time": "2022-05-24T10:06:59.701Z"
   },
   {
    "duration": 10,
    "start_time": "2022-05-24T10:06:59.733Z"
   },
   {
    "duration": 6,
    "start_time": "2022-05-24T10:06:59.745Z"
   },
   {
    "duration": 301,
    "start_time": "2022-05-24T10:06:59.753Z"
   },
   {
    "duration": 0,
    "start_time": "2022-05-24T10:07:00.056Z"
   },
   {
    "duration": 4,
    "start_time": "2022-05-24T10:07:21.515Z"
   },
   {
    "duration": 17,
    "start_time": "2022-05-24T10:08:12.032Z"
   },
   {
    "duration": 10,
    "start_time": "2022-05-24T10:09:10.987Z"
   },
   {
    "duration": 34,
    "start_time": "2022-05-24T10:09:20.610Z"
   },
   {
    "duration": 11,
    "start_time": "2022-05-24T10:10:42.082Z"
   },
   {
    "duration": 39,
    "start_time": "2022-05-24T10:10:51.099Z"
   },
   {
    "duration": 7,
    "start_time": "2022-05-24T10:11:04.321Z"
   },
   {
    "duration": 7,
    "start_time": "2022-05-24T10:11:07.016Z"
   },
   {
    "duration": 5,
    "start_time": "2022-05-24T10:11:08.752Z"
   },
   {
    "duration": 4,
    "start_time": "2022-05-24T10:11:26.602Z"
   },
   {
    "duration": 1500,
    "start_time": "2022-05-24T10:12:01.462Z"
   },
   {
    "duration": 43,
    "start_time": "2022-05-24T10:12:02.964Z"
   },
   {
    "duration": 55,
    "start_time": "2022-05-24T10:12:03.009Z"
   },
   {
    "duration": 11,
    "start_time": "2022-05-24T10:12:03.066Z"
   },
   {
    "duration": 24,
    "start_time": "2022-05-24T10:12:03.079Z"
   },
   {
    "duration": 41,
    "start_time": "2022-05-24T10:12:03.105Z"
   },
   {
    "duration": 296,
    "start_time": "2022-05-24T10:12:03.148Z"
   },
   {
    "duration": 6,
    "start_time": "2022-05-24T10:12:03.446Z"
   },
   {
    "duration": 774,
    "start_time": "2022-05-24T10:12:03.453Z"
   },
   {
    "duration": 3611,
    "start_time": "2022-05-24T10:12:04.239Z"
   },
   {
    "duration": 429,
    "start_time": "2022-05-24T10:12:07.933Z"
   },
   {
    "duration": 7,
    "start_time": "2022-05-24T10:12:08.364Z"
   },
   {
    "duration": 15,
    "start_time": "2022-05-24T10:12:08.372Z"
   },
   {
    "duration": 13,
    "start_time": "2022-05-24T10:12:08.388Z"
   },
   {
    "duration": 47,
    "start_time": "2022-05-24T10:12:08.402Z"
   },
   {
    "duration": 8,
    "start_time": "2022-05-24T10:12:08.450Z"
   },
   {
    "duration": 9,
    "start_time": "2022-05-24T10:12:08.459Z"
   },
   {
    "duration": 11,
    "start_time": "2022-05-24T10:12:08.469Z"
   },
   {
    "duration": 8,
    "start_time": "2022-05-24T10:12:08.481Z"
   },
   {
    "duration": 12,
    "start_time": "2022-05-24T10:12:08.490Z"
   },
   {
    "duration": 40,
    "start_time": "2022-05-24T10:12:08.503Z"
   },
   {
    "duration": 16,
    "start_time": "2022-05-24T10:12:08.545Z"
   },
   {
    "duration": 11,
    "start_time": "2022-05-24T10:12:08.563Z"
   },
   {
    "duration": 26,
    "start_time": "2022-05-24T10:12:08.633Z"
   },
   {
    "duration": 5,
    "start_time": "2022-05-24T10:12:08.661Z"
   },
   {
    "duration": 10,
    "start_time": "2022-05-24T10:12:08.667Z"
   },
   {
    "duration": 9,
    "start_time": "2022-05-24T10:12:08.679Z"
   },
   {
    "duration": 19,
    "start_time": "2022-05-24T10:12:08.691Z"
   },
   {
    "duration": 22,
    "start_time": "2022-05-24T10:12:08.712Z"
   },
   {
    "duration": 8,
    "start_time": "2022-05-24T10:15:08.944Z"
   },
   {
    "duration": 6,
    "start_time": "2022-05-24T10:15:23.767Z"
   },
   {
    "duration": 12,
    "start_time": "2022-05-24T10:16:00.158Z"
   },
   {
    "duration": 7,
    "start_time": "2022-05-24T10:18:44.269Z"
   },
   {
    "duration": 1552,
    "start_time": "2022-05-24T10:25:57.833Z"
   },
   {
    "duration": 53,
    "start_time": "2022-05-24T10:25:59.387Z"
   },
   {
    "duration": 58,
    "start_time": "2022-05-24T10:25:59.445Z"
   },
   {
    "duration": 27,
    "start_time": "2022-05-24T10:25:59.505Z"
   },
   {
    "duration": 29,
    "start_time": "2022-05-24T10:25:59.534Z"
   },
   {
    "duration": 4,
    "start_time": "2022-05-24T10:25:59.565Z"
   },
   {
    "duration": 323,
    "start_time": "2022-05-24T10:25:59.570Z"
   },
   {
    "duration": 8,
    "start_time": "2022-05-24T10:25:59.895Z"
   },
   {
    "duration": 828,
    "start_time": "2022-05-24T10:25:59.904Z"
   },
   {
    "duration": 2818,
    "start_time": "2022-05-24T10:26:00.734Z"
   },
   {
    "duration": 448,
    "start_time": "2022-05-24T10:26:03.631Z"
   },
   {
    "duration": 8,
    "start_time": "2022-05-24T10:26:04.081Z"
   },
   {
    "duration": 17,
    "start_time": "2022-05-24T10:26:04.091Z"
   },
   {
    "duration": 32,
    "start_time": "2022-05-24T10:26:04.111Z"
   },
   {
    "duration": 20,
    "start_time": "2022-05-24T10:26:04.146Z"
   },
   {
    "duration": 4,
    "start_time": "2022-05-24T10:26:04.168Z"
   },
   {
    "duration": 10,
    "start_time": "2022-05-24T10:26:04.174Z"
   },
   {
    "duration": 8,
    "start_time": "2022-05-24T10:26:04.185Z"
   },
   {
    "duration": 13,
    "start_time": "2022-05-24T10:26:04.195Z"
   },
   {
    "duration": 6,
    "start_time": "2022-05-24T10:48:50.966Z"
   },
   {
    "duration": 45,
    "start_time": "2022-05-24T10:48:50.974Z"
   },
   {
    "duration": 43,
    "start_time": "2022-05-24T10:48:51.021Z"
   },
   {
    "duration": 10,
    "start_time": "2022-05-24T10:48:51.065Z"
   },
   {
    "duration": 21,
    "start_time": "2022-05-24T10:48:51.077Z"
   },
   {
    "duration": 27,
    "start_time": "2022-05-24T10:48:51.100Z"
   },
   {
    "duration": 264,
    "start_time": "2022-05-24T10:48:51.129Z"
   },
   {
    "duration": 7,
    "start_time": "2022-05-24T10:48:51.394Z"
   },
   {
    "duration": 734,
    "start_time": "2022-05-24T10:48:51.403Z"
   },
   {
    "duration": 3588,
    "start_time": "2022-05-24T10:48:52.139Z"
   },
   {
    "duration": 9,
    "start_time": "2022-05-24T10:48:55.729Z"
   },
   {
    "duration": 104,
    "start_time": "2022-05-24T10:48:55.740Z"
   },
   {
    "duration": 239,
    "start_time": "2022-05-24T10:49:06.915Z"
   },
   {
    "duration": 2567,
    "start_time": "2022-05-24T10:49:58.259Z"
   },
   {
    "duration": 4,
    "start_time": "2022-05-24T10:51:33.146Z"
   },
   {
    "duration": 5,
    "start_time": "2022-05-24T10:51:56.282Z"
   },
   {
    "duration": 20988,
    "start_time": "2022-05-24T10:52:56.950Z"
   },
   {
    "duration": 23129,
    "start_time": "2022-05-24T10:55:12.216Z"
   },
   {
    "duration": 1440,
    "start_time": "2022-05-24T10:57:10.637Z"
   },
   {
    "duration": 47,
    "start_time": "2022-05-24T10:57:12.079Z"
   },
   {
    "duration": 45,
    "start_time": "2022-05-24T10:57:12.129Z"
   },
   {
    "duration": 13,
    "start_time": "2022-05-24T10:57:12.176Z"
   },
   {
    "duration": 49,
    "start_time": "2022-05-24T10:57:12.192Z"
   },
   {
    "duration": 5,
    "start_time": "2022-05-24T10:57:12.243Z"
   },
   {
    "duration": 309,
    "start_time": "2022-05-24T10:57:12.250Z"
   },
   {
    "duration": 7,
    "start_time": "2022-05-24T10:57:12.561Z"
   },
   {
    "duration": 833,
    "start_time": "2022-05-24T10:57:12.569Z"
   },
   {
    "duration": 2129,
    "start_time": "2022-05-24T10:57:13.405Z"
   },
   {
    "duration": 90,
    "start_time": "2022-05-24T10:57:15.537Z"
   },
   {
    "duration": 108,
    "start_time": "2022-05-24T10:57:15.630Z"
   },
   {
    "duration": 161,
    "start_time": "2022-05-24T10:57:15.740Z"
   },
   {
    "duration": 0,
    "start_time": "2022-05-24T10:57:15.903Z"
   },
   {
    "duration": 0,
    "start_time": "2022-05-24T10:57:15.904Z"
   },
   {
    "duration": 0,
    "start_time": "2022-05-24T10:57:15.905Z"
   },
   {
    "duration": 0,
    "start_time": "2022-05-24T10:57:15.906Z"
   },
   {
    "duration": 0,
    "start_time": "2022-05-24T10:57:15.908Z"
   },
   {
    "duration": 0,
    "start_time": "2022-05-24T10:57:15.909Z"
   },
   {
    "duration": 5,
    "start_time": "2022-05-24T10:58:01.853Z"
   },
   {
    "duration": 19,
    "start_time": "2022-05-24T10:58:03.517Z"
   },
   {
    "duration": 24461,
    "start_time": "2022-05-24T10:58:38.766Z"
   },
   {
    "duration": 38449,
    "start_time": "2022-05-24T11:00:30.389Z"
   },
   {
    "duration": 0,
    "start_time": "2022-05-24T11:02:09.643Z"
   },
   {
    "duration": 36936,
    "start_time": "2022-05-24T11:02:11.298Z"
   },
   {
    "duration": 21,
    "start_time": "2022-05-24T11:03:19.564Z"
   },
   {
    "duration": 1573,
    "start_time": "2022-05-24T11:04:03.139Z"
   },
   {
    "duration": 56,
    "start_time": "2022-05-24T11:04:04.715Z"
   },
   {
    "duration": 49,
    "start_time": "2022-05-24T11:04:04.773Z"
   },
   {
    "duration": 20,
    "start_time": "2022-05-24T11:04:04.824Z"
   },
   {
    "duration": 20,
    "start_time": "2022-05-24T11:04:04.847Z"
   },
   {
    "duration": 4,
    "start_time": "2022-05-24T11:04:04.869Z"
   },
   {
    "duration": 320,
    "start_time": "2022-05-24T11:04:04.875Z"
   },
   {
    "duration": 8,
    "start_time": "2022-05-24T11:04:05.197Z"
   },
   {
    "duration": 807,
    "start_time": "2022-05-24T11:04:05.207Z"
   },
   {
    "duration": 2924,
    "start_time": "2022-05-24T11:04:06.027Z"
   },
   {
    "duration": 12,
    "start_time": "2022-05-24T11:04:09.028Z"
   },
   {
    "duration": 107,
    "start_time": "2022-05-24T11:04:09.042Z"
   },
   {
    "duration": 24086,
    "start_time": "2022-05-24T11:04:09.150Z"
   },
   {
    "duration": 28426,
    "start_time": "2022-05-24T11:13:27.920Z"
   },
   {
    "duration": 30753,
    "start_time": "2022-05-24T11:16:34.777Z"
   },
   {
    "duration": 42,
    "start_time": "2022-05-24T12:01:56.583Z"
   },
   {
    "duration": 21,
    "start_time": "2022-05-24T12:02:13.039Z"
   },
   {
    "duration": 28,
    "start_time": "2022-05-24T12:02:19.278Z"
   },
   {
    "duration": 4,
    "start_time": "2022-05-24T12:02:32.471Z"
   },
   {
    "duration": 141,
    "start_time": "2022-05-24T12:02:33.557Z"
   },
   {
    "duration": 1414,
    "start_time": "2022-05-24T12:02:42.731Z"
   },
   {
    "duration": 43,
    "start_time": "2022-05-24T12:02:44.147Z"
   },
   {
    "duration": 47,
    "start_time": "2022-05-24T12:02:44.194Z"
   },
   {
    "duration": 11,
    "start_time": "2022-05-24T12:02:44.244Z"
   },
   {
    "duration": 30,
    "start_time": "2022-05-24T12:02:44.257Z"
   },
   {
    "duration": 6,
    "start_time": "2022-05-24T12:02:44.289Z"
   },
   {
    "duration": 333,
    "start_time": "2022-05-24T12:02:44.297Z"
   },
   {
    "duration": 9,
    "start_time": "2022-05-24T12:02:44.632Z"
   },
   {
    "duration": 784,
    "start_time": "2022-05-24T12:02:44.642Z"
   },
   {
    "duration": 2405,
    "start_time": "2022-05-24T12:02:45.429Z"
   },
   {
    "duration": 95,
    "start_time": "2022-05-24T12:02:47.836Z"
   },
   {
    "duration": 100,
    "start_time": "2022-05-24T12:02:47.934Z"
   },
   {
    "duration": 23898,
    "start_time": "2022-05-24T12:02:48.036Z"
   },
   {
    "duration": 201,
    "start_time": "2022-05-24T12:03:11.936Z"
   },
   {
    "duration": 4,
    "start_time": "2022-05-24T12:03:12.139Z"
   },
   {
    "duration": 182,
    "start_time": "2022-05-24T12:03:12.144Z"
   },
   {
    "duration": 68,
    "start_time": "2022-05-24T12:03:47.211Z"
   },
   {
    "duration": 4,
    "start_time": "2022-05-24T12:03:53.386Z"
   },
   {
    "duration": 19,
    "start_time": "2022-05-24T12:03:54.618Z"
   },
   {
    "duration": 24,
    "start_time": "2022-05-24T12:04:28.089Z"
   },
   {
    "duration": 3,
    "start_time": "2022-05-24T12:04:30.434Z"
   },
   {
    "duration": 1269029,
    "start_time": "2022-05-24T12:04:40.729Z"
   },
   {
    "duration": 573806,
    "start_time": "2022-05-24T12:26:22.483Z"
   },
   {
    "duration": 12,
    "start_time": "2022-05-24T12:46:07.699Z"
   },
   {
    "duration": 12,
    "start_time": "2022-05-24T12:47:08.844Z"
   },
   {
    "duration": 11,
    "start_time": "2022-05-24T12:47:19.586Z"
   },
   {
    "duration": 11,
    "start_time": "2022-05-24T12:50:36.601Z"
   },
   {
    "duration": 3,
    "start_time": "2022-05-24T12:55:50.592Z"
   },
   {
    "duration": 11,
    "start_time": "2022-05-24T12:55:51.984Z"
   },
   {
    "duration": 14,
    "start_time": "2022-05-24T12:56:31.034Z"
   },
   {
    "duration": 20,
    "start_time": "2022-05-24T12:57:02.120Z"
   },
   {
    "duration": 15,
    "start_time": "2022-05-24T13:00:50.032Z"
   },
   {
    "duration": 12,
    "start_time": "2022-05-24T13:01:04.662Z"
   },
   {
    "duration": 4153,
    "start_time": "2022-05-24T13:02:41.781Z"
   },
   {
    "duration": 35,
    "start_time": "2022-05-24T13:04:46.443Z"
   },
   {
    "duration": 5,
    "start_time": "2022-05-24T13:05:56.804Z"
   },
   {
    "duration": 5,
    "start_time": "2022-05-24T13:06:35.946Z"
   },
   {
    "duration": 13,
    "start_time": "2022-05-24T13:07:56.953Z"
   },
   {
    "duration": 13,
    "start_time": "2022-05-24T13:08:15.305Z"
   },
   {
    "duration": 4,
    "start_time": "2022-05-24T13:08:18.209Z"
   },
   {
    "duration": 12,
    "start_time": "2022-05-24T13:08:19.617Z"
   },
   {
    "duration": 4,
    "start_time": "2022-05-24T13:08:36.546Z"
   },
   {
    "duration": 18,
    "start_time": "2022-05-24T13:08:41.530Z"
   },
   {
    "duration": 3,
    "start_time": "2022-05-24T13:08:46.994Z"
   },
   {
    "duration": 10,
    "start_time": "2022-05-24T13:08:50.754Z"
   },
   {
    "duration": 11,
    "start_time": "2022-05-24T13:09:00.184Z"
   },
   {
    "duration": 13,
    "start_time": "2022-05-24T13:09:45.497Z"
   },
   {
    "duration": 20,
    "start_time": "2022-05-24T13:10:01.338Z"
   },
   {
    "duration": 14,
    "start_time": "2022-05-24T13:10:14.920Z"
   },
   {
    "duration": 14,
    "start_time": "2022-05-24T13:10:24.371Z"
   },
   {
    "duration": 13,
    "start_time": "2022-05-24T13:10:35.943Z"
   },
   {
    "duration": 4,
    "start_time": "2022-05-24T13:11:09.752Z"
   },
   {
    "duration": 13,
    "start_time": "2022-05-24T13:11:10.607Z"
   },
   {
    "duration": 12,
    "start_time": "2022-05-24T13:12:32.488Z"
   },
   {
    "duration": 11,
    "start_time": "2022-05-24T13:12:45.975Z"
   },
   {
    "duration": 12,
    "start_time": "2022-05-24T13:13:17.399Z"
   },
   {
    "duration": 11,
    "start_time": "2022-05-24T13:13:28.662Z"
   },
   {
    "duration": 3,
    "start_time": "2022-05-24T13:14:36.093Z"
   },
   {
    "duration": 10,
    "start_time": "2022-05-24T13:14:37.142Z"
   },
   {
    "duration": 3,
    "start_time": "2022-05-24T13:14:46.837Z"
   },
   {
    "duration": 11,
    "start_time": "2022-05-24T13:14:49.140Z"
   },
   {
    "duration": 3,
    "start_time": "2022-05-24T13:14:57.054Z"
   },
   {
    "duration": 11,
    "start_time": "2022-05-24T13:14:58.188Z"
   },
   {
    "duration": 42,
    "start_time": "2022-05-24T13:15:11.045Z"
   },
   {
    "duration": 115,
    "start_time": "2022-05-24T13:15:17.061Z"
   },
   {
    "duration": 12,
    "start_time": "2022-05-24T13:15:20.565Z"
   },
   {
    "duration": 16,
    "start_time": "2022-05-24T13:16:53.542Z"
   },
   {
    "duration": 14,
    "start_time": "2022-05-24T13:17:11.732Z"
   },
   {
    "duration": 3533,
    "start_time": "2022-05-24T13:18:37.347Z"
   },
   {
    "duration": 20,
    "start_time": "2022-05-24T13:19:52.316Z"
   },
   {
    "duration": 3,
    "start_time": "2022-05-24T13:20:01.770Z"
   },
   {
    "duration": 22,
    "start_time": "2022-05-24T13:20:02.843Z"
   },
   {
    "duration": 13,
    "start_time": "2022-05-24T13:21:10.715Z"
   },
   {
    "duration": 1450,
    "start_time": "2022-05-24T13:21:53.447Z"
   },
   {
    "duration": 47,
    "start_time": "2022-05-24T13:21:54.898Z"
   },
   {
    "duration": 47,
    "start_time": "2022-05-24T13:21:54.947Z"
   },
   {
    "duration": 11,
    "start_time": "2022-05-24T13:21:54.996Z"
   },
   {
    "duration": 18,
    "start_time": "2022-05-24T13:21:55.029Z"
   },
   {
    "duration": 9,
    "start_time": "2022-05-24T13:21:55.048Z"
   },
   {
    "duration": 279,
    "start_time": "2022-05-24T13:21:55.059Z"
   },
   {
    "duration": 6,
    "start_time": "2022-05-24T13:21:55.345Z"
   },
   {
    "duration": 764,
    "start_time": "2022-05-24T13:21:55.353Z"
   },
   {
    "duration": 4508,
    "start_time": "2022-05-24T13:21:56.120Z"
   },
   {
    "duration": 5,
    "start_time": "2022-05-24T13:22:00.631Z"
   },
   {
    "duration": 19,
    "start_time": "2022-05-24T13:22:00.637Z"
   },
   {
    "duration": 23171,
    "start_time": "2022-05-24T13:22:00.658Z"
   },
   {
    "duration": 106,
    "start_time": "2022-05-24T13:22:23.835Z"
   },
   {
    "duration": 11,
    "start_time": "2022-05-24T13:22:23.943Z"
   },
   {
    "duration": 16,
    "start_time": "2022-05-24T13:22:23.955Z"
   },
   {
    "duration": 7,
    "start_time": "2022-05-24T13:22:23.973Z"
   },
   {
    "duration": 127,
    "start_time": "2022-05-24T13:22:23.981Z"
   },
   {
    "duration": 11,
    "start_time": "2022-05-24T13:23:26.754Z"
   },
   {
    "duration": 16,
    "start_time": "2022-05-24T13:23:34.370Z"
   },
   {
    "duration": 14,
    "start_time": "2022-05-24T13:23:40.874Z"
   },
   {
    "duration": 12,
    "start_time": "2022-05-24T13:26:10.810Z"
   },
   {
    "duration": 18,
    "start_time": "2022-05-24T13:26:16.018Z"
   },
   {
    "duration": 11,
    "start_time": "2022-05-24T13:26:22.561Z"
   },
   {
    "duration": 69745,
    "start_time": "2022-05-24T13:27:28.555Z"
   },
   {
    "duration": 11,
    "start_time": "2022-05-24T13:28:40.584Z"
   },
   {
    "duration": 857105,
    "start_time": "2022-05-24T13:28:44.547Z"
   },
   {
    "duration": 23,
    "start_time": "2022-05-24T13:47:52.643Z"
   },
   {
    "duration": 3,
    "start_time": "2022-05-24T13:48:00.865Z"
   },
   {
    "duration": 50,
    "start_time": "2022-05-24T13:48:02.624Z"
   },
   {
    "duration": 12,
    "start_time": "2022-05-24T13:48:08.843Z"
   },
   {
    "duration": 15,
    "start_time": "2022-05-24T13:48:17.969Z"
   },
   {
    "duration": 1837,
    "start_time": "2022-05-24T13:48:59.355Z"
   },
   {
    "duration": 9382,
    "start_time": "2022-05-24T13:51:19.304Z"
   },
   {
    "duration": 58,
    "start_time": "2022-05-24T14:58:28.220Z"
   },
   {
    "duration": 1973,
    "start_time": "2022-05-24T14:59:31.382Z"
   },
   {
    "duration": 186,
    "start_time": "2022-05-24T14:59:33.357Z"
   },
   {
    "duration": 50,
    "start_time": "2022-05-24T14:59:33.544Z"
   },
   {
    "duration": 12,
    "start_time": "2022-05-24T14:59:33.596Z"
   },
   {
    "duration": 42,
    "start_time": "2022-05-24T14:59:33.611Z"
   },
   {
    "duration": 4,
    "start_time": "2022-05-24T14:59:33.654Z"
   },
   {
    "duration": 8,
    "start_time": "2022-05-24T14:59:33.660Z"
   },
   {
    "duration": 902,
    "start_time": "2022-05-24T14:59:33.670Z"
   },
   {
    "duration": 1181,
    "start_time": "2022-05-24T14:59:34.574Z"
   },
   {
    "duration": 95,
    "start_time": "2022-05-24T14:59:35.757Z"
   },
   {
    "duration": 4,
    "start_time": "2022-05-24T14:59:35.854Z"
   },
   {
    "duration": 26791,
    "start_time": "2022-05-24T14:59:35.860Z"
   },
   {
    "duration": 11,
    "start_time": "2022-05-24T15:00:40.965Z"
   },
   {
    "duration": 1549,
    "start_time": "2022-05-24T15:00:43.768Z"
   },
   {
    "duration": 8281,
    "start_time": "2022-05-24T15:00:59.405Z"
   },
   {
    "duration": 5,
    "start_time": "2022-05-24T15:22:08.851Z"
   },
   {
    "duration": 46,
    "start_time": "2022-05-24T15:22:08.859Z"
   },
   {
    "duration": 39,
    "start_time": "2022-05-24T15:22:08.906Z"
   },
   {
    "duration": 11,
    "start_time": "2022-05-24T15:22:08.947Z"
   },
   {
    "duration": 14,
    "start_time": "2022-05-24T15:22:08.960Z"
   },
   {
    "duration": 3,
    "start_time": "2022-05-24T15:22:08.976Z"
   },
   {
    "duration": 8,
    "start_time": "2022-05-24T15:22:08.981Z"
   },
   {
    "duration": 778,
    "start_time": "2022-05-24T15:22:08.990Z"
   },
   {
    "duration": 1388,
    "start_time": "2022-05-24T15:22:09.769Z"
   },
   {
    "duration": 94,
    "start_time": "2022-05-24T15:22:11.159Z"
   },
   {
    "duration": 101,
    "start_time": "2022-05-24T15:22:11.255Z"
   },
   {
    "duration": 26700,
    "start_time": "2022-05-24T15:22:11.358Z"
   },
   {
    "duration": 6,
    "start_time": "2022-05-24T15:22:38.060Z"
   },
   {
    "duration": 103,
    "start_time": "2022-05-24T15:22:38.069Z"
   },
   {
    "duration": 52,
    "start_time": "2022-05-24T15:23:12.652Z"
   },
   {
    "duration": 6,
    "start_time": "2022-05-24T15:23:19.141Z"
   },
   {
    "duration": 6,
    "start_time": "2022-05-24T15:23:38.042Z"
   },
   {
    "duration": 1368,
    "start_time": "2022-05-24T15:24:57.015Z"
   },
   {
    "duration": 42,
    "start_time": "2022-05-24T15:24:58.385Z"
   },
   {
    "duration": 49,
    "start_time": "2022-05-24T15:24:58.428Z"
   },
   {
    "duration": 11,
    "start_time": "2022-05-24T15:24:58.479Z"
   },
   {
    "duration": 13,
    "start_time": "2022-05-24T15:24:58.493Z"
   },
   {
    "duration": 3,
    "start_time": "2022-05-24T15:24:58.508Z"
   },
   {
    "duration": 9,
    "start_time": "2022-05-24T15:24:58.513Z"
   },
   {
    "duration": 824,
    "start_time": "2022-05-24T15:24:58.524Z"
   },
   {
    "duration": 1508,
    "start_time": "2022-05-24T15:24:59.350Z"
   },
   {
    "duration": 5,
    "start_time": "2022-05-24T15:25:00.860Z"
   },
   {
    "duration": 206,
    "start_time": "2022-05-24T15:25:00.866Z"
   },
   {
    "duration": 26890,
    "start_time": "2022-05-24T15:25:01.074Z"
   },
   {
    "duration": 3,
    "start_time": "2022-05-24T15:25:27.966Z"
   },
   {
    "duration": 103,
    "start_time": "2022-05-24T15:25:27.972Z"
   },
   {
    "duration": 9,
    "start_time": "2022-05-24T15:25:28.076Z"
   },
   {
    "duration": 19,
    "start_time": "2022-05-24T15:25:28.087Z"
   },
   {
    "duration": 1602,
    "start_time": "2022-05-24T15:25:28.108Z"
   },
   {
    "duration": 8679,
    "start_time": "2022-05-24T15:25:29.711Z"
   },
   {
    "duration": 8,
    "start_time": "2022-05-24T15:27:09.762Z"
   },
   {
    "duration": 7,
    "start_time": "2022-05-24T15:27:37.405Z"
   },
   {
    "duration": 1427,
    "start_time": "2022-05-24T15:28:09.731Z"
   },
   {
    "duration": 44,
    "start_time": "2022-05-24T15:28:11.159Z"
   },
   {
    "duration": 57,
    "start_time": "2022-05-24T15:28:11.205Z"
   },
   {
    "duration": 11,
    "start_time": "2022-05-24T15:28:11.264Z"
   },
   {
    "duration": 16,
    "start_time": "2022-05-24T15:28:11.276Z"
   },
   {
    "duration": 5,
    "start_time": "2022-05-24T15:28:11.293Z"
   },
   {
    "duration": 7,
    "start_time": "2022-05-24T15:28:11.300Z"
   },
   {
    "duration": 826,
    "start_time": "2022-05-24T15:28:11.309Z"
   },
   {
    "duration": 1624,
    "start_time": "2022-05-24T15:28:12.137Z"
   },
   {
    "duration": 90,
    "start_time": "2022-05-24T15:28:13.763Z"
   },
   {
    "duration": 100,
    "start_time": "2022-05-24T15:28:13.859Z"
   },
   {
    "duration": 28093,
    "start_time": "2022-05-24T15:28:13.960Z"
   },
   {
    "duration": 2,
    "start_time": "2022-05-24T15:28:42.055Z"
   },
   {
    "duration": 105,
    "start_time": "2022-05-24T15:28:42.059Z"
   },
   {
    "duration": 13,
    "start_time": "2022-05-24T15:28:42.166Z"
   },
   {
    "duration": 9,
    "start_time": "2022-05-24T17:05:39.561Z"
   },
   {
    "duration": 157,
    "start_time": "2022-05-24T17:06:28.512Z"
   },
   {
    "duration": 1492,
    "start_time": "2022-05-25T05:12:06.860Z"
   },
   {
    "duration": 110,
    "start_time": "2022-05-25T05:12:08.354Z"
   },
   {
    "duration": 47,
    "start_time": "2022-05-25T05:12:08.466Z"
   },
   {
    "duration": 10,
    "start_time": "2022-05-25T05:12:08.515Z"
   },
   {
    "duration": 31,
    "start_time": "2022-05-25T05:12:08.527Z"
   },
   {
    "duration": 5,
    "start_time": "2022-05-25T05:12:08.561Z"
   },
   {
    "duration": 14,
    "start_time": "2022-05-25T05:12:08.568Z"
   },
   {
    "duration": 848,
    "start_time": "2022-05-25T05:12:08.584Z"
   },
   {
    "duration": 1519,
    "start_time": "2022-05-25T05:12:09.434Z"
   },
   {
    "duration": 5,
    "start_time": "2022-05-25T05:12:10.955Z"
   },
   {
    "duration": 104,
    "start_time": "2022-05-25T05:12:10.962Z"
   },
   {
    "duration": 27405,
    "start_time": "2022-05-25T05:12:11.068Z"
   },
   {
    "duration": 3,
    "start_time": "2022-05-25T05:12:38.475Z"
   },
   {
    "duration": 99,
    "start_time": "2022-05-25T05:12:38.553Z"
   },
   {
    "duration": 10,
    "start_time": "2022-05-25T05:12:38.654Z"
   },
   {
    "duration": 7,
    "start_time": "2022-05-25T05:17:27.152Z"
   },
   {
    "duration": 380582,
    "start_time": "2022-05-25T05:17:51.980Z"
   },
   {
    "duration": 0,
    "start_time": "2022-05-25T05:28:26.684Z"
   },
   {
    "duration": 1197947,
    "start_time": "2022-05-25T05:28:29.159Z"
   },
   {
    "duration": 3326613,
    "start_time": "2022-05-25T05:48:29.539Z"
   },
   {
    "duration": 190445,
    "start_time": "2022-05-25T06:44:13.210Z"
   },
   {
    "duration": 40166,
    "start_time": "2022-05-25T06:47:26.184Z"
   },
   {
    "duration": 1,
    "start_time": "2022-05-25T06:48:06.351Z"
   },
   {
    "duration": 30,
    "start_time": "2022-05-25T06:48:07.937Z"
   },
   {
    "duration": 5,
    "start_time": "2022-05-25T06:50:01.079Z"
   },
   {
    "duration": 53,
    "start_time": "2022-05-25T06:50:01.086Z"
   },
   {
    "duration": 41,
    "start_time": "2022-05-25T06:50:01.141Z"
   },
   {
    "duration": 11,
    "start_time": "2022-05-25T06:50:01.184Z"
   },
   {
    "duration": 31,
    "start_time": "2022-05-25T06:50:01.197Z"
   },
   {
    "duration": 25,
    "start_time": "2022-05-25T06:50:01.230Z"
   },
   {
    "duration": 22,
    "start_time": "2022-05-25T06:50:01.257Z"
   },
   {
    "duration": 798,
    "start_time": "2022-05-25T06:50:01.281Z"
   },
   {
    "duration": 1376,
    "start_time": "2022-05-25T06:50:02.082Z"
   },
   {
    "duration": 93,
    "start_time": "2022-05-25T06:50:03.460Z"
   },
   {
    "duration": 104,
    "start_time": "2022-05-25T06:50:03.555Z"
   },
   {
    "duration": 27002,
    "start_time": "2022-05-25T06:50:03.661Z"
   },
   {
    "duration": 31,
    "start_time": "2022-05-25T06:50:36.019Z"
   },
   {
    "duration": 5,
    "start_time": "2022-05-25T06:51:41.208Z"
   },
   {
    "duration": 47,
    "start_time": "2022-05-25T06:51:41.216Z"
   },
   {
    "duration": 39,
    "start_time": "2022-05-25T06:51:41.265Z"
   },
   {
    "duration": 10,
    "start_time": "2022-05-25T06:51:41.306Z"
   },
   {
    "duration": 37,
    "start_time": "2022-05-25T06:51:41.318Z"
   },
   {
    "duration": 3,
    "start_time": "2022-05-25T06:51:41.357Z"
   },
   {
    "duration": 8,
    "start_time": "2022-05-25T06:51:41.362Z"
   },
   {
    "duration": 708,
    "start_time": "2022-05-25T06:51:41.371Z"
   },
   {
    "duration": 1380,
    "start_time": "2022-05-25T06:51:42.081Z"
   },
   {
    "duration": 5,
    "start_time": "2022-05-25T06:51:43.554Z"
   },
   {
    "duration": 99,
    "start_time": "2022-05-25T06:51:43.561Z"
   },
   {
    "duration": 27589,
    "start_time": "2022-05-25T06:51:43.662Z"
   },
   {
    "duration": 10,
    "start_time": "2022-05-25T06:52:18.442Z"
   },
   {
    "duration": 2,
    "start_time": "2022-05-25T06:52:25.769Z"
   },
   {
    "duration": 11,
    "start_time": "2022-05-25T06:52:39.721Z"
   },
   {
    "duration": 4,
    "start_time": "2022-05-25T06:53:39.474Z"
   },
   {
    "duration": 11,
    "start_time": "2022-05-25T06:53:44.057Z"
   },
   {
    "duration": 16,
    "start_time": "2022-05-25T06:54:00.243Z"
   },
   {
    "duration": 1181727,
    "start_time": "2022-05-25T06:54:20.457Z"
   },
   {
    "duration": 1337,
    "start_time": "2022-05-25T07:14:12.594Z"
   },
   {
    "duration": 46,
    "start_time": "2022-05-25T07:14:13.933Z"
   },
   {
    "duration": 47,
    "start_time": "2022-05-25T07:14:13.980Z"
   },
   {
    "duration": 24,
    "start_time": "2022-05-25T07:14:14.029Z"
   },
   {
    "duration": 19,
    "start_time": "2022-05-25T07:14:14.055Z"
   },
   {
    "duration": 4,
    "start_time": "2022-05-25T07:14:14.075Z"
   },
   {
    "duration": 28,
    "start_time": "2022-05-25T07:14:14.081Z"
   },
   {
    "duration": 818,
    "start_time": "2022-05-25T07:14:14.110Z"
   },
   {
    "duration": 1431,
    "start_time": "2022-05-25T07:14:14.930Z"
   },
   {
    "duration": 5,
    "start_time": "2022-05-25T07:14:16.453Z"
   },
   {
    "duration": 93,
    "start_time": "2022-05-25T07:14:16.460Z"
   },
   {
    "duration": 28598,
    "start_time": "2022-05-25T07:14:16.555Z"
   },
   {
    "duration": 97,
    "start_time": "2022-05-25T07:14:45.156Z"
   },
   {
    "duration": 264443,
    "start_time": "2022-05-25T07:14:45.255Z"
   },
   {
    "duration": 0,
    "start_time": "2022-05-25T07:19:09.700Z"
   },
   {
    "duration": 0,
    "start_time": "2022-05-25T07:19:09.701Z"
   },
   {
    "duration": 0,
    "start_time": "2022-05-25T07:19:09.702Z"
   },
   {
    "duration": 0,
    "start_time": "2022-05-25T07:19:09.703Z"
   },
   {
    "duration": 0,
    "start_time": "2022-05-25T07:19:09.704Z"
   },
   {
    "duration": 0,
    "start_time": "2022-05-25T07:19:09.705Z"
   },
   {
    "duration": 17,
    "start_time": "2022-05-25T07:19:36.258Z"
   },
   {
    "duration": 123228,
    "start_time": "2022-05-25T07:19:41.099Z"
   },
   {
    "duration": 1361,
    "start_time": "2022-05-25T07:22:39.117Z"
   },
   {
    "duration": 46,
    "start_time": "2022-05-25T07:22:40.480Z"
   },
   {
    "duration": 46,
    "start_time": "2022-05-25T07:22:40.528Z"
   },
   {
    "duration": 11,
    "start_time": "2022-05-25T07:22:40.577Z"
   },
   {
    "duration": 20,
    "start_time": "2022-05-25T07:22:40.589Z"
   },
   {
    "duration": 4,
    "start_time": "2022-05-25T07:22:40.611Z"
   },
   {
    "duration": 35,
    "start_time": "2022-05-25T07:22:40.617Z"
   },
   {
    "duration": 771,
    "start_time": "2022-05-25T07:22:40.653Z"
   },
   {
    "duration": 1535,
    "start_time": "2022-05-25T07:22:41.425Z"
   },
   {
    "duration": 6,
    "start_time": "2022-05-25T07:22:43.052Z"
   },
   {
    "duration": 110,
    "start_time": "2022-05-25T07:22:43.060Z"
   },
   {
    "duration": 27986,
    "start_time": "2022-05-25T07:22:43.172Z"
   },
   {
    "duration": 215,
    "start_time": "2022-05-25T07:23:11.161Z"
   },
   {
    "duration": 6214,
    "start_time": "2022-05-25T07:23:11.378Z"
   },
   {
    "duration": 0,
    "start_time": "2022-05-25T07:23:17.594Z"
   },
   {
    "duration": 0,
    "start_time": "2022-05-25T07:23:17.594Z"
   },
   {
    "duration": 0,
    "start_time": "2022-05-25T07:23:17.596Z"
   },
   {
    "duration": 0,
    "start_time": "2022-05-25T07:23:17.596Z"
   },
   {
    "duration": 0,
    "start_time": "2022-05-25T07:23:17.597Z"
   },
   {
    "duration": 0,
    "start_time": "2022-05-25T07:23:17.599Z"
   },
   {
    "duration": 8,
    "start_time": "2022-05-25T07:26:42.774Z"
   },
   {
    "duration": 15,
    "start_time": "2022-05-25T07:26:49.101Z"
   },
   {
    "duration": 926980,
    "start_time": "2022-05-25T07:27:32.119Z"
   },
   {
    "duration": 7,
    "start_time": "2022-05-25T07:44:25.324Z"
   },
   {
    "duration": 33,
    "start_time": "2022-05-25T07:45:07.755Z"
   },
   {
    "duration": 3,
    "start_time": "2022-05-25T07:46:40.194Z"
   },
   {
    "duration": 3,
    "start_time": "2022-05-25T07:47:09.563Z"
   },
   {
    "duration": 17,
    "start_time": "2022-05-25T07:47:13.975Z"
   },
   {
    "duration": 14,
    "start_time": "2022-05-25T07:47:25.501Z"
   },
   {
    "duration": 512461,
    "start_time": "2022-05-25T07:48:33.290Z"
   },
   {
    "duration": 20,
    "start_time": "2022-05-25T07:59:28.597Z"
   },
   {
    "duration": 73607,
    "start_time": "2022-05-25T07:59:39.777Z"
   },
   {
    "duration": 172935,
    "start_time": "2022-05-25T08:00:54.639Z"
   },
   {
    "duration": 18,
    "start_time": "2022-05-25T08:05:44.266Z"
   },
   {
    "duration": 169449,
    "start_time": "2022-05-25T08:05:47.777Z"
   },
   {
    "duration": 2443286,
    "start_time": "2022-05-25T08:11:28.140Z"
   },
   {
    "duration": 10806,
    "start_time": "2022-05-25T08:52:25.929Z"
   },
   {
    "duration": 1618,
    "start_time": "2022-05-25T08:59:50.316Z"
   },
   {
    "duration": 76,
    "start_time": "2022-05-25T08:59:51.938Z"
   },
   {
    "duration": 66,
    "start_time": "2022-05-25T08:59:52.016Z"
   },
   {
    "duration": 17,
    "start_time": "2022-05-25T08:59:52.084Z"
   },
   {
    "duration": 37,
    "start_time": "2022-05-25T08:59:52.104Z"
   },
   {
    "duration": 30,
    "start_time": "2022-05-25T08:59:52.151Z"
   },
   {
    "duration": 20,
    "start_time": "2022-05-25T08:59:52.184Z"
   },
   {
    "duration": 902,
    "start_time": "2022-05-25T08:59:52.206Z"
   },
   {
    "duration": 4280,
    "start_time": "2022-05-25T08:59:53.110Z"
   },
   {
    "duration": 13,
    "start_time": "2022-05-25T08:59:57.456Z"
   },
   {
    "duration": 106,
    "start_time": "2022-05-25T08:59:57.473Z"
   },
   {
    "duration": 5,
    "start_time": "2022-05-25T08:59:57.582Z"
   },
   {
    "duration": 28469,
    "start_time": "2022-05-25T08:59:57.589Z"
   },
   {
    "duration": 96,
    "start_time": "2022-05-25T09:00:26.061Z"
   },
   {
    "duration": 974582,
    "start_time": "2022-05-25T09:00:26.160Z"
   },
   {
    "duration": 23,
    "start_time": "2022-05-25T09:16:40.744Z"
   },
   {
    "duration": 492887,
    "start_time": "2022-05-25T09:16:40.769Z"
   },
   {
    "duration": 17,
    "start_time": "2022-05-25T09:24:53.658Z"
   },
   {
    "duration": 3545240,
    "start_time": "2022-05-25T09:24:53.677Z"
   },
   {
    "duration": 22,
    "start_time": "2022-05-25T10:23:58.920Z"
   },
   {
    "duration": 852,
    "start_time": "2022-05-25T10:23:58.944Z"
   },
   {
    "duration": 2996,
    "start_time": "2022-05-25T10:23:59.798Z"
   },
   {
    "duration": 27,
    "start_time": "2022-05-25T10:30:48.244Z"
   },
   {
    "duration": 1313,
    "start_time": "2022-05-25T10:30:54.030Z"
   },
   {
    "duration": 12363,
    "start_time": "2022-05-25T10:31:52.345Z"
   },
   {
    "duration": 0,
    "start_time": "2022-05-25T10:32:04.711Z"
   },
   {
    "duration": 27,
    "start_time": "2022-05-25T10:32:06.934Z"
   },
   {
    "duration": 34658,
    "start_time": "2022-05-25T10:32:08.597Z"
   },
   {
    "duration": 56,
    "start_time": "2022-05-25T10:33:58.966Z"
   },
   {
    "duration": 29,
    "start_time": "2022-05-25T10:34:22.886Z"
   },
   {
    "duration": 13,
    "start_time": "2022-05-25T10:34:29.589Z"
   },
   {
    "duration": 27,
    "start_time": "2022-05-25T10:34:44.204Z"
   },
   {
    "duration": 1231,
    "start_time": "2022-05-25T10:34:58.833Z"
   },
   {
    "duration": 15,
    "start_time": "2022-05-25T10:35:49.654Z"
   },
   {
    "duration": 22,
    "start_time": "2022-05-25T10:35:52.422Z"
   },
   {
    "duration": 1247,
    "start_time": "2022-05-25T10:35:53.628Z"
   },
   {
    "duration": 17,
    "start_time": "2022-05-25T10:36:48.837Z"
   },
   {
    "duration": 33,
    "start_time": "2022-05-25T10:36:51.972Z"
   },
   {
    "duration": 36930,
    "start_time": "2022-05-25T10:36:53.372Z"
   },
   {
    "duration": 12,
    "start_time": "2022-05-25T10:37:46.539Z"
   },
   {
    "duration": 39898,
    "start_time": "2022-05-25T10:37:47.451Z"
   },
   {
    "duration": 15,
    "start_time": "2022-05-25T10:38:40.036Z"
   },
   {
    "duration": 15,
    "start_time": "2022-05-25T10:38:41.434Z"
   },
   {
    "duration": 14301,
    "start_time": "2022-05-25T10:38:42.699Z"
   },
   {
    "duration": 6,
    "start_time": "2022-05-25T10:58:32.365Z"
   },
   {
    "duration": 56,
    "start_time": "2022-05-25T10:58:32.373Z"
   },
   {
    "duration": 38,
    "start_time": "2022-05-25T10:58:32.431Z"
   },
   {
    "duration": 10,
    "start_time": "2022-05-25T10:58:32.472Z"
   },
   {
    "duration": 16,
    "start_time": "2022-05-25T10:58:32.484Z"
   },
   {
    "duration": 8,
    "start_time": "2022-05-25T10:58:32.502Z"
   },
   {
    "duration": 20,
    "start_time": "2022-05-25T10:58:32.512Z"
   },
   {
    "duration": 770,
    "start_time": "2022-05-25T10:58:32.534Z"
   },
   {
    "duration": 1448,
    "start_time": "2022-05-25T10:58:33.306Z"
   },
   {
    "duration": 96,
    "start_time": "2022-05-25T10:58:34.759Z"
   },
   {
    "duration": 7,
    "start_time": "2022-05-25T10:58:34.857Z"
   },
   {
    "duration": 12,
    "start_time": "2022-05-25T10:58:37.706Z"
   },
   {
    "duration": 6,
    "start_time": "2022-05-25T10:58:45.018Z"
   },
   {
    "duration": 629,
    "start_time": "2022-05-25T11:03:21.233Z"
   },
   {
    "duration": 928,
    "start_time": "2022-05-25T11:05:11.633Z"
   },
   {
    "duration": 35,
    "start_time": "2022-05-25T11:05:33.816Z"
   },
   {
    "duration": 12,
    "start_time": "2022-05-25T11:06:07.776Z"
   },
   {
    "duration": 15,
    "start_time": "2022-05-25T11:07:11.345Z"
   },
   {
    "duration": 13,
    "start_time": "2022-05-25T11:07:17.775Z"
   },
   {
    "duration": 14,
    "start_time": "2022-05-25T11:10:53.478Z"
   },
   {
    "duration": 9,
    "start_time": "2022-05-25T11:11:37.438Z"
   },
   {
    "duration": 6,
    "start_time": "2022-05-25T11:14:44.431Z"
   },
   {
    "duration": 68,
    "start_time": "2022-05-25T11:14:44.440Z"
   },
   {
    "duration": 56,
    "start_time": "2022-05-25T11:14:44.511Z"
   },
   {
    "duration": 18,
    "start_time": "2022-05-25T11:14:44.569Z"
   },
   {
    "duration": 17,
    "start_time": "2022-05-25T11:14:44.590Z"
   },
   {
    "duration": 4,
    "start_time": "2022-05-25T11:14:44.609Z"
   },
   {
    "duration": 12,
    "start_time": "2022-05-25T11:14:44.615Z"
   },
   {
    "duration": 815,
    "start_time": "2022-05-25T11:14:44.653Z"
   },
   {
    "duration": 1186,
    "start_time": "2022-05-25T11:14:45.471Z"
   },
   {
    "duration": 93,
    "start_time": "2022-05-25T11:14:46.659Z"
   },
   {
    "duration": 8,
    "start_time": "2022-05-25T11:14:46.755Z"
   },
   {
    "duration": 101,
    "start_time": "2022-05-25T11:14:46.765Z"
   },
   {
    "duration": 9,
    "start_time": "2022-05-25T11:14:46.868Z"
   },
   {
    "duration": 10,
    "start_time": "2022-05-25T11:14:46.878Z"
   },
   {
    "duration": 37,
    "start_time": "2022-05-25T11:14:51.931Z"
   },
   {
    "duration": 5,
    "start_time": "2022-05-25T11:15:55.683Z"
   },
   {
    "duration": 17,
    "start_time": "2022-05-25T11:23:17.017Z"
   },
   {
    "duration": 12,
    "start_time": "2022-05-25T11:24:27.832Z"
   },
   {
    "duration": 12,
    "start_time": "2022-05-25T11:26:02.182Z"
   },
   {
    "duration": 13,
    "start_time": "2022-05-25T11:26:37.150Z"
   },
   {
    "duration": 12,
    "start_time": "2022-05-25T11:26:54.990Z"
   },
   {
    "duration": 4,
    "start_time": "2022-05-25T11:27:01.703Z"
   },
   {
    "duration": 5,
    "start_time": "2022-05-25T11:27:20.592Z"
   },
   {
    "duration": 57,
    "start_time": "2022-05-25T11:27:20.599Z"
   },
   {
    "duration": 43,
    "start_time": "2022-05-25T11:27:20.658Z"
   },
   {
    "duration": 17,
    "start_time": "2022-05-25T11:27:20.703Z"
   },
   {
    "duration": 37,
    "start_time": "2022-05-25T11:27:20.722Z"
   },
   {
    "duration": 5,
    "start_time": "2022-05-25T11:27:20.761Z"
   },
   {
    "duration": 16,
    "start_time": "2022-05-25T11:27:20.768Z"
   },
   {
    "duration": 852,
    "start_time": "2022-05-25T11:27:20.785Z"
   },
   {
    "duration": 1714,
    "start_time": "2022-05-25T11:27:21.639Z"
   },
   {
    "duration": 10,
    "start_time": "2022-05-25T11:27:23.355Z"
   },
   {
    "duration": 15,
    "start_time": "2022-05-25T11:27:23.453Z"
   },
   {
    "duration": 20,
    "start_time": "2022-05-25T11:27:23.469Z"
   },
   {
    "duration": 12,
    "start_time": "2022-05-25T11:27:23.491Z"
   },
   {
    "duration": 10,
    "start_time": "2022-05-25T11:27:28.942Z"
   },
   {
    "duration": 26,
    "start_time": "2022-05-25T11:27:47.214Z"
   },
   {
    "duration": 7,
    "start_time": "2022-05-25T11:28:44.983Z"
   },
   {
    "duration": 7,
    "start_time": "2022-05-25T11:29:41.785Z"
   },
   {
    "duration": 59,
    "start_time": "2022-05-25T11:29:41.793Z"
   },
   {
    "duration": 43,
    "start_time": "2022-05-25T11:29:41.855Z"
   },
   {
    "duration": 11,
    "start_time": "2022-05-25T11:29:41.900Z"
   },
   {
    "duration": 55,
    "start_time": "2022-05-25T11:29:41.914Z"
   },
   {
    "duration": 4,
    "start_time": "2022-05-25T11:29:41.971Z"
   },
   {
    "duration": 14,
    "start_time": "2022-05-25T11:29:41.977Z"
   },
   {
    "duration": 875,
    "start_time": "2022-05-25T11:29:41.993Z"
   },
   {
    "duration": 3390,
    "start_time": "2022-05-25T11:29:42.870Z"
   },
   {
    "duration": 13,
    "start_time": "2022-05-25T11:29:46.351Z"
   },
   {
    "duration": 103,
    "start_time": "2022-05-25T11:29:46.369Z"
   },
   {
    "duration": 11,
    "start_time": "2022-05-25T11:29:46.474Z"
   },
   {
    "duration": 17,
    "start_time": "2022-05-25T11:29:46.487Z"
   },
   {
    "duration": 13,
    "start_time": "2022-05-25T11:29:46.506Z"
   },
   {
    "duration": 38,
    "start_time": "2022-05-25T11:29:52.895Z"
   },
   {
    "duration": 12,
    "start_time": "2022-05-25T11:30:40.886Z"
   },
   {
    "duration": 6,
    "start_time": "2022-05-25T11:30:50.683Z"
   },
   {
    "duration": 53,
    "start_time": "2022-05-25T11:30:50.692Z"
   },
   {
    "duration": 45,
    "start_time": "2022-05-25T11:30:50.747Z"
   },
   {
    "duration": 13,
    "start_time": "2022-05-25T11:30:50.794Z"
   },
   {
    "duration": 43,
    "start_time": "2022-05-25T11:30:50.809Z"
   },
   {
    "duration": 4,
    "start_time": "2022-05-25T11:30:50.854Z"
   },
   {
    "duration": 11,
    "start_time": "2022-05-25T11:30:50.860Z"
   },
   {
    "duration": 725,
    "start_time": "2022-05-25T11:30:50.873Z"
   },
   {
    "duration": 1357,
    "start_time": "2022-05-25T11:30:51.600Z"
   },
   {
    "duration": 93,
    "start_time": "2022-05-25T11:30:52.959Z"
   },
   {
    "duration": 109,
    "start_time": "2022-05-25T11:30:53.055Z"
   },
   {
    "duration": 12,
    "start_time": "2022-05-25T11:30:53.166Z"
   },
   {
    "duration": 17,
    "start_time": "2022-05-25T11:30:56.246Z"
   },
   {
    "duration": 30,
    "start_time": "2022-05-25T11:31:37.116Z"
   },
   {
    "duration": 40,
    "start_time": "2022-05-25T12:01:45.111Z"
   },
   {
    "duration": 45,
    "start_time": "2022-05-25T12:02:33.039Z"
   },
   {
    "duration": 29,
    "start_time": "2022-05-25T12:02:48.784Z"
   },
   {
    "duration": 6,
    "start_time": "2022-05-25T12:03:05.793Z"
   },
   {
    "duration": 66,
    "start_time": "2022-05-25T12:03:05.801Z"
   },
   {
    "duration": 51,
    "start_time": "2022-05-25T12:03:05.869Z"
   },
   {
    "duration": 33,
    "start_time": "2022-05-25T12:03:05.923Z"
   },
   {
    "duration": 27,
    "start_time": "2022-05-25T12:03:05.957Z"
   },
   {
    "duration": 5,
    "start_time": "2022-05-25T12:03:05.986Z"
   },
   {
    "duration": 16,
    "start_time": "2022-05-25T12:03:05.993Z"
   },
   {
    "duration": 878,
    "start_time": "2022-05-25T12:03:06.010Z"
   },
   {
    "duration": 1077,
    "start_time": "2022-05-25T12:03:06.892Z"
   },
   {
    "duration": 83,
    "start_time": "2022-05-25T12:03:07.972Z"
   },
   {
    "duration": 25,
    "start_time": "2022-05-25T12:03:08.057Z"
   },
   {
    "duration": 0,
    "start_time": "2022-05-25T12:03:08.084Z"
   },
   {
    "duration": 0,
    "start_time": "2022-05-25T12:03:08.085Z"
   },
   {
    "duration": 6,
    "start_time": "2022-05-25T12:03:21.076Z"
   },
   {
    "duration": 66,
    "start_time": "2022-05-25T12:03:21.084Z"
   },
   {
    "duration": 51,
    "start_time": "2022-05-25T12:03:21.152Z"
   },
   {
    "duration": 26,
    "start_time": "2022-05-25T12:03:21.206Z"
   },
   {
    "duration": 29,
    "start_time": "2022-05-25T12:03:21.234Z"
   },
   {
    "duration": 10,
    "start_time": "2022-05-25T12:03:21.264Z"
   },
   {
    "duration": 13,
    "start_time": "2022-05-25T12:03:21.275Z"
   },
   {
    "duration": 822,
    "start_time": "2022-05-25T12:03:21.290Z"
   },
   {
    "duration": 3248,
    "start_time": "2022-05-25T12:03:22.116Z"
   },
   {
    "duration": 90,
    "start_time": "2022-05-25T12:03:25.367Z"
   },
   {
    "duration": 118,
    "start_time": "2022-05-25T12:03:25.460Z"
   },
   {
    "duration": 38,
    "start_time": "2022-05-25T12:03:25.581Z"
   },
   {
    "duration": 35,
    "start_time": "2022-05-25T12:03:42.614Z"
   },
   {
    "duration": 9,
    "start_time": "2022-05-25T12:04:03.415Z"
   },
   {
    "duration": 50,
    "start_time": "2022-05-25T12:04:03.427Z"
   },
   {
    "duration": 44,
    "start_time": "2022-05-25T12:04:03.479Z"
   },
   {
    "duration": 28,
    "start_time": "2022-05-25T12:04:03.526Z"
   },
   {
    "duration": 22,
    "start_time": "2022-05-25T12:04:03.556Z"
   },
   {
    "duration": 5,
    "start_time": "2022-05-25T12:04:03.580Z"
   },
   {
    "duration": 16,
    "start_time": "2022-05-25T12:04:03.587Z"
   },
   {
    "duration": 921,
    "start_time": "2022-05-25T12:04:03.605Z"
   },
   {
    "duration": 1128,
    "start_time": "2022-05-25T12:04:04.528Z"
   },
   {
    "duration": 90,
    "start_time": "2022-05-25T12:04:05.662Z"
   },
   {
    "duration": 5,
    "start_time": "2022-05-25T12:04:05.755Z"
   },
   {
    "duration": 42,
    "start_time": "2022-05-25T12:05:45.582Z"
   },
   {
    "duration": 12,
    "start_time": "2022-05-25T12:06:25.586Z"
   },
   {
    "duration": 90,
    "start_time": "2022-05-25T12:06:25.602Z"
   },
   {
    "duration": 62,
    "start_time": "2022-05-25T12:06:25.694Z"
   },
   {
    "duration": 19,
    "start_time": "2022-05-25T12:06:25.759Z"
   },
   {
    "duration": 33,
    "start_time": "2022-05-25T12:06:25.780Z"
   },
   {
    "duration": 6,
    "start_time": "2022-05-25T12:06:25.815Z"
   },
   {
    "duration": 34,
    "start_time": "2022-05-25T12:06:25.824Z"
   },
   {
    "duration": 1106,
    "start_time": "2022-05-25T12:06:25.860Z"
   },
   {
    "duration": 2989,
    "start_time": "2022-05-25T12:06:26.969Z"
   },
   {
    "duration": 88,
    "start_time": "2022-05-25T12:06:29.964Z"
   },
   {
    "duration": 13,
    "start_time": "2022-05-25T12:06:30.055Z"
   },
   {
    "duration": 42,
    "start_time": "2022-05-25T12:06:36.603Z"
   },
   {
    "duration": 10,
    "start_time": "2022-05-25T12:08:15.773Z"
   },
   {
    "duration": 29,
    "start_time": "2022-05-25T12:08:23.536Z"
   },
   {
    "duration": 33,
    "start_time": "2022-05-25T12:08:38.217Z"
   },
   {
    "duration": 6,
    "start_time": "2022-05-25T12:09:08.142Z"
   },
   {
    "duration": 50,
    "start_time": "2022-05-25T12:09:08.151Z"
   },
   {
    "duration": 48,
    "start_time": "2022-05-25T12:09:08.204Z"
   },
   {
    "duration": 12,
    "start_time": "2022-05-25T12:09:08.254Z"
   },
   {
    "duration": 21,
    "start_time": "2022-05-25T12:09:08.268Z"
   },
   {
    "duration": 5,
    "start_time": "2022-05-25T12:09:08.290Z"
   },
   {
    "duration": 11,
    "start_time": "2022-05-25T12:09:08.296Z"
   },
   {
    "duration": 797,
    "start_time": "2022-05-25T12:09:08.309Z"
   },
   {
    "duration": 2452,
    "start_time": "2022-05-25T12:09:09.108Z"
   },
   {
    "duration": 96,
    "start_time": "2022-05-25T12:09:11.564Z"
   },
   {
    "duration": 99,
    "start_time": "2022-05-25T12:09:11.663Z"
   },
   {
    "duration": 6,
    "start_time": "2022-05-25T12:09:11.764Z"
   },
   {
    "duration": 37,
    "start_time": "2022-05-25T12:09:56.164Z"
   },
   {
    "duration": 6,
    "start_time": "2022-05-25T12:10:28.516Z"
   },
   {
    "duration": 4,
    "start_time": "2022-05-25T12:10:46.725Z"
   },
   {
    "duration": 38,
    "start_time": "2022-05-25T12:11:12.583Z"
   },
   {
    "duration": 35,
    "start_time": "2022-05-25T12:11:54.716Z"
   },
   {
    "duration": 19,
    "start_time": "2022-05-25T12:12:11.459Z"
   },
   {
    "duration": 28441,
    "start_time": "2022-05-25T12:12:50.724Z"
   },
   {
    "duration": 44,
    "start_time": "2022-05-25T12:15:51.913Z"
   },
   {
    "duration": 7,
    "start_time": "2022-05-25T12:18:23.220Z"
   },
   {
    "duration": 56,
    "start_time": "2022-05-25T12:18:23.229Z"
   },
   {
    "duration": 51,
    "start_time": "2022-05-25T12:18:23.287Z"
   },
   {
    "duration": 17,
    "start_time": "2022-05-25T12:18:23.351Z"
   },
   {
    "duration": 19,
    "start_time": "2022-05-25T12:18:23.371Z"
   },
   {
    "duration": 5,
    "start_time": "2022-05-25T12:18:23.392Z"
   },
   {
    "duration": 9,
    "start_time": "2022-05-25T12:18:23.399Z"
   },
   {
    "duration": 903,
    "start_time": "2022-05-25T12:18:23.411Z"
   },
   {
    "duration": 2747,
    "start_time": "2022-05-25T12:18:24.316Z"
   },
   {
    "duration": 90,
    "start_time": "2022-05-25T12:18:27.067Z"
   },
   {
    "duration": 93,
    "start_time": "2022-05-25T12:18:27.162Z"
   },
   {
    "duration": 29038,
    "start_time": "2022-05-25T12:18:32.615Z"
   },
   {
    "duration": 47,
    "start_time": "2022-05-25T12:19:13.199Z"
   },
   {
    "duration": 5,
    "start_time": "2022-05-25T12:19:43.194Z"
   },
   {
    "duration": 51,
    "start_time": "2022-05-25T12:19:43.201Z"
   },
   {
    "duration": 43,
    "start_time": "2022-05-25T12:19:43.254Z"
   },
   {
    "duration": 16,
    "start_time": "2022-05-25T12:19:43.299Z"
   },
   {
    "duration": 51,
    "start_time": "2022-05-25T12:19:43.318Z"
   },
   {
    "duration": 5,
    "start_time": "2022-05-25T12:19:43.371Z"
   },
   {
    "duration": 13,
    "start_time": "2022-05-25T12:19:43.378Z"
   },
   {
    "duration": 823,
    "start_time": "2022-05-25T12:19:43.393Z"
   },
   {
    "duration": 1935,
    "start_time": "2022-05-25T12:19:44.219Z"
   },
   {
    "duration": 9,
    "start_time": "2022-05-25T12:19:46.157Z"
   },
   {
    "duration": 7,
    "start_time": "2022-05-25T12:19:46.254Z"
   },
   {
    "duration": 26825,
    "start_time": "2022-05-25T12:19:54.329Z"
   },
   {
    "duration": 6,
    "start_time": "2022-05-25T12:20:38.519Z"
   },
   {
    "duration": 48,
    "start_time": "2022-05-25T12:20:38.528Z"
   },
   {
    "duration": 41,
    "start_time": "2022-05-25T12:20:38.578Z"
   },
   {
    "duration": 11,
    "start_time": "2022-05-25T12:20:38.621Z"
   },
   {
    "duration": 29,
    "start_time": "2022-05-25T12:20:38.633Z"
   },
   {
    "duration": 4,
    "start_time": "2022-05-25T12:20:38.664Z"
   },
   {
    "duration": 12,
    "start_time": "2022-05-25T12:20:38.670Z"
   },
   {
    "duration": 752,
    "start_time": "2022-05-25T12:20:38.684Z"
   },
   {
    "duration": 1527,
    "start_time": "2022-05-25T12:20:39.439Z"
   },
   {
    "duration": 5,
    "start_time": "2022-05-25T12:20:41.054Z"
   },
   {
    "duration": 101,
    "start_time": "2022-05-25T12:20:41.062Z"
   },
   {
    "duration": 31045,
    "start_time": "2022-05-25T12:20:42.510Z"
   },
   {
    "duration": 44,
    "start_time": "2022-05-25T12:21:17.287Z"
   },
   {
    "duration": 8,
    "start_time": "2022-05-25T12:22:26.982Z"
   },
   {
    "duration": 65,
    "start_time": "2022-05-25T12:22:26.992Z"
   },
   {
    "duration": 47,
    "start_time": "2022-05-25T12:22:27.059Z"
   },
   {
    "duration": 12,
    "start_time": "2022-05-25T12:22:27.109Z"
   },
   {
    "duration": 38,
    "start_time": "2022-05-25T12:22:27.123Z"
   },
   {
    "duration": 6,
    "start_time": "2022-05-25T12:22:27.162Z"
   },
   {
    "duration": 19,
    "start_time": "2022-05-25T12:22:27.169Z"
   },
   {
    "duration": 897,
    "start_time": "2022-05-25T12:22:27.190Z"
   },
   {
    "duration": 1472,
    "start_time": "2022-05-25T12:22:28.090Z"
   },
   {
    "duration": 6,
    "start_time": "2022-05-25T12:22:29.652Z"
   },
   {
    "duration": 113,
    "start_time": "2022-05-25T12:22:29.660Z"
   },
   {
    "duration": 14,
    "start_time": "2022-05-25T12:22:34.742Z"
   },
   {
    "duration": 9,
    "start_time": "2022-05-25T12:25:05.741Z"
   },
   {
    "duration": 16,
    "start_time": "2022-05-25T12:25:10.986Z"
   },
   {
    "duration": 53,
    "start_time": "2022-05-25T12:26:37.654Z"
   },
   {
    "duration": 14,
    "start_time": "2022-05-25T12:26:57.545Z"
   },
   {
    "duration": 26998,
    "start_time": "2022-05-25T12:27:11.863Z"
   },
   {
    "duration": 35,
    "start_time": "2022-05-25T12:27:42.412Z"
   },
   {
    "duration": 36191,
    "start_time": "2022-05-25T12:29:25.779Z"
   },
   {
    "duration": 7,
    "start_time": "2022-05-25T12:33:05.466Z"
   },
   {
    "duration": 170,
    "start_time": "2022-05-25T12:33:05.475Z"
   },
   {
    "duration": 58,
    "start_time": "2022-05-25T12:33:05.649Z"
   },
   {
    "duration": 12,
    "start_time": "2022-05-25T12:33:05.709Z"
   },
   {
    "duration": 35,
    "start_time": "2022-05-25T12:33:05.723Z"
   },
   {
    "duration": 26,
    "start_time": "2022-05-25T12:33:05.760Z"
   },
   {
    "duration": 34,
    "start_time": "2022-05-25T12:33:05.788Z"
   },
   {
    "duration": 837,
    "start_time": "2022-05-25T12:33:05.824Z"
   },
   {
    "duration": 3319,
    "start_time": "2022-05-25T12:33:06.665Z"
   },
   {
    "duration": 25,
    "start_time": "2022-05-25T12:33:10.052Z"
   },
   {
    "duration": 114,
    "start_time": "2022-05-25T12:33:10.080Z"
   },
   {
    "duration": 13,
    "start_time": "2022-05-25T12:33:26.763Z"
   },
   {
    "duration": 21,
    "start_time": "2022-05-25T12:33:32.888Z"
   },
   {
    "duration": 2748,
    "start_time": "2022-05-25T12:34:26.337Z"
   },
   {
    "duration": 7,
    "start_time": "2022-05-25T12:40:06.012Z"
   },
   {
    "duration": 60,
    "start_time": "2022-05-25T12:40:06.021Z"
   },
   {
    "duration": 46,
    "start_time": "2022-05-25T12:40:06.082Z"
   },
   {
    "duration": 38,
    "start_time": "2022-05-25T12:40:06.131Z"
   },
   {
    "duration": 26,
    "start_time": "2022-05-25T12:40:06.177Z"
   },
   {
    "duration": 4,
    "start_time": "2022-05-25T12:40:06.205Z"
   },
   {
    "duration": 12,
    "start_time": "2022-05-25T12:40:06.211Z"
   },
   {
    "duration": 794,
    "start_time": "2022-05-25T12:40:06.225Z"
   },
   {
    "duration": 3959,
    "start_time": "2022-05-25T12:40:07.021Z"
   },
   {
    "duration": 12,
    "start_time": "2022-05-25T12:40:11.051Z"
   },
   {
    "duration": 118,
    "start_time": "2022-05-25T12:40:11.066Z"
   },
   {
    "duration": 17,
    "start_time": "2022-05-25T12:41:03.774Z"
   },
   {
    "duration": 26,
    "start_time": "2022-05-25T12:41:18.382Z"
   },
   {
    "duration": 6,
    "start_time": "2022-05-25T12:41:30.233Z"
   },
   {
    "duration": 71,
    "start_time": "2022-05-25T12:41:30.242Z"
   },
   {
    "duration": 55,
    "start_time": "2022-05-25T12:41:30.314Z"
   },
   {
    "duration": 16,
    "start_time": "2022-05-25T12:41:30.372Z"
   },
   {
    "duration": 42,
    "start_time": "2022-05-25T12:41:30.391Z"
   },
   {
    "duration": 12,
    "start_time": "2022-05-25T12:41:30.435Z"
   },
   {
    "duration": 38,
    "start_time": "2022-05-25T12:41:30.448Z"
   },
   {
    "duration": 1040,
    "start_time": "2022-05-25T12:41:30.488Z"
   },
   {
    "duration": 4426,
    "start_time": "2022-05-25T12:41:31.531Z"
   },
   {
    "duration": 8,
    "start_time": "2022-05-25T12:41:35.960Z"
   },
   {
    "duration": 141,
    "start_time": "2022-05-25T12:41:35.974Z"
   },
   {
    "duration": 26,
    "start_time": "2022-05-25T12:41:38.942Z"
   },
   {
    "duration": 6,
    "start_time": "2022-05-25T12:42:19.741Z"
   },
   {
    "duration": 77,
    "start_time": "2022-05-25T12:42:19.750Z"
   },
   {
    "duration": 73,
    "start_time": "2022-05-25T12:42:19.829Z"
   },
   {
    "duration": 13,
    "start_time": "2022-05-25T12:42:19.905Z"
   },
   {
    "duration": 27,
    "start_time": "2022-05-25T12:42:19.920Z"
   },
   {
    "duration": 10,
    "start_time": "2022-05-25T12:42:19.952Z"
   },
   {
    "duration": 34,
    "start_time": "2022-05-25T12:42:19.965Z"
   },
   {
    "duration": 863,
    "start_time": "2022-05-25T12:42:20.002Z"
   },
   {
    "duration": 5617,
    "start_time": "2022-05-25T12:42:20.872Z"
   },
   {
    "duration": 16,
    "start_time": "2022-05-25T12:42:26.554Z"
   },
   {
    "duration": 119,
    "start_time": "2022-05-25T12:42:26.573Z"
   },
   {
    "duration": 24073,
    "start_time": "2022-05-25T12:42:28.828Z"
   },
   {
    "duration": 32080,
    "start_time": "2022-05-25T12:42:54.673Z"
   },
   {
    "duration": 59,
    "start_time": "2022-05-25T12:43:29.812Z"
   },
   {
    "duration": 43,
    "start_time": "2022-05-25T12:48:45.515Z"
   },
   {
    "duration": 34,
    "start_time": "2022-05-25T12:49:32.362Z"
   },
   {
    "duration": 26,
    "start_time": "2022-05-25T12:49:39.961Z"
   },
   {
    "duration": 6,
    "start_time": "2022-05-25T12:51:20.017Z"
   },
   {
    "duration": 913,
    "start_time": "2022-05-25T12:51:30.807Z"
   },
   {
    "duration": 688,
    "start_time": "2022-05-25T12:51:48.976Z"
   },
   {
    "duration": 6,
    "start_time": "2022-05-25T12:52:00.001Z"
   },
   {
    "duration": 65,
    "start_time": "2022-05-25T12:52:00.009Z"
   },
   {
    "duration": 45,
    "start_time": "2022-05-25T12:52:00.077Z"
   },
   {
    "duration": 32,
    "start_time": "2022-05-25T12:52:00.123Z"
   },
   {
    "duration": 22,
    "start_time": "2022-05-25T12:52:00.157Z"
   },
   {
    "duration": 22,
    "start_time": "2022-05-25T12:52:00.181Z"
   },
   {
    "duration": 46,
    "start_time": "2022-05-25T12:52:00.205Z"
   },
   {
    "duration": 861,
    "start_time": "2022-05-25T12:52:00.253Z"
   },
   {
    "duration": 1538,
    "start_time": "2022-05-25T12:52:01.115Z"
   },
   {
    "duration": 5,
    "start_time": "2022-05-25T12:52:02.656Z"
   },
   {
    "duration": 126,
    "start_time": "2022-05-25T12:52:02.666Z"
   },
   {
    "duration": 27060,
    "start_time": "2022-05-25T12:52:02.794Z"
   },
   {
    "duration": 6,
    "start_time": "2022-05-25T12:52:32.503Z"
   },
   {
    "duration": 637,
    "start_time": "2022-05-25T12:53:14.128Z"
   },
   {
    "duration": 5,
    "start_time": "2022-05-25T12:54:10.723Z"
   },
   {
    "duration": 50,
    "start_time": "2022-05-25T12:54:10.730Z"
   },
   {
    "duration": 44,
    "start_time": "2022-05-25T12:54:10.781Z"
   },
   {
    "duration": 29,
    "start_time": "2022-05-25T12:54:10.827Z"
   },
   {
    "duration": 17,
    "start_time": "2022-05-25T12:54:10.858Z"
   },
   {
    "duration": 4,
    "start_time": "2022-05-25T12:54:10.877Z"
   },
   {
    "duration": 10,
    "start_time": "2022-05-25T12:54:10.883Z"
   },
   {
    "duration": 786,
    "start_time": "2022-05-25T12:54:10.895Z"
   },
   {
    "duration": 1278,
    "start_time": "2022-05-25T12:54:11.684Z"
   },
   {
    "duration": 88,
    "start_time": "2022-05-25T12:54:12.965Z"
   },
   {
    "duration": 104,
    "start_time": "2022-05-25T12:54:13.061Z"
   },
   {
    "duration": 29292,
    "start_time": "2022-05-25T12:54:13.167Z"
   },
   {
    "duration": 40,
    "start_time": "2022-05-25T12:54:45.926Z"
   },
   {
    "duration": 10,
    "start_time": "2022-05-25T12:56:13.783Z"
   },
   {
    "duration": 39,
    "start_time": "2022-05-25T12:58:40.237Z"
   },
   {
    "duration": 913795,
    "start_time": "2022-05-25T12:58:53.148Z"
   },
   {
    "duration": 4,
    "start_time": "2022-05-25T13:16:12.445Z"
   },
   {
    "duration": 9,
    "start_time": "2022-05-25T13:16:23.261Z"
   },
   {
    "duration": 1614,
    "start_time": "2022-05-25T14:28:26.379Z"
   },
   {
    "duration": 113,
    "start_time": "2022-05-25T14:28:27.995Z"
   },
   {
    "duration": 51,
    "start_time": "2022-05-25T14:28:28.110Z"
   },
   {
    "duration": 12,
    "start_time": "2022-05-25T14:28:28.163Z"
   },
   {
    "duration": 30,
    "start_time": "2022-05-25T14:28:28.179Z"
   },
   {
    "duration": 4,
    "start_time": "2022-05-25T14:28:28.211Z"
   },
   {
    "duration": 35,
    "start_time": "2022-05-25T14:28:28.217Z"
   },
   {
    "duration": 802,
    "start_time": "2022-05-25T14:28:28.254Z"
   },
   {
    "duration": 1801,
    "start_time": "2022-05-25T14:28:29.058Z"
   },
   {
    "duration": 5,
    "start_time": "2022-05-25T14:28:30.861Z"
   },
   {
    "duration": 99,
    "start_time": "2022-05-25T14:28:30.953Z"
   },
   {
    "duration": 26908,
    "start_time": "2022-05-25T14:28:31.055Z"
   },
   {
    "duration": 5,
    "start_time": "2022-05-25T14:28:58.051Z"
   },
   {
    "duration": 1179659,
    "start_time": "2022-05-25T14:28:58.059Z"
   },
   {
    "duration": 0,
    "start_time": "2022-05-25T14:48:37.720Z"
   },
   {
    "duration": 0,
    "start_time": "2022-05-25T14:48:37.722Z"
   },
   {
    "duration": 0,
    "start_time": "2022-05-25T14:48:37.724Z"
   },
   {
    "duration": 0,
    "start_time": "2022-05-25T14:48:37.725Z"
   },
   {
    "duration": 0,
    "start_time": "2022-05-25T14:48:37.727Z"
   },
   {
    "duration": 0,
    "start_time": "2022-05-25T14:48:37.728Z"
   },
   {
    "duration": 0,
    "start_time": "2022-05-25T14:48:37.730Z"
   },
   {
    "duration": 0,
    "start_time": "2022-05-25T14:48:37.731Z"
   },
   {
    "duration": 9,
    "start_time": "2022-05-25T14:50:19.181Z"
   },
   {
    "duration": 20,
    "start_time": "2022-05-25T14:50:26.810Z"
   },
   {
    "duration": 182,
    "start_time": "2022-05-25T14:50:36.772Z"
   },
   {
    "duration": 6,
    "start_time": "2022-05-25T14:54:07.354Z"
   },
   {
    "duration": 53,
    "start_time": "2022-05-25T14:54:07.363Z"
   },
   {
    "duration": 48,
    "start_time": "2022-05-25T14:54:07.418Z"
   },
   {
    "duration": 15,
    "start_time": "2022-05-25T14:54:07.468Z"
   },
   {
    "duration": 17,
    "start_time": "2022-05-25T14:54:07.487Z"
   },
   {
    "duration": 4,
    "start_time": "2022-05-25T14:54:07.506Z"
   },
   {
    "duration": 40,
    "start_time": "2022-05-25T14:54:07.512Z"
   },
   {
    "duration": 895,
    "start_time": "2022-05-25T14:54:07.554Z"
   },
   {
    "duration": 1112,
    "start_time": "2022-05-25T14:54:08.451Z"
   },
   {
    "duration": 5,
    "start_time": "2022-05-25T14:54:09.565Z"
   },
   {
    "duration": 89,
    "start_time": "2022-05-25T14:54:09.572Z"
   },
   {
    "duration": 19,
    "start_time": "2022-05-25T14:54:32.930Z"
   },
   {
    "duration": 67,
    "start_time": "2022-05-25T14:55:06.208Z"
   },
   {
    "duration": 33,
    "start_time": "2022-05-25T14:56:21.082Z"
   },
   {
    "duration": 353358,
    "start_time": "2022-05-25T14:58:16.973Z"
   },
   {
    "duration": 7,
    "start_time": "2022-05-25T15:04:15.666Z"
   },
   {
    "duration": 63,
    "start_time": "2022-05-25T15:04:15.676Z"
   },
   {
    "duration": 43,
    "start_time": "2022-05-25T15:04:15.742Z"
   },
   {
    "duration": 16,
    "start_time": "2022-05-25T15:04:15.787Z"
   },
   {
    "duration": 46,
    "start_time": "2022-05-25T15:04:15.806Z"
   },
   {
    "duration": 5,
    "start_time": "2022-05-25T15:04:15.855Z"
   },
   {
    "duration": 16,
    "start_time": "2022-05-25T15:04:15.862Z"
   },
   {
    "duration": 809,
    "start_time": "2022-05-25T15:04:15.881Z"
   },
   {
    "duration": 1164,
    "start_time": "2022-05-25T15:04:16.692Z"
   },
   {
    "duration": 5,
    "start_time": "2022-05-25T15:04:17.858Z"
   },
   {
    "duration": 194,
    "start_time": "2022-05-25T15:04:17.864Z"
   },
   {
    "duration": 28,
    "start_time": "2022-05-25T15:04:18.059Z"
   },
   {
    "duration": 69,
    "start_time": "2022-05-25T15:04:18.089Z"
   },
   {
    "duration": 25,
    "start_time": "2022-05-25T15:04:44.096Z"
   },
   {
    "duration": 23,
    "start_time": "2022-05-25T15:04:52.404Z"
   },
   {
    "duration": 6,
    "start_time": "2022-05-25T15:05:07.445Z"
   },
   {
    "duration": 384006,
    "start_time": "2022-05-25T15:05:57.543Z"
   },
   {
    "duration": 980646,
    "start_time": "2022-05-25T15:13:40.785Z"
   },
   {
    "duration": 9,
    "start_time": "2022-05-25T15:32:07.060Z"
   },
   {
    "duration": 17,
    "start_time": "2022-05-25T15:32:13.405Z"
   },
   {
    "duration": 26,
    "start_time": "2022-05-25T15:32:25.291Z"
   },
   {
    "duration": 6,
    "start_time": "2022-05-25T15:32:36.847Z"
   },
   {
    "duration": 28,
    "start_time": "2022-05-25T15:32:41.707Z"
   },
   {
    "duration": 15,
    "start_time": "2022-05-25T15:32:54.280Z"
   },
   {
    "duration": 19,
    "start_time": "2022-05-25T15:35:11.649Z"
   },
   {
    "duration": 3493,
    "start_time": "2022-05-25T15:35:25.945Z"
   },
   {
    "duration": 2177,
    "start_time": "2022-05-25T15:36:43.699Z"
   },
   {
    "duration": 20,
    "start_time": "2022-05-25T15:39:47.150Z"
   },
   {
    "duration": 20,
    "start_time": "2022-05-25T15:40:06.233Z"
   },
   {
    "duration": 4,
    "start_time": "2022-05-25T15:41:00.677Z"
   },
   {
    "duration": 12,
    "start_time": "2022-05-25T15:41:05.412Z"
   },
   {
    "duration": 19,
    "start_time": "2022-05-25T15:43:11.723Z"
   },
   {
    "duration": 46,
    "start_time": "2022-05-25T15:47:46.346Z"
   },
   {
    "duration": 39,
    "start_time": "2022-05-25T15:48:44.098Z"
   },
   {
    "duration": 9,
    "start_time": "2022-05-25T15:49:42.590Z"
   },
   {
    "duration": 13,
    "start_time": "2022-05-25T15:49:48.051Z"
   },
   {
    "duration": 14,
    "start_time": "2022-05-25T15:49:57.816Z"
   },
   {
    "duration": 18,
    "start_time": "2022-05-25T15:50:11.255Z"
   },
   {
    "duration": 601,
    "start_time": "2022-05-25T15:51:22.165Z"
   },
   {
    "duration": 2827,
    "start_time": "2022-05-25T15:51:34.165Z"
   },
   {
    "duration": 4507,
    "start_time": "2022-05-25T15:52:13.249Z"
   },
   {
    "duration": 3873,
    "start_time": "2022-05-25T15:52:24.085Z"
   },
   {
    "duration": 4363,
    "start_time": "2022-05-25T15:52:35.288Z"
   },
   {
    "duration": 4503,
    "start_time": "2022-05-25T15:52:43.452Z"
   },
   {
    "duration": 4737,
    "start_time": "2022-05-25T15:52:52.018Z"
   },
   {
    "duration": 74,
    "start_time": "2022-05-25T15:53:11.494Z"
   },
   {
    "duration": 5,
    "start_time": "2022-05-25T15:53:14.663Z"
   },
   {
    "duration": 16,
    "start_time": "2022-05-25T15:53:16.805Z"
   },
   {
    "duration": 3673,
    "start_time": "2022-05-25T15:53:42.178Z"
   },
   {
    "duration": 3204,
    "start_time": "2022-05-25T15:53:54.952Z"
   },
   {
    "duration": 23550,
    "start_time": "2022-05-25T15:55:26.213Z"
   },
   {
    "duration": 23868,
    "start_time": "2022-05-25T15:56:59.087Z"
   },
   {
    "duration": 1560,
    "start_time": "2022-05-26T05:07:02.335Z"
   },
   {
    "duration": 123,
    "start_time": "2022-05-26T05:07:03.900Z"
   },
   {
    "duration": 50,
    "start_time": "2022-05-26T05:07:04.025Z"
   },
   {
    "duration": 26,
    "start_time": "2022-05-26T05:07:04.077Z"
   },
   {
    "duration": 15,
    "start_time": "2022-05-26T05:07:04.104Z"
   },
   {
    "duration": 5,
    "start_time": "2022-05-26T05:07:04.121Z"
   },
   {
    "duration": 15,
    "start_time": "2022-05-26T05:07:04.127Z"
   },
   {
    "duration": 830,
    "start_time": "2022-05-26T05:07:04.143Z"
   },
   {
    "duration": 3623,
    "start_time": "2022-05-26T05:07:04.975Z"
   },
   {
    "duration": 13,
    "start_time": "2022-05-26T05:07:08.601Z"
   },
   {
    "duration": 96,
    "start_time": "2022-05-26T05:07:08.617Z"
   },
   {
    "duration": 20,
    "start_time": "2022-05-26T05:07:08.715Z"
   },
   {
    "duration": 172,
    "start_time": "2022-05-26T05:07:08.736Z"
   },
   {
    "duration": 375967,
    "start_time": "2022-05-26T05:07:08.910Z"
   },
   {
    "duration": 902989,
    "start_time": "2022-05-26T05:13:24.879Z"
   },
   {
    "duration": 0,
    "start_time": "2022-05-26T05:28:27.870Z"
   },
   {
    "duration": 0,
    "start_time": "2022-05-26T05:28:27.871Z"
   },
   {
    "duration": 0,
    "start_time": "2022-05-26T05:28:27.873Z"
   },
   {
    "duration": 0,
    "start_time": "2022-05-26T05:28:27.874Z"
   },
   {
    "duration": 0,
    "start_time": "2022-05-26T05:28:27.875Z"
   },
   {
    "duration": 22,
    "start_time": "2022-05-26T05:28:32.518Z"
   },
   {
    "duration": 16,
    "start_time": "2022-05-26T05:28:33.683Z"
   },
   {
    "duration": 4165,
    "start_time": "2022-05-26T05:28:35.796Z"
   },
   {
    "duration": 2534,
    "start_time": "2022-05-26T05:28:43.124Z"
   },
   {
    "duration": 4,
    "start_time": "2022-05-26T05:28:52.350Z"
   },
   {
    "duration": 8,
    "start_time": "2022-05-26T05:28:55.821Z"
   },
   {
    "duration": 14334,
    "start_time": "2022-05-26T05:28:59.868Z"
   },
   {
    "duration": 22868,
    "start_time": "2022-05-26T05:30:15.939Z"
   },
   {
    "duration": 9,
    "start_time": "2022-05-26T05:31:00.323Z"
   },
   {
    "duration": 105,
    "start_time": "2022-05-26T05:32:53.813Z"
   },
   {
    "duration": 160,
    "start_time": "2022-05-26T05:33:55.362Z"
   },
   {
    "duration": 21891,
    "start_time": "2022-05-26T05:34:15.807Z"
   },
   {
    "duration": 10,
    "start_time": "2022-05-26T05:34:40.530Z"
   },
   {
    "duration": 127,
    "start_time": "2022-05-26T05:35:34.261Z"
   },
   {
    "duration": 112,
    "start_time": "2022-05-26T05:36:10.981Z"
   },
   {
    "duration": 23332,
    "start_time": "2022-05-26T05:36:43.876Z"
   },
   {
    "duration": 126,
    "start_time": "2022-05-26T05:37:10.185Z"
   },
   {
    "duration": 44076,
    "start_time": "2022-05-26T05:37:52.026Z"
   },
   {
    "duration": 117,
    "start_time": "2022-05-26T05:38:44.792Z"
   },
   {
    "duration": 37642,
    "start_time": "2022-05-26T05:39:04.909Z"
   },
   {
    "duration": 107,
    "start_time": "2022-05-26T05:39:46.952Z"
   },
   {
    "duration": 135,
    "start_time": "2022-05-26T05:41:00.569Z"
   },
   {
    "duration": 190,
    "start_time": "2022-05-26T05:41:19.776Z"
   },
   {
    "duration": 33,
    "start_time": "2022-05-26T05:49:22.950Z"
   },
   {
    "duration": 30,
    "start_time": "2022-05-26T05:49:53.765Z"
   },
   {
    "duration": 433145,
    "start_time": "2022-05-26T05:50:02.506Z"
   },
   {
    "duration": 168,
    "start_time": "2022-05-26T05:58:03.098Z"
   },
   {
    "duration": 281387,
    "start_time": "2022-05-26T06:01:19.733Z"
   },
   {
    "duration": 193,
    "start_time": "2022-05-26T06:06:27.067Z"
   },
   {
    "duration": 13420,
    "start_time": "2022-05-26T06:07:25.674Z"
   },
   {
    "duration": 283895,
    "start_time": "2022-05-26T06:07:51.106Z"
   },
   {
    "duration": 383026,
    "start_time": "2022-05-26T06:16:06.616Z"
   },
   {
    "duration": 170,
    "start_time": "2022-05-26T06:27:18.554Z"
   },
   {
    "duration": 388949,
    "start_time": "2022-05-26T06:28:54.891Z"
   },
   {
    "duration": 144,
    "start_time": "2022-05-26T06:35:39.636Z"
   },
   {
    "duration": 41787,
    "start_time": "2022-05-26T06:43:04.722Z"
   },
   {
    "duration": 11,
    "start_time": "2022-05-26T06:43:49.627Z"
   },
   {
    "duration": 9,
    "start_time": "2022-05-26T06:44:50.882Z"
   },
   {
    "duration": 175,
    "start_time": "2022-05-26T06:44:56.538Z"
   },
   {
    "duration": 211,
    "start_time": "2022-05-26T06:45:25.491Z"
   },
   {
    "duration": 11,
    "start_time": "2022-05-26T06:46:40.674Z"
   },
   {
    "duration": 11,
    "start_time": "2022-05-26T06:46:46.041Z"
   },
   {
    "duration": 5,
    "start_time": "2022-05-26T06:48:19.137Z"
   },
   {
    "duration": 5,
    "start_time": "2022-05-26T06:48:24.961Z"
   },
   {
    "duration": 10,
    "start_time": "2022-05-26T06:48:54.640Z"
   },
   {
    "duration": 15,
    "start_time": "2022-05-26T06:49:55.616Z"
   },
   {
    "duration": 5,
    "start_time": "2022-05-26T06:50:04.848Z"
   },
   {
    "duration": 4,
    "start_time": "2022-05-26T06:50:20.984Z"
   },
   {
    "duration": 12,
    "start_time": "2022-05-26T06:50:40.924Z"
   },
   {
    "duration": 12,
    "start_time": "2022-05-26T06:50:48.936Z"
   },
   {
    "duration": 4,
    "start_time": "2022-05-26T06:50:56.039Z"
   },
   {
    "duration": 31,
    "start_time": "2022-05-26T07:01:18.411Z"
   },
   {
    "duration": 74,
    "start_time": "2022-05-26T07:01:24.981Z"
   },
   {
    "duration": 16,
    "start_time": "2022-05-26T07:02:40.053Z"
   },
   {
    "duration": 24,
    "start_time": "2022-05-26T07:03:01.611Z"
   },
   {
    "duration": 17,
    "start_time": "2022-05-26T07:03:22.250Z"
   },
   {
    "duration": 26,
    "start_time": "2022-05-26T07:03:53.893Z"
   },
   {
    "duration": 14,
    "start_time": "2022-05-26T07:04:12.125Z"
   },
   {
    "duration": 11,
    "start_time": "2022-05-26T07:05:16.348Z"
   },
   {
    "duration": 11,
    "start_time": "2022-05-26T07:05:22.435Z"
   },
   {
    "duration": 14,
    "start_time": "2022-05-26T07:05:35.528Z"
   },
   {
    "duration": 134,
    "start_time": "2022-05-26T07:06:03.100Z"
   },
   {
    "duration": 23,
    "start_time": "2022-05-26T07:06:35.498Z"
   },
   {
    "duration": 12,
    "start_time": "2022-05-26T07:07:21.645Z"
   },
   {
    "duration": 16,
    "start_time": "2022-05-26T07:08:57.391Z"
   },
   {
    "duration": 9,
    "start_time": "2022-05-26T07:09:09.516Z"
   },
   {
    "duration": 22,
    "start_time": "2022-05-26T07:09:13.619Z"
   },
   {
    "duration": 23,
    "start_time": "2022-05-26T07:09:28.388Z"
   },
   {
    "duration": 28,
    "start_time": "2022-05-26T07:09:52.307Z"
   },
   {
    "duration": 1916,
    "start_time": "2022-05-26T07:14:06.381Z"
   },
   {
    "duration": 164,
    "start_time": "2022-05-26T07:14:08.299Z"
   },
   {
    "duration": 76,
    "start_time": "2022-05-26T07:14:08.465Z"
   },
   {
    "duration": 16,
    "start_time": "2022-05-26T07:14:08.550Z"
   },
   {
    "duration": 42,
    "start_time": "2022-05-26T07:14:08.570Z"
   },
   {
    "duration": 10,
    "start_time": "2022-05-26T07:14:08.619Z"
   },
   {
    "duration": 41,
    "start_time": "2022-05-26T07:14:08.634Z"
   },
   {
    "duration": 1092,
    "start_time": "2022-05-26T07:14:08.677Z"
   },
   {
    "duration": 1608,
    "start_time": "2022-05-26T07:14:09.771Z"
   },
   {
    "duration": 8,
    "start_time": "2022-05-26T07:14:11.452Z"
   },
   {
    "duration": 31,
    "start_time": "2022-05-26T07:14:11.503Z"
   },
   {
    "duration": 40,
    "start_time": "2022-05-26T07:14:11.535Z"
   },
   {
    "duration": 32,
    "start_time": "2022-05-26T07:14:11.579Z"
   },
   {
    "duration": 7754,
    "start_time": "2022-05-26T07:14:11.617Z"
   },
   {
    "duration": 0,
    "start_time": "2022-05-26T07:14:19.374Z"
   },
   {
    "duration": 0,
    "start_time": "2022-05-26T07:14:19.376Z"
   },
   {
    "duration": 0,
    "start_time": "2022-05-26T07:14:19.377Z"
   },
   {
    "duration": 0,
    "start_time": "2022-05-26T07:14:19.378Z"
   },
   {
    "duration": 0,
    "start_time": "2022-05-26T07:14:19.379Z"
   },
   {
    "duration": 0,
    "start_time": "2022-05-26T07:14:19.380Z"
   },
   {
    "duration": 0,
    "start_time": "2022-05-26T07:14:19.382Z"
   },
   {
    "duration": 0,
    "start_time": "2022-05-26T07:14:19.383Z"
   },
   {
    "duration": 0,
    "start_time": "2022-05-26T07:14:19.384Z"
   },
   {
    "duration": 0,
    "start_time": "2022-05-26T07:14:19.385Z"
   },
   {
    "duration": 0,
    "start_time": "2022-05-26T07:14:19.386Z"
   },
   {
    "duration": 0,
    "start_time": "2022-05-26T07:14:19.388Z"
   },
   {
    "duration": 0,
    "start_time": "2022-05-26T07:14:19.389Z"
   },
   {
    "duration": 0,
    "start_time": "2022-05-26T07:14:19.390Z"
   },
   {
    "duration": 1470,
    "start_time": "2022-05-26T07:15:09.220Z"
   },
   {
    "duration": 75,
    "start_time": "2022-05-26T07:15:10.694Z"
   },
   {
    "duration": 74,
    "start_time": "2022-05-26T07:15:10.771Z"
   },
   {
    "duration": 20,
    "start_time": "2022-05-26T07:15:10.850Z"
   },
   {
    "duration": 64,
    "start_time": "2022-05-26T07:15:10.873Z"
   },
   {
    "duration": 17,
    "start_time": "2022-05-26T07:15:10.944Z"
   },
   {
    "duration": 15,
    "start_time": "2022-05-26T07:15:10.962Z"
   },
   {
    "duration": 849,
    "start_time": "2022-05-26T07:15:10.979Z"
   },
   {
    "duration": 7369,
    "start_time": "2022-05-26T07:15:11.837Z"
   },
   {
    "duration": 18,
    "start_time": "2022-05-26T07:15:19.211Z"
   },
   {
    "duration": 116,
    "start_time": "2022-05-26T07:15:19.235Z"
   },
   {
    "duration": 31,
    "start_time": "2022-05-26T07:15:19.353Z"
   },
   {
    "duration": 95,
    "start_time": "2022-05-26T07:15:19.387Z"
   },
   {
    "duration": 410818,
    "start_time": "2022-05-26T07:15:19.510Z"
   },
   {
    "duration": 579238,
    "start_time": "2022-05-26T07:22:10.329Z"
   },
   {
    "duration": 17,
    "start_time": "2022-05-26T07:31:49.569Z"
   },
   {
    "duration": 20,
    "start_time": "2022-05-26T07:31:49.587Z"
   },
   {
    "duration": 3945,
    "start_time": "2022-05-26T07:31:49.610Z"
   },
   {
    "duration": 3293,
    "start_time": "2022-05-26T07:31:53.558Z"
   },
   {
    "duration": 6,
    "start_time": "2022-05-26T07:31:56.853Z"
   },
   {
    "duration": 9,
    "start_time": "2022-05-26T07:31:56.860Z"
   },
   {
    "duration": 43548,
    "start_time": "2022-05-26T07:31:56.871Z"
   },
   {
    "duration": 262,
    "start_time": "2022-05-26T07:32:40.425Z"
   },
   {
    "duration": 378172,
    "start_time": "2022-05-26T07:32:40.689Z"
   },
   {
    "duration": 148,
    "start_time": "2022-05-26T07:38:58.863Z"
   },
   {
    "duration": 2119,
    "start_time": "2022-05-27T05:18:43.735Z"
   },
   {
    "duration": 141,
    "start_time": "2022-05-27T05:18:45.856Z"
   },
   {
    "duration": 60,
    "start_time": "2022-05-27T05:18:45.999Z"
   },
   {
    "duration": 34,
    "start_time": "2022-05-27T05:18:46.062Z"
   },
   {
    "duration": 22,
    "start_time": "2022-05-27T05:18:46.098Z"
   },
   {
    "duration": 8,
    "start_time": "2022-05-27T05:18:46.122Z"
   },
   {
    "duration": 10,
    "start_time": "2022-05-27T05:18:46.132Z"
   },
   {
    "duration": 845,
    "start_time": "2022-05-27T05:18:46.144Z"
   },
   {
    "duration": 3210,
    "start_time": "2022-05-27T05:18:46.991Z"
   },
   {
    "duration": 6,
    "start_time": "2022-05-27T05:24:28.824Z"
   },
   {
    "duration": 6,
    "start_time": "2022-05-27T05:24:57.645Z"
   },
   {
    "duration": 5,
    "start_time": "2022-05-27T05:25:11.342Z"
   },
   {
    "duration": 36,
    "start_time": "2022-05-27T05:25:30.535Z"
   },
   {
    "duration": 796,
    "start_time": "2022-05-27T05:26:16.662Z"
   },
   {
    "duration": 7,
    "start_time": "2022-05-27T05:26:58.252Z"
   },
   {
    "duration": 654,
    "start_time": "2022-05-27T05:28:13.661Z"
   },
   {
    "duration": 198,
    "start_time": "2022-05-27T05:29:02.981Z"
   },
   {
    "duration": 466,
    "start_time": "2022-05-27T05:29:49.469Z"
   },
   {
    "duration": 292,
    "start_time": "2022-05-27T05:30:37.405Z"
   },
   {
    "duration": 238,
    "start_time": "2022-05-27T05:32:20.787Z"
   },
   {
    "duration": 29,
    "start_time": "2022-05-27T05:32:56.252Z"
   },
   {
    "duration": 212,
    "start_time": "2022-05-27T05:33:00.827Z"
   },
   {
    "duration": 728,
    "start_time": "2022-05-27T05:33:21.611Z"
   },
   {
    "duration": 4,
    "start_time": "2022-05-27T05:43:27.451Z"
   },
   {
    "duration": 4,
    "start_time": "2022-05-27T05:43:30.658Z"
   },
   {
    "duration": 17,
    "start_time": "2022-05-27T05:43:33.331Z"
   },
   {
    "duration": 22,
    "start_time": "2022-05-27T05:43:47.994Z"
   },
   {
    "duration": 9,
    "start_time": "2022-05-27T05:44:02.217Z"
   },
   {
    "duration": 26,
    "start_time": "2022-05-27T05:44:54.504Z"
   },
   {
    "duration": 19,
    "start_time": "2022-05-27T05:44:59.593Z"
   },
   {
    "duration": 6,
    "start_time": "2022-05-27T05:48:18.640Z"
   },
   {
    "duration": 47,
    "start_time": "2022-05-27T05:48:18.647Z"
   },
   {
    "duration": 40,
    "start_time": "2022-05-27T05:48:18.696Z"
   },
   {
    "duration": 10,
    "start_time": "2022-05-27T05:48:18.738Z"
   },
   {
    "duration": 16,
    "start_time": "2022-05-27T05:48:18.750Z"
   },
   {
    "duration": 29,
    "start_time": "2022-05-27T05:48:18.768Z"
   },
   {
    "duration": 8,
    "start_time": "2022-05-27T05:48:18.799Z"
   },
   {
    "duration": 7,
    "start_time": "2022-05-27T05:48:18.809Z"
   },
   {
    "duration": 784,
    "start_time": "2022-05-27T05:48:18.818Z"
   },
   {
    "duration": 1495,
    "start_time": "2022-05-27T05:48:19.603Z"
   },
   {
    "duration": 93,
    "start_time": "2022-05-27T05:48:21.102Z"
   },
   {
    "duration": 4,
    "start_time": "2022-05-27T05:48:25.086Z"
   },
   {
    "duration": 25,
    "start_time": "2022-05-27T05:48:32.397Z"
   },
   {
    "duration": 8,
    "start_time": "2022-05-27T05:48:39.229Z"
   },
   {
    "duration": 12,
    "start_time": "2022-05-27T05:49:27.412Z"
   },
   {
    "duration": 50,
    "start_time": "2022-05-27T05:49:46.948Z"
   },
   {
    "duration": 6,
    "start_time": "2022-05-27T05:57:06.764Z"
   },
   {
    "duration": 51,
    "start_time": "2022-05-27T05:57:06.772Z"
   },
   {
    "duration": 42,
    "start_time": "2022-05-27T05:57:06.825Z"
   },
   {
    "duration": 10,
    "start_time": "2022-05-27T05:57:06.868Z"
   },
   {
    "duration": 16,
    "start_time": "2022-05-27T05:57:06.895Z"
   },
   {
    "duration": 14,
    "start_time": "2022-05-27T05:57:06.913Z"
   },
   {
    "duration": 9,
    "start_time": "2022-05-27T05:57:06.928Z"
   },
   {
    "duration": 18,
    "start_time": "2022-05-27T05:57:06.938Z"
   },
   {
    "duration": 706,
    "start_time": "2022-05-27T05:57:06.958Z"
   },
   {
    "duration": 1531,
    "start_time": "2022-05-27T05:57:07.665Z"
   },
   {
    "duration": 5,
    "start_time": "2022-05-27T05:57:09.199Z"
   },
   {
    "duration": 4,
    "start_time": "2022-05-27T05:57:09.295Z"
   },
   {
    "duration": 38,
    "start_time": "2022-05-27T05:57:09.301Z"
   },
   {
    "duration": 8,
    "start_time": "2022-05-27T05:57:09.343Z"
   },
   {
    "duration": 14,
    "start_time": "2022-05-27T05:57:09.353Z"
   },
   {
    "duration": 33,
    "start_time": "2022-05-27T05:57:09.369Z"
   },
   {
    "duration": 62353,
    "start_time": "2022-05-27T05:57:19.294Z"
   },
   {
    "duration": 461430,
    "start_time": "2022-05-27T06:02:58.909Z"
   },
   {
    "duration": 4,
    "start_time": "2022-05-27T06:33:54.317Z"
   },
   {
    "duration": 4,
    "start_time": "2022-05-27T06:34:06.187Z"
   },
   {
    "duration": 26,
    "start_time": "2022-05-27T06:34:08.587Z"
   },
   {
    "duration": 19,
    "start_time": "2022-05-27T06:34:28.773Z"
   },
   {
    "duration": 549,
    "start_time": "2022-05-27T06:35:12.973Z"
   },
   {
    "duration": 606,
    "start_time": "2022-05-27T06:35:24.972Z"
   },
   {
    "duration": 31,
    "start_time": "2022-05-27T06:35:55.595Z"
   },
   {
    "duration": 5,
    "start_time": "2022-05-27T06:36:52.000Z"
   },
   {
    "duration": 44,
    "start_time": "2022-05-27T06:36:52.006Z"
   },
   {
    "duration": 36,
    "start_time": "2022-05-27T06:36:52.051Z"
   },
   {
    "duration": 9,
    "start_time": "2022-05-27T06:36:52.089Z"
   },
   {
    "duration": 31,
    "start_time": "2022-05-27T06:36:52.100Z"
   },
   {
    "duration": 4,
    "start_time": "2022-05-27T06:36:52.133Z"
   },
   {
    "duration": 15,
    "start_time": "2022-05-27T06:36:52.138Z"
   },
   {
    "duration": 7,
    "start_time": "2022-05-27T06:36:52.155Z"
   },
   {
    "duration": 667,
    "start_time": "2022-05-27T06:36:52.164Z"
   },
   {
    "duration": 1571,
    "start_time": "2022-05-27T06:36:52.832Z"
   },
   {
    "duration": 5,
    "start_time": "2022-05-27T06:36:54.496Z"
   },
   {
    "duration": 96,
    "start_time": "2022-05-27T06:36:54.505Z"
   },
   {
    "duration": 29,
    "start_time": "2022-05-27T06:36:54.603Z"
   },
   {
    "duration": 9,
    "start_time": "2022-05-27T06:36:54.633Z"
   },
   {
    "duration": 53,
    "start_time": "2022-05-27T06:36:54.643Z"
   },
   {
    "duration": 571,
    "start_time": "2022-05-27T06:37:03.471Z"
   },
   {
    "duration": 31,
    "start_time": "2022-05-27T06:37:39.567Z"
   },
   {
    "duration": 5,
    "start_time": "2022-05-27T06:39:29.480Z"
   },
   {
    "duration": 49,
    "start_time": "2022-05-27T06:39:29.487Z"
   },
   {
    "duration": 37,
    "start_time": "2022-05-27T06:39:29.537Z"
   },
   {
    "duration": 9,
    "start_time": "2022-05-27T06:39:29.576Z"
   },
   {
    "duration": 17,
    "start_time": "2022-05-27T06:39:29.586Z"
   },
   {
    "duration": 4,
    "start_time": "2022-05-27T06:39:29.605Z"
   },
   {
    "duration": 11,
    "start_time": "2022-05-27T06:39:29.610Z"
   },
   {
    "duration": 7,
    "start_time": "2022-05-27T06:39:29.622Z"
   },
   {
    "duration": 810,
    "start_time": "2022-05-27T06:39:29.630Z"
   },
   {
    "duration": 1955,
    "start_time": "2022-05-27T06:39:30.442Z"
   },
   {
    "duration": 92,
    "start_time": "2022-05-27T06:39:32.403Z"
   },
   {
    "duration": 10,
    "start_time": "2022-05-27T06:39:32.497Z"
   },
   {
    "duration": 15,
    "start_time": "2022-05-27T06:39:32.508Z"
   },
   {
    "duration": 0,
    "start_time": "2022-05-27T06:39:32.536Z"
   },
   {
    "duration": 0,
    "start_time": "2022-05-27T06:39:32.536Z"
   },
   {
    "duration": 5,
    "start_time": "2022-05-27T06:41:20.509Z"
   },
   {
    "duration": 47,
    "start_time": "2022-05-27T06:41:20.516Z"
   },
   {
    "duration": 37,
    "start_time": "2022-05-27T06:41:20.564Z"
   },
   {
    "duration": 9,
    "start_time": "2022-05-27T06:41:20.603Z"
   },
   {
    "duration": 18,
    "start_time": "2022-05-27T06:41:20.613Z"
   },
   {
    "duration": 4,
    "start_time": "2022-05-27T06:41:20.632Z"
   },
   {
    "duration": 8,
    "start_time": "2022-05-27T06:41:20.637Z"
   },
   {
    "duration": 9,
    "start_time": "2022-05-27T06:41:20.646Z"
   },
   {
    "duration": 657,
    "start_time": "2022-05-27T06:41:20.656Z"
   },
   {
    "duration": 1482,
    "start_time": "2022-05-27T06:41:21.314Z"
   },
   {
    "duration": 93,
    "start_time": "2022-05-27T06:41:22.802Z"
   },
   {
    "duration": 7,
    "start_time": "2022-05-27T06:41:22.897Z"
   },
   {
    "duration": 28,
    "start_time": "2022-05-27T06:41:22.905Z"
   },
   {
    "duration": 9,
    "start_time": "2022-05-27T06:41:22.935Z"
   },
   {
    "duration": 51,
    "start_time": "2022-05-27T06:41:22.945Z"
   },
   {
    "duration": 559,
    "start_time": "2022-05-27T06:41:39.455Z"
   },
   {
    "duration": 29,
    "start_time": "2022-05-27T06:41:42.087Z"
   },
   {
    "duration": 530,
    "start_time": "2022-05-27T06:41:52.974Z"
   },
   {
    "duration": 29,
    "start_time": "2022-05-27T06:41:54.767Z"
   },
   {
    "duration": 4,
    "start_time": "2022-05-27T06:52:06.092Z"
   },
   {
    "duration": 6,
    "start_time": "2022-05-27T06:52:14.025Z"
   },
   {
    "duration": 52,
    "start_time": "2022-05-27T06:52:14.032Z"
   },
   {
    "duration": 37,
    "start_time": "2022-05-27T06:52:14.086Z"
   },
   {
    "duration": 9,
    "start_time": "2022-05-27T06:52:14.125Z"
   },
   {
    "duration": 17,
    "start_time": "2022-05-27T06:52:14.135Z"
   },
   {
    "duration": 3,
    "start_time": "2022-05-27T06:52:14.154Z"
   },
   {
    "duration": 9,
    "start_time": "2022-05-27T06:52:14.158Z"
   },
   {
    "duration": 33,
    "start_time": "2022-05-27T06:52:14.169Z"
   },
   {
    "duration": 678,
    "start_time": "2022-05-27T06:52:14.204Z"
   },
   {
    "duration": 1513,
    "start_time": "2022-05-27T06:52:14.883Z"
   },
   {
    "duration": 6,
    "start_time": "2022-05-27T06:52:16.399Z"
   },
   {
    "duration": 10,
    "start_time": "2022-05-27T06:52:16.494Z"
   },
   {
    "duration": 29,
    "start_time": "2022-05-27T06:52:16.506Z"
   },
   {
    "duration": 6,
    "start_time": "2022-05-27T06:52:16.537Z"
   },
   {
    "duration": 64,
    "start_time": "2022-05-27T06:52:16.544Z"
   },
   {
    "duration": 0,
    "start_time": "2022-05-27T06:52:16.609Z"
   },
   {
    "duration": 5,
    "start_time": "2022-05-27T06:53:44.700Z"
   },
   {
    "duration": 53,
    "start_time": "2022-05-27T06:53:44.707Z"
   },
   {
    "duration": 39,
    "start_time": "2022-05-27T06:53:44.762Z"
   },
   {
    "duration": 10,
    "start_time": "2022-05-27T06:53:44.803Z"
   },
   {
    "duration": 13,
    "start_time": "2022-05-27T06:53:44.814Z"
   },
   {
    "duration": 4,
    "start_time": "2022-05-27T06:53:44.828Z"
   },
   {
    "duration": 6,
    "start_time": "2022-05-27T06:53:44.833Z"
   },
   {
    "duration": 7,
    "start_time": "2022-05-27T06:53:44.840Z"
   },
   {
    "duration": 855,
    "start_time": "2022-05-27T06:53:44.848Z"
   },
   {
    "duration": 1591,
    "start_time": "2022-05-27T06:53:45.705Z"
   },
   {
    "duration": 6,
    "start_time": "2022-05-27T06:53:47.298Z"
   },
   {
    "duration": 7,
    "start_time": "2022-05-27T06:53:47.396Z"
   },
   {
    "duration": 16,
    "start_time": "2022-05-27T06:53:47.405Z"
   },
   {
    "duration": 10,
    "start_time": "2022-05-27T06:53:47.422Z"
   },
   {
    "duration": 65,
    "start_time": "2022-05-27T06:53:47.434Z"
   },
   {
    "duration": 1198,
    "start_time": "2022-05-27T06:53:47.501Z"
   },
   {
    "duration": 8,
    "start_time": "2022-05-27T06:53:50.909Z"
   },
   {
    "duration": 6,
    "start_time": "2022-05-27T06:54:34.659Z"
   },
   {
    "duration": 50,
    "start_time": "2022-05-27T06:54:34.666Z"
   },
   {
    "duration": 37,
    "start_time": "2022-05-27T06:54:34.717Z"
   },
   {
    "duration": 10,
    "start_time": "2022-05-27T06:54:34.755Z"
   },
   {
    "duration": 36,
    "start_time": "2022-05-27T06:54:34.768Z"
   },
   {
    "duration": 4,
    "start_time": "2022-05-27T06:54:34.806Z"
   },
   {
    "duration": 11,
    "start_time": "2022-05-27T06:54:34.812Z"
   },
   {
    "duration": 25,
    "start_time": "2022-05-27T06:54:34.825Z"
   },
   {
    "duration": 696,
    "start_time": "2022-05-27T06:54:34.852Z"
   },
   {
    "duration": 1351,
    "start_time": "2022-05-27T06:54:35.550Z"
   },
   {
    "duration": 96,
    "start_time": "2022-05-27T06:54:36.904Z"
   },
   {
    "duration": 8,
    "start_time": "2022-05-27T06:54:37.094Z"
   },
   {
    "duration": 17,
    "start_time": "2022-05-27T06:54:37.104Z"
   },
   {
    "duration": 83,
    "start_time": "2022-05-27T06:54:37.123Z"
   },
   {
    "duration": 17,
    "start_time": "2022-05-27T06:55:28.412Z"
   },
   {
    "duration": 27512,
    "start_time": "2022-05-27T06:58:49.684Z"
   },
   {
    "duration": 27838,
    "start_time": "2022-05-27T07:00:58.162Z"
   },
   {
    "duration": 40377,
    "start_time": "2022-05-27T07:01:59.618Z"
   },
   {
    "duration": 57126,
    "start_time": "2022-05-27T07:05:01.171Z"
   },
   {
    "duration": 39,
    "start_time": "2022-05-27T07:17:54.724Z"
   },
   {
    "duration": 32084,
    "start_time": "2022-05-27T07:24:16.215Z"
   },
   {
    "duration": 42,
    "start_time": "2022-05-27T07:25:35.761Z"
   },
   {
    "duration": 4,
    "start_time": "2022-05-27T07:25:46.200Z"
   },
   {
    "duration": 31799,
    "start_time": "2022-05-27T07:26:06.304Z"
   },
   {
    "duration": 31286,
    "start_time": "2022-05-27T07:26:56.017Z"
   },
   {
    "duration": 32002,
    "start_time": "2022-05-27T07:35:58.099Z"
   },
   {
    "duration": 3,
    "start_time": "2022-05-27T07:36:57.123Z"
   },
   {
    "duration": 9,
    "start_time": "2022-05-27T07:37:12.475Z"
   },
   {
    "duration": 4,
    "start_time": "2022-05-27T07:37:34.411Z"
   },
   {
    "duration": 3,
    "start_time": "2022-05-27T07:37:56.170Z"
   },
   {
    "duration": 6421,
    "start_time": "2022-05-27T07:38:30.794Z"
   },
   {
    "duration": 33321,
    "start_time": "2022-05-27T07:38:38.676Z"
   },
   {
    "duration": 31013,
    "start_time": "2022-05-27T07:39:48.386Z"
   },
   {
    "duration": 28517,
    "start_time": "2022-05-27T07:40:39.777Z"
   },
   {
    "duration": 43543,
    "start_time": "2022-05-27T07:41:09.858Z"
   },
   {
    "duration": 42645,
    "start_time": "2022-05-27T07:42:43.354Z"
   },
   {
    "duration": 43458,
    "start_time": "2022-05-27T07:47:02.346Z"
   },
   {
    "duration": 5,
    "start_time": "2022-05-27T07:57:45.665Z"
   },
   {
    "duration": 44,
    "start_time": "2022-05-27T07:57:45.671Z"
   },
   {
    "duration": 41,
    "start_time": "2022-05-27T07:57:45.717Z"
   },
   {
    "duration": 10,
    "start_time": "2022-05-27T07:57:45.759Z"
   },
   {
    "duration": 30,
    "start_time": "2022-05-27T07:57:45.771Z"
   },
   {
    "duration": 5,
    "start_time": "2022-05-27T07:57:45.802Z"
   },
   {
    "duration": 7,
    "start_time": "2022-05-27T07:57:45.809Z"
   },
   {
    "duration": 7,
    "start_time": "2022-05-27T07:57:45.817Z"
   },
   {
    "duration": 696,
    "start_time": "2022-05-27T07:57:45.826Z"
   },
   {
    "duration": 1480,
    "start_time": "2022-05-27T07:57:46.524Z"
   },
   {
    "duration": 7,
    "start_time": "2022-05-27T07:57:48.097Z"
   },
   {
    "duration": 96,
    "start_time": "2022-05-27T07:57:48.105Z"
   },
   {
    "duration": 21,
    "start_time": "2022-05-27T07:57:48.203Z"
   },
   {
    "duration": 76,
    "start_time": "2022-05-27T07:57:48.225Z"
   },
   {
    "duration": 40092,
    "start_time": "2022-05-27T07:57:48.303Z"
   },
   {
    "duration": 28,
    "start_time": "2022-05-27T07:58:37.938Z"
   },
   {
    "duration": 5,
    "start_time": "2022-05-27T08:05:46.552Z"
   },
   {
    "duration": 52,
    "start_time": "2022-05-27T08:05:46.558Z"
   },
   {
    "duration": 38,
    "start_time": "2022-05-27T08:05:46.612Z"
   },
   {
    "duration": 9,
    "start_time": "2022-05-27T08:05:46.652Z"
   },
   {
    "duration": 38,
    "start_time": "2022-05-27T08:05:46.663Z"
   },
   {
    "duration": 4,
    "start_time": "2022-05-27T08:05:46.702Z"
   },
   {
    "duration": 7,
    "start_time": "2022-05-27T08:05:46.707Z"
   },
   {
    "duration": 9,
    "start_time": "2022-05-27T08:05:46.716Z"
   },
   {
    "duration": 843,
    "start_time": "2022-05-27T08:05:46.727Z"
   },
   {
    "duration": 1329,
    "start_time": "2022-05-27T08:05:47.571Z"
   },
   {
    "duration": 94,
    "start_time": "2022-05-27T08:05:48.902Z"
   },
   {
    "duration": 98,
    "start_time": "2022-05-27T08:05:49.001Z"
   },
   {
    "duration": 29,
    "start_time": "2022-05-27T08:05:49.101Z"
   },
   {
    "duration": 64,
    "start_time": "2022-05-27T08:05:49.132Z"
   },
   {
    "duration": 125,
    "start_time": "2022-05-27T08:05:49.198Z"
   },
   {
    "duration": 32107,
    "start_time": "2022-05-27T08:06:22.589Z"
   },
   {
    "duration": 13,
    "start_time": "2022-05-27T08:08:51.158Z"
   },
   {
    "duration": 14,
    "start_time": "2022-05-27T08:09:03.404Z"
   },
   {
    "duration": 19,
    "start_time": "2022-05-27T08:09:40.068Z"
   },
   {
    "duration": 29155,
    "start_time": "2022-05-27T08:10:09.140Z"
   },
   {
    "duration": 42671,
    "start_time": "2022-05-27T08:13:12.626Z"
   },
   {
    "duration": 42484,
    "start_time": "2022-05-27T08:14:43.018Z"
   },
   {
    "duration": 17,
    "start_time": "2022-05-27T08:15:41.065Z"
   },
   {
    "duration": 31,
    "start_time": "2022-05-27T08:16:10.921Z"
   },
   {
    "duration": 132441,
    "start_time": "2022-05-27T08:16:20.017Z"
   },
   {
    "duration": 724248,
    "start_time": "2022-05-27T08:19:34.016Z"
   },
   {
    "duration": 5,
    "start_time": "2022-05-27T08:31:48.035Z"
   },
   {
    "duration": 43,
    "start_time": "2022-05-27T08:31:48.042Z"
   },
   {
    "duration": 41,
    "start_time": "2022-05-27T08:31:48.086Z"
   },
   {
    "duration": 15,
    "start_time": "2022-05-27T08:31:48.129Z"
   },
   {
    "duration": 14,
    "start_time": "2022-05-27T08:31:48.146Z"
   },
   {
    "duration": 4,
    "start_time": "2022-05-27T08:31:48.161Z"
   },
   {
    "duration": 32,
    "start_time": "2022-05-27T08:31:48.167Z"
   },
   {
    "duration": 15,
    "start_time": "2022-05-27T08:31:48.201Z"
   },
   {
    "duration": 677,
    "start_time": "2022-05-27T08:31:48.218Z"
   },
   {
    "duration": 1701,
    "start_time": "2022-05-27T08:31:48.896Z"
   },
   {
    "duration": 90,
    "start_time": "2022-05-27T08:31:50.605Z"
   },
   {
    "duration": 6,
    "start_time": "2022-05-27T08:31:50.697Z"
   },
   {
    "duration": 18,
    "start_time": "2022-05-27T08:31:50.705Z"
   },
   {
    "duration": 79,
    "start_time": "2022-05-27T08:31:50.725Z"
   },
   {
    "duration": 64,
    "start_time": "2022-05-27T08:31:52.915Z"
   },
   {
    "duration": 4,
    "start_time": "2022-05-27T08:31:58.482Z"
   },
   {
    "duration": 28874,
    "start_time": "2022-05-27T08:32:00.825Z"
   },
   {
    "duration": 11,
    "start_time": "2022-05-27T08:32:53.161Z"
   },
   {
    "duration": 11,
    "start_time": "2022-05-27T08:33:12.202Z"
   },
   {
    "duration": 28159,
    "start_time": "2022-05-27T08:33:48.338Z"
   },
   {
    "duration": 5,
    "start_time": "2022-05-27T08:34:25.225Z"
   },
   {
    "duration": 40439,
    "start_time": "2022-05-27T08:34:26.363Z"
   },
   {
    "duration": 882970,
    "start_time": "2022-05-27T08:35:59.475Z"
   },
   {
    "duration": 791464,
    "start_time": "2022-05-27T08:54:08.977Z"
   },
   {
    "duration": 670477,
    "start_time": "2022-05-27T09:48:46.247Z"
   },
   {
    "duration": 94,
    "start_time": "2022-05-27T10:00:41.401Z"
   },
   {
    "duration": 49,
    "start_time": "2022-05-27T10:00:41.497Z"
   },
   {
    "duration": 36,
    "start_time": "2022-05-27T10:00:41.548Z"
   },
   {
    "duration": 11,
    "start_time": "2022-05-27T10:00:41.585Z"
   },
   {
    "duration": 17,
    "start_time": "2022-05-27T10:00:41.597Z"
   },
   {
    "duration": 3,
    "start_time": "2022-05-27T10:00:41.616Z"
   },
   {
    "duration": 7,
    "start_time": "2022-05-27T10:00:41.621Z"
   },
   {
    "duration": 8,
    "start_time": "2022-05-27T10:00:41.629Z"
   },
   {
    "duration": 683,
    "start_time": "2022-05-27T10:00:41.639Z"
   },
   {
    "duration": 1675,
    "start_time": "2022-05-27T10:00:42.324Z"
   },
   {
    "duration": 95,
    "start_time": "2022-05-27T10:00:44.001Z"
   },
   {
    "duration": 10,
    "start_time": "2022-05-27T10:00:44.098Z"
   },
   {
    "duration": 10,
    "start_time": "2022-05-27T10:00:44.111Z"
   },
   {
    "duration": 41475,
    "start_time": "2022-05-27T10:00:44.122Z"
   },
   {
    "duration": 4,
    "start_time": "2022-05-27T10:02:40.239Z"
   },
   {
    "duration": 48,
    "start_time": "2022-05-27T10:02:40.245Z"
   },
   {
    "duration": 41,
    "start_time": "2022-05-27T10:02:40.295Z"
   },
   {
    "duration": 10,
    "start_time": "2022-05-27T10:02:40.337Z"
   },
   {
    "duration": 13,
    "start_time": "2022-05-27T10:02:40.350Z"
   },
   {
    "duration": 4,
    "start_time": "2022-05-27T10:02:40.395Z"
   },
   {
    "duration": 9,
    "start_time": "2022-05-27T10:02:40.401Z"
   },
   {
    "duration": 8,
    "start_time": "2022-05-27T10:02:40.411Z"
   },
   {
    "duration": 685,
    "start_time": "2022-05-27T10:02:40.421Z"
   },
   {
    "duration": 1489,
    "start_time": "2022-05-27T10:02:41.107Z"
   },
   {
    "duration": 97,
    "start_time": "2022-05-27T10:02:42.598Z"
   },
   {
    "duration": 5,
    "start_time": "2022-05-27T10:02:42.697Z"
   },
   {
    "duration": 5,
    "start_time": "2022-05-27T10:02:42.704Z"
   },
   {
    "duration": 40830,
    "start_time": "2022-05-27T10:02:49.969Z"
   },
   {
    "duration": 101,
    "start_time": "2022-05-27T10:03:59.898Z"
   },
   {
    "duration": 5,
    "start_time": "2022-05-27T10:08:50.442Z"
   },
   {
    "duration": 93,
    "start_time": "2022-05-27T10:08:51.712Z"
   },
   {
    "duration": 8,
    "start_time": "2022-05-27T10:09:09.190Z"
   },
   {
    "duration": 3,
    "start_time": "2022-05-27T10:09:53.034Z"
   },
   {
    "duration": 14,
    "start_time": "2022-05-27T10:09:59.468Z"
   },
   {
    "duration": 4,
    "start_time": "2022-05-27T10:10:18.089Z"
   },
   {
    "duration": 198,
    "start_time": "2022-05-27T10:10:19.000Z"
   },
   {
    "duration": 653154,
    "start_time": "2022-05-27T10:10:46.933Z"
   },
   {
    "duration": 212837,
    "start_time": "2022-05-27T10:22:19.346Z"
   },
   {
    "duration": 8,
    "start_time": "2022-05-27T10:27:02.167Z"
   },
   {
    "duration": 1463960,
    "start_time": "2022-05-27T10:27:31.437Z"
   },
   {
    "duration": 902824,
    "start_time": "2022-05-27T10:52:51.680Z"
   },
   {
    "duration": 9,
    "start_time": "2022-05-27T11:09:05.943Z"
   },
   {
    "duration": 26,
    "start_time": "2022-05-27T11:09:36.445Z"
   },
   {
    "duration": 14,
    "start_time": "2022-05-27T11:09:41.265Z"
   },
   {
    "duration": 179,
    "start_time": "2022-05-27T11:09:47.723Z"
   },
   {
    "duration": 9,
    "start_time": "2022-05-27T11:11:00.158Z"
   },
   {
    "duration": 29,
    "start_time": "2022-05-27T11:11:31.082Z"
   },
   {
    "duration": 124,
    "start_time": "2022-05-27T11:11:32.971Z"
   },
   {
    "duration": 23,
    "start_time": "2022-05-27T11:12:05.507Z"
   },
   {
    "duration": 18,
    "start_time": "2022-05-27T11:12:15.707Z"
   },
   {
    "duration": 57,
    "start_time": "2022-05-27T11:14:48.609Z"
   },
   {
    "duration": 33,
    "start_time": "2022-05-27T11:14:53.968Z"
   },
   {
    "duration": 29,
    "start_time": "2022-05-27T11:15:19.760Z"
   },
   {
    "duration": 6,
    "start_time": "2022-05-27T11:15:33.258Z"
   },
   {
    "duration": 27,
    "start_time": "2022-05-27T11:15:54.658Z"
   },
   {
    "duration": 4,
    "start_time": "2022-05-27T11:16:22.559Z"
   },
   {
    "duration": 57,
    "start_time": "2022-05-27T11:16:24.538Z"
   },
   {
    "duration": 6,
    "start_time": "2022-05-27T11:16:27.111Z"
   },
   {
    "duration": 9,
    "start_time": "2022-05-27T11:16:43.664Z"
   },
   {
    "duration": 59,
    "start_time": "2022-05-27T11:17:12.361Z"
   },
   {
    "duration": 31,
    "start_time": "2022-05-27T11:17:17.592Z"
   },
   {
    "duration": 33,
    "start_time": "2022-05-27T11:20:21.072Z"
   },
   {
    "duration": 4,
    "start_time": "2022-05-27T11:20:24.918Z"
   },
   {
    "duration": 33,
    "start_time": "2022-05-27T11:20:26.838Z"
   },
   {
    "duration": 33,
    "start_time": "2022-05-27T11:20:46.273Z"
   },
   {
    "duration": 31,
    "start_time": "2022-05-27T11:20:53.070Z"
   },
   {
    "duration": 36,
    "start_time": "2022-05-27T11:21:15.423Z"
   },
   {
    "duration": 29,
    "start_time": "2022-05-27T11:21:16.564Z"
   },
   {
    "duration": 6,
    "start_time": "2022-05-27T11:21:25.495Z"
   },
   {
    "duration": 21,
    "start_time": "2022-05-27T11:21:30.526Z"
   },
   {
    "duration": 160,
    "start_time": "2022-05-27T11:21:55.361Z"
   },
   {
    "duration": 10,
    "start_time": "2022-05-27T11:22:16.265Z"
   },
   {
    "duration": 9,
    "start_time": "2022-05-27T11:22:22.840Z"
   },
   {
    "duration": 10,
    "start_time": "2022-05-27T11:22:39.958Z"
   },
   {
    "duration": 10,
    "start_time": "2022-05-27T11:22:42.958Z"
   },
   {
    "duration": 9,
    "start_time": "2022-05-27T11:22:51.678Z"
   },
   {
    "duration": 398,
    "start_time": "2022-05-27T11:22:59.286Z"
   },
   {
    "duration": 244,
    "start_time": "2022-05-27T11:23:38.766Z"
   },
   {
    "duration": 150,
    "start_time": "2022-05-27T11:24:14.172Z"
   },
   {
    "duration": 146,
    "start_time": "2022-05-27T11:24:36.246Z"
   },
   {
    "duration": 161,
    "start_time": "2022-05-27T11:24:44.670Z"
   },
   {
    "duration": 164,
    "start_time": "2022-05-27T11:25:02.342Z"
   },
   {
    "duration": 219,
    "start_time": "2022-05-27T11:25:18.070Z"
   },
   {
    "duration": 216,
    "start_time": "2022-05-27T11:25:31.045Z"
   },
   {
    "duration": 214,
    "start_time": "2022-05-27T11:25:51.438Z"
   },
   {
    "duration": 502,
    "start_time": "2022-05-27T11:26:55.239Z"
   },
   {
    "duration": 429,
    "start_time": "2022-05-27T11:29:29.232Z"
   },
   {
    "duration": 398,
    "start_time": "2022-05-27T11:29:35.708Z"
   },
   {
    "duration": 415,
    "start_time": "2022-05-27T11:29:41.339Z"
   },
   {
    "duration": 148,
    "start_time": "2022-05-27T11:34:03.164Z"
   },
   {
    "duration": 8,
    "start_time": "2022-05-27T11:34:27.388Z"
   },
   {
    "duration": 34,
    "start_time": "2022-05-27T11:36:47.995Z"
   },
   {
    "duration": 27,
    "start_time": "2022-05-27T11:37:06.139Z"
   },
   {
    "duration": 41,
    "start_time": "2022-05-27T11:37:18.578Z"
   },
   {
    "duration": 15,
    "start_time": "2022-05-27T11:38:31.475Z"
   },
   {
    "duration": 3,
    "start_time": "2022-05-27T11:45:50.599Z"
   },
   {
    "duration": 3,
    "start_time": "2022-05-27T11:45:56.102Z"
   },
   {
    "duration": 28,
    "start_time": "2022-05-27T11:46:01.037Z"
   },
   {
    "duration": 10,
    "start_time": "2022-05-27T11:46:20.243Z"
   },
   {
    "duration": 26,
    "start_time": "2022-05-27T11:46:26.487Z"
   },
   {
    "duration": 8,
    "start_time": "2022-05-27T11:46:47.243Z"
   },
   {
    "duration": 38,
    "start_time": "2022-05-27T11:49:22.243Z"
   },
   {
    "duration": 15,
    "start_time": "2022-05-27T11:49:28.088Z"
   },
   {
    "duration": 4,
    "start_time": "2022-05-27T11:49:42.199Z"
   },
   {
    "duration": 33,
    "start_time": "2022-05-27T11:49:43.965Z"
   },
   {
    "duration": 29,
    "start_time": "2022-05-27T11:49:45.752Z"
   },
   {
    "duration": 149,
    "start_time": "2022-05-27T11:49:46.846Z"
   },
   {
    "duration": 11,
    "start_time": "2022-05-27T11:49:52.550Z"
   },
   {
    "duration": 193,
    "start_time": "2022-05-27T11:50:01.085Z"
   },
   {
    "duration": 229,
    "start_time": "2022-05-27T11:50:12.981Z"
   },
   {
    "duration": 201,
    "start_time": "2022-05-27T11:50:22.301Z"
   },
   {
    "duration": 217,
    "start_time": "2022-05-27T11:50:32.896Z"
   },
   {
    "duration": 8,
    "start_time": "2022-05-27T11:51:51.552Z"
   },
   {
    "duration": 36,
    "start_time": "2022-05-27T11:51:57.052Z"
   },
   {
    "duration": 36,
    "start_time": "2022-05-27T11:51:59.858Z"
   },
   {
    "duration": 1874,
    "start_time": "2022-05-27T11:52:48.586Z"
   },
   {
    "duration": 215,
    "start_time": "2022-05-27T11:52:56.820Z"
   },
   {
    "duration": 30,
    "start_time": "2022-05-27T11:54:29.074Z"
   },
   {
    "duration": 29,
    "start_time": "2022-05-27T11:54:31.265Z"
   },
   {
    "duration": 7771,
    "start_time": "2022-05-27T11:54:38.805Z"
   },
   {
    "duration": 222,
    "start_time": "2022-05-27T11:55:09.345Z"
   },
   {
    "duration": 1310,
    "start_time": "2022-05-27T12:04:14.949Z"
   },
   {
    "duration": 44,
    "start_time": "2022-05-27T12:04:16.261Z"
   },
   {
    "duration": 43,
    "start_time": "2022-05-27T12:04:16.306Z"
   },
   {
    "duration": 10,
    "start_time": "2022-05-27T12:04:16.351Z"
   },
   {
    "duration": 40,
    "start_time": "2022-05-27T12:04:16.362Z"
   },
   {
    "duration": 3,
    "start_time": "2022-05-27T12:04:16.404Z"
   },
   {
    "duration": 9,
    "start_time": "2022-05-27T12:04:16.409Z"
   },
   {
    "duration": 15,
    "start_time": "2022-05-27T12:04:16.419Z"
   },
   {
    "duration": 741,
    "start_time": "2022-05-27T12:04:16.436Z"
   },
   {
    "duration": 1820,
    "start_time": "2022-05-27T12:04:17.180Z"
   },
   {
    "duration": 94,
    "start_time": "2022-05-27T12:04:19.003Z"
   },
   {
    "duration": 100,
    "start_time": "2022-05-27T12:04:19.099Z"
   },
   {
    "duration": 8,
    "start_time": "2022-05-27T12:04:19.201Z"
   },
   {
    "duration": 10,
    "start_time": "2022-05-27T12:04:19.210Z"
   },
   {
    "duration": 191,
    "start_time": "2022-05-27T12:04:19.222Z"
   },
   {
    "duration": 0,
    "start_time": "2022-05-27T12:04:19.414Z"
   },
   {
    "duration": 0,
    "start_time": "2022-05-27T12:04:19.416Z"
   },
   {
    "duration": 0,
    "start_time": "2022-05-27T12:04:19.417Z"
   },
   {
    "duration": 0,
    "start_time": "2022-05-27T12:04:19.418Z"
   },
   {
    "duration": 0,
    "start_time": "2022-05-27T12:04:19.419Z"
   },
   {
    "duration": 0,
    "start_time": "2022-05-27T12:04:19.420Z"
   },
   {
    "duration": 0,
    "start_time": "2022-05-27T12:04:19.421Z"
   },
   {
    "duration": 0,
    "start_time": "2022-05-27T12:04:19.422Z"
   },
   {
    "duration": 0,
    "start_time": "2022-05-27T12:04:19.422Z"
   },
   {
    "duration": 0,
    "start_time": "2022-05-27T12:04:19.423Z"
   },
   {
    "duration": 0,
    "start_time": "2022-05-27T12:04:19.424Z"
   },
   {
    "duration": 0,
    "start_time": "2022-05-27T12:04:19.425Z"
   },
   {
    "duration": 0,
    "start_time": "2022-05-27T12:04:19.426Z"
   },
   {
    "duration": 1372,
    "start_time": "2022-05-27T12:04:41.267Z"
   },
   {
    "duration": 43,
    "start_time": "2022-05-27T12:04:42.640Z"
   },
   {
    "duration": 43,
    "start_time": "2022-05-27T12:04:42.685Z"
   },
   {
    "duration": 11,
    "start_time": "2022-05-27T12:04:42.730Z"
   },
   {
    "duration": 29,
    "start_time": "2022-05-27T12:04:42.742Z"
   },
   {
    "duration": 22,
    "start_time": "2022-05-27T12:04:42.773Z"
   },
   {
    "duration": 7,
    "start_time": "2022-05-27T12:04:42.797Z"
   },
   {
    "duration": 12,
    "start_time": "2022-05-27T12:04:42.806Z"
   },
   {
    "duration": 737,
    "start_time": "2022-05-27T12:04:42.820Z"
   },
   {
    "duration": 1744,
    "start_time": "2022-05-27T12:04:43.561Z"
   },
   {
    "duration": 96,
    "start_time": "2022-05-27T12:04:45.399Z"
   },
   {
    "duration": 5,
    "start_time": "2022-05-27T12:04:45.497Z"
   },
   {
    "duration": 9,
    "start_time": "2022-05-27T12:04:45.504Z"
   },
   {
    "duration": 16,
    "start_time": "2022-05-27T12:04:45.515Z"
   },
   {
    "duration": 264,
    "start_time": "2022-05-27T12:04:45.532Z"
   },
   {
    "duration": 4,
    "start_time": "2022-05-27T12:04:45.798Z"
   },
   {
    "duration": 107,
    "start_time": "2022-05-27T12:04:45.803Z"
   },
   {
    "duration": 31,
    "start_time": "2022-05-27T12:04:45.912Z"
   },
   {
    "duration": 251,
    "start_time": "2022-05-27T12:04:45.945Z"
   },
   {
    "duration": 327,
    "start_time": "2022-05-27T12:04:46.198Z"
   },
   {
    "duration": 40,
    "start_time": "2022-05-27T12:04:46.527Z"
   },
   {
    "duration": 49,
    "start_time": "2022-05-27T12:04:46.568Z"
   },
   {
    "duration": 1968,
    "start_time": "2022-05-27T12:04:46.619Z"
   },
   {
    "duration": 228,
    "start_time": "2022-05-27T12:04:48.589Z"
   },
   {
    "duration": 32,
    "start_time": "2022-05-27T12:04:48.819Z"
   },
   {
    "duration": 44,
    "start_time": "2022-05-27T12:04:48.853Z"
   },
   {
    "duration": 7755,
    "start_time": "2022-05-27T12:04:48.898Z"
   },
   {
    "duration": 220,
    "start_time": "2022-05-27T12:04:56.656Z"
   }
  ],
  "kernelspec": {
   "display_name": "Python 3 (ipykernel)",
   "language": "python",
   "name": "python3"
  },
  "language_info": {
   "codemirror_mode": {
    "name": "ipython",
    "version": 3
   },
   "file_extension": ".py",
   "mimetype": "text/x-python",
   "name": "python",
   "nbconvert_exporter": "python",
   "pygments_lexer": "ipython3",
   "version": "3.9.7"
  },
  "toc": {
   "base_numbering": 1,
   "nav_menu": {},
   "number_sections": true,
   "sideBar": true,
   "skip_h1_title": true,
   "title_cell": "Содержание",
   "title_sidebar": "Contents",
   "toc_cell": true,
   "toc_position": {
    "height": "calc(100% - 180px)",
    "left": "10px",
    "top": "150px",
    "width": "366.391px"
   },
   "toc_section_display": true,
   "toc_window_display": true
  }
 },
 "nbformat": 4,
 "nbformat_minor": 2
}
