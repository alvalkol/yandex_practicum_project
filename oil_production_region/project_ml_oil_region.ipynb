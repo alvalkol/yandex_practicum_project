{
 "cells": [
  {
   "cell_type": "markdown",
   "metadata": {},
   "source": [
    "# Выбор локации для скважины"
   ]
  },
  {
   "cell_type": "markdown",
   "metadata": {},
   "source": [
    "Допустим, вы работаете в добывающей компании «ГлавРосГосНефть». Нужно решить, где бурить новую скважину.\n",
    "\n",
    "Вам предоставлены пробы нефти в трёх регионах: в каждом 10 000 месторождений, где измерили качество нефти и объём её запасов. Постройте модель машинного обучения, которая поможет определить регион, где добыча принесёт наибольшую прибыль. Проанализируйте возможную прибыль и риски техникой *Bootstrap.*\n",
    "\n",
    "<b>Шаги для выбора локации:</b>\n",
    "\n",
    "- В избранном регионе ищут месторождения, для каждого определяют значения признаков;\n",
    "- Строят модель и оценивают объём запасов;\n",
    "- Выбирают месторождения с самым высокими оценками значений. Количество месторождений зависит от бюджета компании и стоимости разработки одной скважины;\n",
    "- Прибыль равна суммарной прибыли отобранных месторождений.\n",
    "\n",
    "<b>Описание данных</b>\n",
    "\n",
    "Данные геологоразведки трёх регионов находятся в файлах:\n",
    "\n",
    "id — уникальный идентификатор скважины;\n",
    "\n",
    "f0, f1, f2 — три признака точек (неважно, что они означают, но сами признаки значимы);\n",
    "\n",
    "product — объём запасов в скважине (тыс. баррелей)."
   ]
  },
  {
   "cell_type": "markdown",
   "metadata": {},
   "source": [
    "## Загрузка и подготовка данных"
   ]
  },
  {
   "cell_type": "code",
   "execution_count": 1,
   "metadata": {},
   "outputs": [],
   "source": [
    "import pandas as pd\n",
    "import math as mt\n",
    "import numpy as np\n",
    "from sklearn.model_selection import train_test_split\n",
    "from sklearn.linear_model import LinearRegression\n",
    "from sklearn.metrics import mean_squared_error\n",
    "from sklearn.preprocessing import StandardScaler\n",
    "from sklearn.utils import shuffle\n",
    "import matplotlib.pyplot as plt\n",
    "\n",
    "import warnings\n",
    "warnings.filterwarnings('ignore')"
   ]
  },
  {
   "cell_type": "markdown",
   "metadata": {},
   "source": [
    "### Регион 1"
   ]
  },
  {
   "cell_type": "code",
   "execution_count": 2,
   "metadata": {},
   "outputs": [],
   "source": [
    "def data_view(data):\n",
    "    \n",
    "    \"\"\"\n",
    "    Функция вызвращает данные о таблице\n",
    "    \"\"\"\n",
    "    return display(data.head(), \n",
    "                   data.info(), \n",
    "                   data.describe(), \n",
    "                   data.isna().sum())"
   ]
  },
  {
   "cell_type": "code",
   "execution_count": 3,
   "metadata": {
    "scrolled": false
   },
   "outputs": [
    {
     "name": "stdout",
     "output_type": "stream",
     "text": [
      "<class 'pandas.core.frame.DataFrame'>\n",
      "RangeIndex: 100000 entries, 0 to 99999\n",
      "Data columns (total 5 columns):\n",
      " #   Column   Non-Null Count   Dtype  \n",
      "---  ------   --------------   -----  \n",
      " 0   id       100000 non-null  object \n",
      " 1   f0       100000 non-null  float64\n",
      " 2   f1       100000 non-null  float64\n",
      " 3   f2       100000 non-null  float64\n",
      " 4   product  100000 non-null  float64\n",
      "dtypes: float64(4), object(1)\n",
      "memory usage: 3.8+ MB\n"
     ]
    },
    {
     "data": {
      "text/html": [
       "<div>\n",
       "<style scoped>\n",
       "    .dataframe tbody tr th:only-of-type {\n",
       "        vertical-align: middle;\n",
       "    }\n",
       "\n",
       "    .dataframe tbody tr th {\n",
       "        vertical-align: top;\n",
       "    }\n",
       "\n",
       "    .dataframe thead th {\n",
       "        text-align: right;\n",
       "    }\n",
       "</style>\n",
       "<table border=\"1\" class=\"dataframe\">\n",
       "  <thead>\n",
       "    <tr style=\"text-align: right;\">\n",
       "      <th></th>\n",
       "      <th>id</th>\n",
       "      <th>f0</th>\n",
       "      <th>f1</th>\n",
       "      <th>f2</th>\n",
       "      <th>product</th>\n",
       "    </tr>\n",
       "  </thead>\n",
       "  <tbody>\n",
       "    <tr>\n",
       "      <th>0</th>\n",
       "      <td>txEyH</td>\n",
       "      <td>0.705745</td>\n",
       "      <td>-0.497823</td>\n",
       "      <td>1.221170</td>\n",
       "      <td>105.280062</td>\n",
       "    </tr>\n",
       "    <tr>\n",
       "      <th>1</th>\n",
       "      <td>2acmU</td>\n",
       "      <td>1.334711</td>\n",
       "      <td>-0.340164</td>\n",
       "      <td>4.365080</td>\n",
       "      <td>73.037750</td>\n",
       "    </tr>\n",
       "    <tr>\n",
       "      <th>2</th>\n",
       "      <td>409Wp</td>\n",
       "      <td>1.022732</td>\n",
       "      <td>0.151990</td>\n",
       "      <td>1.419926</td>\n",
       "      <td>85.265647</td>\n",
       "    </tr>\n",
       "    <tr>\n",
       "      <th>3</th>\n",
       "      <td>iJLyR</td>\n",
       "      <td>-0.032172</td>\n",
       "      <td>0.139033</td>\n",
       "      <td>2.978566</td>\n",
       "      <td>168.620776</td>\n",
       "    </tr>\n",
       "    <tr>\n",
       "      <th>4</th>\n",
       "      <td>Xdl7t</td>\n",
       "      <td>1.988431</td>\n",
       "      <td>0.155413</td>\n",
       "      <td>4.751769</td>\n",
       "      <td>154.036647</td>\n",
       "    </tr>\n",
       "  </tbody>\n",
       "</table>\n",
       "</div>"
      ],
      "text/plain": [
       "      id        f0        f1        f2     product\n",
       "0  txEyH  0.705745 -0.497823  1.221170  105.280062\n",
       "1  2acmU  1.334711 -0.340164  4.365080   73.037750\n",
       "2  409Wp  1.022732  0.151990  1.419926   85.265647\n",
       "3  iJLyR -0.032172  0.139033  2.978566  168.620776\n",
       "4  Xdl7t  1.988431  0.155413  4.751769  154.036647"
      ]
     },
     "metadata": {},
     "output_type": "display_data"
    },
    {
     "data": {
      "text/plain": [
       "None"
      ]
     },
     "metadata": {},
     "output_type": "display_data"
    },
    {
     "data": {
      "text/html": [
       "<div>\n",
       "<style scoped>\n",
       "    .dataframe tbody tr th:only-of-type {\n",
       "        vertical-align: middle;\n",
       "    }\n",
       "\n",
       "    .dataframe tbody tr th {\n",
       "        vertical-align: top;\n",
       "    }\n",
       "\n",
       "    .dataframe thead th {\n",
       "        text-align: right;\n",
       "    }\n",
       "</style>\n",
       "<table border=\"1\" class=\"dataframe\">\n",
       "  <thead>\n",
       "    <tr style=\"text-align: right;\">\n",
       "      <th></th>\n",
       "      <th>f0</th>\n",
       "      <th>f1</th>\n",
       "      <th>f2</th>\n",
       "      <th>product</th>\n",
       "    </tr>\n",
       "  </thead>\n",
       "  <tbody>\n",
       "    <tr>\n",
       "      <th>count</th>\n",
       "      <td>100000.000000</td>\n",
       "      <td>100000.000000</td>\n",
       "      <td>100000.000000</td>\n",
       "      <td>100000.000000</td>\n",
       "    </tr>\n",
       "    <tr>\n",
       "      <th>mean</th>\n",
       "      <td>0.500419</td>\n",
       "      <td>0.250143</td>\n",
       "      <td>2.502647</td>\n",
       "      <td>92.500000</td>\n",
       "    </tr>\n",
       "    <tr>\n",
       "      <th>std</th>\n",
       "      <td>0.871832</td>\n",
       "      <td>0.504433</td>\n",
       "      <td>3.248248</td>\n",
       "      <td>44.288691</td>\n",
       "    </tr>\n",
       "    <tr>\n",
       "      <th>min</th>\n",
       "      <td>-1.408605</td>\n",
       "      <td>-0.848218</td>\n",
       "      <td>-12.088328</td>\n",
       "      <td>0.000000</td>\n",
       "    </tr>\n",
       "    <tr>\n",
       "      <th>25%</th>\n",
       "      <td>-0.072580</td>\n",
       "      <td>-0.200881</td>\n",
       "      <td>0.287748</td>\n",
       "      <td>56.497507</td>\n",
       "    </tr>\n",
       "    <tr>\n",
       "      <th>50%</th>\n",
       "      <td>0.502360</td>\n",
       "      <td>0.250252</td>\n",
       "      <td>2.515969</td>\n",
       "      <td>91.849972</td>\n",
       "    </tr>\n",
       "    <tr>\n",
       "      <th>75%</th>\n",
       "      <td>1.073581</td>\n",
       "      <td>0.700646</td>\n",
       "      <td>4.715088</td>\n",
       "      <td>128.564089</td>\n",
       "    </tr>\n",
       "    <tr>\n",
       "      <th>max</th>\n",
       "      <td>2.362331</td>\n",
       "      <td>1.343769</td>\n",
       "      <td>16.003790</td>\n",
       "      <td>185.364347</td>\n",
       "    </tr>\n",
       "  </tbody>\n",
       "</table>\n",
       "</div>"
      ],
      "text/plain": [
       "                  f0             f1             f2        product\n",
       "count  100000.000000  100000.000000  100000.000000  100000.000000\n",
       "mean        0.500419       0.250143       2.502647      92.500000\n",
       "std         0.871832       0.504433       3.248248      44.288691\n",
       "min        -1.408605      -0.848218     -12.088328       0.000000\n",
       "25%        -0.072580      -0.200881       0.287748      56.497507\n",
       "50%         0.502360       0.250252       2.515969      91.849972\n",
       "75%         1.073581       0.700646       4.715088     128.564089\n",
       "max         2.362331       1.343769      16.003790     185.364347"
      ]
     },
     "metadata": {},
     "output_type": "display_data"
    },
    {
     "data": {
      "text/plain": [
       "id         0\n",
       "f0         0\n",
       "f1         0\n",
       "f2         0\n",
       "product    0\n",
       "dtype: int64"
      ]
     },
     "metadata": {},
     "output_type": "display_data"
    }
   ],
   "source": [
    "df_0 = pd.read_csv('/datasets/geo_data_0.csv')\n",
    "df_1 = pd.read_csv('/datasets/geo_data_1.csv')\n",
    "df_2 = pd.read_csv('/datasets/geo_data_2.csv')\n",
    "\n",
    "data_view(df_0)"
   ]
  },
  {
   "cell_type": "markdown",
   "metadata": {},
   "source": [
    "### Регион 2"
   ]
  },
  {
   "cell_type": "code",
   "execution_count": 4,
   "metadata": {},
   "outputs": [
    {
     "name": "stdout",
     "output_type": "stream",
     "text": [
      "<class 'pandas.core.frame.DataFrame'>\n",
      "RangeIndex: 100000 entries, 0 to 99999\n",
      "Data columns (total 5 columns):\n",
      " #   Column   Non-Null Count   Dtype  \n",
      "---  ------   --------------   -----  \n",
      " 0   id       100000 non-null  object \n",
      " 1   f0       100000 non-null  float64\n",
      " 2   f1       100000 non-null  float64\n",
      " 3   f2       100000 non-null  float64\n",
      " 4   product  100000 non-null  float64\n",
      "dtypes: float64(4), object(1)\n",
      "memory usage: 3.8+ MB\n"
     ]
    },
    {
     "data": {
      "text/html": [
       "<div>\n",
       "<style scoped>\n",
       "    .dataframe tbody tr th:only-of-type {\n",
       "        vertical-align: middle;\n",
       "    }\n",
       "\n",
       "    .dataframe tbody tr th {\n",
       "        vertical-align: top;\n",
       "    }\n",
       "\n",
       "    .dataframe thead th {\n",
       "        text-align: right;\n",
       "    }\n",
       "</style>\n",
       "<table border=\"1\" class=\"dataframe\">\n",
       "  <thead>\n",
       "    <tr style=\"text-align: right;\">\n",
       "      <th></th>\n",
       "      <th>id</th>\n",
       "      <th>f0</th>\n",
       "      <th>f1</th>\n",
       "      <th>f2</th>\n",
       "      <th>product</th>\n",
       "    </tr>\n",
       "  </thead>\n",
       "  <tbody>\n",
       "    <tr>\n",
       "      <th>0</th>\n",
       "      <td>kBEdx</td>\n",
       "      <td>-15.001348</td>\n",
       "      <td>-8.276000</td>\n",
       "      <td>-0.005876</td>\n",
       "      <td>3.179103</td>\n",
       "    </tr>\n",
       "    <tr>\n",
       "      <th>1</th>\n",
       "      <td>62mP7</td>\n",
       "      <td>14.272088</td>\n",
       "      <td>-3.475083</td>\n",
       "      <td>0.999183</td>\n",
       "      <td>26.953261</td>\n",
       "    </tr>\n",
       "    <tr>\n",
       "      <th>2</th>\n",
       "      <td>vyE1P</td>\n",
       "      <td>6.263187</td>\n",
       "      <td>-5.948386</td>\n",
       "      <td>5.001160</td>\n",
       "      <td>134.766305</td>\n",
       "    </tr>\n",
       "    <tr>\n",
       "      <th>3</th>\n",
       "      <td>KcrkZ</td>\n",
       "      <td>-13.081196</td>\n",
       "      <td>-11.506057</td>\n",
       "      <td>4.999415</td>\n",
       "      <td>137.945408</td>\n",
       "    </tr>\n",
       "    <tr>\n",
       "      <th>4</th>\n",
       "      <td>AHL4O</td>\n",
       "      <td>12.702195</td>\n",
       "      <td>-8.147433</td>\n",
       "      <td>5.004363</td>\n",
       "      <td>134.766305</td>\n",
       "    </tr>\n",
       "  </tbody>\n",
       "</table>\n",
       "</div>"
      ],
      "text/plain": [
       "      id         f0         f1        f2     product\n",
       "0  kBEdx -15.001348  -8.276000 -0.005876    3.179103\n",
       "1  62mP7  14.272088  -3.475083  0.999183   26.953261\n",
       "2  vyE1P   6.263187  -5.948386  5.001160  134.766305\n",
       "3  KcrkZ -13.081196 -11.506057  4.999415  137.945408\n",
       "4  AHL4O  12.702195  -8.147433  5.004363  134.766305"
      ]
     },
     "metadata": {},
     "output_type": "display_data"
    },
    {
     "data": {
      "text/plain": [
       "None"
      ]
     },
     "metadata": {},
     "output_type": "display_data"
    },
    {
     "data": {
      "text/html": [
       "<div>\n",
       "<style scoped>\n",
       "    .dataframe tbody tr th:only-of-type {\n",
       "        vertical-align: middle;\n",
       "    }\n",
       "\n",
       "    .dataframe tbody tr th {\n",
       "        vertical-align: top;\n",
       "    }\n",
       "\n",
       "    .dataframe thead th {\n",
       "        text-align: right;\n",
       "    }\n",
       "</style>\n",
       "<table border=\"1\" class=\"dataframe\">\n",
       "  <thead>\n",
       "    <tr style=\"text-align: right;\">\n",
       "      <th></th>\n",
       "      <th>f0</th>\n",
       "      <th>f1</th>\n",
       "      <th>f2</th>\n",
       "      <th>product</th>\n",
       "    </tr>\n",
       "  </thead>\n",
       "  <tbody>\n",
       "    <tr>\n",
       "      <th>count</th>\n",
       "      <td>100000.000000</td>\n",
       "      <td>100000.000000</td>\n",
       "      <td>100000.000000</td>\n",
       "      <td>100000.000000</td>\n",
       "    </tr>\n",
       "    <tr>\n",
       "      <th>mean</th>\n",
       "      <td>1.141296</td>\n",
       "      <td>-4.796579</td>\n",
       "      <td>2.494541</td>\n",
       "      <td>68.825000</td>\n",
       "    </tr>\n",
       "    <tr>\n",
       "      <th>std</th>\n",
       "      <td>8.965932</td>\n",
       "      <td>5.119872</td>\n",
       "      <td>1.703572</td>\n",
       "      <td>45.944423</td>\n",
       "    </tr>\n",
       "    <tr>\n",
       "      <th>min</th>\n",
       "      <td>-31.609576</td>\n",
       "      <td>-26.358598</td>\n",
       "      <td>-0.018144</td>\n",
       "      <td>0.000000</td>\n",
       "    </tr>\n",
       "    <tr>\n",
       "      <th>25%</th>\n",
       "      <td>-6.298551</td>\n",
       "      <td>-8.267985</td>\n",
       "      <td>1.000021</td>\n",
       "      <td>26.953261</td>\n",
       "    </tr>\n",
       "    <tr>\n",
       "      <th>50%</th>\n",
       "      <td>1.153055</td>\n",
       "      <td>-4.813172</td>\n",
       "      <td>2.011479</td>\n",
       "      <td>57.085625</td>\n",
       "    </tr>\n",
       "    <tr>\n",
       "      <th>75%</th>\n",
       "      <td>8.621015</td>\n",
       "      <td>-1.332816</td>\n",
       "      <td>3.999904</td>\n",
       "      <td>107.813044</td>\n",
       "    </tr>\n",
       "    <tr>\n",
       "      <th>max</th>\n",
       "      <td>29.421755</td>\n",
       "      <td>18.734063</td>\n",
       "      <td>5.019721</td>\n",
       "      <td>137.945408</td>\n",
       "    </tr>\n",
       "  </tbody>\n",
       "</table>\n",
       "</div>"
      ],
      "text/plain": [
       "                  f0             f1             f2        product\n",
       "count  100000.000000  100000.000000  100000.000000  100000.000000\n",
       "mean        1.141296      -4.796579       2.494541      68.825000\n",
       "std         8.965932       5.119872       1.703572      45.944423\n",
       "min       -31.609576     -26.358598      -0.018144       0.000000\n",
       "25%        -6.298551      -8.267985       1.000021      26.953261\n",
       "50%         1.153055      -4.813172       2.011479      57.085625\n",
       "75%         8.621015      -1.332816       3.999904     107.813044\n",
       "max        29.421755      18.734063       5.019721     137.945408"
      ]
     },
     "metadata": {},
     "output_type": "display_data"
    },
    {
     "data": {
      "text/plain": [
       "id         0\n",
       "f0         0\n",
       "f1         0\n",
       "f2         0\n",
       "product    0\n",
       "dtype: int64"
      ]
     },
     "metadata": {},
     "output_type": "display_data"
    }
   ],
   "source": [
    "data_view(df_1)"
   ]
  },
  {
   "cell_type": "markdown",
   "metadata": {},
   "source": [
    "### Регион 3"
   ]
  },
  {
   "cell_type": "code",
   "execution_count": 5,
   "metadata": {},
   "outputs": [
    {
     "name": "stdout",
     "output_type": "stream",
     "text": [
      "<class 'pandas.core.frame.DataFrame'>\n",
      "RangeIndex: 100000 entries, 0 to 99999\n",
      "Data columns (total 5 columns):\n",
      " #   Column   Non-Null Count   Dtype  \n",
      "---  ------   --------------   -----  \n",
      " 0   id       100000 non-null  object \n",
      " 1   f0       100000 non-null  float64\n",
      " 2   f1       100000 non-null  float64\n",
      " 3   f2       100000 non-null  float64\n",
      " 4   product  100000 non-null  float64\n",
      "dtypes: float64(4), object(1)\n",
      "memory usage: 3.8+ MB\n"
     ]
    },
    {
     "data": {
      "text/html": [
       "<div>\n",
       "<style scoped>\n",
       "    .dataframe tbody tr th:only-of-type {\n",
       "        vertical-align: middle;\n",
       "    }\n",
       "\n",
       "    .dataframe tbody tr th {\n",
       "        vertical-align: top;\n",
       "    }\n",
       "\n",
       "    .dataframe thead th {\n",
       "        text-align: right;\n",
       "    }\n",
       "</style>\n",
       "<table border=\"1\" class=\"dataframe\">\n",
       "  <thead>\n",
       "    <tr style=\"text-align: right;\">\n",
       "      <th></th>\n",
       "      <th>id</th>\n",
       "      <th>f0</th>\n",
       "      <th>f1</th>\n",
       "      <th>f2</th>\n",
       "      <th>product</th>\n",
       "    </tr>\n",
       "  </thead>\n",
       "  <tbody>\n",
       "    <tr>\n",
       "      <th>0</th>\n",
       "      <td>fwXo0</td>\n",
       "      <td>-1.146987</td>\n",
       "      <td>0.963328</td>\n",
       "      <td>-0.828965</td>\n",
       "      <td>27.758673</td>\n",
       "    </tr>\n",
       "    <tr>\n",
       "      <th>1</th>\n",
       "      <td>WJtFt</td>\n",
       "      <td>0.262778</td>\n",
       "      <td>0.269839</td>\n",
       "      <td>-2.530187</td>\n",
       "      <td>56.069697</td>\n",
       "    </tr>\n",
       "    <tr>\n",
       "      <th>2</th>\n",
       "      <td>ovLUW</td>\n",
       "      <td>0.194587</td>\n",
       "      <td>0.289035</td>\n",
       "      <td>-5.586433</td>\n",
       "      <td>62.871910</td>\n",
       "    </tr>\n",
       "    <tr>\n",
       "      <th>3</th>\n",
       "      <td>q6cA6</td>\n",
       "      <td>2.236060</td>\n",
       "      <td>-0.553760</td>\n",
       "      <td>0.930038</td>\n",
       "      <td>114.572842</td>\n",
       "    </tr>\n",
       "    <tr>\n",
       "      <th>4</th>\n",
       "      <td>WPMUX</td>\n",
       "      <td>-0.515993</td>\n",
       "      <td>1.716266</td>\n",
       "      <td>5.899011</td>\n",
       "      <td>149.600746</td>\n",
       "    </tr>\n",
       "  </tbody>\n",
       "</table>\n",
       "</div>"
      ],
      "text/plain": [
       "      id        f0        f1        f2     product\n",
       "0  fwXo0 -1.146987  0.963328 -0.828965   27.758673\n",
       "1  WJtFt  0.262778  0.269839 -2.530187   56.069697\n",
       "2  ovLUW  0.194587  0.289035 -5.586433   62.871910\n",
       "3  q6cA6  2.236060 -0.553760  0.930038  114.572842\n",
       "4  WPMUX -0.515993  1.716266  5.899011  149.600746"
      ]
     },
     "metadata": {},
     "output_type": "display_data"
    },
    {
     "data": {
      "text/plain": [
       "None"
      ]
     },
     "metadata": {},
     "output_type": "display_data"
    },
    {
     "data": {
      "text/html": [
       "<div>\n",
       "<style scoped>\n",
       "    .dataframe tbody tr th:only-of-type {\n",
       "        vertical-align: middle;\n",
       "    }\n",
       "\n",
       "    .dataframe tbody tr th {\n",
       "        vertical-align: top;\n",
       "    }\n",
       "\n",
       "    .dataframe thead th {\n",
       "        text-align: right;\n",
       "    }\n",
       "</style>\n",
       "<table border=\"1\" class=\"dataframe\">\n",
       "  <thead>\n",
       "    <tr style=\"text-align: right;\">\n",
       "      <th></th>\n",
       "      <th>f0</th>\n",
       "      <th>f1</th>\n",
       "      <th>f2</th>\n",
       "      <th>product</th>\n",
       "    </tr>\n",
       "  </thead>\n",
       "  <tbody>\n",
       "    <tr>\n",
       "      <th>count</th>\n",
       "      <td>100000.000000</td>\n",
       "      <td>100000.000000</td>\n",
       "      <td>100000.000000</td>\n",
       "      <td>100000.000000</td>\n",
       "    </tr>\n",
       "    <tr>\n",
       "      <th>mean</th>\n",
       "      <td>0.002023</td>\n",
       "      <td>-0.002081</td>\n",
       "      <td>2.495128</td>\n",
       "      <td>95.000000</td>\n",
       "    </tr>\n",
       "    <tr>\n",
       "      <th>std</th>\n",
       "      <td>1.732045</td>\n",
       "      <td>1.730417</td>\n",
       "      <td>3.473445</td>\n",
       "      <td>44.749921</td>\n",
       "    </tr>\n",
       "    <tr>\n",
       "      <th>min</th>\n",
       "      <td>-8.760004</td>\n",
       "      <td>-7.084020</td>\n",
       "      <td>-11.970335</td>\n",
       "      <td>0.000000</td>\n",
       "    </tr>\n",
       "    <tr>\n",
       "      <th>25%</th>\n",
       "      <td>-1.162288</td>\n",
       "      <td>-1.174820</td>\n",
       "      <td>0.130359</td>\n",
       "      <td>59.450441</td>\n",
       "    </tr>\n",
       "    <tr>\n",
       "      <th>50%</th>\n",
       "      <td>0.009424</td>\n",
       "      <td>-0.009482</td>\n",
       "      <td>2.484236</td>\n",
       "      <td>94.925613</td>\n",
       "    </tr>\n",
       "    <tr>\n",
       "      <th>75%</th>\n",
       "      <td>1.158535</td>\n",
       "      <td>1.163678</td>\n",
       "      <td>4.858794</td>\n",
       "      <td>130.595027</td>\n",
       "    </tr>\n",
       "    <tr>\n",
       "      <th>max</th>\n",
       "      <td>7.238262</td>\n",
       "      <td>7.844801</td>\n",
       "      <td>16.739402</td>\n",
       "      <td>190.029838</td>\n",
       "    </tr>\n",
       "  </tbody>\n",
       "</table>\n",
       "</div>"
      ],
      "text/plain": [
       "                  f0             f1             f2        product\n",
       "count  100000.000000  100000.000000  100000.000000  100000.000000\n",
       "mean        0.002023      -0.002081       2.495128      95.000000\n",
       "std         1.732045       1.730417       3.473445      44.749921\n",
       "min        -8.760004      -7.084020     -11.970335       0.000000\n",
       "25%        -1.162288      -1.174820       0.130359      59.450441\n",
       "50%         0.009424      -0.009482       2.484236      94.925613\n",
       "75%         1.158535       1.163678       4.858794     130.595027\n",
       "max         7.238262       7.844801      16.739402     190.029838"
      ]
     },
     "metadata": {},
     "output_type": "display_data"
    },
    {
     "data": {
      "text/plain": [
       "id         0\n",
       "f0         0\n",
       "f1         0\n",
       "f2         0\n",
       "product    0\n",
       "dtype: int64"
      ]
     },
     "metadata": {},
     "output_type": "display_data"
    }
   ],
   "source": [
    "data_view(df_2)"
   ]
  },
  {
   "cell_type": "markdown",
   "metadata": {},
   "source": [
    "## Обучение и проверка модели"
   ]
  },
  {
   "cell_type": "code",
   "execution_count": 6,
   "metadata": {},
   "outputs": [],
   "source": [
    "def data_markup(data, target, string_row):\n",
    "    \n",
    "    \"\"\"\n",
    "    Функция возращает масшабированные обучающую и валидационную выборки.\n",
    "    \"\"\"\n",
    "    \n",
    "    features = data.drop([target, string_row], axis=1)\n",
    "    target = data[target]\n",
    "    \n",
    "    features_train, features_valid, target_train, target_valid = train_test_split(\n",
    "        features, target, test_size=0.25, random_state=12345)\n",
    "    \n",
    "    scaler = StandardScaler()\n",
    "    scaler.fit(features_train)\n",
    "    features_train = scaler.transform(features_train)\n",
    "    features_valid = scaler.transform(features_valid)\n",
    "    \n",
    "    return features_train, features_valid, target_train, target_valid"
   ]
  },
  {
   "cell_type": "code",
   "execution_count": 7,
   "metadata": {
    "scrolled": true
   },
   "outputs": [
    {
     "name": "stdout",
     "output_type": "stream",
     "text": [
      "Средний запас предсказанного сырья - Регион_1: 92.59\n",
      "RMSE: 37.58\n",
      "\n",
      "Средний запас предсказанного сырья - Регион_2: 68.73\n",
      "RMSE: 0.89\n",
      "\n",
      "Средний запас предсказанного сырья - Регион_3: 94.97\n",
      "RMSE: 40.03\n",
      "\n"
     ]
    }
   ],
   "source": [
    "target_valid_df = []\n",
    "predicted_valid_df = []\n",
    "\n",
    "for name, df in {'Регион_1': df_0, 'Регион_2': df_1, 'Регион_3': df_2}.items():\n",
    "    \n",
    "    features_train, features_valid, target_train, target_valid = data_markup(df, 'product', 'id')\n",
    "\n",
    "    model = LinearRegression()\n",
    "    model.fit(features_train, target_train)\n",
    "    \n",
    "    predicted_valid = model.predict(features_valid)\n",
    "    mse = mean_squared_error(target_valid, predicted_valid)\n",
    "    \n",
    "    predicted_valid_df.append(predicted_valid)\n",
    "    target_valid_df.append(target_valid)\n",
    "   \n",
    "    print(f'Средний запас предсказанного сырья - {name}: {predicted_valid.mean():.2f}')\n",
    "    print(f'RMSE: {mse ** 0.5:.2f}')\n",
    "    print()"
   ]
  },
  {
   "cell_type": "markdown",
   "metadata": {},
   "source": [
    "### Вывод"
   ]
  },
  {
   "cell_type": "markdown",
   "metadata": {},
   "source": [
    "- Самое большое значение среднего запаса в регионе 3.\n",
    "- Самое большое среднеквадратичное отклонение в регионе 3.\n",
    "- Регион 1 и 3 имеют близкие харатеристики и на первый взгляд более привлекательны, чем регион 2."
   ]
  },
  {
   "cell_type": "markdown",
   "metadata": {},
   "source": [
    "## Подготовка к расчёту прибыли"
   ]
  },
  {
   "cell_type": "code",
   "execution_count": 8,
   "metadata": {},
   "outputs": [
    {
     "name": "stdout",
     "output_type": "stream",
     "text": [
      "Достаточный объём сырья для безубыточной разработки новой скважины: 111.11111111111111 тыс.баррелей\n"
     ]
    }
   ],
   "source": [
    "# количество исследуемых точек\n",
    "RESEARCH_POINT = 500\n",
    "\n",
    "# количество отобранных точек для разработки\n",
    "DEV_POINT = 200\n",
    "\n",
    "# бюджет на разработку\n",
    "DEV_BUDGET = 10e+9\n",
    "\n",
    "# бюджет на разработку одной скаважины\n",
    "DEV_BUDGET_ONE = DEV_BUDGET / DEV_POINT\n",
    "\n",
    "# стоимость 1 тыс. баррелей\n",
    "INCOME_UNIT = 450e+3\n",
    "\n",
    "# необходимый запас нефти в тыс. баррелей для безубыточной разработки\n",
    "# т.е. прибыль больше или равна затратам\n",
    "MIN_VOLUME = DEV_BUDGET_ONE / INCOME_UNIT\n",
    "\n",
    "print(f'Достаточный объём сырья для безубыточной разработки новой скважины: {MIN_VOLUME} тыс.баррелей')"
   ]
  },
  {
   "cell_type": "markdown",
   "metadata": {},
   "source": [
    "### Вывод"
   ]
  },
  {
   "cell_type": "markdown",
   "metadata": {},
   "source": [
    "- Минимальный объем запаса выше примерно на 15 тыс. баррелей чем в среднем для региона 1 и 3, и на 40 тыс. быррелей чем в регионе 2.\n",
    "- Исходя только из этих данных, то не один регион не принесёт прибыли."
   ]
  },
  {
   "cell_type": "markdown",
   "metadata": {},
   "source": [
    "## Расчёт прибыли и рисков "
   ]
  },
  {
   "cell_type": "code",
   "execution_count": 9,
   "metadata": {},
   "outputs": [],
   "source": [
    "def profit_region(predicted_valid, target_valid):\n",
    "    \n",
    "    \"\"\"\n",
    "    Функция возращает значение общей прибыли 200 скважин с наибольшим запасом сырья, \n",
    "    принимая на вход предсказания по объему сырья и реальные значения целевого признака,\n",
    "    а также используя заданные значения income_unit(доход с 1 тыс. баррелей) и \n",
    "    dev_budget(затраты на разработку в регионе)\n",
    "    \"\"\"\n",
    "    \n",
    "    predicted_valid = pd.Series(data=predicted_valid, index=target_valid.index).sort_values(ascending=False)\n",
    "    target_valid = target_valid[predicted_valid.index]\n",
    "    total_income = target_valid.head(DEV_POINT).sum() * INCOME_UNIT - DEV_BUDGET\n",
    "    \n",
    "    return total_income"
   ]
  },
  {
   "cell_type": "code",
   "execution_count": 10,
   "metadata": {},
   "outputs": [],
   "source": [
    "def criteria_region(target_valid, predicted_valid):\n",
    "\n",
    "    \"\"\"\n",
    "    Функция выводит значения средней прибыли, 95% доверительного интервала и \n",
    "    риска убытков после применеия техники Bootstrap с 1000 выборок на основе\n",
    "    предсказаний и реальных значений.\n",
    "    \"\"\"\n",
    "    \n",
    "    state = np.random.RandomState(12345)\n",
    "\n",
    "    values = []\n",
    "    for i in range(1000):\n",
    "        target_subsample = target_valid.sample(n=RESEARCH_POINT, replace=True, random_state=state)\n",
    "        volume_subsamlpe = pd.Series(data=predicted_valid, index=target_valid.index)[target_subsample.index]\n",
    "        profit_subsamlpe = profit_region(pd.Series(volume_subsamlpe), target_subsample)\n",
    "        values.append(profit_subsamlpe)\n",
    "\n",
    "    values = pd.Series(values)\n",
    "\n",
    "    profit_mean = values.mean() / 1e+9\n",
    "    lower = values.quantile(q=0.025) / 1e+9\n",
    "    upper = values.quantile(q=0.975) / 1e+9\n",
    "    risk_loss = (values < 0).mean() # вероятность отрицательного значения из списка values\n",
    "    \n",
    "    return [round(profit_mean, 2), round(lower, 2), round(upper, 2), round(risk_loss, 2)]"
   ]
  },
  {
   "cell_type": "code",
   "execution_count": 20,
   "metadata": {},
   "outputs": [
    {
     "data": {
      "text/plain": [
       "<AxesSubplot:>"
      ]
     },
     "execution_count": 20,
     "metadata": {},
     "output_type": "execute_result"
    },
    {
     "data": {
      "image/png": "[encoded data removed]",
      "text/plain": [
       "<Figure size 720x576 with 1 Axes>"
      ]
     },
     "metadata": {
      "needs_background": "light"
     },
     "output_type": "display_data"
    }
   ],
   "source": [
    "def criteria_region(target_valid, predicted_valid):\n",
    "\n",
    "    \"\"\"\n",
    "    Функция выводит значения средней прибыли, 95% доверительного интервала и \n",
    "    риска убытков после применеия техники Bootstrap с 1000 выборок на основе\n",
    "    предсказаний и реальных значений.\n",
    "    \"\"\"\n",
    "    \n",
    "    state = np.random.RandomState(12345)\n",
    "\n",
    "    values = []\n",
    "    for i in range(1000):\n",
    "        target_subsample = target_valid.sample(n=RESEARCH_POINT, replace=True, random_state=state)\n",
    "        volume_subsamlpe = pd.Series(data=predicted_valid, index=target_valid.index)[target_subsample.index]\n",
    "        profit_subsamlpe = profit_region(pd.Series(volume_subsamlpe), target_subsample)\n",
    "        values.append(profit_subsamlpe)\n",
    "\n",
    "    values = pd.Series(values)\n",
    "    return values\n",
    "\n",
    "\n",
    "criteria_region(target_valid_df[0], predicted_valid_df[0]).plot(kind='bar', figsize=(10, 8))"
   ]
  },
  {
   "cell_type": "markdown",
   "metadata": {},
   "source": [
    "## Вывод"
   ]
  },
  {
   "cell_type": "code",
   "execution_count": 11,
   "metadata": {},
   "outputs": [
    {
     "data": {
      "text/html": [
       "<div>\n",
       "<style scoped>\n",
       "    .dataframe tbody tr th:only-of-type {\n",
       "        vertical-align: middle;\n",
       "    }\n",
       "\n",
       "    .dataframe tbody tr th {\n",
       "        vertical-align: top;\n",
       "    }\n",
       "\n",
       "    .dataframe thead th {\n",
       "        text-align: right;\n",
       "    }\n",
       "</style>\n",
       "<table border=\"1\" class=\"dataframe\">\n",
       "  <thead>\n",
       "    <tr style=\"text-align: right;\">\n",
       "      <th></th>\n",
       "      <th>средняя прибыль, млрд руб</th>\n",
       "      <th>min-95%, млрд руб</th>\n",
       "      <th>max-95%, млрд руб</th>\n",
       "      <th>риск убытков</th>\n",
       "    </tr>\n",
       "  </thead>\n",
       "  <tbody>\n",
       "    <tr>\n",
       "      <th>регион 1</th>\n",
       "      <td>0.43</td>\n",
       "      <td>-0.10</td>\n",
       "      <td>0.95</td>\n",
       "      <td>0.06</td>\n",
       "    </tr>\n",
       "    <tr>\n",
       "      <th>регион 2</th>\n",
       "      <td>0.52</td>\n",
       "      <td>0.07</td>\n",
       "      <td>0.93</td>\n",
       "      <td>0.01</td>\n",
       "    </tr>\n",
       "    <tr>\n",
       "      <th>регион 3</th>\n",
       "      <td>0.44</td>\n",
       "      <td>-0.13</td>\n",
       "      <td>0.97</td>\n",
       "      <td>0.06</td>\n",
       "    </tr>\n",
       "  </tbody>\n",
       "</table>\n",
       "</div>"
      ],
      "text/plain": [
       "          средняя прибыль, млрд руб  min-95%, млрд руб  max-95%, млрд руб  \\\n",
       "регион 1                       0.43              -0.10               0.95   \n",
       "регион 2                       0.52               0.07               0.93   \n",
       "регион 3                       0.44              -0.13               0.97   \n",
       "\n",
       "          риск убытков  \n",
       "регион 1          0.06  \n",
       "регион 2          0.01  \n",
       "регион 3          0.06  "
      ]
     },
     "execution_count": 11,
     "metadata": {},
     "output_type": "execute_result"
    }
   ],
   "source": [
    "pd.DataFrame(np.array([criteria_region(target_valid_df[0], predicted_valid_df[0]), \n",
    "                       criteria_region(target_valid_df[1], predicted_valid_df[1]), \n",
    "                       criteria_region(target_valid_df[2], predicted_valid_df[2])]), \n",
    "             columns=['средняя прибыль, млрд руб', \n",
    "                      'min-95%, млрд руб', \n",
    "                      'max-95%, млрд руб', \n",
    "                      'риск убытков'], \n",
    "             index=['регион 1', 'регион 2', 'регион 3'])"
   ]
  },
  {
   "cell_type": "markdown",
   "metadata": {},
   "source": [
    "<b> - Средняя прибыль выше всего в регионе 2 - 0.52, также 95% доверительный интервал лежит в положительных значениях - (0.07-0.093) и риск убытков наименьший - 0.01.</b>\n",
    "\n",
    "<b> - На основе полученных результатов, рекомендуется для разработки регион 2.</b>"
   ]
  }
 ],
 "metadata": {
  "ExecuteTimeLog": [
   {
    "duration": 2172,
    "start_time": "2022-03-25T05:58:12.747Z"
   },
   {
    "duration": 322,
    "start_time": "2022-03-25T05:59:06.982Z"
   },
   {
    "duration": 233,
    "start_time": "2022-03-25T05:59:16.784Z"
   },
   {
    "duration": 222,
    "start_time": "2022-03-25T06:01:59.622Z"
   },
   {
    "duration": 224,
    "start_time": "2022-03-25T06:02:16.663Z"
   },
   {
    "duration": 237,
    "start_time": "2022-03-25T06:02:20.541Z"
   },
   {
    "duration": 218,
    "start_time": "2022-03-25T06:02:51.230Z"
   },
   {
    "duration": 5,
    "start_time": "2022-03-25T06:12:08.959Z"
   },
   {
    "duration": 225,
    "start_time": "2022-03-25T06:12:13.306Z"
   },
   {
    "duration": 5,
    "start_time": "2022-03-25T06:13:17.568Z"
   },
   {
    "duration": 458,
    "start_time": "2022-03-25T06:13:18.441Z"
   },
   {
    "duration": 79,
    "start_time": "2022-03-25T06:13:24.241Z"
   },
   {
    "duration": 79,
    "start_time": "2022-03-25T06:13:28.306Z"
   },
   {
    "duration": 5,
    "start_time": "2022-03-25T06:19:00.099Z"
   },
   {
    "duration": 16,
    "start_time": "2022-03-25T06:19:00.106Z"
   },
   {
    "duration": 155,
    "start_time": "2022-03-25T06:19:00.124Z"
   },
   {
    "duration": 0,
    "start_time": "2022-03-25T06:19:00.282Z"
   },
   {
    "duration": 0,
    "start_time": "2022-03-25T06:19:00.283Z"
   },
   {
    "duration": 85,
    "start_time": "2022-03-25T06:19:34.543Z"
   },
   {
    "duration": 6,
    "start_time": "2022-03-25T06:20:01.650Z"
   },
   {
    "duration": 9,
    "start_time": "2022-03-25T06:20:01.658Z"
   },
   {
    "duration": 11,
    "start_time": "2022-03-25T06:20:01.670Z"
   },
   {
    "duration": 528,
    "start_time": "2022-03-25T06:20:01.684Z"
   },
   {
    "duration": 109,
    "start_time": "2022-03-25T06:20:02.214Z"
   },
   {
    "duration": 107,
    "start_time": "2022-03-25T06:20:15.775Z"
   },
   {
    "duration": 87,
    "start_time": "2022-03-25T06:21:23.494Z"
   },
   {
    "duration": 1924,
    "start_time": "2022-03-25T06:22:37.561Z"
   },
   {
    "duration": 4,
    "start_time": "2022-03-25T06:22:39.488Z"
   },
   {
    "duration": 7,
    "start_time": "2022-03-25T06:22:39.494Z"
   },
   {
    "duration": 521,
    "start_time": "2022-03-25T06:22:39.504Z"
   },
   {
    "duration": 110,
    "start_time": "2022-03-25T06:22:40.028Z"
   },
   {
    "duration": 101,
    "start_time": "2022-03-25T06:22:40.141Z"
   },
   {
    "duration": 4,
    "start_time": "2022-03-25T06:31:01.335Z"
   },
   {
    "duration": 114,
    "start_time": "2022-03-25T06:31:32.104Z"
   },
   {
    "duration": 532,
    "start_time": "2022-03-25T06:31:36.342Z"
   },
   {
    "duration": 484,
    "start_time": "2022-03-25T06:32:45.671Z"
   },
   {
    "duration": 6,
    "start_time": "2022-03-25T06:37:39.693Z"
   },
   {
    "duration": 161,
    "start_time": "2022-03-25T06:38:28.955Z"
   },
   {
    "duration": 5,
    "start_time": "2022-03-25T06:40:17.963Z"
   },
   {
    "duration": 38,
    "start_time": "2022-03-25T06:40:19.227Z"
   },
   {
    "duration": 6,
    "start_time": "2022-03-25T06:40:45.874Z"
   },
   {
    "duration": 33,
    "start_time": "2022-03-25T06:40:47.634Z"
   },
   {
    "duration": 6,
    "start_time": "2022-03-25T06:41:47.530Z"
   },
   {
    "duration": 33,
    "start_time": "2022-03-25T06:41:49.296Z"
   },
   {
    "duration": 26,
    "start_time": "2022-03-25T06:45:07.696Z"
   },
   {
    "duration": 37,
    "start_time": "2022-03-25T06:53:36.133Z"
   },
   {
    "duration": 6,
    "start_time": "2022-03-25T06:53:40.640Z"
   },
   {
    "duration": 5,
    "start_time": "2022-03-25T06:53:40.649Z"
   },
   {
    "duration": 492,
    "start_time": "2022-03-25T06:53:40.657Z"
   },
   {
    "duration": 97,
    "start_time": "2022-03-25T06:53:41.153Z"
   },
   {
    "duration": 97,
    "start_time": "2022-03-25T06:53:41.252Z"
   },
   {
    "duration": 26,
    "start_time": "2022-03-25T06:53:41.351Z"
   },
   {
    "duration": 41,
    "start_time": "2022-03-25T06:53:43.158Z"
   },
   {
    "duration": 132,
    "start_time": "2022-03-25T06:53:59.445Z"
   },
   {
    "duration": 40,
    "start_time": "2022-03-25T06:54:31.812Z"
   },
   {
    "duration": 38,
    "start_time": "2022-03-25T06:56:41.603Z"
   },
   {
    "duration": 34,
    "start_time": "2022-03-25T07:00:05.882Z"
   },
   {
    "duration": 38,
    "start_time": "2022-03-25T07:00:10.362Z"
   },
   {
    "duration": 34,
    "start_time": "2022-03-25T07:01:06.738Z"
   },
   {
    "duration": 33,
    "start_time": "2022-03-25T07:01:47.393Z"
   },
   {
    "duration": 35,
    "start_time": "2022-03-25T07:04:49.623Z"
   },
   {
    "duration": 37,
    "start_time": "2022-03-25T07:05:30.439Z"
   },
   {
    "duration": 61,
    "start_time": "2022-03-25T07:06:01.715Z"
   },
   {
    "duration": 137,
    "start_time": "2022-03-25T07:06:12.837Z"
   },
   {
    "duration": 35,
    "start_time": "2022-03-25T07:08:38.014Z"
   },
   {
    "duration": 2009,
    "start_time": "2022-03-25T07:09:42.944Z"
   },
   {
    "duration": 4,
    "start_time": "2022-03-25T07:09:44.956Z"
   },
   {
    "duration": 545,
    "start_time": "2022-03-25T07:09:44.962Z"
   },
   {
    "duration": 106,
    "start_time": "2022-03-25T07:09:45.512Z"
   },
   {
    "duration": 107,
    "start_time": "2022-03-25T07:09:45.620Z"
   },
   {
    "duration": 6,
    "start_time": "2022-03-25T07:09:45.729Z"
   },
   {
    "duration": 73,
    "start_time": "2022-03-25T07:09:45.737Z"
   },
   {
    "duration": 122,
    "start_time": "2022-03-25T07:09:45.881Z"
   },
   {
    "duration": 124,
    "start_time": "2022-03-25T07:09:46.080Z"
   },
   {
    "duration": 6,
    "start_time": "2022-03-25T07:41:16.231Z"
   },
   {
    "duration": 4,
    "start_time": "2022-03-25T07:41:40.623Z"
   },
   {
    "duration": 4,
    "start_time": "2022-03-25T07:46:13.561Z"
   },
   {
    "duration": 5,
    "start_time": "2022-03-25T07:51:27.831Z"
   },
   {
    "duration": 5,
    "start_time": "2022-03-25T07:53:18.551Z"
   },
   {
    "duration": 6,
    "start_time": "2022-03-25T07:53:35.806Z"
   },
   {
    "duration": 4,
    "start_time": "2022-03-25T08:00:57.106Z"
   },
   {
    "duration": 203,
    "start_time": "2022-03-25T08:03:11.473Z"
   },
   {
    "duration": 54,
    "start_time": "2022-03-25T08:03:21.321Z"
   },
   {
    "duration": 7,
    "start_time": "2022-03-25T08:03:53.688Z"
   },
   {
    "duration": 40,
    "start_time": "2022-03-25T08:04:05.160Z"
   },
   {
    "duration": 5,
    "start_time": "2022-03-25T08:05:40.872Z"
   },
   {
    "duration": 5,
    "start_time": "2022-03-25T08:09:38.564Z"
   },
   {
    "duration": 5,
    "start_time": "2022-03-25T08:10:03.540Z"
   },
   {
    "duration": 6,
    "start_time": "2022-03-25T08:23:18.933Z"
   },
   {
    "duration": 6,
    "start_time": "2022-03-25T08:23:23.349Z"
   },
   {
    "duration": 158,
    "start_time": "2022-03-25T08:28:47.563Z"
   },
   {
    "duration": 25,
    "start_time": "2022-03-25T08:29:48.106Z"
   },
   {
    "duration": 22,
    "start_time": "2022-03-25T08:30:16.090Z"
   },
   {
    "duration": 23,
    "start_time": "2022-03-25T08:30:21.834Z"
   },
   {
    "duration": 22,
    "start_time": "2022-03-25T08:32:48.609Z"
   },
   {
    "duration": 25,
    "start_time": "2022-03-25T08:33:02.207Z"
   },
   {
    "duration": 22,
    "start_time": "2022-03-25T08:33:11.121Z"
   },
   {
    "duration": 23,
    "start_time": "2022-03-25T08:34:44.776Z"
   },
   {
    "duration": 73,
    "start_time": "2022-03-27T15:27:22.383Z"
   },
   {
    "duration": 2086,
    "start_time": "2022-03-27T15:27:25.966Z"
   },
   {
    "duration": 4,
    "start_time": "2022-03-27T15:27:28.055Z"
   },
   {
    "duration": 507,
    "start_time": "2022-03-27T15:27:28.068Z"
   },
   {
    "duration": 97,
    "start_time": "2022-03-27T15:27:28.577Z"
   },
   {
    "duration": 104,
    "start_time": "2022-03-27T15:27:28.677Z"
   },
   {
    "duration": 5,
    "start_time": "2022-03-27T15:27:28.784Z"
   },
   {
    "duration": 180,
    "start_time": "2022-03-27T15:27:28.791Z"
   },
   {
    "duration": 194,
    "start_time": "2022-03-27T15:27:28.974Z"
   },
   {
    "duration": 122,
    "start_time": "2022-03-27T15:27:29.171Z"
   },
   {
    "duration": 72,
    "start_time": "2022-03-27T15:27:29.297Z"
   },
   {
    "duration": 106,
    "start_time": "2022-03-27T15:27:31.121Z"
   },
   {
    "duration": 13,
    "start_time": "2022-03-27T15:28:12.632Z"
   },
   {
    "duration": 12,
    "start_time": "2022-03-27T15:29:04.633Z"
   },
   {
    "duration": 11,
    "start_time": "2022-03-27T15:29:26.240Z"
   },
   {
    "duration": 12,
    "start_time": "2022-03-27T15:29:54.794Z"
   },
   {
    "duration": 11,
    "start_time": "2022-03-27T15:30:07.012Z"
   },
   {
    "duration": 11,
    "start_time": "2022-03-27T15:30:54.233Z"
   },
   {
    "duration": 12,
    "start_time": "2022-03-27T15:31:40.279Z"
   },
   {
    "duration": 2819,
    "start_time": "2022-03-28T05:19:47.249Z"
   },
   {
    "duration": 5,
    "start_time": "2022-03-28T05:19:50.072Z"
   },
   {
    "duration": 733,
    "start_time": "2022-03-28T05:19:50.080Z"
   },
   {
    "duration": 178,
    "start_time": "2022-03-28T05:19:50.817Z"
   },
   {
    "duration": 182,
    "start_time": "2022-03-28T05:19:51.000Z"
   },
   {
    "duration": 9,
    "start_time": "2022-03-28T05:19:51.186Z"
   },
   {
    "duration": 272,
    "start_time": "2022-03-28T05:19:51.197Z"
   },
   {
    "duration": 97,
    "start_time": "2022-03-28T05:19:51.472Z"
   },
   {
    "duration": 125,
    "start_time": "2022-03-28T05:19:51.572Z"
   },
   {
    "duration": 74,
    "start_time": "2022-03-28T05:19:51.700Z"
   },
   {
    "duration": 11,
    "start_time": "2022-03-28T05:25:32.685Z"
   },
   {
    "duration": 11,
    "start_time": "2022-03-28T05:25:57.751Z"
   },
   {
    "duration": 12,
    "start_time": "2022-03-28T05:27:56.984Z"
   },
   {
    "duration": 8,
    "start_time": "2022-03-28T05:33:31.595Z"
   },
   {
    "duration": 15,
    "start_time": "2022-03-28T05:35:33.939Z"
   },
   {
    "duration": 100,
    "start_time": "2022-03-28T05:59:57.081Z"
   },
   {
    "duration": 169,
    "start_time": "2022-03-28T05:59:59.799Z"
   },
   {
    "duration": 90,
    "start_time": "2022-03-28T06:00:14.183Z"
   },
   {
    "duration": 6,
    "start_time": "2022-03-28T06:04:19.197Z"
   },
   {
    "duration": 8,
    "start_time": "2022-03-28T06:04:19.206Z"
   },
   {
    "duration": 654,
    "start_time": "2022-03-28T06:04:19.217Z"
   },
   {
    "duration": 106,
    "start_time": "2022-03-28T06:04:19.874Z"
   },
   {
    "duration": 99,
    "start_time": "2022-03-28T06:04:19.983Z"
   },
   {
    "duration": 6,
    "start_time": "2022-03-28T06:04:20.084Z"
   },
   {
    "duration": 86,
    "start_time": "2022-03-28T06:04:20.092Z"
   },
   {
    "duration": 190,
    "start_time": "2022-03-28T06:04:20.181Z"
   },
   {
    "duration": 122,
    "start_time": "2022-03-28T06:04:20.376Z"
   },
   {
    "duration": 66,
    "start_time": "2022-03-28T06:04:20.502Z"
   },
   {
    "duration": 104,
    "start_time": "2022-03-28T06:04:20.573Z"
   },
   {
    "duration": 11,
    "start_time": "2022-03-28T06:04:20.680Z"
   },
   {
    "duration": 10,
    "start_time": "2022-03-28T06:04:20.696Z"
   },
   {
    "duration": 259,
    "start_time": "2022-03-28T06:07:40.598Z"
   },
   {
    "duration": 7,
    "start_time": "2022-03-28T06:10:22.665Z"
   },
   {
    "duration": 8,
    "start_time": "2022-03-28T06:11:17.217Z"
   },
   {
    "duration": 9,
    "start_time": "2022-03-28T06:11:54.570Z"
   },
   {
    "duration": 36,
    "start_time": "2022-03-28T06:23:17.422Z"
   },
   {
    "duration": 24,
    "start_time": "2022-03-28T06:25:07.860Z"
   },
   {
    "duration": 46,
    "start_time": "2022-03-28T06:25:14.747Z"
   },
   {
    "duration": 6,
    "start_time": "2022-03-28T06:28:19.474Z"
   },
   {
    "duration": 14,
    "start_time": "2022-03-28T06:29:30.634Z"
   },
   {
    "duration": 12,
    "start_time": "2022-03-28T06:30:11.205Z"
   },
   {
    "duration": 15,
    "start_time": "2022-03-28T06:30:22.785Z"
   },
   {
    "duration": 9,
    "start_time": "2022-03-28T06:31:13.626Z"
   },
   {
    "duration": 11,
    "start_time": "2022-03-28T06:32:50.864Z"
   },
   {
    "duration": 8,
    "start_time": "2022-03-28T06:35:45.079Z"
   },
   {
    "duration": 8,
    "start_time": "2022-03-28T06:35:54.726Z"
   },
   {
    "duration": 8,
    "start_time": "2022-03-28T06:36:01.102Z"
   },
   {
    "duration": 6,
    "start_time": "2022-03-28T06:36:40.174Z"
   },
   {
    "duration": 21,
    "start_time": "2022-03-28T06:38:10.287Z"
   },
   {
    "duration": 23,
    "start_time": "2022-03-28T06:39:53.990Z"
   },
   {
    "duration": 24,
    "start_time": "2022-03-28T06:42:21.060Z"
   },
   {
    "duration": 24,
    "start_time": "2022-03-28T06:43:54.132Z"
   },
   {
    "duration": 23,
    "start_time": "2022-03-28T06:45:01.147Z"
   },
   {
    "duration": 16,
    "start_time": "2022-03-28T06:45:06.594Z"
   },
   {
    "duration": 16,
    "start_time": "2022-03-28T06:48:37.025Z"
   },
   {
    "duration": 34,
    "start_time": "2022-03-28T06:49:04.417Z"
   },
   {
    "duration": 7,
    "start_time": "2022-03-28T06:51:39.384Z"
   },
   {
    "duration": 6,
    "start_time": "2022-03-28T06:51:48.087Z"
   },
   {
    "duration": 9,
    "start_time": "2022-03-28T06:51:56.670Z"
   },
   {
    "duration": 49,
    "start_time": "2022-03-28T06:52:05.688Z"
   },
   {
    "duration": 32,
    "start_time": "2022-03-28T06:55:13.390Z"
   },
   {
    "duration": 31,
    "start_time": "2022-03-28T06:55:43.838Z"
   },
   {
    "duration": 31,
    "start_time": "2022-03-28T06:55:49.893Z"
   },
   {
    "duration": 7,
    "start_time": "2022-03-28T06:56:32.309Z"
   },
   {
    "duration": 23,
    "start_time": "2022-03-28T06:57:47.565Z"
   },
   {
    "duration": 37,
    "start_time": "2022-03-28T06:58:07.205Z"
   },
   {
    "duration": 35,
    "start_time": "2022-03-28T06:59:02.908Z"
   },
   {
    "duration": 6,
    "start_time": "2022-03-28T07:00:07.005Z"
   },
   {
    "duration": 2015,
    "start_time": "2022-03-28T07:00:33.523Z"
   },
   {
    "duration": 1958,
    "start_time": "2022-03-28T07:02:06.626Z"
   },
   {
    "duration": 3876,
    "start_time": "2022-03-28T07:02:43.019Z"
   },
   {
    "duration": 2019,
    "start_time": "2022-03-28T07:03:47.850Z"
   },
   {
    "duration": 2571,
    "start_time": "2022-03-28T07:06:03.112Z"
   },
   {
    "duration": 1987,
    "start_time": "2022-03-28T07:07:15.050Z"
   },
   {
    "duration": 1983,
    "start_time": "2022-03-28T07:07:28.640Z"
   },
   {
    "duration": 2065,
    "start_time": "2022-03-28T07:08:04.242Z"
   },
   {
    "duration": 3877,
    "start_time": "2022-03-28T07:31:15.055Z"
   },
   {
    "duration": 2011,
    "start_time": "2022-03-28T07:31:36.733Z"
   },
   {
    "duration": 122,
    "start_time": "2022-03-28T07:31:50.598Z"
   },
   {
    "duration": 2039,
    "start_time": "2022-03-28T07:31:56.221Z"
   },
   {
    "duration": 2027,
    "start_time": "2022-03-28T07:32:01.222Z"
   },
   {
    "duration": 2169,
    "start_time": "2022-03-28T07:33:22.188Z"
   },
   {
    "duration": 2159,
    "start_time": "2022-03-28T07:33:29.756Z"
   },
   {
    "duration": 2193,
    "start_time": "2022-03-28T07:33:35.893Z"
   },
   {
    "duration": 2143,
    "start_time": "2022-03-28T07:34:08.628Z"
   },
   {
    "duration": 8,
    "start_time": "2022-03-28T07:34:34.499Z"
   },
   {
    "duration": 2025,
    "start_time": "2022-03-28T07:34:41.501Z"
   },
   {
    "duration": 2026,
    "start_time": "2022-03-28T07:35:01.004Z"
   },
   {
    "duration": 2021,
    "start_time": "2022-03-28T07:35:32.660Z"
   },
   {
    "duration": 2012,
    "start_time": "2022-03-28T07:35:49.796Z"
   },
   {
    "duration": 7,
    "start_time": "2022-03-28T07:42:01.266Z"
   },
   {
    "duration": 3901,
    "start_time": "2022-03-28T07:42:18.488Z"
   },
   {
    "duration": 1996,
    "start_time": "2022-03-28T07:42:51.831Z"
   },
   {
    "duration": 3883,
    "start_time": "2022-03-28T07:43:12.672Z"
   },
   {
    "duration": 2038,
    "start_time": "2022-03-28T07:54:34.394Z"
   },
   {
    "duration": 2009,
    "start_time": "2022-03-28T07:55:10.105Z"
   },
   {
    "duration": 2791,
    "start_time": "2022-03-28T07:55:12.890Z"
   },
   {
    "duration": 134,
    "start_time": "2022-03-28T07:57:54.594Z"
   },
   {
    "duration": 11,
    "start_time": "2022-03-28T07:58:42.586Z"
   },
   {
    "duration": 3147,
    "start_time": "2022-03-28T07:58:44.705Z"
   },
   {
    "duration": 2575,
    "start_time": "2022-03-28T08:02:20.600Z"
   },
   {
    "duration": 2021,
    "start_time": "2022-03-28T08:03:35.737Z"
   },
   {
    "duration": 2078,
    "start_time": "2022-03-28T08:03:43.903Z"
   },
   {
    "duration": 7,
    "start_time": "2022-03-28T08:04:41.192Z"
   },
   {
    "duration": 2059,
    "start_time": "2022-03-28T08:04:43.398Z"
   },
   {
    "duration": 7,
    "start_time": "2022-03-28T08:04:58.623Z"
   },
   {
    "duration": 2142,
    "start_time": "2022-03-28T08:05:01.205Z"
   },
   {
    "duration": 3463,
    "start_time": "2022-03-28T08:05:25.287Z"
   },
   {
    "duration": 8,
    "start_time": "2022-03-28T08:05:50.342Z"
   },
   {
    "duration": 2008,
    "start_time": "2022-03-28T08:05:52.949Z"
   },
   {
    "duration": 2049,
    "start_time": "2022-03-28T08:06:35.174Z"
   },
   {
    "duration": 2004,
    "start_time": "2022-03-28T08:06:47.981Z"
   },
   {
    "duration": 8,
    "start_time": "2022-03-28T08:07:06.934Z"
   },
   {
    "duration": 2040,
    "start_time": "2022-03-28T08:07:09.685Z"
   },
   {
    "duration": 7,
    "start_time": "2022-03-28T08:07:40.158Z"
   },
   {
    "duration": 2069,
    "start_time": "2022-03-28T08:07:42.892Z"
   },
   {
    "duration": 8,
    "start_time": "2022-03-28T08:07:55.077Z"
   },
   {
    "duration": 3934,
    "start_time": "2022-03-28T08:07:58.068Z"
   },
   {
    "duration": 2104,
    "start_time": "2022-03-28T08:08:57.269Z"
   },
   {
    "duration": 7,
    "start_time": "2022-03-28T08:09:07.717Z"
   },
   {
    "duration": 2048,
    "start_time": "2022-03-28T08:09:09.436Z"
   },
   {
    "duration": 2583,
    "start_time": "2022-03-28T08:11:32.868Z"
   },
   {
    "duration": 8,
    "start_time": "2022-03-28T08:12:24.171Z"
   },
   {
    "duration": 1986,
    "start_time": "2022-03-28T08:12:26.202Z"
   },
   {
    "duration": 8,
    "start_time": "2022-03-28T08:12:34.562Z"
   },
   {
    "duration": 1975,
    "start_time": "2022-03-28T08:12:35.884Z"
   },
   {
    "duration": 1987,
    "start_time": "2022-03-28T08:13:11.426Z"
   },
   {
    "duration": 3827,
    "start_time": "2022-03-28T08:13:22.651Z"
   },
   {
    "duration": 11,
    "start_time": "2022-03-28T08:13:49.892Z"
   },
   {
    "duration": 3844,
    "start_time": "2022-03-28T08:13:51.994Z"
   },
   {
    "duration": 11,
    "start_time": "2022-03-28T08:14:22.107Z"
   },
   {
    "duration": 2030,
    "start_time": "2022-03-28T08:14:24.706Z"
   },
   {
    "duration": 8,
    "start_time": "2022-03-28T08:14:44.155Z"
   },
   {
    "duration": 2075,
    "start_time": "2022-03-28T08:14:46.940Z"
   },
   {
    "duration": 7,
    "start_time": "2022-03-28T08:15:18.026Z"
   },
   {
    "duration": 2028,
    "start_time": "2022-03-28T08:15:19.940Z"
   },
   {
    "duration": 10,
    "start_time": "2022-03-28T08:17:25.169Z"
   },
   {
    "duration": 2196,
    "start_time": "2022-03-28T08:17:26.961Z"
   },
   {
    "duration": 2023,
    "start_time": "2022-03-28T08:17:32.568Z"
   },
   {
    "duration": 8,
    "start_time": "2022-03-28T08:17:47.152Z"
   },
   {
    "duration": 2067,
    "start_time": "2022-03-28T08:18:01.065Z"
   },
   {
    "duration": 2082,
    "start_time": "2022-03-28T08:18:15.169Z"
   },
   {
    "duration": 3952,
    "start_time": "2022-03-28T08:18:23.385Z"
   },
   {
    "duration": 2034,
    "start_time": "2022-03-28T08:18:54.891Z"
   },
   {
    "duration": 6015,
    "start_time": "2022-03-28T08:20:37.433Z"
   },
   {
    "duration": 9,
    "start_time": "2022-03-28T08:21:10.415Z"
   },
   {
    "duration": 6085,
    "start_time": "2022-03-28T08:21:15.510Z"
   },
   {
    "duration": 1969,
    "start_time": "2022-03-28T08:44:39.941Z"
   },
   {
    "duration": 5,
    "start_time": "2022-03-28T08:44:41.913Z"
   },
   {
    "duration": 587,
    "start_time": "2022-03-28T08:44:41.921Z"
   },
   {
    "duration": 108,
    "start_time": "2022-03-28T08:44:42.511Z"
   },
   {
    "duration": 106,
    "start_time": "2022-03-28T08:44:42.622Z"
   },
   {
    "duration": 7,
    "start_time": "2022-03-28T08:44:42.730Z"
   },
   {
    "duration": 130,
    "start_time": "2022-03-28T08:44:42.739Z"
   },
   {
    "duration": 126,
    "start_time": "2022-03-28T08:44:42.872Z"
   },
   {
    "duration": 189,
    "start_time": "2022-03-28T08:44:43.002Z"
   },
   {
    "duration": 79,
    "start_time": "2022-03-28T08:44:43.196Z"
   },
   {
    "duration": 142,
    "start_time": "2022-03-28T08:44:43.278Z"
   },
   {
    "duration": 51,
    "start_time": "2022-03-28T08:44:43.422Z"
   },
   {
    "duration": 6032,
    "start_time": "2022-03-28T08:44:43.489Z"
   },
   {
    "duration": 13,
    "start_time": "2022-03-29T06:01:23.098Z"
   },
   {
    "duration": 4,
    "start_time": "2022-03-29T06:05:12.142Z"
   },
   {
    "duration": 3,
    "start_time": "2022-03-29T06:05:22.646Z"
   },
   {
    "duration": 3,
    "start_time": "2022-03-29T06:05:37.454Z"
   },
   {
    "duration": 3,
    "start_time": "2022-03-29T06:05:41.655Z"
   },
   {
    "duration": 1681,
    "start_time": "2022-03-29T06:16:04.603Z"
   },
   {
    "duration": 3,
    "start_time": "2022-03-29T06:16:06.286Z"
   },
   {
    "duration": 480,
    "start_time": "2022-03-29T06:16:06.291Z"
   },
   {
    "duration": 80,
    "start_time": "2022-03-29T06:16:06.773Z"
   },
   {
    "duration": 83,
    "start_time": "2022-03-29T06:16:06.855Z"
   },
   {
    "duration": 5,
    "start_time": "2022-03-29T06:16:06.940Z"
   },
   {
    "duration": 29,
    "start_time": "2022-03-29T06:16:06.946Z"
   },
   {
    "duration": 329,
    "start_time": "2022-03-29T06:16:12.905Z"
   },
   {
    "duration": 65,
    "start_time": "2022-03-29T06:16:37.569Z"
   },
   {
    "duration": 375,
    "start_time": "2022-03-29T06:16:56.472Z"
   },
   {
    "duration": 14,
    "start_time": "2022-03-29T06:25:12.189Z"
   },
   {
    "duration": 368,
    "start_time": "2022-03-29T06:26:02.877Z"
   },
   {
    "duration": 408,
    "start_time": "2022-03-29T06:27:26.348Z"
   },
   {
    "duration": 450,
    "start_time": "2022-03-29T06:27:52.396Z"
   },
   {
    "duration": 357,
    "start_time": "2022-03-29T06:28:14.980Z"
   },
   {
    "duration": 363,
    "start_time": "2022-03-29T06:29:27.084Z"
   },
   {
    "duration": 8,
    "start_time": "2022-03-29T06:32:56.226Z"
   },
   {
    "duration": 2,
    "start_time": "2022-03-29T06:33:21.874Z"
   },
   {
    "duration": 4,
    "start_time": "2022-03-29T06:35:49.352Z"
   },
   {
    "duration": 4,
    "start_time": "2022-03-29T06:53:53.961Z"
   },
   {
    "duration": 8,
    "start_time": "2022-03-29T06:53:53.968Z"
   },
   {
    "duration": 459,
    "start_time": "2022-03-29T06:53:53.977Z"
   },
   {
    "duration": 64,
    "start_time": "2022-03-29T06:53:54.438Z"
   },
   {
    "duration": 84,
    "start_time": "2022-03-29T06:53:54.503Z"
   },
   {
    "duration": 4,
    "start_time": "2022-03-29T06:53:54.589Z"
   },
   {
    "duration": 12,
    "start_time": "2022-03-29T06:53:54.595Z"
   },
   {
    "duration": 428,
    "start_time": "2022-03-29T06:53:54.609Z"
   },
   {
    "duration": 209,
    "start_time": "2022-03-29T06:53:55.040Z"
   },
   {
    "duration": 196,
    "start_time": "2022-03-29T06:53:55.254Z"
   },
   {
    "duration": 8,
    "start_time": "2022-03-29T06:53:55.531Z"
   },
   {
    "duration": 96,
    "start_time": "2022-03-29T06:53:55.543Z"
   },
   {
    "duration": 6,
    "start_time": "2022-03-29T06:53:55.641Z"
   },
   {
    "duration": 10,
    "start_time": "2022-03-29T06:53:55.649Z"
   },
   {
    "duration": 20,
    "start_time": "2022-03-29T06:59:13.459Z"
   },
   {
    "duration": 4,
    "start_time": "2022-03-29T06:59:42.709Z"
   },
   {
    "duration": 6,
    "start_time": "2022-03-29T06:59:43.629Z"
   },
   {
    "duration": 4393,
    "start_time": "2022-03-29T06:59:46.718Z"
   },
   {
    "duration": 1434,
    "start_time": "2022-03-29T07:00:59.763Z"
   },
   {
    "duration": 3,
    "start_time": "2022-03-29T07:01:01.200Z"
   },
   {
    "duration": 493,
    "start_time": "2022-03-29T07:01:01.205Z"
   },
   {
    "duration": 79,
    "start_time": "2022-03-29T07:01:01.701Z"
   },
   {
    "duration": 84,
    "start_time": "2022-03-29T07:01:01.781Z"
   },
   {
    "duration": 4,
    "start_time": "2022-03-29T07:01:01.867Z"
   },
   {
    "duration": 30,
    "start_time": "2022-03-29T07:01:01.873Z"
   },
   {
    "duration": 144,
    "start_time": "2022-03-29T07:01:01.905Z"
   },
   {
    "duration": 0,
    "start_time": "2022-03-29T07:01:02.051Z"
   },
   {
    "duration": 0,
    "start_time": "2022-03-29T07:01:02.053Z"
   },
   {
    "duration": 0,
    "start_time": "2022-03-29T07:01:02.054Z"
   },
   {
    "duration": 0,
    "start_time": "2022-03-29T07:01:02.055Z"
   },
   {
    "duration": 0,
    "start_time": "2022-03-29T07:01:02.057Z"
   },
   {
    "duration": 0,
    "start_time": "2022-03-29T07:01:02.058Z"
   },
   {
    "duration": 0,
    "start_time": "2022-03-29T07:01:02.060Z"
   },
   {
    "duration": 393,
    "start_time": "2022-03-29T07:01:45.248Z"
   },
   {
    "duration": 1545,
    "start_time": "2022-03-29T07:01:59.098Z"
   },
   {
    "duration": 4,
    "start_time": "2022-03-29T07:02:00.645Z"
   },
   {
    "duration": 464,
    "start_time": "2022-03-29T07:02:00.650Z"
   },
   {
    "duration": 82,
    "start_time": "2022-03-29T07:02:01.116Z"
   },
   {
    "duration": 93,
    "start_time": "2022-03-29T07:02:01.201Z"
   },
   {
    "duration": 5,
    "start_time": "2022-03-29T07:02:01.296Z"
   },
   {
    "duration": 31,
    "start_time": "2022-03-29T07:02:01.303Z"
   },
   {
    "duration": 410,
    "start_time": "2022-03-29T07:02:01.336Z"
   },
   {
    "duration": 208,
    "start_time": "2022-03-29T07:02:01.748Z"
   },
   {
    "duration": 196,
    "start_time": "2022-03-29T07:02:01.959Z"
   },
   {
    "duration": 19,
    "start_time": "2022-03-29T07:02:02.234Z"
   },
   {
    "duration": 81,
    "start_time": "2022-03-29T07:02:02.260Z"
   },
   {
    "duration": 17,
    "start_time": "2022-03-29T07:02:02.343Z"
   },
   {
    "duration": 35,
    "start_time": "2022-03-29T07:02:02.362Z"
   },
   {
    "duration": 4404,
    "start_time": "2022-03-29T07:02:02.399Z"
   },
   {
    "duration": 1448,
    "start_time": "2022-03-29T07:06:58.470Z"
   },
   {
    "duration": 3,
    "start_time": "2022-03-29T07:06:59.920Z"
   },
   {
    "duration": 483,
    "start_time": "2022-03-29T07:06:59.925Z"
   },
   {
    "duration": 82,
    "start_time": "2022-03-29T07:07:00.410Z"
   },
   {
    "duration": 87,
    "start_time": "2022-03-29T07:07:00.493Z"
   },
   {
    "duration": 4,
    "start_time": "2022-03-29T07:07:00.582Z"
   },
   {
    "duration": 546,
    "start_time": "2022-03-29T07:07:00.588Z"
   },
   {
    "duration": 12,
    "start_time": "2022-03-29T07:07:01.137Z"
   },
   {
    "duration": 108,
    "start_time": "2022-03-29T07:07:01.152Z"
   },
   {
    "duration": 22,
    "start_time": "2022-03-29T07:07:01.264Z"
   },
   {
    "duration": 4786,
    "start_time": "2022-03-29T07:07:01.288Z"
   },
   {
    "duration": 1440,
    "start_time": "2022-03-29T07:09:19.580Z"
   },
   {
    "duration": 3,
    "start_time": "2022-03-29T07:09:21.023Z"
   },
   {
    "duration": 492,
    "start_time": "2022-03-29T07:09:21.032Z"
   },
   {
    "duration": 67,
    "start_time": "2022-03-29T07:09:21.539Z"
   },
   {
    "duration": 96,
    "start_time": "2022-03-29T07:09:21.607Z"
   },
   {
    "duration": 4,
    "start_time": "2022-03-29T07:09:21.704Z"
   },
   {
    "duration": 416,
    "start_time": "2022-03-29T07:09:21.731Z"
   },
   {
    "duration": 84,
    "start_time": "2022-03-29T07:09:22.149Z"
   },
   {
    "duration": 101,
    "start_time": "2022-03-29T07:09:22.236Z"
   },
   {
    "duration": 22,
    "start_time": "2022-03-29T07:09:22.340Z"
   },
   {
    "duration": 4712,
    "start_time": "2022-03-29T07:09:22.364Z"
   },
   {
    "duration": 1924,
    "start_time": "2022-03-31T05:57:53.087Z"
   },
   {
    "duration": 5,
    "start_time": "2022-03-31T05:57:55.013Z"
   },
   {
    "duration": 480,
    "start_time": "2022-03-31T05:57:55.020Z"
   },
   {
    "duration": 93,
    "start_time": "2022-03-31T05:57:55.503Z"
   },
   {
    "duration": 98,
    "start_time": "2022-03-31T05:57:55.599Z"
   },
   {
    "duration": 6,
    "start_time": "2022-03-31T05:57:55.699Z"
   },
   {
    "duration": 286,
    "start_time": "2022-03-31T05:57:55.707Z"
   },
   {
    "duration": 75,
    "start_time": "2022-03-31T05:57:55.995Z"
   },
   {
    "duration": 10,
    "start_time": "2022-03-31T05:57:56.073Z"
   },
   {
    "duration": 8,
    "start_time": "2022-03-31T05:57:56.167Z"
   },
   {
    "duration": 6,
    "start_time": "2022-03-31T05:58:02.312Z"
   },
   {
    "duration": 2118,
    "start_time": "2022-03-31T05:59:07.313Z"
   },
   {
    "duration": 2074,
    "start_time": "2022-03-31T05:59:21.081Z"
   },
   {
    "duration": 2151,
    "start_time": "2022-03-31T05:59:49.377Z"
   },
   {
    "duration": 2252,
    "start_time": "2022-03-31T06:00:02.456Z"
   },
   {
    "duration": 2238,
    "start_time": "2022-03-31T06:01:25.080Z"
   },
   {
    "duration": 2257,
    "start_time": "2022-03-31T06:01:53.296Z"
   },
   {
    "duration": 2346,
    "start_time": "2022-03-31T06:02:02.872Z"
   },
   {
    "duration": 2267,
    "start_time": "2022-03-31T06:02:29.144Z"
   },
   {
    "duration": 17584,
    "start_time": "2022-03-31T06:03:19.343Z"
   }
  ],
  "kernelspec": {
   "display_name": "Python 3 (ipykernel)",
   "language": "python",
   "name": "python3"
  },
  "language_info": {
   "codemirror_mode": {
    "name": "ipython",
    "version": 3
   },
   "file_extension": ".py",
   "mimetype": "text/x-python",
   "name": "python",
   "nbconvert_exporter": "python",
   "pygments_lexer": "ipython3",
   "version": "3.9.7"
  },
  "toc": {
   "base_numbering": 1,
   "nav_menu": {},
   "number_sections": true,
   "sideBar": true,
   "skip_h1_title": true,
   "title_cell": "Table of Contents",
   "title_sidebar": "Contents",
   "toc_cell": false,
   "toc_position": {},
   "toc_section_display": true,
   "toc_window_display": true
  }
 },
 "nbformat": 4,
 "nbformat_minor": 2
}
