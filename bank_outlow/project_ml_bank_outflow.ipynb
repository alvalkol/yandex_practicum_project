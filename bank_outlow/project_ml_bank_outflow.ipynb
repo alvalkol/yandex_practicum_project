{
 "cells": [
  {
   "cell_type": "markdown",
   "metadata": {
    "toc": true
   },
   "source": [
    "<h1>Содержание<span class=\"tocSkip\"></span></h1>\n",
    "<div class=\"toc\"><ul class=\"toc-item\"><li><span><a href=\"#Подготовка-данных\" data-toc-modified-id=\"Подготовка-данных-1\"><span class=\"toc-item-num\">1&nbsp;&nbsp;</span>Подготовка данных</a></span><ul class=\"toc-item\"><li><span><a href=\"#Общая-информация\" data-toc-modified-id=\"Общая-информация-1.1\"><span class=\"toc-item-num\">1.1&nbsp;&nbsp;</span>Общая информация</a></span></li><li><span><a href=\"#Обаботка-данных\" data-toc-modified-id=\"Обаботка-данных-1.2\"><span class=\"toc-item-num\">1.2&nbsp;&nbsp;</span>Обаботка данных</a></span></li><li><span><a href=\"#Вывод\" data-toc-modified-id=\"Вывод-1.3\"><span class=\"toc-item-num\">1.3&nbsp;&nbsp;</span>Вывод</a></span></li></ul></li><li><span><a href=\"#Исследование-задачи\" data-toc-modified-id=\"Исследование-задачи-2\"><span class=\"toc-item-num\">2&nbsp;&nbsp;</span>Исследование задачи</a></span><ul class=\"toc-item\"><li><span><a href=\"#Определение-дисбаланса-классов\" data-toc-modified-id=\"Определение-дисбаланса-классов-2.1\"><span class=\"toc-item-num\">2.1&nbsp;&nbsp;</span>Определение дисбаланса классов</a></span></li><li><span><a href=\"#F-1-для-разных-моделей\" data-toc-modified-id=\"F-1-для-разных-моделей-2.2\"><span class=\"toc-item-num\">2.2&nbsp;&nbsp;</span>F-1 для разных моделей</a></span></li><li><span><a href=\"#Вывод\" data-toc-modified-id=\"Вывод-2.3\"><span class=\"toc-item-num\">2.3&nbsp;&nbsp;</span>Вывод</a></span></li></ul></li><li><span><a href=\"#Борьба-с-дисбалансом\" data-toc-modified-id=\"Борьба-с-дисбалансом-3\"><span class=\"toc-item-num\">3&nbsp;&nbsp;</span>Борьба с дисбалансом</a></span><ul class=\"toc-item\"><li><span><a href=\"#Взвешивание-классов\" data-toc-modified-id=\"Взвешивание-классов-3.1\"><span class=\"toc-item-num\">3.1&nbsp;&nbsp;</span>Взвешивание классов</a></span></li><li><span><a href=\"#Upsampling\" data-toc-modified-id=\"Upsampling-3.2\"><span class=\"toc-item-num\">3.2&nbsp;&nbsp;</span>Upsampling</a></span></li><li><span><a href=\"#ROC-кривая\" data-toc-modified-id=\"ROC-кривая-3.3\"><span class=\"toc-item-num\">3.3&nbsp;&nbsp;</span>ROC-кривая</a></span></li><li><span><a href=\"#Вывод\" data-toc-modified-id=\"Вывод-3.4\"><span class=\"toc-item-num\">3.4&nbsp;&nbsp;</span>Вывод</a></span></li></ul></li><li><span><a href=\"#Тестирование-модели\" data-toc-modified-id=\"Тестирование-модели-4\"><span class=\"toc-item-num\">4&nbsp;&nbsp;</span>Тестирование модели</a></span></li><li><span><a href=\"#Общий-вывод\" data-toc-modified-id=\"Общий-вывод-5\"><span class=\"toc-item-num\">5&nbsp;&nbsp;</span>Общий вывод</a></span></li></ul></div>"
   ]
  },
  {
   "cell_type": "markdown",
   "metadata": {},
   "source": [
    "# Отток клиентов"
   ]
  },
  {
   "cell_type": "markdown",
   "metadata": {},
   "source": [
    "Нужно спрогнозировать, уйдёт клиент из банка в ближайшее время или нет. Вам предоставлены исторические данные о поведении клиентов и расторжении договоров с банком. \n",
    "\n",
    "Постройте модель с предельно большим значением *F1*-меры.\n",
    "\n",
    "Дополнительно измеряйте *AUC-ROC*, сравнивайте её значение с *F1*-мерой.\n",
    "\n",
    "Источник данных: [https://www.kaggle.com/barelydedicated/bank-customer-churn-modeling](https://www.kaggle.com/barelydedicated/bank-customer-churn-modeling)"
   ]
  },
  {
   "cell_type": "markdown",
   "metadata": {},
   "source": [
    "## Подготовка данных"
   ]
  },
  {
   "cell_type": "markdown",
   "metadata": {},
   "source": [
    "### Общая информация"
   ]
  },
  {
   "cell_type": "code",
   "execution_count": 1,
   "metadata": {},
   "outputs": [],
   "source": [
    "import pandas as pd\n",
    "import math as mt\n",
    "import numpy as np\n",
    "from sklearn.model_selection import train_test_split\n",
    "from sklearn.tree import DecisionTreeClassifier\n",
    "from sklearn.ensemble import RandomForestClassifier\n",
    "from sklearn.linear_model import LogisticRegression\n",
    "from sklearn.metrics import accuracy_score, f1_score, roc_curve, roc_auc_score, precision_score, recall_score\n",
    "from sklearn.dummy import DummyClassifier\n",
    "from sklearn.preprocessing import StandardScaler\n",
    "from sklearn.utils import shuffle\n",
    "import matplotlib.pyplot as plt\n",
    "\n",
    "import warnings\n",
    "warnings.filterwarnings('ignore')"
   ]
  },
  {
   "cell_type": "code",
   "execution_count": 2,
   "metadata": {
    "scrolled": false
   },
   "outputs": [
    {
     "name": "stdout",
     "output_type": "stream",
     "text": [
      "<class 'pandas.core.frame.DataFrame'>\n",
      "RangeIndex: 10000 entries, 0 to 9999\n",
      "Data columns (total 14 columns):\n",
      " #   Column           Non-Null Count  Dtype  \n",
      "---  ------           --------------  -----  \n",
      " 0   RowNumber        10000 non-null  int64  \n",
      " 1   CustomerId       10000 non-null  int64  \n",
      " 2   Surname          10000 non-null  object \n",
      " 3   CreditScore      10000 non-null  int64  \n",
      " 4   Geography        10000 non-null  object \n",
      " 5   Gender           10000 non-null  object \n",
      " 6   Age              10000 non-null  int64  \n",
      " 7   Tenure           9091 non-null   float64\n",
      " 8   Balance          10000 non-null  float64\n",
      " 9   NumOfProducts    10000 non-null  int64  \n",
      " 10  HasCrCard        10000 non-null  int64  \n",
      " 11  IsActiveMember   10000 non-null  int64  \n",
      " 12  EstimatedSalary  10000 non-null  float64\n",
      " 13  Exited           10000 non-null  int64  \n",
      "dtypes: float64(3), int64(8), object(3)\n",
      "memory usage: 1.1+ MB\n"
     ]
    },
    {
     "data": {
      "text/html": [
       "<div>\n",
       "<style scoped>\n",
       "    .dataframe tbody tr th:only-of-type {\n",
       "        vertical-align: middle;\n",
       "    }\n",
       "\n",
       "    .dataframe tbody tr th {\n",
       "        vertical-align: top;\n",
       "    }\n",
       "\n",
       "    .dataframe thead th {\n",
       "        text-align: right;\n",
       "    }\n",
       "</style>\n",
       "<table border=\"1\" class=\"dataframe\">\n",
       "  <thead>\n",
       "    <tr style=\"text-align: right;\">\n",
       "      <th></th>\n",
       "      <th>RowNumber</th>\n",
       "      <th>CustomerId</th>\n",
       "      <th>Surname</th>\n",
       "      <th>CreditScore</th>\n",
       "      <th>Geography</th>\n",
       "      <th>Gender</th>\n",
       "      <th>Age</th>\n",
       "      <th>Tenure</th>\n",
       "      <th>Balance</th>\n",
       "      <th>NumOfProducts</th>\n",
       "      <th>HasCrCard</th>\n",
       "      <th>IsActiveMember</th>\n",
       "      <th>EstimatedSalary</th>\n",
       "      <th>Exited</th>\n",
       "    </tr>\n",
       "  </thead>\n",
       "  <tbody>\n",
       "    <tr>\n",
       "      <th>0</th>\n",
       "      <td>1</td>\n",
       "      <td>15634602</td>\n",
       "      <td>Hargrave</td>\n",
       "      <td>619</td>\n",
       "      <td>France</td>\n",
       "      <td>Female</td>\n",
       "      <td>42</td>\n",
       "      <td>2.0</td>\n",
       "      <td>0.00</td>\n",
       "      <td>1</td>\n",
       "      <td>1</td>\n",
       "      <td>1</td>\n",
       "      <td>101348.88</td>\n",
       "      <td>1</td>\n",
       "    </tr>\n",
       "    <tr>\n",
       "      <th>1</th>\n",
       "      <td>2</td>\n",
       "      <td>15647311</td>\n",
       "      <td>Hill</td>\n",
       "      <td>608</td>\n",
       "      <td>Spain</td>\n",
       "      <td>Female</td>\n",
       "      <td>41</td>\n",
       "      <td>1.0</td>\n",
       "      <td>83807.86</td>\n",
       "      <td>1</td>\n",
       "      <td>0</td>\n",
       "      <td>1</td>\n",
       "      <td>112542.58</td>\n",
       "      <td>0</td>\n",
       "    </tr>\n",
       "    <tr>\n",
       "      <th>2</th>\n",
       "      <td>3</td>\n",
       "      <td>15619304</td>\n",
       "      <td>Onio</td>\n",
       "      <td>502</td>\n",
       "      <td>France</td>\n",
       "      <td>Female</td>\n",
       "      <td>42</td>\n",
       "      <td>8.0</td>\n",
       "      <td>159660.80</td>\n",
       "      <td>3</td>\n",
       "      <td>1</td>\n",
       "      <td>0</td>\n",
       "      <td>113931.57</td>\n",
       "      <td>1</td>\n",
       "    </tr>\n",
       "    <tr>\n",
       "      <th>3</th>\n",
       "      <td>4</td>\n",
       "      <td>15701354</td>\n",
       "      <td>Boni</td>\n",
       "      <td>699</td>\n",
       "      <td>France</td>\n",
       "      <td>Female</td>\n",
       "      <td>39</td>\n",
       "      <td>1.0</td>\n",
       "      <td>0.00</td>\n",
       "      <td>2</td>\n",
       "      <td>0</td>\n",
       "      <td>0</td>\n",
       "      <td>93826.63</td>\n",
       "      <td>0</td>\n",
       "    </tr>\n",
       "    <tr>\n",
       "      <th>4</th>\n",
       "      <td>5</td>\n",
       "      <td>15737888</td>\n",
       "      <td>Mitchell</td>\n",
       "      <td>850</td>\n",
       "      <td>Spain</td>\n",
       "      <td>Female</td>\n",
       "      <td>43</td>\n",
       "      <td>2.0</td>\n",
       "      <td>125510.82</td>\n",
       "      <td>1</td>\n",
       "      <td>1</td>\n",
       "      <td>1</td>\n",
       "      <td>79084.10</td>\n",
       "      <td>0</td>\n",
       "    </tr>\n",
       "  </tbody>\n",
       "</table>\n",
       "</div>"
      ],
      "text/plain": [
       "   RowNumber  CustomerId   Surname  CreditScore Geography  Gender  Age  \\\n",
       "0          1    15634602  Hargrave          619    France  Female   42   \n",
       "1          2    15647311      Hill          608     Spain  Female   41   \n",
       "2          3    15619304      Onio          502    France  Female   42   \n",
       "3          4    15701354      Boni          699    France  Female   39   \n",
       "4          5    15737888  Mitchell          850     Spain  Female   43   \n",
       "\n",
       "   Tenure    Balance  NumOfProducts  HasCrCard  IsActiveMember  \\\n",
       "0     2.0       0.00              1          1               1   \n",
       "1     1.0   83807.86              1          0               1   \n",
       "2     8.0  159660.80              3          1               0   \n",
       "3     1.0       0.00              2          0               0   \n",
       "4     2.0  125510.82              1          1               1   \n",
       "\n",
       "   EstimatedSalary  Exited  \n",
       "0        101348.88       1  \n",
       "1        112542.58       0  \n",
       "2        113931.57       1  \n",
       "3         93826.63       0  \n",
       "4         79084.10       0  "
      ]
     },
     "metadata": {},
     "output_type": "display_data"
    },
    {
     "data": {
      "text/plain": [
       "None"
      ]
     },
     "metadata": {},
     "output_type": "display_data"
    },
    {
     "data": {
      "text/html": [
       "<div>\n",
       "<style scoped>\n",
       "    .dataframe tbody tr th:only-of-type {\n",
       "        vertical-align: middle;\n",
       "    }\n",
       "\n",
       "    .dataframe tbody tr th {\n",
       "        vertical-align: top;\n",
       "    }\n",
       "\n",
       "    .dataframe thead th {\n",
       "        text-align: right;\n",
       "    }\n",
       "</style>\n",
       "<table border=\"1\" class=\"dataframe\">\n",
       "  <thead>\n",
       "    <tr style=\"text-align: right;\">\n",
       "      <th></th>\n",
       "      <th>RowNumber</th>\n",
       "      <th>CustomerId</th>\n",
       "      <th>CreditScore</th>\n",
       "      <th>Age</th>\n",
       "      <th>Tenure</th>\n",
       "      <th>Balance</th>\n",
       "      <th>NumOfProducts</th>\n",
       "      <th>HasCrCard</th>\n",
       "      <th>IsActiveMember</th>\n",
       "      <th>EstimatedSalary</th>\n",
       "      <th>Exited</th>\n",
       "    </tr>\n",
       "  </thead>\n",
       "  <tbody>\n",
       "    <tr>\n",
       "      <th>count</th>\n",
       "      <td>10000.00000</td>\n",
       "      <td>1.000000e+04</td>\n",
       "      <td>10000.000000</td>\n",
       "      <td>10000.000000</td>\n",
       "      <td>9091.000000</td>\n",
       "      <td>10000.000000</td>\n",
       "      <td>10000.000000</td>\n",
       "      <td>10000.00000</td>\n",
       "      <td>10000.000000</td>\n",
       "      <td>10000.000000</td>\n",
       "      <td>10000.000000</td>\n",
       "    </tr>\n",
       "    <tr>\n",
       "      <th>mean</th>\n",
       "      <td>5000.50000</td>\n",
       "      <td>1.569094e+07</td>\n",
       "      <td>650.528800</td>\n",
       "      <td>38.921800</td>\n",
       "      <td>4.997690</td>\n",
       "      <td>76485.889288</td>\n",
       "      <td>1.530200</td>\n",
       "      <td>0.70550</td>\n",
       "      <td>0.515100</td>\n",
       "      <td>100090.239881</td>\n",
       "      <td>0.203700</td>\n",
       "    </tr>\n",
       "    <tr>\n",
       "      <th>std</th>\n",
       "      <td>2886.89568</td>\n",
       "      <td>7.193619e+04</td>\n",
       "      <td>96.653299</td>\n",
       "      <td>10.487806</td>\n",
       "      <td>2.894723</td>\n",
       "      <td>62397.405202</td>\n",
       "      <td>0.581654</td>\n",
       "      <td>0.45584</td>\n",
       "      <td>0.499797</td>\n",
       "      <td>57510.492818</td>\n",
       "      <td>0.402769</td>\n",
       "    </tr>\n",
       "    <tr>\n",
       "      <th>min</th>\n",
       "      <td>1.00000</td>\n",
       "      <td>1.556570e+07</td>\n",
       "      <td>350.000000</td>\n",
       "      <td>18.000000</td>\n",
       "      <td>0.000000</td>\n",
       "      <td>0.000000</td>\n",
       "      <td>1.000000</td>\n",
       "      <td>0.00000</td>\n",
       "      <td>0.000000</td>\n",
       "      <td>11.580000</td>\n",
       "      <td>0.000000</td>\n",
       "    </tr>\n",
       "    <tr>\n",
       "      <th>25%</th>\n",
       "      <td>2500.75000</td>\n",
       "      <td>1.562853e+07</td>\n",
       "      <td>584.000000</td>\n",
       "      <td>32.000000</td>\n",
       "      <td>2.000000</td>\n",
       "      <td>0.000000</td>\n",
       "      <td>1.000000</td>\n",
       "      <td>0.00000</td>\n",
       "      <td>0.000000</td>\n",
       "      <td>51002.110000</td>\n",
       "      <td>0.000000</td>\n",
       "    </tr>\n",
       "    <tr>\n",
       "      <th>50%</th>\n",
       "      <td>5000.50000</td>\n",
       "      <td>1.569074e+07</td>\n",
       "      <td>652.000000</td>\n",
       "      <td>37.000000</td>\n",
       "      <td>5.000000</td>\n",
       "      <td>97198.540000</td>\n",
       "      <td>1.000000</td>\n",
       "      <td>1.00000</td>\n",
       "      <td>1.000000</td>\n",
       "      <td>100193.915000</td>\n",
       "      <td>0.000000</td>\n",
       "    </tr>\n",
       "    <tr>\n",
       "      <th>75%</th>\n",
       "      <td>7500.25000</td>\n",
       "      <td>1.575323e+07</td>\n",
       "      <td>718.000000</td>\n",
       "      <td>44.000000</td>\n",
       "      <td>7.000000</td>\n",
       "      <td>127644.240000</td>\n",
       "      <td>2.000000</td>\n",
       "      <td>1.00000</td>\n",
       "      <td>1.000000</td>\n",
       "      <td>149388.247500</td>\n",
       "      <td>0.000000</td>\n",
       "    </tr>\n",
       "    <tr>\n",
       "      <th>max</th>\n",
       "      <td>10000.00000</td>\n",
       "      <td>1.581569e+07</td>\n",
       "      <td>850.000000</td>\n",
       "      <td>92.000000</td>\n",
       "      <td>10.000000</td>\n",
       "      <td>250898.090000</td>\n",
       "      <td>4.000000</td>\n",
       "      <td>1.00000</td>\n",
       "      <td>1.000000</td>\n",
       "      <td>199992.480000</td>\n",
       "      <td>1.000000</td>\n",
       "    </tr>\n",
       "  </tbody>\n",
       "</table>\n",
       "</div>"
      ],
      "text/plain": [
       "         RowNumber    CustomerId   CreditScore           Age       Tenure  \\\n",
       "count  10000.00000  1.000000e+04  10000.000000  10000.000000  9091.000000   \n",
       "mean    5000.50000  1.569094e+07    650.528800     38.921800     4.997690   \n",
       "std     2886.89568  7.193619e+04     96.653299     10.487806     2.894723   \n",
       "min        1.00000  1.556570e+07    350.000000     18.000000     0.000000   \n",
       "25%     2500.75000  1.562853e+07    584.000000     32.000000     2.000000   \n",
       "50%     5000.50000  1.569074e+07    652.000000     37.000000     5.000000   \n",
       "75%     7500.25000  1.575323e+07    718.000000     44.000000     7.000000   \n",
       "max    10000.00000  1.581569e+07    850.000000     92.000000    10.000000   \n",
       "\n",
       "             Balance  NumOfProducts    HasCrCard  IsActiveMember  \\\n",
       "count   10000.000000   10000.000000  10000.00000    10000.000000   \n",
       "mean    76485.889288       1.530200      0.70550        0.515100   \n",
       "std     62397.405202       0.581654      0.45584        0.499797   \n",
       "min         0.000000       1.000000      0.00000        0.000000   \n",
       "25%         0.000000       1.000000      0.00000        0.000000   \n",
       "50%     97198.540000       1.000000      1.00000        1.000000   \n",
       "75%    127644.240000       2.000000      1.00000        1.000000   \n",
       "max    250898.090000       4.000000      1.00000        1.000000   \n",
       "\n",
       "       EstimatedSalary        Exited  \n",
       "count     10000.000000  10000.000000  \n",
       "mean     100090.239881      0.203700  \n",
       "std       57510.492818      0.402769  \n",
       "min          11.580000      0.000000  \n",
       "25%       51002.110000      0.000000  \n",
       "50%      100193.915000      0.000000  \n",
       "75%      149388.247500      0.000000  \n",
       "max      199992.480000      1.000000  "
      ]
     },
     "metadata": {},
     "output_type": "display_data"
    },
    {
     "data": {
      "text/plain": [
       "RowNumber            0\n",
       "CustomerId           0\n",
       "Surname              0\n",
       "CreditScore          0\n",
       "Geography            0\n",
       "Gender               0\n",
       "Age                  0\n",
       "Tenure             909\n",
       "Balance              0\n",
       "NumOfProducts        0\n",
       "HasCrCard            0\n",
       "IsActiveMember       0\n",
       "EstimatedSalary      0\n",
       "Exited               0\n",
       "dtype: int64"
      ]
     },
     "metadata": {},
     "output_type": "display_data"
    }
   ],
   "source": [
    "df = pd.read_csv('/datasets/Churn.csv')\n",
    "\n",
    "display(df.head(), df.info(), df.describe(), df.isna().sum())"
   ]
  },
  {
   "cell_type": "markdown",
   "metadata": {},
   "source": [
    "### Обаботка данных"
   ]
  },
  {
   "cell_type": "code",
   "execution_count": 3,
   "metadata": {},
   "outputs": [
    {
     "name": "stdout",
     "output_type": "stream",
     "text": [
      "<class 'pandas.core.frame.DataFrame'>\n",
      "RangeIndex: 10000 entries, 0 to 9999\n",
      "Data columns (total 11 columns):\n",
      " #   Column           Non-Null Count  Dtype  \n",
      "---  ------           --------------  -----  \n",
      " 0   CreditScore      10000 non-null  int64  \n",
      " 1   Geography        10000 non-null  object \n",
      " 2   Gender           10000 non-null  object \n",
      " 3   Age              10000 non-null  int64  \n",
      " 4   Tenure           10000 non-null  float64\n",
      " 5   Balance          10000 non-null  float64\n",
      " 6   NumOfProducts    10000 non-null  int64  \n",
      " 7   HasCrCard        10000 non-null  int64  \n",
      " 8   IsActiveMember   10000 non-null  int64  \n",
      " 9   EstimatedSalary  10000 non-null  float64\n",
      " 10  Exited           10000 non-null  int64  \n",
      "dtypes: float64(3), int64(6), object(2)\n",
      "memory usage: 859.5+ KB\n"
     ]
    }
   ],
   "source": [
    "# заполним пропуске в столбце Tenure медианным значением\n",
    "df['Tenure'] = df['Tenure'].fillna(df['Tenure'].median())\n",
    "\n",
    "# удаляем столбцы RowNumber, Surname, CustomerId так как они не несут информации для обучения модели\n",
    "df = df.drop(columns=['RowNumber', 'Surname', 'CustomerId'], axis=1)\n",
    "\n",
    "df.info()"
   ]
  },
  {
   "cell_type": "code",
   "execution_count": 4,
   "metadata": {},
   "outputs": [
    {
     "data": {
      "text/plain": [
       "France     5014\n",
       "Germany    2509\n",
       "Spain      2477\n",
       "Name: Geography, dtype: int64"
      ]
     },
     "execution_count": 4,
     "metadata": {},
     "output_type": "execute_result"
    }
   ],
   "source": [
    "# оценка количества дополнительных столбцов при прямом кодировании стоблца Geography\n",
    "df['Geography'].value_counts()"
   ]
  },
  {
   "cell_type": "code",
   "execution_count": 5,
   "metadata": {},
   "outputs": [],
   "source": [
    "# прямое кодирование столбцов Geography и Gender\n",
    "df = pd.get_dummies(df, drop_first=True)"
   ]
  },
  {
   "cell_type": "code",
   "execution_count": 6,
   "metadata": {
    "scrolled": true
   },
   "outputs": [
    {
     "data": {
      "text/plain": [
       "(array([4781, 1219]), array([1573,  427]), array([1609,  391]))"
      ]
     },
     "execution_count": 6,
     "metadata": {},
     "output_type": "execute_result"
    }
   ],
   "source": [
    "features = df.drop(['Exited'], axis=1)\n",
    "target = df['Exited']\n",
    "\n",
    "# Выделяем тестовую выбоку - 20% от всех данных\n",
    "features_train, features_test, target_train, target_test = train_test_split(\n",
    "    features, target, test_size=0.2, random_state=12345)\n",
    "\n",
    "# выделяем валидационную выборку из обучающей выборки - 20% от всех данных, но уже из 80% данных\n",
    "features_train, features_valid, target_train, target_valid = train_test_split(\n",
    "    features_train, target_train, test_size=0.25, random_state=12345)\n",
    "\n",
    "np.bincount(target_train), np.bincount(target_test), np.bincount(target_valid)"
   ]
  },
  {
   "cell_type": "code",
   "execution_count": 7,
   "metadata": {},
   "outputs": [],
   "source": [
    "features = df.drop(['Exited'], axis=1)\n",
    "target = df['Exited']\n",
    "\n",
    "# Выделяем тестовую выбоку - 20% от всех данных\n",
    "features_train, features_test, target_train, target_test = train_test_split(\n",
    "    features, target, test_size=0.2, random_state=12345, stratify=target)\n",
    "\n",
    "# выделяем валидационную выборку из обучающей выборки - 20% от всех данных, но уже из 80% данных\n",
    "features_train, features_valid, target_train, target_valid = train_test_split(\n",
    "    features_train, target_train, test_size=0.25, random_state=12345, stratify=target_train)"
   ]
  },
  {
   "cell_type": "code",
   "execution_count": 8,
   "metadata": {},
   "outputs": [
    {
     "data": {
      "text/plain": [
       "(array([4777, 1223]), array([1593,  407]), array([1593,  407]))"
      ]
     },
     "execution_count": 8,
     "metadata": {},
     "output_type": "execute_result"
    }
   ],
   "source": [
    "np.bincount(target_train), np.bincount(target_test), np.bincount(target_valid)"
   ]
  },
  {
   "cell_type": "code",
   "execution_count": 9,
   "metadata": {
    "scrolled": true
   },
   "outputs": [
    {
     "data": {
      "text/plain": [
       "((6000, 11), (2000, 11), (2000, 11))"
      ]
     },
     "execution_count": 9,
     "metadata": {},
     "output_type": "execute_result"
    }
   ],
   "source": [
    "features_train.shape, features_valid.shape, features_test.shape"
   ]
  },
  {
   "cell_type": "code",
   "execution_count": 10,
   "metadata": {},
   "outputs": [],
   "source": [
    "# стандартизация количественных данных\n",
    "numeric = ['CreditScore', 'Age', 'Tenure', 'Balance', 'NumOfProducts', 'EstimatedSalary']\n",
    "\n",
    "scaler = StandardScaler()\n",
    "scaler.fit(features_train[numeric])\n",
    "features_train[numeric] = scaler.transform(features_train[numeric])\n",
    "features_valid[numeric] = scaler.transform(features_valid[numeric])\n",
    "features_test[numeric] = scaler.transform(features_test[numeric])"
   ]
  },
  {
   "cell_type": "markdown",
   "metadata": {},
   "source": [
    "### Вывод"
   ]
  },
  {
   "cell_type": "markdown",
   "metadata": {},
   "source": [
    "- В столбце Tenure пропуски заполнены медианным значением.\n",
    "- Удалены столбцы 'RowNumber', 'Surname', 'CustomerId', т.к. они не являются признаками для обучения модели."
   ]
  },
  {
   "cell_type": "markdown",
   "metadata": {},
   "source": [
    "## Исследование задачи"
   ]
  },
  {
   "cell_type": "markdown",
   "metadata": {},
   "source": [
    "### Определение дисбаланса классов"
   ]
  },
  {
   "cell_type": "code",
   "execution_count": 11,
   "metadata": {},
   "outputs": [
    {
     "data": {
      "text/plain": [
       "<AxesSubplot:>"
      ]
     },
     "execution_count": 11,
     "metadata": {},
     "output_type": "execute_result"
    },
    {
     "data": {
      "image/png": "[encoded data removed]",
      "text/plain": [
       "<Figure size 432x288 with 1 Axes>"
      ]
     },
     "metadata": {
      "needs_background": "light"
     },
     "output_type": "display_data"
    }
   ],
   "source": [
    "target_train.value_counts(normalize=True).plot(kind='bar', grid=True)"
   ]
  },
  {
   "cell_type": "markdown",
   "metadata": {},
   "source": [
    "### F-1 для разных моделей"
   ]
  },
  {
   "cell_type": "code",
   "execution_count": 12,
   "metadata": {},
   "outputs": [
    {
     "name": "stdout",
     "output_type": "stream",
     "text": [
      "F1 лучшей модели: 0.5816618911174785\n",
      "Max_depth: 8\n"
     ]
    }
   ],
   "source": [
    "# Дерево решений\n",
    "best_result = 0\n",
    "best_depth = 0\n",
    "for depth in range(1, 20):\n",
    "    model = DecisionTreeClassifier(random_state=12345, max_depth=depth) \n",
    "    model.fit(features_train, target_train)\n",
    "    predictions = model.predict(features_valid)\n",
    "    result = f1_score(target_valid, predictions)\n",
    "    if result > best_result:\n",
    "        best_model_tree = model\n",
    "        best_result = result\n",
    "        best_depth = depth\n",
    "        \n",
    "print(\"F1 лучшей модели:\", best_result)\n",
    "print(\"Max_depth:\", best_depth)"
   ]
  },
  {
   "cell_type": "code",
   "execution_count": 13,
   "metadata": {},
   "outputs": [
    {
     "name": "stdout",
     "output_type": "stream",
     "text": [
      "F1 лучшей модели: 0.5869894099848714\n",
      "n_estimators: 37\n",
      "max_depth: 15\n"
     ]
    }
   ],
   "source": [
    "# Случайный лес\n",
    "best_result = 0\n",
    "best_est = 0\n",
    "best_depth = 0\n",
    "for est in range(30, 100):\n",
    "    for depth in range(10, 20):\n",
    "        model = RandomForestClassifier(random_state=12345, max_depth=depth, n_estimators=est)\n",
    "        model.fit(features_train, target_train)\n",
    "        predictions = model.predict(features_valid)\n",
    "        result = f1_score(target_valid, predictions)\n",
    "        if result > best_result:\n",
    "            best_model_forest = model\n",
    "            best_result = result\n",
    "            best_est = est\n",
    "            best_depth = depth\n",
    "        \n",
    "print(\"F1 лучшей модели:\", best_result)\n",
    "print(\"n_estimators:\", best_est)\n",
    "print('max_depth:', best_depth)"
   ]
  },
  {
   "cell_type": "code",
   "execution_count": 14,
   "metadata": {},
   "outputs": [
    {
     "name": "stdout",
     "output_type": "stream",
     "text": [
      "F1 логистической регрессии на валидационной выборке: 0.3214953271028037\n"
     ]
    }
   ],
   "source": [
    "# Логистическая регрессия\n",
    "model= LogisticRegression(random_state=12345)\n",
    "model.fit(features_train, target_train)\n",
    "predictions = model.predict(features_valid)\n",
    "result = f1_score(target_valid, predictions)\n",
    "\n",
    "print(\"F1 логистической регрессии на валидационной выборке:\", result)"
   ]
  },
  {
   "cell_type": "markdown",
   "metadata": {},
   "source": [
    "### Вывод"
   ]
  },
  {
   "cell_type": "markdown",
   "metadata": {},
   "source": [
    "- Определён дисбаланс классов для обучающей выборки: 1:4\n",
    "- Максимальное значение F1 метрики, при дисбалансе классов, показала модель RandomForestClassifier(random_state=12345, max_depth=15, n_estimators=37). Значение F1: 0.587"
   ]
  },
  {
   "cell_type": "markdown",
   "metadata": {},
   "source": [
    "## Борьба с дисбалансом"
   ]
  },
  {
   "cell_type": "markdown",
   "metadata": {},
   "source": [
    "### Взвешивание классов"
   ]
  },
  {
   "cell_type": "code",
   "execution_count": 15,
   "metadata": {},
   "outputs": [
    {
     "name": "stdout",
     "output_type": "stream",
     "text": [
      "F1 лучшей модели: 0.5747330960854092\n",
      "Max_depth: 6\n"
     ]
    }
   ],
   "source": [
    "# Дерево решений\n",
    "best_result = 0\n",
    "best_depth = 0\n",
    "for depth in range(1, 20):\n",
    "    model = DecisionTreeClassifier(random_state=12345, max_depth=depth, class_weight='balanced') \n",
    "    model.fit(features_train, target_train)\n",
    "    predictions = model.predict(features_valid)\n",
    "    result = f1_score(target_valid, predictions)\n",
    "    if result > best_result:\n",
    "        best_model_tree = model\n",
    "        best_result = result\n",
    "        best_depth = depth\n",
    "        \n",
    "print(\"F1 лучшей модели:\", best_result)\n",
    "print(\"Max_depth:\", best_depth)"
   ]
  },
  {
   "cell_type": "code",
   "execution_count": 16,
   "metadata": {},
   "outputs": [
    {
     "name": "stdout",
     "output_type": "stream",
     "text": [
      "F1 лучшей модели: 0.6439024390243903\n",
      "n_estimators: 60\n",
      "max_depth: 10\n"
     ]
    }
   ],
   "source": [
    "# Случайный лес\n",
    "best_result = 0\n",
    "best_est = 0\n",
    "best_depth = 0\n",
    "for est in range(30, 100):\n",
    "    for depth in range(10, 20):\n",
    "        model = RandomForestClassifier(random_state=12345, max_depth=depth, n_estimators=est, class_weight='balanced')\n",
    "        model.fit(features_train, target_train)\n",
    "        predictions = model.predict(features_valid)\n",
    "        result = f1_score(target_valid, predictions)\n",
    "        if result > best_result:\n",
    "            best_model_forest = model\n",
    "            best_result = result\n",
    "            best_est = est\n",
    "            best_depth = depth\n",
    "        \n",
    "print(\"F1 лучшей модели:\", best_result)\n",
    "print(\"n_estimators:\", best_est)\n",
    "print('max_depth:', best_depth)"
   ]
  },
  {
   "cell_type": "code",
   "execution_count": 17,
   "metadata": {},
   "outputs": [
    {
     "name": "stdout",
     "output_type": "stream",
     "text": [
      "F1 логистической регрессии на валидационной выборке: 0.5113043478260869\n"
     ]
    }
   ],
   "source": [
    "# Логистическая регрессия\n",
    "model= LogisticRegression(random_state=12345, class_weight='balanced')\n",
    "model.fit(features_train, target_train)\n",
    "predictions = model.predict(features_valid)\n",
    "result = f1_score(target_valid, predictions)\n",
    "\n",
    "print(\"F1 логистической регрессии на валидационной выборке:\", result)"
   ]
  },
  {
   "cell_type": "markdown",
   "metadata": {},
   "source": [
    "### Upsampling"
   ]
  },
  {
   "cell_type": "code",
   "execution_count": 18,
   "metadata": {},
   "outputs": [],
   "source": [
    "def upsample(features, target, repeat):\n",
    "    features_zeros = features[target == 0]\n",
    "    features_ones = features[target == 1]\n",
    "    target_zeros = target[target == 0]\n",
    "    target_ones = target[target == 1]\n",
    "    \n",
    "    features_upsampled = pd.concat([features_zeros] + [features_ones] * repeat)\n",
    "    target_upsampled = pd.concat([target_zeros] + [target_ones] * repeat)\n",
    "\n",
    "    features_upsampled, target_upsampled = shuffle(features_upsampled, target_upsampled, random_state=12345)\n",
    "\n",
    "    return features_upsampled, target_upsampled"
   ]
  },
  {
   "cell_type": "code",
   "execution_count": 19,
   "metadata": {
    "scrolled": false
   },
   "outputs": [
    {
     "data": {
      "text/plain": [
       "1    0.505947\n",
       "0    0.494053\n",
       "Name: Exited, dtype: float64"
      ]
     },
     "execution_count": 19,
     "metadata": {},
     "output_type": "execute_result"
    }
   ],
   "source": [
    "features_upsampled, target_upsampled = upsample(features_train, target_train, 4)\n",
    "target_upsampled.value_counts(normalize=True)"
   ]
  },
  {
   "cell_type": "code",
   "execution_count": 20,
   "metadata": {},
   "outputs": [
    {
     "name": "stdout",
     "output_type": "stream",
     "text": [
      "F1 лучшей модели: 0.576544315129812\n",
      "Max_depth: 6\n"
     ]
    }
   ],
   "source": [
    "# Дерево решений\n",
    "best_result = 0\n",
    "best_depth = 0\n",
    "for depth in range(1, 20):\n",
    "    model = DecisionTreeClassifier(random_state=12345, max_depth=depth) \n",
    "    model.fit(features_upsampled, target_upsampled)\n",
    "    predictions = model.predict(features_valid)\n",
    "    result = f1_score(target_valid, predictions)\n",
    "    if result > best_result:\n",
    "        best_model_tree = model\n",
    "        best_result = result\n",
    "        best_depth = depth\n",
    "        \n",
    "print(\"F1 лучшей модели:\", best_result)\n",
    "print(\"Max_depth:\", best_depth)"
   ]
  },
  {
   "cell_type": "code",
   "execution_count": 21,
   "metadata": {},
   "outputs": [
    {
     "name": "stdout",
     "output_type": "stream",
     "text": [
      "F1 лучшей модели: 0.6420824295010845\n",
      "n_estimators: 99\n",
      "max_depth: 10\n"
     ]
    }
   ],
   "source": [
    "# Случайный лес\n",
    "best_result = 0\n",
    "best_est = 0\n",
    "best_depth = 0\n",
    "for est in range(30, 110):\n",
    "    for depth in range(10, 20):\n",
    "        model = RandomForestClassifier(random_state=12345, max_depth=depth, n_estimators=est)\n",
    "        model.fit(features_upsampled, target_upsampled)\n",
    "        predictions = model.predict(features_valid)\n",
    "        result = f1_score(target_valid, predictions)\n",
    "        if result > best_result:\n",
    "            best_model_forest = model\n",
    "            best_result = result\n",
    "            best_est = est\n",
    "            best_depth = depth\n",
    "        \n",
    "print(\"F1 лучшей модели:\", best_result)\n",
    "print(\"n_estimators:\", best_est)\n",
    "print('max_depth:', best_depth)"
   ]
  },
  {
   "cell_type": "code",
   "execution_count": 22,
   "metadata": {},
   "outputs": [
    {
     "name": "stdout",
     "output_type": "stream",
     "text": [
      "F1 логистической регрессии на валидационной выборке: 0.5072836332476435\n"
     ]
    }
   ],
   "source": [
    "# Логистическая регрессия\n",
    "model= LogisticRegression(random_state=12345)\n",
    "model.fit(features_upsampled, target_upsampled)\n",
    "predictions = model.predict(features_valid)\n",
    "result = f1_score(target_valid, predictions)\n",
    "\n",
    "print(\"F1 логистической регрессии на валидационной выборке:\", result)"
   ]
  },
  {
   "cell_type": "markdown",
   "metadata": {},
   "source": [
    "### ROC-кривая"
   ]
  },
  {
   "cell_type": "code",
   "execution_count": 23,
   "metadata": {},
   "outputs": [
    {
     "data": {
      "image/png": "[encoded data removed]",
      "text/plain": [
       "<Figure size 432x288 with 1 Axes>"
      ]
     },
     "metadata": {
      "needs_background": "light"
     },
     "output_type": "display_data"
    }
   ],
   "source": [
    "probabilities_valid = model.predict_proba(features_valid)\n",
    "probabilities_one_valid = probabilities_valid[:, 1]\n",
    "fpr, tpr, thresholds =  roc_curve(target_valid, probabilities_one_valid)\n",
    "\n",
    "plt.figure()\n",
    "plt.plot(fpr, tpr, linestyle='-')\n",
    "plt.plot([0, 1], [0, 1], linestyle='--')\n",
    "plt.xlim([0, 1])\n",
    "plt.ylim([0, 1])\n",
    "plt.xlabel('False Positive Rate')\n",
    "plt.ylabel('True Positive Rate')\n",
    "plt.title('ROC-кривая')\n",
    "plt.show()"
   ]
  },
  {
   "cell_type": "code",
   "execution_count": 24,
   "metadata": {},
   "outputs": [
    {
     "data": {
      "text/plain": [
       "0.791881249508368"
      ]
     },
     "execution_count": 24,
     "metadata": {},
     "output_type": "execute_result"
    }
   ],
   "source": [
    "auc_roc = roc_auc_score(target_valid, probabilities_one_valid)\n",
    "auc_roc"
   ]
  },
  {
   "cell_type": "markdown",
   "metadata": {},
   "source": [
    "### Вывод"
   ]
  },
  {
   "cell_type": "markdown",
   "metadata": {},
   "source": [
    "- Были исследованы методы борьбы с дисбалансом: взвешивание классов, upsampling, downsampling, пороговое значение.\n",
    "- При увеличении выборки upsampling достигнуто максимальное значение f1: 0.642.\n",
    "- Отимальное соотношение TPR и FPR даёт площадь AUC-ROC 0,84."
   ]
  },
  {
   "cell_type": "markdown",
   "metadata": {},
   "source": [
    "## Тестирование модели"
   ]
  },
  {
   "cell_type": "code",
   "execution_count": 25,
   "metadata": {},
   "outputs": [],
   "source": [
    "features_full_train = pd.concat([features_train, features_valid])\n",
    "target_full_train = pd.concat([target_train, target_valid])\n",
    "\n",
    "features_upsampled, target_upsampled = upsample(features_full_train, target_full_train, 4)"
   ]
  },
  {
   "cell_type": "code",
   "execution_count": 26,
   "metadata": {},
   "outputs": [
    {
     "name": "stdout",
     "output_type": "stream",
     "text": [
      "CPU times: user 940 ms, sys: 16 µs, total: 940 ms\n",
      "Wall time: 960 ms\n"
     ]
    },
    {
     "data": {
      "text/plain": [
       "0.6343042071197411"
      ]
     },
     "execution_count": 26,
     "metadata": {},
     "output_type": "execute_result"
    }
   ],
   "source": [
    "%%time\n",
    "\n",
    "model = RandomForestClassifier(random_state=12345,  max_depth=10, n_estimators=99)\n",
    "model.fit(features_upsampled, target_upsampled)\n",
    "predictions = model.predict(features_test)\n",
    "\n",
    "f1_score(target_test, predictions)"
   ]
  },
  {
   "cell_type": "code",
   "execution_count": 27,
   "metadata": {},
   "outputs": [
    {
     "data": {
      "image/png": "[encoded data removed]",
      "text/plain": [
       "<Figure size 432x288 with 1 Axes>"
      ]
     },
     "metadata": {
      "needs_background": "light"
     },
     "output_type": "display_data"
    }
   ],
   "source": [
    "probabilities_valid = model.predict_proba(features_test)\n",
    "probabilities_one_valid = probabilities_valid[:, 1]\n",
    "fpr, tpr, thresholds =  roc_curve(target_test, probabilities_one_valid)\n",
    "\n",
    "plt.figure()\n",
    "plt.plot(fpr, tpr, linestyle='-')\n",
    "plt.plot([0, 1], [0, 1], linestyle='--')\n",
    "plt.xlim([0, 1])\n",
    "plt.ylim([0, 1])\n",
    "plt.xlabel('False Positive Rate')\n",
    "plt.ylabel('True Positive Rate')\n",
    "plt.title('ROC-кривая')\n",
    "plt.show()"
   ]
  },
  {
   "cell_type": "code",
   "execution_count": 28,
   "metadata": {},
   "outputs": [
    {
     "data": {
      "text/plain": [
       "0.8682056478666648"
      ]
     },
     "execution_count": 28,
     "metadata": {},
     "output_type": "execute_result"
    }
   ],
   "source": [
    "auc_roc = roc_auc_score(target_test, probabilities_one_valid)\n",
    "auc_roc"
   ]
  },
  {
   "cell_type": "markdown",
   "metadata": {},
   "source": [
    "## Общий вывод"
   ]
  },
  {
   "cell_type": "markdown",
   "metadata": {},
   "source": [
    "- Была определена наиболее подходящая модель и определены её оптимальные гиперпараметры: RandomForestClassifier(random_state=12345,  max_depth=10, n_estimators=99)\n",
    "\n",
    "- Максимальное значение F1 на тестовой выборке: 0.634; AUC-ROC - 0.86."
   ]
  }
 ],
 "metadata": {
  "ExecuteTimeLog": [
   {
    "duration": 71,
    "start_time": "2022-03-17T07:19:05.927Z"
   },
   {
    "duration": 1648,
    "start_time": "2022-03-17T07:19:08.233Z"
   },
   {
    "duration": 131,
    "start_time": "2022-03-17T07:19:13.499Z"
   },
   {
    "duration": 7,
    "start_time": "2022-03-17T07:45:49.322Z"
   },
   {
    "duration": 4,
    "start_time": "2022-03-17T07:46:04.999Z"
   },
   {
    "duration": 12,
    "start_time": "2022-03-17T07:46:09.904Z"
   },
   {
    "duration": 5,
    "start_time": "2022-03-17T07:46:14.447Z"
   },
   {
    "duration": 7,
    "start_time": "2022-03-17T07:49:00.581Z"
   },
   {
    "duration": 100,
    "start_time": "2022-03-17T07:49:27.172Z"
   },
   {
    "duration": 21,
    "start_time": "2022-03-17T07:49:41.260Z"
   },
   {
    "duration": 18,
    "start_time": "2022-03-17T07:50:05.981Z"
   },
   {
    "duration": 20,
    "start_time": "2022-03-17T07:50:23.899Z"
   },
   {
    "duration": 19,
    "start_time": "2022-03-17T07:51:05.204Z"
   },
   {
    "duration": 25,
    "start_time": "2022-03-17T07:51:38.379Z"
   },
   {
    "duration": 5,
    "start_time": "2022-03-17T07:51:55.796Z"
   },
   {
    "duration": 129,
    "start_time": "2022-03-17T07:51:55.804Z"
   },
   {
    "duration": 5,
    "start_time": "2022-03-17T07:51:55.936Z"
   },
   {
    "duration": 7,
    "start_time": "2022-03-17T07:52:02.739Z"
   },
   {
    "duration": 19,
    "start_time": "2022-03-17T07:52:18.106Z"
   },
   {
    "duration": 18,
    "start_time": "2022-03-17T07:52:25.251Z"
   },
   {
    "duration": 22,
    "start_time": "2022-03-17T07:59:58.957Z"
   },
   {
    "duration": 13,
    "start_time": "2022-03-17T08:00:07.924Z"
   },
   {
    "duration": 13,
    "start_time": "2022-03-17T08:00:34.172Z"
   },
   {
    "duration": 129,
    "start_time": "2022-03-17T08:01:20.396Z"
   },
   {
    "duration": 14,
    "start_time": "2022-03-17T08:01:35.091Z"
   },
   {
    "duration": 17,
    "start_time": "2022-03-17T08:02:18.099Z"
   },
   {
    "duration": 7,
    "start_time": "2022-03-17T08:02:24.970Z"
   },
   {
    "duration": 12,
    "start_time": "2022-03-17T08:04:23.145Z"
   },
   {
    "duration": 11,
    "start_time": "2022-03-17T08:07:05.746Z"
   },
   {
    "duration": 11,
    "start_time": "2022-03-17T08:07:15.400Z"
   },
   {
    "duration": 14,
    "start_time": "2022-03-17T08:07:26.567Z"
   },
   {
    "duration": 12,
    "start_time": "2022-03-17T08:07:38.610Z"
   },
   {
    "duration": 7,
    "start_time": "2022-03-17T08:09:29.158Z"
   },
   {
    "duration": 17,
    "start_time": "2022-03-17T08:09:35.798Z"
   },
   {
    "duration": 23,
    "start_time": "2022-03-17T08:09:44.535Z"
   },
   {
    "duration": 12,
    "start_time": "2022-03-17T08:10:08.067Z"
   },
   {
    "duration": 6,
    "start_time": "2022-03-17T08:10:20.246Z"
   },
   {
    "duration": 121,
    "start_time": "2022-03-17T08:10:20.255Z"
   },
   {
    "duration": 15,
    "start_time": "2022-03-17T08:10:38.610Z"
   },
   {
    "duration": 20,
    "start_time": "2022-03-17T08:11:06.201Z"
   },
   {
    "duration": 4,
    "start_time": "2022-03-17T08:11:24.976Z"
   },
   {
    "duration": 123,
    "start_time": "2022-03-17T08:11:24.983Z"
   },
   {
    "duration": 23,
    "start_time": "2022-03-17T08:11:27.158Z"
   },
   {
    "duration": 18,
    "start_time": "2022-03-17T08:12:15.333Z"
   },
   {
    "duration": 10,
    "start_time": "2022-03-17T08:18:51.927Z"
   },
   {
    "duration": 12,
    "start_time": "2022-03-17T08:20:38.469Z"
   },
   {
    "duration": 14,
    "start_time": "2022-03-17T08:20:47.302Z"
   },
   {
    "duration": 17,
    "start_time": "2022-03-17T08:21:24.996Z"
   },
   {
    "duration": 6,
    "start_time": "2022-03-17T08:25:11.434Z"
   },
   {
    "duration": 146,
    "start_time": "2022-03-17T08:25:11.443Z"
   },
   {
    "duration": 19,
    "start_time": "2022-03-17T08:25:11.591Z"
   },
   {
    "duration": 8,
    "start_time": "2022-03-17T08:25:11.613Z"
   },
   {
    "duration": 9,
    "start_time": "2022-03-17T08:25:16.225Z"
   },
   {
    "duration": 24,
    "start_time": "2022-03-17T08:25:17.874Z"
   },
   {
    "duration": 26,
    "start_time": "2022-03-17T08:26:02.633Z"
   },
   {
    "duration": 22,
    "start_time": "2022-03-17T08:26:11.105Z"
   },
   {
    "duration": 10,
    "start_time": "2022-03-17T08:26:14.641Z"
   },
   {
    "duration": 36,
    "start_time": "2022-03-17T08:31:47.849Z"
   },
   {
    "duration": 24,
    "start_time": "2022-03-17T08:40:55.906Z"
   },
   {
    "duration": 11,
    "start_time": "2022-03-17T08:41:01.178Z"
   },
   {
    "duration": 11,
    "start_time": "2022-03-17T08:41:02.544Z"
   },
   {
    "duration": 28,
    "start_time": "2022-03-17T08:41:07.951Z"
   },
   {
    "duration": 33,
    "start_time": "2022-03-17T08:41:45.137Z"
   },
   {
    "duration": 17,
    "start_time": "2022-03-17T08:42:01.802Z"
   },
   {
    "duration": 15,
    "start_time": "2022-03-17T08:43:45.715Z"
   },
   {
    "duration": 1770,
    "start_time": "2022-03-17T08:45:20.269Z"
   },
   {
    "duration": 158,
    "start_time": "2022-03-17T08:45:22.042Z"
   },
   {
    "duration": 25,
    "start_time": "2022-03-17T08:45:22.203Z"
   },
   {
    "duration": 18,
    "start_time": "2022-03-17T08:45:22.232Z"
   },
   {
    "duration": 73,
    "start_time": "2022-03-17T08:45:22.252Z"
   },
   {
    "duration": 18,
    "start_time": "2022-03-17T08:45:22.327Z"
   },
   {
    "duration": 50,
    "start_time": "2022-03-17T08:45:22.347Z"
   },
   {
    "duration": 7,
    "start_time": "2022-03-17T08:52:47.487Z"
   },
   {
    "duration": 10,
    "start_time": "2022-03-17T10:06:57.243Z"
   },
   {
    "duration": 12,
    "start_time": "2022-03-17T10:07:04.791Z"
   },
   {
    "duration": 16,
    "start_time": "2022-03-17T10:08:23.231Z"
   },
   {
    "duration": 1897,
    "start_time": "2022-03-17T10:13:29.708Z"
   },
   {
    "duration": 144,
    "start_time": "2022-03-17T10:13:31.609Z"
   },
   {
    "duration": 39,
    "start_time": "2022-03-17T10:13:31.756Z"
   },
   {
    "duration": 12,
    "start_time": "2022-03-17T10:13:31.798Z"
   },
   {
    "duration": 75,
    "start_time": "2022-03-17T10:13:31.812Z"
   },
   {
    "duration": 28,
    "start_time": "2022-03-17T10:13:31.890Z"
   },
   {
    "duration": 17,
    "start_time": "2022-03-17T10:13:31.920Z"
   },
   {
    "duration": 37,
    "start_time": "2022-03-17T10:13:31.939Z"
   },
   {
    "duration": 25,
    "start_time": "2022-03-17T10:13:31.979Z"
   },
   {
    "duration": 194,
    "start_time": "2022-03-17T10:13:32.009Z"
   },
   {
    "duration": 28,
    "start_time": "2022-03-17T10:14:47.430Z"
   },
   {
    "duration": 14,
    "start_time": "2022-03-17T10:15:23.645Z"
   },
   {
    "duration": 7,
    "start_time": "2022-03-17T10:15:26.086Z"
   },
   {
    "duration": 9,
    "start_time": "2022-03-17T10:15:28.630Z"
   },
   {
    "duration": 769,
    "start_time": "2022-03-17T10:15:31.734Z"
   },
   {
    "duration": 649,
    "start_time": "2022-03-17T10:16:49.869Z"
   },
   {
    "duration": 2170,
    "start_time": "2022-03-17T10:19:14.140Z"
   },
   {
    "duration": 42,
    "start_time": "2022-03-17T10:19:31.468Z"
   },
   {
    "duration": 2148,
    "start_time": "2022-03-17T10:21:00.499Z"
   },
   {
    "duration": 13728,
    "start_time": "2022-03-17T10:21:24.586Z"
   },
   {
    "duration": 46744,
    "start_time": "2022-03-17T10:22:04.073Z"
   },
   {
    "duration": 44347,
    "start_time": "2022-03-17T10:32:33.742Z"
   },
   {
    "duration": 51500,
    "start_time": "2022-03-17T10:34:46.225Z"
   },
   {
    "duration": 4542,
    "start_time": "2022-03-17T10:35:56.621Z"
   },
   {
    "duration": 4318,
    "start_time": "2022-03-17T10:36:18.045Z"
   },
   {
    "duration": 488,
    "start_time": "2022-03-17T10:38:32.219Z"
   },
   {
    "duration": 410,
    "start_time": "2022-03-17T10:40:19.582Z"
   },
   {
    "duration": 223,
    "start_time": "2022-03-17T10:41:15.459Z"
   },
   {
    "duration": 574,
    "start_time": "2022-03-17T10:42:23.378Z"
   },
   {
    "duration": 221,
    "start_time": "2022-03-17T10:42:28.954Z"
   },
   {
    "duration": 11,
    "start_time": "2022-03-17T10:47:22.495Z"
   },
   {
    "duration": 10,
    "start_time": "2022-03-17T10:47:34.839Z"
   },
   {
    "duration": 12,
    "start_time": "2022-03-17T10:48:37.871Z"
   },
   {
    "duration": 10,
    "start_time": "2022-03-17T10:48:46.046Z"
   },
   {
    "duration": 9,
    "start_time": "2022-03-17T10:54:27.717Z"
   },
   {
    "duration": 1575,
    "start_time": "2022-03-17T10:55:03.560Z"
   },
   {
    "duration": 137,
    "start_time": "2022-03-17T10:55:05.138Z"
   },
   {
    "duration": 21,
    "start_time": "2022-03-17T10:55:05.277Z"
   },
   {
    "duration": 9,
    "start_time": "2022-03-17T10:55:05.300Z"
   },
   {
    "duration": 65,
    "start_time": "2022-03-17T10:55:05.311Z"
   },
   {
    "duration": 18,
    "start_time": "2022-03-17T10:55:05.378Z"
   },
   {
    "duration": 18,
    "start_time": "2022-03-17T10:55:05.399Z"
   },
   {
    "duration": 13,
    "start_time": "2022-03-17T10:55:05.419Z"
   },
   {
    "duration": 44,
    "start_time": "2022-03-17T10:55:05.434Z"
   },
   {
    "duration": 630,
    "start_time": "2022-03-17T10:55:05.483Z"
   },
   {
    "duration": 51383,
    "start_time": "2022-03-17T10:55:06.115Z"
   },
   {
    "duration": 5026,
    "start_time": "2022-03-17T10:55:57.501Z"
   },
   {
    "duration": 521,
    "start_time": "2022-03-17T10:56:02.529Z"
   },
   {
    "duration": 421,
    "start_time": "2022-03-17T10:56:03.053Z"
   },
   {
    "duration": 9,
    "start_time": "2022-03-17T10:56:03.477Z"
   },
   {
    "duration": 460,
    "start_time": "2022-03-17T10:56:31.331Z"
   },
   {
    "duration": 237,
    "start_time": "2022-03-17T10:56:39.538Z"
   },
   {
    "duration": 978,
    "start_time": "2022-03-17T10:57:21.010Z"
   },
   {
    "duration": 200,
    "start_time": "2022-03-17T10:57:31.082Z"
   },
   {
    "duration": 184,
    "start_time": "2022-03-17T10:57:57.506Z"
   },
   {
    "duration": 9,
    "start_time": "2022-03-17T10:58:23.121Z"
   },
   {
    "duration": 45,
    "start_time": "2022-03-17T15:25:23.758Z"
   },
   {
    "duration": 3,
    "start_time": "2022-03-17T15:25:32.381Z"
   },
   {
    "duration": 1159,
    "start_time": "2022-03-17T15:25:36.603Z"
   },
   {
    "duration": 83,
    "start_time": "2022-03-17T15:25:37.763Z"
   },
   {
    "duration": 13,
    "start_time": "2022-03-17T15:25:37.847Z"
   },
   {
    "duration": 21,
    "start_time": "2022-03-17T15:25:37.862Z"
   },
   {
    "duration": 36,
    "start_time": "2022-03-17T15:25:37.885Z"
   },
   {
    "duration": 10,
    "start_time": "2022-03-17T15:25:37.922Z"
   },
   {
    "duration": 15,
    "start_time": "2022-03-17T15:25:37.933Z"
   },
   {
    "duration": 10,
    "start_time": "2022-03-17T15:25:37.950Z"
   },
   {
    "duration": 18,
    "start_time": "2022-03-17T15:25:37.961Z"
   },
   {
    "duration": 396,
    "start_time": "2022-03-17T15:25:37.980Z"
   },
   {
    "duration": 30978,
    "start_time": "2022-03-17T15:25:38.381Z"
   },
   {
    "duration": 2612,
    "start_time": "2022-03-17T15:26:09.360Z"
   },
   {
    "duration": 277,
    "start_time": "2022-03-17T15:26:11.974Z"
   },
   {
    "duration": 237,
    "start_time": "2022-03-17T15:26:12.253Z"
   },
   {
    "duration": 3,
    "start_time": "2022-03-17T15:26:12.582Z"
   },
   {
    "duration": 4,
    "start_time": "2022-03-17T15:26:58.483Z"
   },
   {
    "duration": 61,
    "start_time": "2022-03-17T15:27:00.508Z"
   },
   {
    "duration": 3,
    "start_time": "2022-03-17T15:27:41.083Z"
   },
   {
    "duration": 14,
    "start_time": "2022-03-17T15:27:42.900Z"
   },
   {
    "duration": 4,
    "start_time": "2022-03-17T15:28:01.304Z"
   },
   {
    "duration": 15,
    "start_time": "2022-03-17T15:28:02.817Z"
   },
   {
    "duration": 4,
    "start_time": "2022-03-17T15:29:14.797Z"
   },
   {
    "duration": 85,
    "start_time": "2022-03-17T15:29:14.803Z"
   },
   {
    "duration": 13,
    "start_time": "2022-03-17T15:29:14.889Z"
   },
   {
    "duration": 5,
    "start_time": "2022-03-17T15:29:14.903Z"
   },
   {
    "duration": 22,
    "start_time": "2022-03-17T15:29:14.910Z"
   },
   {
    "duration": 10,
    "start_time": "2022-03-17T15:29:14.934Z"
   },
   {
    "duration": 17,
    "start_time": "2022-03-17T15:29:14.945Z"
   },
   {
    "duration": 18,
    "start_time": "2022-03-17T15:29:14.963Z"
   },
   {
    "duration": 5,
    "start_time": "2022-03-17T15:29:14.983Z"
   },
   {
    "duration": 2,
    "start_time": "2022-03-17T15:29:15.220Z"
   },
   {
    "duration": 5,
    "start_time": "2022-03-17T15:29:15.224Z"
   },
   {
    "duration": 4,
    "start_time": "2022-03-17T15:29:17.063Z"
   },
   {
    "duration": 15,
    "start_time": "2022-03-17T15:29:18.698Z"
   },
   {
    "duration": 11,
    "start_time": "2022-03-17T15:29:57.958Z"
   },
   {
    "duration": 14,
    "start_time": "2022-03-17T15:30:12.313Z"
   },
   {
    "duration": 10,
    "start_time": "2022-03-17T15:30:22.745Z"
   },
   {
    "duration": 392,
    "start_time": "2022-03-17T15:32:02.748Z"
   },
   {
    "duration": 388,
    "start_time": "2022-03-17T15:32:16.828Z"
   },
   {
    "duration": 405,
    "start_time": "2022-03-17T15:32:39.428Z"
   },
   {
    "duration": 843,
    "start_time": "2022-03-17T15:32:45.794Z"
   },
   {
    "duration": 1249,
    "start_time": "2022-03-17T15:32:52.282Z"
   },
   {
    "duration": 1645,
    "start_time": "2022-03-17T15:33:29.509Z"
   },
   {
    "duration": 39,
    "start_time": "2022-03-17T15:34:22.115Z"
   },
   {
    "duration": 31,
    "start_time": "2022-03-17T15:34:30.690Z"
   },
   {
    "duration": 42,
    "start_time": "2022-03-17T15:34:34.988Z"
   },
   {
    "duration": 32,
    "start_time": "2022-03-17T15:34:38.821Z"
   },
   {
    "duration": 28,
    "start_time": "2022-03-17T15:34:42.633Z"
   },
   {
    "duration": 27,
    "start_time": "2022-03-17T15:34:47.444Z"
   },
   {
    "duration": 26,
    "start_time": "2022-03-17T15:34:51.093Z"
   },
   {
    "duration": 26,
    "start_time": "2022-03-17T15:34:54.537Z"
   },
   {
    "duration": 28,
    "start_time": "2022-03-17T15:34:59.051Z"
   },
   {
    "duration": 185,
    "start_time": "2022-03-17T15:35:49.200Z"
   },
   {
    "duration": 118,
    "start_time": "2022-03-17T15:35:57.874Z"
   },
   {
    "duration": 395,
    "start_time": "2022-03-17T15:36:45.980Z"
   },
   {
    "duration": 389,
    "start_time": "2022-03-17T15:36:49.959Z"
   },
   {
    "duration": 188,
    "start_time": "2022-03-17T15:36:52.698Z"
   },
   {
    "duration": 25156,
    "start_time": "2022-03-17T15:37:50.057Z"
   },
   {
    "duration": 78813,
    "start_time": "2022-03-17T15:39:06.645Z"
   },
   {
    "duration": 13359,
    "start_time": "2022-03-17T15:40:41.748Z"
   },
   {
    "duration": 15198,
    "start_time": "2022-03-17T15:41:40.872Z"
   },
   {
    "duration": 1044,
    "start_time": "2022-03-17T15:44:36.751Z"
   },
   {
    "duration": 75616,
    "start_time": "2022-03-17T15:45:15.503Z"
   },
   {
    "duration": 22060,
    "start_time": "2022-03-17T15:46:31.121Z"
   },
   {
    "duration": 1502,
    "start_time": "2022-03-17T15:47:16.392Z"
   },
   {
    "duration": 1900,
    "start_time": "2022-03-17T15:47:38.428Z"
   },
   {
    "duration": 4,
    "start_time": "2022-03-17T15:52:06.972Z"
   },
   {
    "duration": 11,
    "start_time": "2022-03-17T15:52:29.500Z"
   },
   {
    "duration": 11,
    "start_time": "2022-03-17T15:53:14.045Z"
   },
   {
    "duration": 12,
    "start_time": "2022-03-17T15:55:06.922Z"
   },
   {
    "duration": 1599,
    "start_time": "2022-03-18T05:06:22.326Z"
   },
   {
    "duration": 193,
    "start_time": "2022-03-18T05:06:23.928Z"
   },
   {
    "duration": 23,
    "start_time": "2022-03-18T05:06:24.123Z"
   },
   {
    "duration": 37,
    "start_time": "2022-03-18T05:06:24.150Z"
   },
   {
    "duration": 46,
    "start_time": "2022-03-18T05:06:24.190Z"
   },
   {
    "duration": 19,
    "start_time": "2022-03-18T05:06:24.238Z"
   },
   {
    "duration": 39,
    "start_time": "2022-03-18T05:06:24.259Z"
   },
   {
    "duration": 7,
    "start_time": "2022-03-18T05:06:24.301Z"
   },
   {
    "duration": 14,
    "start_time": "2022-03-18T05:06:24.310Z"
   },
   {
    "duration": 3,
    "start_time": "2022-03-18T05:06:24.328Z"
   },
   {
    "duration": 51,
    "start_time": "2022-03-18T05:06:24.333Z"
   },
   {
    "duration": 21,
    "start_time": "2022-03-18T05:06:24.387Z"
   },
   {
    "duration": 154,
    "start_time": "2022-03-18T05:06:24.410Z"
   },
   {
    "duration": 0,
    "start_time": "2022-03-18T05:06:24.566Z"
   },
   {
    "duration": 0,
    "start_time": "2022-03-18T05:06:24.568Z"
   },
   {
    "duration": 1,
    "start_time": "2022-03-18T05:06:24.569Z"
   },
   {
    "duration": 6,
    "start_time": "2022-03-18T05:06:29.757Z"
   },
   {
    "duration": 18,
    "start_time": "2022-03-18T05:06:34.518Z"
   },
   {
    "duration": 636,
    "start_time": "2022-03-18T05:10:17.877Z"
   },
   {
    "duration": 627,
    "start_time": "2022-03-18T05:11:03.987Z"
   },
   {
    "duration": 600,
    "start_time": "2022-03-18T05:13:10.995Z"
   },
   {
    "duration": 2543,
    "start_time": "2022-03-18T05:13:14.747Z"
   },
   {
    "duration": 7,
    "start_time": "2022-03-18T05:13:21.738Z"
   },
   {
    "duration": 17,
    "start_time": "2022-03-18T05:13:23.946Z"
   },
   {
    "duration": 287,
    "start_time": "2022-03-18T05:14:07.113Z"
   },
   {
    "duration": 43887,
    "start_time": "2022-03-18T05:14:32.323Z"
   },
   {
    "duration": 14726,
    "start_time": "2022-03-18T05:15:16.214Z"
   },
   {
    "duration": 21867,
    "start_time": "2022-03-18T05:15:34.385Z"
   },
   {
    "duration": 21428,
    "start_time": "2022-03-18T05:16:18.473Z"
   },
   {
    "duration": 38435,
    "start_time": "2022-03-18T05:16:57.921Z"
   },
   {
    "duration": 28859,
    "start_time": "2022-03-18T05:18:02.896Z"
   },
   {
    "duration": 1840,
    "start_time": "2022-03-18T05:23:30.932Z"
   },
   {
    "duration": 1703,
    "start_time": "2022-03-18T05:23:45.476Z"
   },
   {
    "duration": 1523,
    "start_time": "2022-03-18T05:24:08.781Z"
   },
   {
    "duration": 1514,
    "start_time": "2022-03-18T05:24:28.413Z"
   },
   {
    "duration": 638,
    "start_time": "2022-03-18T05:25:00.390Z"
   },
   {
    "duration": 51681,
    "start_time": "2022-03-18T05:25:26.149Z"
   },
   {
    "duration": 52807,
    "start_time": "2022-03-18T05:26:32.413Z"
   },
   {
    "duration": 3962,
    "start_time": "2022-03-18T05:27:46.396Z"
   },
   {
    "duration": 2185,
    "start_time": "2022-03-18T05:28:15.420Z"
   },
   {
    "duration": 334,
    "start_time": "2022-03-18T05:28:30.163Z"
   },
   {
    "duration": 120,
    "start_time": "2022-03-18T05:47:30.667Z"
   },
   {
    "duration": 9,
    "start_time": "2022-03-18T05:48:02.010Z"
   },
   {
    "duration": 257,
    "start_time": "2022-03-18T05:48:05.309Z"
   },
   {
    "duration": 510,
    "start_time": "2022-03-18T05:48:21.297Z"
   },
   {
    "duration": 2800,
    "start_time": "2022-03-18T05:54:27.967Z"
   },
   {
    "duration": 8,
    "start_time": "2022-03-18T05:58:06.142Z"
   },
   {
    "duration": 20,
    "start_time": "2022-03-18T06:00:03.093Z"
   },
   {
    "duration": 15,
    "start_time": "2022-03-18T06:00:24.837Z"
   },
   {
    "duration": 808,
    "start_time": "2022-03-18T06:00:42.268Z"
   },
   {
    "duration": 41,
    "start_time": "2022-03-18T06:00:48.597Z"
   },
   {
    "duration": 238,
    "start_time": "2022-03-18T06:00:55.604Z"
   },
   {
    "duration": 9,
    "start_time": "2022-03-18T06:01:06.790Z"
   },
   {
    "duration": 189,
    "start_time": "2022-03-18T06:01:06.803Z"
   },
   {
    "duration": 31,
    "start_time": "2022-03-18T06:01:06.995Z"
   },
   {
    "duration": 11,
    "start_time": "2022-03-18T06:01:07.030Z"
   },
   {
    "duration": 79,
    "start_time": "2022-03-18T06:01:07.043Z"
   },
   {
    "duration": 19,
    "start_time": "2022-03-18T06:01:07.125Z"
   },
   {
    "duration": 48,
    "start_time": "2022-03-18T06:01:07.146Z"
   },
   {
    "duration": 7,
    "start_time": "2022-03-18T06:01:07.197Z"
   },
   {
    "duration": 17,
    "start_time": "2022-03-18T06:01:07.206Z"
   },
   {
    "duration": 5,
    "start_time": "2022-03-18T06:01:07.227Z"
   },
   {
    "duration": 435,
    "start_time": "2022-03-18T06:01:07.234Z"
   },
   {
    "duration": 8,
    "start_time": "2022-03-18T06:01:07.683Z"
   },
   {
    "duration": 30,
    "start_time": "2022-03-18T06:01:07.694Z"
   },
   {
    "duration": 2881,
    "start_time": "2022-03-18T06:01:07.728Z"
   },
   {
    "duration": 8,
    "start_time": "2022-03-18T06:01:10.612Z"
   },
   {
    "duration": 24,
    "start_time": "2022-03-18T06:01:10.623Z"
   },
   {
    "duration": 3253,
    "start_time": "2022-03-18T06:01:10.650Z"
   },
   {
    "duration": 2776,
    "start_time": "2022-03-18T06:30:39.414Z"
   },
   {
    "duration": 188,
    "start_time": "2022-03-18T06:30:47.198Z"
   },
   {
    "duration": 11,
    "start_time": "2022-03-18T06:30:49.485Z"
   },
   {
    "duration": 219,
    "start_time": "2022-03-18T06:32:21.685Z"
   },
   {
    "duration": 190,
    "start_time": "2022-03-18T06:36:31.772Z"
   },
   {
    "duration": 188,
    "start_time": "2022-03-18T06:36:38.931Z"
   },
   {
    "duration": 196,
    "start_time": "2022-03-18T06:36:43.356Z"
   },
   {
    "duration": 195,
    "start_time": "2022-03-18T06:36:59.980Z"
   },
   {
    "duration": 259,
    "start_time": "2022-03-18T06:37:24.539Z"
   },
   {
    "duration": 2583,
    "start_time": "2022-03-18T06:41:11.482Z"
   },
   {
    "duration": 2478,
    "start_time": "2022-03-18T06:44:13.527Z"
   },
   {
    "duration": 8,
    "start_time": "2022-03-18T06:54:17.021Z"
   },
   {
    "duration": 2494,
    "start_time": "2022-03-18T07:23:33.731Z"
   },
   {
    "duration": 159,
    "start_time": "2022-03-18T07:23:36.228Z"
   },
   {
    "duration": 22,
    "start_time": "2022-03-18T07:23:36.390Z"
   },
   {
    "duration": 48,
    "start_time": "2022-03-18T07:23:36.416Z"
   },
   {
    "duration": 43,
    "start_time": "2022-03-18T07:23:36.466Z"
   },
   {
    "duration": 15,
    "start_time": "2022-03-18T07:23:36.512Z"
   },
   {
    "duration": 7,
    "start_time": "2022-03-18T07:23:36.529Z"
   },
   {
    "duration": 17,
    "start_time": "2022-03-18T07:23:36.538Z"
   },
   {
    "duration": 848,
    "start_time": "2022-03-18T07:23:36.584Z"
   },
   {
    "duration": 2317,
    "start_time": "2022-03-18T07:24:14.168Z"
   },
   {
    "duration": 131,
    "start_time": "2022-03-18T07:24:16.489Z"
   },
   {
    "duration": 23,
    "start_time": "2022-03-18T07:24:16.622Z"
   },
   {
    "duration": 39,
    "start_time": "2022-03-18T07:24:16.648Z"
   },
   {
    "duration": 54,
    "start_time": "2022-03-18T07:24:16.689Z"
   },
   {
    "duration": 41,
    "start_time": "2022-03-18T07:24:16.747Z"
   },
   {
    "duration": 6,
    "start_time": "2022-03-18T07:24:16.791Z"
   },
   {
    "duration": 17,
    "start_time": "2022-03-18T07:24:16.800Z"
   },
   {
    "duration": 652,
    "start_time": "2022-03-18T07:24:16.820Z"
   },
   {
    "duration": 55558,
    "start_time": "2022-03-18T07:24:17.483Z"
   },
   {
    "duration": 4661,
    "start_time": "2022-03-18T07:25:13.043Z"
   },
   {
    "duration": 487,
    "start_time": "2022-03-18T07:25:17.706Z"
   },
   {
    "duration": 54649,
    "start_time": "2022-03-18T07:25:18.283Z"
   },
   {
    "duration": 2532,
    "start_time": "2022-03-18T07:26:12.935Z"
   },
   {
    "duration": 397,
    "start_time": "2022-03-18T07:26:15.469Z"
   },
   {
    "duration": 16,
    "start_time": "2022-03-18T07:26:15.869Z"
   },
   {
    "duration": 31,
    "start_time": "2022-03-18T07:26:15.888Z"
   },
   {
    "duration": 139228,
    "start_time": "2022-03-18T07:26:15.922Z"
   },
   {
    "duration": 40295,
    "start_time": "2022-03-18T07:28:35.154Z"
   },
   {
    "duration": 2807,
    "start_time": "2022-03-18T07:29:15.452Z"
   },
   {
    "duration": 360,
    "start_time": "2022-03-18T07:29:18.262Z"
   },
   {
    "duration": 13,
    "start_time": "2022-03-18T07:29:18.625Z"
   },
   {
    "duration": 2818,
    "start_time": "2022-03-18T07:29:18.640Z"
   },
   {
    "duration": 331,
    "start_time": "2022-03-18T07:29:21.460Z"
   },
   {
    "duration": 10,
    "start_time": "2022-03-18T07:30:55.784Z"
   },
   {
    "duration": 1645,
    "start_time": "2022-03-20T16:50:58.246Z"
   },
   {
    "duration": 94,
    "start_time": "2022-03-20T16:50:59.893Z"
   },
   {
    "duration": 14,
    "start_time": "2022-03-20T16:50:59.989Z"
   },
   {
    "duration": 5,
    "start_time": "2022-03-20T16:51:00.004Z"
   },
   {
    "duration": 96,
    "start_time": "2022-03-20T16:51:02.310Z"
   },
   {
    "duration": 20,
    "start_time": "2022-03-20T16:51:26.207Z"
   },
   {
    "duration": 19,
    "start_time": "2022-03-20T16:53:20.794Z"
   },
   {
    "duration": 11,
    "start_time": "2022-03-20T16:53:38.232Z"
   },
   {
    "duration": 3,
    "start_time": "2022-03-20T16:55:26.181Z"
   },
   {
    "duration": 1555,
    "start_time": "2022-03-20T16:55:26.186Z"
   },
   {
    "duration": 12,
    "start_time": "2022-03-20T16:55:27.743Z"
   },
   {
    "duration": 6,
    "start_time": "2022-03-20T16:55:27.757Z"
   },
   {
    "duration": 19,
    "start_time": "2022-03-20T16:55:33.343Z"
   },
   {
    "duration": 3,
    "start_time": "2022-03-20T16:57:02.379Z"
   },
   {
    "duration": 13,
    "start_time": "2022-03-20T16:57:35.890Z"
   },
   {
    "duration": 4,
    "start_time": "2022-03-20T16:57:43.855Z"
   },
   {
    "duration": 5,
    "start_time": "2022-03-20T16:59:59.129Z"
   },
   {
    "duration": 12,
    "start_time": "2022-03-20T17:01:00.010Z"
   },
   {
    "duration": 11,
    "start_time": "2022-03-20T17:07:57.275Z"
   },
   {
    "duration": 30,
    "start_time": "2022-03-20T17:13:07.374Z"
   },
   {
    "duration": 37,
    "start_time": "2022-03-20T17:13:25.393Z"
   },
   {
    "duration": 37,
    "start_time": "2022-03-20T17:14:02.996Z"
   },
   {
    "duration": 35,
    "start_time": "2022-03-20T17:14:28.869Z"
   },
   {
    "duration": 35,
    "start_time": "2022-03-20T17:14:39.422Z"
   },
   {
    "duration": 3,
    "start_time": "2022-03-20T17:14:49.518Z"
   },
   {
    "duration": 84,
    "start_time": "2022-03-20T17:14:49.524Z"
   },
   {
    "duration": 12,
    "start_time": "2022-03-20T17:14:49.610Z"
   },
   {
    "duration": 5,
    "start_time": "2022-03-20T17:14:49.625Z"
   },
   {
    "duration": 12,
    "start_time": "2022-03-20T17:14:49.631Z"
   },
   {
    "duration": 40,
    "start_time": "2022-03-20T17:14:49.644Z"
   },
   {
    "duration": 4,
    "start_time": "2022-03-20T17:14:49.686Z"
   },
   {
    "duration": 6,
    "start_time": "2022-03-20T17:14:49.692Z"
   },
   {
    "duration": 15,
    "start_time": "2022-03-20T17:14:49.700Z"
   },
   {
    "duration": 36,
    "start_time": "2022-03-20T17:14:51.585Z"
   },
   {
    "duration": 28,
    "start_time": "2022-03-20T17:15:23.978Z"
   },
   {
    "duration": 9,
    "start_time": "2022-03-20T17:21:54.055Z"
   },
   {
    "duration": 4,
    "start_time": "2022-03-20T17:22:09.530Z"
   },
   {
    "duration": 108,
    "start_time": "2022-03-20T17:22:20.313Z"
   },
   {
    "duration": 107,
    "start_time": "2022-03-20T17:22:52.748Z"
   },
   {
    "duration": 101,
    "start_time": "2022-03-20T17:23:02.684Z"
   },
   {
    "duration": 99,
    "start_time": "2022-03-20T17:26:15.823Z"
   },
   {
    "duration": 21,
    "start_time": "2022-03-20T17:29:07.904Z"
   },
   {
    "duration": 4,
    "start_time": "2022-03-20T17:31:21.925Z"
   },
   {
    "duration": 83,
    "start_time": "2022-03-20T17:31:21.930Z"
   },
   {
    "duration": 12,
    "start_time": "2022-03-20T17:31:22.014Z"
   },
   {
    "duration": 6,
    "start_time": "2022-03-20T17:31:22.028Z"
   },
   {
    "duration": 11,
    "start_time": "2022-03-20T17:31:22.035Z"
   },
   {
    "duration": 36,
    "start_time": "2022-03-20T17:31:22.047Z"
   },
   {
    "duration": 13,
    "start_time": "2022-03-20T17:31:22.084Z"
   },
   {
    "duration": 4,
    "start_time": "2022-03-20T17:31:22.098Z"
   },
   {
    "duration": 5,
    "start_time": "2022-03-20T17:31:22.105Z"
   },
   {
    "duration": 12,
    "start_time": "2022-03-20T17:31:22.111Z"
   },
   {
    "duration": 23,
    "start_time": "2022-03-20T17:31:22.124Z"
   },
   {
    "duration": 133,
    "start_time": "2022-03-20T17:31:22.148Z"
   },
   {
    "duration": 387,
    "start_time": "2022-03-20T17:32:13.356Z"
   },
   {
    "duration": 295200,
    "start_time": "2022-03-20T17:32:33.436Z"
   },
   {
    "duration": 271967,
    "start_time": "2022-03-20T17:44:05.047Z"
   },
   {
    "duration": 409,
    "start_time": "2022-03-20T17:49:52.585Z"
   },
   {
    "duration": 30501,
    "start_time": "2022-03-20T17:51:32.851Z"
   },
   {
    "duration": 404,
    "start_time": "2022-03-20T17:52:40.624Z"
   },
   {
    "duration": 407,
    "start_time": "2022-03-20T17:52:59.643Z"
   },
   {
    "duration": 273998,
    "start_time": "2022-03-20T17:53:11.284Z"
   },
   {
    "duration": 55,
    "start_time": "2022-03-20T17:58:23.235Z"
   },
   {
    "duration": 4,
    "start_time": "2022-03-20T18:35:37.981Z"
   },
   {
    "duration": 13,
    "start_time": "2022-03-20T18:35:44.939Z"
   },
   {
    "duration": 395,
    "start_time": "2022-03-20T18:38:44.275Z"
   },
   {
    "duration": 497,
    "start_time": "2022-03-20T18:42:28.089Z"
   },
   {
    "duration": 362918,
    "start_time": "2022-03-20T18:43:32.820Z"
   },
   {
    "duration": 173,
    "start_time": "2022-03-20T18:49:55.909Z"
   },
   {
    "duration": 233,
    "start_time": "2022-03-20T18:59:08.933Z"
   },
   {
    "duration": 5,
    "start_time": "2022-03-20T18:59:12.010Z"
   },
   {
    "duration": 451256,
    "start_time": "2022-03-20T19:07:10.863Z"
   },
   {
    "duration": 150,
    "start_time": "2022-03-20T19:14:57.536Z"
   },
   {
    "duration": 232,
    "start_time": "2022-03-20T19:15:01.032Z"
   },
   {
    "duration": 12,
    "start_time": "2022-03-20T19:24:12.224Z"
   },
   {
    "duration": 625,
    "start_time": "2022-03-20T19:24:49.188Z"
   },
   {
    "duration": 881,
    "start_time": "2022-03-20T19:26:22.650Z"
   },
   {
    "duration": 552,
    "start_time": "2022-03-20T19:26:39.621Z"
   },
   {
    "duration": 895,
    "start_time": "2022-03-20T19:26:45.519Z"
   },
   {
    "duration": 135,
    "start_time": "2022-03-20T19:26:52.705Z"
   },
   {
    "duration": 7,
    "start_time": "2022-03-20T19:26:55.460Z"
   },
   {
    "duration": 584709,
    "start_time": "2022-03-20T19:31:11.780Z"
   },
   {
    "duration": 590778,
    "start_time": "2022-03-20T19:41:42.225Z"
   },
   {
    "duration": 916,
    "start_time": "2022-03-20T19:51:59.044Z"
   },
   {
    "duration": 134,
    "start_time": "2022-03-20T19:53:09.334Z"
   },
   {
    "duration": 6,
    "start_time": "2022-03-20T19:53:11.268Z"
   },
   {
    "duration": 1549,
    "start_time": "2022-03-20T19:54:08.682Z"
   },
   {
    "duration": 93,
    "start_time": "2022-03-20T19:54:10.233Z"
   },
   {
    "duration": 13,
    "start_time": "2022-03-20T19:54:10.327Z"
   },
   {
    "duration": 5,
    "start_time": "2022-03-20T19:54:10.342Z"
   },
   {
    "duration": 20,
    "start_time": "2022-03-20T19:54:10.349Z"
   },
   {
    "duration": 33,
    "start_time": "2022-03-20T19:54:10.371Z"
   },
   {
    "duration": 28,
    "start_time": "2022-03-20T19:54:10.405Z"
   },
   {
    "duration": 9,
    "start_time": "2022-03-20T19:54:10.435Z"
   },
   {
    "duration": 13,
    "start_time": "2022-03-20T19:54:10.446Z"
   },
   {
    "duration": 37,
    "start_time": "2022-03-20T19:54:10.462Z"
   },
   {
    "duration": 115,
    "start_time": "2022-03-20T19:54:10.501Z"
   },
   {
    "duration": 417,
    "start_time": "2022-03-20T19:54:10.617Z"
   },
   {
    "duration": 277269,
    "start_time": "2022-03-20T19:54:11.035Z"
   },
   {
    "duration": 183,
    "start_time": "2022-03-20T19:58:48.306Z"
   },
   {
    "duration": 592,
    "start_time": "2022-03-20T19:58:48.491Z"
   },
   {
    "duration": 268296,
    "start_time": "2022-03-20T19:58:49.085Z"
   },
   {
    "duration": 109,
    "start_time": "2022-03-20T20:03:17.382Z"
   },
   {
    "duration": 8,
    "start_time": "2022-03-20T20:03:17.583Z"
   },
   {
    "duration": 17,
    "start_time": "2022-03-20T20:03:17.681Z"
   },
   {
    "duration": 495,
    "start_time": "2022-03-20T20:03:17.700Z"
   },
   {
    "duration": 453655,
    "start_time": "2022-03-20T20:03:18.197Z"
   },
   {
    "duration": 227,
    "start_time": "2022-03-20T20:10:51.854Z"
   },
   {
    "duration": 331,
    "start_time": "2022-03-20T20:10:52.084Z"
   },
   {
    "duration": 7,
    "start_time": "2022-03-20T20:10:52.417Z"
   },
   {
    "duration": 12,
    "start_time": "2022-03-20T20:10:52.426Z"
   },
   {
    "duration": 965,
    "start_time": "2022-03-20T20:10:52.440Z"
   },
   {
    "duration": 147,
    "start_time": "2022-03-20T20:10:53.407Z"
   },
   {
    "duration": 5,
    "start_time": "2022-03-20T20:10:53.557Z"
   }
  ],
  "kernelspec": {
   "display_name": "Python 3 (ipykernel)",
   "language": "python",
   "name": "python3"
  },
  "language_info": {
   "codemirror_mode": {
    "name": "ipython",
    "version": 3
   },
   "file_extension": ".py",
   "mimetype": "text/x-python",
   "name": "python",
   "nbconvert_exporter": "python",
   "pygments_lexer": "ipython3",
   "version": "3.9.7"
  },
  "toc": {
   "base_numbering": 1,
   "nav_menu": {},
   "number_sections": true,
   "sideBar": true,
   "skip_h1_title": true,
   "title_cell": "Содержание",
   "title_sidebar": "Contents",
   "toc_cell": true,
   "toc_position": {
    "height": "calc(100% - 180px)",
    "left": "10px",
    "top": "150px",
    "width": "366.391px"
   },
   "toc_section_display": true,
   "toc_window_display": true
  }
 },
 "nbformat": 4,
 "nbformat_minor": 2
}
